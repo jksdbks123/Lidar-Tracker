{
 "cells": [
  {
   "cell_type": "code",
   "execution_count": 1,
   "id": "6531224c",
   "metadata": {},
   "outputs": [
    {
     "name": "stdout",
     "output_type": "stream",
     "text": [
      "Jupyter environment detected. Enabling Open3D WebVisualizer.\n",
      "[Open3D INFO] WebRTC GUI backend enabled.\n",
      "[Open3D INFO] WebRTCWindowSystem: HTTP handshake server disabled.\n",
      "[Open3D INFO] Resetting default logger to print to terminal.\n"
     ]
    }
   ],
   "source": [
    "import numpy as np\n",
    "import matplotlib.pyplot as plt\n",
    "import os\n",
    "# from BfTableGenerator import RansacCollector\n",
    "from BfTableGenerator import TDmapLoader\n",
    "from tqdm import tqdm\n",
    "# from open3d import JVisualizer \n",
    "from Utils import *\n",
    "from DDBSCAN import Raster_DBSCAN\n",
    "import open3d as op3\n",
    "# op3.visualization.webrtc_server.enable_webrtc()\n",
    "from open3d.web_visualizer import draw\n",
    "from VisulizerTools import *\n",
    "from tqdm import tqdm_notebook\n",
    "import time\n",
    "from sklearn.cluster import DBSCAN\n",
    "# +80\n",
    "from p_tqdm import p_map\n",
    "from joblib import Parallel, delayed\n",
    "\n",
    "def get_pcd_colored_dir(Td_map,Colored_map):\n",
    "\n",
    "    Xs = []\n",
    "    Ys = []\n",
    "    Zs = []\n",
    "    Labels = []\n",
    "    for i in range(Td_map.shape[0]):\n",
    "        longitudes = theta[i]*np.pi / 180\n",
    "        latitudes = azimuths * np.pi / 180 \n",
    "        hypotenuses = Td_map[i] * np.cos(longitudes)\n",
    "        X = hypotenuses * np.sin(latitudes)\n",
    "        Y = hypotenuses * np.cos(latitudes)\n",
    "        Z = Td_map[i] * np.sin(longitudes)\n",
    "        Valid_ind = (Td_map[i] != 0)\n",
    "        Xs.append(X[Valid_ind])\n",
    "        Ys.append(Y[Valid_ind])\n",
    "        Zs.append(Z[Valid_ind])\n",
    "        Labels.append(Colored_map[i][Valid_ind])\n",
    "\n",
    "    Xs = np.concatenate(Xs)\n",
    "    Ys = np.concatenate(Ys)\n",
    "    Zs = np.concatenate(Zs)\n",
    "    Labels = np.concatenate(Labels)\n",
    "    XYZ = np.concatenate([Xs.reshape(-1,1),Ys.reshape(-1,1),Zs.reshape(-1,1)],axis = 1)\n",
    "    Colors = np.full((len(Labels),3),np.array([[153,153,153]])/256)\n",
    "    unique_label = np.unique(Labels)\n",
    "    for l in unique_label[1:]:\n",
    "        Colors[Labels == l] = color_map[l%len(color_map)]\n",
    "\n",
    "    pcd = op3.geometry.PointCloud()\n",
    "    pcd.points = op3.utility.Vector3dVector(XYZ)\n",
    "    pcd.colors = op3.utility.Vector3dVector(Colors)\n",
    "    \n",
    "    return pcd     "
   ]
  },
  {
   "cell_type": "code",
   "execution_count": 2,
   "id": "8a650fe3",
   "metadata": {},
   "outputs": [],
   "source": [
    "def get_thred_modified(ts,d ,thred_s ,N ,delta_thred ,step):# Ransac Para\n",
    "    ts_temp = ts.copy()\n",
    "    ts_temp[ts_temp == 0] = 1000\n",
    "    valid_dises = []\n",
    "    for i in range(N):\n",
    "        sample = np.random.choice(ts_temp,replace=False)\n",
    "        set_d = ts_temp[(ts_temp > sample - d)&(ts_temp < sample + d)]\n",
    "        condition_thred = len(set_d)/len(ts_temp) > thred_s\n",
    "        if condition_thred :\n",
    "            valid_dises.append(sample)\n",
    "            \n",
    "    if len(valid_dises) == 0:\n",
    "        return 1000\n",
    "\n",
    "    cur_thred = np.min(valid_dises)\n",
    "\n",
    "    while True:\n",
    "        next_thred = cur_thred - step\n",
    "        if (len(ts[ts > next_thred])/len(ts) - len(ts[ts > cur_thred])/len(ts)) < delta_thred:\n",
    "            break\n",
    "        cur_thred = next_thred\n",
    "\n",
    "    return next_thred"
   ]
  },
  {
   "cell_type": "code",
   "execution_count": 3,
   "id": "c6653307",
   "metadata": {},
   "outputs": [],
   "source": [
    "def get_gen(pcap_path,time,end_frame):\n",
    "    lidar_reader = TDmapLoader(pcap_path)\n",
    "    frame_gen = lidar_reader.frame_gen()\n",
    "    aggregated_map = []\n",
    "    sampled_ind = np.random.choice(np.arange(17000),size = 2000, replace = False)\n",
    "    sampeled_num = 0\n",
    "    for i in tqdm(range(end_frame)):\n",
    "        Td_map = next(frame_gen)\n",
    "        if i in sampled_ind:\n",
    "            aggregated_map.append(Td_map)\n",
    "            sampeled_num += 1\n",
    "        if (sampeled_num == 2000) or (Td_map is None):\n",
    "            break\n",
    "    return np.array(aggregated_map),time"
   ]
  },
  {
   "cell_type": "code",
   "execution_count": 19,
   "id": "2566d3bc",
   "metadata": {},
   "outputs": [
    {
     "name": "stderr",
     "output_type": "stream",
     "text": [
      "100%|███████████████████████████████████████████████████████████████████████████████| 24/24 [1:06:10<00:00, 165.42s/it]\n"
     ]
    }
   ],
   "source": [
    "bck_path = r'D:\\LiDAR_Data\\MidTown\\Plumbnorth'\n",
    "output_path = r'D:\\LiDAR_Data\\MidTown\\Plumbnorth'\n",
    "pcaps_list = os.listdir(bck_path)\n",
    "pcaps_list = [p for p in pcaps_list if 'pcap' in p.split('.')]\n",
    "times = [int(pcaps_list[i].split('.')[0].split('-')[-3]) for i in range(len(pcaps_list))]\n",
    "aggregated_maps_multiple = []\n",
    "time_ind = np.argsort(times)\n",
    "results = Parallel(n_jobs=4)(delayed(get_gen)(os.path.join(bck_path,pcaps_list[i]),times[i],18000) for i in tqdm(range(len(pcaps_list))))\n",
    "aggregated_maps = []\n",
    "times = []\n",
    "for r,time in results:\n",
    "    aggregated_maps.append(r)\n",
    "    times.append(time)\n",
    "aggregated_maps = np.array(aggregated_maps)\n",
    "aggregated_maps = aggregated_maps[np.argsort(times)]"
   ]
  },
  {
   "cell_type": "code",
   "execution_count": 20,
   "id": "d1c5c186",
   "metadata": {},
   "outputs": [],
   "source": [
    "aggregated_maps = np.concatenate(aggregated_maps)"
   ]
  },
  {
   "cell_type": "code",
   "execution_count": 3,
   "id": "93310485",
   "metadata": {},
   "outputs": [],
   "source": [
    "aggregated_maps = np.load(r'D:\\LiDAR_Data\\MidTown\\Vasser\\24H_Agg.npy')"
   ]
  },
  {
   "cell_type": "code",
   "execution_count": 6,
   "id": "fac93dcc",
   "metadata": {},
   "outputs": [],
   "source": [
    "np.save(r'D:\\LiDAR_Data\\MidTown\\Vasser\\24H_Agg.npy',aggregated_maps)\n"
   ]
  },
  {
   "cell_type": "code",
   "execution_count": 21,
   "id": "ea820835",
   "metadata": {},
   "outputs": [
    {
     "name": "stderr",
     "output_type": "stream",
     "text": [
      "100%|██████████████████████████████████████████████████████████████████████████████████| 32/32 [22:23<00:00, 41.97s/it]\n"
     ]
    }
   ],
   "source": [
    "thred_map = np.zeros((32,1800))\n",
    "for i in tqdm(range(thred_map.shape[0])):\n",
    "    for j in range(thred_map.shape[1]):\n",
    "        thred_map[i,j] = get_thred_modified(aggregated_maps[:,i,j],d = 1.5 ,thred_s = 0.6,N = 20,delta_thred = 1e-3,step = 0.2)"
   ]
  },
  {
   "cell_type": "code",
   "execution_count": 22,
   "id": "01eb73ad",
   "metadata": {},
   "outputs": [],
   "source": [
    "np.save(r'D:\\LiDAR_Data\\MidTown\\Plumbnorth\\Calibration\\bck_map.npy',thred_map)"
   ]
  },
  {
   "cell_type": "code",
   "execution_count": 6,
   "id": "42f96570",
   "metadata": {},
   "outputs": [],
   "source": [
    "thred_map = np.load(r'D:\\LiDAR_Data\\MidTown\\Lawrence\\Calibration\\bck_map.npy')\n",
    "aggregated_maps = np.load(r'D:\\LiDAR_Data\\MidTown\\RoundaboutNW\\24H_Agg.npy')"
   ]
  },
  {
   "cell_type": "code",
   "execution_count": 12,
   "id": "fdc14b78",
   "metadata": {},
   "outputs": [
    {
     "data": {
      "image/png": "[encoded data removed]",
      "text/plain": [
       "<Figure size 720x360 with 1 Axes>"
      ]
     },
     "metadata": {
      "needs_background": "light"
     },
     "output_type": "display_data"
    }
   ],
   "source": [
    "laser_id = theta_raw[0] == theta\n",
    "azimuth_channel = int(np.around((23523/100)/0.2)) + 10\n",
    "\n",
    "temp = aggregated_maps[:,laser_id,azimuth_channel]\n",
    "# thred = get_thred_modified(temp.flatten(),d = 2,thred_s = 0.5,N = 10,delta_thred = 0.001,step = 0.2)\n",
    "thred = thred_map[laser_id,azimuth_channel]\n",
    "plt.figure(figsize=(10,5))\n",
    "plt.scatter(np.arange(len(aggregated_maps)),aggregated_maps[:,laser_id,azimuth_channel],s = 3)\n",
    "plt.hlines(thred,0,len(aggregated_maps),color = 'r')\n",
    "plt.ylim(0,20)\n",
    "plt.xticks(fontsize = 15)\n",
    "plt.yticks(fontsize = 15)\n",
    "plt.ylabel('Laser Distance(m)',fontsize = 20)\n",
    "plt.xlabel('Time(H)',fontsize = 20)\n",
    "plt.show()"
   ]
  },
  {
   "cell_type": "code",
   "execution_count": 13,
   "id": "0a435ef0",
   "metadata": {},
   "outputs": [
    {
     "data": {
      "application/vnd.jupyter.widget-view+json": {
       "model_id": "84fed5a4d55241ef87b709597873bed1",
       "version_major": 2,
       "version_minor": 0
      },
      "text/plain": [
       "WebVisualizer(window_uid='window_1')"
      ]
     },
     "metadata": {},
     "output_type": "display_data"
    }
   ],
   "source": [
    "clustering_td = Raster_DBSCAN(window_size=(5,13),eps = 1.5, min_samples= 12, Td_map_szie=thred_map.shape)   \n",
    "Td_map = aggregated_maps[1250]\n",
    "Foreground_map = (Td_map < thred_map)&(Td_map != 0)\n",
    "Labeling_map = clustering_td.fit_predict(Td_map= Td_map,Foreground_map=Foreground_map)\n",
    "Background_map = (Td_map >= thred_map)&(Td_map != 0)\n",
    "# pcd = get_pcd_colored_filtered(Td_map,Labeling_map,Foreground_map)\n",
    "pcd = get_pcd_colored(Td_map,Labeling_map)\n",
    "draw(pcd,height=1000,width=1000)"
   ]
  },
  {
   "cell_type": "code",
   "execution_count": 13,
   "id": "2ade23e9",
   "metadata": {},
   "outputs": [
    {
     "data": {
      "application/vnd.jupyter.widget-view+json": {
       "model_id": "ac141a79671545ed98a6746bf12156d7",
       "version_major": 2,
       "version_minor": 0
      },
      "text/plain": [
       "WebVisualizer(window_uid='window_3')"
      ]
     },
     "metadata": {},
     "output_type": "display_data"
    }
   ],
   "source": [
    "pcd = get_pcd_colored_dir(thred_map,np.full(thred_map.shape,True))\n",
    "draw(pcd,height=1000,width=1000)"
   ]
  },
  {
   "cell_type": "code",
   "execution_count": 23,
   "id": "600aa42c",
   "metadata": {},
   "outputs": [
    {
     "data": {
      "application/vnd.jupyter.widget-view+json": {
       "model_id": "f176c3cb2ce9406f979833e9a400f193",
       "version_major": 2,
       "version_minor": 0
      },
      "text/plain": [
       "WebVisualizer(window_uid='window_2')"
      ]
     },
     "metadata": {},
     "output_type": "display_data"
    }
   ],
   "source": [
    "Td_map = aggregated_maps[0]\n",
    "Colored_map = np.full(Td_map.shape,0)\n",
    "# laser_id = theta_raw[20] == theta\n",
    "azimuth_channel = int(np.around((24903/100)/0.2)) + 10\n",
    "Colored_map[:,azimuth_channel] = 1\n",
    "pcd = get_pcd_colored_dir(Td_map,Colored_map)\n",
    "draw(pcd)\n"
   ]
  },
  {
   "cell_type": "markdown",
   "id": "00e76b09",
   "metadata": {},
   "source": [
    "# PLANE MODEL"
   ]
  },
  {
   "cell_type": "code",
   "execution_count": 26,
   "id": "4e3dc148",
   "metadata": {},
   "outputs": [],
   "source": [
    "plane_model, inliers = pcd.segment_plane(distance_threshold=0.2,\n",
    "                                         ransac_n=10,\n",
    "                                         num_iterations=1000)\n",
    "inlier_cloud = pcd.select_by_index(inliers)\n",
    "outlier_cloud = pcd.select_by_index(inliers, invert=True)"
   ]
  },
  {
   "cell_type": "code",
   "execution_count": 27,
   "id": "66fb15fd",
   "metadata": {},
   "outputs": [],
   "source": [
    "np.save(r'D:\\LiDAR_Data\\MidTown\\Plumbnorth\\plane_model.npy',plane_model)"
   ]
  },
  {
   "cell_type": "code",
   "execution_count": null,
   "id": "62dc4582",
   "metadata": {},
   "outputs": [],
   "source": []
  },
  {
   "cell_type": "code",
   "execution_count": null,
   "id": "570daea3",
   "metadata": {},
   "outputs": [],
   "source": []
  }
 ],
 "metadata": {
  "kernelspec": {
   "display_name": "Python 3 (ipykernel)",
   "language": "python",
   "name": "python3"
  },
  "language_info": {
   "codemirror_mode": {
    "name": "ipython",
    "version": 3
   },
   "file_extension": ".py",
   "mimetype": "text/x-python",
   "name": "python",
   "nbconvert_exporter": "python",
   "pygments_lexer": "ipython3",
   "version": "3.8.12"
  }
 },
 "nbformat": 4,
 "nbformat_minor": 5
}
