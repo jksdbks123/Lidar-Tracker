{
 "cells": [
  {
   "cell_type": "code",
   "execution_count": 1,
   "id": "6531224c",
   "metadata": {},
   "outputs": [
    {
     "name": "stdout",
     "output_type": "stream",
     "text": [
      "Jupyter environment detected. Enabling Open3D WebVisualizer.\n",
      "[Open3D INFO] WebRTC GUI backend enabled.\n",
      "[Open3D INFO] WebRTCWindowSystem: HTTP handshake server disabled.\n",
      "[Open3D INFO] Resetting default logger to print to terminal.\n"
     ]
    }
   ],
   "source": [
    "import numpy as np\n",
    "import matplotlib.pyplot as plt\n",
    "import os\n",
    "from BfTableGenerator import RansacCollector\n",
    "from BfTableGenerator import TDmapLoader\n",
    "from tqdm import tqdm\n",
    "# from open3d import JVisualizer \n",
    "from Utils import *\n",
    "from DDBSCAN import Raster_DBSCAN\n",
    "import open3d as op3\n",
    "# op3.visualization.webrtc_server.enable_webrtc()\n",
    "from open3d.web_visualizer import draw\n",
    "from VisulizerTools import *\n",
    "from tqdm import tqdm_notebook\n",
    "import time\n",
    "from sklearn.cluster import DBSCAN\n",
    "# +80\n",
    "from p_tqdm import p_map\n",
    "from joblib import Parallel, delayed\n",
    "\n",
    "def get_pcd_colored_dir(Td_map,Colored_map):\n",
    "\n",
    "    Xs = []\n",
    "    Ys = []\n",
    "    Zs = []\n",
    "    Labels = []\n",
    "    for i in range(Td_map.shape[0]):\n",
    "        longitudes = theta[i]*np.pi / 180\n",
    "        latitudes = azimuths * np.pi / 180 \n",
    "        hypotenuses = Td_map[i] * np.cos(longitudes)\n",
    "        X = hypotenuses * np.sin(latitudes)\n",
    "        Y = hypotenuses * np.cos(latitudes)\n",
    "        Z = Td_map[i] * np.sin(longitudes)\n",
    "        Valid_ind = (Td_map[i] != 0)\n",
    "        Xs.append(X[Valid_ind])\n",
    "        Ys.append(Y[Valid_ind])\n",
    "        Zs.append(Z[Valid_ind])\n",
    "        Labels.append(Colored_map[i][Valid_ind])\n",
    "\n",
    "    Xs = np.concatenate(Xs)\n",
    "    Ys = np.concatenate(Ys)\n",
    "    Zs = np.concatenate(Zs)\n",
    "    Labels = np.concatenate(Labels)\n",
    "    XYZ = np.concatenate([Xs.reshape(-1,1),Ys.reshape(-1,1),Zs.reshape(-1,1)],axis = 1)\n",
    "    Colors = np.full((len(Labels),3),np.array([[153,153,153]])/256)\n",
    "    unique_label = np.unique(Labels)\n",
    "    for l in unique_label[1:]:\n",
    "        Colors[Labels == l] = color_map[l%len(color_map)]\n",
    "\n",
    "    pcd = op3.geometry.PointCloud()\n",
    "    pcd.points = op3.utility.Vector3dVector(XYZ)\n",
    "    pcd.colors = op3.utility.Vector3dVector(Colors)\n",
    "    \n",
    "    return pcd     "
   ]
  },
  {
   "cell_type": "code",
   "execution_count": 2,
   "id": "8a650fe3",
   "metadata": {},
   "outputs": [],
   "source": [
    "def get_thred_modified(ts,d ,thred_s ,N ,delta_thred ,step):# Ransac Para\n",
    "    ts_temp = ts.copy()\n",
    "    ts_temp[ts_temp == 0] = 1000\n",
    "    valid_dises = []\n",
    "    for i in range(N):\n",
    "        sample = np.random.choice(ts_temp,replace=False)\n",
    "        set_d = ts_temp[(ts_temp > sample - d)&(ts_temp < sample + d)]\n",
    "        condition_thred = len(set_d)/len(ts_temp) > thred_s\n",
    "        if condition_thred :\n",
    "            valid_dises.append(sample)\n",
    "            \n",
    "    if len(valid_dises) == 0:\n",
    "        return 1000\n",
    "\n",
    "    cur_thred = np.min(valid_dises)\n",
    "\n",
    "    while True:\n",
    "        next_thred = cur_thred - step\n",
    "        if (len(ts[ts > next_thred])/len(ts) - len(ts[ts > cur_thred])/len(ts)) < delta_thred:\n",
    "            break\n",
    "        cur_thred = next_thred\n",
    "\n",
    "    return next_thred"
   ]
  },
  {
   "cell_type": "code",
   "execution_count": 3,
   "id": "e60e0b9e",
   "metadata": {
    "collapsed": true
   },
   "outputs": [
    {
     "name": "stderr",
     "output_type": "stream",
     "text": [
      "100%|███████████████████████████████████████████████████████████████████████████████████| 7/7 [00:00<00:00, 438.64it/s]\n"
     ]
    },
    {
     "ename": "ValueError",
     "evalue": "Cannot take a larger sample than population when 'replace=False'",
     "output_type": "error",
     "traceback": [
      "\u001b[1;31m---------------------------------------------------------------------------\u001b[0m",
      "\u001b[1;31m_RemoteTraceback\u001b[0m                          Traceback (most recent call last)",
      "\u001b[1;31m_RemoteTraceback\u001b[0m: \n\"\"\"\nTraceback (most recent call last):\n  File \"C:\\Users\\zhChe\\.conda\\envs\\tracking\\lib\\site-packages\\joblib\\externals\\loky\\process_executor.py\", line 436, in _process_worker\n    r = call_item()\n  File \"C:\\Users\\zhChe\\.conda\\envs\\tracking\\lib\\site-packages\\joblib\\externals\\loky\\process_executor.py\", line 288, in __call__\n    return self.fn(*self.args, **self.kwargs)\n  File \"C:\\Users\\zhChe\\.conda\\envs\\tracking\\lib\\site-packages\\joblib\\_parallel_backends.py\", line 595, in __call__\n    return self.func(*args, **kwargs)\n  File \"C:\\Users\\zhChe\\.conda\\envs\\tracking\\lib\\site-packages\\joblib\\parallel.py\", line 262, in __call__\n    return [func(*args, **kwargs)\n  File \"C:\\Users\\zhChe\\.conda\\envs\\tracking\\lib\\site-packages\\joblib\\parallel.py\", line 262, in <listcomp>\n    return [func(*args, **kwargs)\n  File \"C:\\Users\\zhChe\\AppData\\Local\\Temp/ipykernel_20668/3051900616.py\", line 15, in run_collector\n  File \"mtrand.pyx\", line 965, in numpy.random.mtrand.RandomState.choice\nValueError: Cannot take a larger sample than population when 'replace=False'\n\"\"\"",
      "\nThe above exception was the direct cause of the following exception:\n",
      "\u001b[1;31mValueError\u001b[0m                                Traceback (most recent call last)",
      "\u001b[1;32m~\\AppData\\Local\\Temp/ipykernel_20668/3051900616.py\u001b[0m in \u001b[0;36m<module>\u001b[1;34m\u001b[0m\n\u001b[0;32m     15\u001b[0m     \u001b[1;32mreturn\u001b[0m \u001b[0mcollectors\u001b[0m\u001b[1;33m[\u001b[0m\u001b[0mi\u001b[0m\u001b[1;33m]\u001b[0m\u001b[1;33m.\u001b[0m\u001b[0maggregated_map\u001b[0m\u001b[1;33m[\u001b[0m\u001b[0mnp\u001b[0m\u001b[1;33m.\u001b[0m\u001b[0mrandom\u001b[0m\u001b[1;33m.\u001b[0m\u001b[0mchoice\u001b[0m\u001b[1;33m(\u001b[0m\u001b[0mnp\u001b[0m\u001b[1;33m.\u001b[0m\u001b[0marange\u001b[0m\u001b[1;33m(\u001b[0m\u001b[1;36m0\u001b[0m\u001b[1;33m,\u001b[0m\u001b[1;36m1000\u001b[0m\u001b[1;33m)\u001b[0m\u001b[1;33m,\u001b[0m\u001b[0msize\u001b[0m \u001b[1;33m=\u001b[0m \u001b[0mint\u001b[0m\u001b[1;33m(\u001b[0m\u001b[1;36m24000\u001b[0m\u001b[1;33m/\u001b[0m\u001b[0mlen\u001b[0m\u001b[1;33m(\u001b[0m\u001b[0mpcaps_list\u001b[0m\u001b[1;33m)\u001b[0m\u001b[1;33m)\u001b[0m \u001b[1;33m,\u001b[0m\u001b[0mreplace\u001b[0m \u001b[1;33m=\u001b[0m \u001b[1;32mFalse\u001b[0m\u001b[1;33m)\u001b[0m\u001b[1;33m]\u001b[0m\u001b[1;33m,\u001b[0m\u001b[0mi\u001b[0m\u001b[1;33m\u001b[0m\u001b[1;33m\u001b[0m\u001b[0m\n\u001b[0;32m     16\u001b[0m \u001b[1;33m\u001b[0m\u001b[0m\n\u001b[1;32m---> 17\u001b[1;33m \u001b[0mresults\u001b[0m \u001b[1;33m=\u001b[0m \u001b[0mParallel\u001b[0m\u001b[1;33m(\u001b[0m\u001b[0mn_jobs\u001b[0m\u001b[1;33m=\u001b[0m\u001b[1;36m4\u001b[0m\u001b[1;33m)\u001b[0m\u001b[1;33m(\u001b[0m\u001b[0mdelayed\u001b[0m\u001b[1;33m(\u001b[0m\u001b[0mrun_collector\u001b[0m\u001b[1;33m)\u001b[0m\u001b[1;33m(\u001b[0m\u001b[0mi\u001b[0m\u001b[1;33m)\u001b[0m \u001b[1;32mfor\u001b[0m \u001b[0mi\u001b[0m \u001b[1;32min\u001b[0m \u001b[0mtqdm\u001b[0m\u001b[1;33m(\u001b[0m\u001b[0mrange\u001b[0m\u001b[1;33m(\u001b[0m\u001b[0mlen\u001b[0m\u001b[1;33m(\u001b[0m\u001b[0mcollectors\u001b[0m\u001b[1;33m)\u001b[0m\u001b[1;33m)\u001b[0m\u001b[1;33m)\u001b[0m\u001b[1;33m)\u001b[0m\u001b[1;33m\u001b[0m\u001b[1;33m\u001b[0m\u001b[0m\n\u001b[0m",
      "\u001b[1;32m~\\.conda\\envs\\tracking\\lib\\site-packages\\joblib\\parallel.py\u001b[0m in \u001b[0;36m__call__\u001b[1;34m(self, iterable)\u001b[0m\n\u001b[0;32m   1054\u001b[0m \u001b[1;33m\u001b[0m\u001b[0m\n\u001b[0;32m   1055\u001b[0m             \u001b[1;32mwith\u001b[0m \u001b[0mself\u001b[0m\u001b[1;33m.\u001b[0m\u001b[0m_backend\u001b[0m\u001b[1;33m.\u001b[0m\u001b[0mretrieval_context\u001b[0m\u001b[1;33m(\u001b[0m\u001b[1;33m)\u001b[0m\u001b[1;33m:\u001b[0m\u001b[1;33m\u001b[0m\u001b[1;33m\u001b[0m\u001b[0m\n\u001b[1;32m-> 1056\u001b[1;33m                 \u001b[0mself\u001b[0m\u001b[1;33m.\u001b[0m\u001b[0mretrieve\u001b[0m\u001b[1;33m(\u001b[0m\u001b[1;33m)\u001b[0m\u001b[1;33m\u001b[0m\u001b[1;33m\u001b[0m\u001b[0m\n\u001b[0m\u001b[0;32m   1057\u001b[0m             \u001b[1;31m# Make sure that we get a last message telling us we are done\u001b[0m\u001b[1;33m\u001b[0m\u001b[1;33m\u001b[0m\u001b[1;33m\u001b[0m\u001b[0m\n\u001b[0;32m   1058\u001b[0m             \u001b[0melapsed_time\u001b[0m \u001b[1;33m=\u001b[0m \u001b[0mtime\u001b[0m\u001b[1;33m.\u001b[0m\u001b[0mtime\u001b[0m\u001b[1;33m(\u001b[0m\u001b[1;33m)\u001b[0m \u001b[1;33m-\u001b[0m \u001b[0mself\u001b[0m\u001b[1;33m.\u001b[0m\u001b[0m_start_time\u001b[0m\u001b[1;33m\u001b[0m\u001b[1;33m\u001b[0m\u001b[0m\n",
      "\u001b[1;32m~\\.conda\\envs\\tracking\\lib\\site-packages\\joblib\\parallel.py\u001b[0m in \u001b[0;36mretrieve\u001b[1;34m(self)\u001b[0m\n\u001b[0;32m    933\u001b[0m             \u001b[1;32mtry\u001b[0m\u001b[1;33m:\u001b[0m\u001b[1;33m\u001b[0m\u001b[1;33m\u001b[0m\u001b[0m\n\u001b[0;32m    934\u001b[0m                 \u001b[1;32mif\u001b[0m \u001b[0mgetattr\u001b[0m\u001b[1;33m(\u001b[0m\u001b[0mself\u001b[0m\u001b[1;33m.\u001b[0m\u001b[0m_backend\u001b[0m\u001b[1;33m,\u001b[0m \u001b[1;34m'supports_timeout'\u001b[0m\u001b[1;33m,\u001b[0m \u001b[1;32mFalse\u001b[0m\u001b[1;33m)\u001b[0m\u001b[1;33m:\u001b[0m\u001b[1;33m\u001b[0m\u001b[1;33m\u001b[0m\u001b[0m\n\u001b[1;32m--> 935\u001b[1;33m                     \u001b[0mself\u001b[0m\u001b[1;33m.\u001b[0m\u001b[0m_output\u001b[0m\u001b[1;33m.\u001b[0m\u001b[0mextend\u001b[0m\u001b[1;33m(\u001b[0m\u001b[0mjob\u001b[0m\u001b[1;33m.\u001b[0m\u001b[0mget\u001b[0m\u001b[1;33m(\u001b[0m\u001b[0mtimeout\u001b[0m\u001b[1;33m=\u001b[0m\u001b[0mself\u001b[0m\u001b[1;33m.\u001b[0m\u001b[0mtimeout\u001b[0m\u001b[1;33m)\u001b[0m\u001b[1;33m)\u001b[0m\u001b[1;33m\u001b[0m\u001b[1;33m\u001b[0m\u001b[0m\n\u001b[0m\u001b[0;32m    936\u001b[0m                 \u001b[1;32melse\u001b[0m\u001b[1;33m:\u001b[0m\u001b[1;33m\u001b[0m\u001b[1;33m\u001b[0m\u001b[0m\n\u001b[0;32m    937\u001b[0m                     \u001b[0mself\u001b[0m\u001b[1;33m.\u001b[0m\u001b[0m_output\u001b[0m\u001b[1;33m.\u001b[0m\u001b[0mextend\u001b[0m\u001b[1;33m(\u001b[0m\u001b[0mjob\u001b[0m\u001b[1;33m.\u001b[0m\u001b[0mget\u001b[0m\u001b[1;33m(\u001b[0m\u001b[1;33m)\u001b[0m\u001b[1;33m)\u001b[0m\u001b[1;33m\u001b[0m\u001b[1;33m\u001b[0m\u001b[0m\n",
      "\u001b[1;32m~\\.conda\\envs\\tracking\\lib\\site-packages\\joblib\\_parallel_backends.py\u001b[0m in \u001b[0;36mwrap_future_result\u001b[1;34m(future, timeout)\u001b[0m\n\u001b[0;32m    540\u001b[0m         AsyncResults.get from multiprocessing.\"\"\"\n\u001b[0;32m    541\u001b[0m         \u001b[1;32mtry\u001b[0m\u001b[1;33m:\u001b[0m\u001b[1;33m\u001b[0m\u001b[1;33m\u001b[0m\u001b[0m\n\u001b[1;32m--> 542\u001b[1;33m             \u001b[1;32mreturn\u001b[0m \u001b[0mfuture\u001b[0m\u001b[1;33m.\u001b[0m\u001b[0mresult\u001b[0m\u001b[1;33m(\u001b[0m\u001b[0mtimeout\u001b[0m\u001b[1;33m=\u001b[0m\u001b[0mtimeout\u001b[0m\u001b[1;33m)\u001b[0m\u001b[1;33m\u001b[0m\u001b[1;33m\u001b[0m\u001b[0m\n\u001b[0m\u001b[0;32m    543\u001b[0m         \u001b[1;32mexcept\u001b[0m \u001b[0mCfTimeoutError\u001b[0m \u001b[1;32mas\u001b[0m \u001b[0me\u001b[0m\u001b[1;33m:\u001b[0m\u001b[1;33m\u001b[0m\u001b[1;33m\u001b[0m\u001b[0m\n\u001b[0;32m    544\u001b[0m             \u001b[1;32mraise\u001b[0m \u001b[0mTimeoutError\u001b[0m \u001b[1;32mfrom\u001b[0m \u001b[0me\u001b[0m\u001b[1;33m\u001b[0m\u001b[1;33m\u001b[0m\u001b[0m\n",
      "\u001b[1;32m~\\.conda\\envs\\tracking\\lib\\concurrent\\futures\\_base.py\u001b[0m in \u001b[0;36mresult\u001b[1;34m(self, timeout)\u001b[0m\n\u001b[0;32m    442\u001b[0m                     \u001b[1;32mraise\u001b[0m \u001b[0mCancelledError\u001b[0m\u001b[1;33m(\u001b[0m\u001b[1;33m)\u001b[0m\u001b[1;33m\u001b[0m\u001b[1;33m\u001b[0m\u001b[0m\n\u001b[0;32m    443\u001b[0m                 \u001b[1;32melif\u001b[0m \u001b[0mself\u001b[0m\u001b[1;33m.\u001b[0m\u001b[0m_state\u001b[0m \u001b[1;33m==\u001b[0m \u001b[0mFINISHED\u001b[0m\u001b[1;33m:\u001b[0m\u001b[1;33m\u001b[0m\u001b[1;33m\u001b[0m\u001b[0m\n\u001b[1;32m--> 444\u001b[1;33m                     \u001b[1;32mreturn\u001b[0m \u001b[0mself\u001b[0m\u001b[1;33m.\u001b[0m\u001b[0m__get_result\u001b[0m\u001b[1;33m(\u001b[0m\u001b[1;33m)\u001b[0m\u001b[1;33m\u001b[0m\u001b[1;33m\u001b[0m\u001b[0m\n\u001b[0m\u001b[0;32m    445\u001b[0m                 \u001b[1;32melse\u001b[0m\u001b[1;33m:\u001b[0m\u001b[1;33m\u001b[0m\u001b[1;33m\u001b[0m\u001b[0m\n\u001b[0;32m    446\u001b[0m                     \u001b[1;32mraise\u001b[0m \u001b[0mTimeoutError\u001b[0m\u001b[1;33m(\u001b[0m\u001b[1;33m)\u001b[0m\u001b[1;33m\u001b[0m\u001b[1;33m\u001b[0m\u001b[0m\n",
      "\u001b[1;32m~\\.conda\\envs\\tracking\\lib\\concurrent\\futures\\_base.py\u001b[0m in \u001b[0;36m__get_result\u001b[1;34m(self)\u001b[0m\n\u001b[0;32m    387\u001b[0m         \u001b[1;32mif\u001b[0m \u001b[0mself\u001b[0m\u001b[1;33m.\u001b[0m\u001b[0m_exception\u001b[0m\u001b[1;33m:\u001b[0m\u001b[1;33m\u001b[0m\u001b[1;33m\u001b[0m\u001b[0m\n\u001b[0;32m    388\u001b[0m             \u001b[1;32mtry\u001b[0m\u001b[1;33m:\u001b[0m\u001b[1;33m\u001b[0m\u001b[1;33m\u001b[0m\u001b[0m\n\u001b[1;32m--> 389\u001b[1;33m                 \u001b[1;32mraise\u001b[0m \u001b[0mself\u001b[0m\u001b[1;33m.\u001b[0m\u001b[0m_exception\u001b[0m\u001b[1;33m\u001b[0m\u001b[1;33m\u001b[0m\u001b[0m\n\u001b[0m\u001b[0;32m    390\u001b[0m             \u001b[1;32mfinally\u001b[0m\u001b[1;33m:\u001b[0m\u001b[1;33m\u001b[0m\u001b[1;33m\u001b[0m\u001b[0m\n\u001b[0;32m    391\u001b[0m                 \u001b[1;31m# Break a reference cycle with the exception in self._exception\u001b[0m\u001b[1;33m\u001b[0m\u001b[1;33m\u001b[0m\u001b[1;33m\u001b[0m\u001b[0m\n",
      "\u001b[1;31mValueError\u001b[0m: Cannot take a larger sample than population when 'replace=False'"
     ]
    }
   ],
   "source": [
    "bck_path = r'D:\\LiDAR_Data\\MidTown\\Roundabout'\n",
    "output_path = r'D:\\LiDAR_Data\\MidTown\\Roundabout'\n",
    "pcaps_list = os.listdir(bck_path)\n",
    "pcaps_list = [p for p in pcaps_list if 'pcap' in p.split('.')]\n",
    "times = [int(pcaps_list[i].split('.')[0].split('-')[-3]) for i in range(len(pcaps_list))]\n",
    "aggregated_maps_multiple = []\n",
    "time_ind = np.argsort(times)\n",
    "collectors = []\n",
    "for i in time_ind:\n",
    "    collector = RansacCollector(pcap_path=os.path.join(bck_path,pcaps_list[i]),output_file_path=bck_path,update_frame_num=2000)\n",
    "    collectors.append(collector)\n",
    "def run_collector(i):\n",
    "    \n",
    "    collectors[i].gen_tdmap()\n",
    "    return collectors[i].aggregated_map[np.random.choice(np.arange(0,1000),size = int(24000/len(pcaps_list)) ,replace = False)],i\n",
    "\n",
    "results = Parallel(n_jobs=4)(delayed(run_collector)(i) for i in tqdm(range(len(collectors))))\n"
   ]
  },
  {
   "cell_type": "code",
   "execution_count": 4,
   "id": "04136822",
   "metadata": {},
   "outputs": [
    {
     "name": "stdout",
     "output_type": "stream",
     "text": [
      "Loading pcap...\n"
     ]
    }
   ],
   "source": [
    "bck_path = r'D:\\LiDAR_Data\\MidTown\\Roundabout'\n",
    "output_path = r'D:\\LiDAR_Data\\MidTown\\Roundabout'\n",
    "collector = RansacCollector(pcap_path=os.path.join(bck_path,pcaps_list[0]),output_file_path=bck_path,update_frame_num=2000)\n",
    "collector.gen_tdmap()"
   ]
  },
  {
   "cell_type": "code",
   "execution_count": null,
   "id": "44c8dc4d",
   "metadata": {},
   "outputs": [],
   "source": [
    "aggregated_maps_multiple = np.concatenate([r for r,i in results],axis = 0)"
   ]
  },
  {
   "cell_type": "code",
   "execution_count": 9,
   "id": "d5f06502",
   "metadata": {},
   "outputs": [],
   "source": [
    "np.save(r'D:\\LiDAR_Data\\Cheney\\24H_Agg.npy',aggregated_maps_multiple)"
   ]
  },
  {
   "cell_type": "code",
   "execution_count": 3,
   "id": "0bcb53af",
   "metadata": {},
   "outputs": [],
   "source": [
    "aggregated_map = np.load(r'D:\\LiDAR_Data\\MidTown\\PCAP_BCK\\Liberty\\24H_Agg.npy')"
   ]
  },
  {
   "cell_type": "code",
   "execution_count": 38,
   "id": "cf429e60",
   "metadata": {
    "scrolled": false
   },
   "outputs": [
    {
     "name": "stdout",
     "output_type": "stream",
     "text": [
      "[5.904]\n",
      "195\n"
     ]
    },
    {
     "data": {
      "image/png": "[encoded data removed]",
      "text/plain": [
       "<Figure size 720x360 with 1 Axes>"
      ]
     },
     "metadata": {
      "needs_background": "light"
     },
     "output_type": "display_data"
    }
   ],
   "source": [
    "laser_id = theta_raw[0] == theta\n",
    "azimuth_channel = int(np.around((3300/100)/0.2)) + 30\n",
    "print(aggregated_maps_multiple[-3,laser_id,azimuth_channel])\n",
    "print(azimuth_channel)\n",
    "temp = aggregated_maps_multiple[:,laser_id,azimuth_channel]\n",
    "thred = get_thred_modified(temp.flatten(),1,0.125,10,0.001,0.5)\n",
    "# thred = threshold_map[laser_id,azimuth_channel]\n",
    "plt.figure(figsize=(10,5))\n",
    "plt.scatter(np.arange(len(aggregated_maps_multiple)),aggregated_maps_multiple[:,laser_id,azimuth_channel],s = 3)\n",
    "plt.hlines(thred,0,len(aggregated_maps_multiple),color = 'r')\n",
    "# plt.ylim(0,20)\n",
    "plt.xticks(np.arange(0,24000,1000),np.arange(0,24,1),fontsize = 15)\n",
    "plt.yticks(fontsize = 15)\n",
    "plt.ylabel('Laser Distance(m)',fontsize = 20)\n",
    "plt.xlabel('Time(H)',fontsize = 20)\n",
    "plt.show()"
   ]
  },
  {
   "cell_type": "code",
   "execution_count": 25,
   "id": "122c8a3d",
   "metadata": {},
   "outputs": [
    {
     "name": "stdout",
     "output_type": "stream",
     "text": [
      "Generating Threshold Map\n"
     ]
    }
   ],
   "source": [
    "collector.aggregated_map = aggregated_maps_multiple\n",
    "collector.gen_thredmap(d = 2 ,thred_s = 0.3,N = 134,delta_thred = 1e-3,step = 0.2)\n",
    "threshold_map = collector.thred_map\n",
    "np.save(r'D:\\LiDAR_Data\\Cheney\\Calibration\\bck_map.npy',threshold_map)"
   ]
  },
  {
   "cell_type": "code",
   "execution_count": 6,
   "id": "bd9f9272",
   "metadata": {},
   "outputs": [],
   "source": [
    "threshold_map = np.load(r'D:\\LiDAR_Data\\MidTown\\PCAP_BCK\\Liberty\\24\\bck_map.npy')"
   ]
  },
  {
   "cell_type": "code",
   "execution_count": 6,
   "id": "f2e88e87",
   "metadata": {},
   "outputs": [],
   "source": [
    "Td_map = collector.aggregated_map[0]\n",
    "Colored_map = np.full(Td_map.shape,0)\n",
    "laser_id = theta_raw[20] == theta\n",
    "azimuth_channel = int(np.around((13310/100)/0.2)) + 30\n",
    "Colored_map[:,azimuth_channel:azimuth_channel+200] = 1\n",
    "pcd = get_pcd_colored_dir(Td_map,Colored_map)\n",
    "# draw(pcd)\n"
   ]
  },
  {
   "cell_type": "code",
   "execution_count": 7,
   "id": "166e017a",
   "metadata": {},
   "outputs": [],
   "source": [
    "plane_model, inliers = pcd.segment_plane(distance_threshold=0.2,\n",
    "                                         ransac_n=3,\n",
    "                                         num_iterations=1000)\n",
    "inlier_cloud = pcd.select_by_index(inliers)\n",
    "outlier_cloud = pcd.select_by_index(inliers, invert=True)"
   ]
  },
  {
   "cell_type": "code",
   "execution_count": 8,
   "id": "6323ce3f",
   "metadata": {
    "collapsed": true
   },
   "outputs": [
    {
     "data": {
      "application/vnd.jupyter.widget-view+json": {
       "model_id": "10e3944d5a05400190273e47cc1c4933",
       "version_major": 2,
       "version_minor": 0
      },
      "text/plain": [
       "WebVisualizer(window_uid='window_0')"
      ]
     },
     "metadata": {},
     "output_type": "display_data"
    }
   ],
   "source": [
    "draw(inlier_cloud,height=1000,width=1000)"
   ]
  },
  {
   "cell_type": "code",
   "execution_count": 9,
   "id": "19fd3bbd",
   "metadata": {},
   "outputs": [],
   "source": [
    "np.save(r'D:\\LiDAR_Data\\MidTown\\Roundabout\\Calibration\\plane_model.npy',plane_model)"
   ]
  },
  {
   "cell_type": "code",
   "execution_count": 49,
   "id": "89faa11c",
   "metadata": {},
   "outputs": [
    {
     "data": {
      "application/vnd.jupyter.widget-view+json": {
       "model_id": "a44d9cbfe410485fa11579c55152a3cb",
       "version_major": 2,
       "version_minor": 0
      },
      "text/plain": [
       "WebVisualizer(window_uid='window_17')"
      ]
     },
     "metadata": {},
     "output_type": "display_data"
    }
   ],
   "source": [
    "clustering_td = Raster_DBSCAN(window_size=(5,11),eps = 1.2, min_samples= 12, Td_map_szie=threshold_map.shape)   \n",
    "Td_map = aggregated_maps_multiple[16000]\n",
    "Foreground_map = (Td_map < threshold_map)&(Td_map != 0)\n",
    "Labeling_map = clustering_td.fit_predict(Td_map= Td_map,Foreground_map=Foreground_map)\n",
    "Background_map = (Td_map >= threshold_map)&(Td_map != 0)\n",
    "pcd = get_pcd_colored(Td_map,Labeling_map)\n",
    "draw(pcd,height=1000,width=1000)"
   ]
  },
  {
   "cell_type": "code",
   "execution_count": null,
   "id": "b7f40965",
   "metadata": {},
   "outputs": [],
   "source": [
    "inlier_cloud = pcd.select_by_index(inliers)\n",
    "outlier_cloud = pcd.select_by_index(inliers, invert=True)"
   ]
  },
  {
   "cell_type": "code",
   "execution_count": 72,
   "id": "4c10b2c7",
   "metadata": {},
   "outputs": [],
   "source": [
    "clustering_td = Raster_DBSCAN(window_size=(5,15),eps = 1.2, min_samples= 12, Td_map_szie=threshold_map.shape)   \n",
    "Td_map = aggregated_map[0]\n",
    "Foreground_map = (Td_map < threshold_map)&(Td_map != 0)\n",
    "Labeling_map = clustering_td.fit_predict(Td_map= Td_map,Foreground_map=Foreground_map)\n",
    "Background_map = (Td_map >= threshold_map)&(Td_map != 0)\n"
   ]
  },
  {
   "cell_type": "code",
   "execution_count": 73,
   "id": "eb0156f6",
   "metadata": {},
   "outputs": [],
   "source": [
    "# Plane_model is a 1 x 4 array representing a,b,c,d in ax + by + cz + d = 0 \n",
    "new_uni_labels = np.unique(Labeling_map)\n",
    "    #Only Background contains \n",
    "if -1 in new_uni_labels:\n",
    "    new_uni_labels = new_uni_labels[1:]\n",
    "xy_set = [] # xy position and apperance features\n",
    "apperance_set = []\n",
    "for label in new_uni_labels:\n",
    "    rows,cols = np.where(Labeling_map == label)\n",
    "    rows_temp,cols_temp = rows.copy(),cols.copy()\n",
    "    if if_bck(rows_temp,cols_temp,Td_map,plane_model):\n",
    "        Labeling_map[rows_temp,cols_temp] = -1\n",
    "        \n",
    "        "
   ]
  },
  {
   "cell_type": "code",
   "execution_count": 74,
   "id": "3614255a",
   "metadata": {},
   "outputs": [
    {
     "data": {
      "application/vnd.jupyter.widget-view+json": {
       "model_id": "4572877347f0457b84e37c6b4f471393",
       "version_major": 2,
       "version_minor": 0
      },
      "text/plain": [
       "WebVisualizer(window_uid='window_16')"
      ]
     },
     "metadata": {},
     "output_type": "display_data"
    }
   ],
   "source": [
    "pcd = get_pcd_colored(Td_map,Labeling_map)\n",
    "draw(pcd,height=1000,width=1000)"
   ]
  },
  {
   "cell_type": "code",
   "execution_count": 71,
   "id": "c65e38de",
   "metadata": {},
   "outputs": [],
   "source": [
    "def if_bck(rows,cols,Td_map,Plane_model):\n",
    "    # check if an object is background\n",
    "    # car: 2.6m \n",
    "    td_freq_map = Td_map\n",
    "    longitudes = theta[rows]*np.pi / 180\n",
    "    latitudes = azimuths[cols] * np.pi / 180 \n",
    "    hypotenuses = td_freq_map[rows,cols] * np.cos(longitudes)\n",
    "    X = hypotenuses * np.sin(latitudes)\n",
    "    Y = hypotenuses * np.cos(latitudes)\n",
    "    Z = td_freq_map[rows,cols] * np.sin(longitudes)\n",
    "    Height_from_ground = Plane_model[0] * X + Plane_model[1] * Y  + Plane_model[2] * Z + Plane_model[3] \n",
    "    Max_Height = Height_from_ground.max()\n",
    "    if (Max_Height > 3)|(Max_Height < 0.3):\n",
    "        return True\n",
    "    else:\n",
    "        return False"
   ]
  },
  {
   "cell_type": "code",
   "execution_count": null,
   "id": "c3ebfe91",
   "metadata": {},
   "outputs": [],
   "source": []
  },
  {
   "cell_type": "code",
   "execution_count": 43,
   "id": "d94c19ce",
   "metadata": {},
   "outputs": [
    {
     "data": {
      "application/vnd.jupyter.widget-view+json": {
       "model_id": "2038fe0ccb67467a91677ea4575a7cd5",
       "version_major": 2,
       "version_minor": 0
      },
      "text/plain": [
       "WebVisualizer(window_uid='window_9')"
      ]
     },
     "metadata": {},
     "output_type": "display_data"
    }
   ],
   "source": [
    "clustering_td = Raster_DBSCAN(window_size=(5,15),eps = 1.2, min_samples= 12, Td_map_szie=threshold_map.shape)   \n",
    "Td_map = aggregated_map[0]\n",
    "Foreground_map = (Td_map < threshold_map)&(Td_map != 0)\n",
    "Labeling_map = clustering_td.fit_predict(Td_map= Td_map,Foreground_map=Foreground_map)\n",
    "Background_map = (Td_map >= threshold_map)&(Td_map != 0)\n",
    "pcd = get_pcd_colored_specified(Td_map,Labeling_map,[3])\n",
    "draw(pcd,height=1000,width=1000)"
   ]
  },
  {
   "cell_type": "code",
   "execution_count": null,
   "id": "b471c8ba",
   "metadata": {},
   "outputs": [],
   "source": [
    "# Plane_model is a 1 x 4 array representing a,b,c,d in ax + by + cz + d = 0 \n",
    "new_uni_labels = np.unique(Labeling_map)\n",
    "    #Only Background contains \n",
    "if -1 in new_uni_labels:\n",
    "    new_uni_labels = new_uni_labels[1:]\n",
    "xy_set = [] # xy position and apperance features\n",
    "apperance_set = []\n",
    "for label in new_uni_labels:\n",
    "    rows,cols = np.where(Labeling_map == label)\n",
    "    rows_temp,cols_temp = rows.copy(),cols.copy()\n",
    "    sort_ind = np.argsort(cols)\n",
    "    refer_cols = cols[sort_ind[[0,-1]]]\n",
    "    # this is being said, the first place is for less azimuth id \n",
    "    refer_rows = rows[sort_ind[[0,-1]]]\n",
    "    if np.abs(refer_cols[0] - refer_cols[1]) >= 900:\n",
    "        cols[cols <= 900] += 1800\n",
    "        sort_ind = np.argsort(cols)\n",
    "        refer_cols = cols[sort_ind[[0,-1]]]\n",
    "        refer_cols[refer_cols >= 1800] -= 1800\n",
    "        refer_rows = rows[sort_ind[[0,-1]]]\n",
    "    apperance = get_appearance_features(rows_temp,cols_temp,Td_map)\n",
    "    xy = get_representative_point(refer_rows,refer_cols,Td_map) # x,y vec for two representatives"
   ]
  },
  {
   "cell_type": "code",
   "execution_count": 44,
   "id": "6a98290f",
   "metadata": {},
   "outputs": [],
   "source": [
    "new_uni_labels = np.unique(Labeling_map)\n",
    "    #Only Background contains \n",
    "if -1 in new_uni_labels:\n",
    "    new_uni_labels = new_uni_labels[1:]"
   ]
  },
  {
   "cell_type": "code",
   "execution_count": 45,
   "id": "2cc094e5",
   "metadata": {},
   "outputs": [],
   "source": [
    "rows,cols = np.where(Labeling_map == 3)\n",
    "rows_temp,cols_temp = rows.copy(),cols.copy()\n",
    "sort_ind = np.argsort(cols)\n",
    "refer_cols = cols[sort_ind[[0,-1]]]\n",
    "# this is being said, the first place is for less azimuth id \n",
    "refer_rows = rows[sort_ind[[0,-1]]]\n",
    "if np.abs(refer_cols[0] - refer_cols[1]) >= 900:\n",
    "    cols[cols <= 900] += 1800\n",
    "    sort_ind = np.argsort(cols)\n",
    "    refer_cols = cols[sort_ind[[0,-1]]]\n",
    "    refer_cols[refer_cols >= 1800] -= 1800\n",
    "    refer_rows = rows[sort_ind[[0,-1]]]"
   ]
  },
  {
   "cell_type": "code",
   "execution_count": 46,
   "id": "a1a1efe5",
   "metadata": {},
   "outputs": [],
   "source": [
    "td_freq_map = Td_map\n",
    "longitudes = theta[rows]*np.pi / 180\n",
    "latitudes = azimuths[cols] * np.pi / 180 \n",
    "hypotenuses = td_freq_map[rows,cols] * np.cos(longitudes)\n",
    "X = hypotenuses * np.sin(latitudes)\n",
    "Y = hypotenuses * np.cos(latitudes)\n",
    "Z = td_freq_map[rows,cols] * np.sin(longitudes)"
   ]
  },
  {
   "cell_type": "code",
   "execution_count": 47,
   "id": "6c139e2a",
   "metadata": {
    "scrolled": true
   },
   "outputs": [
    {
     "data": {
      "text/plain": [
       "-1.1433967262432847"
      ]
     },
     "execution_count": 47,
     "metadata": {},
     "output_type": "execute_result"
    }
   ],
   "source": [
    "(plane_model[0] * X + plane_model[1] * Y  + plane_model[2] * Z + plane_model[3] ).max()"
   ]
  },
  {
   "cell_type": "code",
   "execution_count": 23,
   "id": "72b66852",
   "metadata": {},
   "outputs": [],
   "source": [
    "plane_model, inliers = pcd.segment_plane(distance_threshold=0.1,\n",
    "                                         ransac_n=3,\n",
    "                                         num_iterations=1000)"
   ]
  },
  {
   "cell_type": "code",
   "execution_count": null,
   "id": "f281a51c",
   "metadata": {},
   "outputs": [],
   "source": [
    "plane_model[0] * x + plane_model[1]  + "
   ]
  },
  {
   "cell_type": "code",
   "execution_count": null,
   "id": "4911a6b7",
   "metadata": {},
   "outputs": [],
   "source": [
    "d = |Axo + Byo + Czo + D |/√(A2 + B2 + C2)"
   ]
  },
  {
   "cell_type": "code",
   "execution_count": 27,
   "id": "56b1253e",
   "metadata": {},
   "outputs": [],
   "source": [
    "np.save(r'D:\\LiDAR_Data\\MidTown\\Liberty\\Calibration\\plane_model.npy',plane_model)"
   ]
  },
  {
   "cell_type": "code",
   "execution_count": 25,
   "id": "03aee812",
   "metadata": {},
   "outputs": [],
   "source": [
    "inlier_cloud = pcd.select_by_index(inliers)\n",
    "outlier_cloud = pcd.select_by_index(inliers, invert=True)"
   ]
  },
  {
   "cell_type": "code",
   "execution_count": 26,
   "id": "6f50912f",
   "metadata": {},
   "outputs": [
    {
     "data": {
      "application/vnd.jupyter.widget-view+json": {
       "model_id": "f9c68f396cdf4f6cbd30cc4bed28f170",
       "version_major": 2,
       "version_minor": 0
      },
      "text/plain": [
       "WebVisualizer(window_uid='window_5')"
      ]
     },
     "metadata": {},
     "output_type": "display_data"
    }
   ],
   "source": [
    "draw(outlier_cloud,height=1000,width=1000)"
   ]
  },
  {
   "cell_type": "code",
   "execution_count": null,
   "id": "570daea3",
   "metadata": {},
   "outputs": [],
   "source": []
  }
 ],
 "metadata": {
  "kernelspec": {
   "display_name": "Python 3 (ipykernel)",
   "language": "python",
   "name": "python3"
  },
  "language_info": {
   "codemirror_mode": {
    "name": "ipython",
    "version": 3
   },
   "file_extension": ".py",
   "mimetype": "text/x-python",
   "name": "python",
   "nbconvert_exporter": "python",
   "pygments_lexer": "ipython3",
   "version": "3.8.12"
  }
 },
 "nbformat": 4,
 "nbformat_minor": 5
}
