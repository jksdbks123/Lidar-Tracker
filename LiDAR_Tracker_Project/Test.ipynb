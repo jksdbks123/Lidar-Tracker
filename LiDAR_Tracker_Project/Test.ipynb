{
 "cells": [
  {
   "cell_type": "code",
   "execution_count": 3,
   "id": "df86f601",
   "metadata": {},
   "outputs": [
    {
     "name": "stdout",
     "output_type": "stream",
     "text": [
      "Jupyter environment detected. Enabling Open3D WebVisualizer.\n",
      "[Open3D INFO] WebRTC GUI backend enabled.\n",
      "[Open3D INFO] WebRTCWindowSystem: HTTP handshake server disabled.\n"
     ]
    }
   ],
   "source": [
    "# from RealTimeTDTracker import MOT\n",
    "from Utils import *\n",
    "import pickle\n",
    "import os"
   ]
  },
  {
   "cell_type": "code",
   "execution_count": 6,
   "id": "86b04262",
   "metadata": {},
   "outputs": [],
   "source": [
    "with open(r'D:\\Test\\2022-04-03-12-04-44.pickle', 'rb') as handle:\n",
    "    b = pickle.load(handle)"
   ]
  },
  {
   "cell_type": "code",
   "execution_count": 7,
   "id": "0991e0fa",
   "metadata": {},
   "outputs": [],
   "source": [
    "Off_tracking_pool = b"
   ]
  },
  {
   "cell_type": "code",
   "execution_count": 8,
   "id": "e5fc7224",
   "metadata": {},
   "outputs": [],
   "source": [
    "def get_summary_file_TR(post_seq,key,start_frame,app_seq,T):\n",
    "    temp = np.array(post_seq)\n",
    "    temp = temp.reshape((temp.shape[0],temp.shape[1],temp.shape[2]))\n",
    "    # n x 2 x 6\n",
    "    temp_xy = temp[:,:,:2]\n",
    "    # n x 2 x 2\n",
    "    dis_est = np.sqrt((temp_xy[:,:,0]**2 + temp_xy[:,:,1]**2))\n",
    "    # n x 2 \n",
    "    speed_xy = temp[:,:,2:4] * 10 \n",
    "    # n x 2 x 2\n",
    "    speed = np.sqrt((speed_xy[:,:,0]**2 + speed_xy[:,:,1]**2))\n",
    "    # n x 2\n",
    "    xyz_0 = np.concatenate([temp_xy[:,0],np.zeros(len(temp_xy)).reshape(-1,1)],axis = 1)\n",
    "    xyz_1 = np.concatenate([temp_xy[:,1],np.zeros(len(temp_xy)).reshape(-1,1)],axis = 1)\n",
    "    xyz = (xyz_0 + xyz_1)/2\n",
    "    LLH_est = convert_LLH(xyz,T)\n",
    "    est = np.concatenate([xyz_0,dis_est[:,0].reshape(-1,1),speed_xy[:,0],speed[:,0].reshape(-1,1),LLH_est],axis = 1)\n",
    "    # x,y,z,d,s_x,s_y,s,L,L,H\n",
    "    timestp = []\n",
    "    for i in range(len(temp)):\n",
    "        f = i + start_frame + 1\n",
    "        timestp.append('%06.0f'%f)\n",
    "    timestp = np.array(timestp).reshape(-1,1)\n",
    "    objid = (np.ones(len(temp)) * key).astype(int).reshape(-1,1)\n",
    "    summary = np.concatenate([objid,timestp,est],axis = 1)\n",
    "    # obj_id,ts,x,y,z,d,s_x,s_y,s,L,L,H\n",
    "    summary = pd.DataFrame(summary,columns = column_names_TR_2o)\n",
    "\n",
    "    emp = []\n",
    "    for app in app_seq:\n",
    "        if type(app) == int:\n",
    "            emp_row = np.empty(len(app_col_names))\n",
    "            emp_row[:] = np.nan\n",
    "            emp.append(emp_row)\n",
    "        else:\n",
    "            emp.append(app.flatten())\n",
    "\n",
    "    app_df = pd.DataFrame(emp,columns = app_col_names)\n",
    "    app_df.Length = app_df.Length.max()\n",
    "\n",
    "    return summary,app_df"
   ]
  },
  {
   "cell_type": "code",
   "execution_count": 9,
   "id": "ee6b1201",
   "metadata": {},
   "outputs": [],
   "source": [
    "def save_result(Off_tracking_pool,ref_LLH,ref_xyz,f_path):\n",
    "\n",
    "    if len(Off_tracking_pool) == 0:\n",
    "        print('No Trajs Here')\n",
    "    else:\n",
    "        # print('Generating Traj Files...')\n",
    "        T = generate_T(ref_LLH,ref_xyz)\n",
    "        sums = []\n",
    "        app_dfs = []\n",
    "        keys = []\n",
    "        start_frame = []\n",
    "        lengths = []\n",
    "        for key in Off_tracking_pool:  \n",
    "            sum_file,app_df = get_summary_file_TR(Off_tracking_pool[key].post_seq,\n",
    "                                        key,Off_tracking_pool[key].start_frame,Off_tracking_pool[key].app_seq,T) \n",
    "            sums.append(sum_file)\n",
    "            app_dfs.append(app_df)\n",
    "            keys.append(key)\n",
    "            start_frame.append(Off_tracking_pool[key].start_frame)   \n",
    "            lengths.append(len(sum_file))   \n",
    "\n",
    "        sums = pd.concat(sums)\n",
    "        app_dfs = pd.concat(app_dfs)\n",
    "        sums = sums.reset_index(drop=True).astype('float64')\n",
    "        app_dfs = app_dfs.reset_index(drop=True).astype('float64')\n",
    "\n",
    "        classifier = pickle.load(open('./Classifier/Classifier.sav', 'rb'))\n",
    "        X_test = np.array(app_dfs.loc[:,['Point_Cnt','Height','Length','Area']])\n",
    "        pred = classifier.predict(X_test)\n",
    "        sums = pd.concat([sums,app_dfs,pd.DataFrame(pred.reshape(-1,1),columns=['Class'])],axis = 1)\n",
    "        sums.to_csv(f_path,index = False)"
   ]
  },
  {
   "cell_type": "code",
   "execution_count": 10,
   "id": "96247ae7",
   "metadata": {},
   "outputs": [],
   "source": [
    "ref_LLH,ref_xyz = pd.read_csv(r'D:\\LiDAR_Data\\MidTown\\Cheney\\Calibration\\xyz_ref.csv'),pd.read_csv(r'D:\\LiDAR_Data\\MidTown\\Cheney\\Calibration\\LLE_ref.csv')\n",
    "ref_LLH,ref_xyz = np.array(ref_LLH),np.array(ref_xyz)"
   ]
  },
  {
   "cell_type": "code",
   "execution_count": 11,
   "id": "42dac9f0",
   "metadata": {
    "scrolled": true
   },
   "outputs": [],
   "source": [
    "save_result(Off_tracking_pool,ref_LLH,ref_xyz)"
   ]
  },
  {
   "cell_type": "code",
   "execution_count": null,
   "id": "63b0ce0d",
   "metadata": {},
   "outputs": [],
   "source": []
  },
  {
   "cell_type": "code",
   "execution_count": null,
   "id": "630ac620",
   "metadata": {},
   "outputs": [],
   "source": []
  }
 ],
 "metadata": {
  "kernelspec": {
   "display_name": "Python 3 (ipykernel)",
   "language": "python",
   "name": "python3"
  },
  "language_info": {
   "codemirror_mode": {
    "name": "ipython",
    "version": 3
   },
   "file_extension": ".py",
   "mimetype": "text/x-python",
   "name": "python",
   "nbconvert_exporter": "python",
   "pygments_lexer": "ipython3",
   "version": "3.8.12"
  }
 },
 "nbformat": 4,
 "nbformat_minor": 5
}
