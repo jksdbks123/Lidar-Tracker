{
 "cells": [
  {
   "cell_type": "code",
   "execution_count": 40,
   "id": "51d257b2",
   "metadata": {},
   "outputs": [],
   "source": [
    "import numpy as np\n",
    "import dpkt\n",
    "from tqdm import tqdm"
   ]
  },
  {
   "cell_type": "code",
   "execution_count": 49,
   "id": "56909c12",
   "metadata": {},
   "outputs": [],
   "source": [
    "import numpy as np\n",
    "import matplotlib.pyplot as plt\n",
    "import os\n",
    "from BfTableGenerator import RansacCollector\n",
    "from BfTableGenerator import TDmapLoader\n",
    "from tqdm import tqdm\n",
    "# from open3d import JVisualizer \n",
    "from Utils import *\n",
    "from DDBSCAN import Raster_DBSCAN\n",
    "import open3d as op3\n",
    "# op3.visualization.webrtc_server.enable_webrtc()\n",
    "from open3d.web_visualizer import draw\n",
    "from VisulizerTools import *\n",
    "from tqdm import tqdm_notebook\n",
    "import time\n",
    "from sklearn.cluster import DBSCAN\n",
    "# +80"
   ]
  },
  {
   "cell_type": "code",
   "execution_count": 160,
   "id": "217fd0c3",
   "metadata": {},
   "outputs": [],
   "source": [
    "file_path = r'D:\\LiDAR_Data\\MidTown\\PCAP_BCK\\Liberty\\Days\\2021-12-12-16-0-0.pcap'\n",
    "fpcap = open(file_path, 'rb')\n",
    "lidar_reader = dpkt.pcap.Reader(fpcap)\n",
    "loader = frame_gen(lidar_reader)"
   ]
  },
  {
   "cell_type": "code",
   "execution_count": 151,
   "id": "a9a4ad2c",
   "metadata": {},
   "outputs": [
    {
     "name": "stdout",
     "output_type": "stream",
     "text": [
      "ND\n",
      "SI\n"
     ]
    }
   ],
   "source": [
    "Reads = []\n",
    "while True:\n",
    "    try:\n",
    "        read = next(lidar_reader)\n",
    "        Reads.append(read)\n",
    "    except dpkt.NeedData as e1:\n",
    "        print('ND')\n",
    "        continue\n",
    "    except StopIteration as e2:\n",
    "        print('SI')\n",
    "        break "
   ]
  },
  {
   "cell_type": "code",
   "execution_count": 158,
   "id": "dd458835",
   "metadata": {},
   "outputs": [
    {
     "data": {
      "text/plain": [
       "1248"
      ]
     },
     "execution_count": 158,
     "metadata": {},
     "output_type": "execute_result"
    }
   ],
   "source": [
    "len(Reads[0][1])"
   ]
  },
  {
   "cell_type": "code",
   "execution_count": 161,
   "id": "c2297fde",
   "metadata": {
    "scrolled": true
   },
   "outputs": [
    {
     "name": "stderr",
     "output_type": "stream",
     "text": [
      "1119it [00:44, 25.32it/s]\n"
     ]
    }
   ],
   "source": [
    "Td_maps = []\n",
    "for td in tqdm(loader):\n",
    "    if td is not None:\n",
    "        Td_maps.append(td)\n",
    "    else:\n",
    "        break"
   ]
  },
  {
   "cell_type": "code",
   "execution_count": 128,
   "id": "6a7ba41a",
   "metadata": {},
   "outputs": [],
   "source": [
    "threshold_map = np.load(r'D:\\LiDAR_Data\\test\\Calibration\\bck_map.npy')"
   ]
  },
  {
   "cell_type": "code",
   "execution_count": 163,
   "id": "b64ae57b",
   "metadata": {
    "collapsed": true
   },
   "outputs": [
    {
     "data": {
      "application/vnd.jupyter.widget-view+json": {
       "model_id": "cc0754ed2af94b9c833f63138b4c8ad8",
       "version_major": 2,
       "version_minor": 0
      },
      "text/plain": [
       "WebVisualizer(window_uid='window_1')"
      ]
     },
     "metadata": {},
     "output_type": "display_data"
    }
   ],
   "source": [
    "clustering_td = Raster_DBSCAN(window_size=(5,15),eps = 1.2, min_samples= 12, Td_map_szie=threshold_map.shape)   \n",
    "Td_map = Td_maps[-1]\n",
    "Foreground_map = (Td_map < threshold_map)&(Td_map != 0)\n",
    "Labeling_map = clustering_td.fit_predict(Td_map= Td_map,Foreground_map=Foreground_map)\n",
    "Background_map = (Td_map >= threshold_map)&(Td_map != 0)\n",
    "pcd = get_pcd_colored_filtered(Td_map,Labeling_map,Foreground_map)\n",
    "draw(pcd,height=1000,width=1000)"
   ]
  },
  {
   "cell_type": "code",
   "execution_count": 189,
   "id": "5b580e5b",
   "metadata": {},
   "outputs": [
    {
     "data": {
      "application/vnd.jupyter.widget-view+json": {
       "model_id": "59f6cd3fdaa44bcd961acdb2611d319a",
       "version_major": 2,
       "version_minor": 0
      },
      "text/plain": [
       "WebVisualizer(window_uid='window_3')"
      ]
     },
     "metadata": {},
     "output_type": "display_data"
    }
   ],
   "source": [
    "clustering_td = Raster_DBSCAN(window_size=(5,15),eps = 1.2, min_samples= 12, Td_map_szie=threshold_map.shape)   \n",
    "Td_map = Td_maps[20]\n",
    "Foreground_map = (Td_map < threshold_map)&(Td_map != 0)\n",
    "Labeling_map = clustering_td.fit_predict(Td_map= Td_map,Foreground_map=Foreground_map)\n",
    "Background_map = (Td_map >= threshold_map)&(Td_map != 0)\n",
    "pcd = get_pcd_colored_filtered(Td_map,Labeling_map,Foreground_map)\n",
    "draw(pcd,height=1000,width=1000)"
   ]
  },
  {
   "cell_type": "code",
   "execution_count": 180,
   "id": "ec9d7173",
   "metadata": {},
   "outputs": [],
   "source": [
    "Foreground_map = np.full(Td_maps[0].shape,True)\n",
    "Labeling_map = np.ones_like(Foreground_map)\n",
    "pcd = get_pcd_colored(Td_maps[0],Labeling_map)"
   ]
  },
  {
   "cell_type": "code",
   "execution_count": 181,
   "id": "2b0c1305",
   "metadata": {},
   "outputs": [
    {
     "data": {
      "application/vnd.jupyter.widget-view+json": {
       "model_id": "66bba4a29c134758bb75880518c0f885",
       "version_major": 2,
       "version_minor": 0
      },
      "text/plain": [
       "WebVisualizer(window_uid='window_0')"
      ]
     },
     "metadata": {},
     "output_type": "display_data"
    }
   ],
   "source": [
    "draw(pcd)"
   ]
  },
  {
   "cell_type": "code",
   "execution_count": 123,
   "id": "82386218",
   "metadata": {},
   "outputs": [
    {
     "name": "stdout",
     "output_type": "stream",
     "text": [
      "Done\n"
     ]
    }
   ],
   "source": [
    "Reads = []\n",
    "while True:\n",
    "    try:\n",
    "        Reads.append(next(lidar_reader))\n",
    "    except StopIteration:\n",
    "        print('Done')\n",
    "        break"
   ]
  },
  {
   "cell_type": "code",
   "execution_count": 42,
   "id": "8952af23",
   "metadata": {},
   "outputs": [],
   "source": [
    "laser_id = np.full((32,12),np.arange(32).reshape(-1,1).astype('int'))\n",
    "Data_order = np.array([[-25,1.4],[-1,-4.2],[-1.667,1.4],[-15.639,-1.4],\n",
    "                                    [-11.31,1.4],[0,-1.4],[-0.667,4.2],[-8.843,-1.4],\n",
    "                                    [-7.254,1.4],[0.333,-4.2],[-0.333,1.4],[-6.148,-1.4],\n",
    "                                    [-5.333,4.2],[1.333,-1.4],[0.667,4.2],[-4,-1.4],\n",
    "                                    [-4.667,1.4],[1.667,-4.2],[1,1.4],[-3.667,-4.2],\n",
    "                                    [-3.333,4.2],[3.333,-1.4],[2.333,1.4],[-2.667,-1.4],\n",
    "                                    [-3,1.4],[7,-1.4],[4.667,1.4],[-2.333,-4.2],\n",
    "                                    [-2,4.2],[15,-1.4],[10.333,1.4],[-1.333,-1.4]\n",
    "                                    ])\n",
    "omega = Data_order[:,0]"
   ]
  },
  {
   "cell_type": "code",
   "execution_count": 43,
   "id": "55f1fdba",
   "metadata": {},
   "outputs": [],
   "source": [
    "def read_uint32(data, idx):\n",
    "    return data[idx] + data[idx+1]*256 + data[idx+2]*256*256 + data[idx+3]*256*256*256\n",
    "def read_firing_data(data):\n",
    "    block_id = data[0] + data[1]*256\n",
    "    azimuth = (data[2] + data[3] * 256) / 100 # degree\n",
    "    firings = data[4:].reshape(32, 3) \n",
    "    distances = firings[:, 0] + firings[:, 1] * 256 # mm \n",
    "    intensities = firings[:, 2] # 0-255\n",
    "    return distances, intensities, azimuth #(1,0)\n",
    "\n",
    "def calc_timing_offsets():\n",
    "    timing_offsets = np.zeros((32,12))  # Init matrix\n",
    "    # constants\n",
    "    full_firing_cycle = 55.296  # μs\n",
    "    single_firing = 2.304  # μs\n",
    "    # compute timing offsets\n",
    "    for x in range(12):\n",
    "        for y in range(32):\n",
    "            dataBlockIndex = (x * 2) + int((y / 16))\n",
    "            dataPointIndex = y % 16\n",
    "            timing_offsets[y][x] = (full_firing_cycle * dataBlockIndex) +(single_firing * dataPointIndex)\n",
    "    return np.array(timing_offsets).T\n",
    "\n",
    "def calc_precise_azimuth(azimuth_per_block):\n",
    "\n",
    "    # block_number: how many blocks are required to be processed \n",
    "\n",
    "    org_azi = azimuth_per_block.copy()\n",
    "    precision_azimuth = []\n",
    "    # iterate through each block\n",
    "    for n in range(len(org_azi)): # n=0..11\n",
    "        azimuth = org_azi.copy()\n",
    "        try:\n",
    "            # First, adjust for an Azimuth rollover from 359.99° to 0°\n",
    "            if azimuth[n + 1] < azimuth[n]:\n",
    "                azimuth[n + 1] += 360\n",
    "\n",
    "            # Determine the azimuth Gap between data blocks\n",
    "            azimuth_gap = azimuth[n + 1] - azimuth[n]\n",
    "        except:\n",
    "            if azimuth[n] < azimuth[n-1]:\n",
    "                azimuth[n] += 360\n",
    "            azimuth_gap = azimuth[n] - azimuth[n-1]\n",
    "\n",
    "        factor = azimuth_gap / 32.\n",
    "        k = np.arange(32)\n",
    "        precise_azimuth = azimuth[n] + factor * k\n",
    "        precision_azimuth.append(precise_azimuth)\n",
    "\n",
    "    precision_azimuth = np.array(precision_azimuth).T\n",
    "    return precision_azimuth # 32 * 12\n",
    "\n",
    "def parse_one_packet(data):\n",
    "    data = np.frombuffer(data, dtype=np.uint8).astype(np.uint32)\n",
    "    blocks = data[0:1200].reshape(12, 100)\n",
    "    # Timestamp = self.read_uint32(data[1200:1204],0)\n",
    "    distances = []#12*32\n",
    "    intensities = []#12*32\n",
    "    azimuth_per_block = [] #(12,0)\n",
    "    # iteratie through each block\n",
    "    for i, blk in enumerate(blocks):\n",
    "        dists, intens, angles = read_firing_data(blk)\n",
    "        distances.append(dists) #12*32\n",
    "        intensities.append(intens) #12*32\n",
    "        azimuth_per_block.append(angles)\n",
    "\n",
    "    azimuth_per_block = np.array(azimuth_per_block).T\n",
    "    distances = 4/1000*np.array(distances).T # 32,12\n",
    "    intensities = np.array(intensities).T # 32,12\n",
    "\n",
    "    return distances,intensities, azimuth_per_block # 12*0\n",
    "\n",
    "def cal_angle_diff(advance_angle,lagging_angle):\n",
    "    if advance_angle < lagging_angle:\n",
    "        return advance_angle + 360 - lagging_angle\n",
    "    else:\n",
    "        return advance_angle - lagging_angle"
   ]
  },
  {
   "cell_type": "code",
   "execution_count": 159,
   "id": "c421f462",
   "metadata": {},
   "outputs": [],
   "source": [
    "def frame_gen(lidar_reader):\n",
    "    frame_initial_azimuth = -1\n",
    "    cur_azimuth = -1\n",
    "    culmulative_azimuth = 0\n",
    "    culmulative_azimuth_values = []\n",
    "    culmulative_laser_ids = []\n",
    "    culmulative_distances = []\n",
    "#     Iteration_stop_sign = False\n",
    "    while True:\n",
    "        Td_map = np.zeros((32,1800))\n",
    "        Intens_map = np.zeros((32,1800))\n",
    "        while True:\n",
    "            try:\n",
    "                ts,buf = next(lidar_reader)\n",
    "            except (StopIteration,dpkt.NeedData) as e1:\n",
    "                yield None\n",
    "            if len(buf) == 1248:\n",
    "                eth = dpkt.ethernet.Ethernet(buf)\n",
    "                data = eth.data.data.data\n",
    "                packet_status = eth.data.data.sport\n",
    "                if packet_status == 2368:\n",
    "                    if len(data)<1206:\n",
    "                        culmulative_azimuth += 2.4\n",
    "                        continue\n",
    "                    # 32,12, 32,12, （12，） azi\n",
    "                    distances,intensities,azimuth_per_block = parse_one_packet(data)\n",
    "                    azimuth = calc_precise_azimuth(azimuth_per_block) # 32 x 12\n",
    "\n",
    "    #                 print(azimuth_per_block)\n",
    "                    if frame_initial_azimuth == -1: #initialization\n",
    "                        frame_initial_azimuth = azimuth_per_block[0]\n",
    "                        cur_azimuth = azimuth_per_block[-1]\n",
    "                        culmulative_azimuth_values.append(azimuth)\n",
    "                        culmulative_laser_ids.append(laser_id)\n",
    "                        culmulative_distances.append(distances)\n",
    "                        # azimuth_ind = azimuth_ind.flatten()\n",
    "                        # Td_map[laser_id,azimuth_ind] = distances.flatten()\n",
    "                        culmulative_azimuth += cal_angle_diff(azimuth_per_block[-1],azimuth_per_block[0])\n",
    "                    else:\n",
    "                        # non-initialization\n",
    "                        diff = cal_angle_diff(azimuth_per_block[-1],cur_azimuth)\n",
    "                        culmulative_azimuth += diff \n",
    "\n",
    "                        if culmulative_azimuth > 360: \n",
    "\n",
    "                            culmulative_azimuth_values.append(azimuth)\n",
    "                            culmulative_laser_ids.append(laser_id)\n",
    "                            culmulative_distances.append(distances)\n",
    "\n",
    "                            culmulative_azimuth_values = np.concatenate(culmulative_azimuth_values,axis = 1)\n",
    "                            culmulative_azimuth_values += Data_order[:,1].reshape(-1,1)\n",
    "                            culmulative_laser_ids = np.concatenate(culmulative_laser_ids,axis = 1).flatten()\n",
    "                            culmulative_distances = np.concatenate(culmulative_distances,axis = 1).flatten()\n",
    "\n",
    "                            culmulative_azimuth_inds = np.around(culmulative_azimuth_values/0.2).astype('int').flatten()\n",
    "                            culmulative_azimuth_inds[culmulative_azimuth_inds > 1799] -= 1800\n",
    "                            culmulative_azimuth_inds[culmulative_azimuth_inds < 0 ] += 1800\n",
    "\n",
    "                            Td_map[culmulative_laser_ids,culmulative_azimuth_inds] = culmulative_distances\n",
    "                            culmulative_azimuth = 0\n",
    "                            culmulative_azimuth_values = []\n",
    "                            culmulative_laser_ids = []\n",
    "                            culmulative_distances = []\n",
    "\n",
    "                            cur_azimuth = azimuth_per_block[-1]\n",
    "\n",
    "                            yield Td_map[np.argsort(omega),:] #32*1800\n",
    "\n",
    "                        else:\n",
    "                            culmulative_azimuth_values.append(azimuth)\n",
    "                            culmulative_laser_ids.append(laser_id)\n",
    "                            culmulative_distances.append(distances)\n",
    "                            cur_azimuth = azimuth_per_block[-1]"
   ]
  },
  {
   "cell_type": "code",
   "execution_count": 1,
   "id": "eb5e21d5",
   "metadata": {},
   "outputs": [],
   "source": [
    "from math import sqrt\n",
    "from joblib import Parallel, delayed  \n",
    "from tqdm import tqdm  "
   ]
  },
  {
   "cell_type": "code",
   "execution_count": 2,
   "id": "448c2818",
   "metadata": {},
   "outputs": [
    {
     "name": "stderr",
     "output_type": "stream",
     "text": [
      "100%|██████████████████████████████████████████████████████████████████████| 100000/100000 [00:00<00:00, 169067.01it/s]\n"
     ]
    }
   ],
   "source": [
    "result = Parallel(n_jobs=2)(delayed(sqrt)(i ** 2) for i in tqdm(range(100000)))\n"
   ]
  }
 ],
 "metadata": {
  "kernelspec": {
   "display_name": "Python 3 (ipykernel)",
   "language": "python",
   "name": "python3"
  },
  "language_info": {
   "codemirror_mode": {
    "name": "ipython",
    "version": 3
   },
   "file_extension": ".py",
   "mimetype": "text/x-python",
   "name": "python",
   "nbconvert_exporter": "python",
   "pygments_lexer": "ipython3",
   "version": "3.8.12"
  }
 },
 "nbformat": 4,
 "nbformat_minor": 5
}
