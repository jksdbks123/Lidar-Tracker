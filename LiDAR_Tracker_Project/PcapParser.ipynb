{
 "cells": [
  {
   "cell_type": "code",
   "execution_count": 12,
   "id": "56909c12",
   "metadata": {},
   "outputs": [],
   "source": [
    "import dpkt\n",
    "from tqdm import tqdm\n",
    "import numpy as np\n",
    "import matplotlib.pyplot as plt\n",
    "import os\n",
    "from BfTableGenerator import TDmapLoader\n",
    "from tqdm import tqdm\n",
    "from Utils import *\n",
    "from DDBSCAN import Raster_DBSCAN\n",
    "import open3d as op3\n",
    "from open3d.web_visualizer import draw\n",
    "from VisulizerTools import *\n",
    "import time\n",
    "from sklearn.cluster import DBSCAN\n",
    "import cv2 as cv"
   ]
  },
  {
   "cell_type": "code",
   "execution_count": 9,
   "id": "b860fc8f",
   "metadata": {},
   "outputs": [],
   "source": [
    "file_path = r'D:\\LiDAR_Data\\MidTown\\Thoma\\2021-12-18-12-0-0.pcap'\n",
    "loader = TDmapLoader(file_path).frame_gen()"
   ]
  },
  {
   "cell_type": "code",
   "execution_count": 10,
   "id": "c2297fde",
   "metadata": {
    "scrolled": true
   },
   "outputs": [
    {
     "name": "stderr",
     "output_type": "stream",
     "text": [
      "17964it [10:42, 27.98it/s]\n"
     ]
    }
   ],
   "source": [
    "Td_maps = []\n",
    "for td in tqdm(loader):\n",
    "    if td is not None:\n",
    "        Td_maps.append(td)\n",
    "    else:\n",
    "        break"
   ]
  },
  {
   "cell_type": "code",
   "execution_count": 13,
   "id": "274a6e78",
   "metadata": {},
   "outputs": [],
   "source": [
    "def get_maps(db,Td_map,threshold_map):\n",
    "    Foreground_map = (Td_map < threshold_map)&(Td_map != 0)\n",
    "    Labeling_map = clustering_td.fit_predict(Td_map= Td_map,Foreground_map=Foreground_map)\n",
    "    return Foreground_map,Labeling_map"
   ]
  },
  {
   "cell_type": "code",
   "execution_count": null,
   "id": "b90dccad",
   "metadata": {},
   "outputs": [],
   "source": [
    "flow = cv.calcOpticalFlowFarneback(prev_gray, gray, None,0.5, 3, 15, 3, 5, 1.2, 0)"
   ]
  },
  {
   "cell_type": "code",
   "execution_count": 163,
   "id": "b64ae57b",
   "metadata": {},
   "outputs": [
    {
     "data": {
      "application/vnd.jupyter.widget-view+json": {
       "model_id": "cc0754ed2af94b9c833f63138b4c8ad8",
       "version_major": 2,
       "version_minor": 0
      },
      "text/plain": [
       "WebVisualizer(window_uid='window_1')"
      ]
     },
     "metadata": {},
     "output_type": "display_data"
    }
   ],
   "source": [
    "clustering_td = Raster_DBSCAN(window_size=(5,15),eps = 1.2, min_samples= 12, Td_map_szie=threshold_map.shape)   \n",
    "Td_map = Td_maps[-1]\n",
    "Foreground_map = (Td_map < threshold_map)&(Td_map != 0)\n",
    "Labeling_map = clustering_td.fit_predict(Td_map= Td_map,Foreground_map=Foreground_map)\n",
    "Background_map = (Td_map >= threshold_map)&(Td_map != 0)\n",
    "pcd = get_pcd_colored_filtered(Td_map,Labeling_map,Foreground_map)\n",
    "draw(pcd,height=1000,width=1000)"
   ]
  },
  {
   "cell_type": "code",
   "execution_count": 189,
   "id": "5b580e5b",
   "metadata": {},
   "outputs": [
    {
     "data": {
      "application/vnd.jupyter.widget-view+json": {
       "model_id": "59f6cd3fdaa44bcd961acdb2611d319a",
       "version_major": 2,
       "version_minor": 0
      },
      "text/plain": [
       "WebVisualizer(window_uid='window_3')"
      ]
     },
     "metadata": {},
     "output_type": "display_data"
    }
   ],
   "source": [
    "clustering_td = Raster_DBSCAN(window_size=(5,15),eps = 1.2, min_samples= 12, Td_map_szie=threshold_map.shape)   \n",
    "Td_map = Td_maps[20]\n",
    "Foreground_map = (Td_map < threshold_map)&(Td_map != 0)\n",
    "Labeling_map = clustering_td.fit_predict(Td_map= Td_map,Foreground_map=Foreground_map)\n",
    "Background_map = (Td_map >= threshold_map)&(Td_map != 0)\n",
    "pcd = get_pcd_colored_filtered(Td_map,Labeling_map,Foreground_map)\n",
    "draw(pcd,height=1000,width=1000)"
   ]
  },
  {
   "cell_type": "code",
   "execution_count": 180,
   "id": "ec9d7173",
   "metadata": {},
   "outputs": [],
   "source": [
    "Foreground_map = np.full(Td_maps[0].shape,True)\n",
    "Labeling_map = np.ones_like(Foreground_map)\n",
    "pcd = get_pcd_colored(Td_maps[0],Labeling_map)"
   ]
  },
  {
   "cell_type": "code",
   "execution_count": 181,
   "id": "2b0c1305",
   "metadata": {},
   "outputs": [
    {
     "data": {
      "application/vnd.jupyter.widget-view+json": {
       "model_id": "66bba4a29c134758bb75880518c0f885",
       "version_major": 2,
       "version_minor": 0
      },
      "text/plain": [
       "WebVisualizer(window_uid='window_0')"
      ]
     },
     "metadata": {},
     "output_type": "display_data"
    }
   ],
   "source": [
    "draw(pcd)"
   ]
  }
 ],
 "metadata": {
  "kernelspec": {
   "display_name": "Python 3 (ipykernel)",
   "language": "python",
   "name": "python3"
  },
  "language_info": {
   "codemirror_mode": {
    "name": "ipython",
    "version": 3
   },
   "file_extension": ".py",
   "mimetype": "text/x-python",
   "name": "python",
   "nbconvert_exporter": "python",
   "pygments_lexer": "ipython3",
   "version": "3.8.12"
  }
 },
 "nbformat": 4,
 "nbformat_minor": 5
}
