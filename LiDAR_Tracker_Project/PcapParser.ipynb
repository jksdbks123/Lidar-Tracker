{
 "cells": [
  {
   "cell_type": "code",
   "execution_count": 3,
   "id": "56909c12",
   "metadata": {},
   "outputs": [
    {
     "name": "stdout",
     "output_type": "stream",
     "text": [
      "Jupyter environment detected. Enabling Open3D WebVisualizer.\n",
      "[Open3D INFO] WebRTC GUI backend enabled.\n",
      "[Open3D INFO] WebRTCWindowSystem: HTTP handshake server disabled.\n",
      "[Open3D INFO] Resetting default logger to print to terminal.\n"
     ]
    }
   ],
   "source": [
    "import dpkt\n",
    "from tqdm import tqdm\n",
    "import numpy as np\n",
    "import matplotlib.pyplot as plt\n",
    "import os\n",
    "from BfTableGenerator import TDmapLoader\n",
    "from tqdm import tqdm\n",
    "from Utils import *\n",
    "from DDBSCAN import Raster_DBSCAN\n",
    "import open3d as op3\n",
    "from open3d.web_visualizer import draw\n",
    "from VisulizerTools import *\n",
    "import time\n",
    "from sklearn.cluster import DBSCAN\n",
    "import cv2 as cv\n",
    "import matplotlib.pyplot as plt"
   ]
  },
  {
   "cell_type": "code",
   "execution_count": 4,
   "id": "4553986a",
   "metadata": {},
   "outputs": [],
   "source": [
    "def get_maps(db,Td_map,threshold_map):\n",
    "    Foreground_map = (Td_map < threshold_map)&(Td_map != 0)\n",
    "    Labeling_map = clustering_td.fit_predict(Td_map= Td_map,Foreground_map=Foreground_map)\n",
    "    return Foreground_map,Labeling_map"
   ]
  },
  {
   "cell_type": "code",
   "execution_count": 5,
   "id": "b860fc8f",
   "metadata": {},
   "outputs": [
    {
     "name": "stderr",
     "output_type": "stream",
     "text": [
      "2000it [01:14, 27.00it/s]\n"
     ]
    }
   ],
   "source": [
    "file_path = r'D:\\LiDAR_Data\\MidTown\\Thoma\\2021-12-18-12-0-0.pcap'\n",
    "loader = TDmapLoader(file_path).frame_gen()\n",
    "Td_maps = []\n",
    "for td in tqdm(loader):\n",
    "    if len(Td_maps) >= 2000:\n",
    "        break\n",
    "    if td is not None:\n",
    "        Td_maps.append(td)\n",
    "    else:\n",
    "        break"
   ]
  },
  {
   "cell_type": "code",
   "execution_count": 6,
   "id": "2bde4c32",
   "metadata": {},
   "outputs": [],
   "source": [
    "threshold_map = gen_bckmap(np.array(Td_maps),0.5,0.5,20,0.001,0.1)"
   ]
  },
  {
   "cell_type": "code",
   "execution_count": 7,
   "id": "07d3a65c",
   "metadata": {},
   "outputs": [],
   "source": [
    "clustering_td = Raster_DBSCAN(window_size=(5,15),eps = 1.2, min_samples= 12, Td_map_szie=threshold_map.shape)   "
   ]
  },
  {
   "cell_type": "code",
   "execution_count": 8,
   "id": "eeff65d7",
   "metadata": {},
   "outputs": [],
   "source": [
    "lk_params = dict( winSize  = (5, 5),\n",
    "                  maxLevel = 2,\n",
    "                  criteria = (cv.TERM_CRITERIA_EPS | cv.TERM_CRITERIA_COUNT, 10, 0.03))"
   ]
  },
  {
   "cell_type": "code",
   "execution_count": 9,
   "id": "26139688",
   "metadata": {},
   "outputs": [],
   "source": [
    "def convert_fornmat(Td_map):\n",
    "    Td_map[Td_map>200] = 200\n",
    "    Td_map = ((Td_map/200)*255).astype(np.uint8)\n",
    "    return Td_map"
   ]
  },
  {
   "cell_type": "code",
   "execution_count": 10,
   "id": "994946db",
   "metadata": {},
   "outputs": [],
   "source": [
    "def get_features_pred(Labeling_map_cur,Labeling_map_next,Td_map_cur,Td_map_next):\n",
    "    \n",
    "    Td_map_cur,Td_map_next = convert_fornmat(Td_map_cur),convert_fornmat(Td_map_next)\n",
    "    rows_cur, cols_cur = np.where(Labeling_map_cur != -1) # x0: col, y0: row \n",
    "    rows_next, cols_next = np.where(Labeling_map_next != -1) # x0: col, y0: row \n",
    "    p0 = np.array([cols_cur,rows_cur]).T\n",
    "    p0 = p0.reshape(-1,1,2).astype(np.float32)\n",
    "    p1, st, err = cv.calcOpticalFlowPyrLK(Td_map_cur, Td_map_next, p0, None, **lk_params)\n",
    "    \n",
    "    return p1,st,rows_cur,cols_cur,rows_next,cols_next"
   ]
  },
  {
   "cell_type": "code",
   "execution_count": 15,
   "id": "2d94d208",
   "metadata": {},
   "outputs": [],
   "source": [
    "Td_map_cur,Td_map_next = Td_maps[37].copy(),Td_maps[38].copy()\n",
    "Foreground_map_cur,Labeling_map_cur = get_maps(clustering_td,Td_map_cur,threshold_map)\n",
    "Foreground_map_next,Labeling_map_next = get_maps(clustering_td,Td_map_next,threshold_map)"
   ]
  },
  {
   "cell_type": "code",
   "execution_count": 16,
   "id": "762b5ff4",
   "metadata": {},
   "outputs": [],
   "source": [
    "cooresponding_map = np.array([Labeling_map_cur.flatten(),Labeling_map_next.flatten()]).T"
   ]
  },
  {
   "cell_type": "code",
   "execution_count": null,
   "id": "7de107d4",
   "metadata": {},
   "outputs": [],
   "source": [
    "def cal_mean_dist(pair,):\n",
    "    "
   ]
  },
  {
   "cell_type": "code",
   "execution_count": 52,
   "id": "fba3670c",
   "metadata": {
    "scrolled": true
   },
   "outputs": [],
   "source": [
    "pairs,counts = np.unique(cooresponding_map,return_counts = True, axis = 0)\n",
    "rows,cols = [for pair in pairs],[]\n",
    "dises = [for pair in pairs]\n",
    "# associate_pair_ind = ~(pairs == -1).any(axis = 1)\n",
    "# associated_counts = counts[associate_pair_ind]\n",
    "# associated_pairs = pairs[associate_pair_ind]"
   ]
  },
  {
   "cell_type": "code",
   "execution_count": 60,
   "id": "55c305b8",
   "metadata": {
    "scrolled": true
   },
   "outputs": [
    {
     "data": {
      "text/plain": [
       "array([[-1, -1],\n",
       "       [-1,  0],\n",
       "       [-1,  1],\n",
       "       [-1,  2],\n",
       "       [-1,  3],\n",
       "       [-1,  4],\n",
       "       [-1,  5],\n",
       "       [-1,  6],\n",
       "       [-1,  7],\n",
       "       [-1,  8],\n",
       "       [-1, 10],\n",
       "       [-1, 11],\n",
       "       [-1, 12],\n",
       "       [-1, 13],\n",
       "       [-1, 14],\n",
       "       [-1, 15],\n",
       "       [-1, 16],\n",
       "       [-1, 17],\n",
       "       [-1, 18],\n",
       "       [-1, 19],\n",
       "       [-1, 20],\n",
       "       [-1, 21],\n",
       "       [-1, 22],\n",
       "       [-1, 23],\n",
       "       [-1, 24],\n",
       "       [-1, 25],\n",
       "       [-1, 26],\n",
       "       [-1, 27],\n",
       "       [-1, 28],\n",
       "       [ 0, -1],\n",
       "       [ 0,  1],\n",
       "       [ 1, -1],\n",
       "       [ 1,  2],\n",
       "       [ 2, -1],\n",
       "       [ 2,  3],\n",
       "       [ 3, -1],\n",
       "       [ 3,  4],\n",
       "       [ 4, -1],\n",
       "       [ 4,  7],\n",
       "       [ 5, -1],\n",
       "       [ 5,  5],\n",
       "       [ 6, -1],\n",
       "       [ 6, 10],\n",
       "       [ 7, -1],\n",
       "       [ 7,  6],\n",
       "       [ 8, -1],\n",
       "       [ 8,  9],\n",
       "       [ 9, -1],\n",
       "       [ 9, 11],\n",
       "       [ 9, 21],\n",
       "       [10, -1],\n",
       "       [11, -1],\n",
       "       [11, 12],\n",
       "       [12, -1],\n",
       "       [12, 17],\n",
       "       [13, -1],\n",
       "       [13, 18],\n",
       "       [14, -1],\n",
       "       [15, -1],\n",
       "       [15, 19],\n",
       "       [15, 24],\n",
       "       [16, -1],\n",
       "       [16, 15],\n",
       "       [17, -1],\n",
       "       [17, 12],\n",
       "       [18, -1],\n",
       "       [18,  5],\n",
       "       [18,  7],\n",
       "       [19, -1],\n",
       "       [19, 20],\n",
       "       [20, -1],\n",
       "       [20, 22],\n",
       "       [21, -1],\n",
       "       [21,  5],\n",
       "       [22, -1],\n",
       "       [23, -1],\n",
       "       [23, 25],\n",
       "       [24, -1],\n",
       "       [25, -1],\n",
       "       [25, 23],\n",
       "       [26, -1],\n",
       "       [26, 21],\n",
       "       [27, -1],\n",
       "       [27, 21]], dtype=int64)"
      ]
     },
     "execution_count": 60,
     "metadata": {},
     "output_type": "execute_result"
    }
   ],
   "source": [
    "pairs"
   ]
  },
  {
   "cell_type": "code",
   "execution_count": 89,
   "id": "a89d6873",
   "metadata": {
    "scrolled": true
   },
   "outputs": [],
   "source": [
    "associated_matrix = np.zeros((Labeling_map_cur.max() + 1,Labeling_map_next.max() + 1))\n",
    "dis_matrix = 200 * np.ones((Labeling_map_cur.max() + 1,Labeling_map_next.max() + 1))\n",
    "for i,pair in enumerate(pairs):\n",
    "    if (-1 == pair).any():\n",
    "        continue\n",
    "    associated_matrix[pair[0],pair[1]] = counts[i]\n",
    "    dis_matrix[]\n",
    "    "
   ]
  },
  {
   "cell_type": "code",
   "execution_count": 50,
   "id": "40205505",
   "metadata": {
    "scrolled": true
   },
   "outputs": [
    {
     "name": "stdout",
     "output_type": "stream",
     "text": [
      "18\n"
     ]
    },
    {
     "data": {
      "application/vnd.jupyter.widget-view+json": {
       "model_id": "76c0483d2f2e493c95b640d5c15a18f8",
       "version_major": 2,
       "version_minor": 0
      },
      "text/plain": [
       "WebVisualizer(window_uid='window_26')"
      ]
     },
     "metadata": {},
     "output_type": "display_data"
    },
    {
     "data": {
      "application/vnd.jupyter.widget-view+json": {
       "model_id": "f13a748588aa454ab142c8be16e87ee7",
       "version_major": 2,
       "version_minor": 0
      },
      "text/plain": [
       "WebVisualizer(window_uid='window_27')"
      ]
     },
     "metadata": {},
     "output_type": "display_data"
    }
   ],
   "source": [
    "ind = 7\n",
    "pcd = get_pcd_colored_specified(Td_map_cur,Labeling_map_cur, [associated_pairs[ind,0]])\n",
    "print(associated_counts[ind])\n",
    "draw(pcd,height=1000,width=1000)\n",
    "pcd = get_pcd_colored_specified(Td_map_next,Labeling_map_next, [associated_pairs[ind,1]])\n",
    "draw(pcd,height=1000,width=1000)\n"
   ]
  },
  {
   "cell_type": "code",
   "execution_count": null,
   "id": "66612a47",
   "metadata": {},
   "outputs": [],
   "source": []
  },
  {
   "cell_type": "code",
   "execution_count": null,
   "id": "6f548d37",
   "metadata": {},
   "outputs": [],
   "source": []
  },
  {
   "cell_type": "code",
   "execution_count": null,
   "id": "1d8d95bd",
   "metadata": {},
   "outputs": [],
   "source": []
  },
  {
   "cell_type": "code",
   "execution_count": 86,
   "id": "4e48dd34",
   "metadata": {},
   "outputs": [],
   "source": [
    "p1,st,rows_cur,cols_cur,rows_next,cols_next = get_features_pred(Labeling_map_cur,Labeling_map_next,Td_map_cur,Td_map_next)"
   ]
  },
  {
   "cell_type": "code",
   "execution_count": 87,
   "id": "3a2e3131",
   "metadata": {},
   "outputs": [],
   "source": [
    "Label_cur,Label_next = Labeling_map_cur[Labeling_map_cur != -1],Labeling_map_next[Labeling_map_next != -1]"
   ]
  },
  {
   "cell_type": "code",
   "execution_count": 90,
   "id": "0e7d87c4",
   "metadata": {
    "scrolled": false
   },
   "outputs": [
    {
     "data": {
      "image/png": "[encoded data removed]",
      "text/plain": [
       "<Figure size 720x720 with 1 Axes>"
      ]
     },
     "metadata": {
      "needs_background": "light"
     },
     "output_type": "display_data"
    }
   ],
   "source": [
    "plt.figure(figsize=(10,10))\n",
    "L_cur = 0\n",
    "L_next = 1\n",
    "plt.scatter(rows_cur[Label_cur == L_cur],cols_cur[Label_cur == L_cur],label = 'Cur')\n",
    "# plt.scatter(p1[:,0,1][Label_cur == L_cur],p1[:,0,0][Label_cur== L_cur],label = 'Pred')\n",
    "plt.scatter(rows_next[Label_next == L_next],cols_next[Label_next== L_next],label = 'Next')\n",
    "plt.legend()\n",
    "plt.show()"
   ]
  },
  {
   "cell_type": "code",
   "execution_count": 63,
   "id": "fb077acb",
   "metadata": {},
   "outputs": [
    {
     "data": {
      "application/vnd.jupyter.widget-view+json": {
       "model_id": "478d9b4ca5d3420dad7512b0f6993213",
       "version_major": 2,
       "version_minor": 0
      },
      "text/plain": [
       "WebVisualizer(window_uid='window_6')"
      ]
     },
     "metadata": {},
     "output_type": "display_data"
    }
   ],
   "source": [
    "pcd = get_pcd_colored_specified(Td_map_next,Labeling_map_next, [1])\n",
    "draw(pcd,height=1000,width=1000)"
   ]
  },
  {
   "cell_type": "code",
   "execution_count": 66,
   "id": "fe092844",
   "metadata": {},
   "outputs": [
    {
     "data": {
      "application/vnd.jupyter.widget-view+json": {
       "model_id": "6e2830f965a4437e8363e07cbcbe5e4c",
       "version_major": 2,
       "version_minor": 0
      },
      "text/plain": [
       "WebVisualizer(window_uid='window_9')"
      ]
     },
     "metadata": {},
     "output_type": "display_data"
    }
   ],
   "source": [
    "pcd = get_pcd_colored_specified(Td_map_cur,Labeling_map_cur, [0])\n",
    "draw(pcd,height=1000,width=1000)"
   ]
  },
  {
   "cell_type": "code",
   "execution_count": null,
   "id": "ce40b051",
   "metadata": {},
   "outputs": [],
   "source": []
  },
  {
   "cell_type": "code",
   "execution_count": 91,
   "id": "ab39b98f",
   "metadata": {},
   "outputs": [
    {
     "data": {
      "text/plain": [
       "array([[-1, -1, -1, ..., -1, -1, -1],\n",
       "       [-1, -1, -1, ..., -1, -1, -1],\n",
       "       [-1, -1, -1, ..., -1, -1, -1],\n",
       "       ...,\n",
       "       [-1, -1, -1, ..., -1, -1, -1],\n",
       "       [-1, -1, -1, ..., -1, -1, -1],\n",
       "       [-1, -1, -1, ..., -1, -1, -1]], dtype=int64)"
      ]
     },
     "execution_count": 91,
     "metadata": {},
     "output_type": "execute_result"
    }
   ],
   "source": [
    "Labeling_map_cur"
   ]
  },
  {
   "cell_type": "code",
   "execution_count": 92,
   "id": "74e8bd9d",
   "metadata": {},
   "outputs": [
    {
     "data": {
      "text/plain": [
       "array([[-1, -1, -1, ..., -1, -1, -1],\n",
       "       [-1, -1, -1, ..., -1, -1, -1],\n",
       "       [-1, -1, -1, ..., -1, -1, -1],\n",
       "       ...,\n",
       "       [-1, -1, -1, ..., -1, -1, -1],\n",
       "       [-1, -1, -1, ..., -1, -1, -1],\n",
       "       [-1, -1, -1, ..., -1, -1, -1]], dtype=int64)"
      ]
     },
     "execution_count": 92,
     "metadata": {},
     "output_type": "execute_result"
    }
   ],
   "source": [
    "Labeling_map_next"
   ]
  },
  {
   "cell_type": "code",
   "execution_count": 52,
   "id": "5b580e5b",
   "metadata": {},
   "outputs": [
    {
     "data": {
      "application/vnd.jupyter.widget-view+json": {
       "model_id": "77b21b76777844f49c260457ea79f80a",
       "version_major": 2,
       "version_minor": 0
      },
      "text/plain": [
       "WebVisualizer(window_uid='window_1')"
      ]
     },
     "metadata": {},
     "output_type": "display_data"
    }
   ],
   "source": [
    "clustering_td = Raster_DBSCAN(window_size=(5,15),eps = 1.2, min_samples= 12, Td_map_szie=threshold_map.shape)   \n",
    "Td_map = Td_maps[20]\n",
    "Foreground_map = (Td_map < threshold_map)&(Td_map != 0)\n",
    "Labeling_map = clustering_td.fit_predict(Td_map= Td_map,Foreground_map=Foreground_map)\n",
    "Background_map = (Td_map >= threshold_map)&(Td_map != 0)\n",
    "pcd = get_pcd_colored_filtered(Td_map,Labeling_map,Foreground_map)\n",
    "draw(pcd,height=1000,width=1000)"
   ]
  },
  {
   "cell_type": "code",
   "execution_count": 50,
   "id": "ec9d7173",
   "metadata": {},
   "outputs": [],
   "source": [
    "Foreground_map = np.full(Td_maps[0].shape,True)\n",
    "Labeling_map = np.ones_like(Foreground_map)\n",
    "pcd = get_pcd_colored(Td_maps[0],Labeling_map)"
   ]
  },
  {
   "cell_type": "code",
   "execution_count": 51,
   "id": "2b0c1305",
   "metadata": {},
   "outputs": [
    {
     "data": {
      "application/vnd.jupyter.widget-view+json": {
       "model_id": "2e705ca0b44d42f7aacc1b9b149880ed",
       "version_major": 2,
       "version_minor": 0
      },
      "text/plain": [
       "WebVisualizer(window_uid='window_0')"
      ]
     },
     "metadata": {},
     "output_type": "display_data"
    }
   ],
   "source": [
    "draw(pcd)"
   ]
  },
  {
   "cell_type": "code",
   "execution_count": null,
   "id": "aed29e49",
   "metadata": {},
   "outputs": [],
   "source": []
  }
 ],
 "metadata": {
  "kernelspec": {
   "display_name": "Python 3 (ipykernel)",
   "language": "python",
   "name": "python3"
  },
  "language_info": {
   "codemirror_mode": {
    "name": "ipython",
    "version": 3
   },
   "file_extension": ".py",
   "mimetype": "text/x-python",
   "name": "python",
   "nbconvert_exporter": "python",
   "pygments_lexer": "ipython3",
   "version": "3.8.12"
  }
 },
 "nbformat": 4,
 "nbformat_minor": 5
}
