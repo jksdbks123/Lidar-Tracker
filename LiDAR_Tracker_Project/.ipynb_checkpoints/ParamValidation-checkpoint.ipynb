{
 "cells": [
  {
   "cell_type": "code",
   "execution_count": 1,
   "id": "367df48b",
   "metadata": {},
   "outputs": [
    {
     "name": "stdout",
     "output_type": "stream",
     "text": [
      "Jupyter environment detected. Enabling Open3D WebVisualizer.\n",
      "[Open3D INFO] WebRTC GUI backend enabled.\n",
      "[Open3D INFO] WebRTCWindowSystem: HTTP handshake server disabled.\n",
      "[Open3D INFO] Resetting default logger to print to terminal.\n"
     ]
    }
   ],
   "source": [
    "import numpy as np\n",
    "import matplotlib.pyplot as plt\n",
    "import os\n",
    "from BfTableGenerator import RansacCollector\n",
    "from BfTableGenerator import TDmapLoader\n",
    "from tqdm import tqdm\n",
    "# from open3d import JVisualizer \n",
    "from Utils import *\n",
    "from DDBSCAN import Raster_DBSCAN\n",
    "import open3d as op3\n",
    "# op3.visualization.webrtc_server.enable_webrtc()\n",
    "from open3d.web_visualizer import draw\n",
    "from VisulizerTools import *\n",
    "from tqdm import tqdm_notebook\n",
    "import time\n",
    "from sklearn.cluster import DBSCAN\n",
    "# +80"
   ]
  },
  {
   "cell_type": "code",
   "execution_count": 50,
   "id": "5f42c543",
   "metadata": {},
   "outputs": [],
   "source": [
    "def get_thred_modified(ts,d ,thred_s ,N ,delta_thred ,step):# Ransac Para\n",
    "    ts_temp = ts.copy()\n",
    "    ts_temp[ts_temp == 0] = 1000\n",
    "    valid_dises = []\n",
    "    for i in range(N):\n",
    "        sample = np.random.choice(ts_temp,replace=False)\n",
    "        set_d = ts_temp[(ts_temp > sample - d)&(ts_temp < sample + d)]\n",
    "        condition_thred = len(set_d)/len(ts_temp) > thred_s\n",
    "        if condition_thred :\n",
    "            valid_dises.append(sample)\n",
    "            \n",
    "    if len(valid_dises) == 0:\n",
    "        return 1000\n",
    "\n",
    "    cur_thred = np.min(valid_dises)\n",
    "\n",
    "    while True:\n",
    "        next_thred = cur_thred - step\n",
    "        if (len(ts[ts > next_thred])/len(ts) - len(ts[ts > cur_thred])/len(ts)) < delta_thred:\n",
    "            break\n",
    "        cur_thred = next_thred\n",
    "\n",
    "    return next_thred"
   ]
  },
  {
   "cell_type": "code",
   "execution_count": 2,
   "id": "fc78aa59",
   "metadata": {},
   "outputs": [],
   "source": [
    "def get_pcd_colored_dir(Td_map,Colored_map):\n",
    "\n",
    "    Xs = []\n",
    "    Ys = []\n",
    "    Zs = []\n",
    "    Labels = []\n",
    "    for i in range(Td_map.shape[0]):\n",
    "        longitudes = theta[i]*np.pi / 180\n",
    "        latitudes = azimuths * np.pi / 180 \n",
    "        hypotenuses = Td_map[i] * np.cos(longitudes)\n",
    "        X = hypotenuses * np.sin(latitudes)\n",
    "        Y = hypotenuses * np.cos(latitudes)\n",
    "        Z = Td_map[i] * np.sin(longitudes)\n",
    "        Valid_ind = (Td_map[i] != 0)\n",
    "        Xs.append(X[Valid_ind])\n",
    "        Ys.append(Y[Valid_ind])\n",
    "        Zs.append(Z[Valid_ind])\n",
    "        Labels.append(Colored_map[i][Valid_ind])\n",
    "\n",
    "    Xs = np.concatenate(Xs)\n",
    "    Ys = np.concatenate(Ys)\n",
    "    Zs = np.concatenate(Zs)\n",
    "    Labels = np.concatenate(Labels)\n",
    "    XYZ = np.concatenate([Xs.reshape(-1,1),Ys.reshape(-1,1),Zs.reshape(-1,1)],axis = 1)\n",
    "    Colors = np.full((len(Labels),3),np.array([[153,153,153]])/256)\n",
    "    unique_label = np.unique(Labels)\n",
    "    for l in unique_label[1:]:\n",
    "        Colors[Labels == l] = color_map[l%len(color_map)]\n",
    "\n",
    "    pcd = op3.geometry.PointCloud()\n",
    "    pcd.points = op3.utility.Vector3dVector(XYZ)\n",
    "    pcd.colors = op3.utility.Vector3dVector(Colors)\n",
    "    \n",
    "    return pcd     "
   ]
  },
  {
   "cell_type": "code",
   "execution_count": null,
   "id": "85143c06",
   "metadata": {},
   "outputs": [],
   "source": [
    "collector = RansacCollector(pcap_path=r'D:\\LiDAR_Data\\MidTown\\PCAP_BCK\\Roundabout\\selected\\2022-1-20-0-30-0.pcap',output_file_path='D:\\LiDAR_Data\\MidTown\\Roundabout',update_frame_num=2000)\n",
    "collector.gen_tdmap()"
   ]
  },
  {
   "cell_type": "code",
   "execution_count": 32,
   "id": "33d525a2",
   "metadata": {},
   "outputs": [
    {
     "name": "stdout",
     "output_type": "stream",
     "text": [
      "Loading pcap...\n"
     ]
    },
    {
     "name": "stderr",
     "output_type": "stream",
     "text": [
      "100%|██████████████████████████████████████████████████████████████████████████████| 2000/2000 [01:16<00:00, 26.14it/s]\n"
     ]
    }
   ],
   "source": [
    "collector = RansacCollector(pcap_path=r'D:\\LiDAR_Data\\MidTown\\Roundabout\\2022-1-21-14-30-0.pcap',output_file_path='D:\\LiDAR_Data\\MidTown\\Roundabout',update_frame_num=2000)\n",
    "collector.gen_tdmap()"
   ]
  },
  {
   "cell_type": "code",
   "execution_count": 4,
   "id": "59a8e418",
   "metadata": {},
   "outputs": [],
   "source": [
    "threshold_map = np.load(r'D:\\LiDAR_Data\\MidTown\\Liberty\\Calibration\\bck_map.npy')"
   ]
  },
  {
   "cell_type": "code",
   "execution_count": 92,
   "id": "4532a83a",
   "metadata": {},
   "outputs": [
    {
     "data": {
      "text/plain": [
       "['2022-1-19-13-0-0.pcap',\n",
       " '2022-1-19-14-0-0.pcap',\n",
       " '2022-1-19-16-0-0.pcap',\n",
       " '2022-1-19-17-0-0.pcap',\n",
       " '2022-1-19-18-0-0.pcap',\n",
       " '2022-1-19-19-0-0.pcap',\n",
       " '2022-1-19-20-0-0.pcap',\n",
       " '2022-1-19-21-0-0.pcap',\n",
       " '2022-1-19-22-0-0.pcap',\n",
       " '2022-1-19-23-0-0.pcap',\n",
       " '2022-1-20-0-0-0.pcap',\n",
       " '2022-1-20-1-0-0.pcap',\n",
       " '2022-1-20-10-0-0.pcap',\n",
       " '2022-1-20-11-0-0.pcap',\n",
       " '2022-1-20-12-0-0.pcap',\n",
       " '2022-1-20-13-0-0.pcap',\n",
       " '2022-1-20-2-0-0.pcap',\n",
       " '2022-1-20-3-0-1R.pcap',\n",
       " '2022-1-20-4-0-0.pcap',\n",
       " '2022-1-20-5-0-0.pcap',\n",
       " '2022-1-20-6-0-0.pcap',\n",
       " '2022-1-20-7-0-0.pcap',\n",
       " '2022-1-20-8-0-0.pcap',\n",
       " '2022-1-20-9-0-0.pcap']"
      ]
     },
     "execution_count": 92,
     "metadata": {},
     "output_type": "execute_result"
    }
   ],
   "source": [
    "pcaps_list"
   ]
  },
  {
   "cell_type": "code",
   "execution_count": 86,
   "id": "e04ab740",
   "metadata": {
    "scrolled": true
   },
   "outputs": [
    {
     "name": "stdout",
     "output_type": "stream",
     "text": [
      "Loading pcap...\n"
     ]
    },
    {
     "name": "stderr",
     "output_type": "stream",
     "text": [
      "100%|██████████████████████████████████████████████████████████████████████████████| 2000/2000 [01:16<00:00, 26.31it/s]\n"
     ]
    },
    {
     "name": "stdout",
     "output_type": "stream",
     "text": [
      "Loading pcap...\n"
     ]
    },
    {
     "name": "stderr",
     "output_type": "stream",
     "text": [
      "100%|██████████████████████████████████████████████████████████████████████████████| 2000/2000 [01:15<00:00, 26.43it/s]\n"
     ]
    },
    {
     "name": "stdout",
     "output_type": "stream",
     "text": [
      "Loading pcap...\n"
     ]
    },
    {
     "name": "stderr",
     "output_type": "stream",
     "text": [
      "100%|██████████████████████████████████████████████████████████████████████████████| 2000/2000 [01:14<00:00, 26.90it/s]\n"
     ]
    },
    {
     "name": "stdout",
     "output_type": "stream",
     "text": [
      "Loading pcap...\n"
     ]
    },
    {
     "name": "stderr",
     "output_type": "stream",
     "text": [
      "100%|██████████████████████████████████████████████████████████████████████████████| 2000/2000 [01:14<00:00, 27.02it/s]\n"
     ]
    },
    {
     "name": "stdout",
     "output_type": "stream",
     "text": [
      "Loading pcap...\n"
     ]
    },
    {
     "name": "stderr",
     "output_type": "stream",
     "text": [
      "100%|██████████████████████████████████████████████████████████████████████████████| 2000/2000 [01:13<00:00, 27.06it/s]\n"
     ]
    },
    {
     "name": "stdout",
     "output_type": "stream",
     "text": [
      "Loading pcap...\n"
     ]
    },
    {
     "name": "stderr",
     "output_type": "stream",
     "text": [
      "100%|██████████████████████████████████████████████████████████████████████████████| 2000/2000 [01:13<00:00, 27.03it/s]\n"
     ]
    },
    {
     "name": "stdout",
     "output_type": "stream",
     "text": [
      "Loading pcap...\n"
     ]
    },
    {
     "name": "stderr",
     "output_type": "stream",
     "text": [
      "100%|██████████████████████████████████████████████████████████████████████████████| 2000/2000 [01:14<00:00, 26.78it/s]\n"
     ]
    },
    {
     "name": "stdout",
     "output_type": "stream",
     "text": [
      "Loading pcap...\n"
     ]
    },
    {
     "name": "stderr",
     "output_type": "stream",
     "text": [
      "100%|██████████████████████████████████████████████████████████████████████████████| 2000/2000 [01:15<00:00, 26.52it/s]\n"
     ]
    },
    {
     "name": "stdout",
     "output_type": "stream",
     "text": [
      "Loading pcap...\n"
     ]
    },
    {
     "name": "stderr",
     "output_type": "stream",
     "text": [
      "100%|██████████████████████████████████████████████████████████████████████████████| 2000/2000 [01:15<00:00, 26.38it/s]\n"
     ]
    },
    {
     "name": "stdout",
     "output_type": "stream",
     "text": [
      "Loading pcap...\n"
     ]
    },
    {
     "name": "stderr",
     "output_type": "stream",
     "text": [
      "100%|██████████████████████████████████████████████████████████████████████████████| 2000/2000 [01:14<00:00, 26.88it/s]\n"
     ]
    },
    {
     "name": "stdout",
     "output_type": "stream",
     "text": [
      "Loading pcap...\n"
     ]
    },
    {
     "name": "stderr",
     "output_type": "stream",
     "text": [
      "100%|██████████████████████████████████████████████████████████████████████████████| 2000/2000 [01:14<00:00, 26.79it/s]\n"
     ]
    },
    {
     "name": "stdout",
     "output_type": "stream",
     "text": [
      "Loading pcap...\n"
     ]
    },
    {
     "name": "stderr",
     "output_type": "stream",
     "text": [
      "100%|██████████████████████████████████████████████████████████████████████████████| 2000/2000 [01:14<00:00, 26.83it/s]\n"
     ]
    },
    {
     "name": "stdout",
     "output_type": "stream",
     "text": [
      "Loading pcap...\n"
     ]
    },
    {
     "name": "stderr",
     "output_type": "stream",
     "text": [
      "100%|██████████████████████████████████████████████████████████████████████████████| 2000/2000 [01:17<00:00, 25.94it/s]\n"
     ]
    },
    {
     "name": "stdout",
     "output_type": "stream",
     "text": [
      "Loading pcap...\n"
     ]
    },
    {
     "name": "stderr",
     "output_type": "stream",
     "text": [
      "100%|██████████████████████████████████████████████████████████████████████████████| 2000/2000 [01:16<00:00, 26.28it/s]\n"
     ]
    },
    {
     "name": "stdout",
     "output_type": "stream",
     "text": [
      "Loading pcap...\n"
     ]
    },
    {
     "name": "stderr",
     "output_type": "stream",
     "text": [
      "100%|██████████████████████████████████████████████████████████████████████████████| 2000/2000 [01:16<00:00, 26.21it/s]\n"
     ]
    },
    {
     "name": "stdout",
     "output_type": "stream",
     "text": [
      "Loading pcap...\n"
     ]
    },
    {
     "name": "stderr",
     "output_type": "stream",
     "text": [
      "100%|██████████████████████████████████████████████████████████████████████████████| 2000/2000 [01:15<00:00, 26.50it/s]\n"
     ]
    },
    {
     "name": "stdout",
     "output_type": "stream",
     "text": [
      "Loading pcap...\n"
     ]
    },
    {
     "name": "stderr",
     "output_type": "stream",
     "text": [
      "100%|██████████████████████████████████████████████████████████████████████████████| 2000/2000 [01:14<00:00, 26.74it/s]\n"
     ]
    },
    {
     "name": "stdout",
     "output_type": "stream",
     "text": [
      "Loading pcap...\n"
     ]
    },
    {
     "name": "stderr",
     "output_type": "stream",
     "text": [
      "100%|██████████████████████████████████████████████████████████████████████████████| 2000/2000 [01:13<00:00, 27.28it/s]\n"
     ]
    },
    {
     "name": "stdout",
     "output_type": "stream",
     "text": [
      "Loading pcap...\n"
     ]
    },
    {
     "name": "stderr",
     "output_type": "stream",
     "text": [
      "100%|██████████████████████████████████████████████████████████████████████████████| 2000/2000 [01:13<00:00, 27.32it/s]\n"
     ]
    },
    {
     "name": "stdout",
     "output_type": "stream",
     "text": [
      "Loading pcap...\n"
     ]
    },
    {
     "name": "stderr",
     "output_type": "stream",
     "text": [
      "100%|██████████████████████████████████████████████████████████████████████████████| 2000/2000 [01:13<00:00, 27.16it/s]\n"
     ]
    },
    {
     "name": "stdout",
     "output_type": "stream",
     "text": [
      "Loading pcap...\n"
     ]
    },
    {
     "name": "stderr",
     "output_type": "stream",
     "text": [
      "100%|██████████████████████████████████████████████████████████████████████████████| 2000/2000 [01:13<00:00, 27.33it/s]\n"
     ]
    },
    {
     "name": "stdout",
     "output_type": "stream",
     "text": [
      "Loading pcap...\n"
     ]
    },
    {
     "name": "stderr",
     "output_type": "stream",
     "text": [
      "100%|██████████████████████████████████████████████████████████████████████████████| 2000/2000 [01:13<00:00, 27.13it/s]\n"
     ]
    },
    {
     "name": "stdout",
     "output_type": "stream",
     "text": [
      "Loading pcap...\n"
     ]
    },
    {
     "name": "stderr",
     "output_type": "stream",
     "text": [
      "100%|██████████████████████████████████████████████████████████████████████████████| 2000/2000 [01:13<00:00, 27.07it/s]\n"
     ]
    },
    {
     "name": "stdout",
     "output_type": "stream",
     "text": [
      "Loading pcap...\n"
     ]
    },
    {
     "name": "stderr",
     "output_type": "stream",
     "text": [
      "100%|██████████████████████████████████████████████████████████████████████████████| 2000/2000 [01:13<00:00, 27.15it/s]\n"
     ]
    },
    {
     "name": "stdout",
     "output_type": "stream",
     "text": [
      "Generating Threshold Map\n"
     ]
    }
   ],
   "source": [
    "bck_path = r'D:\\LiDAR_Data\\MidTown\\PCAP_BCK\\Roundabout\\24'\n",
    "output_path = r'D:\\LiDAR_Data\\MidTown\\PCAP_BCK\\Roundabout\\24'\n",
    "pcaps_list = os.listdir(bck_path)\n",
    "pcaps_list = [p for p in pcaps_list if 'pcap' in p.split('.')]\n",
    "aggregated_maps_multiple = []\n",
    "for i in range(len(pcaps_list)):\n",
    "    collector = RansacCollector(pcap_path=os.path.join(bck_path,pcaps_list[i]),output_file_path=bck_path,update_frame_num=2000)\n",
    "    collector.gen_tdmap()\n",
    "    aggregated_maps_multiple.append(collector.aggregated_map[np.random.choice(np.arange(0,2000),size = int(24000/len(pcaps_list)) ,replace = False)])\n",
    "collector.aggregated_map = np.concatenate(aggregated_maps_multiple,axis = 0)\n",
    "collector.gen_thredmap(d = 1 ,thred_s = 0.125,N = 10,delta_thred = 1e-3,step = 0.1)\n",
    "threshold_map = collector.thred_map"
   ]
  },
  {
   "cell_type": "code",
   "execution_count": 87,
   "id": "6a950952",
   "metadata": {},
   "outputs": [],
   "source": [
    "np.save(r'D:\\LiDAR_Data\\MidTown\\PCAP_BCK\\Roundabout\\24\\bck_map.npy',threshold_map)"
   ]
  },
  {
   "cell_type": "code",
   "execution_count": 88,
   "id": "da5f3656",
   "metadata": {},
   "outputs": [],
   "source": [
    "threshold_map = np.load(r'D:\\LiDAR_Data\\MidTown\\PCAP_BCK\\Roundabout\\24\\bck_map.npy')"
   ]
  },
  {
   "cell_type": "code",
   "execution_count": 3,
   "id": "4aa75bb2",
   "metadata": {},
   "outputs": [],
   "source": [
    "collector.aggregated_map = collector.aggregated_map[:]"
   ]
  },
  {
   "cell_type": "code",
   "execution_count": 6,
   "id": "50e1fd52",
   "metadata": {
    "scrolled": true
   },
   "outputs": [
    {
     "name": "stdout",
     "output_type": "stream",
     "text": [
      "Generating Threshold Map\n"
     ]
    }
   ],
   "source": [
    "collector.gen_thredmap(d = 1.2 ,thred_s = 0.125,N = 10,delta_thred = 1e-3,step = 0.1)\n",
    "threshold_map = collector.thred_map"
   ]
  },
  {
   "cell_type": "code",
   "execution_count": 89,
   "id": "98771ee8",
   "metadata": {},
   "outputs": [
    {
     "data": {
      "application/vnd.jupyter.widget-view+json": {
       "model_id": "55d51f09e2d742be8f5098a932efebfb",
       "version_major": 2,
       "version_minor": 0
      },
      "text/plain": [
       "WebVisualizer(window_uid='window_13')"
      ]
     },
     "metadata": {},
     "output_type": "display_data"
    }
   ],
   "source": [
    "clustering_td = Raster_DBSCAN(window_size=(5,13),eps = 1.2, min_samples= 8, Td_map_szie=threshold_map.shape)   \n",
    "Td_map = collector.aggregated_map[0]\n",
    "Foreground_map = (Td_map < threshold_map)&(Td_map != 0)\n",
    "Labeling_map = clustering_td.fit_predict(Td_map= Td_map,Foreground_map=Foreground_map)\n",
    "Background_map = (Td_map >= threshold_map)&(Td_map != 0)\n",
    "pcd = get_pcd_colored_filtered(Td_map,Labeling_map,Foreground_map)\n",
    "draw(pcd,height=1000,width=1000)"
   ]
  },
  {
   "cell_type": "code",
   "execution_count": 99,
   "id": "b431d684",
   "metadata": {},
   "outputs": [
    {
     "data": {
      "application/vnd.jupyter.widget-view+json": {
       "model_id": "bff0a5fc76f44f74a7eef0828b0ffee4",
       "version_major": 2,
       "version_minor": 0
      },
      "text/plain": [
       "WebVisualizer(window_uid='window_19')"
      ]
     },
     "metadata": {},
     "output_type": "display_data"
    }
   ],
   "source": [
    "Td_map = collector.aggregated_map[0]\n",
    "Colored_map = np.full(Td_map.shape,0)\n",
    "Colored_map[:,1100:1105] = 1\n",
    "pcd = get_pcd_colored_dir(Td_map,Colored_map)\n",
    "draw(pcd)\n"
   ]
  },
  {
   "cell_type": "code",
   "execution_count": 100,
   "id": "b075d512",
   "metadata": {},
   "outputs": [
    {
     "data": {
      "text/plain": [
       "1102.45"
      ]
     },
     "execution_count": 100,
     "metadata": {},
     "output_type": "execute_result"
    }
   ],
   "source": [
    "(22049/100)/0.2"
   ]
  },
  {
   "cell_type": "code",
   "execution_count": 103,
   "id": "42c52bb2",
   "metadata": {},
   "outputs": [
    {
     "data": {
      "text/plain": [
       "array([68.24])"
      ]
     },
     "execution_count": 103,
     "metadata": {},
     "output_type": "execute_result"
    }
   ],
   "source": [
    "threshold_map[laser_id,azimuth_channel]"
   ]
  },
  {
   "cell_type": "code",
   "execution_count": 105,
   "id": "ad904f47",
   "metadata": {},
   "outputs": [
    {
     "data": {
      "text/plain": [
       "63.81831999999999"
      ]
     },
     "execution_count": 105,
     "metadata": {},
     "output_type": "execute_result"
    }
   ],
   "source": [
    "collector.aggregated_map[:2000,laser_id,azimuth_channel].mean()"
   ]
  },
  {
   "cell_type": "code",
   "execution_count": 102,
   "id": "aef642f6",
   "metadata": {},
   "outputs": [
    {
     "data": {
      "image/png": "[encoded data removed]",
      "text/plain": [
       "<Figure size 720x360 with 1 Axes>"
      ]
     },
     "metadata": {
      "needs_background": "light"
     },
     "output_type": "display_data"
    }
   ],
   "source": [
    "laser_id = theta_raw[31] == theta\n",
    "azimuth_channel = 1102\n",
    "plt.figure(figsize=(10,5))\n",
    "plt.scatter(np.arange(2000),collector.aggregated_map[:2000,laser_id,azimuth_channel], s = 3)\n",
    "plt.hlines(threshold_map[laser_id,azimuth_channel],0,2000,color = 'r')\n",
    "# plt.ylim(52,56)\n",
    "plt.show()"
   ]
  },
  {
   "cell_type": "code",
   "execution_count": 24,
   "id": "8b6873a2",
   "metadata": {},
   "outputs": [
    {
     "data": {
      "image/png": "[encoded data removed]",
      "text/plain": [
       "<Figure size 720x360 with 1 Axes>"
      ]
     },
     "metadata": {
      "needs_background": "light"
     },
     "output_type": "display_data"
    }
   ],
   "source": [
    "laser_id = theta_raw[24] == theta\n",
    "azimuth_channel = 726\n",
    "plt.figure(figsize=(10,5))\n",
    "plt.scatter(np.arange(2000),collector.aggregated_map[:2000,laser_id,azimuth_channel], s = 3)\n",
    "# plt.hlines(threshold_map[laser_id,azimuth_channel],0,2000,color = 'r')\n",
    "plt.show()"
   ]
  },
  {
   "cell_type": "code",
   "execution_count": 28,
   "id": "5565d669",
   "metadata": {},
   "outputs": [],
   "source": [
    "temp = collector.aggregated_map[:2000,laser_id,azimuth_channel]\n",
    "temp[temp > 50].std()"
   ]
  },
  {
   "cell_type": "code",
   "execution_count": 31,
   "id": "b0a54771",
   "metadata": {},
   "outputs": [
    {
     "data": {
      "text/plain": [
       "0.023857211484101554"
      ]
     },
     "execution_count": 31,
     "metadata": {},
     "output_type": "execute_result"
    }
   ],
   "source": [
    "temp[temp > 50].std()"
   ]
  },
  {
   "cell_type": "code",
   "execution_count": 37,
   "id": "6c059d56",
   "metadata": {},
   "outputs": [
    {
     "data": {
      "image/png": "[encoded data removed]",
      "text/plain": [
       "<Figure size 720x360 with 1 Axes>"
      ]
     },
     "metadata": {
      "needs_background": "light"
     },
     "output_type": "display_data"
    }
   ],
   "source": [
    "laser_id = theta_raw[24] == theta\n",
    "azimuth_channel = 726\n",
    "plt.figure(figsize=(10,5))\n",
    "plt.scatter(np.arange(2000),collector.aggregated_map[:2000,laser_id,azimuth_channel], s = 3)\n",
    "# plt.hlines(threshold_map[laser_id,azimuth_channel],0,2000,color = 'r')\n",
    "plt.ylim(52,56)\n",
    "plt.show()"
   ]
  },
  {
   "cell_type": "code",
   "execution_count": 34,
   "id": "d0ab533c",
   "metadata": {},
   "outputs": [
    {
     "data": {
      "text/plain": [
       "0.1678953977963991"
      ]
     },
     "execution_count": 34,
     "metadata": {},
     "output_type": "execute_result"
    }
   ],
   "source": [
    "temp = collector.aggregated_map[:2000,laser_id,azimuth_channel]\n",
    "temp[temp > 50].std()"
   ]
  },
  {
   "cell_type": "code",
   "execution_count": 90,
   "id": "4a10b214",
   "metadata": {},
   "outputs": [
    {
     "data": {
      "image/png": "[encoded data removed]",
      "text/plain": [
       "<Figure size 720x360 with 1 Axes>"
      ]
     },
     "metadata": {
      "needs_background": "light"
     },
     "output_type": "display_data"
    }
   ],
   "source": [
    "laser_id = theta_raw[24] == theta\n",
    "azimuth_channel = 726\n",
    "plt.figure(figsize=(10,5))\n",
    "plt.scatter(np.arange(2000),collector.aggregated_map[:2000,laser_id,azimuth_channel], s = 3)\n",
    "plt.hlines(threshold_map[laser_id,azimuth_channel],0,2000,color = 'r')\n",
    "plt.show()"
   ]
  },
  {
   "cell_type": "code",
   "execution_count": 38,
   "id": "2f8f2be9",
   "metadata": {},
   "outputs": [],
   "source": [
    "data_path = r'D:\\LiDAR_Data\\MidTown\\PCAP_BCK\\Roundabout\\24'"
   ]
  },
  {
   "cell_type": "code",
   "execution_count": null,
   "id": "ff2b26aa",
   "metadata": {},
   "outputs": [],
   "source": [
    "laser_id = theta_raw[24] == theta\n",
    "azimuth_channel = 726"
   ]
  },
  {
   "cell_type": "code",
   "execution_count": null,
   "id": "a565e599",
   "metadata": {},
   "outputs": [],
   "source": [
    "collector = RansacCollector(pcap_path=r'D:\\LiDAR_Data\\MidTown\\Roundabout\\2022-1-21-14-30-0.pcap',output_file_path='D:\\LiDAR_Data\\MidTown\\Roundabout',update_frame_num=2000)\n",
    "collector.gen_tdmap()"
   ]
  },
  {
   "cell_type": "code",
   "execution_count": 42,
   "id": "3d7caaa9",
   "metadata": {
    "scrolled": true
   },
   "outputs": [
    {
     "name": "stdout",
     "output_type": "stream",
     "text": [
      "Loading pcap...\n"
     ]
    },
    {
     "name": "stderr",
     "output_type": "stream",
     "text": [
      "100%|██████████████████████████████████████████████████████████████████████████████| 2000/2000 [01:15<00:00, 26.38it/s]\n"
     ]
    },
    {
     "name": "stdout",
     "output_type": "stream",
     "text": [
      "Loading pcap...\n"
     ]
    },
    {
     "name": "stderr",
     "output_type": "stream",
     "text": [
      "100%|██████████████████████████████████████████████████████████████████████████████| 2000/2000 [01:18<00:00, 25.62it/s]\n"
     ]
    },
    {
     "name": "stdout",
     "output_type": "stream",
     "text": [
      "Loading pcap...\n"
     ]
    },
    {
     "name": "stderr",
     "output_type": "stream",
     "text": [
      "100%|██████████████████████████████████████████████████████████████████████████████| 2000/2000 [01:17<00:00, 25.92it/s]\n"
     ]
    },
    {
     "name": "stdout",
     "output_type": "stream",
     "text": [
      "Loading pcap...\n"
     ]
    },
    {
     "name": "stderr",
     "output_type": "stream",
     "text": [
      "100%|██████████████████████████████████████████████████████████████████████████████| 2000/2000 [01:19<00:00, 25.24it/s]\n"
     ]
    },
    {
     "name": "stdout",
     "output_type": "stream",
     "text": [
      "Loading pcap...\n"
     ]
    },
    {
     "name": "stderr",
     "output_type": "stream",
     "text": [
      "100%|██████████████████████████████████████████████████████████████████████████████| 2000/2000 [01:17<00:00, 25.84it/s]\n"
     ]
    },
    {
     "name": "stdout",
     "output_type": "stream",
     "text": [
      "Loading pcap...\n"
     ]
    },
    {
     "name": "stderr",
     "output_type": "stream",
     "text": [
      "100%|██████████████████████████████████████████████████████████████████████████████| 2000/2000 [01:18<00:00, 25.37it/s]\n"
     ]
    },
    {
     "name": "stdout",
     "output_type": "stream",
     "text": [
      "Loading pcap...\n"
     ]
    },
    {
     "name": "stderr",
     "output_type": "stream",
     "text": [
      "100%|██████████████████████████████████████████████████████████████████████████████| 2000/2000 [01:19<00:00, 25.03it/s]\n"
     ]
    },
    {
     "name": "stdout",
     "output_type": "stream",
     "text": [
      "Loading pcap...\n"
     ]
    },
    {
     "name": "stderr",
     "output_type": "stream",
     "text": [
      "100%|██████████████████████████████████████████████████████████████████████████████| 2000/2000 [01:18<00:00, 25.58it/s]\n"
     ]
    },
    {
     "name": "stdout",
     "output_type": "stream",
     "text": [
      "Loading pcap...\n"
     ]
    },
    {
     "name": "stderr",
     "output_type": "stream",
     "text": [
      "100%|██████████████████████████████████████████████████████████████████████████████| 2000/2000 [01:17<00:00, 25.92it/s]\n"
     ]
    },
    {
     "name": "stdout",
     "output_type": "stream",
     "text": [
      "Loading pcap...\n"
     ]
    },
    {
     "name": "stderr",
     "output_type": "stream",
     "text": [
      "100%|██████████████████████████████████████████████████████████████████████████████| 2000/2000 [01:18<00:00, 25.61it/s]\n"
     ]
    },
    {
     "name": "stdout",
     "output_type": "stream",
     "text": [
      "Loading pcap...\n"
     ]
    },
    {
     "name": "stderr",
     "output_type": "stream",
     "text": [
      "100%|██████████████████████████████████████████████████████████████████████████████| 2000/2000 [01:17<00:00, 25.66it/s]\n"
     ]
    },
    {
     "name": "stdout",
     "output_type": "stream",
     "text": [
      "Loading pcap...\n"
     ]
    },
    {
     "name": "stderr",
     "output_type": "stream",
     "text": [
      "100%|██████████████████████████████████████████████████████████████████████████████| 2000/2000 [01:16<00:00, 26.05it/s]\n"
     ]
    },
    {
     "name": "stdout",
     "output_type": "stream",
     "text": [
      "Loading pcap...\n"
     ]
    },
    {
     "name": "stderr",
     "output_type": "stream",
     "text": [
      "100%|██████████████████████████████████████████████████████████████████████████████| 2000/2000 [01:28<00:00, 22.51it/s]\n"
     ]
    },
    {
     "name": "stdout",
     "output_type": "stream",
     "text": [
      "Loading pcap...\n"
     ]
    },
    {
     "name": "stderr",
     "output_type": "stream",
     "text": [
      "100%|██████████████████████████████████████████████████████████████████████████████| 2000/2000 [01:19<00:00, 25.03it/s]\n"
     ]
    },
    {
     "name": "stdout",
     "output_type": "stream",
     "text": [
      "Loading pcap...\n"
     ]
    },
    {
     "name": "stderr",
     "output_type": "stream",
     "text": [
      "100%|██████████████████████████████████████████████████████████████████████████████| 2000/2000 [01:20<00:00, 24.91it/s]\n"
     ]
    },
    {
     "name": "stdout",
     "output_type": "stream",
     "text": [
      "Loading pcap...\n"
     ]
    },
    {
     "name": "stderr",
     "output_type": "stream",
     "text": [
      "100%|██████████████████████████████████████████████████████████████████████████████| 2000/2000 [01:20<00:00, 24.91it/s]\n"
     ]
    },
    {
     "name": "stdout",
     "output_type": "stream",
     "text": [
      "Loading pcap...\n"
     ]
    },
    {
     "name": "stderr",
     "output_type": "stream",
     "text": [
      "100%|██████████████████████████████████████████████████████████████████████████████| 2000/2000 [01:19<00:00, 25.29it/s]\n"
     ]
    },
    {
     "name": "stdout",
     "output_type": "stream",
     "text": [
      "Loading pcap...\n"
     ]
    },
    {
     "name": "stderr",
     "output_type": "stream",
     "text": [
      "100%|██████████████████████████████████████████████████████████████████████████████| 2000/2000 [01:20<00:00, 24.92it/s]\n"
     ]
    },
    {
     "name": "stdout",
     "output_type": "stream",
     "text": [
      "Loading pcap...\n"
     ]
    },
    {
     "name": "stderr",
     "output_type": "stream",
     "text": [
      "100%|██████████████████████████████████████████████████████████████████████████████| 2000/2000 [01:24<00:00, 23.77it/s]\n"
     ]
    },
    {
     "name": "stdout",
     "output_type": "stream",
     "text": [
      "Loading pcap...\n"
     ]
    },
    {
     "name": "stderr",
     "output_type": "stream",
     "text": [
      "100%|██████████████████████████████████████████████████████████████████████████████| 2000/2000 [01:24<00:00, 23.56it/s]\n"
     ]
    },
    {
     "name": "stdout",
     "output_type": "stream",
     "text": [
      "Loading pcap...\n"
     ]
    },
    {
     "name": "stderr",
     "output_type": "stream",
     "text": [
      "100%|██████████████████████████████████████████████████████████████████████████████| 2000/2000 [01:22<00:00, 24.25it/s]\n"
     ]
    },
    {
     "name": "stdout",
     "output_type": "stream",
     "text": [
      "Loading pcap...\n"
     ]
    },
    {
     "name": "stderr",
     "output_type": "stream",
     "text": [
      "100%|██████████████████████████████████████████████████████████████████████████████| 2000/2000 [01:23<00:00, 24.02it/s]\n"
     ]
    },
    {
     "name": "stdout",
     "output_type": "stream",
     "text": [
      "Loading pcap...\n"
     ]
    },
    {
     "name": "stderr",
     "output_type": "stream",
     "text": [
      "100%|██████████████████████████████████████████████████████████████████████████████| 2000/2000 [01:18<00:00, 25.51it/s]\n"
     ]
    },
    {
     "name": "stdout",
     "output_type": "stream",
     "text": [
      "Loading pcap...\n"
     ]
    },
    {
     "name": "stderr",
     "output_type": "stream",
     "text": [
      "100%|██████████████████████████████████████████████████████████████████████████████| 2000/2000 [01:17<00:00, 25.74it/s]\n"
     ]
    }
   ],
   "source": [
    "\n",
    "data_fs = os.listdir(data_path)\n",
    "pcaps_list = [p for p in data_fs if 'pcap' in p.split('.')]\n",
    "aggregated_maps_multiple = []\n",
    "for i in range(len(pcaps_list)):\n",
    "    collector = RansacCollector(pcap_path=os.path.join(data_path,pcaps_list[i]),output_file_path='D:\\LiDAR_Data\\MidTown\\Roundabout',update_frame_num=2000)\n",
    "    collector.gen_tdmap()\n",
    "    aggregated_maps_multiple.append(collector.aggregated_map[:2000,laser_id,azimuth_channel])\n",
    "    "
   ]
  },
  {
   "cell_type": "code",
   "execution_count": 44,
   "id": "f8a2a19b",
   "metadata": {},
   "outputs": [],
   "source": [
    "temp = np.concatenate(aggregated_maps_multiple)"
   ]
  },
  {
   "cell_type": "code",
   "execution_count": 47,
   "id": "c923c2b6",
   "metadata": {},
   "outputs": [
    {
     "data": {
      "text/plain": [
       "<matplotlib.collections.PathCollection at 0x270da6d4820>"
      ]
     },
     "execution_count": 47,
     "metadata": {},
     "output_type": "execute_result"
    },
    {
     "data": {
      "image/png": "[encoded data removed]",
      "text/plain": [
       "<Figure size 720x360 with 1 Axes>"
      ]
     },
     "metadata": {
      "needs_background": "light"
     },
     "output_type": "display_data"
    }
   ],
   "source": [
    "plt.figure(figsize=(10,5))\n",
    "plt.scatter(np.arange(len(temp)),temp,s = 3)"
   ]
  },
  {
   "cell_type": "code",
   "execution_count": 48,
   "id": "bbfea3af",
   "metadata": {},
   "outputs": [],
   "source": [
    "def get_thred_modified(ts,d ,thred_s ,N ,delta_thred ,step):# Ransac Para\n",
    "    ts_temp = ts.copy()\n",
    "    ts_temp[ts_temp == 0] = 1000\n",
    "    valid_dises = []\n",
    "    for i in range(N):\n",
    "        sample = np.random.choice(ts_temp,replace=False)\n",
    "        set_d = ts_temp[(ts_temp > sample - d)&(ts_temp < sample + d)]\n",
    "        condition_thred = len(set_d)/len(ts_temp) > thred_s\n",
    "        if condition_thred :\n",
    "            valid_dises.append(sample)\n",
    "            \n",
    "    if len(valid_dises) == 0:\n",
    "        return 1000\n",
    "\n",
    "    cur_thred = np.min(valid_dises)\n",
    "\n",
    "    while True:\n",
    "        next_thred = cur_thred - step\n",
    "        if (len(ts[ts > next_thred])/len(ts) - len(ts[ts > cur_thred])/len(ts)) < delta_thred:\n",
    "            break\n",
    "        cur_thred = next_thred\n",
    "\n",
    "    return next_thred"
   ]
  },
  {
   "cell_type": "code",
   "execution_count": 85,
   "id": "ad3aa164",
   "metadata": {},
   "outputs": [
    {
     "data": {
      "text/plain": [
       "0.08314583333333334"
      ]
     },
     "execution_count": 85,
     "metadata": {},
     "output_type": "execute_result"
    }
   ],
   "source": [
    "len(temp[(temp > 30)&(temp < 40)])/len(temp)"
   ]
  },
  {
   "cell_type": "code",
   "execution_count": 81,
   "id": "4b342e79",
   "metadata": {},
   "outputs": [],
   "source": [
    "thred = get_thred_modified(temp.flatten(),1,0.125,10,0.001,0.01)"
   ]
  },
  {
   "cell_type": "code",
   "execution_count": 82,
   "id": "8feb3b7f",
   "metadata": {},
   "outputs": [
    {
     "data": {
      "image/png": "[encoded data removed]",
      "text/plain": [
       "<Figure size 720x360 with 1 Axes>"
      ]
     },
     "metadata": {
      "needs_background": "light"
     },
     "output_type": "display_data"
    }
   ],
   "source": [
    "plt.figure(figsize=(10,5))\n",
    "plt.scatter(np.arange(len(temp)),temp,s = 3)\n",
    "plt.hlines(thred,0,len(temp),color = 'r')\n",
    "plt.ylim(50,56)\n",
    "plt.show()"
   ]
  },
  {
   "cell_type": "code",
   "execution_count": null,
   "id": "cbd79dbd",
   "metadata": {},
   "outputs": [],
   "source": []
  }
 ],
 "metadata": {
  "kernelspec": {
   "display_name": "Python 3 (ipykernel)",
   "language": "python",
   "name": "python3"
  },
  "language_info": {
   "codemirror_mode": {
    "name": "ipython",
    "version": 3
   },
   "file_extension": ".py",
   "mimetype": "text/x-python",
   "name": "python",
   "nbconvert_exporter": "python",
   "pygments_lexer": "ipython3",
   "version": "3.8.12"
  }
 },
 "nbformat": 4,
 "nbformat_minor": 5
}
