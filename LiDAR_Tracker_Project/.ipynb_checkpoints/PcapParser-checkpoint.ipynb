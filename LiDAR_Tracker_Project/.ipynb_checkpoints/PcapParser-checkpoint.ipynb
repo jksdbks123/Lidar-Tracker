{
 "cells": [
  {
   "cell_type": "code",
   "execution_count": 40,
   "id": "51d257b2",
   "metadata": {},
   "outputs": [],
   "source": [
    "import numpy as np\n",
    "import dpkt\n",
    "from tqdm import tqdm"
   ]
  },
  {
   "cell_type": "code",
   "execution_count": 49,
   "id": "64ea4b19",
   "metadata": {},
   "outputs": [],
   "source": [
    "import numpy as np\n",
    "import matplotlib.pyplot as plt\n",
    "import os\n",
    "from BfTableGenerator import RansacCollector\n",
    "from BfTableGenerator import TDmapLoader\n",
    "from tqdm import tqdm\n",
    "# from open3d import JVisualizer \n",
    "from Utils import *\n",
    "from DDBSCAN import Raster_DBSCAN\n",
    "import open3d as op3\n",
    "# op3.visualization.webrtc_server.enable_webrtc()\n",
    "from open3d.web_visualizer import draw\n",
    "from VisulizerTools import *\n",
    "from tqdm import tqdm_notebook\n",
    "import time\n",
    "from sklearn.cluster import DBSCAN\n",
    "# +80"
   ]
  },
  {
   "cell_type": "code",
   "execution_count": 119,
   "id": "ec468d0e",
   "metadata": {},
   "outputs": [],
   "source": [
    "file_path = r'D:\\LiDAR_Data\\MidTown\\PCAP_BCK\\Liberty\\Days\\2021-12-12-16-0-0.pcap'\n",
    "fpcap = open(file_path, 'rb')\n",
    "lidar_reader = dpkt.pcap.Reader(fpcap)\n",
    "loader = frame_gen(lidar_reader)"
   ]
  },
  {
   "cell_type": "code",
   "execution_count": 120,
   "id": "3d48303c",
   "metadata": {
    "scrolled": true
   },
   "outputs": [
    {
     "ename": "NeedData",
     "evalue": "got 4, 16 needed at least",
     "output_type": "error",
     "traceback": [
      "\u001b[1;31m---------------------------------------------------------------------------\u001b[0m",
      "\u001b[1;31merror\u001b[0m                                     Traceback (most recent call last)",
      "\u001b[1;32m~\\.conda\\envs\\tracking\\lib\\site-packages\\dpkt\\dpkt.py\u001b[0m in \u001b[0;36m__init__\u001b[1;34m(self, *args, **kwargs)\u001b[0m\n\u001b[0;32m    156\u001b[0m             \u001b[1;32mtry\u001b[0m\u001b[1;33m:\u001b[0m\u001b[1;33m\u001b[0m\u001b[1;33m\u001b[0m\u001b[0m\n\u001b[1;32m--> 157\u001b[1;33m                 \u001b[0mself\u001b[0m\u001b[1;33m.\u001b[0m\u001b[0munpack\u001b[0m\u001b[1;33m(\u001b[0m\u001b[0margs\u001b[0m\u001b[1;33m[\u001b[0m\u001b[1;36m0\u001b[0m\u001b[1;33m]\u001b[0m\u001b[1;33m)\u001b[0m\u001b[1;33m\u001b[0m\u001b[1;33m\u001b[0m\u001b[0m\n\u001b[0m\u001b[0;32m    158\u001b[0m             \u001b[1;32mexcept\u001b[0m \u001b[0mstruct\u001b[0m\u001b[1;33m.\u001b[0m\u001b[0merror\u001b[0m\u001b[1;33m:\u001b[0m\u001b[1;33m\u001b[0m\u001b[1;33m\u001b[0m\u001b[0m\n",
      "\u001b[1;32m~\\.conda\\envs\\tracking\\lib\\site-packages\\dpkt\\dpkt.py\u001b[0m in \u001b[0;36munpack\u001b[1;34m(self, buf)\u001b[0m\n\u001b[0;32m    341\u001b[0m         for k, v in compat_izip(self.__hdr_fields__,\n\u001b[1;32m--> 342\u001b[1;33m                                 struct.unpack(self.__hdr_fmt__, buf[:self.__hdr_len__])):\n\u001b[0m\u001b[0;32m    343\u001b[0m             \u001b[0msetattr\u001b[0m\u001b[1;33m(\u001b[0m\u001b[0mself\u001b[0m\u001b[1;33m,\u001b[0m \u001b[0mk\u001b[0m\u001b[1;33m,\u001b[0m \u001b[0mv\u001b[0m\u001b[1;33m)\u001b[0m\u001b[1;33m\u001b[0m\u001b[1;33m\u001b[0m\u001b[0m\n",
      "\u001b[1;31merror\u001b[0m: unpack requires a buffer of 16 bytes",
      "\nDuring handling of the above exception, another exception occurred:\n",
      "\u001b[1;31mNeedData\u001b[0m                                  Traceback (most recent call last)",
      "\u001b[1;32m~\\AppData\\Local\\Temp/ipykernel_36224/567256808.py\u001b[0m in \u001b[0;36m<module>\u001b[1;34m\u001b[0m\n\u001b[0;32m      2\u001b[0m \u001b[1;32mwhile\u001b[0m \u001b[1;32mTrue\u001b[0m\u001b[1;33m:\u001b[0m\u001b[1;33m\u001b[0m\u001b[1;33m\u001b[0m\u001b[0m\n\u001b[0;32m      3\u001b[0m     \u001b[1;32mtry\u001b[0m\u001b[1;33m:\u001b[0m\u001b[1;33m\u001b[0m\u001b[1;33m\u001b[0m\u001b[0m\n\u001b[1;32m----> 4\u001b[1;33m         \u001b[0mts\u001b[0m\u001b[1;33m,\u001b[0m\u001b[0mbuf\u001b[0m \u001b[1;33m=\u001b[0m \u001b[0mnext\u001b[0m\u001b[1;33m(\u001b[0m\u001b[0mlidar_reader\u001b[0m\u001b[1;33m)\u001b[0m\u001b[1;33m\u001b[0m\u001b[1;33m\u001b[0m\u001b[0m\n\u001b[0m\u001b[0;32m      5\u001b[0m         \u001b[0mReads\u001b[0m\u001b[1;33m.\u001b[0m\u001b[0mappend\u001b[0m\u001b[1;33m(\u001b[0m\u001b[0mread\u001b[0m\u001b[1;33m)\u001b[0m\u001b[1;33m\u001b[0m\u001b[1;33m\u001b[0m\u001b[0m\n\u001b[0;32m      6\u001b[0m     \u001b[1;32mexcept\u001b[0m \u001b[0mStopIteration\u001b[0m\u001b[1;33m:\u001b[0m\u001b[1;33m\u001b[0m\u001b[1;33m\u001b[0m\u001b[0m\n",
      "\u001b[1;32m~\\.conda\\envs\\tracking\\lib\\site-packages\\dpkt\\pcap.py\u001b[0m in \u001b[0;36m__next__\u001b[1;34m(self)\u001b[0m\n\u001b[0;32m    310\u001b[0m \u001b[1;33m\u001b[0m\u001b[0m\n\u001b[0;32m    311\u001b[0m     \u001b[1;32mdef\u001b[0m \u001b[0m__next__\u001b[0m\u001b[1;33m(\u001b[0m\u001b[0mself\u001b[0m\u001b[1;33m)\u001b[0m\u001b[1;33m:\u001b[0m\u001b[1;33m\u001b[0m\u001b[1;33m\u001b[0m\u001b[0m\n\u001b[1;32m--> 312\u001b[1;33m         \u001b[1;32mreturn\u001b[0m \u001b[0mnext\u001b[0m\u001b[1;33m(\u001b[0m\u001b[0mself\u001b[0m\u001b[1;33m.\u001b[0m\u001b[0m__iter\u001b[0m\u001b[1;33m)\u001b[0m\u001b[1;33m\u001b[0m\u001b[1;33m\u001b[0m\u001b[0m\n\u001b[0m\u001b[0;32m    313\u001b[0m     \u001b[0mnext\u001b[0m \u001b[1;33m=\u001b[0m \u001b[0m__next__\u001b[0m  \u001b[1;31m# Python 2 compat\u001b[0m\u001b[1;33m\u001b[0m\u001b[1;33m\u001b[0m\u001b[0m\n\u001b[0;32m    314\u001b[0m \u001b[1;33m\u001b[0m\u001b[0m\n",
      "\u001b[1;32m~\\.conda\\envs\\tracking\\lib\\site-packages\\dpkt\\pcap.py\u001b[0m in \u001b[0;36m__iter__\u001b[1;34m(self)\u001b[0m\n\u001b[0;32m    348\u001b[0m             \u001b[1;32mif\u001b[0m \u001b[1;32mnot\u001b[0m \u001b[0mbuf\u001b[0m\u001b[1;33m:\u001b[0m\u001b[1;33m\u001b[0m\u001b[1;33m\u001b[0m\u001b[0m\n\u001b[0;32m    349\u001b[0m                 \u001b[1;32mbreak\u001b[0m\u001b[1;33m\u001b[0m\u001b[1;33m\u001b[0m\u001b[0m\n\u001b[1;32m--> 350\u001b[1;33m             \u001b[0mhdr\u001b[0m \u001b[1;33m=\u001b[0m \u001b[0mself\u001b[0m\u001b[1;33m.\u001b[0m\u001b[0m__ph\u001b[0m\u001b[1;33m(\u001b[0m\u001b[0mbuf\u001b[0m\u001b[1;33m)\u001b[0m\u001b[1;33m\u001b[0m\u001b[1;33m\u001b[0m\u001b[0m\n\u001b[0m\u001b[0;32m    351\u001b[0m             \u001b[0mbuf\u001b[0m \u001b[1;33m=\u001b[0m \u001b[0mself\u001b[0m\u001b[1;33m.\u001b[0m\u001b[0m__f\u001b[0m\u001b[1;33m.\u001b[0m\u001b[0mread\u001b[0m\u001b[1;33m(\u001b[0m\u001b[0mhdr\u001b[0m\u001b[1;33m.\u001b[0m\u001b[0mcaplen\u001b[0m\u001b[1;33m)\u001b[0m\u001b[1;33m\u001b[0m\u001b[1;33m\u001b[0m\u001b[0m\n\u001b[0;32m    352\u001b[0m             \u001b[1;32myield\u001b[0m \u001b[1;33m(\u001b[0m\u001b[0mhdr\u001b[0m\u001b[1;33m.\u001b[0m\u001b[0mtv_sec\u001b[0m \u001b[1;33m+\u001b[0m \u001b[1;33m(\u001b[0m\u001b[0mhdr\u001b[0m\u001b[1;33m.\u001b[0m\u001b[0mtv_usec\u001b[0m \u001b[1;33m/\u001b[0m \u001b[0mself\u001b[0m\u001b[1;33m.\u001b[0m\u001b[0m_divisor\u001b[0m\u001b[1;33m)\u001b[0m\u001b[1;33m,\u001b[0m \u001b[0mbuf\u001b[0m\u001b[1;33m)\u001b[0m\u001b[1;33m\u001b[0m\u001b[1;33m\u001b[0m\u001b[0m\n",
      "\u001b[1;32m~\\.conda\\envs\\tracking\\lib\\site-packages\\dpkt\\dpkt.py\u001b[0m in \u001b[0;36m__init__\u001b[1;34m(self, *args, **kwargs)\u001b[0m\n\u001b[0;32m    158\u001b[0m             \u001b[1;32mexcept\u001b[0m \u001b[0mstruct\u001b[0m\u001b[1;33m.\u001b[0m\u001b[0merror\u001b[0m\u001b[1;33m:\u001b[0m\u001b[1;33m\u001b[0m\u001b[1;33m\u001b[0m\u001b[0m\n\u001b[0;32m    159\u001b[0m                 \u001b[1;32mif\u001b[0m \u001b[0mlen\u001b[0m\u001b[1;33m(\u001b[0m\u001b[0margs\u001b[0m\u001b[1;33m[\u001b[0m\u001b[1;36m0\u001b[0m\u001b[1;33m]\u001b[0m\u001b[1;33m)\u001b[0m \u001b[1;33m<\u001b[0m \u001b[0mself\u001b[0m\u001b[1;33m.\u001b[0m\u001b[0m__hdr_len__\u001b[0m\u001b[1;33m:\u001b[0m\u001b[1;33m\u001b[0m\u001b[1;33m\u001b[0m\u001b[0m\n\u001b[1;32m--> 160\u001b[1;33m                     \u001b[1;32mraise\u001b[0m \u001b[0mNeedData\u001b[0m\u001b[1;33m(\u001b[0m\u001b[1;34m'got %d, %d needed at least'\u001b[0m \u001b[1;33m%\u001b[0m \u001b[1;33m(\u001b[0m\u001b[0mlen\u001b[0m\u001b[1;33m(\u001b[0m\u001b[0margs\u001b[0m\u001b[1;33m[\u001b[0m\u001b[1;36m0\u001b[0m\u001b[1;33m]\u001b[0m\u001b[1;33m)\u001b[0m\u001b[1;33m,\u001b[0m \u001b[0mself\u001b[0m\u001b[1;33m.\u001b[0m\u001b[0m__hdr_len__\u001b[0m\u001b[1;33m)\u001b[0m\u001b[1;33m)\u001b[0m\u001b[1;33m\u001b[0m\u001b[1;33m\u001b[0m\u001b[0m\n\u001b[0m\u001b[0;32m    161\u001b[0m                 raise UnpackError('invalid %s: %r' %\n\u001b[0;32m    162\u001b[0m                                   (self.__class__.__name__, args[0]))\n",
      "\u001b[1;31mNeedData\u001b[0m: got 4, 16 needed at least"
     ]
    }
   ],
   "source": [
    "Reads = []\n",
    "while True:\n",
    "    try:\n",
    "        ts,buf = next(lidar_reader)\n",
    "        Reads.append(read)\n",
    "    except StopIteration:\n",
    "        print('Done')\n",
    "        break"
   ]
  },
  {
   "cell_type": "code",
   "execution_count": 58,
   "id": "162dec51",
   "metadata": {
    "scrolled": true
   },
   "outputs": [
    {
     "name": "stderr",
     "output_type": "stream",
     "text": [
      "1119it [00:40, 27.61it/s]\n"
     ]
    },
    {
     "ename": "NeedData",
     "evalue": "got 0, 14 needed at least",
     "output_type": "error",
     "traceback": [
      "\u001b[1;31m---------------------------------------------------------------------------\u001b[0m",
      "\u001b[1;31merror\u001b[0m                                     Traceback (most recent call last)",
      "\u001b[1;32m~\\.conda\\envs\\tracking\\lib\\site-packages\\dpkt\\dpkt.py\u001b[0m in \u001b[0;36m__init__\u001b[1;34m(self, *args, **kwargs)\u001b[0m\n\u001b[0;32m    156\u001b[0m             \u001b[1;32mtry\u001b[0m\u001b[1;33m:\u001b[0m\u001b[1;33m\u001b[0m\u001b[1;33m\u001b[0m\u001b[0m\n\u001b[1;32m--> 157\u001b[1;33m                 \u001b[0mself\u001b[0m\u001b[1;33m.\u001b[0m\u001b[0munpack\u001b[0m\u001b[1;33m(\u001b[0m\u001b[0margs\u001b[0m\u001b[1;33m[\u001b[0m\u001b[1;36m0\u001b[0m\u001b[1;33m]\u001b[0m\u001b[1;33m)\u001b[0m\u001b[1;33m\u001b[0m\u001b[1;33m\u001b[0m\u001b[0m\n\u001b[0m\u001b[0;32m    158\u001b[0m             \u001b[1;32mexcept\u001b[0m \u001b[0mstruct\u001b[0m\u001b[1;33m.\u001b[0m\u001b[0merror\u001b[0m\u001b[1;33m:\u001b[0m\u001b[1;33m\u001b[0m\u001b[1;33m\u001b[0m\u001b[0m\n",
      "\u001b[1;32m~\\.conda\\envs\\tracking\\lib\\site-packages\\dpkt\\ethernet.py\u001b[0m in \u001b[0;36munpack\u001b[1;34m(self, buf)\u001b[0m\n\u001b[0;32m    134\u001b[0m     \u001b[1;32mdef\u001b[0m \u001b[0munpack\u001b[0m\u001b[1;33m(\u001b[0m\u001b[0mself\u001b[0m\u001b[1;33m,\u001b[0m \u001b[0mbuf\u001b[0m\u001b[1;33m)\u001b[0m\u001b[1;33m:\u001b[0m\u001b[1;33m\u001b[0m\u001b[1;33m\u001b[0m\u001b[0m\n\u001b[1;32m--> 135\u001b[1;33m         \u001b[0mdpkt\u001b[0m\u001b[1;33m.\u001b[0m\u001b[0mPacket\u001b[0m\u001b[1;33m.\u001b[0m\u001b[0munpack\u001b[0m\u001b[1;33m(\u001b[0m\u001b[0mself\u001b[0m\u001b[1;33m,\u001b[0m \u001b[0mbuf\u001b[0m\u001b[1;33m)\u001b[0m\u001b[1;33m\u001b[0m\u001b[1;33m\u001b[0m\u001b[0m\n\u001b[0m\u001b[0;32m    136\u001b[0m         \u001b[1;32mif\u001b[0m \u001b[0mself\u001b[0m\u001b[1;33m.\u001b[0m\u001b[0mtype\u001b[0m \u001b[1;33m>\u001b[0m \u001b[1;36m1500\u001b[0m\u001b[1;33m:\u001b[0m\u001b[1;33m\u001b[0m\u001b[1;33m\u001b[0m\u001b[0m\n",
      "\u001b[1;32m~\\.conda\\envs\\tracking\\lib\\site-packages\\dpkt\\dpkt.py\u001b[0m in \u001b[0;36munpack\u001b[1;34m(self, buf)\u001b[0m\n\u001b[0;32m    341\u001b[0m         for k, v in compat_izip(self.__hdr_fields__,\n\u001b[1;32m--> 342\u001b[1;33m                                 struct.unpack(self.__hdr_fmt__, buf[:self.__hdr_len__])):\n\u001b[0m\u001b[0;32m    343\u001b[0m             \u001b[0msetattr\u001b[0m\u001b[1;33m(\u001b[0m\u001b[0mself\u001b[0m\u001b[1;33m,\u001b[0m \u001b[0mk\u001b[0m\u001b[1;33m,\u001b[0m \u001b[0mv\u001b[0m\u001b[1;33m)\u001b[0m\u001b[1;33m\u001b[0m\u001b[1;33m\u001b[0m\u001b[0m\n",
      "\u001b[1;31merror\u001b[0m: unpack requires a buffer of 14 bytes",
      "\nDuring handling of the above exception, another exception occurred:\n",
      "\u001b[1;31mNeedData\u001b[0m                                  Traceback (most recent call last)",
      "\u001b[1;32m~\\AppData\\Local\\Temp/ipykernel_36224/2849257530.py\u001b[0m in \u001b[0;36m<module>\u001b[1;34m\u001b[0m\n\u001b[0;32m      1\u001b[0m \u001b[0mTd_maps\u001b[0m \u001b[1;33m=\u001b[0m \u001b[1;33m[\u001b[0m\u001b[1;33m]\u001b[0m\u001b[1;33m\u001b[0m\u001b[1;33m\u001b[0m\u001b[0m\n\u001b[1;32m----> 2\u001b[1;33m \u001b[1;32mfor\u001b[0m \u001b[0mtd\u001b[0m \u001b[1;32min\u001b[0m \u001b[0mtqdm\u001b[0m\u001b[1;33m(\u001b[0m\u001b[0mloader\u001b[0m\u001b[1;33m)\u001b[0m\u001b[1;33m:\u001b[0m\u001b[1;33m\u001b[0m\u001b[1;33m\u001b[0m\u001b[0m\n\u001b[0m\u001b[0;32m      3\u001b[0m     \u001b[1;32mif\u001b[0m \u001b[0mtd\u001b[0m \u001b[1;32mis\u001b[0m \u001b[1;32mnot\u001b[0m \u001b[1;32mNone\u001b[0m\u001b[1;33m:\u001b[0m\u001b[1;33m\u001b[0m\u001b[1;33m\u001b[0m\u001b[0m\n\u001b[0;32m      4\u001b[0m         \u001b[0mTd_maps\u001b[0m\u001b[1;33m.\u001b[0m\u001b[0mappend\u001b[0m\u001b[1;33m(\u001b[0m\u001b[0mtd\u001b[0m\u001b[1;33m)\u001b[0m\u001b[1;33m\u001b[0m\u001b[1;33m\u001b[0m\u001b[0m\n\u001b[0;32m      5\u001b[0m     \u001b[1;32melse\u001b[0m\u001b[1;33m:\u001b[0m\u001b[1;33m\u001b[0m\u001b[1;33m\u001b[0m\u001b[0m\n",
      "\u001b[1;32m~\\.conda\\envs\\tracking\\lib\\site-packages\\tqdm\\std.py\u001b[0m in \u001b[0;36m__iter__\u001b[1;34m(self)\u001b[0m\n\u001b[0;32m   1178\u001b[0m \u001b[1;33m\u001b[0m\u001b[0m\n\u001b[0;32m   1179\u001b[0m         \u001b[1;32mtry\u001b[0m\u001b[1;33m:\u001b[0m\u001b[1;33m\u001b[0m\u001b[1;33m\u001b[0m\u001b[0m\n\u001b[1;32m-> 1180\u001b[1;33m             \u001b[1;32mfor\u001b[0m \u001b[0mobj\u001b[0m \u001b[1;32min\u001b[0m \u001b[0miterable\u001b[0m\u001b[1;33m:\u001b[0m\u001b[1;33m\u001b[0m\u001b[1;33m\u001b[0m\u001b[0m\n\u001b[0m\u001b[0;32m   1181\u001b[0m                 \u001b[1;32myield\u001b[0m \u001b[0mobj\u001b[0m\u001b[1;33m\u001b[0m\u001b[1;33m\u001b[0m\u001b[0m\n\u001b[0;32m   1182\u001b[0m                 \u001b[1;31m# Update and possibly print the progressbar.\u001b[0m\u001b[1;33m\u001b[0m\u001b[1;33m\u001b[0m\u001b[1;33m\u001b[0m\u001b[0m\n",
      "\u001b[1;32m~\\AppData\\Local\\Temp/ipykernel_36224/2180181425.py\u001b[0m in \u001b[0;36mframe_gen\u001b[1;34m(lidar_reader)\u001b[0m\n\u001b[0;32m     16\u001b[0m                 \u001b[1;32myield\u001b[0m \u001b[1;32mNone\u001b[0m\u001b[1;33m\u001b[0m\u001b[1;33m\u001b[0m\u001b[0m\n\u001b[0;32m     17\u001b[0m \u001b[1;33m\u001b[0m\u001b[0m\n\u001b[1;32m---> 18\u001b[1;33m             \u001b[0meth\u001b[0m \u001b[1;33m=\u001b[0m \u001b[0mdpkt\u001b[0m\u001b[1;33m.\u001b[0m\u001b[0methernet\u001b[0m\u001b[1;33m.\u001b[0m\u001b[0mEthernet\u001b[0m\u001b[1;33m(\u001b[0m\u001b[0mbuf\u001b[0m\u001b[1;33m)\u001b[0m\u001b[1;33m\u001b[0m\u001b[1;33m\u001b[0m\u001b[0m\n\u001b[0m\u001b[0;32m     19\u001b[0m             \u001b[0mdata\u001b[0m \u001b[1;33m=\u001b[0m \u001b[0meth\u001b[0m\u001b[1;33m.\u001b[0m\u001b[0mdata\u001b[0m\u001b[1;33m.\u001b[0m\u001b[0mdata\u001b[0m\u001b[1;33m.\u001b[0m\u001b[0mdata\u001b[0m\u001b[1;33m\u001b[0m\u001b[1;33m\u001b[0m\u001b[0m\n\u001b[0;32m     20\u001b[0m             \u001b[0mpacket_status\u001b[0m \u001b[1;33m=\u001b[0m \u001b[0meth\u001b[0m\u001b[1;33m.\u001b[0m\u001b[0mdata\u001b[0m\u001b[1;33m.\u001b[0m\u001b[0mdata\u001b[0m\u001b[1;33m.\u001b[0m\u001b[0msport\u001b[0m\u001b[1;33m\u001b[0m\u001b[1;33m\u001b[0m\u001b[0m\n",
      "\u001b[1;32m~\\.conda\\envs\\tracking\\lib\\site-packages\\dpkt\\ethernet.py\u001b[0m in \u001b[0;36m__init__\u001b[1;34m(self, *args, **kwargs)\u001b[0m\n\u001b[0;32m     80\u001b[0m     \u001b[1;32mdef\u001b[0m \u001b[0m__init__\u001b[0m\u001b[1;33m(\u001b[0m\u001b[0mself\u001b[0m\u001b[1;33m,\u001b[0m \u001b[1;33m*\u001b[0m\u001b[0margs\u001b[0m\u001b[1;33m,\u001b[0m \u001b[1;33m**\u001b[0m\u001b[0mkwargs\u001b[0m\u001b[1;33m)\u001b[0m\u001b[1;33m:\u001b[0m\u001b[1;33m\u001b[0m\u001b[1;33m\u001b[0m\u001b[0m\n\u001b[0;32m     81\u001b[0m         \u001b[0mself\u001b[0m\u001b[1;33m.\u001b[0m\u001b[0m_next_type\u001b[0m \u001b[1;33m=\u001b[0m \u001b[1;32mNone\u001b[0m\u001b[1;33m\u001b[0m\u001b[1;33m\u001b[0m\u001b[0m\n\u001b[1;32m---> 82\u001b[1;33m         \u001b[0mdpkt\u001b[0m\u001b[1;33m.\u001b[0m\u001b[0mPacket\u001b[0m\u001b[1;33m.\u001b[0m\u001b[0m__init__\u001b[0m\u001b[1;33m(\u001b[0m\u001b[0mself\u001b[0m\u001b[1;33m,\u001b[0m \u001b[1;33m*\u001b[0m\u001b[0margs\u001b[0m\u001b[1;33m,\u001b[0m \u001b[1;33m**\u001b[0m\u001b[0mkwargs\u001b[0m\u001b[1;33m)\u001b[0m\u001b[1;33m\u001b[0m\u001b[1;33m\u001b[0m\u001b[0m\n\u001b[0m\u001b[0;32m     83\u001b[0m         \u001b[1;31m# if data was given in kwargs, try to unpack it\u001b[0m\u001b[1;33m\u001b[0m\u001b[1;33m\u001b[0m\u001b[1;33m\u001b[0m\u001b[0m\n\u001b[0;32m     84\u001b[0m         \u001b[1;32mif\u001b[0m \u001b[0mself\u001b[0m\u001b[1;33m.\u001b[0m\u001b[0mdata\u001b[0m\u001b[1;33m:\u001b[0m\u001b[1;33m\u001b[0m\u001b[1;33m\u001b[0m\u001b[0m\n",
      "\u001b[1;32m~\\.conda\\envs\\tracking\\lib\\site-packages\\dpkt\\dpkt.py\u001b[0m in \u001b[0;36m__init__\u001b[1;34m(self, *args, **kwargs)\u001b[0m\n\u001b[0;32m    158\u001b[0m             \u001b[1;32mexcept\u001b[0m \u001b[0mstruct\u001b[0m\u001b[1;33m.\u001b[0m\u001b[0merror\u001b[0m\u001b[1;33m:\u001b[0m\u001b[1;33m\u001b[0m\u001b[1;33m\u001b[0m\u001b[0m\n\u001b[0;32m    159\u001b[0m                 \u001b[1;32mif\u001b[0m \u001b[0mlen\u001b[0m\u001b[1;33m(\u001b[0m\u001b[0margs\u001b[0m\u001b[1;33m[\u001b[0m\u001b[1;36m0\u001b[0m\u001b[1;33m]\u001b[0m\u001b[1;33m)\u001b[0m \u001b[1;33m<\u001b[0m \u001b[0mself\u001b[0m\u001b[1;33m.\u001b[0m\u001b[0m__hdr_len__\u001b[0m\u001b[1;33m:\u001b[0m\u001b[1;33m\u001b[0m\u001b[1;33m\u001b[0m\u001b[0m\n\u001b[1;32m--> 160\u001b[1;33m                     \u001b[1;32mraise\u001b[0m \u001b[0mNeedData\u001b[0m\u001b[1;33m(\u001b[0m\u001b[1;34m'got %d, %d needed at least'\u001b[0m \u001b[1;33m%\u001b[0m \u001b[1;33m(\u001b[0m\u001b[0mlen\u001b[0m\u001b[1;33m(\u001b[0m\u001b[0margs\u001b[0m\u001b[1;33m[\u001b[0m\u001b[1;36m0\u001b[0m\u001b[1;33m]\u001b[0m\u001b[1;33m)\u001b[0m\u001b[1;33m,\u001b[0m \u001b[0mself\u001b[0m\u001b[1;33m.\u001b[0m\u001b[0m__hdr_len__\u001b[0m\u001b[1;33m)\u001b[0m\u001b[1;33m)\u001b[0m\u001b[1;33m\u001b[0m\u001b[1;33m\u001b[0m\u001b[0m\n\u001b[0m\u001b[0;32m    161\u001b[0m                 raise UnpackError('invalid %s: %r' %\n\u001b[0;32m    162\u001b[0m                                   (self.__class__.__name__, args[0]))\n",
      "\u001b[1;31mNeedData\u001b[0m: got 0, 14 needed at least"
     ]
    }
   ],
   "source": [
    "Td_maps = []\n",
    "for td in tqdm(loader):\n",
    "    if td is not None:\n",
    "        Td_maps.append(td)\n",
    "    else:\n",
    "        break"
   ]
  },
  {
   "cell_type": "code",
   "execution_count": 192,
   "id": "7a8d8c73",
   "metadata": {},
   "outputs": [],
   "source": [
    "threshold_map = np.load(r'D:\\LiDAR_Data\\test\\Calibration\\bck_map.npy')"
   ]
  },
  {
   "cell_type": "code",
   "execution_count": 193,
   "id": "10b8d2ac",
   "metadata": {},
   "outputs": [
    {
     "data": {
      "application/vnd.jupyter.widget-view+json": {
       "model_id": "4c4fa2afc5f343e9accb3169b3bec46c",
       "version_major": 2,
       "version_minor": 0
      },
      "text/plain": [
       "WebVisualizer(window_uid='window_4')"
      ]
     },
     "metadata": {},
     "output_type": "display_data"
    }
   ],
   "source": [
    "clustering_td = Raster_DBSCAN(window_size=(5,15),eps = 1.2, min_samples= 12, Td_map_szie=threshold_map.shape)   \n",
    "Td_map = Td_maps[20]\n",
    "Foreground_map = (Td_map < threshold_map)&(Td_map != 0)\n",
    "Labeling_map = clustering_td.fit_predict(Td_map= Td_map,Foreground_map=Foreground_map)\n",
    "Background_map = (Td_map >= threshold_map)&(Td_map != 0)\n",
    "pcd = get_pcd_colored_filtered(Td_map,Labeling_map,Foreground_map)\n",
    "draw(pcd,height=1000,width=1000)"
   ]
  },
  {
   "cell_type": "code",
   "execution_count": 189,
   "id": "5d8badd3",
   "metadata": {},
   "outputs": [
    {
     "data": {
      "application/vnd.jupyter.widget-view+json": {
       "model_id": "59f6cd3fdaa44bcd961acdb2611d319a",
       "version_major": 2,
       "version_minor": 0
      },
      "text/plain": [
       "WebVisualizer(window_uid='window_3')"
      ]
     },
     "metadata": {},
     "output_type": "display_data"
    }
   ],
   "source": [
    "clustering_td = Raster_DBSCAN(window_size=(5,15),eps = 1.2, min_samples= 12, Td_map_szie=threshold_map.shape)   \n",
    "Td_map = Td_maps[20]\n",
    "Foreground_map = (Td_map < threshold_map)&(Td_map != 0)\n",
    "Labeling_map = clustering_td.fit_predict(Td_map= Td_map,Foreground_map=Foreground_map)\n",
    "Background_map = (Td_map >= threshold_map)&(Td_map != 0)\n",
    "pcd = get_pcd_colored_filtered(Td_map,Labeling_map,Foreground_map)\n",
    "draw(pcd,height=1000,width=1000)"
   ]
  },
  {
   "cell_type": "code",
   "execution_count": 180,
   "id": "fa85ea1e",
   "metadata": {},
   "outputs": [],
   "source": [
    "Foreground_map = np.full(Td_maps[0].shape,True)\n",
    "Labeling_map = np.ones_like(Foreground_map)\n",
    "pcd = get_pcd_colored(Td_maps[0],Labeling_map)"
   ]
  },
  {
   "cell_type": "code",
   "execution_count": 181,
   "id": "63ccab8a",
   "metadata": {},
   "outputs": [
    {
     "data": {
      "application/vnd.jupyter.widget-view+json": {
       "model_id": "66bba4a29c134758bb75880518c0f885",
       "version_major": 2,
       "version_minor": 0
      },
      "text/plain": [
       "WebVisualizer(window_uid='window_0')"
      ]
     },
     "metadata": {},
     "output_type": "display_data"
    }
   ],
   "source": [
    "draw(pcd)"
   ]
  },
  {
   "cell_type": "code",
   "execution_count": 123,
   "id": "2b1beeda",
   "metadata": {},
   "outputs": [
    {
     "name": "stdout",
     "output_type": "stream",
     "text": [
      "Done\n"
     ]
    }
   ],
   "source": [
    "Reads = []\n",
    "while True:\n",
    "    try:\n",
    "        Reads.append(next(lidar_reader))\n",
    "    except StopIteration:\n",
    "        print('Done')\n",
    "        break"
   ]
  },
  {
   "cell_type": "code",
   "execution_count": 42,
   "id": "b32ebe6b",
   "metadata": {},
   "outputs": [],
   "source": [
    "laser_id = np.full((32,12),np.arange(32).reshape(-1,1).astype('int'))\n",
    "Data_order = np.array([[-25,1.4],[-1,-4.2],[-1.667,1.4],[-15.639,-1.4],\n",
    "                                    [-11.31,1.4],[0,-1.4],[-0.667,4.2],[-8.843,-1.4],\n",
    "                                    [-7.254,1.4],[0.333,-4.2],[-0.333,1.4],[-6.148,-1.4],\n",
    "                                    [-5.333,4.2],[1.333,-1.4],[0.667,4.2],[-4,-1.4],\n",
    "                                    [-4.667,1.4],[1.667,-4.2],[1,1.4],[-3.667,-4.2],\n",
    "                                    [-3.333,4.2],[3.333,-1.4],[2.333,1.4],[-2.667,-1.4],\n",
    "                                    [-3,1.4],[7,-1.4],[4.667,1.4],[-2.333,-4.2],\n",
    "                                    [-2,4.2],[15,-1.4],[10.333,1.4],[-1.333,-1.4]\n",
    "                                    ])\n",
    "omega = Data_order[:,0]"
   ]
  },
  {
   "cell_type": "code",
   "execution_count": 43,
   "id": "72ce7dc8",
   "metadata": {},
   "outputs": [],
   "source": [
    "def read_uint32(data, idx):\n",
    "    return data[idx] + data[idx+1]*256 + data[idx+2]*256*256 + data[idx+3]*256*256*256\n",
    "def read_firing_data(data):\n",
    "    block_id = data[0] + data[1]*256\n",
    "    azimuth = (data[2] + data[3] * 256) / 100 # degree\n",
    "    firings = data[4:].reshape(32, 3) \n",
    "    distances = firings[:, 0] + firings[:, 1] * 256 # mm \n",
    "    intensities = firings[:, 2] # 0-255\n",
    "    return distances, intensities, azimuth #(1,0)\n",
    "\n",
    "def calc_timing_offsets():\n",
    "    timing_offsets = np.zeros((32,12))  # Init matrix\n",
    "    # constants\n",
    "    full_firing_cycle = 55.296  # μs\n",
    "    single_firing = 2.304  # μs\n",
    "    # compute timing offsets\n",
    "    for x in range(12):\n",
    "        for y in range(32):\n",
    "            dataBlockIndex = (x * 2) + int((y / 16))\n",
    "            dataPointIndex = y % 16\n",
    "            timing_offsets[y][x] = (full_firing_cycle * dataBlockIndex) +(single_firing * dataPointIndex)\n",
    "    return np.array(timing_offsets).T\n",
    "\n",
    "def calc_precise_azimuth(azimuth_per_block):\n",
    "\n",
    "    # block_number: how many blocks are required to be processed \n",
    "\n",
    "    org_azi = azimuth_per_block.copy()\n",
    "    precision_azimuth = []\n",
    "    # iterate through each block\n",
    "    for n in range(len(org_azi)): # n=0..11\n",
    "        azimuth = org_azi.copy()\n",
    "        try:\n",
    "            # First, adjust for an Azimuth rollover from 359.99° to 0°\n",
    "            if azimuth[n + 1] < azimuth[n]:\n",
    "                azimuth[n + 1] += 360\n",
    "\n",
    "            # Determine the azimuth Gap between data blocks\n",
    "            azimuth_gap = azimuth[n + 1] - azimuth[n]\n",
    "        except:\n",
    "            if azimuth[n] < azimuth[n-1]:\n",
    "                azimuth[n] += 360\n",
    "            azimuth_gap = azimuth[n] - azimuth[n-1]\n",
    "\n",
    "        factor = azimuth_gap / 32.\n",
    "        k = np.arange(32)\n",
    "        precise_azimuth = azimuth[n] + factor * k\n",
    "        precision_azimuth.append(precise_azimuth)\n",
    "\n",
    "    precision_azimuth = np.array(precision_azimuth).T\n",
    "    return precision_azimuth # 32 * 12\n",
    "\n",
    "def parse_one_packet(data):\n",
    "    data = np.frombuffer(data, dtype=np.uint8).astype(np.uint32)\n",
    "    blocks = data[0:1200].reshape(12, 100)\n",
    "    # Timestamp = self.read_uint32(data[1200:1204],0)\n",
    "    distances = []#12*32\n",
    "    intensities = []#12*32\n",
    "    azimuth_per_block = [] #(12,0)\n",
    "    # iteratie through each block\n",
    "    for i, blk in enumerate(blocks):\n",
    "        dists, intens, angles = read_firing_data(blk)\n",
    "        distances.append(dists) #12*32\n",
    "        intensities.append(intens) #12*32\n",
    "        azimuth_per_block.append(angles)\n",
    "\n",
    "    azimuth_per_block = np.array(azimuth_per_block).T\n",
    "    distances = 4/1000*np.array(distances).T # 32,12\n",
    "    intensities = np.array(intensities).T # 32,12\n",
    "\n",
    "    return distances,intensities, azimuth_per_block # 12*0\n",
    "\n",
    "def cal_angle_diff(advance_angle,lagging_angle):\n",
    "    if advance_angle < lagging_angle:\n",
    "        return advance_angle + 360 - lagging_angle\n",
    "    else:\n",
    "        return advance_angle - lagging_angle"
   ]
  },
  {
   "cell_type": "code",
   "execution_count": 53,
   "id": "cea50028",
   "metadata": {},
   "outputs": [],
   "source": [
    "def frame_gen(lidar_reader):\n",
    "    frame_initial_azimuth = -1\n",
    "    cur_azimuth = -1\n",
    "    culmulative_azimuth = 0\n",
    "    culmulative_azimuth_values = []\n",
    "    culmulative_laser_ids = []\n",
    "    culmulative_distances = []\n",
    "#     Iteration_stop_sign = False\n",
    "    while True:\n",
    "        Td_map = np.zeros((32,1800))\n",
    "        Intens_map = np.zeros((32,1800))\n",
    "        while True:\n",
    "            try:\n",
    "                ts,buf = next(lidar_reader)\n",
    "            except:\n",
    "                yield None\n",
    "                \n",
    "\n",
    "            eth = dpkt.ethernet.Ethernet(buf)\n",
    "            data = eth.data.data.data\n",
    "            packet_status = eth.data.data.sport\n",
    "            if packet_status == 2368:\n",
    "                if len(data)<1206:\n",
    "                    culmulative_azimuth += 2.4\n",
    "                    continue\n",
    "                # 32,12, 32,12, （12，） azi\n",
    "                distances,intensities,azimuth_per_block = parse_one_packet(data)\n",
    "                azimuth = calc_precise_azimuth(azimuth_per_block) # 32 x 12\n",
    "\n",
    "#                 print(azimuth_per_block)\n",
    "                if frame_initial_azimuth == -1: #initialization\n",
    "                    frame_initial_azimuth = azimuth_per_block[0]\n",
    "                    cur_azimuth = azimuth_per_block[-1]\n",
    "                    culmulative_azimuth_values.append(azimuth)\n",
    "                    culmulative_laser_ids.append(laser_id)\n",
    "                    culmulative_distances.append(distances)\n",
    "                    # azimuth_ind = azimuth_ind.flatten()\n",
    "                    # Td_map[laser_id,azimuth_ind] = distances.flatten()\n",
    "                    culmulative_azimuth += cal_angle_diff(azimuth_per_block[-1],azimuth_per_block[0])\n",
    "                else:\n",
    "                    # non-initialization\n",
    "                    diff = cal_angle_diff(azimuth_per_block[-1],cur_azimuth)\n",
    "                    culmulative_azimuth += diff \n",
    "\n",
    "                    if culmulative_azimuth > 360: \n",
    "\n",
    "                        culmulative_azimuth_values.append(azimuth)\n",
    "                        culmulative_laser_ids.append(laser_id)\n",
    "                        culmulative_distances.append(distances)\n",
    "\n",
    "                        culmulative_azimuth_values = np.concatenate(culmulative_azimuth_values,axis = 1)\n",
    "                        culmulative_azimuth_values += Data_order[:,1].reshape(-1,1)\n",
    "                        culmulative_laser_ids = np.concatenate(culmulative_laser_ids,axis = 1).flatten()\n",
    "                        culmulative_distances = np.concatenate(culmulative_distances,axis = 1).flatten()\n",
    "\n",
    "                        culmulative_azimuth_inds = np.around(culmulative_azimuth_values/0.2).astype('int').flatten()\n",
    "                        culmulative_azimuth_inds[culmulative_azimuth_inds > 1799] -= 1800\n",
    "                        culmulative_azimuth_inds[culmulative_azimuth_inds < 0 ] += 1800\n",
    "\n",
    "                        Td_map[culmulative_laser_ids,culmulative_azimuth_inds] = culmulative_distances\n",
    "                        culmulative_azimuth = 0\n",
    "                        culmulative_azimuth_values = []\n",
    "                        culmulative_laser_ids = []\n",
    "                        culmulative_distances = []\n",
    "                        \n",
    "                        cur_azimuth = azimuth_per_block[-1]\n",
    "\n",
    "                        yield Td_map[np.argsort(omega),:] #32*1800\n",
    "\n",
    "                    else:\n",
    "                        culmulative_azimuth_values.append(azimuth)\n",
    "                        culmulative_laser_ids.append(laser_id)\n",
    "                        culmulative_distances.append(distances)\n",
    "                        cur_azimuth = azimuth_per_block[-1]"
   ]
  }
 ],
 "metadata": {
  "kernelspec": {
   "display_name": "Python 3 (ipykernel)",
   "language": "python",
   "name": "python3"
  },
  "language_info": {
   "codemirror_mode": {
    "name": "ipython",
    "version": 3
   },
   "file_extension": ".py",
   "mimetype": "text/x-python",
   "name": "python",
   "nbconvert_exporter": "python",
   "pygments_lexer": "ipython3",
   "version": "3.8.12"
  }
 },
 "nbformat": 4,
 "nbformat_minor": 5
}
