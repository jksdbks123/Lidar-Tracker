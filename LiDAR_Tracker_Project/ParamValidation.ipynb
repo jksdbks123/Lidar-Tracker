{
 "cells": [
  {
   "cell_type": "code",
   "execution_count": 2,
   "id": "7d96815b",
   "metadata": {},
   "outputs": [
    {
     "name": "stdout",
     "output_type": "stream",
     "text": [
      "Jupyter environment detected. Enabling Open3D WebVisualizer.\n",
      "[Open3D INFO] WebRTC GUI backend enabled.\n",
      "[Open3D INFO] WebRTCWindowSystem: HTTP handshake server disabled.\n",
      "[Open3D INFO] Resetting default logger to print to terminal.\n"
     ]
    }
   ],
   "source": [
    "import numpy as np\n",
    "import matplotlib.pyplot as plt\n",
    "import os\n",
    "from BfTableGenerator import RansacCollector\n",
    "from BfTableGenerator import TDmapLoader\n",
    "from tqdm import tqdm\n",
    "# from open3d import JVisualizer \n",
    "from Utils import *\n",
    "from DDBSCAN import Raster_DBSCAN\n",
    "import open3d as op3\n",
    "# op3.visualization.webrtc_server.enable_webrtc()\n",
    "from open3d.web_visualizer import draw\n",
    "from VisulizerTools import *\n",
    "from tqdm import tqdm_notebook\n",
    "import time\n",
    "from sklearn.cluster import DBSCAN\n"
   ]
  },
  {
   "cell_type": "code",
   "execution_count": 3,
   "id": "d6a74b62",
   "metadata": {},
   "outputs": [
    {
     "name": "stdout",
     "output_type": "stream",
     "text": [
      "Loading pcap...\n"
     ]
    },
    {
     "name": "stderr",
     "output_type": "stream",
     "text": [
      "100%|████████████████████████████████████████████████████████████████████████████████| 100/100 [00:03<00:00, 27.92it/s]\n"
     ]
    }
   ],
   "source": [
    "collector = RansacCollector(pcap_path=r'D:\\LiDAR_Data\\MidTown\\Liberty\\2021-12-11-17-0-0.pcap',output_file_path='D:\\LiDAR_Data\\MidTown\\Liberty',update_frame_num=100)\n",
    "collector.gen_tdmap()"
   ]
  },
  {
   "cell_type": "code",
   "execution_count": 4,
   "id": "513abc4d",
   "metadata": {},
   "outputs": [],
   "source": [
    "threshold_map = np.load(r'D:\\LiDAR_Data\\MidTown\\Liberty\\Calibration\\bck_map.npy')"
   ]
  },
  {
   "cell_type": "code",
   "execution_count": 11,
   "id": "8c7e7263",
   "metadata": {},
   "outputs": [
    {
     "name": "stdout",
     "output_type": "stream",
     "text": [
      "Loading pcap...\n"
     ]
    },
    {
     "name": "stderr",
     "output_type": "stream",
     "text": [
      "100%|██████████████████████████████████████████████████████████████████████████████| 2000/2000 [01:12<00:00, 27.69it/s]\n"
     ]
    },
    {
     "name": "stdout",
     "output_type": "stream",
     "text": [
      "Loading pcap...\n"
     ]
    },
    {
     "name": "stderr",
     "output_type": "stream",
     "text": [
      "100%|██████████████████████████████████████████████████████████████████████████████| 2000/2000 [01:11<00:00, 28.16it/s]\n"
     ]
    },
    {
     "name": "stdout",
     "output_type": "stream",
     "text": [
      "Loading pcap...\n"
     ]
    },
    {
     "name": "stderr",
     "output_type": "stream",
     "text": [
      "100%|██████████████████████████████████████████████████████████████████████████████| 2000/2000 [01:09<00:00, 28.59it/s]\n"
     ]
    },
    {
     "name": "stdout",
     "output_type": "stream",
     "text": [
      "Loading pcap...\n"
     ]
    },
    {
     "name": "stderr",
     "output_type": "stream",
     "text": [
      "100%|██████████████████████████████████████████████████████████████████████████████| 2000/2000 [01:08<00:00, 29.25it/s]\n"
     ]
    },
    {
     "name": "stdout",
     "output_type": "stream",
     "text": [
      "Loading pcap...\n"
     ]
    },
    {
     "name": "stderr",
     "output_type": "stream",
     "text": [
      "100%|██████████████████████████████████████████████████████████████████████████████| 2000/2000 [01:08<00:00, 29.04it/s]\n"
     ]
    },
    {
     "name": "stdout",
     "output_type": "stream",
     "text": [
      "Generating Threshold Map\n"
     ]
    }
   ],
   "source": [
    "bck_path = r'D:\\LiDAR_Data\\MidTown\\PCAP_BCK\\Liberty'\n",
    "output_path = r'D:\\LiDAR_Data\\MidTown\\PCAP_BCK\\Liberty'\n",
    "pcaps_list = os.listdir(bck_path)\n",
    "pcaps_list = [p for p in pcaps_list if 'pcap' in p.split('.')]\n",
    "aggregated_maps_multiple = []\n",
    "for i in range(len(pcaps_list)):\n",
    "    collector = RansacCollector(pcap_path=os.path.join(bck_path,pcaps_list[i]),output_file_path=bck_path,update_frame_num=2000)\n",
    "    collector.gen_tdmap()\n",
    "    aggregated_maps_multiple.append(collector.aggregated_map[np.random.choice(np.arange(0,2000),size = int(6000/len(pcaps_list)) ,replace = False)])\n",
    "collector.aggregated_map = np.concatenate(aggregated_maps_multiple,axis = 0)\n",
    "collector.gen_thredmap(d = 0.5 ,thred_s = 0.54,N = 10,delta_thred = 1e-3,step = 0.1)\n",
    "threshold_map = collector.thred_map"
   ]
  },
  {
   "cell_type": "code",
   "execution_count": 31,
   "id": "f02e4610",
   "metadata": {},
   "outputs": [
    {
     "data": {
      "text/plain": [
       "['2021-12-10-3-30-0.pcap',\n",
       " '2021-12-11-1-0-0.pcap',\n",
       " '2021-12-11-11-30-0.pcap',\n",
       " '2021-12-11-4-0-0.pcap',\n",
       " '2021-12-12-5-0-0.pcap']"
      ]
     },
     "execution_count": 31,
     "metadata": {},
     "output_type": "execute_result"
    }
   ],
   "source": [
    "pcaps_list"
   ]
  },
  {
   "cell_type": "code",
   "execution_count": 32,
   "id": "15092d79",
   "metadata": {},
   "outputs": [],
   "source": [
    "collector.aggregated_map = collector.aggregated_map[:]"
   ]
  },
  {
   "cell_type": "code",
   "execution_count": 29,
   "id": "a912aef4",
   "metadata": {},
   "outputs": [
    {
     "name": "stdout",
     "output_type": "stream",
     "text": [
      "Generating Threshold Map\n"
     ]
    }
   ],
   "source": [
    "collector.gen_thredmap(d = 1.2 ,thred_s = 0.5,N = 10,delta_thred = 1e-3,step = 0.1)\n",
    "threshold_map = collector.thred_map"
   ]
  },
  {
   "cell_type": "code",
   "execution_count": 30,
   "id": "e99836c0",
   "metadata": {},
   "outputs": [
    {
     "data": {
      "application/vnd.jupyter.widget-view+json": {
       "model_id": "5b42d757173d41de8cbca29b1a756212",
       "version_major": 2,
       "version_minor": 0
      },
      "text/plain": [
       "WebVisualizer(window_uid='window_10')"
      ]
     },
     "metadata": {},
     "output_type": "display_data"
    }
   ],
   "source": [
    "clustering_td = Raster_DBSCAN(window_size=(5,13),eps = 1.2, min_samples= 8, Td_map_szie=threshold_map.shape)   \n",
    "Td_map = collector.aggregated_map[0]\n",
    "Foreground_map = (Td_map < threshold_map)&(Td_map != 0)\n",
    "Labeling_map = clustering_td.fit_predict(Td_map= Td_map,Foreground_map=Foreground_map)\n",
    "Background_map = (Td_map >= threshold_map)&(Td_map != 0)\n",
    "pcd = get_pcd_colored_filtered(Td_map,Labeling_map,Foreground_map)\n",
    "draw(pcd,height=1000,width=1000)"
   ]
  },
  {
   "cell_type": "code",
   "execution_count": null,
   "id": "ad9f868a",
   "metadata": {},
   "outputs": [],
   "source": [
    "clustering_td = Raster_DBSCAN(window_size=(5,13),eps = 1.2, min_samples= 8, Td_map_szie=threshold_map.shape)   \n",
    "Td_map = collector.aggregated_map[0]\n",
    "Foreground_map = (Td_map < threshold_map)&(Td_map != 0)\n",
    "Labeling_map = clustering_td.fit_predict(Td_map= Td_map,Foreground_map=Foreground_map)\n",
    "Background_map = (Td_map >= threshold_map)&(Td_map != 0)\n",
    "pcd = get_pcd_colored(Td_map,Labeling_map,Foreground_map)\n",
    "draw(pcd,height=1000,width=1000)"
   ]
  }
 ],
 "metadata": {
  "kernelspec": {
   "display_name": "Python 3 (ipykernel)",
   "language": "python",
   "name": "python3"
  },
  "language_info": {
   "codemirror_mode": {
    "name": "ipython",
    "version": 3
   },
   "file_extension": ".py",
   "mimetype": "text/x-python",
   "name": "python",
   "nbconvert_exporter": "python",
   "pygments_lexer": "ipython3",
   "version": "3.8.12"
  }
 },
 "nbformat": 4,
 "nbformat_minor": 5
}
