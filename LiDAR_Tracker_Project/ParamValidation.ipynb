{
 "cells": [
  {
   "cell_type": "code",
   "execution_count": 3,
   "id": "367df48b",
   "metadata": {},
   "outputs": [
    {
     "name": "stdout",
     "output_type": "stream",
     "text": [
      "Jupyter environment detected. Enabling Open3D WebVisualizer.\n",
      "[Open3D INFO] WebRTC GUI backend enabled.\n",
      "[Open3D INFO] WebRTCWindowSystem: HTTP handshake server disabled.\n",
      "[Open3D INFO] Resetting default logger to print to terminal.\n"
     ]
    }
   ],
   "source": [
    "import numpy as np\n",
    "import matplotlib.pyplot as plt\n",
    "import os\n",
    "from BfTableGenerator import RansacCollector\n",
    "from BfTableGenerator import TDmapLoader\n",
    "from tqdm import tqdm\n",
    "# from open3d import JVisualizer \n",
    "from Utils import *\n",
    "from DDBSCAN import Raster_DBSCAN\n",
    "import open3d as op3\n",
    "# op3.visualization.webrtc_server.enable_webrtc()\n",
    "from open3d.web_visualizer import draw\n",
    "from VisulizerTools import *\n",
    "from tqdm import tqdm_notebook\n",
    "import time\n",
    "from sklearn.cluster import DBSCAN\n",
    "# +80"
   ]
  },
  {
   "cell_type": "code",
   "execution_count": 4,
   "id": "eff352b7",
   "metadata": {},
   "outputs": [],
   "source": [
    "def get_thred_modified(ts,d ,thred_s ,N ,delta_thred ,step):# Ransac Para\n",
    "    ts_temp = ts.copy()\n",
    "    ts_temp[ts_temp == 0] = 1000\n",
    "    valid_dises = []\n",
    "    for i in range(N):\n",
    "        sample = np.random.choice(ts_temp,replace=False)\n",
    "        set_d = ts_temp[(ts_temp > sample - d)&(ts_temp < sample + d)]\n",
    "        condition_thred = len(set_d)/len(ts_temp) > thred_s\n",
    "        if condition_thred :\n",
    "            valid_dises.append(sample)\n",
    "            \n",
    "    if len(valid_dises) == 0:\n",
    "        return 1000\n",
    "\n",
    "    cur_thred = np.min(valid_dises)\n",
    "\n",
    "    while True:\n",
    "        next_thred = cur_thred - step\n",
    "        if (len(ts[ts > next_thred])/len(ts) - len(ts[ts > cur_thred])/len(ts)) < delta_thred:\n",
    "            break\n",
    "        cur_thred = next_thred\n",
    "\n",
    "    return next_thred"
   ]
  },
  {
   "cell_type": "code",
   "execution_count": 5,
   "id": "e2adedb3",
   "metadata": {},
   "outputs": [],
   "source": [
    "def get_pcd_colored_dir(Td_map,Colored_map):\n",
    "\n",
    "    Xs = []\n",
    "    Ys = []\n",
    "    Zs = []\n",
    "    Labels = []\n",
    "    for i in range(Td_map.shape[0]):\n",
    "        longitudes = theta[i]*np.pi / 180\n",
    "        latitudes = azimuths * np.pi / 180 \n",
    "        hypotenuses = Td_map[i] * np.cos(longitudes)\n",
    "        X = hypotenuses * np.sin(latitudes)\n",
    "        Y = hypotenuses * np.cos(latitudes)\n",
    "        Z = Td_map[i] * np.sin(longitudes)\n",
    "        Valid_ind = (Td_map[i] != 0)\n",
    "        Xs.append(X[Valid_ind])\n",
    "        Ys.append(Y[Valid_ind])\n",
    "        Zs.append(Z[Valid_ind])\n",
    "        Labels.append(Colored_map[i][Valid_ind])\n",
    "\n",
    "    Xs = np.concatenate(Xs)\n",
    "    Ys = np.concatenate(Ys)\n",
    "    Zs = np.concatenate(Zs)\n",
    "    Labels = np.concatenate(Labels)\n",
    "    XYZ = np.concatenate([Xs.reshape(-1,1),Ys.reshape(-1,1),Zs.reshape(-1,1)],axis = 1)\n",
    "    Colors = np.full((len(Labels),3),np.array([[153,153,153]])/256)\n",
    "    unique_label = np.unique(Labels)\n",
    "    for l in unique_label[1:]:\n",
    "        Colors[Labels == l] = color_map[l%len(color_map)]\n",
    "\n",
    "    pcd = op3.geometry.PointCloud()\n",
    "    pcd.points = op3.utility.Vector3dVector(XYZ)\n",
    "    pcd.colors = op3.utility.Vector3dVector(Colors)\n",
    "    \n",
    "    return pcd     "
   ]
  },
  {
   "cell_type": "code",
   "execution_count": null,
   "id": "5ca2d12b",
   "metadata": {},
   "outputs": [],
   "source": [
    "collector = RansacCollector(pcap_path=r'D:\\LiDAR_Data\\MidTown\\PCAP_BCK\\Roundabout\\selected\\2022-1-20-0-30-0.pcap',output_file_path='D:\\LiDAR_Data\\MidTown\\Roundabout',update_frame_num=2000)\n",
    "collector.gen_tdmap()"
   ]
  },
  {
   "cell_type": "code",
   "execution_count": 20,
   "id": "c8a57c5f",
   "metadata": {},
   "outputs": [],
   "source": [
    "times = [int(pcaps_list[i].split('.')[0].split('-')[-3]) for i in range(len(pcaps_list))]"
   ]
  },
  {
   "cell_type": "code",
   "execution_count": 24,
   "id": "e04ab740",
   "metadata": {
    "scrolled": true
   },
   "outputs": [
    {
     "name": "stdout",
     "output_type": "stream",
     "text": [
      "0\n",
      "Loading pcap...\n"
     ]
    },
    {
     "name": "stderr",
     "output_type": "stream",
     "text": [
      "100%|████████████████████████████████████████████████████████████████████████████| 17950/17950 [10:39<00:00, 28.07it/s]\n"
     ]
    },
    {
     "name": "stdout",
     "output_type": "stream",
     "text": [
      "1\n",
      "Loading pcap...\n"
     ]
    },
    {
     "name": "stderr",
     "output_type": "stream",
     "text": [
      "100%|████████████████████████████████████████████████████████████████████████████| 17950/17950 [10:34<00:00, 28.30it/s]\n"
     ]
    },
    {
     "name": "stdout",
     "output_type": "stream",
     "text": [
      "2\n",
      "Loading pcap...\n"
     ]
    },
    {
     "name": "stderr",
     "output_type": "stream",
     "text": [
      "100%|████████████████████████████████████████████████████████████████████████████| 17950/17950 [10:37<00:00, 28.15it/s]\n"
     ]
    },
    {
     "name": "stdout",
     "output_type": "stream",
     "text": [
      "3\n",
      "Loading pcap...\n"
     ]
    },
    {
     "name": "stderr",
     "output_type": "stream",
     "text": [
      "100%|████████████████████████████████████████████████████████████████████████████| 17950/17950 [10:41<00:00, 27.99it/s]\n"
     ]
    },
    {
     "name": "stdout",
     "output_type": "stream",
     "text": [
      "4\n",
      "Loading pcap...\n"
     ]
    },
    {
     "name": "stderr",
     "output_type": "stream",
     "text": [
      "100%|████████████████████████████████████████████████████████████████████████████| 17950/17950 [11:01<00:00, 27.11it/s]\n"
     ]
    },
    {
     "name": "stdout",
     "output_type": "stream",
     "text": [
      "5\n",
      "Loading pcap...\n"
     ]
    },
    {
     "name": "stderr",
     "output_type": "stream",
     "text": [
      "100%|████████████████████████████████████████████████████████████████████████████| 17950/17950 [11:13<00:00, 26.66it/s]\n"
     ]
    },
    {
     "name": "stdout",
     "output_type": "stream",
     "text": [
      "6\n",
      "Loading pcap...\n"
     ]
    },
    {
     "name": "stderr",
     "output_type": "stream",
     "text": [
      "100%|████████████████████████████████████████████████████████████████████████████| 17950/17950 [10:46<00:00, 27.78it/s]\n"
     ]
    },
    {
     "name": "stdout",
     "output_type": "stream",
     "text": [
      "7\n",
      "Loading pcap...\n"
     ]
    },
    {
     "name": "stderr",
     "output_type": "stream",
     "text": [
      "100%|████████████████████████████████████████████████████████████████████████████| 17950/17950 [10:44<00:00, 27.83it/s]\n"
     ]
    },
    {
     "name": "stdout",
     "output_type": "stream",
     "text": [
      "8\n",
      "Loading pcap...\n"
     ]
    },
    {
     "name": "stderr",
     "output_type": "stream",
     "text": [
      "100%|████████████████████████████████████████████████████████████████████████████| 17950/17950 [10:45<00:00, 27.83it/s]\n"
     ]
    },
    {
     "name": "stdout",
     "output_type": "stream",
     "text": [
      "9\n",
      "Loading pcap...\n"
     ]
    },
    {
     "name": "stderr",
     "output_type": "stream",
     "text": [
      "100%|████████████████████████████████████████████████████████████████████████████| 17950/17950 [10:49<00:00, 27.64it/s]\n"
     ]
    },
    {
     "name": "stdout",
     "output_type": "stream",
     "text": [
      "10\n",
      "Loading pcap...\n"
     ]
    },
    {
     "name": "stderr",
     "output_type": "stream",
     "text": [
      "100%|████████████████████████████████████████████████████████████████████████████| 17950/17950 [10:37<00:00, 28.17it/s]\n"
     ]
    },
    {
     "name": "stdout",
     "output_type": "stream",
     "text": [
      "11\n",
      "Loading pcap...\n"
     ]
    },
    {
     "name": "stderr",
     "output_type": "stream",
     "text": [
      "100%|████████████████████████████████████████████████████████████████████████████| 17950/17950 [10:44<00:00, 27.84it/s]\n"
     ]
    },
    {
     "name": "stdout",
     "output_type": "stream",
     "text": [
      "12\n",
      "Loading pcap...\n"
     ]
    },
    {
     "name": "stderr",
     "output_type": "stream",
     "text": [
      "100%|████████████████████████████████████████████████████████████████████████████| 17950/17950 [11:19<00:00, 26.43it/s]\n"
     ]
    },
    {
     "name": "stdout",
     "output_type": "stream",
     "text": [
      "13\n",
      "Loading pcap...\n"
     ]
    },
    {
     "name": "stderr",
     "output_type": "stream",
     "text": [
      "100%|████████████████████████████████████████████████████████████████████████████| 17950/17950 [11:38<00:00, 25.70it/s]\n"
     ]
    },
    {
     "name": "stdout",
     "output_type": "stream",
     "text": [
      "13\n",
      "Loading pcap...\n"
     ]
    },
    {
     "name": "stderr",
     "output_type": "stream",
     "text": [
      "100%|████████████████████████████████████████████████████████████████████████████| 17950/17950 [11:04<00:00, 27.00it/s]\n"
     ]
    },
    {
     "name": "stdout",
     "output_type": "stream",
     "text": [
      "14\n",
      "Loading pcap...\n"
     ]
    },
    {
     "name": "stderr",
     "output_type": "stream",
     "text": [
      "100%|████████████████████████████████████████████████████████████████████████████| 17950/17950 [10:53<00:00, 27.48it/s]\n"
     ]
    },
    {
     "name": "stdout",
     "output_type": "stream",
     "text": [
      "16\n",
      "Loading pcap...\n"
     ]
    },
    {
     "name": "stderr",
     "output_type": "stream",
     "text": [
      "100%|████████████████████████████████████████████████████████████████████████████| 17950/17950 [10:42<00:00, 27.96it/s]\n"
     ]
    },
    {
     "name": "stdout",
     "output_type": "stream",
     "text": [
      "17\n",
      "Loading pcap...\n"
     ]
    },
    {
     "name": "stderr",
     "output_type": "stream",
     "text": [
      "100%|████████████████████████████████████████████████████████████████████████████| 17950/17950 [10:39<00:00, 28.09it/s]\n"
     ]
    },
    {
     "name": "stdout",
     "output_type": "stream",
     "text": [
      "18\n",
      "Loading pcap...\n"
     ]
    },
    {
     "name": "stderr",
     "output_type": "stream",
     "text": [
      "100%|████████████████████████████████████████████████████████████████████████████| 17950/17950 [10:33<00:00, 28.33it/s]\n"
     ]
    },
    {
     "name": "stdout",
     "output_type": "stream",
     "text": [
      "19\n",
      "Loading pcap...\n"
     ]
    },
    {
     "name": "stderr",
     "output_type": "stream",
     "text": [
      "100%|████████████████████████████████████████████████████████████████████████████| 17950/17950 [10:57<00:00, 27.31it/s]\n"
     ]
    },
    {
     "name": "stdout",
     "output_type": "stream",
     "text": [
      "20\n",
      "Loading pcap...\n"
     ]
    },
    {
     "name": "stderr",
     "output_type": "stream",
     "text": [
      "100%|████████████████████████████████████████████████████████████████████████████| 17950/17950 [12:03<00:00, 24.81it/s]\n"
     ]
    },
    {
     "name": "stdout",
     "output_type": "stream",
     "text": [
      "21\n",
      "Loading pcap...\n"
     ]
    },
    {
     "name": "stderr",
     "output_type": "stream",
     "text": [
      "100%|████████████████████████████████████████████████████████████████████████████| 17950/17950 [11:24<00:00, 26.23it/s]\n"
     ]
    },
    {
     "name": "stdout",
     "output_type": "stream",
     "text": [
      "22\n",
      "Loading pcap...\n"
     ]
    },
    {
     "name": "stderr",
     "output_type": "stream",
     "text": [
      "100%|████████████████████████████████████████████████████████████████████████████| 17950/17950 [11:08<00:00, 26.87it/s]\n"
     ]
    },
    {
     "name": "stdout",
     "output_type": "stream",
     "text": [
      "23\n",
      "Loading pcap...\n"
     ]
    },
    {
     "name": "stderr",
     "output_type": "stream",
     "text": [
      "100%|████████████████████████████████████████████████████████████████████████████| 17950/17950 [11:00<00:00, 27.19it/s]\n"
     ]
    }
   ],
   "source": [
    "bck_path = r'D:\\LiDAR_Data\\MidTown\\PCAP_BCK\\Roundabout\\24'\n",
    "output_path = r'D:\\LiDAR_Data\\MidTown\\PCAP_BCK\\Roundabout\\24'\n",
    "pcaps_list = os.listdir(bck_path)\n",
    "pcaps_list = [p for p in pcaps_list if 'pcap' in p.split('.')]\n",
    "times = [int(pcaps_list[i].split('.')[0].split('-')[-3]) for i in range(len(pcaps_list))]\n",
    "aggregated_maps_multiple = []\n",
    "time_ind = np.argsort(times)\n",
    "for i in time_ind:\n",
    "    print(times[i])\n",
    "    collector = RansacCollector(pcap_path=os.path.join(bck_path,pcaps_list[i]),output_file_path=bck_path,update_frame_num=17950)\n",
    "    collector.gen_tdmap()\n",
    "    aggregated_maps_multiple.append(collector.aggregated_map[np.random.choice(np.arange(0,2000),size = int(24000/len(pcaps_list)) ,replace = False)])\n",
    "# collector.aggregated_map = np.concatenate(aggregated_maps_multiple,axis = 0)\n",
    "# collector.gen_thredmap(d = 1 ,thred_s = 0.125,N = 10,delta_thred = 1e-3,step = 0.1)\n",
    "# threshold_map = collector.thred_map"
   ]
  },
  {
   "cell_type": "code",
   "execution_count": 25,
   "id": "c68f9937",
   "metadata": {},
   "outputs": [],
   "source": [
    "aggragated_map = np.concatenate(aggregated_maps_multiple,axis = 0)\n",
    "collector.aggregated_map = aggragated_map\n"
   ]
  },
  {
   "cell_type": "code",
   "execution_count": 27,
   "id": "ea814daa",
   "metadata": {},
   "outputs": [],
   "source": [
    "np.save(r'D:\\LiDAR_Data\\MidTown\\PCAP_BCK\\Roundabout\\24\\24H_Agg.npy',aggragated_map)"
   ]
  },
  {
   "cell_type": "code",
   "execution_count": null,
   "id": "db8ff2a9",
   "metadata": {},
   "outputs": [],
   "source": [
    "1,0.125,10,0.001,0.2"
   ]
  },
  {
   "cell_type": "code",
   "execution_count": 130,
   "id": "f2345870",
   "metadata": {},
   "outputs": [
    {
     "name": "stdout",
     "output_type": "stream",
     "text": [
      "Generating Threshold Map\n"
     ]
    }
   ],
   "source": [
    "# collector.aggregated_map = aggragated_map\n",
    "collector.gen_thredmap(d = 2 ,thred_s = 0.02,N = 10,delta_thred = 1e-3,step = 0.2)\n",
    "threshold_map = collector.thred_map"
   ]
  },
  {
   "cell_type": "code",
   "execution_count": 114,
   "id": "cb7a4c6d",
   "metadata": {},
   "outputs": [],
   "source": [
    "np.save(r'D:\\LiDAR_Data\\MidTown\\PCAP_BCK\\Roundabout\\24\\bck_map.npy',threshold_map)"
   ]
  },
  {
   "cell_type": "code",
   "execution_count": 78,
   "id": "b9a1545e",
   "metadata": {},
   "outputs": [],
   "source": [
    "threshold_map = np.load(r'D:\\LiDAR_Data\\MidTown\\PCAP_BCK\\Roundabout\\24\\bck_map.npy')"
   ]
  },
  {
   "cell_type": "code",
   "execution_count": 131,
   "id": "5f7d6ad4",
   "metadata": {},
   "outputs": [
    {
     "data": {
      "application/vnd.jupyter.widget-view+json": {
       "model_id": "167413865c294bdb8cd3497091db0d0d",
       "version_major": 2,
       "version_minor": 0
      },
      "text/plain": [
       "WebVisualizer(window_uid='window_20')"
      ]
     },
     "metadata": {},
     "output_type": "display_data"
    }
   ],
   "source": [
    "clustering_td = Raster_DBSCAN(window_size=(5,13),eps = 1.2, min_samples= 12, Td_map_szie=threshold_map.shape)   \n",
    "Td_map = collector.aggregated_map[12500]\n",
    "Foreground_map = (Td_map < threshold_map)&(Td_map != 0)\n",
    "Labeling_map = clustering_td.fit_predict(Td_map= Td_map,Foreground_map=Foreground_map)\n",
    "Background_map = (Td_map >= threshold_map)&(Td_map != 0)\n",
    "pcd = get_pcd_colored(Td_map,Labeling_map)\n",
    "draw(pcd,height=1000,width=1000)"
   ]
  },
  {
   "cell_type": "code",
   "execution_count": 117,
   "id": "98771ee8",
   "metadata": {},
   "outputs": [
    {
     "data": {
      "application/vnd.jupyter.widget-view+json": {
       "model_id": "c013129d8e3b41f887c559b877882098",
       "version_major": 2,
       "version_minor": 0
      },
      "text/plain": [
       "WebVisualizer(window_uid='window_18')"
      ]
     },
     "metadata": {},
     "output_type": "display_data"
    }
   ],
   "source": [
    "clustering_td = Raster_DBSCAN(window_size=(5,13),eps = 1.2, min_samples= 10, Td_map_szie=threshold_map.shape)   \n",
    "Td_map = collector.aggregated_map[12500]\n",
    "Foreground_map = (Td_map < threshold_map)&(Td_map != 0)\n",
    "Labeling_map = clustering_td.fit_predict(Td_map= Td_map,Foreground_map=Foreground_map)\n",
    "Background_map = (Td_map >= threshold_map)&(Td_map != 0)\n",
    "pcd = get_pcd_colored_filtered(Td_map,Labeling_map,Foreground_map)\n",
    "draw(pcd,height=1000,width=1000)"
   ]
  },
  {
   "cell_type": "code",
   "execution_count": 42,
   "id": "3498a9b6",
   "metadata": {},
   "outputs": [
    {
     "data": {
      "application/vnd.jupyter.widget-view+json": {
       "model_id": "d1569b0fd4aa47ec887c5b5deeb942a6",
       "version_major": 2,
       "version_minor": 0
      },
      "text/plain": [
       "WebVisualizer(window_uid='window_6')"
      ]
     },
     "metadata": {},
     "output_type": "display_data"
    }
   ],
   "source": [
    "Td_map = collector.aggregated_map[399]\n",
    "Colored_map = np.full(Td_map.shape,0)\n",
    "Colored_map[:,1020:1060] = 1\n",
    "pcd = get_pcd_colored_dir(Td_map,Colored_map)\n",
    "draw(pcd)\n"
   ]
  },
  {
   "cell_type": "code",
   "execution_count": 120,
   "id": "688601a2",
   "metadata": {
    "scrolled": true
   },
   "outputs": [
    {
     "data": {
      "image/png": "[encoded data removed]",
      "text/plain": [
       "<Figure size 720x360 with 1 Axes>"
      ]
     },
     "metadata": {
      "needs_background": "light"
     },
     "output_type": "display_data"
    }
   ],
   "source": [
    "\n",
    "laser_id = theta_raw[28] == theta\n",
    "azimuth_channel = int(np.around((20747/100)/0.2)) + 30\n",
    "temp = collector.aggregated_map[:,laser_id,azimuth_channel]\n",
    "thred = get_thred_modified(temp.flatten(),1,0.125,10,0.001,0.5)\n",
    "plt.figure(figsize=(10,5))\n",
    "plt.scatter(np.arange(len(collector.aggregated_map)),collector.aggregated_map[:,laser_id,azimuth_channel], s = 3)\n",
    "plt.hlines(thred,0,len(collector.aggregated_map),color = 'r')\n",
    "# plt.ylim(49,52)\n",
    "plt.xticks(np.arange(0,24000,1000),np.arange(0,24),fontsize = 15)\n",
    "plt.yticks(fontsize = 15)\n",
    "plt.ylabel('Laser Distance(m)',fontsize = 20)\n",
    "plt.xlabel('Time(H)',fontsize = 20)\n",
    "plt.show()"
   ]
  },
  {
   "cell_type": "code",
   "execution_count": 121,
   "id": "1f23d39d",
   "metadata": {},
   "outputs": [
    {
     "data": {
      "image/png": "[encoded data removed]",
      "text/plain": [
       "<Figure size 720x360 with 1 Axes>"
      ]
     },
     "metadata": {
      "needs_background": "light"
     },
     "output_type": "display_data"
    }
   ],
   "source": [
    "\n",
    "laser_id = theta_raw[14] == theta\n",
    "azimuth_channel = int(np.around((13232/100)/0.2)) + 30\n",
    "temp = collector.aggregated_map[:,laser_id,azimuth_channel]\n",
    "thred = get_thred_modified(temp.flatten(),1,0.125,10,0.001,0.5)\n",
    "plt.figure(figsize=(10,5))\n",
    "plt.scatter(np.arange(len(collector.aggregated_map)),collector.aggregated_map[:,laser_id,azimuth_channel], s = 3)\n",
    "plt.hlines(thred,0,len(collector.aggregated_map),color = 'r')\n",
    "plt.ylim(30,40)\n",
    "plt.xticks(np.arange(0,24000,1000),np.arange(0,24),fontsize = 15)\n",
    "plt.yticks(fontsize = 15)\n",
    "plt.ylabel('Laser Distance(m)',fontsize = 20)\n",
    "plt.xlabel('Time(H)',fontsize = 20)\n",
    "plt.show()"
   ]
  },
  {
   "cell_type": "code",
   "execution_count": 122,
   "id": "90126742",
   "metadata": {},
   "outputs": [
    {
     "data": {
      "image/png": "[encoded data removed]",
      "text/plain": [
       "<Figure size 720x360 with 1 Axes>"
      ]
     },
     "metadata": {
      "needs_background": "light"
     },
     "output_type": "display_data"
    }
   ],
   "source": [
    "\n",
    "laser_id = theta_raw[31] == theta\n",
    "azimuth_channel = int(np.around((22021/100)/0.2)) + 30\n",
    "temp = collector.aggregated_map[:,laser_id,azimuth_channel]\n",
    "thred = get_thred_modified(temp.flatten(),1,0.125,10,0.001,0.5)\n",
    "plt.figure(figsize=(10,5))\n",
    "plt.scatter(np.arange(len(collector.aggregated_map)),collector.aggregated_map[:,laser_id,azimuth_channel], s = 3)\n",
    "plt.hlines(thred,0,len(collector.aggregated_map),color = 'r')\n",
    "plt.ylim(55,70)\n",
    "plt.xticks(np.arange(0,24000,1000),np.arange(0,24),fontsize = 15)\n",
    "plt.yticks(fontsize = 15)\n",
    "plt.ylabel('Laser Distance(m)',fontsize = 20)\n",
    "plt.xlabel('Time(H)',fontsize = 20)\n",
    "plt.show()"
   ]
  },
  {
   "cell_type": "code",
   "execution_count": 123,
   "id": "17f8a2f7",
   "metadata": {},
   "outputs": [
    {
     "data": {
      "image/png": "[encoded data removed]",
      "text/plain": [
       "<Figure size 720x360 with 1 Axes>"
      ]
     },
     "metadata": {
      "needs_background": "light"
     },
     "output_type": "display_data"
    }
   ],
   "source": [
    "\n",
    "laser_id = theta_raw[2] == theta\n",
    "azimuth_channel = int(np.around((25821/100)/0.2)) + 30\n",
    "temp = collector.aggregated_map[:,laser_id,azimuth_channel]\n",
    "thred = get_thred_modified(temp.flatten(),1,0.125,10,0.001,0.5)\n",
    "plt.figure(figsize=(10,5))\n",
    "plt.scatter(np.arange(len(collector.aggregated_map)),collector.aggregated_map[:,laser_id,azimuth_channel], s = 3)\n",
    "plt.hlines(thred,0,len(collector.aggregated_map),color = 'r')\n",
    "# plt.ylim(30,40)\n",
    "plt.xticks(np.arange(0,24000,1000),np.arange(0,24),fontsize = 15)\n",
    "plt.yticks(fontsize = 15)\n",
    "plt.ylabel('Laser Distance(m)',fontsize = 20)\n",
    "plt.xlabel('Time(H)',fontsize = 20)\n",
    "plt.show()"
   ]
  },
  {
   "cell_type": "code",
   "execution_count": 124,
   "id": "1d2f42c8",
   "metadata": {},
   "outputs": [
    {
     "data": {
      "image/png": "[encoded data removed]",
      "text/plain": [
       "<Figure size 720x360 with 1 Axes>"
      ]
     },
     "metadata": {
      "needs_background": "light"
     },
     "output_type": "display_data"
    }
   ],
   "source": [
    "\n",
    "laser_id = theta_raw[14] == theta\n",
    "azimuth_channel = int(np.around((3284/100)/0.2)) + 30\n",
    "temp = collector.aggregated_map[:,laser_id,azimuth_channel]\n",
    "thred = get_thred_modified(temp.flatten(),1,0.05,10,0.001,0.5)\n",
    "plt.figure(figsize=(10,5))\n",
    "plt.scatter(np.arange(len(collector.aggregated_map)),collector.aggregated_map[:,laser_id,azimuth_channel], s = 3)\n",
    "plt.hlines(thred,0,len(collector.aggregated_map),color = 'r')\n",
    "# plt.ylim(28,40)\n",
    "plt.xticks(np.arange(0,24000,1000),np.arange(0,24),fontsize = 15)\n",
    "plt.yticks(fontsize = 15)\n",
    "plt.ylabel('Laser Distance(m)',fontsize = 20)\n",
    "plt.xlabel('Time(H)',fontsize = 20)\n",
    "plt.show()"
   ]
  },
  {
   "cell_type": "code",
   "execution_count": 129,
   "id": "5259de65",
   "metadata": {},
   "outputs": [
    {
     "data": {
      "image/png": "[encoded data removed]",
      "text/plain": [
       "<Figure size 720x360 with 1 Axes>"
      ]
     },
     "metadata": {
      "needs_background": "light"
     },
     "output_type": "display_data"
    }
   ],
   "source": [
    "\n",
    "laser_id = theta_raw[20] == theta\n",
    "azimuth_channel = int(np.around((12899/100)/0.2)) + 30\n",
    "temp = collector.aggregated_map[:,laser_id,azimuth_channel]\n",
    "thred = get_thred_modified(temp.flatten(),1,0.02,10,0.001,0.5)\n",
    "plt.figure(figsize=(10,5))\n",
    "plt.scatter(np.arange(len(collector.aggregated_map)),collector.aggregated_map[:,laser_id,azimuth_channel], s = 3)\n",
    "plt.hlines(thred,0,len(collector.aggregated_map),color = 'r')\n",
    "# plt.ylim(25,32)\n",
    "plt.xticks(np.arange(0,24000,1000),np.arange(0,24),fontsize = 15)\n",
    "plt.yticks(fontsize = 15)\n",
    "plt.ylabel('Laser Distance(m)',fontsize = 20)\n",
    "plt.xlabel('Time(H)',fontsize = 20)\n",
    "plt.show()"
   ]
  },
  {
   "cell_type": "code",
   "execution_count": 110,
   "id": "4289cb73",
   "metadata": {},
   "outputs": [
    {
     "data": {
      "text/plain": [
       "0.981125"
      ]
     },
     "execution_count": 110,
     "metadata": {},
     "output_type": "execute_result"
    }
   ],
   "source": [
    "len(temp[(temp > 20)])/len(temp)"
   ]
  },
  {
   "cell_type": "code",
   "execution_count": 112,
   "id": "96be6839",
   "metadata": {
    "scrolled": true
   },
   "outputs": [
    {
     "data": {
      "text/plain": [
       "0.059041666666666666"
      ]
     },
     "execution_count": 112,
     "metadata": {},
     "output_type": "execute_result"
    }
   ],
   "source": [
    "len(temp[(temp > 26)&(temp < 32)])/len(temp)"
   ]
  },
  {
   "cell_type": "code",
   "execution_count": 34,
   "id": "565c39d2",
   "metadata": {
    "scrolled": true
   },
   "outputs": [
    {
     "data": {
      "text/plain": [
       "0.1678953977963991"
      ]
     },
     "execution_count": 34,
     "metadata": {},
     "output_type": "execute_result"
    }
   ],
   "source": [
    "temp = collector.aggregated_map[:2000,laser_id,azimuth_channel]\n",
    "temp[temp > 50].std()"
   ]
  },
  {
   "cell_type": "code",
   "execution_count": 90,
   "id": "abcf807d",
   "metadata": {},
   "outputs": [
    {
     "data": {
      "image/png": "[encoded data removed]",
      "text/plain": [
       "<Figure size 720x360 with 1 Axes>"
      ]
     },
     "metadata": {
      "needs_background": "light"
     },
     "output_type": "display_data"
    }
   ],
   "source": [
    "laser_id = theta_raw[24] == theta\n",
    "azimuth_channel = 726\n",
    "plt.figure(figsize=(10,5))\n",
    "plt.scatter(np.arange(2000),collector.aggregated_map[:2000,laser_id,azimuth_channel], s = 3)\n",
    "plt.hlines(threshold_map[laser_id,azimuth_channel],0,2000,color = 'r')\n",
    "plt.show()"
   ]
  },
  {
   "cell_type": "code",
   "execution_count": null,
   "id": "82a69d1e",
   "metadata": {},
   "outputs": [],
   "source": [
    "laser_id = theta_raw[0] == theta\n",
    "azimuth_channel = 726\n",
    "plt.figure(figsize=(10,5))\n",
    "plt.scatter(np.arange(2000),collector.aggregated_map[:2000,laser_id,azimuth_channel], s = 3)\n",
    "plt.hlines(threshold_map[laser_id,azimuth_channel],0,2000,color = 'r')\n",
    "plt.show()"
   ]
  },
  {
   "cell_type": "code",
   "execution_count": null,
   "id": "8c761955",
   "metadata": {},
   "outputs": [],
   "source": []
  },
  {
   "cell_type": "code",
   "execution_count": 38,
   "id": "8cd7ffaf",
   "metadata": {},
   "outputs": [],
   "source": [
    "data_path = r'D:\\LiDAR_Data\\MidTown\\PCAP_BCK\\Roundabout\\24'"
   ]
  },
  {
   "cell_type": "code",
   "execution_count": null,
   "id": "57a2905b",
   "metadata": {},
   "outputs": [],
   "source": [
    "laser_id = theta_raw[24] == theta\n",
    "azimuth_channel = 726"
   ]
  },
  {
   "cell_type": "code",
   "execution_count": null,
   "id": "3f88e87e",
   "metadata": {},
   "outputs": [],
   "source": [
    "collector = RansacCollector(pcap_path=r'D:\\LiDAR_Data\\MidTown\\Roundabout\\2022-1-21-14-30-0.pcap',output_file_path='D:\\LiDAR_Data\\MidTown\\Roundabout',update_frame_num=2000)\n",
    "collector.gen_tdmap()"
   ]
  },
  {
   "cell_type": "code",
   "execution_count": 42,
   "id": "e6ece889",
   "metadata": {
    "scrolled": true
   },
   "outputs": [
    {
     "name": "stdout",
     "output_type": "stream",
     "text": [
      "Loading pcap...\n"
     ]
    },
    {
     "name": "stderr",
     "output_type": "stream",
     "text": [
      "100%|██████████████████████████████████████████████████████████████████████████████| 2000/2000 [01:15<00:00, 26.38it/s]\n"
     ]
    },
    {
     "name": "stdout",
     "output_type": "stream",
     "text": [
      "Loading pcap...\n"
     ]
    },
    {
     "name": "stderr",
     "output_type": "stream",
     "text": [
      "100%|██████████████████████████████████████████████████████████████████████████████| 2000/2000 [01:18<00:00, 25.62it/s]\n"
     ]
    },
    {
     "name": "stdout",
     "output_type": "stream",
     "text": [
      "Loading pcap...\n"
     ]
    },
    {
     "name": "stderr",
     "output_type": "stream",
     "text": [
      "100%|██████████████████████████████████████████████████████████████████████████████| 2000/2000 [01:17<00:00, 25.92it/s]\n"
     ]
    },
    {
     "name": "stdout",
     "output_type": "stream",
     "text": [
      "Loading pcap...\n"
     ]
    },
    {
     "name": "stderr",
     "output_type": "stream",
     "text": [
      "100%|██████████████████████████████████████████████████████████████████████████████| 2000/2000 [01:19<00:00, 25.24it/s]\n"
     ]
    },
    {
     "name": "stdout",
     "output_type": "stream",
     "text": [
      "Loading pcap...\n"
     ]
    },
    {
     "name": "stderr",
     "output_type": "stream",
     "text": [
      "100%|██████████████████████████████████████████████████████████████████████████████| 2000/2000 [01:17<00:00, 25.84it/s]\n"
     ]
    },
    {
     "name": "stdout",
     "output_type": "stream",
     "text": [
      "Loading pcap...\n"
     ]
    },
    {
     "name": "stderr",
     "output_type": "stream",
     "text": [
      "100%|██████████████████████████████████████████████████████████████████████████████| 2000/2000 [01:18<00:00, 25.37it/s]\n"
     ]
    },
    {
     "name": "stdout",
     "output_type": "stream",
     "text": [
      "Loading pcap...\n"
     ]
    },
    {
     "name": "stderr",
     "output_type": "stream",
     "text": [
      "100%|██████████████████████████████████████████████████████████████████████████████| 2000/2000 [01:19<00:00, 25.03it/s]\n"
     ]
    },
    {
     "name": "stdout",
     "output_type": "stream",
     "text": [
      "Loading pcap...\n"
     ]
    },
    {
     "name": "stderr",
     "output_type": "stream",
     "text": [
      "100%|██████████████████████████████████████████████████████████████████████████████| 2000/2000 [01:18<00:00, 25.58it/s]\n"
     ]
    },
    {
     "name": "stdout",
     "output_type": "stream",
     "text": [
      "Loading pcap...\n"
     ]
    },
    {
     "name": "stderr",
     "output_type": "stream",
     "text": [
      "100%|██████████████████████████████████████████████████████████████████████████████| 2000/2000 [01:17<00:00, 25.92it/s]\n"
     ]
    },
    {
     "name": "stdout",
     "output_type": "stream",
     "text": [
      "Loading pcap...\n"
     ]
    },
    {
     "name": "stderr",
     "output_type": "stream",
     "text": [
      "100%|██████████████████████████████████████████████████████████████████████████████| 2000/2000 [01:18<00:00, 25.61it/s]\n"
     ]
    },
    {
     "name": "stdout",
     "output_type": "stream",
     "text": [
      "Loading pcap...\n"
     ]
    },
    {
     "name": "stderr",
     "output_type": "stream",
     "text": [
      "100%|██████████████████████████████████████████████████████████████████████████████| 2000/2000 [01:17<00:00, 25.66it/s]\n"
     ]
    },
    {
     "name": "stdout",
     "output_type": "stream",
     "text": [
      "Loading pcap...\n"
     ]
    },
    {
     "name": "stderr",
     "output_type": "stream",
     "text": [
      "100%|██████████████████████████████████████████████████████████████████████████████| 2000/2000 [01:16<00:00, 26.05it/s]\n"
     ]
    },
    {
     "name": "stdout",
     "output_type": "stream",
     "text": [
      "Loading pcap...\n"
     ]
    },
    {
     "name": "stderr",
     "output_type": "stream",
     "text": [
      "100%|██████████████████████████████████████████████████████████████████████████████| 2000/2000 [01:28<00:00, 22.51it/s]\n"
     ]
    },
    {
     "name": "stdout",
     "output_type": "stream",
     "text": [
      "Loading pcap...\n"
     ]
    },
    {
     "name": "stderr",
     "output_type": "stream",
     "text": [
      "100%|██████████████████████████████████████████████████████████████████████████████| 2000/2000 [01:19<00:00, 25.03it/s]\n"
     ]
    },
    {
     "name": "stdout",
     "output_type": "stream",
     "text": [
      "Loading pcap...\n"
     ]
    },
    {
     "name": "stderr",
     "output_type": "stream",
     "text": [
      "100%|██████████████████████████████████████████████████████████████████████████████| 2000/2000 [01:20<00:00, 24.91it/s]\n"
     ]
    },
    {
     "name": "stdout",
     "output_type": "stream",
     "text": [
      "Loading pcap...\n"
     ]
    },
    {
     "name": "stderr",
     "output_type": "stream",
     "text": [
      "100%|██████████████████████████████████████████████████████████████████████████████| 2000/2000 [01:20<00:00, 24.91it/s]\n"
     ]
    },
    {
     "name": "stdout",
     "output_type": "stream",
     "text": [
      "Loading pcap...\n"
     ]
    },
    {
     "name": "stderr",
     "output_type": "stream",
     "text": [
      "100%|██████████████████████████████████████████████████████████████████████████████| 2000/2000 [01:19<00:00, 25.29it/s]\n"
     ]
    },
    {
     "name": "stdout",
     "output_type": "stream",
     "text": [
      "Loading pcap...\n"
     ]
    },
    {
     "name": "stderr",
     "output_type": "stream",
     "text": [
      "100%|██████████████████████████████████████████████████████████████████████████████| 2000/2000 [01:20<00:00, 24.92it/s]\n"
     ]
    },
    {
     "name": "stdout",
     "output_type": "stream",
     "text": [
      "Loading pcap...\n"
     ]
    },
    {
     "name": "stderr",
     "output_type": "stream",
     "text": [
      "100%|██████████████████████████████████████████████████████████████████████████████| 2000/2000 [01:24<00:00, 23.77it/s]\n"
     ]
    },
    {
     "name": "stdout",
     "output_type": "stream",
     "text": [
      "Loading pcap...\n"
     ]
    },
    {
     "name": "stderr",
     "output_type": "stream",
     "text": [
      "100%|██████████████████████████████████████████████████████████████████████████████| 2000/2000 [01:24<00:00, 23.56it/s]\n"
     ]
    },
    {
     "name": "stdout",
     "output_type": "stream",
     "text": [
      "Loading pcap...\n"
     ]
    },
    {
     "name": "stderr",
     "output_type": "stream",
     "text": [
      "100%|██████████████████████████████████████████████████████████████████████████████| 2000/2000 [01:22<00:00, 24.25it/s]\n"
     ]
    },
    {
     "name": "stdout",
     "output_type": "stream",
     "text": [
      "Loading pcap...\n"
     ]
    },
    {
     "name": "stderr",
     "output_type": "stream",
     "text": [
      "100%|██████████████████████████████████████████████████████████████████████████████| 2000/2000 [01:23<00:00, 24.02it/s]\n"
     ]
    },
    {
     "name": "stdout",
     "output_type": "stream",
     "text": [
      "Loading pcap...\n"
     ]
    },
    {
     "name": "stderr",
     "output_type": "stream",
     "text": [
      "100%|██████████████████████████████████████████████████████████████████████████████| 2000/2000 [01:18<00:00, 25.51it/s]\n"
     ]
    },
    {
     "name": "stdout",
     "output_type": "stream",
     "text": [
      "Loading pcap...\n"
     ]
    },
    {
     "name": "stderr",
     "output_type": "stream",
     "text": [
      "100%|██████████████████████████████████████████████████████████████████████████████| 2000/2000 [01:17<00:00, 25.74it/s]\n"
     ]
    }
   ],
   "source": [
    "\n",
    "data_fs = os.listdir(data_path)\n",
    "pcaps_list = [p for p in data_fs if 'pcap' in p.split('.')]\n",
    "aggregated_maps_multiple = []\n",
    "for i in range(len(pcaps_list)):\n",
    "    collector = RansacCollector(pcap_path=os.path.join(data_path,pcaps_list[i]),output_file_path='D:\\LiDAR_Data\\MidTown\\Roundabout',update_frame_num=2000)\n",
    "    collector.gen_tdmap()\n",
    "    aggregated_maps_multiple.append(collector.aggregated_map[:2000,laser_id,azimuth_channel])\n",
    "    "
   ]
  },
  {
   "cell_type": "code",
   "execution_count": 113,
   "id": "43a3e191",
   "metadata": {},
   "outputs": [],
   "source": [
    "aggragated_map = np.concatenate(aggregated_maps_multiple)"
   ]
  },
  {
   "cell_type": "code",
   "execution_count": 47,
   "id": "e30af60e",
   "metadata": {},
   "outputs": [
    {
     "data": {
      "text/plain": [
       "<matplotlib.collections.PathCollection at 0x270da6d4820>"
      ]
     },
     "execution_count": 47,
     "metadata": {},
     "output_type": "execute_result"
    },
    {
     "data": {
      "image/png": "[encoded data removed]",
      "text/plain": [
       "<Figure size 720x360 with 1 Axes>"
      ]
     },
     "metadata": {
      "needs_background": "light"
     },
     "output_type": "display_data"
    }
   ],
   "source": [
    "plt.figure(figsize=(10,5))\n",
    "plt.scatter(np.arange(len(temp)),temp,s = 3)"
   ]
  },
  {
   "cell_type": "code",
   "execution_count": 57,
   "id": "ac860dd4",
   "metadata": {},
   "outputs": [],
   "source": [
    "def get_thred_modified(ts,d ,thred_s ,N ,delta_thred ,step):# Ransac Para\n",
    "    ts_temp = ts.copy()\n",
    "    ts_temp[ts_temp == 0] = 1000\n",
    "    valid_dises = []\n",
    "    for i in range(N):\n",
    "        sample = np.random.choice(ts_temp,replace=False)\n",
    "        set_d = ts_temp[(ts_temp > sample - d)&(ts_temp < sample + d)]\n",
    "        condition_thred = len(set_d)/len(ts_temp) > thred_s\n",
    "        if condition_thred :\n",
    "            valid_dises.append(sample)\n",
    "            \n",
    "    if len(valid_dises) == 0:\n",
    "        return 1000\n",
    "\n",
    "    cur_thred = np.min(valid_dises)\n",
    "\n",
    "    while True:\n",
    "        next_thred = cur_thred - step\n",
    "        if (len(ts[ts > next_thred])/len(ts) - len(ts[ts > cur_thred])/len(ts)) < delta_thred:\n",
    "            break\n",
    "        cur_thred = next_thred\n",
    "\n",
    "    return next_thred"
   ]
  },
  {
   "cell_type": "code",
   "execution_count": 85,
   "id": "dc03e1ac",
   "metadata": {},
   "outputs": [
    {
     "data": {
      "text/plain": [
       "0.08314583333333334"
      ]
     },
     "execution_count": 85,
     "metadata": {},
     "output_type": "execute_result"
    }
   ],
   "source": [
    "len(temp[(temp > 30)&(temp < 40)])/len(temp)"
   ]
  },
  {
   "cell_type": "code",
   "execution_count": 81,
   "id": "60b62856",
   "metadata": {},
   "outputs": [],
   "source": [
    "thred = get_thred_modified(temp.flatten(),1,0.125,10,0.001,0.01)"
   ]
  },
  {
   "cell_type": "code",
   "execution_count": 82,
   "id": "51a4527c",
   "metadata": {},
   "outputs": [
    {
     "data": {
      "image/png": "[encoded data removed]",
      "text/plain": [
       "<Figure size 720x360 with 1 Axes>"
      ]
     },
     "metadata": {
      "needs_background": "light"
     },
     "output_type": "display_data"
    }
   ],
   "source": [
    "plt.figure(figsize=(10,5))\n",
    "plt.scatter(np.arange(len(temp)),temp,s = 3)\n",
    "plt.hlines(thred,0,len(temp),color = 'r')\n",
    "plt.ylim(50,56)\n",
    "plt.show()"
   ]
  },
  {
   "cell_type": "code",
   "execution_count": 202,
   "id": "6a47d577",
   "metadata": {},
   "outputs": [],
   "source": [
    "thred = get_thred_modified(temp.flatten(),2,0.125,20,1e-3,0.05)"
   ]
  },
  {
   "cell_type": "code",
   "execution_count": 255,
   "id": "2a9e347b",
   "metadata": {},
   "outputs": [
    {
     "data": {
      "image/png": "[encoded data removed]",
      "text/plain": [
       "<Figure size 720x360 with 1 Axes>"
      ]
     },
     "metadata": {
      "needs_background": "light"
     },
     "output_type": "display_data"
    }
   ],
   "source": [
    "laser_id = theta_raw[31] == theta\n",
    "azimuth_channel = 1102\n",
    "temp = aggragated_map[:,laser_id,azimuth_channel]\n",
    "plt.figure(figsize=(10,5))\n",
    "plt.scatter(np.arange(len(temp)),temp, s = 3)\n",
    "plt.hlines(thred,0,len(temp),color = 'r')\n",
    "plt.ylim(60,70)\n",
    "plt.show()"
   ]
  },
  {
   "cell_type": "code",
   "execution_count": 254,
   "id": "9a8d5909",
   "metadata": {},
   "outputs": [
    {
     "data": {
      "image/png": "[encoded data removed]",
      "text/plain": [
       "<Figure size 720x360 with 1 Axes>"
      ]
     },
     "metadata": {
      "needs_background": "light"
     },
     "output_type": "display_data"
    }
   ],
   "source": [
    "laser_id = theta_raw[31] == theta\n",
    "azimuth_channel = 1102\n",
    "temp = aggragated_map[:,laser_id,azimuth_channel]\n",
    "plt.figure(figsize=(10,5))\n",
    "plt.scatter(np.arange(len(temp)),temp, s = 3)\n",
    "plt.hlines(threshold_map[laser_id,azimuth_channel],0,len(temp),color = 'r')\n",
    "plt.show()"
   ]
  },
  {
   "cell_type": "code",
   "execution_count": 212,
   "id": "05633c75",
   "metadata": {},
   "outputs": [
    {
     "data": {
      "image/png": "[encoded data removed]",
      "text/plain": [
       "<Figure size 720x360 with 1 Axes>"
      ]
     },
     "metadata": {
      "needs_background": "light"
     },
     "output_type": "display_data"
    }
   ],
   "source": [
    "laser_id = theta_raw[31] == theta\n",
    "azimuth_channel = 1102\n",
    "temp = aggragated_map[:,laser_id,azimuth_channel]\n",
    "plt.figure(figsize=(10,5))\n",
    "plt.scatter(np.arange(len(temp)),temp, s = 3)\n",
    "thred = get_thred_modified(temp.flatten(),2,0.125,20,1e-3,0.05)\n",
    "plt.hlines(thred,0,len(temp),color = 'r')\n",
    "plt.ylim(60,70)\n",
    "plt.show()"
   ]
  },
  {
   "cell_type": "code",
   "execution_count": 262,
   "id": "f84b9f42",
   "metadata": {},
   "outputs": [
    {
     "data": {
      "image/png": "[encoded data removed]",
      "text/plain": [
       "<Figure size 720x360 with 1 Axes>"
      ]
     },
     "metadata": {
      "needs_background": "light"
     },
     "output_type": "display_data"
    }
   ],
   "source": [
    "laser_id = theta_raw[31] == theta\n",
    "azimuth_channel = 1075\n",
    "temp = aggragated_map[:,laser_id,azimuth_channel]\n",
    "plt.figure(figsize=(10,5))\n",
    "plt.scatter(np.arange(len(temp)),temp, s = 3)\n",
    "thred = get_thred_modified(temp.flatten(),2,0.05,20,1e-3,0.5)\n",
    "plt.hlines(thred,0,len(temp),color = 'r')\n",
    "plt.ylim(60,70)\n",
    "plt.show()"
   ]
  },
  {
   "cell_type": "code",
   "execution_count": 261,
   "id": "7dac23bb",
   "metadata": {},
   "outputs": [
    {
     "data": {
      "image/png": "[encoded data removed]",
      "text/plain": [
       "<Figure size 720x360 with 1 Axes>"
      ]
     },
     "metadata": {
      "needs_background": "light"
     },
     "output_type": "display_data"
    }
   ],
   "source": [
    "laser_id = theta_raw[31] == theta\n",
    "azimuth_channel = 1102\n",
    "temp = aggragated_map[:,laser_id,azimuth_channel]\n",
    "plt.figure(figsize=(10,5))\n",
    "plt.scatter(np.arange(len(temp)),temp, s = 3)\n",
    "thred = get_thred_modified(temp.flatten(),2,0.05,20,1e-3,0.5)\n",
    "plt.hlines(thred,0,len(temp),color = 'r')\n",
    "plt.ylim(60,70)\n",
    "plt.show()"
   ]
  },
  {
   "cell_type": "code",
   "execution_count": 260,
   "id": "615765b8",
   "metadata": {},
   "outputs": [
    {
     "data": {
      "image/png": "[encoded data removed]",
      "text/plain": [
       "<Figure size 720x360 with 1 Axes>"
      ]
     },
     "metadata": {
      "needs_background": "light"
     },
     "output_type": "display_data"
    }
   ],
   "source": [
    "laser_id = theta_raw[19] == theta\n",
    "azimuth_channel = int((4893/100)/0.2)\n",
    "temp = aggragated_map[:,laser_id,azimuth_channel]\n",
    "plt.figure(figsize=(10,5))\n",
    "plt.scatter(np.arange(len(temp)),temp, s = 3)\n",
    "thred = get_thred_modified(temp.flatten(),2,0.05,20,1e-3,0.5)\n",
    "plt.hlines(thred,0,len(temp),color = 'r')\n",
    "# plt.ylim(60,70)\n",
    "plt.show()"
   ]
  },
  {
   "cell_type": "code",
   "execution_count": 263,
   "id": "8d605ef8",
   "metadata": {},
   "outputs": [
    {
     "data": {
      "image/png": "[encoded data removed]",
      "text/plain": [
       "<Figure size 720x360 with 1 Axes>"
      ]
     },
     "metadata": {
      "needs_background": "light"
     },
     "output_type": "display_data"
    }
   ],
   "source": [
    "laser_id = theta_raw[12] == theta\n",
    "azimuth_channel = int((6126/100)/0.2)\n",
    "temp = aggragated_map[:,laser_id,azimuth_channel]\n",
    "plt.figure(figsize=(10,5))\n",
    "plt.scatter(np.arange(len(temp)),temp, s = 3)\n",
    "thred = get_thred_modified(temp.flatten(),2,0.05,20,1e-3,0.5)\n",
    "plt.hlines(thred,0,len(temp),color = 'r')\n",
    "# plt.ylim(60,70)\n",
    "plt.show()"
   ]
  },
  {
   "cell_type": "code",
   "execution_count": null,
   "id": "e2ac0223",
   "metadata": {},
   "outputs": [],
   "source": []
  }
 ],
 "metadata": {
  "kernelspec": {
   "display_name": "Python 3 (ipykernel)",
   "language": "python",
   "name": "python3"
  },
  "language_info": {
   "codemirror_mode": {
    "name": "ipython",
    "version": 3
   },
   "file_extension": ".py",
   "mimetype": "text/x-python",
   "name": "python",
   "nbconvert_exporter": "python",
   "pygments_lexer": "ipython3",
   "version": "3.8.12"
  }
 },
 "nbformat": 4,
 "nbformat_minor": 5
}
