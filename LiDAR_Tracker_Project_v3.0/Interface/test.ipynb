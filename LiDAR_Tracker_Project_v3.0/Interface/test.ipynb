{
 "cells": [
  {
   "cell_type": "code",
   "execution_count": 12,
   "id": "9a2581d1",
   "metadata": {},
   "outputs": [],
   "source": [
    "import pandas as pd\n",
    "import numpy as np\n",
    "import os\n",
    "import dpkt"
   ]
  },
  {
   "cell_type": "code",
   "execution_count": 14,
   "id": "2e9faf78",
   "metadata": {
    "scrolled": false
   },
   "outputs": [],
   "source": [
    "test = pd.read_csv(r'D:\\Test\\trips\\timeref.csv')\n",
    "test = test.iloc[:5]"
   ]
  },
  {
   "cell_type": "code",
   "execution_count": 15,
   "id": "c99ff44b",
   "metadata": {},
   "outputs": [],
   "source": [
    "filelist = os.listdir(r'D:\\Test')\n",
    "filelist_ = []\n",
    "for f in filelist:\n",
    "    if len(f.split('.')) > 1:\n",
    "        if f.split('.')[1] == 'pcap':\n",
    "            filelist_.append(f)"
   ]
  },
  {
   "cell_type": "code",
   "execution_count": 16,
   "id": "2960327b",
   "metadata": {
    "scrolled": true
   },
   "outputs": [],
   "source": [
    "date = [f.split('.')[0] for f in filelist_]\n",
    "date_ = []\n",
    "for d in date:\n",
    "    if d[-1] == 'R':\n",
    "        date_.append(d[:-2])\n",
    "    else:\n",
    "        date_.append(d)\n",
    "date_ = pd.to_datetime(pd.Series(date_),format=('%Y-%m-%d-%H-%M-%S'))"
   ]
  },
  {
   "cell_type": "code",
   "execution_count": 17,
   "id": "a2096e75",
   "metadata": {
    "scrolled": true
   },
   "outputs": [],
   "source": [
    "Ts_records = pd.to_datetime(test.Timestamp,format=('%Y-%m-%d-%H-%M-%S'))"
   ]
  },
  {
   "cell_type": "code",
   "execution_count": 22,
   "id": "6ff1afde",
   "metadata": {},
   "outputs": [],
   "source": [
    "Pcap_inds = []\n",
    "for i in range(len(Ts_records)):\n",
    "    \n",
    "    TimeDiff = (Ts_records.iloc[i] - date_)\n",
    "    within30 = (TimeDiff <= pd.Timedelta(30,unit='Minute')) & ((TimeDiff >= pd.Timedelta(0,unit='Minute')))\n",
    "    if within30.sum() == 0:\n",
    "        Pcap_ind = -1\n",
    "    else:\n",
    "        Pcap_ind = TimeDiff.loc[within30].argmin()\n",
    "    Pcap_inds.append(Pcap_ind)\n",
    "Pcap_inds = np.array(Pcap_inds)\n",
    "uni_ind = np.unique(Pcap_inds)\n",
    "target_frames = []\n",
    "for i in uni_ind:\n",
    "    if i == -1:\n",
    "        continue\n",
    "    start_frames = np.array(test.loc[Pcap_inds==i].FrameIndex - 30).reshape(-1,1)\n",
    "    end_frames = np.array(test.loc[Pcap_inds==i].FrameIndex + 30).reshape(-1,1)\n",
    "    start_frames[start_frames < 0] = 0\n",
    "    end_frames[end_frames > 17999] = 17999\n",
    "    target_frames.append(np.concatenate([start_frames,end_frames],axis = 1))"
   ]
  },
  {
   "cell_type": "code",
   "execution_count": 28,
   "id": "d7f3c51b",
   "metadata": {},
   "outputs": [
    {
     "data": {
      "text/plain": [
       "0   2022-09-23 17:30:00\n",
       "1   2022-09-23 17:30:00\n",
       "2   2022-09-24 01:30:01\n",
       "3   2022-09-24 01:30:02\n",
       "4   2022-09-24 02:30:03\n",
       "Name: Timestamp, dtype: datetime64[ns]"
      ]
     },
     "execution_count": 28,
     "metadata": {},
     "output_type": "execute_result"
    }
   ],
   "source": [
    "Ts_records"
   ]
  },
  {
   "cell_type": "code",
   "execution_count": 31,
   "id": "eff26dfb",
   "metadata": {},
   "outputs": [
    {
     "data": {
      "text/plain": [
       "0   2022-09-23 17:30:00\n",
       "1   2022-09-23 18:59:05\n",
       "2   2022-09-24 01:30:00\n",
       "dtype: datetime64[ns]"
      ]
     },
     "execution_count": 31,
     "metadata": {},
     "output_type": "execute_result"
    }
   ],
   "source": [
    "date_"
   ]
  },
  {
   "cell_type": "code",
   "execution_count": 43,
   "id": "29bfe77f",
   "metadata": {},
   "outputs": [],
   "source": [
    "TimeDiff = (Ts_records.iloc[2] - date_)\n",
    "within30 = (TimeDiff <= pd.Timedelta(30,unit='Minute')) & ((TimeDiff >= pd.Timedelta(0,unit='Minute')))"
   ]
  },
  {
   "cell_type": "code",
   "execution_count": 53,
   "id": "6c27c04b",
   "metadata": {
    "scrolled": true
   },
   "outputs": [
    {
     "data": {
      "text/plain": [
       "2"
      ]
     },
     "execution_count": 53,
     "metadata": {},
     "output_type": "execute_result"
    }
   ],
   "source": [
    "TimeDiff.loc[within30].argsort().index[0]"
   ]
  },
  {
   "cell_type": "code",
   "execution_count": 39,
   "id": "e80e58c9",
   "metadata": {},
   "outputs": [
    {
     "data": {
      "text/plain": [
       "0    False\n",
       "1    False\n",
       "2    False\n",
       "dtype: bool"
      ]
     },
     "execution_count": 39,
     "metadata": {},
     "output_type": "execute_result"
    }
   ],
   "source": [
    "within30"
   ]
  },
  {
   "cell_type": "code",
   "execution_count": 23,
   "id": "ff5880b1",
   "metadata": {},
   "outputs": [
    {
     "data": {
      "text/plain": [
       "array([ 0,  0,  0,  0, -1])"
      ]
     },
     "execution_count": 23,
     "metadata": {},
     "output_type": "execute_result"
    }
   ],
   "source": [
    "Pcap_inds"
   ]
  },
  {
   "cell_type": "code",
   "execution_count": null,
   "id": "8a3f8a62",
   "metadata": {},
   "outputs": [],
   "source": []
  }
 ],
 "metadata": {
  "kernelspec": {
   "display_name": "Python 3 (ipykernel)",
   "language": "python",
   "name": "python3"
  },
  "language_info": {
   "codemirror_mode": {
    "name": "ipython",
    "version": 3
   },
   "file_extension": ".py",
   "mimetype": "text/x-python",
   "name": "python",
   "nbconvert_exporter": "python",
   "pygments_lexer": "ipython3",
   "version": "3.8.12"
  }
 },
 "nbformat": 4,
 "nbformat_minor": 5
}
