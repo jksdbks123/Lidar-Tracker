{
 "cells": [
  {
   "cell_type": "code",
   "execution_count": 141,
   "id": "9a2581d1",
   "metadata": {},
   "outputs": [],
   "source": [
    "import pandas as pd\n",
    "import numpy as np\n",
    "import os"
   ]
  },
  {
   "cell_type": "code",
   "execution_count": null,
   "id": "3b1cdbb4",
   "metadata": {},
   "outputs": [],
   "source": []
  },
  {
   "cell_type": "code",
   "execution_count": 121,
   "id": "2e9faf78",
   "metadata": {
    "scrolled": false
   },
   "outputs": [],
   "source": [
    "test = pd.read_csv(r'D:\\Test\\trips\\2022-09-24-01-30-00.csv')\n",
    "test = test.iloc[:5]"
   ]
  },
  {
   "cell_type": "code",
   "execution_count": 122,
   "id": "c99ff44b",
   "metadata": {},
   "outputs": [],
   "source": [
    "filelist = os.listdir(r'D:\\Test')\n",
    "filelist_ = []\n",
    "for f in filelist:\n",
    "    if len(f.split('.')) > 1:\n",
    "        if f.split('.')[1] == 'pcap':\n",
    "            filelist_.append(f)"
   ]
  },
  {
   "cell_type": "code",
   "execution_count": 144,
   "id": "bc71b837",
   "metadata": {},
   "outputs": [
    {
     "data": {
      "text/plain": [
       "['2022-09-23-17-30-00.pcap', '2022-10-02-19-00-00.pcap']"
      ]
     },
     "execution_count": 144,
     "metadata": {},
     "output_type": "execute_result"
    }
   ],
   "source": [
    "filelist_"
   ]
  },
  {
   "cell_type": "code",
   "execution_count": 123,
   "id": "2960327b",
   "metadata": {
    "scrolled": true
   },
   "outputs": [],
   "source": [
    "date = [f.split('.')[0] for f in filelist_]\n",
    "date_ = []\n",
    "for d in date:\n",
    "    if d[-1] == 'R':\n",
    "        date_.append(d[:-2])\n",
    "    else:\n",
    "        date_.append(d)\n",
    "date_ = pd.to_datetime(pd.Series(date_),format=('%Y-%m-%d-%H-%M-%S'))"
   ]
  },
  {
   "cell_type": "code",
   "execution_count": 124,
   "id": "a2096e75",
   "metadata": {
    "scrolled": true
   },
   "outputs": [],
   "source": [
    "Ts_records = pd.to_datetime(test.Timestamp,format=('%Y-%m-%d %H:%M:%S'))"
   ]
  },
  {
   "cell_type": "code",
   "execution_count": null,
   "id": "4ddd55e6",
   "metadata": {},
   "outputs": [],
   "source": []
  },
  {
   "cell_type": "code",
   "execution_count": 166,
   "id": "6ff1afde",
   "metadata": {},
   "outputs": [],
   "source": [
    "Pcap_inds = []\n",
    "for i in range(len(Ts_records)):\n",
    "    \n",
    "    TimeDiff = (Ts_records.iloc[i] - date_)\n",
    "    within30 = ((Ts_records.iloc[i] - date_) < pd.Timedelta(30,unit='Minute')) & (((Ts_records.iloc[i] - date_) > pd.Timedelta(0,unit='Minute')))\n",
    "    if within30.sum() == 0:\n",
    "        Pcap_ind = -1\n",
    "    else:\n",
    "        Pcap_ind = TimeDiff.loc[within30].argmin()\n",
    "    Pcap_inds.append(Pcap_ind)\n",
    "Pcap_inds = np.array(Pcap_inds)\n",
    "uni_ind = np.unique(Pcap_inds)\n",
    "target_frames = []\n",
    "for i in uni_ind:\n",
    "    if i == -1:\n",
    "        continue\n",
    "    start_frames = np.array(test.loc[Pcap_inds==i].FrameIndex - 30).reshape(-1,1)\n",
    "    end_frames = np.array(test.loc[Pcap_inds==i].FrameIndex + 30).reshape(-1,1)\n",
    "    start_frames[start_frames < 0] = 0\n",
    "    end_frames[end_frames > 17999] = 17999\n",
    "    target_frames.append(np.concatenate([start_frames,end_frames],axis = 1))"
   ]
  },
  {
   "cell_type": "code",
   "execution_count": null,
   "id": "ff5880b1",
   "metadata": {},
   "outputs": [],
   "source": []
  }
 ],
 "metadata": {
  "kernelspec": {
   "display_name": "Python 3 (ipykernel)",
   "language": "python",
   "name": "python3"
  },
  "language_info": {
   "codemirror_mode": {
    "name": "ipython",
    "version": 3
   },
   "file_extension": ".py",
   "mimetype": "text/x-python",
   "name": "python",
   "nbconvert_exporter": "python",
   "pygments_lexer": "ipython3",
   "version": "3.8.12"
  }
 },
 "nbformat": 4,
 "nbformat_minor": 5
}
