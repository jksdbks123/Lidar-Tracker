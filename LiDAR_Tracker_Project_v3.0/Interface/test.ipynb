{
 "cells": [
  {
   "cell_type": "code",
   "execution_count": 6,
   "id": "a5839c68",
   "metadata": {},
   "outputs": [],
   "source": [
    "import pandas as pd\n",
    "import os"
   ]
  },
  {
   "cell_type": "code",
   "execution_count": 61,
   "id": "1ce2d1bb",
   "metadata": {
    "scrolled": false
   },
   "outputs": [],
   "source": [
    "test = pd.read_csv(r'D:\\Test\\trips\\2022-09-22-09-31-41-R.csv')"
   ]
  },
  {
   "cell_type": "code",
   "execution_count": 85,
   "id": "23ebb640",
   "metadata": {},
   "outputs": [],
   "source": [
    "filelist = os.listdir(r'D:\\Test')\n",
    "filelist_ = []\n",
    "for f in filelist:\n",
    "    if len(f.split('.')) > 1:\n",
    "        if f.split('.')[1] == 'pcap':\n",
    "            filelist_.append(f)"
   ]
  },
  {
   "cell_type": "code",
   "execution_count": 87,
   "id": "c6862aa0",
   "metadata": {
    "scrolled": true
   },
   "outputs": [],
   "source": [
    "date = [f.split('.')[0] for f in filelist_]\n",
    "date_ = []\n",
    "for d in date:\n",
    "    if d[-1] == 'R':\n",
    "        date_.append(d[:-2])\n",
    "    else:\n",
    "        date_.append(d)\n",
    "date_ = pd.to_datetime(pd.Series(date_),format=('%Y-%m-%d-%H-%M-%S'))"
   ]
  },
  {
   "cell_type": "code",
   "execution_count": 88,
   "id": "2b87c6e4",
   "metadata": {
    "scrolled": true
   },
   "outputs": [],
   "source": [
    "Ts_records = pd.to_datetime(test.Timestamp,format=('%Y-%m-%d %H:%M:%S'))"
   ]
  },
  {
   "cell_type": "code",
   "execution_count": 94,
   "id": "2152b60e",
   "metadata": {},
   "outputs": [
    {
     "data": {
      "text/plain": [
       "0   2022-09-22 09:31:41\n",
       "1   2022-09-22 12:30:00\n",
       "2   2022-09-22 16:00:00\n",
       "dtype: datetime64[ns]"
      ]
     },
     "execution_count": 94,
     "metadata": {},
     "output_type": "execute_result"
    }
   ],
   "source": [
    "date_"
   ]
  },
  {
   "cell_type": "code",
   "execution_count": 95,
   "id": "ab88ff48",
   "metadata": {},
   "outputs": [
    {
     "data": {
      "text/plain": [
       "0        2022-09-22 08:31:43.041325092\n",
       "1        2022-09-22 08:31:43.141324997\n",
       "2        2022-09-22 08:31:43.241325140\n",
       "3        2022-09-22 08:31:43.341325045\n",
       "4        2022-09-22 08:31:43.441325188\n",
       "                      ...             \n",
       "632620   2022-09-22 13:14:38.041325092\n",
       "632621   2022-09-22 13:14:38.141324997\n",
       "632622   2022-09-22 13:14:38.241325140\n",
       "632623   2022-09-22 13:14:40.041325092\n",
       "632624   2022-09-22 13:14:40.041325092\n",
       "Name: Timestamp, Length: 632625, dtype: datetime64[ns]"
      ]
     },
     "execution_count": 95,
     "metadata": {},
     "output_type": "execute_result"
    }
   ],
   "source": [
    "Ts_records"
   ]
  },
  {
   "cell_type": "code",
   "execution_count": 91,
   "id": "5d23bbc9",
   "metadata": {
    "scrolled": true
   },
   "outputs": [
    {
     "data": {
      "text/plain": [
       "0   -1 days +23:00:02.141324997\n",
       "1   -1 days +20:01:43.141324997\n",
       "2   -1 days +16:31:43.141324997\n",
       "dtype: timedelta64[ns]"
      ]
     },
     "execution_count": 91,
     "metadata": {},
     "output_type": "execute_result"
    }
   ],
   "source": [
    "(Ts_records.iloc[1] - date_)"
   ]
  }
 ],
 "metadata": {
  "kernelspec": {
   "display_name": "Python 3 (ipykernel)",
   "language": "python",
   "name": "python3"
  },
  "language_info": {
   "codemirror_mode": {
    "name": "ipython",
    "version": 3
   },
   "file_extension": ".py",
   "mimetype": "text/x-python",
   "name": "python",
   "nbconvert_exporter": "python",
   "pygments_lexer": "ipython3",
   "version": "3.8.12"
  }
 },
 "nbformat": 4,
 "nbformat_minor": 5
}
