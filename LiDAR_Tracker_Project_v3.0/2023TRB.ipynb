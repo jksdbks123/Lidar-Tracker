{
 "cells": [
  {
   "cell_type": "code",
   "execution_count": 1,
   "id": "1f1f919d",
   "metadata": {},
   "outputs": [
    {
     "name": "stdout",
     "output_type": "stream",
     "text": [
      "Jupyter environment detected. Enabling Open3D WebVisualizer.\n",
      "[Open3D INFO] WebRTC GUI backend enabled.\n",
      "[Open3D INFO] WebRTCWindowSystem: HTTP handshake server disabled.\n",
      "[Open3D INFO] Resetting default logger to print to terminal.\n"
     ]
    }
   ],
   "source": [
    "import matplotlib.pyplot as plt\n",
    "from matplotlib import image\n",
    "from scipy.spatial.distance import cdist\n",
    "import numpy as np\n",
    "import pandas as pd\n",
    "import cv2\n",
    "import os\n",
    "from BfTableGenerator import TDmapLoader\n",
    "from tqdm import tqdm\n",
    "from Utils import *\n",
    "from open3d.web_visualizer import draw\n",
    "from joblib import Parallel, delayed\n",
    "from VisulizerTools import *\n",
    "from DDBSCAN import Raster_DBSCAN\n",
    "import time\n",
    "plt.rcParams[\"font.family\"] = \"Times New Roman\""
   ]
  },
  {
   "cell_type": "code",
   "execution_count": null,
   "id": "c87f6f4b",
   "metadata": {},
   "outputs": [],
   "source": [
    "def calc_d(d):\n",
    "    temp = 3*10**(-5) * d**2 + 6.3*10**(-4) * d + 3.5*10**(-3)\n",
    "    return 3*temp\n",
    "def get_thred(temp,N = 10,d_thred = 0.1,bck_n = 3):\n",
    "    temp = temp.copy()\n",
    "    total_sample = len(temp)\n",
    "    bck_ds = []\n",
    "    bck_portions = []\n",
    "    repeat = 0\n",
    "    while repeat < N:\n",
    "        if len(temp) == 0:\n",
    "            break\n",
    "        sample = np.random.choice(temp,replace=False)\n",
    "        d = calc_d(sample)\n",
    "        ind = np.abs(temp - sample) < d\n",
    "        portion = ind.sum()/total_sample\n",
    "        if portion > d_thred:\n",
    "            bck_portions.append(portion)\n",
    "            bck_ds.append(sample)\n",
    "            temp = temp[~ind]\n",
    "        repeat += 1\n",
    "        \n",
    "    bck_ds = np.array(bck_ds)\n",
    "    bck_portions = np.array(bck_portions)\n",
    "    arg_ind = np.argsort(bck_portions)[::-1]\n",
    "    bck_ds_ = bck_ds[arg_ind[:bck_n]]\n",
    "    \n",
    "    if len(bck_ds_) <= bck_n:\n",
    "        bck_ds_ = np.concatenate([bck_ds_,-1 * np.ones(bck_n - len(bck_ds_))])\n",
    "    return bck_ds_\n",
    "\n",
    "def gen_bckmap(aggregated_maps, N, d_thred, bck_n):\n",
    "    thred_map = np.zeros((3,32,1800))\n",
    "    for i in tqdm(range(thred_map.shape[1])):\n",
    "        for j in range(thred_map.shape[2]):\n",
    "            thred_map[:,i,j] = get_thred(aggregated_maps[:,i,j],N = N,d_thred = d_thred,bck_n = bck_n)\n",
    "    return thred_map"
   ]
  },
  {
   "cell_type": "code",
   "execution_count": null,
   "id": "c244d803",
   "metadata": {},
   "outputs": [],
   "source": [
    "aggregated_map = []\n",
    "Inten_maps = []\n",
    "pcap_path = r'D:\\LiDAR_Data\\MidTown\\California\\2021-12-10-21-0-0.pcap'\n",
    "end_frame = 18000\n",
    "lidar_reader = TDmapLoader(pcap_path)\n",
    "frame_gen = lidar_reader.frame_gen()\n",
    "for i in tqdm(range(end_frame)):\n",
    "    Frame = next(frame_gen)\n",
    "    if Frame is None:\n",
    "        break \n",
    "    Td_map,Int_map = Frame\n",
    "    aggregated_map.append(Td_map)\n",
    "    Inten_maps.append(Int_map)\n",
    "aggregated_map = np.array(aggregated_map)\n",
    "Inten_maps = np.array(Inten_maps)"
   ]
  }
 ],
 "metadata": {
  "kernelspec": {
   "display_name": "Python 3 (ipykernel)",
   "language": "python",
   "name": "python3"
  },
  "language_info": {
   "codemirror_mode": {
    "name": "ipython",
    "version": 3
   },
   "file_extension": ".py",
   "mimetype": "text/x-python",
   "name": "python",
   "nbconvert_exporter": "python",
   "pygments_lexer": "ipython3",
   "version": "3.8.12"
  }
 },
 "nbformat": 4,
 "nbformat_minor": 5
}
