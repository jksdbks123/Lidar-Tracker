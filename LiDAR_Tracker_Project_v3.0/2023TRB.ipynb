{
 "cells": [
  {
   "cell_type": "code",
   "execution_count": 3,
   "id": "ac88d0e4",
   "metadata": {},
   "outputs": [
    {
     "name": "stdout",
     "output_type": "stream",
     "text": [
      "Jupyter environment detected. Enabling Open3D WebVisualizer.\n",
      "[Open3D INFO] WebRTC GUI backend enabled.\n",
      "[Open3D INFO] WebRTCWindowSystem: HTTP handshake server disabled.\n",
      "[Open3D INFO] Resetting default logger to print to terminal.\n"
     ]
    }
   ],
   "source": [
    "import matplotlib.pyplot as plt\n",
    "from matplotlib import image\n",
    "from scipy.spatial.distance import cdist\n",
    "import numpy as np\n",
    "import pandas as pd\n",
    "import cv2\n",
    "import os\n",
    "from BfTableGenerator import TDmapLoader\n",
    "from tqdm import tqdm\n",
    "from Utils import *\n",
    "from open3d.web_visualizer import draw\n",
    "from joblib import Parallel, delayed\n",
    "from VisulizerTools import *\n",
    "from DDBSCAN import Raster_DBSCAN\n",
    "from sklearn.cluster import DBSCAN\n",
    "import time\n",
    "plt.rcParams[\"font.family\"] = \"Times New Roman\"\n",
    "from GeoRefTool import *\n",
    "import numpy as np\n",
    "from matplotlib import pyplot as plt\n",
    "from skimage.color import rgb2gray\n",
    "from skimage.data import stereo_motorcycle, vortex\n",
    "from skimage.transform import warp\n",
    "from skimage.registration import optical_flow_tvl1, optical_flow_ilk\n",
    "from BfTableGenerator import *"
   ]
  },
  {
   "cell_type": "code",
   "execution_count": 4,
   "id": "824a4d78",
   "metadata": {},
   "outputs": [],
   "source": [
    "def count(TSAv):\n",
    "    temp_count = 0\n",
    "    apear_ind = []\n",
    "    counts = []\n",
    "    for i in range(len(TSAv)):\n",
    "        if (TSAv[i] == True):\n",
    "            temp_count += 1\n",
    "        else:\n",
    "            if (i > 0) & (TSAv[i - 1] == True):\n",
    "                apear_ind.append(i - temp_count)\n",
    "                counts.append(temp_count)\n",
    "                temp_count = 0\n",
    "                counts.append(0)\n",
    "            else:\n",
    "                counts.append(0)\n",
    "        if (i == len(TSAv) - 1) & (temp_count != 0):\n",
    "            apear_ind.append(i - temp_count + 1)\n",
    "            counts.append(temp_count)\n",
    "    counts = np.array(counts)\n",
    "    counts = counts[counts > 0]\n",
    "    return np.array(counts), np.array(apear_ind)"
   ]
  },
  {
   "cell_type": "code",
   "execution_count": 5,
   "id": "f4c178e0",
   "metadata": {},
   "outputs": [],
   "source": [
    "def gen_xyz(dis,i,j):\n",
    "    longitudes = theta[i]*np.pi / 180\n",
    "    latitudes = azimuths[j] * np.pi / 180 \n",
    "    hypotenuses = dis * np.cos(longitudes)\n",
    "    X = hypotenuses * np.sin(latitudes)\n",
    "    Y = hypotenuses * np.cos(latitudes)\n",
    "    Z = dis * np.sin(longitudes)\n",
    "    return np.array([X,Y,Z])"
   ]
  },
  {
   "cell_type": "code",
   "execution_count": 38,
   "id": "1cc27ce4",
   "metadata": {},
   "outputs": [],
   "source": [
    "db = Raster_DBSCAN(window_size=[5,13],eps = 1.5,min_samples = 12,Td_map_szie = [32,1800])\n",
    "dbscan = DBSCAN(eps = 1, min_samples = 20)"
   ]
  },
  {
   "cell_type": "code",
   "execution_count": 6,
   "id": "10cfde47",
   "metadata": {},
   "outputs": [],
   "source": [
    "thred_map = np.load(r'C:\\Users\\zhChe\\OneDrive - nevada.unr.edu\\2023TRB\\DATA\\bck_larue.npy')\n"
   ]
  },
  {
   "cell_type": "code",
   "execution_count": 7,
   "id": "f781bfc1",
   "metadata": {
    "scrolled": true
   },
   "outputs": [
    {
     "name": "stderr",
     "output_type": "stream",
     "text": [
      " 99%|███████████████████████████████████████████████████████████████████████████▎| 17847/18000 [12:17<00:06, 24.22it/s]\n",
      "  0%|                                                                                        | 0/17847 [00:00<?, ?it/s]\n"
     ]
    },
    {
     "ename": "ValueError",
     "evalue": "not enough values to unpack (expected 2, got 1)",
     "output_type": "error",
     "traceback": [
      "\u001b[1;31m---------------------------------------------------------------------------\u001b[0m",
      "\u001b[1;31mValueError\u001b[0m                                Traceback (most recent call last)",
      "\u001b[1;32m~\\AppData\\Local\\Temp/ipykernel_87400/238296018.py\u001b[0m in \u001b[0;36m<module>\u001b[1;34m\u001b[0m\n\u001b[0;32m     21\u001b[0m     \u001b[0mTd_map\u001b[0m \u001b[1;33m=\u001b[0m \u001b[0maggregated_map\u001b[0m\u001b[1;33m[\u001b[0m\u001b[0mi\u001b[0m\u001b[1;33m]\u001b[0m\u001b[1;33m\u001b[0m\u001b[1;33m\u001b[0m\u001b[0m\n\u001b[0;32m     22\u001b[0m     \u001b[0mForeground_map\u001b[0m \u001b[1;33m=\u001b[0m \u001b[1;33m~\u001b[0m\u001b[1;33m(\u001b[0m\u001b[0mnp\u001b[0m\u001b[1;33m.\u001b[0m\u001b[0mabs\u001b[0m\u001b[1;33m(\u001b[0m\u001b[0mTd_map\u001b[0m \u001b[1;33m-\u001b[0m \u001b[0mthred_map\u001b[0m\u001b[1;33m)\u001b[0m \u001b[1;33m<=\u001b[0m \u001b[1;36m1.5\u001b[0m\u001b[1;33m)\u001b[0m\u001b[1;33m.\u001b[0m\u001b[0many\u001b[0m\u001b[1;33m(\u001b[0m\u001b[0maxis\u001b[0m \u001b[1;33m=\u001b[0m \u001b[1;36m0\u001b[0m\u001b[1;33m)\u001b[0m\u001b[1;33m\u001b[0m\u001b[1;33m\u001b[0m\u001b[0m\n\u001b[1;32m---> 23\u001b[1;33m     \u001b[0mLabeling_map\u001b[0m \u001b[1;33m=\u001b[0m \u001b[0mdb\u001b[0m\u001b[1;33m.\u001b[0m\u001b[0mfit_predict\u001b[0m\u001b[1;33m(\u001b[0m\u001b[0mTd_map\u001b[0m\u001b[1;33m=\u001b[0m \u001b[0mTd_map\u001b[0m\u001b[1;33m,\u001b[0m\u001b[0mForeground_map\u001b[0m\u001b[1;33m=\u001b[0m\u001b[0mForeground_map\u001b[0m\u001b[1;33m)\u001b[0m\u001b[1;33m\u001b[0m\u001b[1;33m\u001b[0m\u001b[0m\n\u001b[0m\u001b[0;32m     24\u001b[0m     \u001b[0maggregated_Labeling_map\u001b[0m\u001b[1;33m.\u001b[0m\u001b[0mappend\u001b[0m\u001b[1;33m(\u001b[0m\u001b[0mLabeling_map\u001b[0m\u001b[1;33m)\u001b[0m\u001b[1;33m\u001b[0m\u001b[1;33m\u001b[0m\u001b[0m\n\u001b[0;32m     25\u001b[0m \u001b[0maggregated_Labeling_map\u001b[0m \u001b[1;33m=\u001b[0m \u001b[0mnp\u001b[0m\u001b[1;33m.\u001b[0m\u001b[0marray\u001b[0m\u001b[1;33m(\u001b[0m\u001b[0maggregated_Labeling_map\u001b[0m\u001b[1;33m)\u001b[0m\u001b[1;33m\u001b[0m\u001b[1;33m\u001b[0m\u001b[0m\n",
      "\u001b[1;32mD:\\Lidar-Tracker\\LiDAR_Tracker_Project_v3.0\\DDBSCAN.py\u001b[0m in \u001b[0;36mfit_predict\u001b[1;34m(self, Td_map, Foreground_map)\u001b[0m\n\u001b[0;32m     37\u001b[0m         \u001b[0mself\u001b[0m\u001b[1;33m.\u001b[0m\u001b[0mForeground_map\u001b[0m \u001b[1;33m=\u001b[0m \u001b[0mForeground_map\u001b[0m\u001b[1;33m\u001b[0m\u001b[1;33m\u001b[0m\u001b[0m\n\u001b[0;32m     38\u001b[0m \u001b[1;33m\u001b[0m\u001b[0m\n\u001b[1;32m---> 39\u001b[1;33m         \u001b[0mrows\u001b[0m\u001b[1;33m,\u001b[0m\u001b[0mcols\u001b[0m \u001b[1;33m=\u001b[0m \u001b[0mnp\u001b[0m\u001b[1;33m.\u001b[0m\u001b[0mwhere\u001b[0m\u001b[1;33m(\u001b[0m\u001b[0mForeground_map\u001b[0m\u001b[1;33m)\u001b[0m\u001b[1;33m\u001b[0m\u001b[1;33m\u001b[0m\u001b[0m\n\u001b[0m\u001b[0;32m     40\u001b[0m         \u001b[0mindices\u001b[0m \u001b[1;33m=\u001b[0m \u001b[0mnp\u001b[0m\u001b[1;33m.\u001b[0m\u001b[0marange\u001b[0m\u001b[1;33m(\u001b[0m\u001b[0mlen\u001b[0m\u001b[1;33m(\u001b[0m\u001b[0mrows\u001b[0m\u001b[1;33m)\u001b[0m\u001b[1;33m,\u001b[0m\u001b[0mdtype\u001b[0m \u001b[1;33m=\u001b[0m \u001b[0mnp\u001b[0m\u001b[1;33m.\u001b[0m\u001b[0mint64\u001b[0m\u001b[1;33m)\u001b[0m\u001b[1;33m\u001b[0m\u001b[1;33m\u001b[0m\u001b[0m\n\u001b[0;32m     41\u001b[0m         \u001b[0mself\u001b[0m\u001b[1;33m.\u001b[0m\u001b[0mIndex_map\u001b[0m \u001b[1;33m=\u001b[0m \u001b[1;33m-\u001b[0m\u001b[1;36m1\u001b[0m\u001b[1;33m*\u001b[0m\u001b[0mnp\u001b[0m\u001b[1;33m.\u001b[0m\u001b[0mones\u001b[0m\u001b[1;33m(\u001b[0m\u001b[0mshape\u001b[0m \u001b[1;33m=\u001b[0m \u001b[0mForeground_map\u001b[0m\u001b[1;33m.\u001b[0m\u001b[0mshape\u001b[0m\u001b[1;33m,\u001b[0m\u001b[0mdtype\u001b[0m\u001b[1;33m=\u001b[0m\u001b[0mnp\u001b[0m\u001b[1;33m.\u001b[0m\u001b[0mint64\u001b[0m\u001b[1;33m)\u001b[0m\u001b[1;33m\u001b[0m\u001b[1;33m\u001b[0m\u001b[0m\n",
      "\u001b[1;31mValueError\u001b[0m: not enough values to unpack (expected 2, got 1)"
     ]
    }
   ],
   "source": [
    "aggregated_map = []\n",
    "Inten_maps = []\n",
    "pcap_path = r'D:\\LiDAR_Data\\MidTown\\Larue\\PaperPcaps\\2022-1-22-11-0-0.pcap'\n",
    "end_frame = 18000\n",
    "lidar_reader = TDmapLoader(pcap_path)\n",
    "frame_gen = lidar_reader.frame_gen()\n",
    "for i in tqdm(range(end_frame)):\n",
    "    Frame = next(frame_gen)\n",
    "    if Frame is None:\n",
    "        break \n",
    "    Td_map,Int_map = Frame\n",
    "    aggregated_map.append(Td_map)\n",
    "    Inten_maps.append(Int_map)\n",
    "aggregated_map = np.array(aggregated_map)\n",
    "Inten_maps = np.array(Inten_maps)\n",
    "# thred_map = gen_bckmap(aggregated_map, N = 10,d_thred = 0.08,bck_n = 3 )\n",
    "thred_map = np.load(r'C:\\Users\\zhChe\\OneDrive - nevada.unr.edu\\2023TRB\\DATA\\bck_larue.npy')\n",
    "thred_map = thred_map.max(axis = 0)\n",
    "aggregated_Labeling_map = []\n",
    "for i in tqdm(range(aggregated_map.shape[0])):\n",
    "    Td_map = aggregated_map[i]\n",
    "    Foreground_map = ~(np.abs(Td_map - thred_map) <= 1.5).any(axis = 0)\n",
    "    Labeling_map = db.fit_predict(Td_map= Td_map,Foreground_map=Foreground_map)\n",
    "    aggregated_Labeling_map.append(Labeling_map)\n",
    "aggregated_Labeling_map = np.array(aggregated_Labeling_map)\n",
    "points = []\n",
    "occupancies = []\n",
    "row_ind = []\n",
    "col_ind = []\n",
    "for i in tqdm(range(32)):\n",
    "    for j in range(1800):\n",
    "        foreground_ind = aggregated_Labeling_map[:,i,j] != -1\n",
    "        if foreground_ind.any(): # foreground\n",
    "            dis_values = aggregated_map[foreground_ind,i,j]\n",
    "            labels = dbscan.fit_predict(dis_values.reshape(-1,1))\n",
    "            unique_labels = np.unique(labels)\n",
    "            unique_labels = unique_labels[1:]\n",
    "            if len(unique_labels) >= 1: \n",
    "                for l in unique_labels:\n",
    "                    dis = np.mean(dis_values[labels == l])\n",
    "                    XYZ = gen_xyz(dis,i,j)\n",
    "                    points.append(XYZ)\n",
    "                    occupancy = (labels == l).sum()/len(foreground_ind)\n",
    "                    occupancies.append(occupancy)\n",
    "                    row_ind.append(i)\n",
    "                    col_ind.append(j)\n",
    "points = np.array(points)\n",
    "occupancies = np.array(occupancies)\n",
    "col_ind = np.array(col_ind)\n",
    "row_ind = np.array(row_ind)\n",
    "pcd = get_pcd_uncolored(aggregated_map[1354])\n",
    "plane_model, inliers = pcd.segment_plane(distance_threshold=0.3,\n",
    "                                         ransac_n=10,\n",
    "                                         num_iterations=1000)\n",
    "height = np.abs(plane_model[0] * points[:,0] + plane_model[1] * points[:,1] + plane_model[2] * points[:,2] + plane_model[3]) / (np.sqrt(plane_model[0]**2 + plane_model[1]**2 +plane_model[2]**2))\n",
    "input_path = r'D:\\LiDAR_Data\\MidTown\\Larue\\Calibration'\n",
    "ref_LLH_path,ref_xyz_path = os.path.join(input_path,'LLE_ref.csv'),os.path.join(input_path,'xyz_ref.csv')\n",
    "ref_LLH,ref_xyz = np.array(pd.read_csv(ref_LLH_path)),np.array(pd.read_csv(ref_xyz_path))\n",
    "if len(np.unique(ref_xyz[:,2])) == 1:\n",
    "    np.random.seed(1)\n",
    "    offset = np.random.normal(-0.521,3.28,len(ref_LLH))\n",
    "    ref_xyz[:,2] += offset\n",
    "    ref_LLH[:,2] += offset * 3.2808\n",
    "ref_LLH[:,[0,1]] = ref_LLH[:,[0,1]] * np.pi/180\n",
    "ref_LLH[:,2] = ref_LLH[:,2]/3.2808\n",
    "\n",
    "T = generate_T(ref_LLH,ref_xyz)\n",
    "LLH = convert_LLH(points.astype(np.float64),T)\n",
    "resultGram = pd.DataFrame(np.concatenate([points,LLH,occupancies.reshape(-1,1),height.reshape(-1,1),row_ind.reshape(-1,1),col_ind.reshape(-1,1)],axis =1 ),columns=['X','Y','Z','Longitude','Latitude','Elevation','Occupancy','Height','LaserID','AzimuthID'])\n",
    "resultGram.to_csv(r'D:\\LiDAR_Data\\MidTown\\Larue\\occ.csv',index = False)"
   ]
  },
  {
   "cell_type": "code",
   "execution_count": 9,
   "id": "8c2551f9",
   "metadata": {},
   "outputs": [
    {
     "data": {
      "text/plain": [
       "array([False, False, False, ..., False, False, False])"
      ]
     },
     "execution_count": 9,
     "metadata": {},
     "output_type": "execute_result"
    }
   ],
   "source": [
    "Foreground_map"
   ]
  },
  {
   "cell_type": "code",
   "execution_count": 12,
   "id": "99e8b355",
   "metadata": {
    "collapsed": true
   },
   "outputs": [
    {
     "name": "stdout",
     "output_type": "stream",
     "text": [
      "24.884\n",
      "1309\n"
     ]
    },
    {
     "ename": "IndexError",
     "evalue": "too many indices for array: array is 2-dimensional, but 3 were indexed",
     "output_type": "error",
     "traceback": [
      "\u001b[1;31m---------------------------------------------------------------------------\u001b[0m",
      "\u001b[1;31mIndexError\u001b[0m                                Traceback (most recent call last)",
      "\u001b[1;32m~\\AppData\\Local\\Temp/ipykernel_24600/2010222787.py\u001b[0m in \u001b[0;36m<module>\u001b[1;34m\u001b[0m\n\u001b[0;32m      6\u001b[0m \u001b[0mplt\u001b[0m\u001b[1;33m.\u001b[0m\u001b[0mfigure\u001b[0m\u001b[1;33m(\u001b[0m\u001b[0mfigsize\u001b[0m\u001b[1;33m=\u001b[0m\u001b[1;33m(\u001b[0m\u001b[1;36m10\u001b[0m\u001b[1;33m,\u001b[0m\u001b[1;36m5\u001b[0m\u001b[1;33m)\u001b[0m\u001b[1;33m)\u001b[0m\u001b[1;33m\u001b[0m\u001b[1;33m\u001b[0m\u001b[0m\n\u001b[0;32m      7\u001b[0m \u001b[0mplt\u001b[0m\u001b[1;33m.\u001b[0m\u001b[0mscatter\u001b[0m\u001b[1;33m(\u001b[0m\u001b[0mnp\u001b[0m\u001b[1;33m.\u001b[0m\u001b[0marange\u001b[0m\u001b[1;33m(\u001b[0m\u001b[0mlen\u001b[0m\u001b[1;33m(\u001b[0m\u001b[0mtemp\u001b[0m\u001b[1;33m)\u001b[0m\u001b[1;33m)\u001b[0m\u001b[1;33m,\u001b[0m\u001b[0mtemp\u001b[0m\u001b[1;33m,\u001b[0m\u001b[0ms\u001b[0m \u001b[1;33m=\u001b[0m \u001b[1;36m20\u001b[0m\u001b[1;33m,\u001b[0m \u001b[0mmarker\u001b[0m \u001b[1;33m=\u001b[0m \u001b[1;34m'x'\u001b[0m\u001b[1;33m,\u001b[0m \u001b[0mlabel\u001b[0m \u001b[1;33m=\u001b[0m \u001b[1;34m\"Laser Traveling Distance\"\u001b[0m\u001b[1;33m,\u001b[0m \u001b[0mc\u001b[0m \u001b[1;33m=\u001b[0m \u001b[1;34m'gray'\u001b[0m\u001b[1;33m)\u001b[0m\u001b[1;33m\u001b[0m\u001b[1;33m\u001b[0m\u001b[0m\n\u001b[1;32m----> 8\u001b[1;33m \u001b[0mthred\u001b[0m \u001b[1;33m=\u001b[0m \u001b[0mthred_map\u001b[0m\u001b[1;33m[\u001b[0m\u001b[1;33m:\u001b[0m\u001b[1;33m,\u001b[0m\u001b[0mlaser_id\u001b[0m\u001b[1;33m,\u001b[0m\u001b[0mazimuth_channel\u001b[0m\u001b[1;33m]\u001b[0m\u001b[1;33m\u001b[0m\u001b[1;33m\u001b[0m\u001b[0m\n\u001b[0m\u001b[0;32m      9\u001b[0m \u001b[1;32mfor\u001b[0m \u001b[0mi\u001b[0m \u001b[1;32min\u001b[0m \u001b[0mrange\u001b[0m\u001b[1;33m(\u001b[0m\u001b[0mlen\u001b[0m\u001b[1;33m(\u001b[0m\u001b[0mthred\u001b[0m\u001b[1;33m)\u001b[0m\u001b[1;33m)\u001b[0m\u001b[1;33m:\u001b[0m\u001b[1;33m\u001b[0m\u001b[1;33m\u001b[0m\u001b[0m\n\u001b[0;32m     10\u001b[0m     \u001b[0mplt\u001b[0m\u001b[1;33m.\u001b[0m\u001b[0mhlines\u001b[0m\u001b[1;33m(\u001b[0m\u001b[0mthred\u001b[0m\u001b[1;33m[\u001b[0m\u001b[0mi\u001b[0m\u001b[1;33m]\u001b[0m\u001b[1;33m,\u001b[0m\u001b[1;36m0\u001b[0m\u001b[1;33m,\u001b[0m\u001b[0maggregated_map\u001b[0m\u001b[1;33m.\u001b[0m\u001b[0mshape\u001b[0m\u001b[1;33m[\u001b[0m\u001b[1;36m0\u001b[0m\u001b[1;33m]\u001b[0m\u001b[1;33m,\u001b[0m\u001b[0mcolor\u001b[0m \u001b[1;33m=\u001b[0m \u001b[1;34m'r'\u001b[0m\u001b[1;33m)\u001b[0m\u001b[1;33m\u001b[0m\u001b[1;33m\u001b[0m\u001b[0m\n",
      "\u001b[1;31mIndexError\u001b[0m: too many indices for array: array is 2-dimensional, but 3 were indexed"
     ]
    },
    {
     "data": {
      "image/png": "[encoded data removed]",
      "text/plain": [
       "<Figure size 720x360 with 1 Axes>"
      ]
     },
     "metadata": {
      "needs_background": "light"
     },
     "output_type": "display_data"
    }
   ],
   "source": [
    "laser_id = 4\n",
    "azimuth_channel = 1309\n",
    "print(aggregated_map[-4,laser_id,azimuth_channel])\n",
    "print(azimuth_channel)\n",
    "temp = aggregated_map[:,laser_id,azimuth_channel].copy()\n",
    "plt.figure(figsize=(10,5))\n",
    "plt.scatter(np.arange(len(temp)),temp,s = 20, marker = 'x', label = \"Laser Traveling Distance\", c = 'gray')\n",
    "thred = thred_map[:,laser_id,azimuth_channel]\n",
    "for i in range(len(thred)):\n",
    "    plt.hlines(thred[i],0,aggregated_map.shape[0],color = 'r')\n",
    "plt.yticks(fontsize = 20)\n",
    "plt.xticks(fontsize = 20)\n",
    "plt.ylabel('Distance (m)',fontsize = 25, fontweight = 'bold')\n",
    "plt.xlabel('Time (0.1sec)',fontsize = 25, fontweight = 'bold')\n",
    "plt.tight_layout()\n",
    "plt.ylim(0,70)\n",
    "\n",
    "# plt.xlim(2000,2400)\n",
    "# plt.savefig(r'C:\\Users\\zhChe\\OneDrive - nevada.unr.edu\\ITSmanuscript\\Figs\\parameterdefinition.tif', dpi = 600)\n",
    "plt.show()"
   ]
  },
  {
   "cell_type": "markdown",
   "id": "38041841",
   "metadata": {},
   "source": [
    "## Large Bck Generator"
   ]
  },
  {
   "cell_type": "code",
   "execution_count": 1,
   "id": "a188cd5b",
   "metadata": {},
   "outputs": [],
   "source": [
    "def get_thred(temp,N = 10,d_thred = 0.1,bck_n = 3):\n",
    "    temp = temp.copy()\n",
    "    total_sample = len(temp)\n",
    "    bck_ds = []\n",
    "    bck_portions = []\n",
    "    repeat = 0\n",
    "    while repeat < N:\n",
    "        if len(temp) == 0:\n",
    "            break\n",
    "        sample = np.random.choice(temp,replace=False)\n",
    "        ind = np.abs(temp - sample) < 0.3\n",
    "        portion = ind.sum()/total_sample\n",
    "        if portion > d_thred:\n",
    "            bck_portions.append(portion)\n",
    "            bck_ds.append(sample)\n",
    "            temp = temp[~ind]\n",
    "        repeat += 1\n",
    "        \n",
    "    bck_ds = np.array(bck_ds)\n",
    "    bck_portions = np.array(bck_portions)\n",
    "    arg_ind = np.argsort(bck_portions)[::-1]\n",
    "    bck_ds_ = bck_ds[arg_ind[:bck_n]]\n",
    "    \n",
    "    if len(bck_ds_) <= bck_n:\n",
    "        bck_ds_ = np.concatenate([bck_ds_,-1 * np.ones(bck_n - len(bck_ds_))])\n",
    "    return bck_ds_"
   ]
  },
  {
   "cell_type": "code",
   "execution_count": 2,
   "id": "b83e035a",
   "metadata": {},
   "outputs": [],
   "source": [
    "def gen_bckmap(aggregated_maps, N, d_thred, bck_n):\n",
    "    thred_map = np.zeros((bck_n,32,1800))\n",
    "    for i in tqdm(range(thred_map.shape[1])):\n",
    "        for j in range(thred_map.shape[2]):\n",
    "            thred_map[:,i,j] = get_thred(aggregated_maps[:,i,j],N = N,d_thred = d_thred,bck_n = bck_n)\n",
    "    return thred_map"
   ]
  },
  {
   "cell_type": "code",
   "execution_count": 7,
   "id": "1ccbe637",
   "metadata": {},
   "outputs": [],
   "source": [
    "f_path = r'D:\\LiDAR_Data\\MidTown\\Larue\\Agg'\n",
    "agg_dirs = np.array(os.listdir(f_path))\n",
    "hours = [eval(f.split('-')[3]) for f in agg_dirs]\n",
    "agg_dirs = agg_dirs[np.argsort(hours)]"
   ]
  },
  {
   "cell_type": "code",
   "execution_count": 8,
   "id": "b16b6703",
   "metadata": {},
   "outputs": [
    {
     "name": "stderr",
     "output_type": "stream",
     "text": [
      "100%|██████████████████████████████████████████████████████████████████████████████████| 24/24 [02:44<00:00,  6.85s/it]\n"
     ]
    }
   ],
   "source": [
    "aggregated_maps = []\n",
    "for f in tqdm(agg_dirs):\n",
    "    aggregated_map = np.load(os.path.join(f_path,f))\n",
    "    aggregated_maps.append(aggregated_map)\n",
    "aggregated_maps = np.concatenate(aggregated_maps)"
   ]
  },
  {
   "cell_type": "code",
   "execution_count": 17,
   "id": "334bef20",
   "metadata": {},
   "outputs": [
    {
     "name": "stderr",
     "output_type": "stream",
     "text": [
      "100%|██████████████████████████████████████████████████████████████████████████████████| 32/32 [04:26<00:00,  8.34s/it]\n"
     ]
    }
   ],
   "source": [
    "thred_map = gen_bckmap(aggregated_maps, N = 20,d_thred = 0.12,bck_n = 5)"
   ]
  },
  {
   "cell_type": "code",
   "execution_count": 18,
   "id": "648d9954",
   "metadata": {},
   "outputs": [],
   "source": [
    "np.save(r'C:\\Users\\zhChe\\OneDrive - nevada.unr.edu\\2023TRB\\DATA\\bck_larue.npy',thred_map)"
   ]
  },
  {
   "cell_type": "code",
   "execution_count": 18,
   "id": "19200bca",
   "metadata": {},
   "outputs": [
    {
     "data": {
      "image/png": "[encoded data removed]",
      "text/plain": [
       "<Figure size 720x360 with 1 Axes>"
      ]
     },
     "metadata": {
      "needs_background": "light"
     },
     "output_type": "display_data"
    }
   ],
   "source": [
    "laser_id = 13\n",
    "azimuth_channel = 539\n",
    "temp = aggregated_maps[:,laser_id,azimuth_channel].copy()\n",
    "plt.figure(figsize=(10,5))\n",
    "plt.scatter(np.arange(len(temp)),temp,s = 20, marker = 'x', label = \"Laser Traveling Distance\", c = 'gray')\n",
    "thred = thred_map[:,laser_id,azimuth_channel]\n",
    "# for i in range(len(thred)):\n",
    "#     plt.hlines(thred[i],0,aggregated_map.shape[0],color = 'r')\n",
    "plt.yticks(fontsize = 25)\n",
    "plt.xticks(np.arange(0,48000,2000), np.arange(24),fontsize = 20)\n",
    "plt.ylabel('Distance (m)',fontsize = 25, fontweight = 'bold')\n",
    "plt.xlabel('Time (Hour)',fontsize = 25, fontweight = 'bold')\n",
    "plt.tight_layout()\n",
    "plt.ylim(1,55)\n",
    "plt.savefig(r'C:\\Users\\zhChe\\OneDrive - nevada.unr.edu\\2023TRB\\FIG\\OnedayBands.tif',dpi = 300)\n",
    "plt.show()"
   ]
  },
  {
   "cell_type": "markdown",
   "id": "95a984ee",
   "metadata": {},
   "source": [
    "## Parking Test"
   ]
  },
  {
   "cell_type": "code",
   "execution_count": 6,
   "id": "a53ebde2",
   "metadata": {},
   "outputs": [],
   "source": [
    "thred_map = np.load(r'C:\\Users\\zhChe\\OneDrive - nevada.unr.edu\\2023TRB\\DATA\\bck_larue.npy')"
   ]
  },
  {
   "cell_type": "code",
   "execution_count": 8,
   "id": "127d92f4",
   "metadata": {},
   "outputs": [
    {
     "name": "stderr",
     "output_type": "stream",
     "text": [
      "100%|████████████████████████████████████████████████████████████████████████████| 18000/18000 [11:51<00:00, 25.30it/s]\n"
     ]
    }
   ],
   "source": [
    "aggregated_map = []\n",
    "Inten_maps = []\n",
    "pcap_path = r'D:\\LiDAR_Data\\MidTown\\Larue\\PaperPcaps\\2022-1-22-13-0-0.pcap'\n",
    "end_frame = 18000\n",
    "lidar_reader = TDmapLoader(pcap_path)\n",
    "frame_gen = lidar_reader.frame_gen()\n",
    "for i in tqdm(range(end_frame)):\n",
    "    Frame = next(frame_gen)\n",
    "    if Frame is None:\n",
    "        break \n",
    "    Td_map,Int_map = Frame\n",
    "    aggregated_map.append(Td_map)\n",
    "    Inten_maps.append(Int_map)\n",
    "aggregated_map = np.array(aggregated_map)"
   ]
  },
  {
   "cell_type": "code",
   "execution_count": 9,
   "id": "ef4c77cc",
   "metadata": {},
   "outputs": [],
   "source": [
    "Parking_coord = np.array([[15,496],[11,537],[13,556]])"
   ]
  },
  {
   "cell_type": "code",
   "execution_count": 14,
   "id": "22c7c72b",
   "metadata": {},
   "outputs": [],
   "source": [
    "row_ind,col_ind = [],[]\n",
    "occupancies = []\n",
    "starts = []\n",
    "ends = []\n",
    "points = []\n",
    "i = 15\n",
    "j = 496\n",
    "\n",
    "temp = aggregated_map[:,i,j].copy()\n",
    "thred = thred_map[:,i,j]\n",
    "thred_max = thred.max()\n",
    "bck_inds = ((np.abs((temp - thred_max)) < 2))\n",
    "temp[bck_inds] = 0\n",
    "time_window = 600\n",
    "parking_label  = []\n",
    "for i in range(time_window,len(temp)):\n",
    "    past_dis = temp[i - time_window:i]\n",
    "    past_dis = past_dis[past_dis!=0]\n",
    "    if len(past_dis) == 0:\n",
    "        parking_label.append(False)\n",
    "    else:\n",
    "        if np.abs(temp[i] - np.median(past_dis)) < 0.6:\n",
    "            parking_label.append(True)\n",
    "        else:\n",
    "            parking_label.append(False)\n",
    "parking_label = time_window*[parking_label[0]] + parking_label\n",
    "parking_label = np.array(parking_label)\n",
    "counts,appears = count(~parking_label)\n",
    "for i,a in enumerate(appears):\n",
    "    c = counts[i]\n",
    "    if c < time_window:\n",
    "        parking_label[a:a+c+1] = True\n",
    "counts,appears = count(parking_label)\n",
    "for i,a in enumerate(appears):\n",
    "    c = counts[i]\n",
    "    if c < time_window:\n",
    "        parking_label[a:a+c+1] = False\n",
    "counts,appears = count(parking_label) \n",
    "\n",
    "for l,a in enumerate(appears):\n",
    "    parking_dis = temp[a:a+counts[l]]\n",
    "    parking_dis = parking_dis[parking_dis!=0]\n",
    "    dis =  np.median(parking_dis)\n",
    "    XYZ = gen_xyz(dis,i,j)\n",
    "    points.append(XYZ)\n",
    "    occupancy = counts[l]\n",
    "    occupancies.append(occupancy)\n",
    "    row_ind.append(i)\n",
    "    col_ind.append(j)\n",
    "    starts.append(a)\n",
    "    ends.append(a + counts[l])\n",
    "    \n",
    "points = np.array(points)\n",
    "occupancies = np.array(occupancies)\n",
    "col_ind = np.array(col_ind)\n",
    "row_ind = np.array(row_ind)\n",
    "starts = np.array(starts)\n",
    "ends = np.array(ends)\n",
    "\n",
    "# LLH = convert_LLH(points.astype(np.float64),T)\n",
    "# resultGram = pd.DataFrame(np.concatenate([points,LLH,occupancies.reshape(-1,1),starts.reshape(-1,1),ends.reshape(-1,1),row_ind.reshape(-1,1),col_ind.reshape(-1,1)],axis =1 ),columns=['X','Y','Z','Longitude','Latitude','Elevation','Occupancy','Starts','Ends','LaserID','AzimuthID'])\n",
    "\n",
    "# resultGram.to_csv(r'D:\\LiDAR_Data\\MidTown\\Larue\\occ.csv',index = False)"
   ]
  },
  {
   "cell_type": "code",
   "execution_count": 15,
   "id": "615a4c57",
   "metadata": {},
   "outputs": [
    {
     "data": {
      "text/plain": [
       "array([18000])"
      ]
     },
     "execution_count": 15,
     "metadata": {},
     "output_type": "execute_result"
    }
   ],
   "source": [
    "ends"
   ]
  },
  {
   "cell_type": "code",
   "execution_count": 16,
   "id": "de26899e",
   "metadata": {},
   "outputs": [
    {
     "data": {
      "text/plain": [
       "array([0])"
      ]
     },
     "execution_count": 16,
     "metadata": {},
     "output_type": "execute_result"
    }
   ],
   "source": [
    "starts"
   ]
  },
  {
   "cell_type": "code",
   "execution_count": 81,
   "id": "f0a6c0fc",
   "metadata": {},
   "outputs": [],
   "source": [
    "def get_parking(temp,N = 20,d_thred = 0.15,bck_n = 6):\n",
    "    temp = temp.copy()\n",
    "    total_sample = len(temp)\n",
    "    temp = temp[temp > 0]\n",
    "    bck_ds = []\n",
    "    bck_portions = []\n",
    "    repeat = 0\n",
    "    while repeat < N:\n",
    "        if len(temp) == 0:\n",
    "            break\n",
    "        sample = np.random.choice(temp,replace=False)\n",
    "        \n",
    "        ind = np.abs(temp - sample) < 0.4\n",
    "        portion = ind.sum()/total_sample\n",
    "        if portion > d_thred:\n",
    "            bck_portions.append(portion)\n",
    "            bck_ds.append(sample)\n",
    "            temp = temp[~ind]\n",
    "        repeat += 1\n",
    "        \n",
    "    bck_ds = np.array(bck_ds)\n",
    "    bck_portions = np.array(bck_portions)\n",
    "    arg_ind = np.argsort(bck_portions)[::-1]\n",
    "    bck_ds_ = bck_ds[arg_ind[:bck_n]]\n",
    "    \n",
    "    if len(bck_ds_) <= bck_n:\n",
    "        bck_ds_ = np.concatenate([bck_ds_,-1 * np.ones(bck_n - len(bck_ds_))])\n",
    "    return bck_ds_"
   ]
  },
  {
   "cell_type": "code",
   "execution_count": 13,
   "id": "75765633",
   "metadata": {},
   "outputs": [
    {
     "name": "stderr",
     "output_type": "stream",
     "text": [
      "100%|██████████████████████████████████████████████████████████████████████████████████| 32/32 [01:59<00:00,  3.73s/it]\n"
     ]
    }
   ],
   "source": [
    "row_ind,col_ind = [],[]\n",
    "occupancies = []\n",
    "starts = []\n",
    "ends = []\n",
    "points = []\n",
    "for i in tqdm(range(aggregated_map.shape[1])):\n",
    "    for j in range(aggregated_map.shape[2]):\n",
    "\n",
    "        temp = aggregated_map[:,i,j].copy()\n",
    "        thred = thred_map[:,i,j]\n",
    "        thred_max = thred.max()\n",
    "        bck_inds = ((np.abs((temp - thred_max)) < 1.5))\n",
    "        temp[bck_inds] = 0\n",
    "        \n",
    "        \n",
    "#         components = get_parking(temp,N = 20,d_thred = 0.15,bck_n = 6)\n",
    "\n",
    "        for c in components:\n",
    "            if c == -1:\n",
    "                continue\n",
    "            else:\n",
    "\n",
    "                parking_frame = np.where(temp != 0)[0]\n",
    "                scanning_interval = np.diff(parking_frame)\n",
    "                counts,appears = count((scanning_interval < 600) &()) # parking end for one min doesn't count\n",
    "                for l,a in enumerate(appears):\n",
    "                    dis =  c\n",
    "                    XYZ = gen_xyz(dis,i,j)\n",
    "                    points.append(XYZ)\n",
    "                    occupancy = counts[l]\n",
    "                    occupancies.append(occupancy)\n",
    "                    row_ind.append(i)\n",
    "                    col_ind.append(j)\n",
    "                    starts.append(a)\n",
    "                    ends.append(a + counts[l])"
   ]
  },
  {
   "cell_type": "code",
   "execution_count": 14,
   "id": "af5938eb",
   "metadata": {},
   "outputs": [],
   "source": [
    "points = np.array(points)\n",
    "occupancies = np.array(occupancies)\n",
    "col_ind = np.array(col_ind)\n",
    "row_ind = np.array(row_ind)\n",
    "starts = np.array(starts)\n",
    "ends = np.array(ends)\n",
    "pcd = get_pcd_uncolored(aggregated_map[1354])\n",
    "plane_model, inliers = pcd.segment_plane(distance_threshold=0.6,\n",
    "                                         ransac_n=100,\n",
    "                                         num_iterations=1000)\n",
    "height = np.abs(plane_model[0] * points[:,0] + plane_model[1] * points[:,1] + plane_model[2] * points[:,2] + plane_model[3]) / (np.sqrt(plane_model[0]**2 + plane_model[1]**2 +plane_model[2]**2))\n",
    "input_path = r'D:\\LiDAR_Data\\MidTown\\Larue\\Calibration'\n",
    "ref_LLH_path,ref_xyz_path = os.path.join(input_path,'LLE_ref.csv'),os.path.join(input_path,'xyz_ref.csv')\n",
    "ref_LLH,ref_xyz = np.array(pd.read_csv(ref_LLH_path)),np.array(pd.read_csv(ref_xyz_path))\n",
    "if len(np.unique(ref_xyz[:,2])) == 1:\n",
    "    np.random.seed(1)\n",
    "    offset = np.random.normal(-0.521,3.28,len(ref_LLH))\n",
    "    ref_xyz[:,2] += offset\n",
    "    ref_LLH[:,2] += offset * 3.2808\n",
    "ref_LLH[:,[0,1]] = ref_LLH[:,[0,1]] * np.pi/180\n",
    "ref_LLH[:,2] = ref_LLH[:,2]/3.2808\n",
    "\n",
    "T = generate_T(ref_LLH,ref_xyz)\n",
    "LLH = convert_LLH(points.astype(np.float64),T)\n",
    "resultGram = pd.DataFrame(np.concatenate([points,LLH,occupancies.reshape(-1,1),starts.reshape(-1,1),ends.reshape(-1,1),height.reshape(-1,1),row_ind.reshape(-1,1),col_ind.reshape(-1,1)],axis =1 ),columns=['X','Y','Z','Longitude','Latitude','Elevation','Occupancy','Starts','Ends','Height','LaserID','AzimuthID'])\n",
    "resultGram.to_csv(r'D:\\LiDAR_Data\\MidTown\\Larue\\occ.csv',index = False)"
   ]
  },
  {
   "cell_type": "code",
   "execution_count": 44,
   "id": "87a1635f",
   "metadata": {
    "collapsed": true
   },
   "outputs": [
    {
     "ename": "IndexError",
     "evalue": "boolean index did not match indexed array along dimension 0; dimension is 57600 but corresponding boolean dimension is 8864",
     "output_type": "error",
     "traceback": [
      "\u001b[1;31m---------------------------------------------------------------------------\u001b[0m",
      "\u001b[1;31mIndexError\u001b[0m                                Traceback (most recent call last)",
      "\u001b[1;32m~\\AppData\\Local\\Temp/ipykernel_49180/2625380366.py\u001b[0m in \u001b[0;36m<module>\u001b[1;34m\u001b[0m\n\u001b[0;32m      1\u001b[0m \u001b[0mpcd\u001b[0m \u001b[1;33m=\u001b[0m \u001b[0mop3\u001b[0m\u001b[1;33m.\u001b[0m\u001b[0mgeometry\u001b[0m\u001b[1;33m.\u001b[0m\u001b[0mPointCloud\u001b[0m\u001b[1;33m(\u001b[0m\u001b[1;33m)\u001b[0m\u001b[1;33m\u001b[0m\u001b[1;33m\u001b[0m\u001b[0m\n\u001b[0;32m      2\u001b[0m \u001b[0morigin_points\u001b[0m \u001b[1;33m=\u001b[0m \u001b[0mnp\u001b[0m\u001b[1;33m.\u001b[0m\u001b[0masarray\u001b[0m\u001b[1;33m(\u001b[0m\u001b[0mget_pcd_uncolored\u001b[0m\u001b[1;33m(\u001b[0m\u001b[0maggregated_map\u001b[0m\u001b[1;33m[\u001b[0m\u001b[1;36m1354\u001b[0m\u001b[1;33m]\u001b[0m\u001b[1;33m)\u001b[0m\u001b[1;33m.\u001b[0m\u001b[0mpoints\u001b[0m\u001b[1;33m)\u001b[0m\u001b[1;33m\u001b[0m\u001b[1;33m\u001b[0m\u001b[0m\n\u001b[1;32m----> 3\u001b[1;33m \u001b[0morigin_points_\u001b[0m \u001b[1;33m=\u001b[0m \u001b[0morigin_points\u001b[0m\u001b[1;33m[\u001b[0m\u001b[0mheight\u001b[0m\u001b[1;33m<\u001b[0m\u001b[1;36m3\u001b[0m\u001b[1;33m]\u001b[0m\u001b[1;33m\u001b[0m\u001b[1;33m\u001b[0m\u001b[0m\n\u001b[0m\u001b[0;32m      4\u001b[0m \u001b[0mpcd\u001b[0m\u001b[1;33m.\u001b[0m\u001b[0mpoints\u001b[0m \u001b[1;33m=\u001b[0m \u001b[0mop3\u001b[0m\u001b[1;33m.\u001b[0m\u001b[0mutility\u001b[0m\u001b[1;33m.\u001b[0m\u001b[0mVector3dVector\u001b[0m\u001b[1;33m(\u001b[0m\u001b[0morigin_points_\u001b[0m\u001b[1;33m)\u001b[0m\u001b[1;33m\u001b[0m\u001b[1;33m\u001b[0m\u001b[0m\n",
      "\u001b[1;31mIndexError\u001b[0m: boolean index did not match indexed array along dimension 0; dimension is 57600 but corresponding boolean dimension is 8864"
     ]
    }
   ],
   "source": [
    "pcd = op3.geometry.PointCloud()\n",
    "origin_points = np.asarray(get_pcd_uncolored(aggregated_map[1354]).points)\n",
    "origin_points_ = origin_points[height<3]\n",
    "pcd.points = op3.utility.Vector3dVector(origin_points_)"
   ]
  },
  {
   "cell_type": "code",
   "execution_count": 42,
   "id": "00b4e9e7",
   "metadata": {},
   "outputs": [
    {
     "data": {
      "application/vnd.jupyter.widget-view+json": {
       "model_id": "9114cfdfb98e4d16b2f965f775eb8d1c",
       "version_major": 2,
       "version_minor": 0
      },
      "text/plain": [
       "WebVisualizer(window_uid='window_9')"
      ]
     },
     "metadata": {},
     "output_type": "display_data"
    }
   ],
   "source": [
    "draw(pcd)"
   ]
  },
  {
   "cell_type": "code",
   "execution_count": 84,
   "id": "8b97d1c6",
   "metadata": {},
   "outputs": [
    {
     "data": {
      "image/png": "[encoded data removed]",
      "text/plain": [
       "<Figure size 720x360 with 1 Axes>"
      ]
     },
     "metadata": {
      "needs_background": "light"
     },
     "output_type": "display_data"
    }
   ],
   "source": [
    "laser_id = 13\n",
    "azimuth_channel = 539\n",
    "temp = aggregated_map[:,laser_id,azimuth_channel].copy()\n",
    "plt.figure(figsize=(10,5))\n",
    "plt.scatter(np.arange(len(temp)),temp,s = 20, marker = 'x', label = \"Laser Traveling Distance\", c = 'gray')\n",
    "thred = thred_map[:,laser_id,azimuth_channel]\n",
    "# for i in range(len(thred)):\n",
    "#     plt.hlines(thred[i],0,aggregated_map.shape[0],color = 'r')\n",
    "plt.yticks(fontsize = 25)\n",
    "plt.xticks(fontsize = 25)\n",
    "plt.ylabel('Distance (m)',fontsize = 25, fontweight = 'bold')\n",
    "plt.xlabel('Time (0.1sec)',fontsize = 25, fontweight = 'bold')\n",
    "# plt.ylim(0.1,40)\n",
    "plt.legend(fontsize = '20')\n",
    "plt.tight_layout()\n",
    "# plt.savefig(r'C:\\Users\\zhChe\\OneDrive - nevada.unr.edu\\2023TRB\\FIG\\PixelProcess.tif',dpi = 300)\n",
    "plt.show()"
   ]
  },
  {
   "cell_type": "code",
   "execution_count": 136,
   "id": "578b9e8e",
   "metadata": {},
   "outputs": [
    {
     "data": {
      "text/plain": [
       "True"
      ]
     },
     "execution_count": 136,
     "metadata": {},
     "output_type": "execute_result"
    }
   ],
   "source": [
    "parking_label.max()"
   ]
  },
  {
   "cell_type": "code",
   "execution_count": 134,
   "id": "7d42f757",
   "metadata": {},
   "outputs": [
    {
     "data": {
      "image/png": "[encoded data removed]",
      "text/plain": [
       "<Figure size 720x360 with 1 Axes>"
      ]
     },
     "metadata": {
      "needs_background": "light"
     },
     "output_type": "display_data"
    },
    {
     "data": {
      "image/png": "[encoded data removed]",
      "text/plain": [
       "<Figure size 720x360 with 1 Axes>"
      ]
     },
     "metadata": {
      "needs_background": "light"
     },
     "output_type": "display_data"
    }
   ],
   "source": [
    "laser_id = 13\n",
    "azimuth_channel = 539\n",
    "temp = aggregated_map[:,laser_id,azimuth_channel].copy()\n",
    "plt.figure(figsize=(10,5))\n",
    "plt.scatter(np.arange(len(temp)),temp,s = 20, marker = 'x', label = \"Laser Traveling Distance\", c = 'gray')\n",
    "\n",
    "thred = thred_map[:,laser_id,azimuth_channel]\n",
    "thred_max = thred.max()\n",
    "bck_inds = ((np.abs((temp - thred_max)) < 2))\n",
    "temp[bck_inds] = 0\n",
    "plt.scatter(np.arange(len(temp)),temp,s = 20, marker = 'x', label = \"Laser Traveling Distance (Foreground)\", c = 'r')\n",
    "time_window = 600\n",
    "parking_label  = []\n",
    "for i in range(time_window,len(temp)):\n",
    "    past_dis = temp[i - time_window:i]\n",
    "    past_dis = past_dis[past_dis!=0]\n",
    "    if len(past_dis) == 0:\n",
    "        parking_label.append(False)\n",
    "    else:\n",
    "        if np.abs(temp[i] - np.median(past_dis)) < 0.5:\n",
    "            parking_label.append(True)\n",
    "        else:\n",
    "            parking_label.append(False)\n",
    "parking_label = time_window*[parking_label[0]] + parking_label\n",
    "\n",
    "plt.yticks(fontsize = 25)\n",
    "plt.xticks(fontsize = 25)\n",
    "plt.ylabel('Distance (m)',fontsize = 25, fontweight = 'bold')\n",
    "plt.xlabel('Time (0.1sec)',fontsize = 25, fontweight = 'bold')\n",
    "# plt.ylim(0.1,40)\n",
    "plt.legend(fontsize = '20')\n",
    "plt.tight_layout()\n",
    "# plt.savefig(r'C:\\Users\\zhChe\\OneDrive - nevada.unr.edu\\2023TRB\\FIG\\PixelProcess.tif',dpi = 300)\n",
    "plt.show()\n",
    "plt.figure(figsize=(10,5))\n",
    "parking_label = np.array(parking_label)\n",
    "counts,appears = count(~parking_label)\n",
    "for i,a in enumerate(appears):\n",
    "    c = counts[i]\n",
    "    if c < time_window:\n",
    "        parking_label[a:a+c+1] = True\n",
    "counts,appears = count(parking_label)\n",
    "for i,a in enumerate(appears):\n",
    "    c = counts[i]\n",
    "    if c < time_window:\n",
    "        parking_label[a:a+c+1] = False\n",
    "counts,appears = count(parking_label)        \n",
    "plt.plot(parking_label)\n",
    "\n",
    "plt.show()"
   ]
  },
  {
   "cell_type": "code",
   "execution_count": 127,
   "id": "a7e59266",
   "metadata": {
    "scrolled": true
   },
   "outputs": [
    {
     "data": {
      "text/plain": [
       "array([[ 11, 553],\n",
       "       [ 11, 554],\n",
       "       [ 11, 555],\n",
       "       [ 11, 556],\n",
       "       [ 11, 557],\n",
       "       [ 11, 558],\n",
       "       [ 11, 559],\n",
       "       [ 11, 560],\n",
       "       [ 12, 552],\n",
       "       [ 12, 553],\n",
       "       [ 12, 554],\n",
       "       [ 12, 554],\n",
       "       [ 12, 554],\n",
       "       [ 12, 556],\n",
       "       [ 12, 557],\n",
       "       [ 12, 558],\n",
       "       [ 12, 559],\n",
       "       [ 12, 560],\n",
       "       [ 12, 561],\n",
       "       [ 13, 552],\n",
       "       [ 13, 553],\n",
       "       [ 13, 554],\n",
       "       [ 13, 555],\n",
       "       [ 13, 556],\n",
       "       [ 13, 557],\n",
       "       [ 13, 558],\n",
       "       [ 13, 559],\n",
       "       [ 13, 560],\n",
       "       [ 13, 561],\n",
       "       [ 13, 562],\n",
       "       [ 14, 552],\n",
       "       [ 14, 553],\n",
       "       [ 14, 554],\n",
       "       [ 14, 556],\n",
       "       [ 14, 557],\n",
       "       [ 14, 558],\n",
       "       [ 14, 559],\n",
       "       [ 14, 560],\n",
       "       [ 14, 561],\n",
       "       [ 14, 562],\n",
       "       [ 14, 563],\n",
       "       [ 14, 564],\n",
       "       [ 15, 551],\n",
       "       [ 15, 552],\n",
       "       [ 15, 553],\n",
       "       [ 15, 554],\n",
       "       [ 15, 555],\n",
       "       [ 15, 556],\n",
       "       [ 15, 557],\n",
       "       [ 15, 558],\n",
       "       [ 15, 560],\n",
       "       [ 15, 561],\n",
       "       [ 15, 562],\n",
       "       [ 15, 563],\n",
       "       [ 15, 564],\n",
       "       [ 16, 560],\n",
       "       [ 16, 563],\n",
       "       [ 16, 564],\n",
       "       [ 16, 564],\n",
       "       [ 16, 565],\n",
       "       [ 17, 561],\n",
       "       [ 17, 562],\n",
       "       [ 17, 563],\n",
       "       [ 17, 564],\n",
       "       [ 18, 556],\n",
       "       [ 18, 556],\n",
       "       [ 18, 556],\n",
       "       [ 18, 560],\n",
       "       [ 19, 550],\n",
       "       [ 19, 551],\n",
       "       [ 20, 550],\n",
       "       [ 20, 552],\n",
       "       [ 21, 552]])"
      ]
     },
     "execution_count": 127,
     "metadata": {},
     "output_type": "execute_result"
    }
   ],
   "source": [
    "laser_coords_3"
   ]
  },
  {
   "cell_type": "code",
   "execution_count": 19,
   "id": "8f3b1748",
   "metadata": {},
   "outputs": [
    {
     "data": {
      "image/png": "[encoded data removed]",
      "text/plain": [
       "<Figure size 720x360 with 1 Axes>"
      ]
     },
     "metadata": {
      "needs_background": "light"
     },
     "output_type": "display_data"
    }
   ],
   "source": [
    "laser_id = 13\n",
    "azimuth_channel = 538\n",
    "temp = aggregated_map[:,laser_id,azimuth_channel].copy()\n",
    "plt.figure(figsize=(10,5))\n",
    "plt.scatter(np.arange(len(temp)),temp,s = 20, marker = 'x', label = \"Laser Traveling Distance\", c = 'gray')\n",
    "thred = thred_map[:,laser_id,azimuth_channel]\n",
    "# for i in range(len(thred)):\n",
    "#     plt.hlines(thred[i],0,aggregated_map.shape[0],color = 'r')\n",
    "plt.yticks(fontsize = 20)\n",
    "plt.xticks(fontsize = 20)\n",
    "plt.ylabel('Distance (m)',fontsize = 25, fontweight = 'bold')\n",
    "plt.xlabel('Time (0.1sec)',fontsize = 25, fontweight = 'bold')\n",
    "plt.tight_layout()\n",
    "# plt.ylim(19.2,19.27)\n",
    "\n",
    "plt.show()"
   ]
  },
  {
   "cell_type": "code",
   "execution_count": 17,
   "id": "5e680d80",
   "metadata": {},
   "outputs": [
    {
     "data": {
      "image/png": "[encoded data removed]",
      "text/plain": [
       "<Figure size 720x360 with 1 Axes>"
      ]
     },
     "metadata": {
      "needs_background": "light"
     },
     "output_type": "display_data"
    }
   ],
   "source": [
    "laser_id = 11\n",
    "azimuth_channel = 1344\n",
    "temp = aggregated_map[:,laser_id,azimuth_channel].copy()\n",
    "plt.figure(figsize=(10,5))\n",
    "plt.scatter(np.arange(len(temp)),temp,s = 20, marker = 'x', label = \"Laser Traveling Distance\", c = 'gray')\n",
    "thred = thred_map[:,laser_id,azimuth_channel]\n",
    "for i in range(len(thred)):\n",
    "    plt.hlines(thred[i],0,aggregated_map.shape[0],color = 'r')\n",
    "plt.yticks(fontsize = 20)\n",
    "plt.xticks(fontsize = 20)\n",
    "plt.ylabel('Distance (m)',fontsize = 25, fontweight = 'bold')\n",
    "plt.xlabel('Time (0.1sec)',fontsize = 25, fontweight = 'bold')\n",
    "plt.tight_layout()\n",
    "# plt.ylim(34.5,36)\n",
    "\n",
    "plt.show()"
   ]
  },
  {
   "cell_type": "code",
   "execution_count": null,
   "id": "28b0c391",
   "metadata": {},
   "outputs": [],
   "source": [
    "\n",
    "temp = "
   ]
  },
  {
   "cell_type": "code",
   "execution_count": 36,
   "id": "88b49560",
   "metadata": {
    "scrolled": true
   },
   "outputs": [
    {
     "name": "stderr",
     "output_type": "stream",
     "text": [
      "100%|████████████████████████████████████████████████████████████████████████████| 17847/17847 [14:02<00:00, 21.19it/s]\n",
      " 38%|████████████████████████████▉                                                | 12/32 [1:21:34<2:15:58, 407.90s/it]\n"
     ]
    },
    {
     "ename": "KeyboardInterrupt",
     "evalue": "",
     "output_type": "error",
     "traceback": [
      "\u001b[1;31m---------------------------------------------------------------------------\u001b[0m",
      "\u001b[1;31mKeyboardInterrupt\u001b[0m                         Traceback (most recent call last)",
      "\u001b[1;32m~\\AppData\\Local\\Temp/ipykernel_19252/451205910.py\u001b[0m in \u001b[0;36m<module>\u001b[1;34m\u001b[0m\n\u001b[0;32m     15\u001b[0m         \u001b[1;32mif\u001b[0m \u001b[0mforeground_ind\u001b[0m\u001b[1;33m.\u001b[0m\u001b[0many\u001b[0m\u001b[1;33m(\u001b[0m\u001b[1;33m)\u001b[0m\u001b[1;33m:\u001b[0m \u001b[1;31m# foreground\u001b[0m\u001b[1;33m\u001b[0m\u001b[1;33m\u001b[0m\u001b[0m\n\u001b[0;32m     16\u001b[0m             \u001b[0mdis_values\u001b[0m \u001b[1;33m=\u001b[0m \u001b[0maggregated_map\u001b[0m\u001b[1;33m[\u001b[0m\u001b[0mforeground_ind\u001b[0m\u001b[1;33m,\u001b[0m\u001b[0mi\u001b[0m\u001b[1;33m,\u001b[0m\u001b[0mj\u001b[0m\u001b[1;33m]\u001b[0m\u001b[1;33m\u001b[0m\u001b[1;33m\u001b[0m\u001b[0m\n\u001b[1;32m---> 17\u001b[1;33m             \u001b[0mlabels\u001b[0m \u001b[1;33m=\u001b[0m \u001b[0mdbscan\u001b[0m\u001b[1;33m.\u001b[0m\u001b[0mfit_predict\u001b[0m\u001b[1;33m(\u001b[0m\u001b[0mdis_values\u001b[0m\u001b[1;33m.\u001b[0m\u001b[0mreshape\u001b[0m\u001b[1;33m(\u001b[0m\u001b[1;33m-\u001b[0m\u001b[1;36m1\u001b[0m\u001b[1;33m,\u001b[0m\u001b[1;36m1\u001b[0m\u001b[1;33m)\u001b[0m\u001b[1;33m)\u001b[0m\u001b[1;33m\u001b[0m\u001b[1;33m\u001b[0m\u001b[0m\n\u001b[0m\u001b[0;32m     18\u001b[0m             \u001b[0munique_labels\u001b[0m \u001b[1;33m=\u001b[0m \u001b[0mnp\u001b[0m\u001b[1;33m.\u001b[0m\u001b[0munique\u001b[0m\u001b[1;33m(\u001b[0m\u001b[0mlabels\u001b[0m\u001b[1;33m)\u001b[0m\u001b[1;33m\u001b[0m\u001b[1;33m\u001b[0m\u001b[0m\n\u001b[0;32m     19\u001b[0m             \u001b[0munique_labels\u001b[0m \u001b[1;33m=\u001b[0m \u001b[0munique_labels\u001b[0m\u001b[1;33m[\u001b[0m\u001b[1;36m1\u001b[0m\u001b[1;33m:\u001b[0m\u001b[1;33m]\u001b[0m\u001b[1;33m\u001b[0m\u001b[1;33m\u001b[0m\u001b[0m\n",
      "\u001b[1;32m~\\.conda\\envs\\tracking\\lib\\site-packages\\sklearn\\cluster\\_dbscan.py\u001b[0m in \u001b[0;36mfit_predict\u001b[1;34m(self, X, y, sample_weight)\u001b[0m\n\u001b[0;32m    425\u001b[0m             \u001b[0mCluster\u001b[0m \u001b[0mlabels\u001b[0m\u001b[1;33m.\u001b[0m \u001b[0mNoisy\u001b[0m \u001b[0msamples\u001b[0m \u001b[0mare\u001b[0m \u001b[0mgiven\u001b[0m \u001b[0mthe\u001b[0m \u001b[0mlabel\u001b[0m \u001b[1;33m-\u001b[0m\u001b[1;36m1.\u001b[0m\u001b[1;33m\u001b[0m\u001b[1;33m\u001b[0m\u001b[0m\n\u001b[0;32m    426\u001b[0m         \"\"\"\n\u001b[1;32m--> 427\u001b[1;33m         \u001b[0mself\u001b[0m\u001b[1;33m.\u001b[0m\u001b[0mfit\u001b[0m\u001b[1;33m(\u001b[0m\u001b[0mX\u001b[0m\u001b[1;33m,\u001b[0m \u001b[0msample_weight\u001b[0m\u001b[1;33m=\u001b[0m\u001b[0msample_weight\u001b[0m\u001b[1;33m)\u001b[0m\u001b[1;33m\u001b[0m\u001b[1;33m\u001b[0m\u001b[0m\n\u001b[0m\u001b[0;32m    428\u001b[0m         \u001b[1;32mreturn\u001b[0m \u001b[0mself\u001b[0m\u001b[1;33m.\u001b[0m\u001b[0mlabels_\u001b[0m\u001b[1;33m\u001b[0m\u001b[1;33m\u001b[0m\u001b[0m\n",
      "\u001b[1;32m~\\.conda\\envs\\tracking\\lib\\site-packages\\sklearn\\cluster\\_dbscan.py\u001b[0m in \u001b[0;36mfit\u001b[1;34m(self, X, y, sample_weight)\u001b[0m\n\u001b[0;32m    389\u001b[0m         \u001b[0mdbscan_inner\u001b[0m\u001b[1;33m(\u001b[0m\u001b[0mcore_samples\u001b[0m\u001b[1;33m,\u001b[0m \u001b[0mneighborhoods\u001b[0m\u001b[1;33m,\u001b[0m \u001b[0mlabels\u001b[0m\u001b[1;33m)\u001b[0m\u001b[1;33m\u001b[0m\u001b[1;33m\u001b[0m\u001b[0m\n\u001b[0;32m    390\u001b[0m \u001b[1;33m\u001b[0m\u001b[0m\n\u001b[1;32m--> 391\u001b[1;33m         \u001b[0mself\u001b[0m\u001b[1;33m.\u001b[0m\u001b[0mcore_sample_indices_\u001b[0m \u001b[1;33m=\u001b[0m \u001b[0mnp\u001b[0m\u001b[1;33m.\u001b[0m\u001b[0mwhere\u001b[0m\u001b[1;33m(\u001b[0m\u001b[0mcore_samples\u001b[0m\u001b[1;33m)\u001b[0m\u001b[1;33m[\u001b[0m\u001b[1;36m0\u001b[0m\u001b[1;33m]\u001b[0m\u001b[1;33m\u001b[0m\u001b[1;33m\u001b[0m\u001b[0m\n\u001b[0m\u001b[0;32m    392\u001b[0m         \u001b[0mself\u001b[0m\u001b[1;33m.\u001b[0m\u001b[0mlabels_\u001b[0m \u001b[1;33m=\u001b[0m \u001b[0mlabels\u001b[0m\u001b[1;33m\u001b[0m\u001b[1;33m\u001b[0m\u001b[0m\n\u001b[0;32m    393\u001b[0m \u001b[1;33m\u001b[0m\u001b[0m\n",
      "\u001b[1;31mKeyboardInterrupt\u001b[0m: "
     ]
    }
   ],
   "source": [
    "aggregated_Labeling_map = []\n",
    "for i in tqdm(range(aggregated_map.shape[0])):\n",
    "    Td_map = aggregated_map[i]\n",
    "    Foreground_map = (~(np.abs(Td_map - thred_map) <= 1.5))&(Td_map > 0)\n",
    "    Labeling_map = db.fit_predict(Td_map= Td_map,Foreground_map=Foreground_map)\n",
    "    aggregated_Labeling_map.append(Labeling_map)\n",
    "aggregated_Labeling_map = np.array(aggregated_Labeling_map)\n",
    "points = []\n",
    "occupancies = []\n",
    "row_ind = []\n",
    "col_ind = []\n",
    "for i in tqdm(range(32)):\n",
    "    for j in range(1800):\n",
    "        foreground_ind = aggregated_Labeling_map[:,i,j] != -1\n",
    "        if foreground_ind.any(): # foreground\n",
    "            dis_values = aggregated_map[foreground_ind,i,j]\n",
    "            labels = dbscan.fit_predict(dis_values.reshape(-1,1))\n",
    "            unique_labels = np.unique(labels)\n",
    "            unique_labels = unique_labels[1:]\n",
    "            if len(unique_labels) >= 1: \n",
    "                for l in unique_labels:\n",
    "                    dis = np.mean(dis_values[labels == l])\n",
    "                    XYZ = gen_xyz(dis,i,j)\n",
    "                    points.append(XYZ)\n",
    "                    occupancy = (labels == l).sum()/len(foreground_ind)\n",
    "                    occupancies.append(occupancy)\n",
    "                    row_ind.append(i)\n",
    "                    col_ind.append(j)\n",
    "points = np.array(points)\n",
    "occupancies = np.array(occupancies)\n",
    "col_ind = np.array(col_ind)\n",
    "row_ind = np.array(row_ind)\n",
    "pcd = get_pcd_uncolored(aggregated_map[1354])\n",
    "plane_model, inliers = pcd.segment_plane(distance_threshold=0.3,\n",
    "                                         ransac_n=10,\n",
    "                                         num_iterations=1000)\n",
    "height = np.abs(plane_model[0] * points[:,0] + plane_model[1] * points[:,1] + plane_model[2] * points[:,2] + plane_model[3]) / (np.sqrt(plane_model[0]**2 + plane_model[1]**2 +plane_model[2]**2))\n",
    "input_path = r'D:\\LiDAR_Data\\MidTown\\Larue\\Calibration'\n",
    "ref_LLH_path,ref_xyz_path = os.path.join(input_path,'LLE_ref.csv'),os.path.join(input_path,'xyz_ref.csv')\n",
    "ref_LLH,ref_xyz = np.array(pd.read_csv(ref_LLH_path)),np.array(pd.read_csv(ref_xyz_path))\n",
    "if len(np.unique(ref_xyz[:,2])) == 1:\n",
    "    np.random.seed(1)\n",
    "    offset = np.random.normal(-0.521,3.28,len(ref_LLH))\n",
    "    ref_xyz[:,2] += offset\n",
    "    ref_LLH[:,2] += offset * 3.2808\n",
    "ref_LLH[:,[0,1]] = ref_LLH[:,[0,1]] * np.pi/180\n",
    "ref_LLH[:,2] = ref_LLH[:,2]/3.2808\n",
    "\n",
    "T = generate_T(ref_LLH,ref_xyz)\n",
    "LLH = convert_LLH(points.astype(np.float64),T)\n",
    "resultGram = pd.DataFrame(np.concatenate([points,LLH,occupancies.reshape(-1,1),height.reshape(-1,1),row_ind.reshape(-1,1),col_ind.reshape(-1,1)],axis =1 ),columns=['X','Y','Z','Longitude','Latitude','Elevation','Occupancy','Height','LaserID','AzimuthID'])\n",
    "resultGram.to_csv(r'D:\\LiDAR_Data\\MidTown\\Larue\\occ.csv',index = False)"
   ]
  },
  {
   "cell_type": "code",
   "execution_count": null,
   "id": "15ad7f07",
   "metadata": {},
   "outputs": [],
   "source": []
  },
  {
   "cell_type": "code",
   "execution_count": 12,
   "id": "459df29e",
   "metadata": {},
   "outputs": [
    {
     "name": "stderr",
     "output_type": "stream",
     "text": [
      "100%|██████████████████████████████████████████████████████████████████████████████████| 32/32 [00:00<00:00, 93.06it/s]\n"
     ]
    }
   ],
   "source": [
    "temp = aggregated_map[12]\n",
    "points = []\n",
    "occupancies = []\n",
    "row_ind = []\n",
    "col_ind = []\n",
    "for i in tqdm(range(32)):\n",
    "    for j in range(1800):\n",
    "        dis = temp[i,j]\n",
    "        XYZ = gen_xyz(dis,i,j)\n",
    "        points.append(XYZ)\n",
    "        row_ind.append(i)\n",
    "        col_ind.append(j)\n",
    "points = np.array(points)\n",
    "row_ind = np.array(row_ind)\n",
    "col_ind = np.array(col_ind)\n",
    "input_path = r'D:\\LiDAR_Data\\MidTown\\Larue\\Calibration'\n",
    "ref_LLH_path,ref_xyz_path = os.path.join(input_path,'LLE_ref.csv'),os.path.join(input_path,'xyz_ref.csv')\n",
    "ref_LLH,ref_xyz = np.array(pd.read_csv(ref_LLH_path)),np.array(pd.read_csv(ref_xyz_path))\n",
    "if len(np.unique(ref_xyz[:,2])) == 1:\n",
    "    np.random.seed(1)\n",
    "    offset = np.random.normal(-0.521,3.28,len(ref_LLH))\n",
    "    ref_xyz[:,2] += offset\n",
    "    ref_LLH[:,2] += offset * 3.2808\n",
    "ref_LLH[:,[0,1]] = ref_LLH[:,[0,1]] * np.pi/180\n",
    "ref_LLH[:,2] = ref_LLH[:,2]/3.2808\n",
    "\n",
    "T = generate_T(ref_LLH,ref_xyz)\n",
    "LLH = convert_LLH(points.astype(np.float64),T)\n",
    "resultGram = pd.DataFrame(np.concatenate([points,LLH,row_ind.reshape(-1,1),col_ind.reshape(-1,1)],axis =1 ),columns=['X','Y','Z','Longitude','Latitude','Elevation','LaserID','AzimuthID'])\n",
    "resultGram.to_csv(r'D:\\LiDAR_Data\\MidTown\\Larue\\reference.csv',index = False)"
   ]
  },
  {
   "cell_type": "code",
   "execution_count": 56,
   "id": "bb8c4440",
   "metadata": {
    "collapsed": true
   },
   "outputs": [
    {
     "data": {
      "application/vnd.jupyter.widget-view+json": {
       "model_id": "96e23cb97cc749f8bb991cd99572873e",
       "version_major": 2,
       "version_minor": 0
      },
      "text/plain": [
       "WebVisualizer(window_uid='window_17')"
      ]
     },
     "metadata": {},
     "output_type": "display_data"
    }
   ],
   "source": [
    "temp = aggregated_map[12].copy()\n",
    "label_map = np.zeros_like(temp)\n",
    "label_map[11:12,1340:1343] = 1\n",
    "pcd = get_pcd_colored(temp,label_map.astype(int))\n",
    "draw(pcd,height=1000,width=1000)"
   ]
  },
  {
   "cell_type": "code",
   "execution_count": 32,
   "id": "a12aeb65",
   "metadata": {},
   "outputs": [],
   "source": [
    "thred_map = thred_map.max(axis = 0)"
   ]
  },
  {
   "cell_type": "code",
   "execution_count": 35,
   "id": "a0a11c32",
   "metadata": {
    "collapsed": true
   },
   "outputs": [
    {
     "data": {
      "application/vnd.jupyter.widget-view+json": {
       "model_id": "44e81a7702d84ef5ab18839d67402bcd",
       "version_major": 2,
       "version_minor": 0
      },
      "text/plain": [
       "WebVisualizer(window_uid='window_4')"
      ]
     },
     "metadata": {},
     "output_type": "display_data"
    }
   ],
   "source": [
    "Td_map = aggregated_map[2]\n",
    "Foreground_map = (~(np.abs(Td_map - thred_map) <= 1))&(Td_map > 0)\n",
    "pcd = get_pcd_colored(Td_map,Foreground_map.astype('int'))\n",
    "draw(pcd)"
   ]
  },
  {
   "cell_type": "code",
   "execution_count": 64,
   "id": "92fc94b4",
   "metadata": {},
   "outputs": [
    {
     "name": "stdout",
     "output_type": "stream",
     "text": [
      "0.0\n",
      "1344\n"
     ]
    },
    {
     "data": {
      "image/png": "[encoded data removed]",
      "text/plain": [
       "<Figure size 720x360 with 1 Axes>"
      ]
     },
     "metadata": {
      "needs_background": "light"
     },
     "output_type": "display_data"
    }
   ],
   "source": [
    "laser_id = 11\n",
    "azimuth_channel = 1344\n",
    "print(aggregated_map[-4,laser_id,azimuth_channel])\n",
    "print(azimuth_channel)\n",
    "temp = aggregated_maps[:,laser_id,azimuth_channel].copy()\n",
    "plt.figure(figsize=(10,5))\n",
    "plt.scatter(np.arange(len(temp)),temp,s = 20, marker = 'x', label = \"Laser Traveling Distance\", c = 'gray')\n",
    "thred = thred_map[:,laser_id,azimuth_channel]\n",
    "for i in range(len(thred)):\n",
    "    plt.hlines(thred[i],0,aggregated_maps.shape[0],color = 'r')\n",
    "plt.yticks(fontsize = 20)\n",
    "plt.xticks(fontsize = 20)\n",
    "plt.ylabel('Distance (m)',fontsize = 25, fontweight = 'bold')\n",
    "plt.xlabel('Time (0.1sec)',fontsize = 25, fontweight = 'bold')\n",
    "plt.tight_layout()\n",
    "plt.ylim(0,36)\n",
    "\n",
    "# plt.xlim(2000,2400)\n",
    "# plt.savefig(r'C:\\Users\\zhChe\\OneDrive - nevada.unr.edu\\ITSmanuscript\\Figs\\parameterdefinition.tif', dpi = 600)\n",
    "plt.show()"
   ]
  },
  {
   "cell_type": "markdown",
   "id": "773b8d66",
   "metadata": {},
   "source": [
    "# create dataset"
   ]
  },
  {
   "cell_type": "code",
   "execution_count": 1,
   "id": "a7e9d4e3",
   "metadata": {},
   "outputs": [
    {
     "name": "stdout",
     "output_type": "stream",
     "text": [
      "Jupyter environment detected. Enabling Open3D WebVisualizer.\n",
      "[Open3D INFO] WebRTC GUI backend enabled.\n",
      "[Open3D INFO] WebRTCWindowSystem: HTTP handshake server disabled.\n",
      "[Open3D INFO] Resetting default logger to print to terminal.\n"
     ]
    }
   ],
   "source": [
    "import matplotlib.pyplot as plt\n",
    "from matplotlib import image\n",
    "from scipy.spatial.distance import cdist\n",
    "import numpy as np\n",
    "import pandas as pd\n",
    "import cv2\n",
    "import os\n",
    "from BfTableGenerator import TDmapLoader\n",
    "from tqdm import tqdm\n",
    "from Utils import *\n",
    "from open3d.web_visualizer import draw\n",
    "from joblib import Parallel, delayed\n",
    "from VisulizerTools import *\n",
    "from DDBSCAN import Raster_DBSCAN\n",
    "from sklearn.cluster import DBSCAN\n",
    "import time\n",
    "plt.rcParams[\"font.family\"] = \"Times New Roman\"\n",
    "from GeoRefTool import *\n",
    "import numpy as np\n",
    "from matplotlib import pyplot as plt\n",
    "from skimage.color import rgb2gray\n",
    "from skimage.data import stereo_motorcycle, vortex\n",
    "from skimage.transform import warp\n",
    "from skimage.registration import optical_flow_tvl1, optical_flow_ilk\n"
   ]
  },
  {
   "cell_type": "code",
   "execution_count": 2,
   "id": "e89537b4",
   "metadata": {
    "scrolled": true
   },
   "outputs": [
    {
     "name": "stderr",
     "output_type": "stream",
     "text": [
      "100%|████████████████████████████████████████████████████████████████████████████| 18000/18000 [11:33<00:00, 25.96it/s]\n"
     ]
    }
   ],
   "source": [
    "aggregated_map = []\n",
    "Inten_maps = []\n",
    "pcap_path = r'D:\\LiDAR_Data\\MidTown\\Larue\\PaperPcaps\\2022-1-22-13-0-0.pcap'\n",
    "end_frame = 18000\n",
    "lidar_reader = TDmapLoader(pcap_path)\n",
    "frame_gen = lidar_reader.frame_gen()\n",
    "for i in tqdm(range(end_frame)):\n",
    "    Frame = next(frame_gen)\n",
    "    if Frame is None:\n",
    "        break \n",
    "    Td_map,Int_map = Frame\n",
    "    aggregated_map.append(Td_map)\n",
    "    Inten_maps.append(Int_map)\n",
    "aggregated_map = np.array(aggregated_map)\n",
    "Inten_maps = np.array(Inten_maps)"
   ]
  },
  {
   "cell_type": "code",
   "execution_count": 4,
   "id": "407d594a",
   "metadata": {},
   "outputs": [],
   "source": [
    "for i in range(len(aggregated_map)):\n",
    "    a = np.random.rand()\n",
    "    if a < 0.3:\n",
    "        pcd = get_pcd_uncolored(aggregated_map[i])\n",
    "        op3.io.write_point_cloud(r'D:\\LiDAR_Data\\MidTown\\Larue\\test\\pcds\\{}'.format(f\"{i:06d}.pcd\"),pcd)"
   ]
  },
  {
   "cell_type": "code",
   "execution_count": 3,
   "id": "206b87d4",
   "metadata": {},
   "outputs": [],
   "source": [
    "pcd = get_pcd_uncolored(aggregated_map[-1])\n",
    "points = np.asarray(pcd.points)"
   ]
  },
  {
   "cell_type": "code",
   "execution_count": 3,
   "id": "52e39cd5",
   "metadata": {},
   "outputs": [
    {
     "data": {
      "application/vnd.jupyter.widget-view+json": {
       "model_id": "0b4a468fe12a47b19cd47e7a3ef77375",
       "version_major": 2,
       "version_minor": 0
      },
      "text/plain": [
       "WebVisualizer(window_uid='window_0')"
      ]
     },
     "metadata": {},
     "output_type": "display_data"
    }
   ],
   "source": [
    "pcd = get_pcd_uncolored(aggregated_map[14600])\n",
    "draw(pcd,width=1000,height=1000)"
   ]
  },
  {
   "cell_type": "code",
   "execution_count": 51,
   "id": "4f31fd08",
   "metadata": {},
   "outputs": [],
   "source": [
    "list_dir = os.listdir(r'D:\\LiDAR_Data\\MidTown\\Larue\\test\\2022-1-22-13-0-0')\n",
    "valid_points = [pd.read_csv(os.path.join(r'D:\\LiDAR_Data\\MidTown\\Larue\\test\\2022-1-22-13-0-0',list_dir[i])) for i in range(len(list_dir)) ]"
   ]
  },
  {
   "cell_type": "code",
   "execution_count": 84,
   "id": "e26f9e55",
   "metadata": {},
   "outputs": [],
   "source": [
    "sample_point = np.array(valid_points[0].loc[:,['Points_m_XYZ:0','Points_m_XYZ:1','Points_m_XYZ:2']])"
   ]
  },
  {
   "cell_type": "code",
   "execution_count": 7,
   "id": "0520e22d",
   "metadata": {},
   "outputs": [],
   "source": [
    "pcd = get_pcd_uncolored(aggregated_map[0])\n",
    "points = np.asarray(pcd.points)"
   ]
  },
  {
   "cell_type": "code",
   "execution_count": 8,
   "id": "dbc934aa",
   "metadata": {},
   "outputs": [],
   "source": [
    "points = points[(~((points == 0).all(axis = 1)))]"
   ]
  },
  {
   "cell_type": "code",
   "execution_count": 9,
   "id": "5bbd2691",
   "metadata": {},
   "outputs": [
    {
     "data": {
      "text/plain": [
       "42080"
      ]
     },
     "execution_count": 9,
     "metadata": {},
     "output_type": "execute_result"
    }
   ],
   "source": [
    "len(points)"
   ]
  },
  {
   "cell_type": "code",
   "execution_count": 63,
   "id": "0784edcf",
   "metadata": {},
   "outputs": [],
   "source": [
    "def read_firing_data(data):\n",
    "    block_id = data[0] + data[1]*256\n",
    "    azimuth = (data[2] + data[3] * 256) / 100 # degree\n",
    "    firings = data[4:].reshape(32, 3) \n",
    "    distances = firings[:, 0] + firings[:, 1] * 256 # mm \n",
    "    intensities = firings[:, 2] # 0-255\n",
    "    return distances, intensities, azimuth #(1,0)"
   ]
  },
  {
   "cell_type": "code",
   "execution_count": 64,
   "id": "9b065b20",
   "metadata": {},
   "outputs": [],
   "source": [
    "def read_uint32(data, idx):\n",
    "    return data[idx] + data[idx+1]*256 + data[idx+2]*256*256 + data[idx+3]*256*256*256"
   ]
  },
  {
   "cell_type": "code",
   "execution_count": 65,
   "id": "56c6ad36",
   "metadata": {},
   "outputs": [],
   "source": [
    "def parse_one_packet(data):\n",
    "    data = np.frombuffer(data, dtype=np.uint8).astype(np.uint32)\n",
    "    blocks = data[0:1200].reshape(12, 100)\n",
    "    Timestamp = read_uint32(data[1200:1204],0)\n",
    "    distances = []#12*32\n",
    "    intensities = []#12*32\n",
    "    azimuth_per_block = [] #(12,0)\n",
    "    # iteratie through each block\n",
    "    for i, blk in enumerate(blocks):\n",
    "        dists, intens, angles = read_firing_data(blk)\n",
    "        distances.append(dists) #12*32\n",
    "        intensities.append(intens) #12*32\n",
    "        azimuth_per_block.append(angles)\n",
    "\n",
    "    azimuth_per_block = np.array(azimuth_per_block).T\n",
    "    distances = 4/1000*np.array(distances).T # 32,12\n",
    "    intensities = np.array(intensities).T # 32,12\n",
    "\n",
    "    return distances,intensities, azimuth_per_block, Timestamp # 12*0"
   ]
  },
  {
   "cell_type": "code",
   "execution_count": 67,
   "id": "fd872688",
   "metadata": {},
   "outputs": [],
   "source": [
    "fpcap = open(r'D:\\LiDAR_Data\\MidTown\\Larue\\PaperPcaps\\2022-1-22-13-0-0.pcap', 'rb')\n",
    "lidar_reader = dpkt.pcap.Reader(fpcap)"
   ]
  },
  {
   "cell_type": "code",
   "execution_count": 68,
   "id": "3b74387a",
   "metadata": {},
   "outputs": [],
   "source": [
    "count = 0\n",
    "packets = []\n",
    "while count < 5000:\n",
    "    ts,buf = next(lidar_reader)\n",
    "    eth = dpkt.ethernet.Ethernet(buf)\n",
    "    if eth.type == 2048:\n",
    "        if type(eth.data.data) == dpkt.udp.UDP:\n",
    "            data = eth.data.data.data\n",
    "            packet_status = eth.data.data.sport\n",
    "            if packet_status == 2368:\n",
    "                count +=1\n",
    "                if len(data) != 1206:\n",
    "                    \n",
    "                    continue\n",
    "                \"\"\"\n",
    "                distances : (32,12)\n",
    "                intensities : (32,12)\n",
    "                azimuth_per_block : (12,0)\n",
    "                \"\"\"\n",
    "                distances,intensities,azimuth_per_block,Timestamp = parse_one_packet(data)\n",
    "                packets.append((distances,intensities,azimuth_per_block,Timestamp))"
   ]
  },
  {
   "cell_type": "markdown",
   "id": "c906187b",
   "metadata": {},
   "source": [
    "## Parking Analysis"
   ]
  },
  {
   "cell_type": "code",
   "execution_count": 36,
   "id": "21a06ccb",
   "metadata": {},
   "outputs": [],
   "source": [
    "Parking_coord_1 = pd.read_csv(r'D:\\LiDAR_Data\\MidTown\\Larue\\Parking1.csv')\n",
    "Parking_coord_2 = pd.read_csv(r'D:\\LiDAR_Data\\MidTown\\Larue\\Parking2.csv')\n",
    "Parking_coord_3 = pd.read_csv(r'D:\\LiDAR_Data\\MidTown\\Larue\\Parking3.csv')"
   ]
  },
  {
   "cell_type": "code",
   "execution_count": 71,
   "id": "98051a33",
   "metadata": {},
   "outputs": [],
   "source": [
    "laser_coords_1 = np.array(Parking_coord_1.loc[:,['LaserID','AzimuthID']]).astype('int')\n",
    "laser_coords_2 = np.array(Parking_coord_2.loc[:,['LaserID','AzimuthID']]).astype('int')\n",
    "laser_coords_3 = np.array(Parking_coord_3.loc[:,['LaserID','AzimuthID']]).astype('int')\n"
   ]
  },
  {
   "cell_type": "code",
   "execution_count": 55,
   "id": "89d8f865",
   "metadata": {},
   "outputs": [],
   "source": [
    "f_path = r'C:\\Users\\zhChe\\OneDrive - nevada.unr.edu\\2023TRB\\DATA\\Larue22'\n",
    "parking_event_list = os.listdir(f_path)\n",
    "time = []\n",
    "for p in parking_event_list:\n",
    "    t = p.split('.')[0]\n",
    "    Year,Month,Day,Hour,Minitue,Second = np.array(t.split('-')).astype('int')\n",
    "    time.append(pd.Timestamp(Year,Month,Day,Hour,Minitue,Second))\n",
    "ts_ind = pd.Series(time).argsort().values\n",
    "ts = pd.Series(time).sort_values()\n",
    "parking_event_list = np.array(parking_event_list)[pd.Series(time).argsort().values]"
   ]
  },
  {
   "cell_type": "code",
   "execution_count": null,
   "id": "47554265",
   "metadata": {},
   "outputs": [],
   "source": []
  },
  {
   "cell_type": "code",
   "execution_count": 61,
   "id": "89ad9a0b",
   "metadata": {
    "scrolled": false
   },
   "outputs": [],
   "source": [
    "test = pd.read_csv(os.path.join(f_path,parking_event_list[4]))"
   ]
  },
  {
   "cell_type": "code",
   "execution_count": 78,
   "id": "b15f5d14",
   "metadata": {},
   "outputs": [
    {
     "data": {
      "text/html": [
       "<div>\n",
       "<style scoped>\n",
       "    .dataframe tbody tr th:only-of-type {\n",
       "        vertical-align: middle;\n",
       "    }\n",
       "\n",
       "    .dataframe tbody tr th {\n",
       "        vertical-align: top;\n",
       "    }\n",
       "\n",
       "    .dataframe thead th {\n",
       "        text-align: right;\n",
       "    }\n",
       "</style>\n",
       "<table border=\"1\" class=\"dataframe\">\n",
       "  <thead>\n",
       "    <tr style=\"text-align: right;\">\n",
       "      <th></th>\n",
       "      <th>X</th>\n",
       "      <th>Y</th>\n",
       "      <th>Z</th>\n",
       "      <th>Longitude</th>\n",
       "      <th>Latitude</th>\n",
       "      <th>Elevation</th>\n",
       "      <th>Height</th>\n",
       "      <th>Occupancy</th>\n",
       "      <th>LaserID</th>\n",
       "      <th>AzimuthID</th>\n",
       "    </tr>\n",
       "  </thead>\n",
       "  <tbody>\n",
       "    <tr>\n",
       "      <th>3051</th>\n",
       "      <td>32.301941</td>\n",
       "      <td>-12.012984</td>\n",
       "      <td>0.200302</td>\n",
       "      <td>-119.808016</td>\n",
       "      <td>39.516684</td>\n",
       "      <td>1318.012722</td>\n",
       "      <td>0.176143</td>\n",
       "      <td>17652.0</td>\n",
       "      <td>21.0</td>\n",
       "      <td>552.0</td>\n",
       "    </tr>\n",
       "  </tbody>\n",
       "</table>\n",
       "</div>"
      ],
      "text/plain": [
       "              X          Y         Z   Longitude   Latitude    Elevation  \\\n",
       "3051  32.301941 -12.012984  0.200302 -119.808016  39.516684  1318.012722   \n",
       "\n",
       "        Height  Occupancy  LaserID  AzimuthID  \n",
       "3051  0.176143    17652.0     21.0      552.0  "
      ]
     },
     "execution_count": 78,
     "metadata": {},
     "output_type": "execute_result"
    }
   ],
   "source": [
    "test_table"
   ]
  },
  {
   "cell_type": "code",
   "execution_count": 77,
   "id": "18180c72",
   "metadata": {},
   "outputs": [
    {
     "name": "stdout",
     "output_type": "stream",
     "text": [
      "             X          Y         Z   Longitude   Latitude   Elevation  \\\n",
      "840  32.298404 -12.140172 -1.808312 -119.807971  39.516712  1318.01251   \n",
      "\n",
      "       Height  Occupancy  LaserID  AzimuthID  \n",
      "840  2.185598    12781.0     11.0      553.0  \n",
      "              X          Y         Z  Longitude   Latitude    Elevation  \\\n",
      "1000  31.994108 -11.898502 -1.590062 -119.80798  39.516708  1318.012528   \n",
      "\n",
      "        Height  Occupancy  LaserID  AzimuthID  \n",
      "1000  1.962816    14931.0     12.0      552.0  \n",
      "              X          Y         Z  Longitude   Latitude    Elevation  \\\n",
      "1001  41.143019 -16.456033 -2.064121 -119.80787  39.516763  1318.012626   \n",
      "\n",
      "        Height  Occupancy  LaserID  AzimuthID  \n",
      "1001  2.552031    12947.0     12.0      559.0  \n",
      "              X          Y         Z   Longitude   Latitude    Elevation  \\\n",
      "1163  31.665110 -11.776149 -1.376395 -119.807987  39.516703  1318.012546   \n",
      "1164  32.062188 -11.923821 -1.393654 -119.807983  39.516706  1318.012550   \n",
      "\n",
      "        Height  Occupancy  LaserID  AzimuthID  \n",
      "1163  1.745351    13679.0     13.0      552.0  \n",
      "1164  1.767211    16317.0     13.0      552.0  \n",
      "              X         Y        Z   Longitude   Latitude    Elevation  \\\n",
      "1165  32.173758 -12.09332 -1.40033 -119.807981  39.516706  1318.012551   \n",
      "\n",
      "        Height  Occupancy  LaserID  AzimuthID  \n",
      "1165  1.776196    14515.0     13.0      553.0  \n",
      "              X          Y       Z   Longitude   Latitude    Elevation  \\\n",
      "1362  32.057998 -11.922263 -1.1944 -119.807988  39.516703  1318.012571   \n",
      "\n",
      "        Height  Occupancy  LaserID  AzimuthID  \n",
      "1362  1.567922    17811.0     14.0      552.0  \n",
      "              X          Y         Z   Longitude   Latitude    Elevation  \\\n",
      "1363  32.132187 -12.077695 -1.198728 -119.807985  39.516703  1318.012572   \n",
      "\n",
      "        Height  Occupancy  LaserID  AzimuthID  \n",
      "1363  1.574124    15284.0     14.0      553.0  \n",
      "              X         Y        Z   Longitude   Latitude    Elevation  \\\n",
      "1573  31.459982 -11.57502 -0.97558 -119.807999  39.516697  1318.012585   \n",
      "\n",
      "        Height  Occupancy  LaserID  AzimuthID  \n",
      "1573  1.341196    17829.0     15.0      551.0  \n",
      "              X          Y         Z   Longitude  Latitude    Elevation  \\\n",
      "1574  32.015245 -11.906363 -0.994082 -119.807992   39.5167  1318.012591   \n",
      "\n",
      "        Height  Occupancy  LaserID  AzimuthID  \n",
      "1574  1.367122    17826.0     15.0      552.0  \n",
      "              X          Y         Z   Longitude   Latitude    Elevation  \\\n",
      "1575  32.415122 -12.184043 -1.007812 -119.807987  39.516702  1318.012596   \n",
      "\n",
      "       Height  Occupancy  LaserID  AzimuthID  \n",
      "1575  1.38651    17824.0     15.0      553.0  \n",
      "              X          Y         Z   Longitude   Latitude    Elevation  \\\n",
      "1576  32.432198 -12.319836 -1.009674 -119.807985  39.516701  1318.012596   \n",
      "\n",
      "        Height  Occupancy  LaserID  AzimuthID  \n",
      "1576  1.389597     2962.0     15.0      554.0  \n",
      "              X          Y         Z  Longitude  Latitude   Elevation  \\\n",
      "1577  61.893189 -24.505247 -1.937313 -119.80767  39.51688  1318.01302   \n",
      "\n",
      "        Height  Occupancy  LaserID  AzimuthID  \n",
      "1577  2.668325     4524.0     15.0      558.0  \n",
      "              X          Y        Z   Longitude  Latitude    Elevation  \\\n",
      "1844  64.885306 -26.215365 -1.62842 -119.807642  39.51689  1318.013112   \n",
      "\n",
      "        Height  Occupancy  LaserID  AzimuthID  \n",
      "1844  2.398868     2866.0     16.0      560.0  \n",
      "              X          Y         Z   Longitude   Latitude    Elevation  \\\n",
      "1845  64.991178 -27.053216 -1.638097 -119.807633  39.516887  1318.013118   \n",
      "\n",
      "        Height  Occupancy  LaserID  AzimuthID  \n",
      "1845  2.416111     4466.0     16.0      563.0  \n",
      "              X          Y         Z  Longitude   Latitude    Elevation  \\\n",
      "2112  65.150253 -27.119433 -1.231791 -119.80764  39.516882  1318.013158   \n",
      "\n",
      "        Height  Occupancy  LaserID  AzimuthID  \n",
      "2112  2.011732    12867.0     17.0      563.0  \n",
      "              X          Y         Z   Longitude   Latitude    Elevation  \\\n",
      "2358  33.505447 -12.995906 -0.418381 -119.807985  39.516697  1318.012675   \n",
      "\n",
      "        Height  Occupancy  LaserID  AzimuthID  \n",
      "2358  0.812979    12275.0     18.0      556.0  \n",
      "              X          Y         Z   Longitude   Latitude    Elevation  \\\n",
      "2358  33.505447 -12.995906 -0.418381 -119.807985  39.516697  1318.012675   \n",
      "\n",
      "        Height  Occupancy  LaserID  AzimuthID  \n",
      "2358  0.812979    12275.0     18.0      556.0  \n",
      "              X          Y         Z   Longitude   Latitude    Elevation  \\\n",
      "2358  33.505447 -12.995906 -0.418381 -119.807985  39.516697  1318.012675   \n",
      "\n",
      "        Height  Occupancy  LaserID  AzimuthID  \n",
      "2358  0.812979    12275.0     18.0      556.0  \n",
      "              X          Y         Z   Longitude   Latitude    Elevation  \\\n",
      "2617  31.460378 -11.450641 -0.194583 -119.808018  39.516686  1318.012667   \n",
      "\n",
      "        Height  Occupancy  LaserID  AzimuthID  \n",
      "2617  0.559269    17816.0     19.0      550.0  \n",
      "              X          Y         Z   Longitude   Latitude    Elevation  \\\n",
      "2618  31.848161 -11.717842 -0.197233 -119.808013  39.516688  1318.012673   \n",
      "\n",
      "        Height  Occupancy  LaserID  AzimuthID  \n",
      "2618  0.567389    17839.0     19.0      551.0  \n",
      "              X          Y    Z   Longitude   Latitude    Elevation    Height  \\\n",
      "2834  31.532326 -11.476828  0.0 -119.808021  39.516684  1318.012689  0.365528   \n",
      "\n",
      "      Occupancy  LaserID  AzimuthID  \n",
      "2834    17689.0     20.0      550.0  \n",
      "              X          Y    Z   Longitude   Latitude    Elevation  Height  \\\n",
      "2836  32.152521 -11.957416  0.0 -119.808013  39.516686  1318.012698  0.3747   \n",
      "\n",
      "      Occupancy  LaserID  AzimuthID  \n",
      "2836    17514.0     20.0      552.0  \n",
      "              X          Y         Z   Longitude   Latitude    Elevation  \\\n",
      "3051  32.301941 -12.012984  0.200302 -119.808016  39.516684  1318.012722   \n",
      "\n",
      "        Height  Occupancy  LaserID  AzimuthID  \n",
      "3051  0.176143    17652.0     21.0      552.0  \n"
     ]
    }
   ],
   "source": [
    "for c in laser_coords_3:\n",
    "    test_table = test.loc[(test.LaserID == c[0])&(test.AzimuthID == c[1])]\n",
    "    start = test_table\n",
    "    if len(test_table) >0 :\n",
    "        print(test_table)"
   ]
  }
 ],
 "metadata": {
  "kernelspec": {
   "display_name": "Python 3 (ipykernel)",
   "language": "python",
   "name": "python3"
  },
  "language_info": {
   "codemirror_mode": {
    "name": "ipython",
    "version": 3
   },
   "file_extension": ".py",
   "mimetype": "text/x-python",
   "name": "python",
   "nbconvert_exporter": "python",
   "pygments_lexer": "ipython3",
   "version": "3.8.12"
  }
 },
 "nbformat": 4,
 "nbformat_minor": 5
}
