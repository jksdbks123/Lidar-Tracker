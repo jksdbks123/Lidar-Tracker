{
 "cells": [
  {
   "cell_type": "code",
   "execution_count": 1,
   "id": "f1815e80",
   "metadata": {},
   "outputs": [
    {
     "name": "stdout",
     "output_type": "stream",
     "text": [
      "Jupyter environment detected. Enabling Open3D WebVisualizer.\n",
      "[Open3D INFO] WebRTC GUI backend enabled.\n",
      "[Open3D INFO] WebRTCWindowSystem: HTTP handshake server disabled.\n",
      "[Open3D INFO] Resetting default logger to print to terminal.\n"
     ]
    }
   ],
   "source": [
    "import matplotlib.pyplot as plt\n",
    "from matplotlib import image\n",
    "from scipy.spatial.distance import cdist\n",
    "import numpy as np\n",
    "import pandas as pd\n",
    "import cv2\n",
    "import os\n",
    "from BfTableGenerator import TDmapLoader\n",
    "from tqdm import tqdm\n",
    "from Utils import *\n",
    "from open3d.web_visualizer import draw\n",
    "from VisulizerTools import *\n",
    "from DDBSCAN import Raster_DBSCAN\n",
    "import threading\n",
    "\n",
    "import time\n",
    "plt.rcParams[\"font.family\"] = \"Times New Roman\""
   ]
  },
  {
   "cell_type": "code",
   "execution_count": 2,
   "id": "80c772fb",
   "metadata": {},
   "outputs": [
    {
     "name": "stderr",
     "output_type": "stream",
     "text": [
      "100%|██████████████████████████████████████████████████████████████████████████████| 2000/2000 [01:11<00:00, 27.94it/s]\n"
     ]
    }
   ],
   "source": [
    "aggregated_map = []\n",
    "Inten_maps = []\n",
    "pcap_path = r'D:\\LiDAR_Data\\MidTown\\Roundabout\\2022-1-19-14-30-0.pcap'\n",
    "end_frame = 2000\n",
    "lidar_reader = TDmapLoader(pcap_path)\n",
    "frame_gen = lidar_reader.frame_gen()\n",
    "for i in tqdm(range(end_frame)):\n",
    "    Frame = next(frame_gen)\n",
    "    if Frame is None:\n",
    "        break \n",
    "    Td_map,Int_map = Frame\n",
    "    aggregated_map.append(Td_map)\n",
    "    Inten_maps.append(Int_map)\n",
    "aggregated_map = np.array(aggregated_map)\n",
    "Inten_maps = np.array(Inten_maps)"
   ]
  },
  {
   "cell_type": "code",
   "execution_count": 3,
   "id": "be1d2df3",
   "metadata": {},
   "outputs": [],
   "source": [
    "def get_thred(temp,N = 20,d_thred = 0.1,d = 0.3,bck_n = 3):\n",
    "    temp = temp.copy()\n",
    "    total_sample = len(temp)\n",
    "    bck_ds = []\n",
    "    bck_portions = []\n",
    "    repeat = 0\n",
    "    while repeat < N:\n",
    "        if len(temp) == 0:\n",
    "            break\n",
    "        sample = np.random.choice(temp,replace=False)\n",
    "        ind = np.abs(temp - sample) < d\n",
    "        portion = ind.sum()/total_sample\n",
    "        if portion > d_thred:\n",
    "            bck_portions.append(portion)\n",
    "            bck_ds.append(sample)\n",
    "            temp = temp[~ind]\n",
    "        repeat += 1\n",
    "    bck_ds = np.array(bck_ds)\n",
    "    bck_portions = np.array(bck_portions)\n",
    "    arg_ind = np.argsort(bck_portions)[::-1]\n",
    "    bck_ds_ = bck_ds[arg_ind[:bck_n]]\n",
    "    if len(bck_ds_) < bck_n:\n",
    "        bck_ds_ = np.concatenate([bck_ds_,-d * np.ones(bck_n - len(bck_ds_))])\n",
    "    return bck_ds_"
   ]
  },
  {
   "cell_type": "code",
   "execution_count": 4,
   "id": "330a7645",
   "metadata": {},
   "outputs": [],
   "source": [
    "def gen_bckmap(aggregated_maps):\n",
    "    thred_map = np.zeros((3,32,1800))\n",
    "    with tqdm(total=32*1800) as pbar:\n",
    "        for i in range(thred_map.shape[1]):\n",
    "            for j in range(thred_map.shape[2]):\n",
    "                thred_map[:,i,j] = get_thred(aggregated_map[:,i,j])\n",
    "#                 print(i,j)\n",
    "                pbar.update(1)\n",
    "    return thred_map"
   ]
  },
  {
   "cell_type": "code",
   "execution_count": 5,
   "id": "a6cf039e",
   "metadata": {},
   "outputs": [
    {
     "name": "stderr",
     "output_type": "stream",
     "text": [
      "100%|██████████████████████████████████████████████████████████████████████████| 57600/57600 [00:12<00:00, 4434.76it/s]\n"
     ]
    },
    {
     "data": {
      "text/plain": [
       "12.990261793136597"
      ]
     },
     "execution_count": 5,
     "metadata": {},
     "output_type": "execute_result"
    }
   ],
   "source": [
    "a = time.time()\n",
    "thred_map = gen_bckmap(aggregated_map)\n",
    "time.time() - a"
   ]
  },
  {
   "cell_type": "code",
   "execution_count": 31,
   "id": "bdda7796",
   "metadata": {},
   "outputs": [
    {
     "data": {
      "image/png": "[encoded data removed]",
      "text/plain": [
       "<Figure size 720x360 with 1 Axes>"
      ]
     },
     "metadata": {
      "needs_background": "light"
     },
     "output_type": "display_data"
    }
   ],
   "source": [
    "laser_id = 14\n",
    "azimuth_channel = 51\n",
    "temp = aggregated_map[:,laser_id,azimuth_channel].copy()\n",
    "bck_ds = thred_map[:,laser_id,azimuth_channel]\n",
    "plt.figure(figsize=(10,5))\n",
    "plt.scatter(np.arange(len(temp)),temp,s = 12, marker = 'x', label = \"Laser Traveling Distance\")\n",
    "for b in bck_ds:\n",
    "    plt.hlines(b,0,2000, color = 'r')\n",
    "plt.legend(fontsize = 15)\n",
    "plt.yticks(fontsize = 15)\n",
    "plt.xticks(fontsize = 15)\n",
    "plt.ylabel('Distance (m)',fontsize = 20)\n",
    "plt.xlabel('Time (0.1sec)',fontsize = 20)\n",
    "\n",
    "# plt.ylim(17.5,19)\n",
    "# plt.savefig(r'C:\\Users\\zhChe\\OneDrive - nevada.unr.edu\\ITSmanuscript\\Figs\\Picture5.tif', dpi = 600)\n",
    "plt.show()"
   ]
  },
  {
   "cell_type": "code",
   "execution_count": 7,
   "id": "979bcef4",
   "metadata": {},
   "outputs": [],
   "source": [
    "db = Raster_DBSCAN(window_size=[5,15],eps = 1,min_samples= 5,Td_map_szie=(32,1800))"
   ]
  },
  {
   "cell_type": "code",
   "execution_count": 19,
   "id": "b0d82569",
   "metadata": {},
   "outputs": [],
   "source": [
    "def show_result(Td_map):\n",
    "    Foreground_map = ~(np.abs(Td_map - thred_map) <= 0.3).any(axis = 0)\n",
    "    Labeling_map = db.fit_predict(Td_map= Td_map,Foreground_map=Foreground_map)\n",
    "    pcd = get_pcd_colored(Td_map,Labeling_map)\n",
    "    draw(pcd,width=1000,height=1000)\n",
    "    return Labeling_map"
   ]
  },
  {
   "cell_type": "code",
   "execution_count": 20,
   "id": "03be8504",
   "metadata": {
    "scrolled": false
   },
   "outputs": [
    {
     "data": {
      "application/vnd.jupyter.widget-view+json": {
       "model_id": "ed7c5d341a7f4933ab4a8f4e8035357a",
       "version_major": 2,
       "version_minor": 0
      },
      "text/plain": [
       "WebVisualizer(window_uid='window_11')"
      ]
     },
     "metadata": {},
     "output_type": "display_data"
    },
    {
     "data": {
      "application/vnd.jupyter.widget-view+json": {
       "model_id": "48442730e5d24cb1944052ada08906a3",
       "version_major": 2,
       "version_minor": 0
      },
      "text/plain": [
       "WebVisualizer(window_uid='window_12')"
      ]
     },
     "metadata": {},
     "output_type": "display_data"
    }
   ],
   "source": [
    "Td_map = aggregated_map[370].copy()\n",
    "Labeling_map_0 = show_result(Td_map)\n",
    "Td_map = aggregated_map[371].copy()\n",
    "Labeling_map_1 = show_result(Td_map)"
   ]
  },
  {
   "cell_type": "code",
   "execution_count": 23,
   "id": "99bc5ef3",
   "metadata": {
    "scrolled": true
   },
   "outputs": [],
   "source": [
    "Intersect = (Labeling_map_0 != -1) & (Labeling_map_1 != -1)"
   ]
  },
  {
   "cell_type": "code",
   "execution_count": 37,
   "id": "6a49dbc9",
   "metadata": {},
   "outputs": [],
   "source": [
    "pairs_intersect,counts_intersect = np.unique(np.array([Labeling_map_0[Intersect],Labeling_map_1[Intersect]]).T,return_counts=True, axis = 0)"
   ]
  },
  {
   "cell_type": "code",
   "execution_count": 38,
   "id": "a4464fb2",
   "metadata": {},
   "outputs": [],
   "source": [
    "unique_label_cur = np.unique(pairs_intersect[:,0])"
   ]
  },
  {
   "cell_type": "code",
   "execution_count": 40,
   "id": "1d11a2d3",
   "metadata": {},
   "outputs": [
    {
     "name": "stdout",
     "output_type": "stream",
     "text": [
      "[0 1]\n",
      "[2]\n",
      "[3 5]\n",
      "[4]\n",
      "[5]\n",
      "[6]\n",
      "[4 7]\n",
      "[8]\n",
      "[10]\n",
      "[10]\n",
      "[ 9 21]\n",
      "[12]\n",
      "[13]\n",
      "[16]\n",
      "[ 8 14]\n",
      "[15]\n",
      "[17]\n",
      "[18]\n",
      "[20]\n"
     ]
    }
   ],
   "source": [
    "for l in unique_label_cur:\n",
    "    union_labels = pairs_union[pairs_union[:,0] == l][:,1]\n",
    "    dis_cur = Td_map_0[Labeling_map_0 == l].mean()\n",
    "    valid_labels = []\n",
    "    for i in union_labels:\n",
    "        if np.abs(Td_map_0[Labeling_map_0 == i].mean() - dis_cur) < 0.5\n",
    "            valid_labels.append(i)\n",
    "    "
   ]
  },
  {
   "cell_type": "code",
   "execution_count": 26,
   "id": "3b65d3d8",
   "metadata": {
    "scrolled": true
   },
   "outputs": [
    {
     "data": {
      "text/plain": [
       "array([[ 0,  0],\n",
       "       [ 0,  1],\n",
       "       [ 1,  2],\n",
       "       [ 2,  3],\n",
       "       [ 2,  5],\n",
       "       [ 3,  4],\n",
       "       [ 4,  5],\n",
       "       [ 5,  6],\n",
       "       [ 6,  4],\n",
       "       [ 6,  7],\n",
       "       [ 7,  8],\n",
       "       [ 8, 10],\n",
       "       [ 9, 10],\n",
       "       [10,  9],\n",
       "       [10, 21],\n",
       "       [11, 12],\n",
       "       [12, 13],\n",
       "       [13, 16],\n",
       "       [14,  8],\n",
       "       [14, 14],\n",
       "       [15, 15],\n",
       "       [17, 17],\n",
       "       [18, 18],\n",
       "       [20, 20]], dtype=int64)"
      ]
     },
     "execution_count": 26,
     "metadata": {},
     "output_type": "execute_result"
    }
   ],
   "source": [
    "pairs_union"
   ]
  },
  {
   "cell_type": "code",
   "execution_count": null,
   "id": "fc84b8b6",
   "metadata": {},
   "outputs": [],
   "source": []
  },
  {
   "cell_type": "code",
   "execution_count": 33,
   "id": "d30c7188",
   "metadata": {
    "collapsed": true
   },
   "outputs": [
    {
     "data": {
      "application/vnd.jupyter.widget-view+json": {
       "model_id": "3a95005ce64b4c979f9e9451ede163f2",
       "version_major": 2,
       "version_minor": 0
      },
      "text/plain": [
       "WebVisualizer(window_uid='window_18')"
      ]
     },
     "metadata": {},
     "output_type": "display_data"
    }
   ],
   "source": [
    "Td_map = aggregated_map[370].copy()\n",
    "Foreground_map = ~(np.abs(Td_map - thred_map) <= 0.3).any(axis = 0)\n",
    "Labeling_map = db.fit_predict(Td_map= Td_map,Foreground_map=Foreground_map)\n",
    "pcd = get_pcd_colored_specified(Td_map,Labeling_map,[6])\n",
    "draw(pcd,width=1000,height=1000)"
   ]
  },
  {
   "cell_type": "code",
   "execution_count": 34,
   "id": "f5991637",
   "metadata": {
    "collapsed": true
   },
   "outputs": [
    {
     "data": {
      "application/vnd.jupyter.widget-view+json": {
       "model_id": "0774b3dd799e49daadd050721305bc30",
       "version_major": 2,
       "version_minor": 0
      },
      "text/plain": [
       "WebVisualizer(window_uid='window_19')"
      ]
     },
     "metadata": {},
     "output_type": "display_data"
    }
   ],
   "source": [
    "Td_map = aggregated_map[371].copy()\n",
    "Foreground_map = ~(np.abs(Td_map - thred_map) <= 0.3).any(axis = 0)\n",
    "Labeling_map = db.fit_predict(Td_map= Td_map,Foreground_map=Foreground_map)\n",
    "pcd = get_pcd_colored_specified(Td_map,Labeling_map,[4,7])\n",
    "draw(pcd,width=1000,height=1000)"
   ]
  },
  {
   "cell_type": "code",
   "execution_count": 31,
   "id": "099a57fb",
   "metadata": {},
   "outputs": [],
   "source": [
    "pd.DataFrame(Foreground_map).to_csv(r'D:\\Test\\Foreg1.csv',index = False)"
   ]
  },
  {
   "cell_type": "code",
   "execution_count": 56,
   "id": "2a3288ea",
   "metadata": {},
   "outputs": [],
   "source": [
    "pd.DataFrame(Labeling_map).to_csv(r'D:\\Test\\LABEL1.csv',index = False)"
   ]
  },
  {
   "cell_type": "code",
   "execution_count": 70,
   "id": "22ccd717",
   "metadata": {},
   "outputs": [],
   "source": [
    "unique_labels, counts = np.unique(Labeling_map[Labeling_map != -1],return_counts = True)"
   ]
  },
  {
   "cell_type": "code",
   "execution_count": 73,
   "id": "107c976b",
   "metadata": {},
   "outputs": [],
   "source": [
    "erased_label = unique_labels[counts < 10]"
   ]
  },
  {
   "cell_type": "code",
   "execution_count": 79,
   "id": "0ff03c64",
   "metadata": {},
   "outputs": [],
   "source": [
    "for l in erased_label:\n",
    "    Labeling_map[Labeling_map == l] = -1"
   ]
  },
  {
   "cell_type": "code",
   "execution_count": 80,
   "id": "0a910d08",
   "metadata": {},
   "outputs": [
    {
     "data": {
      "application/vnd.jupyter.widget-view+json": {
       "model_id": "890d912c9dae40f0b4f6ed5b8f1650ce",
       "version_major": 2,
       "version_minor": 0
      },
      "text/plain": [
       "WebVisualizer(window_uid='window_25')"
      ]
     },
     "metadata": {},
     "output_type": "display_data"
    }
   ],
   "source": [
    "Td_map = aggregated_map[380].copy()\n",
    "# Td_map = medfilt2d(Td_map,kernel_size = 3)\n",
    "# Foreground_map = ~(np.abs(Td_map - thred_map) <= 0.3).any(axis = 0)\n",
    "# Labeling_map = db.fit_predict(Td_map= Td_map,Foreground_map=Foreground_map)\n",
    "pcd = get_pcd_colored(Td_map,Labeling_map)\n",
    "draw(pcd,width=1000,height=1000)"
   ]
  }
 ],
 "metadata": {
  "kernelspec": {
   "display_name": "Python 3 (ipykernel)",
   "language": "python",
   "name": "python3"
  },
  "language_info": {
   "codemirror_mode": {
    "name": "ipython",
    "version": 3
   },
   "file_extension": ".py",
   "mimetype": "text/x-python",
   "name": "python",
   "nbconvert_exporter": "python",
   "pygments_lexer": "ipython3",
   "version": "3.8.12"
  }
 },
 "nbformat": 4,
 "nbformat_minor": 5
}
