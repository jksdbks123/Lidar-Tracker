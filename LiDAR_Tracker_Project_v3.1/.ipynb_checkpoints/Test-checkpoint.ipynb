{
 "cells": [
  {
   "cell_type": "code",
   "execution_count": 2,
   "id": "f1815e80",
   "metadata": {},
   "outputs": [
    {
     "name": "stdout",
     "output_type": "stream",
     "text": [
      "Jupyter environment detected. Enabling Open3D WebVisualizer.\n",
      "[Open3D INFO] WebRTC GUI backend enabled.\n",
      "[Open3D INFO] WebRTCWindowSystem: HTTP handshake server disabled.\n",
      "[Open3D INFO] Resetting default logger to print to terminal.\n"
     ]
    }
   ],
   "source": [
    "import matplotlib.pyplot as plt\n",
    "from matplotlib import image\n",
    "from scipy.spatial.distance import cdist\n",
    "import numpy as np\n",
    "import pandas as pd\n",
    "import cv2\n",
    "import os\n",
    "from BfTableGenerator import TDmapLoader\n",
    "from tqdm import tqdm\n",
    "from Utils import *\n",
    "from open3d.web_visualizer import draw\n",
    "from joblib import Parallel, delayed\n",
    "from VisulizerTools import *\n",
    "from DDBSCAN import Raster_DBSCAN\n",
    "import time\n",
    "plt.rcParams[\"font.family\"] = \"Times New Roman\""
   ]
  },
  {
   "cell_type": "code",
   "execution_count": 3,
   "id": "80c772fb",
   "metadata": {},
   "outputs": [
    {
     "name": "stderr",
     "output_type": "stream",
     "text": [
      "100%|██████████████████████████████████████████████████████████████████████████████| 2000/2000 [01:12<00:00, 27.45it/s]\n"
     ]
    }
   ],
   "source": [
    "aggregated_map = []\n",
    "Inten_maps = []\n",
    "pcap_path = r'D:\\LiDAR_Data\\MidTown\\Roundabout\\2022-1-19-14-30-0.pcap'\n",
    "end_frame = 2000\n",
    "lidar_reader = TDmapLoader(pcap_path)\n",
    "frame_gen = lidar_reader.frame_gen()\n",
    "for i in tqdm(range(end_frame)):\n",
    "    Frame = next(frame_gen)\n",
    "    if Frame is None:\n",
    "        break \n",
    "    Td_map,Int_map = Frame\n",
    "    aggregated_map.append(Td_map)\n",
    "    Inten_maps.append(Int_map)\n",
    "aggregated_map = np.array(aggregated_map)\n",
    "Inten_maps = np.array(Inten_maps)"
   ]
  },
  {
   "cell_type": "code",
   "execution_count": 582,
   "id": "e421fc92",
   "metadata": {},
   "outputs": [],
   "source": [
    "def get_thred(temp,N = 10,p_thred = 0.7,d_thred = 0.08,d = 0.17,bck_n = 3):\n",
    "    temp = temp.copy()\n",
    "    total_sample = len(temp)\n",
    "    bck_ds = []\n",
    "    bck_portions = 0\n",
    "    repeat = 0\n",
    "    while True:\n",
    "        if repeat > N:\n",
    "            return bck_n*[-d]\n",
    "        sample = np.random.choice(temp,replace=False)\n",
    "        ind = np.abs(temp - sample) < d\n",
    "        portion = ind.sum()/total_sample\n",
    "        if portion < d_thred:\n",
    "            continue\n",
    "        bck_portions += portion\n",
    "        bck_ds.append(sample)\n",
    "        if bck_portions > p_thred:\n",
    "            break \n",
    "        if len(bck_ds) > bck_n - 1:\n",
    "            bck_ds = []\n",
    "            bck_portions = 0\n",
    "            temp = aggregated_map[:,laser_id,azimuth_channel].copy()\n",
    "            repeat += 1\n",
    "            continue\n",
    "        temp = temp[~ind]\n",
    "\n",
    "    if len(bck_ds) < bck_n:\n",
    "        while len(bck_ds) < bck_n:\n",
    "            bck_ds.append(-d)\n",
    "            \n",
    "    return np.array(bck_ds)"
   ]
  },
  {
   "cell_type": "code",
   "execution_count": 111,
   "id": "be1d2df3",
   "metadata": {},
   "outputs": [],
   "source": [
    "def get_thred(temp,N = 10,d_thred = 0.1,d = 1.5,bck_n = 3):\n",
    "    temp = temp.copy()\n",
    "    total_sample = len(temp)\n",
    "    bck_ds = []\n",
    "    bck_portions = []\n",
    "    repeat = 0\n",
    "    while repeat < N:\n",
    "        if len(temp) == 0:\n",
    "            break\n",
    "        sample = np.random.choice(temp,replace=False)\n",
    "        ind = np.abs(temp - sample) < d\n",
    "        portion = ind.sum()/total_sample\n",
    "        if portion > d_thred:\n",
    "            bck_portions.append(portion)\n",
    "            bck_ds.append(sample)\n",
    "            temp = temp[~ind]\n",
    "        repeat += 1\n",
    "    bck_ds = np.array(bck_ds)\n",
    "    bck_portions = np.array(bck_portions)\n",
    "    arg_ind = np.argsort(bck_portions)[::-1]\n",
    "    bck_ds_ = bck_ds[arg_ind[:bck_n]]\n",
    "    if len(bck_ds_) < bck_n:\n",
    "        bck_ds_ = np.concatenate([bck_ds_,-d * np.ones(bck_n - len(bck_ds_))])\n",
    "    return bck_ds_"
   ]
  },
  {
   "cell_type": "code",
   "execution_count": 5,
   "id": "330a7645",
   "metadata": {},
   "outputs": [],
   "source": [
    "def gen_bckmap(aggregated_maps):\n",
    "    thred_map = np.zeros((3,32,1800))\n",
    "    with tqdm(total=32*1800) as pbar:\n",
    "        for i in range(thred_map.shape[1]):\n",
    "            for j in range(thred_map.shape[2]):\n",
    "                thred_map[:,i,j] = get_thred(aggregated_map[:,i,j])\n",
    "#                 print(i,j)\n",
    "                pbar.update(1)\n",
    "    return thred_map"
   ]
  },
  {
   "cell_type": "code",
   "execution_count": 17,
   "id": "a6cf039e",
   "metadata": {},
   "outputs": [
    {
     "name": "stderr",
     "output_type": "stream",
     "text": [
      "100%|██████████████████████████████████████████████████████████████████████████| 57600/57600 [00:09<00:00, 5767.33it/s]\n"
     ]
    },
    {
     "data": {
      "text/plain": [
       "9.988253116607666"
      ]
     },
     "execution_count": 17,
     "metadata": {},
     "output_type": "execute_result"
    }
   ],
   "source": [
    "a = time.time()\n",
    "thred_map = gen_bckmap(aggregated_map)\n",
    "time.time() - a"
   ]
  },
  {
   "cell_type": "code",
   "execution_count": 140,
   "id": "bdda7796",
   "metadata": {},
   "outputs": [
    {
     "data": {
      "image/png": "[encoded data removed]",
      "text/plain": [
       "<Figure size 720x360 with 1 Axes>"
      ]
     },
     "metadata": {
      "needs_background": "light"
     },
     "output_type": "display_data"
    }
   ],
   "source": [
    "laser_id = 25\n",
    "azimuth_channel = 860\n",
    "temp = aggregated_map[:,laser_id,azimuth_channel].copy()\n",
    "bck_ds = get_thred(temp)\n",
    "plt.figure(figsize=(10,5))\n",
    "plt.scatter(np.arange(len(temp)),temp,s = 12, marker = 'x', label = \"Laser Traveling Distance\")\n",
    "for b in bck_ds:\n",
    "    plt.hlines(b,0,2000, color = 'r')\n",
    "plt.legend(fontsize = 15)\n",
    "plt.yticks(fontsize = 15)\n",
    "plt.xticks(fontsize = 15)\n",
    "plt.ylabel('Distance (m)',fontsize = 20)\n",
    "plt.xlabel('Time (0.1sec)',fontsize = 20)\n",
    "\n",
    "# plt.ylim(12,16)\n",
    "# plt.savefig(r'C:\\Users\\zhChe\\OneDrive - nevada.unr.edu\\ITSmanuscript\\Figs\\Picture5.tif', dpi = 600)\n",
    "plt.show()"
   ]
  },
  {
   "cell_type": "code",
   "execution_count": 74,
   "id": "69c5f6b1",
   "metadata": {},
   "outputs": [
    {
     "data": {
      "text/plain": [
       "(array([24, 24, 24, 24, 25, 25, 25, 25, 26, 26, 26, 26, 26], dtype=int64),\n",
       " array([861, 863, 864, 865, 860, 861, 863, 865, 863, 864, 865, 867, 873],\n",
       "       dtype=int64))"
      ]
     },
     "execution_count": 74,
     "metadata": {},
     "output_type": "execute_result"
    }
   ],
   "source": [
    "np.where(Labeling_map == 24)"
   ]
  },
  {
   "cell_type": "code",
   "execution_count": 18,
   "id": "979bcef4",
   "metadata": {},
   "outputs": [],
   "source": [
    "db = Raster_DBSCAN(window_size=[5,17],eps = 1.5,min_samples= 5,Td_map_szie=(32,1800))"
   ]
  },
  {
   "cell_type": "code",
   "execution_count": 67,
   "id": "03be8504",
   "metadata": {},
   "outputs": [
    {
     "data": {
      "application/vnd.jupyter.widget-view+json": {
       "model_id": "3599a5d6d4e54da4bce12368300160f6",
       "version_major": 2,
       "version_minor": 0
      },
      "text/plain": [
       "WebVisualizer(window_uid='window_12')"
      ]
     },
     "metadata": {},
     "output_type": "display_data"
    }
   ],
   "source": [
    "Td_map = aggregated_map[284]\n",
    "Foreground_map = ~(np.abs(Td_map - thred_map) <= 0.5).any(axis = 0)\n",
    "Labeling_map = db.fit_predict(Td_map= Td_map,Foreground_map=Foreground_map)\n",
    "pcd = get_pcd_colored(Td_map,Labeling_map)\n",
    "draw(pcd,width=1000,height=1000)"
   ]
  },
  {
   "cell_type": "code",
   "execution_count": 73,
   "id": "f5991637",
   "metadata": {},
   "outputs": [
    {
     "data": {
      "application/vnd.jupyter.widget-view+json": {
       "model_id": "2edce4a576404b76a7b9c7e30a627f05",
       "version_major": 2,
       "version_minor": 0
      },
      "text/plain": [
       "WebVisualizer(window_uid='window_18')"
      ]
     },
     "metadata": {},
     "output_type": "display_data"
    }
   ],
   "source": [
    "pcd = get_pcd_colored_specified(Td_map,Labeling_map,np.arange(24,25))\n",
    "draw(pcd,width=1000,height=1000)"
   ]
  },
  {
   "cell_type": "code",
   "execution_count": 22,
   "id": "ea7c798d",
   "metadata": {},
   "outputs": [
    {
     "data": {
      "text/plain": [
       "45"
      ]
     },
     "execution_count": 22,
     "metadata": {},
     "output_type": "execute_result"
    }
   ],
   "source": [
    "Labeling_map.max()"
   ]
  },
  {
   "cell_type": "code",
   "execution_count": null,
   "id": "099a57fb",
   "metadata": {},
   "outputs": [],
   "source": []
  },
  {
   "cell_type": "code",
   "execution_count": 35,
   "id": "2a3288ea",
   "metadata": {},
   "outputs": [],
   "source": [
    "pd.DataFrame(Labeling_map).to_csv(r'D:\\Test\\LABEL.csv',index = False)"
   ]
  },
  {
   "cell_type": "code",
   "execution_count": null,
   "id": "0c1855bf",
   "metadata": {},
   "outputs": [],
   "source": []
  },
  {
   "cell_type": "code",
   "execution_count": 7,
   "id": "660ed4b1",
   "metadata": {},
   "outputs": [],
   "source": [
    "Td_map_0 = aggregated_map[1312]\n",
    "Td_map_1 = aggregated_map[229]\n",
    "Foreground_0 = (Td_map_0 < thred_map)&(Td_map_0 != 0)\n",
    "Foreground_1 = (Td_map_1 < thred_map)&(Td_map_1 != 0)\n",
    "Labeling_map_0 = db.fit_predict(Td_map= Td_map_0,Foreground_map=Foreground_1)\n",
    "Labeling_map_1 = db.fit_predict(Td_map= Td_map_0,Foreground_map=Foreground_0)\n",
    "unique_label_cur,unique_label_next = np.unique(Labeling_map_0)[1:],np.unique(Labeling_map_1)[1:]"
   ]
  },
  {
   "cell_type": "code",
   "execution_count": 23,
   "id": "45bd015a",
   "metadata": {},
   "outputs": [],
   "source": [
    "Td_map = aggregated_map[228]\n",
    "Foreground_map = (Td_map < thred_map)&(Td_map != 0)\n",
    "Labeling_map = db.fit_predict(Td_map= Td_map,Foreground_map=Foreground_map)\n"
   ]
  },
  {
   "cell_type": "code",
   "execution_count": 41,
   "id": "ab599f1d",
   "metadata": {},
   "outputs": [
    {
     "data": {
      "application/vnd.jupyter.widget-view+json": {
       "model_id": "dc3272de8fc846789219e9ba0059b2c2",
       "version_major": 2,
       "version_minor": 0
      },
      "text/plain": [
       "WebVisualizer(window_uid='window_3')"
      ]
     },
     "metadata": {},
     "output_type": "display_data"
    }
   ],
   "source": [
    "pcd = get_pcd_colored(Td_map,Labeling_map)\n",
    "draw(pcd,width=1000,height=1000)"
   ]
  },
  {
   "cell_type": "code",
   "execution_count": 9,
   "id": "0b54b9a7",
   "metadata": {},
   "outputs": [
    {
     "data": {
      "application/vnd.jupyter.widget-view+json": {
       "model_id": "eeb1e9e725c2495b889d5c0fbb1e9555",
       "version_major": 2,
       "version_minor": 0
      },
      "text/plain": [
       "WebVisualizer(window_uid='window_1')"
      ]
     },
     "metadata": {},
     "output_type": "display_data"
    }
   ],
   "source": [
    "pcd = get_pcd_colored_specified(Td_map,Labeling_map,[0,1])\n",
    "draw(pcd,width=1000,height=1000)"
   ]
  },
  {
   "cell_type": "code",
   "execution_count": 10,
   "id": "6aac2287",
   "metadata": {},
   "outputs": [],
   "source": [
    "rows_1,cols_1 = np.where(Labeling_map == 0)\n",
    "rows_2,cols_2 = np.where(Labeling_map == 1)"
   ]
  },
  {
   "cell_type": "code",
   "execution_count": 59,
   "id": "f8f18c33",
   "metadata": {},
   "outputs": [],
   "source": [
    "Td_map = aggregated_map[229]\n",
    "Foreground_map = (Td_map < thred_map)&(Td_map != 0)\n",
    "Labeling_map = db.fit_predict(Td_map= Td_map,Foreground_map=Foreground_map)\n"
   ]
  },
  {
   "cell_type": "code",
   "execution_count": 60,
   "id": "5148cf09",
   "metadata": {},
   "outputs": [
    {
     "data": {
      "image/png": "[encoded data removed]",
      "text/plain": [
       "<Figure size 1152x360 with 1 Axes>"
      ]
     },
     "metadata": {
      "needs_background": "light"
     },
     "output_type": "display_data"
    }
   ],
   "source": [
    "plt.figure(figsize=(16,5))\n",
    "plt.imshow(Labeling_map, aspect='auto',cmap = 'tab20c')\n",
    "plt.xlabel(r'Horizontal Angles $\\mathit{\\alpha}$ (column)',fontsize = 20)\n",
    "plt.ylabel(r'Vertical Angles $\\mathit{\\omega} $ (row)',fontsize = 20)\n",
    "plt.yticks(fontsize = 15)\n",
    "plt.xticks(np.arange(0,1900,100),fontsize = 15)\n",
    "plt.xlim(1200,1400)\n",
    "plt.savefig(r'C:\\Users\\zhChe\\OneDrive - nevada.unr.edu\\ITSmanuscript\\Figs\\Picture22.tif',dpi = 600)\n",
    "plt.show()"
   ]
  },
  {
   "cell_type": "code",
   "execution_count": null,
   "id": "b464dc6b",
   "metadata": {},
   "outputs": [],
   "source": [
    "plt.figure(figsize=(16,5))\n",
    "plt.imshow(aggregated_map[235], aspect='auto',cmap = 'binary')\n",
    "plt.xlabel(r'Horizontal Angles $\\mathit{\\alpha}$ (column)',fontsize = 20)\n",
    "plt.ylabel(r'Vertical Angles $\\mathit{\\omega} $ (row)',fontsize = 20)\n",
    "plt.yticks(fontsize = 15)\n",
    "plt.xticks(np.arange(0,1900,100),fontsize = 15)"
   ]
  },
  {
   "cell_type": "code",
   "execution_count": null,
   "id": "d63acf5c",
   "metadata": {},
   "outputs": [],
   "source": []
  },
  {
   "cell_type": "code",
   "execution_count": null,
   "id": "bc76a55a",
   "metadata": {},
   "outputs": [],
   "source": []
  }
 ],
 "metadata": {
  "kernelspec": {
   "display_name": "Python 3 (ipykernel)",
   "language": "python",
   "name": "python3"
  },
  "language_info": {
   "codemirror_mode": {
    "name": "ipython",
    "version": 3
   },
   "file_extension": ".py",
   "mimetype": "text/x-python",
   "name": "python",
   "nbconvert_exporter": "python",
   "pygments_lexer": "ipython3",
   "version": "3.8.12"
  }
 },
 "nbformat": 4,
 "nbformat_minor": 5
}
