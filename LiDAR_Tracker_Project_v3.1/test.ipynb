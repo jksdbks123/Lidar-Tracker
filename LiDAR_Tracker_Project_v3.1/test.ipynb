{
 "cells": [
  {
   "cell_type": "code",
   "execution_count": 5,
   "metadata": {},
   "outputs": [],
   "source": [
    "# set same dependency environment to ./Utils/Tracker.py, so python files in this script can access the same environment as Tracker.py\n",
    "import sys\n",
    "sys.path.append(r'D:\\CodeRepos\\Lidar-Tracker\\LiDAR_Tracker_Project_v3.1\\Interface\\Utils')\n",
    "\n",
    "from DDBSCAN import Raster_DBSCAN\n",
    "from LiDARBase import *\n",
    "from GenBckFile import *\n",
    "from SaveTrajectoryTools import save_result\n",
    "from ExamPcapStartTime import get_pcap_start_time\n",
    "import pandas as pd\n",
    "import os\n",
    "from p_tqdm import p_umap\n",
    "from functools import partial\n",
    "from threading import Thread,Event\n",
    "import matplotlib.pyplot as plt"
   ]
  },
  {
   "cell_type": "code",
   "execution_count": 76,
   "metadata": {},
   "outputs": [
    {
     "name": "stderr",
     "output_type": "stream",
     "text": [
      "17987it [06:44, 44.48it/s]\n"
     ]
    }
   ],
   "source": [
    "pcap_file_path = r'D:\\LiDAR_Data\\US50ANDHighlands\\2024-03-16-12-30-00.pcap'\n",
    "tracking_parameter_dict = {\n",
    "        'win_width': 13,\n",
    "        'win_height': 7,\n",
    "        'eps': 1,\n",
    "        'min_samples': 10,\n",
    "        'missing_thred': 5,\n",
    "        'bck_radius': 0.2,\n",
    "        'N' : 10,\n",
    "        'd_thred' : 0.1,\n",
    "    }\n",
    "termination_event = Event()\n",
    "thred_map = gen_bckmap(pcap_file_path, \n",
    "                        N = tracking_parameter_dict['N'],\n",
    "                        d_thred = tracking_parameter_dict['d_thred'],\n",
    "                        bck_n = 3,\n",
    "                        termination_event = termination_event)\n",
    "start_timestamp = get_pcap_start_time(pcap_file_path)\n",
    "packets_gen = read_packets_offline(pcap_file_path)\n",
    "frame_generator = parse_packets(packets_gen)"
   ]
  },
  {
   "cell_type": "code",
   "execution_count": 80,
   "metadata": {},
   "outputs": [],
   "source": [
    "UTC_time_diff = 0\n",
    "if_save_point_cloud = True\n",
    "point_cloud_path = r'D:\\LiDAR_Data\\Test'"
   ]
  },
  {
   "cell_type": "code",
   "execution_count": 238,
   "metadata": {},
   "outputs": [],
   "source": [
    "mot = MOT(tracking_parameter_dict,thred_map)\n",
    "mot.UTC_time_diff = UTC_time_diff\n",
    "if if_save_point_cloud:\n",
    "    mot.point_cloud_save_path = point_cloud_path\n",
    "mot.start_timestamp = start_timestamp"
   ]
  },
  {
   "cell_type": "code",
   "execution_count": 239,
   "metadata": {},
   "outputs": [],
   "source": [
    "while not mot.if_initialized:\n",
    "    try:\n",
    "        frame = next(frame_generator)\n",
    "    except StopIteration:\n",
    "        break\n",
    "    mot.initialization(frame)\n",
    "\n",
    "    if if_save_point_cloud:\n",
    "        save_fore_pcd(mot.cur_Td_map,mot.cur_Labeling_map,point_cloud_path,mot.CurFrame,mot.Tracking_pool)\n",
    "    # break"
   ]
  },
  {
   "cell_type": "code",
   "execution_count": 422,
   "metadata": {},
   "outputs": [],
   "source": [
    "frame = next(frame_generator)\n",
    "mot.mot_tracking_step(frame)\n",
    "# save_fore_pcd(mot.cur_Td_map,mot.cur_Labeling_map,point_cloud_path,mot.CurFrame,mot.Tracking_pool)\n",
    "fore_points = get_fore_pcd(mot.cur_Td_map,mot.cur_Labeling_map,mot.Tracking_pool)\n",
    "cur_frame = mot.CurFrame\n",
    "cur_labeling_map = mot.cur_Labeling_map\n",
    "cur_td_map = mot.cur_Td_map"
   ]
  },
  {
   "cell_type": "code",
   "execution_count": 423,
   "metadata": {},
   "outputs": [
    {
     "data": {
      "image/png": "[encoded data removed]",
      "text/plain": [
       "<Figure size 432x288 with 1 Axes>"
      ]
     },
     "metadata": {
      "needs_background": "light"
     },
     "output_type": "display_data"
    }
   ],
   "source": [
    "plt.scatter(fore_points[:,0],fore_points[:,1],s = 1,c = fore_points[:,3])\n",
    "for key in mot.Tracking_pool.keys():\n",
    "    if mot.Tracking_pool[key].label_seq[-1] != -1:\n",
    "        plt.scatter(mot.Tracking_pool[key].mea_seq[-1][0][0][0],mot.Tracking_pool[key].mea_seq[-1][0][1][0],c = 'r')\n",
    "        plt.text(mot.Tracking_pool[key].mea_seq[-1][0][0][0],mot.Tracking_pool[key].mea_seq[-1][0][1][0],str(key))\n",
    "plt.show()"
   ]
  },
  {
   "cell_type": "code",
   "execution_count": 2,
   "metadata": {},
   "outputs": [],
   "source": [
    "# point cloud is in .npy format [x,y,z,obj_label]\n",
    "point_cloud_folder = r'D:\\LiDAR_Data\\US50ANDHighlands\\test_point_cloud_out'\n",
    "pc_folders = os.listdir(point_cloud_folder)\n",
    "for folder in pc_folders:\n",
    "    frame_names = os.listdir(os.path.join(point_cloud_folder, folder))\n",
    "    total_point_clouds = []\n",
    "    for frame in frame_names:\n",
    "        point_cloud = np.load(os.path.join(point_cloud_folder, folder, frame))\n",
    "        total_point_clouds.append(point_cloud)\n",
    "    break\n",
    "total_point_clouds_frame = np.concatenate(total_point_clouds, axis=0)"
   ]
  },
  {
   "cell_type": "code",
   "execution_count": 3,
   "metadata": {},
   "outputs": [],
   "source": [
    "trajectory_data = pd.read_csv(r'D:\\LiDAR_Data\\US50ANDHighlands\\test_traj_out\\2024-03-16-12-30-00.csv')"
   ]
  },
  {
   "cell_type": "code",
   "execution_count": 9,
   "metadata": {},
   "outputs": [
    {
     "data": {
      "text/plain": [
       "array([ 2.,  2.,  2.,  2.,  2.,  2.,  2.,  2.,  2.,  2.,  2.,  2.,  2.,\n",
       "        2.,  2.,  2.,  2.,  2.,  2.,  2.,  3.,  3.,  3.,  3.,  3.,  3.,\n",
       "        3.,  3.,  3.,  3.,  3.,  3.,  3.,  3.,  3.,  3.,  5.,  5.,  5.,\n",
       "        5.,  5.,  5.,  2.,  2.,  2.,  2.,  2.,  2.,  2.,  2.,  2.,  2.,\n",
       "        2.,  2.,  2.,  2.,  2.,  2.,  2.,  2.,  2.,  2.,  2.,  2.,  2.,\n",
       "        2.,  2.,  3.,  3.,  3.,  3.,  3.,  3.,  3.,  3.,  3.,  6.,  6.,\n",
       "        6.,  6.,  6.,  6.,  5.,  5.,  5.,  5.,  5.,  5.,  2.,  2.,  2.,\n",
       "        2.,  2.,  2.,  2.,  2.,  2.,  2.,  2.,  2.,  2.,  2.,  2.,  2.,\n",
       "        2.,  2.,  2.,  2.,  2.,  2.,  2.,  2.,  2.,  3.,  3.,  3.,  3.,\n",
       "        3.,  3.,  3.,  6.,  6.,  6.,  6.,  6.,  5.,  5.,  5.,  5.,  5.,\n",
       "        5.,  5.,  2.,  2.,  2.,  2.,  2.,  2.,  2.,  2.,  2.,  2.,  2.,\n",
       "        2.,  2.,  2.,  2.,  2.,  2.,  2.,  3.,  2.,  2.,  2.,  2.,  2.,\n",
       "        2.,  2.,  2.,  2.,  2.,  2.,  2.,  2.,  9.,  9.,  9.,  9.,  9.,\n",
       "        3.,  3.,  2.,  2.,  2.,  2.,  2.,  2.,  2.,  2.,  2.,  2.,  9.,\n",
       "        9.,  9.,  9.,  9.,  9.,  9.,  9.,  9.,  9.,  9.,  9.,  9.,  9.,\n",
       "        9.,  2.,  2.,  2.,  2.,  2.,  2.,  2.,  2.,  2.,  2.,  2.,  2.,\n",
       "        2.,  2.,  2.,  2.,  2.,  2.,  9.,  9.,  9.,  9.,  9.,  9.,  9.,\n",
       "        9.,  9.,  9.,  9.,  9.,  9.,  9.,  9.,  9.,  9.,  9.,  9.,  9.,\n",
       "        9.,  9.,  9.,  9.,  9.,  9.,  9.,  9.,  9.,  9.,  9.,  9.,  9.,\n",
       "        9.,  9.,  9.,  9.,  9.,  9.,  9.,  9.,  9.,  9.,  9.,  9.,  9.,\n",
       "        9.,  9.,  9.,  9.,  9.,  9.,  9.,  9.,  9.,  9.,  9.,  9.,  9.,\n",
       "        9.,  9.,  9.,  9.,  9.,  9.,  9.,  9.,  9.,  9.,  9.,  9.,  9.,\n",
       "        9.,  9.,  9.,  9.,  9.,  9.,  9.,  9.,  9.,  9.,  9.,  9.,  9.,\n",
       "        9.,  9.,  9.,  9.,  9.,  9.,  9.,  9.,  9.,  9.,  9.,  9.,  9.,\n",
       "        9.,  9.,  9.,  9.,  9.,  9.,  9.,  9.,  9.,  9.,  9.,  9.,  9.,\n",
       "        9.,  9.,  9.,  9.,  9.,  9.,  9.,  9.,  9.,  9.,  9.,  9.,  9.,\n",
       "        9.,  9.,  9.,  9.,  9.,  9.,  9.,  9.,  9.,  9.,  9.,  9.,  9.,\n",
       "        9.,  9., 12., 12., 11., 11., 11., 11., 11., 11., 12., 12., 12.,\n",
       "       12., 11., 11., 11., 11., 11., 11., 11., 11., 11., 11., 11., 11.,\n",
       "       11., 11., 11., 11., 11., 11., 11., 11., 11., 11., 11., 11., 12.,\n",
       "       12., 12., 11., 11., 11., 11., 11., 11., 11., 11., 11., 11., 11.,\n",
       "       11., 11., 11., 11., 11., 11., 11., 11., 11., 11., 11., 11., 11.,\n",
       "       11., 11., 11., 11., 12., 11., 11., 11., 11., 11., 11., 11., 11.,\n",
       "       11., 11., 11., 11., 11., 11., 11., 11., 11., 11., 11., 11., 11.,\n",
       "       11., 11., 11., 11., 11., 11., 11., 11., 11., 12., 11., 11., 11.,\n",
       "       11., 11., 11., 11., 11., 11., 11., 11., 11., 11., 11., 11., 11.,\n",
       "       11., 11., 11., 11., 11., 11., 11., 11., 11., 11., 11., 13., 13.,\n",
       "       13., 13., 13., 13., 13., 13., 13., 13., 13., 13., 13., 13.])"
      ]
     },
     "execution_count": 9,
     "metadata": {},
     "output_type": "execute_result"
    }
   ],
   "source": [
    "fore_points[:,-1]"
   ]
  },
  {
   "cell_type": "code",
   "execution_count": 14,
   "metadata": {},
   "outputs": [
    {
     "data": {
      "text/plain": [
       "array([[ 37.67868945,  12.68027994,  -3.71107076,   2.        ],\n",
       "       [ 37.60557102,  12.50970847,  -3.6995457 ,   2.        ],\n",
       "       [ 37.41065224,  12.29999662,  -3.67612379,   2.        ],\n",
       "       ...,\n",
       "       [ -7.44123488, -57.29433486,   1.68143287,  15.        ],\n",
       "       [ -8.31174765, -57.67953284,   1.69597813,  15.        ],\n",
       "       [ -8.79792529, -58.17357   ,   1.71226883,  15.        ]])"
      ]
     },
     "execution_count": 14,
     "metadata": {},
     "output_type": "execute_result"
    }
   ],
   "source": [
    "fore_points"
   ]
  },
  {
   "cell_type": "code",
   "execution_count": 28,
   "metadata": {},
   "outputs": [],
   "source": [
    "fore_points = np.load(r'D:\\LiDAR_Data\\US50ANDHighlands\\test_point_cloud_out\\2024-03-16-12-30-00\\30.npy')\n"
   ]
  },
  {
   "cell_type": "code",
   "execution_count": 15,
   "metadata": {},
   "outputs": [
    {
     "data": {
      "image/png": "[encoded data removed]",
      "text/plain": [
       "<Figure size 432x288 with 1 Axes>"
      ]
     },
     "metadata": {
      "needs_background": "light"
     },
     "output_type": "display_data"
    }
   ],
   "source": [
    "fore_points = np.load(r'D:\\LiDAR_Data\\US50ANDHighlands\\test_point_cloud_out\\2024-03-16-12-30-00\\1.npy')\n",
    "plt.scatter(fore_points[:,0],fore_points[:,1],s = 1,c = fore_points[:,3],cmap = 'tab20')\n",
    "plt.show()"
   ]
  }
 ],
 "metadata": {
  "kernelspec": {
   "display_name": "tracking3",
   "language": "python",
   "name": "python3"
  },
  "language_info": {
   "codemirror_mode": {
    "name": "ipython",
    "version": 3
   },
   "file_extension": ".py",
   "mimetype": "text/x-python",
   "name": "python",
   "nbconvert_exporter": "python",
   "pygments_lexer": "ipython3",
   "version": "3.8.0"
  }
 },
 "nbformat": 4,
 "nbformat_minor": 2
}
