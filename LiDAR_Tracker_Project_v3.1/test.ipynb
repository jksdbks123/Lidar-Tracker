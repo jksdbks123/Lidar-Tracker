{
 "cells": [
  {
   "cell_type": "code",
   "execution_count": 5,
   "metadata": {},
   "outputs": [],
   "source": [
    "# set same dependency environment to ./Utils/Tracker.py, so python files in this script can access the same environment as Tracker.py\n",
    "import sys\n",
    "sys.path.append(r'D:\\CodeRepos\\Lidar-Tracker\\LiDAR_Tracker_Project_v3.1\\Interface\\Utils')\n",
    "\n",
    "from DDBSCAN import Raster_DBSCAN\n",
    "from LiDARBase import *\n",
    "from GenBckFile import *\n",
    "from SaveTrajectoryTools import save_result\n",
    "from ExamPcapStartTime import get_pcap_start_time\n",
    "import pandas as pd\n",
    "import os\n",
    "from p_tqdm import p_umap\n",
    "from functools import partial\n",
    "from threading import Thread,Event\n",
    "import matplotlib.pyplot as plt"
   ]
  },
  {
   "cell_type": "code",
   "execution_count": null,
   "metadata": {},
   "outputs": [],
   "source": [
    "import matplotlib.pyplot as plt\n",
    "import numpy as np\n",
    "from distinctipy import distinctipy\n",
    "from matplotlib.colors import ListedColormap\n",
    "\n",
    "# Generate 100 distinct colors\n",
    "distinct_colors = distinctipy.get_colors(100)\n",
    "\n",
    "# Create colormap\n",
    "custom_cmap = ListedColormap(distinct_colors)\n",
    "\n",
    "# Example usage with scatter plot\n",
    "x = np.random.rand(100)\n",
    "y = np.random.rand(100)\n",
    "labels = np.random.randint(0, 100, 100)\n",
    "\n",
    "plt.scatter(x, y, c=labels, cmap=custom_cmap)\n",
    "plt.colorbar()\n",
    "plt.title('Scatter Plot with 100 Distinct Colors')\n",
    "plt.show()\n"
   ]
  },
  {
   "cell_type": "code",
   "execution_count": 76,
   "metadata": {},
   "outputs": [
    {
     "name": "stderr",
     "output_type": "stream",
     "text": [
      "17987it [06:44, 44.48it/s]\n"
     ]
    }
   ],
   "source": [
    "pcap_file_path = r'D:\\LiDAR_Data\\US50ANDHighlands\\2024-03-16-12-30-00.pcap'\n",
    "tracking_parameter_dict = {\n",
    "        'win_width': 13,\n",
    "        'win_height': 7,\n",
    "        'eps': 1,\n",
    "        'min_samples': 10,\n",
    "        'missing_thred': 5,\n",
    "        'bck_radius': 0.2,\n",
    "        'N' : 10,\n",
    "        'd_thred' : 0.1,\n",
    "    }\n",
    "termination_event = Event()\n",
    "thred_map = gen_bckmap(pcap_file_path, \n",
    "                        N = tracking_parameter_dict['N'],\n",
    "                        d_thred = tracking_parameter_dict['d_thred'],\n",
    "                        bck_n = 3,\n",
    "                        termination_event = termination_event)\n",
    "start_timestamp = get_pcap_start_time(pcap_file_path)\n",
    "packets_gen = read_packets_offline(pcap_file_path)\n",
    "frame_generator = parse_packets(packets_gen)"
   ]
  },
  {
   "cell_type": "code",
   "execution_count": 80,
   "metadata": {},
   "outputs": [],
   "source": [
    "UTC_time_diff = 0\n",
    "if_save_point_cloud = True\n",
    "point_cloud_path = r'D:\\LiDAR_Data\\Test'"
   ]
  },
  {
   "cell_type": "code",
   "execution_count": 238,
   "metadata": {},
   "outputs": [],
   "source": [
    "mot = MOT(tracking_parameter_dict,thred_map)\n",
    "mot.UTC_time_diff = UTC_time_diff\n",
    "if if_save_point_cloud:\n",
    "    mot.point_cloud_save_path = point_cloud_path\n",
    "mot.start_timestamp = start_timestamp"
   ]
  },
  {
   "cell_type": "code",
   "execution_count": 239,
   "metadata": {},
   "outputs": [],
   "source": [
    "while not mot.if_initialized:\n",
    "    try:\n",
    "        frame = next(frame_generator)\n",
    "    except StopIteration:\n",
    "        break\n",
    "    mot.initialization(frame)\n",
    "\n",
    "    if if_save_point_cloud:\n",
    "        save_fore_pcd(mot.cur_Td_map,mot.cur_Labeling_map,point_cloud_path,mot.CurFrame,mot.Tracking_pool)\n",
    "    # break"
   ]
  },
  {
   "cell_type": "code",
   "execution_count": 422,
   "metadata": {},
   "outputs": [],
   "source": [
    "frame = next(frame_generator)\n",
    "mot.mot_tracking_step(frame)\n",
    "# save_fore_pcd(mot.cur_Td_map,mot.cur_Labeling_map,point_cloud_path,mot.CurFrame,mot.Tracking_pool)\n",
    "fore_points = get_fore_pcd(mot.cur_Td_map,mot.cur_Labeling_map,mot.Tracking_pool)\n",
    "cur_frame = mot.CurFrame\n",
    "cur_labeling_map = mot.cur_Labeling_map\n",
    "cur_td_map = mot.cur_Td_map"
   ]
  },
  {
   "cell_type": "code",
   "execution_count": 423,
   "metadata": {},
   "outputs": [
    {
     "data": {
      "image/png": "[encoded data removed]",
      "text/plain": [
       "<Figure size 432x288 with 1 Axes>"
      ]
     },
     "metadata": {
      "needs_background": "light"
     },
     "output_type": "display_data"
    }
   ],
   "source": [
    "plt.scatter(fore_points[:,0],fore_points[:,1],s = 1,c = fore_points[:,3])\n",
    "for key in mot.Tracking_pool.keys():\n",
    "    if mot.Tracking_pool[key].label_seq[-1] != -1:\n",
    "        plt.scatter(mot.Tracking_pool[key].mea_seq[-1][0][0][0],mot.Tracking_pool[key].mea_seq[-1][0][1][0],c = 'r')\n",
    "        plt.text(mot.Tracking_pool[key].mea_seq[-1][0][0][0],mot.Tracking_pool[key].mea_seq[-1][0][1][0],str(key))\n",
    "plt.show()"
   ]
  },
  {
   "cell_type": "code",
   "execution_count": 2,
   "metadata": {},
   "outputs": [],
   "source": [
    "# point cloud is in .npy format [x,y,z,obj_label]\n",
    "point_cloud_folder = r'D:\\LiDAR_Data\\US50ANDHighlands\\test_point_cloud_out'\n",
    "pc_folders = os.listdir(point_cloud_folder)\n",
    "for folder in pc_folders:\n",
    "    frame_names = os.listdir(os.path.join(point_cloud_folder, folder))\n",
    "    total_point_clouds = []\n",
    "    for frame in frame_names:\n",
    "        point_cloud = np.load(os.path.join(point_cloud_folder, folder, frame))\n",
    "        total_point_clouds.append(point_cloud)\n",
    "    break\n",
    "total_point_clouds_frame = np.concatenate(total_point_clouds, axis=0)"
   ]
  },
  {
   "cell_type": "code",
   "execution_count": 3,
   "metadata": {},
   "outputs": [],
   "source": [
    "trajectory_data = pd.read_csv(r'D:\\LiDAR_Data\\US50ANDHighlands\\test_traj_out\\2024-03-16-12-30-00.csv')"
   ]
  },
  {
   "cell_type": "code",
   "execution_count": 539,
   "metadata": {},
   "outputs": [
    {
     "name": "stdout",
     "output_type": "stream",
     "text": [
      "39 33.74553318073375 0.5588590789333612\n"
     ]
    }
   ],
   "source": [
    "ID = 8449\n",
    "temp = fore_points[fore_points[:,3] == ID]\n",
    "point_num = len(temp)\n",
    "distance = np.sqrt(temp[:,0] ** 2 + temp[:,1] ** 2).mean()\n",
    "# bounding box formed by temp\n",
    "x_min = temp[:,0].min()\n",
    "x_max = temp[:,0].max()\n",
    "y_min = temp[:,1].min()\n",
    "y_max = temp[:,1].max()\n",
    "area = (x_max - x_min) * (y_max - y_min)\n",
    "print(point_num,distance,area)"
   ]
  },
  {
   "cell_type": "code",
   "execution_count": 1451,
   "metadata": {},
   "outputs": [
    {
     "data": {
      "image/png": "[encoded data removed]",
      "text/plain": [
       "<Figure size 720x720 with 1 Axes>"
      ]
     },
     "metadata": {
      "needs_background": "light"
     },
     "output_type": "display_data"
    }
   ],
   "source": [
    "import numpy as np\n",
    "import matplotlib.pyplot as plt\n",
    "\n",
    "fore_points = np.load(r'D:\\LiDAR_Data\\Harvard_out_pc\\2023-05-11-07-30-00\\290.npy')\n",
    "unique_ids = np.unique(fore_points[:,3])\n",
    "plt.figure(figsize=(10,10))\n",
    "plt.scatter(fore_points[:,0],fore_points[:,1],s = 1,c = fore_points[:,3],cmap = custom_cmap)\n",
    "# annotate the id of each object\n",
    "for id in unique_ids:\n",
    "    id_points = fore_points[fore_points[:,3] == id]\n",
    "    plt.text(id_points[0,0],id_points[0,1],str(int(id)))\n",
    "plt.scatter(24.130,-29.841,c = 'r', label = 'Ref Point')\n",
    "# x and y limits in +- 10 meters in the reference point\n",
    "# plt.xlim(38.632 - 5,38.632 + 5)\n",
    "# plt.ylim(-14.868 - 5,-14.868 + 5)\n",
    "plt.xlim(-70,70)\n",
    "plt.ylim(-70,70)\n",
    "plt.show()"
   ]
  },
  {
   "cell_type": "code",
   "execution_count": 1466,
   "metadata": {},
   "outputs": [],
   "source": [
    "import pandas as pd\n",
    "from tqdm import tqdm"
   ]
  },
  {
   "cell_type": "code",
   "execution_count": 1458,
   "metadata": {},
   "outputs": [],
   "source": [
    "date_list = ['2023-05-11-09-30-00','2023-05-11-08-30-00','2023-05-11-09-00-00','2023-05-11-07-30-00']"
   ]
  },
  {
   "cell_type": "code",
   "execution_count": 1471,
   "metadata": {},
   "outputs": [
    {
     "name": "stderr",
     "output_type": "stream",
     "text": [
      "2629it [00:09, 271.34it/s]\n",
      "2417it [00:11, 215.79it/s]\n",
      "3589it [00:19, 181.67it/s]\n",
      "119it [00:00, 166.01it/s]\n"
     ]
    }
   ],
   "source": [
    "labels = []\n",
    "point_nums = []\n",
    "distances = []\n",
    "areas = []\n",
    "for table_str in date_list:\n",
    "    table = pd.read_excel(r'D:\\LiDAR_Data\\Harvard_out_pc\\NumClassification.xlsx',sheet_name = table_str)\n",
    "    for i,row in tqdm(table.iterrows()):\n",
    "        FrameIndex = row.FrameIndex\n",
    "        Label = row.Label\n",
    "        ObjID = row.ObjID\n",
    "        fore_points = np.load(r'D:\\LiDAR_Data\\Harvard_out_pc\\{}\\{}.npy'.format(table_str,FrameIndex))\n",
    "        temp = fore_points[fore_points[:,3] == ObjID]\n",
    "        if len(temp) == 0:\n",
    "            continue\n",
    "        point_num = len(temp)\n",
    "        distance = np.sqrt(temp[:,0] ** 2 + temp[:,1] ** 2).mean()\n",
    "        # bounding box formed by temp\n",
    "        x_min = temp[:,0].min()\n",
    "        x_max = temp[:,0].max()\n",
    "        y_min = temp[:,1].min()\n",
    "        y_max = temp[:,1].max()\n",
    "        area = (x_max - x_min) * (y_max - y_min)\n",
    "        labels.append(Label)\n",
    "        point_nums.append(point_num)\n",
    "        distances.append(distance)\n",
    "        areas.append(area)\n",
    "data = pd.DataFrame({'Label':labels,'PointNum':point_nums,'Distance':distances,'Area':areas})\n",
    "                \n",
    "    "
   ]
  },
  {
   "cell_type": "code",
   "execution_count": 1475,
   "metadata": {},
   "outputs": [],
   "source": [
    "import pandas as pd\n",
    "from sklearn.model_selection import train_test_split\n",
    "from sklearn.ensemble import RandomForestRegressor\n",
    "from sklearn.metrics import mean_squared_error, r2_score"
   ]
  },
  {
   "cell_type": "code",
   "execution_count": 1516,
   "metadata": {},
   "outputs": [
    {
     "name": "stdout",
     "output_type": "stream",
     "text": [
      "Mean Squared Error: 0.19\n",
      "R-squared: 0.87\n",
      "Confusion Matrix:\n",
      "[[789  59   7   0   0]\n",
      " [ 61 379  28   1   1]\n",
      " [  1  58 169   4   6]\n",
      " [  0   0   0  34   1]\n",
      " [  0   2   5   7  86]]\n"
     ]
    },
    {
     "data": {
      "image/png": "[encoded data removed]",
      "text/plain": [
       "<Figure size 432x288 with 2 Axes>"
      ]
     },
     "metadata": {
      "needs_background": "light"
     },
     "output_type": "display_data"
    },
    {
     "name": "stdout",
     "output_type": "stream",
     "text": [
      "\n",
      "Classification Report:\n",
      "              precision    recall  f1-score   support\n",
      "\n",
      "           1       0.93      0.92      0.92       855\n",
      "           2       0.76      0.81      0.78       470\n",
      "           3       0.81      0.71      0.76       238\n",
      "           4       0.74      0.97      0.84        35\n",
      "           5       0.91      0.86      0.89       100\n",
      "\n",
      "    accuracy                           0.86      1698\n",
      "   macro avg       0.83      0.85      0.84      1698\n",
      "weighted avg       0.86      0.86      0.86      1698\n",
      "\n"
     ]
    }
   ],
   "source": [
    "df = data.copy()\n",
    "# Features\n",
    "X = df[['PointNum', 'Distance', 'Area']]\n",
    "\n",
    "# Target variable\n",
    "y = df['Label']\n",
    "X_train, X_test, y_train, y_test = train_test_split(X, y, test_size=0.2, random_state=42)\n",
    "# Initialize the model\n",
    "rf_regressor = RandomForestRegressor(n_estimators=100, random_state=42)\n",
    "\n",
    "# Train the model\n",
    "rf_regressor.fit(X_train, y_train)\n",
    "# Predict on the test set\n",
    "y_pred = rf_regressor.predict(X_test)\n",
    "# Calculate Mean Squared Error\n",
    "mse = mean_squared_error(y_test, y_pred)\n",
    "print(f\"Mean Squared Error: {mse:.2f}\")\n",
    "\n",
    "# Calculate R-squared\n",
    "r2 = r2_score(y_test, y_pred)\n",
    "print(f\"R-squared: {r2:.2f}\")\n",
    "y_pred_rounded = np.round(y_pred).astype(int)\n",
    "y_pred_categorized = np.where(y_pred_rounded >= 5, 5, y_pred_rounded)\n",
    "y_test_categorized = np.where(y_test >= 5, 5, y_test)\n",
    "from sklearn.metrics import confusion_matrix\n",
    "\n",
    "# Compute confusion matrix\n",
    "conf_matrix = confusion_matrix(y_test_categorized, y_pred_categorized, labels=[1, 2, 3, 4,5])\n",
    "print(\"Confusion Matrix:\")\n",
    "print(conf_matrix)\n",
    "import matplotlib.pyplot as plt\n",
    "import seaborn as sns\n",
    "from sklearn.metrics import ConfusionMatrixDisplay\n",
    "\n",
    "# Define class labels\n",
    "class_labels = ['1', '2', '3', '4','5+']\n",
    "\n",
    "# Plot confusion matrix\n",
    "disp = ConfusionMatrixDisplay(confusion_matrix=conf_matrix, display_labels=class_labels)\n",
    "disp.plot(cmap=plt.cm.Blues)\n",
    "plt.title('Confusion Matrix')\n",
    "plt.show()\n",
    "# Generate a classification report\n",
    "class_report = classification_report(y_test_categorized, y_pred_categorized, labels=[1, 2, 3, 4, 5])\n",
    "print(\"\\nClassification Report:\")\n",
    "print(class_report)"
   ]
  },
  {
   "cell_type": "code",
   "execution_count": 1489,
   "metadata": {},
   "outputs": [
    {
     "name": "stdout",
     "output_type": "stream",
     "text": [
      "    Feature  Importance\n",
      "2      Area    0.703696\n",
      "0  PointNum    0.160519\n",
      "1  Distance    0.135785\n"
     ]
    }
   ],
   "source": [
    "# Get feature importances\n",
    "importances = rf_regressor.feature_importances_\n",
    "\n",
    "# Create a DataFrame for visualization\n",
    "feature_importances = pd.DataFrame({\n",
    "    'Feature': ['PointNum', 'Distance', 'Area'],\n",
    "    'Importance': importances\n",
    "}).sort_values(by='Importance', ascending=False)\n",
    "\n",
    "print(feature_importances)\n"
   ]
  },
  {
   "cell_type": "code",
   "execution_count": 1536,
   "metadata": {},
   "outputs": [
    {
     "name": "stdout",
     "output_type": "stream",
     "text": [
      "Confusion Matrix:\n",
      "[[804  41   9   0   1]\n",
      " [ 72 376  21   0   1]\n",
      " [  6  53 174   0   5]\n",
      " [  0   0   0  34   1]\n",
      " [  3   3   5   0  89]]\n",
      "\n",
      "Classification Report:\n",
      "              precision    recall  f1-score   support\n",
      "\n",
      "           1       0.91      0.94      0.92       855\n",
      "           2       0.79      0.80      0.80       470\n",
      "           3       0.83      0.73      0.78       238\n",
      "           4       1.00      0.97      0.99        35\n",
      "           5       0.92      0.89      0.90       100\n",
      "\n",
      "    accuracy                           0.87      1698\n",
      "   macro avg       0.89      0.87      0.88      1698\n",
      "weighted avg       0.87      0.87      0.87      1698\n",
      "\n"
     ]
    },
    {
     "data": {
      "image/png": "[encoded data removed]",
      "text/plain": [
       "<Figure size 576x432 with 2 Axes>"
      ]
     },
     "metadata": {
      "needs_background": "light"
     },
     "output_type": "display_data"
    },
    {
     "name": "stdout",
     "output_type": "stream",
     "text": [
      "    Feature  Importance\n",
      "2      Area    0.478405\n",
      "0  PointNum    0.277739\n",
      "1  Distance    0.243856\n"
     ]
    }
   ],
   "source": [
    "import pandas as pd\n",
    "import numpy as np\n",
    "from sklearn.model_selection import train_test_split\n",
    "from sklearn.ensemble import RandomForestClassifier\n",
    "from sklearn.metrics import confusion_matrix, classification_report\n",
    "import matplotlib.pyplot as plt\n",
    "import seaborn as sns\n",
    "# Define features and target variable\n",
    "X = np.array(df[['PointNum', 'Distance', 'Area']])\n",
    "y = np.array(df['Label'])\n",
    "\n",
    "# Categorize the target variable\n",
    "y = np.where(y >= 5, 5, y)\n",
    "\n",
    "X_train, X_test, y_train, y_test = train_test_split(X, y, test_size=0.2, random_state=42)\n",
    "# Initialize the model\n",
    "rf_classifier = RandomForestClassifier(n_estimators=120, random_state=42)\n",
    "\n",
    "# Train the model\n",
    "rf_classifier.fit(X_train, y_train)\n",
    "# Predict on the test set\n",
    "y_pred = rf_classifier.predict(X_test)\n",
    "# Compute the confusion matrix\n",
    "conf_matrix = confusion_matrix(y_test, y_pred, labels=[1, 2, 3, 4, 5])\n",
    "\n",
    "# Display the confusion matrix\n",
    "print(\"Confusion Matrix:\")\n",
    "print(conf_matrix)\n",
    "\n",
    "# Generate a classification report\n",
    "class_report = classification_report(y_test, y_pred, labels=[1, 2, 3, 4, 5])\n",
    "print(\"\\nClassification Report:\")\n",
    "print(class_report)\n",
    "# Define class labels\n",
    "class_labels = ['1', '2', '3', '4','5+']\n",
    "\n",
    "# Plot confusion matrix\n",
    "plt.figure(figsize=(8, 6))\n",
    "sns.heatmap(conf_matrix, annot=True, fmt='d', cmap='Blues', xticklabels=class_labels, yticklabels=class_labels)\n",
    "plt.xlabel('Predicted')\n",
    "plt.ylabel('Actual')\n",
    "plt.title('Confusion Matrix')\n",
    "plt.show()\n",
    "\n",
    "# Get feature importances\n",
    "importances = rf_classifier.feature_importances_\n",
    "# Create a DataFrame for visualization\n",
    "feature_importances = pd.DataFrame({\n",
    "    'Feature': ['PointNum', 'Distance', 'Area'],\n",
    "    'Importance': importances\n",
    "}).sort_values(by='Importance', ascending=False)\n",
    "print(feature_importances)"
   ]
  },
  {
   "cell_type": "code",
   "execution_count": null,
   "metadata": {},
   "outputs": [],
   "source": [
    "# save rf_classifier using pickle to "
   ]
  },
  {
   "cell_type": "code",
   "execution_count": 1537,
   "metadata": {},
   "outputs": [],
   "source": [
    "test_traj = pd.read_csv(r'D:\\LiDAR_Data\\Harvard_out\\2023-05-11-07-30-00.csv')"
   ]
  },
  {
   "cell_type": "code",
   "execution_count": 1538,
   "metadata": {},
   "outputs": [
    {
     "data": {
      "text/html": [
       "<div>\n",
       "<style scoped>\n",
       "    .dataframe tbody tr th:only-of-type {\n",
       "        vertical-align: middle;\n",
       "    }\n",
       "\n",
       "    .dataframe tbody tr th {\n",
       "        vertical-align: top;\n",
       "    }\n",
       "\n",
       "    .dataframe thead th {\n",
       "        text-align: right;\n",
       "    }\n",
       "</style>\n",
       "<table border=\"1\" class=\"dataframe\">\n",
       "  <thead>\n",
       "    <tr style=\"text-align: right;\">\n",
       "      <th></th>\n",
       "      <th>PointNum</th>\n",
       "      <th>Distance</th>\n",
       "      <th>Area</th>\n",
       "    </tr>\n",
       "  </thead>\n",
       "  <tbody>\n",
       "    <tr>\n",
       "      <th>0</th>\n",
       "      <td>101</td>\n",
       "      <td>35.262214</td>\n",
       "      <td>17.570499</td>\n",
       "    </tr>\n",
       "    <tr>\n",
       "      <th>1</th>\n",
       "      <td>56</td>\n",
       "      <td>30.723667</td>\n",
       "      <td>1.118447</td>\n",
       "    </tr>\n",
       "    <tr>\n",
       "      <th>2</th>\n",
       "      <td>56</td>\n",
       "      <td>30.557729</td>\n",
       "      <td>1.540774</td>\n",
       "    </tr>\n",
       "    <tr>\n",
       "      <th>3</th>\n",
       "      <td>61</td>\n",
       "      <td>30.400419</td>\n",
       "      <td>1.007198</td>\n",
       "    </tr>\n",
       "    <tr>\n",
       "      <th>4</th>\n",
       "      <td>63</td>\n",
       "      <td>30.231347</td>\n",
       "      <td>1.378942</td>\n",
       "    </tr>\n",
       "    <tr>\n",
       "      <th>...</th>\n",
       "      <td>...</td>\n",
       "      <td>...</td>\n",
       "      <td>...</td>\n",
       "    </tr>\n",
       "    <tr>\n",
       "      <th>8485</th>\n",
       "      <td>89</td>\n",
       "      <td>3.991556</td>\n",
       "      <td>3.346192</td>\n",
       "    </tr>\n",
       "    <tr>\n",
       "      <th>8486</th>\n",
       "      <td>93</td>\n",
       "      <td>4.013619</td>\n",
       "      <td>3.502709</td>\n",
       "    </tr>\n",
       "    <tr>\n",
       "      <th>8487</th>\n",
       "      <td>128</td>\n",
       "      <td>3.872906</td>\n",
       "      <td>6.881175</td>\n",
       "    </tr>\n",
       "    <tr>\n",
       "      <th>8488</th>\n",
       "      <td>125</td>\n",
       "      <td>3.780455</td>\n",
       "      <td>7.062354</td>\n",
       "    </tr>\n",
       "    <tr>\n",
       "      <th>8489</th>\n",
       "      <td>121</td>\n",
       "      <td>3.753582</td>\n",
       "      <td>6.650974</td>\n",
       "    </tr>\n",
       "  </tbody>\n",
       "</table>\n",
       "<p>8490 rows × 3 columns</p>\n",
       "</div>"
      ],
      "text/plain": [
       "      PointNum   Distance       Area\n",
       "0          101  35.262214  17.570499\n",
       "1           56  30.723667   1.118447\n",
       "2           56  30.557729   1.540774\n",
       "3           61  30.400419   1.007198\n",
       "4           63  30.231347   1.378942\n",
       "...        ...        ...        ...\n",
       "8485        89   3.991556   3.346192\n",
       "8486        93   4.013619   3.502709\n",
       "8487       128   3.872906   6.881175\n",
       "8488       125   3.780455   7.062354\n",
       "8489       121   3.753582   6.650974\n",
       "\n",
       "[8490 rows x 3 columns]"
      ]
     },
     "execution_count": 1538,
     "metadata": {},
     "output_type": "execute_result"
    }
   ],
   "source": [
    "df[['PointNum', 'Distance', 'Area']]"
   ]
  },
  {
   "cell_type": "code",
   "execution_count": 1539,
   "metadata": {},
   "outputs": [
    {
     "data": {
      "text/plain": [
       "array([[ 15.        ,  50.3216    ,   0.62782943],\n",
       "       [ 15.        ,  50.3216    ,   0.62782943],\n",
       "       [ 15.        ,  50.3216    ,   0.62782943],\n",
       "       ...,\n",
       "       [ 10.        , 108.082     ,   5.59009933],\n",
       "       [ 10.        , 108.082     ,   5.59009933],\n",
       "       [ 10.        ,  42.0436    ,   0.41225699]])"
      ]
     },
     "execution_count": 1539,
     "metadata": {},
     "output_type": "execute_result"
    }
   ],
   "source": [
    "np.array(test_traj.loc[:,['Point_Cnt','Dis','Area']])"
   ]
  },
  {
   "cell_type": "code",
   "execution_count": 1541,
   "metadata": {},
   "outputs": [],
   "source": [
    "ped_num = rf_classifier.predict(np.array(test_traj.loc[:,['Point_Cnt','Dis','Area']]))"
   ]
  },
  {
   "cell_type": "code",
   "execution_count": 1544,
   "metadata": {},
   "outputs": [
    {
     "data": {
      "text/plain": [
       "array([1, 1, 1, ..., 1, 1, 1], dtype=int64)"
      ]
     },
     "execution_count": 1544,
     "metadata": {},
     "output_type": "execute_result"
    }
   ],
   "source": [
    "ped_num"
   ]
  }
 ],
 "metadata": {
  "kernelspec": {
   "display_name": "tracking3",
   "language": "python",
   "name": "python3"
  },
  "language_info": {
   "codemirror_mode": {
    "name": "ipython",
    "version": 3
   },
   "file_extension": ".py",
   "mimetype": "text/x-python",
   "name": "python",
   "nbconvert_exporter": "python",
   "pygments_lexer": "ipython3",
   "version": "3.8.0"
  }
 },
 "nbformat": 4,
 "nbformat_minor": 2
}
