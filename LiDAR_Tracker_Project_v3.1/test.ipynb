{
 "cells": [
  {
   "cell_type": "code",
   "execution_count": 6,
   "metadata": {},
   "outputs": [],
   "source": [
    "# set same dependency environment to ./Utils/Tracker.py, so python files in this script can access the same environment as Tracker.py\n",
    "import sys\n",
    "sys.path.append(r'D:\\CodeRepos\\Lidar-Tracker\\LiDAR_Tracker_Project_v3.1\\Interface\\Utils')\n",
    "\n",
    "from DDBSCAN import Raster_DBSCAN\n",
    "from LiDARBase import *\n",
    "from GenBckFile import *\n",
    "from SaveTrajectoryTools import save_result\n",
    "from ExamPcapStartTime import get_pcap_start_time\n",
    "import pandas as pd\n",
    "import os\n",
    "from p_tqdm import p_umap\n",
    "from functools import partial\n",
    "from threading import Thread,Event"
   ]
  },
  {
   "cell_type": "code",
   "execution_count": 10,
   "metadata": {},
   "outputs": [],
   "source": [
    "A = np.array([ # x,y,x',y'\n",
    "    [1,0,1,0],\n",
    "    [0,1,0,1],\n",
    "    [0,0,1,0],\n",
    "    [0,0,0,1],\n",
    "])\n",
    "Q = np.diag([1,1,0.1,0.1])\n",
    "R = np.diag([1,1])\n",
    "P_em = np.diag([1.53,1.53,2.2,2.2])\n",
    "\n",
    "H = np.array([\n",
    "    [1,0,0,0],\n",
    "    [0,1,0,0]\n",
    "])\n",
    "\n",
    "# this has to loop\n",
    "\"\"\"\n",
    "When we click on the tracking mode, it creates a MOT object, and trying to initialize the tracking operation by detecting the first frame that some objects exist.\n",
    "Once some objects are detected, just forward. \n",
    "\"\"\"\n",
    "\n",
    "class MOT():\n",
    "    def __init__(self,tracking_parameter_dict, thred_map):\n",
    "        \"\"\"\n",
    "        background_update_time : background update time (sec)\n",
    "        \"\"\"\n",
    "        \n",
    "        # if no data in pcap, then it's False\n",
    "        self.if_pcap_valid = True\n",
    "        self.if_initialized = False \n",
    "        # params for clustering and background sampling\n",
    "        self.bck_radius = tracking_parameter_dict['bck_radius']\n",
    "        self.win_size = (tracking_parameter_dict['win_height'],tracking_parameter_dict['win_width'])\n",
    "        self.eps = tracking_parameter_dict['eps'] \n",
    "        self.min_samples = tracking_parameter_dict['min_samples']\n",
    "        self.missing_thred = tracking_parameter_dict['missing_thred']\n",
    "\n",
    "        \n",
    "        self.db = Raster_DBSCAN(window_size=self.win_size,eps = self.eps,min_samples= self.min_samples,Td_map_szie=(32,1800))\n",
    "        ###\n",
    "        self.thred_map = thred_map     \n",
    "        self.start_timestamp = 0    \n",
    "        ###\n",
    "        self.Tracking_pool = {}\n",
    "        self.Off_tracking_pool = {}\n",
    "        self.Global_id = 0\n",
    "        self.CurFrame = 0\n",
    "        self.start_timestamp = 0\n",
    "        self.cur_mea = None\n",
    "        self.cur_app = None\n",
    "        self.cur_unique_label = None\n",
    "        self.cur_Td_map = None\n",
    "        self.cur_Labeling_map = None\n",
    "        self.point_cloud_save_path = None\n",
    "        self.trajectory_save_path = None\n",
    "        self.if_save_point_cloud = None\n",
    "        self.UTC_time_diff = None\n",
    "\n",
    "    def initialization(self,Frame):\n",
    "        # you should set up some initial status, we should code the logic in the main loop. \n",
    "        \n",
    "        Td_map = Frame\n",
    "        Foreground_map = ~(np.abs(Td_map - self.thred_map) <= self.bck_radius).any(axis = 0)\n",
    "        Labeling_map = self.db.fit_predict(Td_map = Td_map,Foreground_map = Foreground_map)\n",
    "        mea_init,app_init,unique_label_init,Labeling_map = extract_xy(Labeling_map,Td_map)\n",
    "        self.CurFrame += 1\n",
    "        if len(unique_label_init) == 0:\n",
    "        # No object in initial frame\n",
    "            return False\n",
    "        self.cur_Labeling_map = Labeling_map\n",
    "        self.cur_Td_map = Td_map\n",
    "        self.cur_mea = mea_init\n",
    "        self.cur_app = app_init \n",
    "        # some appearance feature \n",
    "        self.cur_unique_label = unique_label_init\n",
    "        # m: n x 2 x 2 x 1 (n objects , 2 repr point, x and y, 1 col )\n",
    "        n_observed = self.cur_mea.shape[0]\n",
    "        n_repr = self.cur_mea.shape[1]\n",
    "        n_offset_dim = A.shape[0] - self.cur_mea.shape[2]\n",
    "        state_cur = np.concatenate([self.cur_mea,np.zeros((n_observed,n_repr,n_offset_dim,1))],axis = 2)\n",
    "        P_cur = np.full((n_observed,2,P_em.shape[0],P_em.shape[1]),P_em)\n",
    "        # s: n x 2 x 4 x 1: x,y,vx,vy\n",
    "\n",
    "        \"\"\"\n",
    "        Create initial detections\n",
    "        \"\"\"\n",
    "\n",
    "        for i,label in enumerate(self.cur_unique_label):\n",
    "            create_new_detection(self.Tracking_pool,self.Global_id,P_cur[i],state_cur[i],\n",
    "            self.cur_app[i],label,self.cur_mea[i],self.CurFrame)\n",
    "            self.Global_id += 1\n",
    "        # Found objects in initial frame\n",
    "        self.if_initialized = True\n",
    "        return True\n",
    "\n",
    "    def mot_tracking_step(self, Frame):\n",
    "        if Frame is None:\n",
    "            return False\n",
    "        Td_map = Frame\n",
    "        glb_ids,state_cur,app_cur,unique_label_cur,P_cur = [],[],[],[],[]\n",
    "        for glb_id in self.Tracking_pool.keys():\n",
    "            glb_ids.append(glb_id)\n",
    "            P_cur.append(self.Tracking_pool[glb_id].P)\n",
    "            state_cur.append(self.Tracking_pool[glb_id].state)\n",
    "            app_cur.append(self.Tracking_pool[glb_id].apperance)\n",
    "            # mea_cur.append(self.Tracking_pool[glb_id].mea_seq[-1])\n",
    "            unique_label_cur.append(self.Tracking_pool[glb_id].label_seq[-1])\n",
    "\n",
    "        # mea_cur = np.array(mea_cur)\n",
    "        glb_ids = np.array(glb_ids)\n",
    "        state_cur = np.array(state_cur)\n",
    "        app_cur = np.array(app_cur)\n",
    "        unique_label_cur = np.array(unique_label_cur)\n",
    "        P_cur = np.array(P_cur)\n",
    "        # state_cur: n x 2 x 4 x 1\n",
    "        Foreground_map = ~(np.abs(Td_map - self.thred_map) <= self.bck_radius).any(axis = 0)\n",
    "        Labeling_map = self.db.fit_predict(Td_map= Td_map,Foreground_map=Foreground_map)\n",
    "\n",
    "            # m: n x 2 x 2 x 1 (n objects , 2 repr point, x and y, 1 col )\n",
    "            # app: n x 1 x 7 x 1\n",
    "            # first repr point refers to the one with lower azimuth id \n",
    "        mea_next,app_next,unique_label_next,Labeling_map = extract_xy(Labeling_map,Td_map)\n",
    "\n",
    "        if len(glb_ids) >0: # we have tracklets in current pool\n",
    "            state_cur_,P_cur_ = state_predict(A,Q,state_cur,P_cur) \n",
    "            if len(unique_label_next) > 0: # detected something in next frame\n",
    "                    \n",
    "                    # app_next : n x 7 x 1\n",
    "                    State_affinity = get_affinity_IoU(app_cur,app_next,unique_label_next,\n",
    "                     unique_label_cur,self.cur_Labeling_map,Labeling_map)\n",
    "                    # assiciated_ind for unique_label_next and unique_label_cur\n",
    "                    associated_ind_cur,associated_ind_next = linear_assignment(State_affinity)\n",
    "                    # in a but not in b\n",
    "                    failed_tracked_ind = np.setdiff1d(np.arange(len(glb_ids)),associated_ind_cur) \n",
    "                    new_detection_ind = np.setdiff1d(np.arange(len(unique_label_next)),associated_ind_next)\n",
    "                    if ( len(failed_tracked_ind) > 0 ) & (len(new_detection_ind) > 0):\n",
    "                        State_affinity_kalman = get_affinity_kalman(failed_tracked_ind,new_detection_ind,state_cur_,mea_next,P_cur_)\n",
    "                        failed_tracked_ind_,new_detection_ind_ = linear_assignment_kalman(State_affinity_kalman)\n",
    "\n",
    "                        if len(failed_tracked_ind_) > 0:\n",
    "                            associated_ind_cur = np.concatenate([associated_ind_cur,failed_tracked_ind[failed_tracked_ind_]]).astype(int)\n",
    "                            associated_ind_next = np.concatenate([associated_ind_next,new_detection_ind[new_detection_ind_]]).astype(int)\n",
    "                    \"\"\"\n",
    "                    Failed tracking and new detections\n",
    "                    \"\"\"\n",
    "                    failed_tracked_ind = np.setdiff1d(np.arange(len(glb_ids)),associated_ind_cur) \n",
    "                    if len(failed_tracked_ind) > 0:\n",
    "                        for fid in failed_tracked_ind:\n",
    "                            process_fails(self.Tracking_pool,self.Off_tracking_pool,glb_ids[fid],state_cur_[fid],P_cur_[fid],self.missing_thred)\n",
    "\n",
    "                    new_detection_ind = np.setdiff1d(np.arange(len(unique_label_next)),associated_ind_next)\n",
    "                    if len(new_detection_ind) > 0:\n",
    "                        for n_id in new_detection_ind:\n",
    "                            n_repr = 2\n",
    "                            n_offset_dim = 2\n",
    "                            state_init = np.concatenate([mea_next[n_id],np.zeros((n_repr,n_offset_dim,1))],axis = 1)\n",
    "                            P_init = np.full((2,P_em.shape[0],P_em.shape[1]),P_em)\n",
    "                            create_new_detection(self.Tracking_pool,self.Global_id,P_init,state_init,app_next[n_id],\n",
    "                            unique_label_next[n_id],mea_next[n_id],self.CurFrame)\n",
    "                            self.Global_id += 1\n",
    "\n",
    "                    if len(associated_ind_cur) != 0:\n",
    "                        # print(associated_ind_cur,associated_ind_next)\n",
    "                        state_cur,P_post = state_update(A,H,state_cur_[associated_ind_cur],P_cur_[associated_ind_cur],R,mea_next[associated_ind_next])\n",
    "                        glb_ids = glb_ids[associated_ind_cur]\n",
    "                        # state_cur = state_post[associated_ind_cur]\n",
    "                        mea_next = mea_next[associated_ind_next]\n",
    "                        app_next = app_next[associated_ind_next]\n",
    "                        unique_label_next = unique_label_next[associated_ind_next]\n",
    "                        \"\"\"\n",
    "                        Associate detections \n",
    "                        \"\"\"\n",
    "                        for i,glb_id in enumerate(glb_ids):\n",
    "                            associate_detections(self.Tracking_pool,glb_id,state_cur[i],app_next[i],P_post[i],\n",
    "                                                unique_label_next[i],mea_next[i])\n",
    "            else:\n",
    "                 for i,glb_id in enumerate(glb_ids):\n",
    "                    process_fails(self.Tracking_pool,self.Off_tracking_pool,\n",
    "                                glb_id,state_cur_[i],P_cur_[i],self.missing_thred)\n",
    "        else:\n",
    "            if len(unique_label_next) > 0:\n",
    "                for n_id, mea in enumerate(mea_next):\n",
    "                    n_repr = 2\n",
    "                    n_offset_dim = 2\n",
    "                    state_init = np.concatenate([mea_next[n_id],np.zeros((n_repr,n_offset_dim,1))],axis = 1)\n",
    "                    P_init = np.full((2,P_em.shape[0],P_em.shape[1]),P_em)\n",
    "                    create_new_detection(self.Tracking_pool,self.Global_id,P_init,state_init,\n",
    "                                            app_next[n_id],unique_label_next[n_id],mea_next[n_id],self.CurFrame)\n",
    "                    self.Global_id += 1\n",
    "\n",
    "        self.cur_Labeling_map = Labeling_map\n",
    "        self.cur_Td_map = Td_map\n",
    "        self.CurFrame += 1\n",
    "\n",
    "    def save_trajectory(self,ref_LLH_path,ref_xyz_path,UTC_time_diff):\n",
    "        ref_LLH,ref_xyz = np.array(pd.read_csv(ref_LLH_path)),np.array(pd.read_csv(ref_xyz_path))\n",
    "        if len(np.unique(ref_xyz[:,2])) == 1:\n",
    "            np.random.seed(1)\n",
    "            offset = np.random.normal(-0.521,3.28,len(ref_LLH))\n",
    "            ref_xyz[:,2] += offset\n",
    "            ref_LLH[:,2] += offset * 3.2808\n",
    "        ref_LLH[:,[0,1]] = ref_LLH[:,[0,1]] * np.pi/180\n",
    "        ref_LLH[:,2] = ref_LLH[:,2]/3.2808\n",
    "        save_result(self.Off_tracking_pool,ref_LLH,ref_xyz,self.trajectory_save_path,self.start_timestamp, UTC_time_diff)\n"
   ]
  },
  {
   "cell_type": "code",
   "execution_count": 76,
   "metadata": {},
   "outputs": [
    {
     "name": "stderr",
     "output_type": "stream",
     "text": [
      "17987it [06:44, 44.48it/s]\n"
     ]
    }
   ],
   "source": [
    "pcap_file_path = r'D:\\LiDAR_Data\\US50ANDHighlands\\2024-03-16-12-30-00.pcap'\n",
    "tracking_parameter_dict = {\n",
    "        'win_width': 13,\n",
    "        'win_height': 7,\n",
    "        'eps': 1,\n",
    "        'min_samples': 10,\n",
    "        'missing_thred': 5,\n",
    "        'bck_radius': 0.2,\n",
    "        'N' : 10,\n",
    "        'd_thred' : 0.1,\n",
    "    }\n",
    "termination_event = Event()\n",
    "thred_map = gen_bckmap(pcap_file_path, \n",
    "                        N = tracking_parameter_dict['N'],\n",
    "                        d_thred = tracking_parameter_dict['d_thred'],\n",
    "                        bck_n = 3,\n",
    "                        termination_event = termination_event)\n",
    "start_timestamp = get_pcap_start_time(pcap_file_path)\n",
    "packets_gen = read_packets_offline(pcap_file_path)\n",
    "frame_generator = parse_packets(packets_gen)"
   ]
  },
  {
   "cell_type": "code",
   "execution_count": 80,
   "metadata": {},
   "outputs": [],
   "source": [
    "UTC_time_diff = 0\n",
    "if_save_point_cloud = True\n",
    "point_cloud_path = r'D:\\LiDAR_Data\\Test'"
   ]
  },
  {
   "cell_type": "code",
   "execution_count": 117,
   "metadata": {},
   "outputs": [],
   "source": [
    "mot = MOT(tracking_parameter_dict,thred_map)\n",
    "mot.UTC_time_diff = UTC_time_diff\n",
    "if if_save_point_cloud:\n",
    "    mot.point_cloud_save_path = point_cloud_path\n",
    "mot.start_timestamp = start_timestamp"
   ]
  },
  {
   "cell_type": "code",
   "execution_count": 118,
   "metadata": {},
   "outputs": [],
   "source": [
    "while not mot.if_initialized:\n",
    "    try:\n",
    "        frame = next(frame_generator)\n",
    "    except StopIteration:\n",
    "        break\n",
    "    mot.initialization(frame)\n",
    "\n",
    "    if if_save_point_cloud:\n",
    "        save_fore_pcd(mot.cur_Td_map,mot.cur_Labeling_map,point_cloud_path,mot.CurFrame,mot.Tracking_pool)\n",
    "    # break"
   ]
  },
  {
   "cell_type": "code",
   "execution_count": null,
   "metadata": {},
   "outputs": [],
   "source": [
    "def get_fore_pcd(Td_map,Labeling_map,Tracking_pool):\n",
    "    Xs = []\n",
    "    Ys = []\n",
    "    Zs = []\n",
    "    Labels = []\n",
    "    for i in range(Td_map.shape[0]):\n",
    "        longitudes = theta[i] * np.pi / 180\n",
    "        latitudes = azimuths * np.pi / 180 \n",
    "        hypotenuses = Td_map[i] * np.cos(longitudes)\n",
    "        X = hypotenuses * np.sin(latitudes)\n",
    "        Y = hypotenuses * np.cos(latitudes)\n",
    "        Z = Td_map[i] * np.sin(longitudes)\n",
    "        \n",
    "        Valid_ind = Td_map[i] != 0 \n",
    "        Xs.append(X[Valid_ind])\n",
    "        Ys.append(Y[Valid_ind])\n",
    "        Zs.append(Z[Valid_ind])\n",
    "        Labels.append(Labeling_map[i][Valid_ind])\n",
    "\n",
    "    Xs = np.concatenate(Xs)\n",
    "    Ys = np.concatenate(Ys)\n",
    "    Zs = np.concatenate(Zs)\n",
    "    Labels = np.concatenate(Labels)   \n",
    "\n",
    "    for glb_id in Tracking_pool:\n",
    "        label_id = Tracking_pool[glb_id].label_seq[-1]\n",
    "        if label_id != -1:\n",
    "            Labels[Labels == label_id] = glb_id\n",
    "\n",
    "    pcd = np.c_[Xs,Ys,Zs,Labels]\n",
    "    pcd = pcd[pcd[:,3] != -1]\n",
    "\n",
    "    return pcd"
   ]
  },
  {
   "cell_type": "code",
   "execution_count": 119,
   "metadata": {},
   "outputs": [],
   "source": [
    "frame = next(frame_generator)\n",
    "mot.mot_tracking_step(frame)\n",
    "# save_fore_pcd(mot.cur_Td_map,mot.cur_Labeling_map,point_cloud_path,mot.CurFrame,mot.Tracking_pool)\n"
   ]
  },
  {
   "cell_type": "code",
   "execution_count": 121,
   "metadata": {},
   "outputs": [
    {
     "data": {
      "text/plain": [
       "array([-1,  0,  3,  4,  5, 10, 14, 18, 19], dtype=int64)"
      ]
     },
     "execution_count": 121,
     "metadata": {},
     "output_type": "execute_result"
    }
   ],
   "source": [
    "np.unique(mot.cur_Labeling_map)"
   ]
  },
  {
   "cell_type": "code",
   "execution_count": 126,
   "metadata": {},
   "outputs": [
    {
     "data": {
      "text/plain": [
       "[3, 4, 5, 10, -1, 14, 19, 18]"
      ]
     },
     "execution_count": 126,
     "metadata": {},
     "output_type": "execute_result"
    }
   ],
   "source": [
    "labels"
   ]
  },
  {
   "cell_type": "code",
   "execution_count": 128,
   "metadata": {},
   "outputs": [
    {
     "data": {
      "text/plain": [
       "[1, 2, 3, 4, 5, 6, 7, 8]"
      ]
     },
     "execution_count": 128,
     "metadata": {},
     "output_type": "execute_result"
    }
   ],
   "source": [
    "obj_ids"
   ]
  },
  {
   "cell_type": "code",
   "execution_count": 127,
   "metadata": {},
   "outputs": [],
   "source": [
    "labels = [mot.Tracking_pool[key].label_seq[-1] for key in mot.Tracking_pool.keys()]\n",
    "obj_ids = [key for key in mot.Tracking_pool.keys()]"
   ]
  },
  {
   "cell_type": "code",
   "execution_count": null,
   "metadata": {},
   "outputs": [],
   "source": []
  },
  {
   "cell_type": "code",
   "execution_count": 114,
   "metadata": {},
   "outputs": [],
   "source": [
    "fore_pcd = np.load(r'D:\\LiDAR_Data\\Test\\13.npy')"
   ]
  },
  {
   "cell_type": "code",
   "execution_count": 115,
   "metadata": {},
   "outputs": [
    {
     "data": {
      "text/plain": [
       "<matplotlib.collections.PathCollection at 0x1e2a29373d0>"
      ]
     },
     "execution_count": 115,
     "metadata": {},
     "output_type": "execute_result"
    },
    {
     "data": {
      "image/png": "[encoded data removed]",
      "text/plain": [
       "<Figure size 432x288 with 1 Axes>"
      ]
     },
     "metadata": {
      "needs_background": "light"
     },
     "output_type": "display_data"
    }
   ],
   "source": [
    "plt.scatter(fore_pcd[:,0],fore_pcd[:,1],s = 1,c = fore_pcd[:,3])"
   ]
  },
  {
   "cell_type": "code",
   "execution_count": null,
   "metadata": {},
   "outputs": [],
   "source": []
  }
 ],
 "metadata": {
  "kernelspec": {
   "display_name": "tracking3",
   "language": "python",
   "name": "python3"
  },
  "language_info": {
   "codemirror_mode": {
    "name": "ipython",
    "version": 3
   },
   "file_extension": ".py",
   "mimetype": "text/x-python",
   "name": "python",
   "nbconvert_exporter": "python",
   "pygments_lexer": "ipython3",
   "version": "3.8.0"
  }
 },
 "nbformat": 4,
 "nbformat_minor": 2
}
