{
 "cells": [
  {
   "cell_type": "code",
   "execution_count": 1,
   "id": "144801cb-8029-43f4-ac80-ef30352508b8",
   "metadata": {},
   "outputs": [],
   "source": [
    "import numpy as np\n"
   ]
  },
  {
   "cell_type": "code",
   "execution_count": 3,
   "id": "e86c84ef-2049-436e-8cd5-6bf400533dbd",
   "metadata": {},
   "outputs": [],
   "source": [
    "test = np.random.rand(100,2)"
   ]
  },
  {
   "cell_type": "code",
   "execution_count": 7,
   "id": "15f5bec2-4b03-4067-ac80-3e44704efc2b",
   "metadata": {
    "scrolled": true
   },
   "outputs": [
    {
     "ename": "ValueError",
     "evalue": "a must be 1-dimensional",
     "output_type": "error",
     "traceback": [
      "\u001b[0;31m---------------------------------------------------------------------------\u001b[0m",
      "\u001b[0;31mValueError\u001b[0m                                Traceback (most recent call last)",
      "Cell \u001b[0;32mIn[7], line 1\u001b[0m\n\u001b[0;32m----> 1\u001b[0m \u001b[43mnp\u001b[49m\u001b[38;5;241;43m.\u001b[39;49m\u001b[43mrandom\u001b[49m\u001b[38;5;241;43m.\u001b[39;49m\u001b[43mchoice\u001b[49m\u001b[43m(\u001b[49m\u001b[43mtest\u001b[49m\u001b[43m,\u001b[49m\u001b[43msize\u001b[49m\u001b[43m \u001b[49m\u001b[38;5;241;43m=\u001b[39;49m\u001b[43m \u001b[49m\u001b[43m(\u001b[49m\u001b[38;5;241;43m20\u001b[39;49m\u001b[43m,\u001b[49m\u001b[38;5;241;43m2\u001b[39;49m\u001b[43m)\u001b[49m\u001b[43m)\u001b[49m\n",
      "File \u001b[0;32mmtrand.pyx:946\u001b[0m, in \u001b[0;36mnumpy.random.mtrand.RandomState.choice\u001b[0;34m()\u001b[0m\n",
      "\u001b[0;31mValueError\u001b[0m: a must be 1-dimensional"
     ]
    }
   ],
   "source": [
    "np.random.choice(test,size = (20,2))"
   ]
  },
  {
   "cell_type": "code",
   "execution_count": 4,
   "id": "8e388d28-a683-4e0e-8d8e-11b81ca721b7",
   "metadata": {},
   "outputs": [
    {
     "data": {
      "text/plain": [
       "array([[0.57329835, 0.19702566],\n",
       "       [0.40691417, 0.67802231],\n",
       "       [0.59196647, 0.4063508 ],\n",
       "       [0.90814362, 0.76398211],\n",
       "       [0.60374842, 0.16592974],\n",
       "       [0.26176321, 0.841772  ],\n",
       "       [0.14230232, 0.35731802],\n",
       "       [0.21529653, 0.7287159 ],\n",
       "       [0.62364111, 0.44421628],\n",
       "       [0.93416552, 0.73867484],\n",
       "       [0.63536797, 0.61718821],\n",
       "       [0.3257065 , 0.51739598],\n",
       "       [0.30891911, 0.06542563],\n",
       "       [0.65385786, 0.60869661],\n",
       "       [0.64333274, 0.43738455],\n",
       "       [0.14241319, 0.33373118],\n",
       "       [0.72242965, 0.84972309],\n",
       "       [0.14200609, 0.0584162 ],\n",
       "       [0.53350145, 0.59020866],\n",
       "       [0.20863159, 0.34993143],\n",
       "       [0.70188805, 0.67333968],\n",
       "       [0.19420874, 0.87200187],\n",
       "       [0.22457202, 0.57051165],\n",
       "       [0.67815589, 0.64272351],\n",
       "       [0.56972313, 0.10185782],\n",
       "       [0.68198745, 0.51222829],\n",
       "       [0.13568147, 0.43333645],\n",
       "       [0.74380393, 0.76927469],\n",
       "       [0.62881939, 0.62066244],\n",
       "       [0.37415867, 0.66807315],\n",
       "       [0.295538  , 0.21372745],\n",
       "       [0.74125078, 0.44005296],\n",
       "       [0.39355041, 0.05601934],\n",
       "       [0.75314561, 0.65254706],\n",
       "       [0.65347668, 0.35259354],\n",
       "       [0.73570345, 0.87920393],\n",
       "       [0.01473766, 0.36936859],\n",
       "       [0.13532705, 0.95124157],\n",
       "       [0.67316967, 0.82817216],\n",
       "       [0.13681917, 0.35842998],\n",
       "       [0.35053446, 0.86671788],\n",
       "       [0.41758492, 0.5801474 ],\n",
       "       [0.14296982, 0.35866008],\n",
       "       [0.79387244, 0.41360822],\n",
       "       [0.76659686, 0.45636299],\n",
       "       [0.71704245, 0.5728163 ],\n",
       "       [0.08788105, 0.00509309],\n",
       "       [0.72906328, 0.05362783],\n",
       "       [0.13671624, 0.89560545],\n",
       "       [0.13968838, 0.89401281],\n",
       "       [0.33071694, 0.30852709],\n",
       "       [0.7189745 , 0.64717895],\n",
       "       [0.0719961 , 0.0978755 ],\n",
       "       [0.6648026 , 0.01169867],\n",
       "       [0.11509118, 0.31502676],\n",
       "       [0.45587637, 0.78455848],\n",
       "       [0.91152115, 0.98243796],\n",
       "       [0.13172623, 0.48673301],\n",
       "       [0.01119099, 0.10542936],\n",
       "       [0.02128794, 0.26268913],\n",
       "       [0.1145859 , 0.10172522],\n",
       "       [0.5458895 , 0.05952925],\n",
       "       [0.11236739, 0.34675081],\n",
       "       [0.56531824, 0.07931969],\n",
       "       [0.86209385, 0.05362545],\n",
       "       [0.8063844 , 0.70116288],\n",
       "       [0.1403062 , 0.72054779],\n",
       "       [0.15249961, 0.36942987],\n",
       "       [0.91284676, 0.63529179],\n",
       "       [0.61438376, 0.17622199],\n",
       "       [0.05140012, 0.63555914],\n",
       "       [0.81993022, 0.4020539 ],\n",
       "       [0.41912091, 0.92017988],\n",
       "       [0.0556988 , 0.05300218],\n",
       "       [0.3986801 , 0.19727838],\n",
       "       [0.68241081, 0.03500909],\n",
       "       [0.65477079, 0.27328185],\n",
       "       [0.46839729, 0.06031876],\n",
       "       [0.52746738, 0.23403844],\n",
       "       [0.52923962, 0.65452996],\n",
       "       [0.6010457 , 0.20739734],\n",
       "       [0.63197685, 0.56834247],\n",
       "       [0.87698941, 0.04827108],\n",
       "       [0.62905242, 0.93282865],\n",
       "       [0.60110919, 0.99743301],\n",
       "       [0.70094704, 0.35461167],\n",
       "       [0.50156039, 0.73283249],\n",
       "       [0.22732442, 0.44678579],\n",
       "       [0.09464279, 0.86096704],\n",
       "       [0.51427761, 0.54835001],\n",
       "       [0.08472048, 0.68292772],\n",
       "       [0.02777985, 0.21576633],\n",
       "       [0.87645903, 0.35346111],\n",
       "       [0.08109262, 0.6561651 ],\n",
       "       [0.86635941, 0.74204436],\n",
       "       [0.30823947, 0.48699861],\n",
       "       [0.06053288, 0.45556189],\n",
       "       [0.66464229, 0.02038848],\n",
       "       [0.46971573, 0.52945964],\n",
       "       [0.04282193, 0.88049288]])"
      ]
     },
     "execution_count": 4,
     "metadata": {},
     "output_type": "execute_result"
    }
   ],
   "source": [
    "test"
   ]
  },
  {
   "cell_type": "code",
   "execution_count": 1,
   "id": "71c89b23",
   "metadata": {},
   "outputs": [
    {
     "name": "stdout",
     "output_type": "stream",
     "text": [
      "Jupyter environment detected. Enabling Open3D WebVisualizer.\n",
      "[Open3D INFO] WebRTC GUI backend enabled.\n",
      "[Open3D INFO] WebRTCWindowSystem: HTTP handshake server disabled.\n",
      "[Open3D INFO] Resetting default logger to print to terminal.\n"
     ]
    }
   ],
   "source": [
    "from MOT import MOT\n",
    "import numpy as np\n",
    "import matplotlib.pyplot as plt\n",
    "import os\n",
    "from BfTableGenerator import RansacCollector\n",
    "from BfTableGenerator import TDmapLoader\n",
    "from tqdm import tqdm\n",
    "# from open3d import JVisualizer \n",
    "from Utils import *\n",
    "from DDBSCAN import Raster_DBSCAN\n",
    "import open3d as op3\n",
    "# op3.visualization.webrtc_server.enable_webrtc()\n",
    "from open3d.web_visualizer import draw\n",
    "from VisulizerTools import *\n",
    "from numpy.lib.stride_tricks import sliding_window_view\n",
    "from scipy.stats import multivariate_normal\n",
    "from tqdm import tqdm_notebook\n",
    "import time\n",
    "from sklearn.cluster import DBSCAN\n"
   ]
  },
  {
   "cell_type": "code",
   "execution_count": 5,
   "id": "82cdd9ea",
   "metadata": {},
   "outputs": [],
   "source": [
    "def get_thred_modified(ts,d ,thred_s ,N ,delta_thred ,step):# Ransac Para\n",
    "    ts_temp = ts.copy()\n",
    "    ts_temp[ts_temp == 0] = 1000\n",
    "    valid_dises = []\n",
    "    for i in range(N):\n",
    "        sample = np.random.choice(ts_temp,replace=False)\n",
    "        set_d = ts_temp[(ts_temp > sample - d)&(ts_temp < sample + d)]\n",
    "        condition_thred = len(set_d)/len(ts_temp) > thred_s\n",
    "        if condition_thred :\n",
    "            valid_dises.append(sample)\n",
    "            \n",
    "    if len(valid_dises) == 0:\n",
    "        return 1000\n",
    "\n",
    "    cur_thred = np.min(valid_dises)\n",
    "\n",
    "    while True:\n",
    "        next_thred = cur_thred - step\n",
    "        if (len(ts[ts > next_thred])/len(ts) - len(ts[ts > cur_thred])/len(ts)) < delta_thred:\n",
    "            break\n",
    "        cur_thred = next_thred\n",
    "\n",
    "    return next_thred"
   ]
  },
  {
   "cell_type": "code",
   "execution_count": 42,
   "id": "76c2b24d",
   "metadata": {},
   "outputs": [],
   "source": [
    "def get_pcd_foreground(Td_map,Foreground_map):\n",
    "\n",
    "    \n",
    "    Xs = []\n",
    "    Ys = []\n",
    "    Zs = []\n",
    "    Labels = []\n",
    "    for i in range(Td_map.shape[0]):\n",
    "        longitudes = theta[i]*np.pi / 180\n",
    "        latitudes = azimuths * np.pi / 180 \n",
    "        hypotenuses = Td_map[i] * np.cos(longitudes)\n",
    "        X = hypotenuses * np.sin(latitudes)\n",
    "        Y = hypotenuses * np.cos(latitudes)\n",
    "        Z = Td_map[i] * np.sin(longitudes)\n",
    "        Valid_ind = (Td_map[i] != 0) &(Foreground_map[i])\n",
    "        Xs.append(X[Valid_ind])\n",
    "        Ys.append(Y[Valid_ind])\n",
    "        Zs.append(Z[Valid_ind])\n",
    "        Labels.append(Labeling_map[i][Valid_ind])\n",
    "\n",
    "    Xs = np.concatenate(Xs)\n",
    "    Ys = np.concatenate(Ys)\n",
    "    Zs = np.concatenate(Zs)\n",
    "    XYZ = np.concatenate([Xs.reshape(-1,1),Ys.reshape(-1,1),Zs.reshape(-1,1)],axis = 1)\n",
    "    \n",
    "    pcd = op3.geometry.PointCloud()\n",
    "    pcd.points = op3.utility.Vector3dVector(XYZ)\n",
    "    return pcd  "
   ]
  },
  {
   "cell_type": "code",
   "execution_count": 2,
   "id": "e54f5912",
   "metadata": {},
   "outputs": [
    {
     "name": "stdout",
     "output_type": "stream",
     "text": [
      "Loading pcap...\n"
     ]
    },
    {
     "name": "stderr",
     "output_type": "stream",
     "text": [
      "100%|██████████████████████████████████████████████████████████████████████████████| 2000/2000 [01:12<00:00, 27.41it/s]\n"
     ]
    }
   ],
   "source": [
    "collector_0 = RansacCollector(pcap_path=r'D:\\LiDAR_Data\\MidTown\\California\\2021-12-9-11-30-0.pcap',output_file_path='D:\\LiDAR_Data\\MidTown\\California',update_frame_num=2000)\n",
    "collector_0.gen_tdmap()"
   ]
  },
  {
   "cell_type": "code",
   "execution_count": 3,
   "id": "3998b29f",
   "metadata": {},
   "outputs": [],
   "source": [
    "threshold_map = np.load(r'D:\\LiDAR_Data\\MidTown\\California\\bck_map.npy')"
   ]
  },
  {
   "cell_type": "code",
   "execution_count": 53,
   "id": "a3bf6847",
   "metadata": {},
   "outputs": [],
   "source": [
    "clustering_db = DBSCAN(eps=0.2,min_samples=8)\n",
    "Td_map = collector_0.aggregated_map[171]\n",
    "Foreground_map = (Td_map < threshold_map)&(Td_map != 0)\n",
    "Background_map = (Td_map >= threshold_map)&(Td_map != 0)\n",
    "pcd = get_pcd_foreground(Td_map,Foreground_map)\n",
    "X = np.asarray(pcd.points)[:,:2]\n",
    "Labels = clustering_db.fit_predict(X)\n",
    "Colors = np.full((len(Labels),3),np.array([[153,153,153]])/256)\n",
    "unique_label = np.unique(Labels)\n",
    "for l in unique_label[1:]:\n",
    "    Colors[Labels == l] = color_map[l%len(color_map)]\n",
    "pcd.colors = op3.utility.Vector3dVector(Colors)\n",
    "draw(pcd,height=1000,width=1000)"
   ]
  },
  {
   "cell_type": "code",
   "execution_count": 7,
   "id": "ce5611b1",
   "metadata": {},
   "outputs": [
    {
     "data": {
      "application/vnd.jupyter.widget-view+json": {
       "model_id": "73d1e66c54564b6e95e16569ae51f3cf",
       "version_major": 2,
       "version_minor": 0
      },
      "text/plain": [
       "WebVisualizer(window_uid='window_3')"
      ]
     },
     "metadata": {},
     "output_type": "display_data"
    }
   ],
   "source": [
    "clustering_td = Raster_DBSCAN(window_size=(5,13),eps = 1.2, min_samples= 8, Td_map_szie=threshold_map.shape)   \n",
    "Td_map = collector_0.aggregated_map[171]\n",
    "Foreground_map = (Td_map < threshold_map)&(Td_map != 0)\n",
    "Labeling_map = clustering_td.fit_predict(Td_map= Td_map,Foreground_map=Foreground_map)\n",
    "Background_map = (Td_map >= threshold_map)&(Td_map != 0)\n",
    "pcd = get_pcd_colored(Td_map,Labeling_map)\n",
    "draw(pcd,height=1000,width=1000)"
   ]
  },
  {
   "cell_type": "code",
   "execution_count": null,
   "id": "4bbc6467",
   "metadata": {},
   "outputs": [],
   "source": []
  },
  {
   "cell_type": "code",
   "execution_count": null,
   "id": "e94adf59",
   "metadata": {},
   "outputs": [],
   "source": []
  },
  {
   "cell_type": "code",
   "execution_count": 139,
   "id": "5e49ab75",
   "metadata": {},
   "outputs": [
    {
     "name": "stdout",
     "output_type": "stream",
     "text": [
      "Generating Threshold Map\n"
     ]
    }
   ],
   "source": [
    "# %%timeit\n",
    "d = 0.5\n",
    "thred_s = 0.54\n",
    "N = 20\n",
    "delta_thred = 1e-3\n",
    "step = 0.1\n",
    "aggregated_maps_temp = collector_0.aggregated_map\n",
    "threshold_map = np.zeros((32,1800))\n",
    "print('Generating Threshold Map')\n",
    "for i in range(32):\n",
    "    for j in range(1800):\n",
    "        t_s = aggregated_maps_temp[:,i,j].copy()\n",
    "        threshold_value = get_thred_modified(t_s,d,thred_s,N,delta_thred,step)\n",
    "        threshold_map[i,j] = threshold_value\n"
   ]
  },
  {
   "cell_type": "code",
   "execution_count": 8,
   "id": "4aafdfe4",
   "metadata": {},
   "outputs": [],
   "source": [
    "np.save(r'D:\\LiDAR_Data\\MidTown\\Liberty\\test_thred_map.npy',threshold_map)"
   ]
  },
  {
   "cell_type": "code",
   "execution_count": 9,
   "id": "ba1f92a2",
   "metadata": {},
   "outputs": [],
   "source": [
    "threshold_map = np.load(r'D:\\LiDAR_Data\\MidTown\\Liberty\\test_thred_map.npy')"
   ]
  },
  {
   "cell_type": "code",
   "execution_count": null,
   "id": "31e03ae7",
   "metadata": {},
   "outputs": [],
   "source": []
  },
  {
   "cell_type": "code",
   "execution_count": null,
   "id": "5582282d",
   "metadata": {},
   "outputs": [],
   "source": []
  },
  {
   "cell_type": "code",
   "execution_count": 124,
   "id": "5258af2c",
   "metadata": {},
   "outputs": [],
   "source": [
    "aggregated_maps_temp = collector_0.aggregated_map"
   ]
  },
  {
   "cell_type": "code",
   "execution_count": 126,
   "id": "67637557",
   "metadata": {},
   "outputs": [],
   "source": [
    "temp = aggregated_maps_temp[:2000,laser_id,azimuth_channel]"
   ]
  },
  {
   "cell_type": "code",
   "execution_count": 131,
   "id": "017e30f2",
   "metadata": {},
   "outputs": [
    {
     "data": {
      "image/png": "[encoded data removed]",
      "text/plain": [
       "<Figure size 720x360 with 1 Axes>"
      ]
     },
     "metadata": {
      "needs_background": "light"
     },
     "output_type": "display_data"
    }
   ],
   "source": [
    "laser_id = theta_raw[6] == theta\n",
    "azimuth_channel = np.around((29845/100)/0.2).astype('int')\n",
    "plt.figure(figsize=(10,5))\n",
    "plt.scatter(np.arange(2000),aggregated_maps_temp[:2000,laser_id,azimuth_channel], s = 3)\n",
    "plt.hlines(threshold_map[laser_id,azimuth_channel],0,2000,color = 'r')\n",
    "plt.show()"
   ]
  },
  {
   "cell_type": "code",
   "execution_count": 146,
   "id": "6818c528",
   "metadata": {},
   "outputs": [
    {
     "data": {
      "application/vnd.jupyter.widget-view+json": {
       "model_id": "7e324ceb0b9843c481bff5ca780a8720",
       "version_major": 2,
       "version_minor": 0
      },
      "text/plain": [
       "WebVisualizer(window_uid='window_33')"
      ]
     },
     "metadata": {},
     "output_type": "display_data"
    }
   ],
   "source": [
    "db = Raster_DBSCAN(window_size=(5,13),eps = 1.2, min_samples= 8, Td_map_szie=threshold_map.shape)   \n",
    "Td_map = collector_0.aggregated_map[3]\n",
    "Foreground_map = (Td_map < threshold_map)&(Td_map != 0)\n",
    "Labeling_map = db.fit_predict(Td_map= Td_map,Foreground_map=Foreground_map)\n",
    "Background_map = (Td_map >= threshold_map)&(Td_map != 0)\n",
    "pcd = get_pcd_colored(Td_map,Labeling_map)\n",
    "draw(pcd,height=1000,width=1000)"
   ]
  },
  {
   "cell_type": "code",
   "execution_count": 144,
   "id": "d942036f",
   "metadata": {},
   "outputs": [
    {
     "data": {
      "application/vnd.jupyter.widget-view+json": {
       "model_id": "26ba0f89760f4fb783a12b89d16dbebb",
       "version_major": 2,
       "version_minor": 0
      },
      "text/plain": [
       "WebVisualizer(window_uid='window_31')"
      ]
     },
     "metadata": {},
     "output_type": "display_data"
    }
   ],
   "source": [
    "db = Raster_DBSCAN(window_size=(5,13),eps = 1.2, min_samples= 8, Td_map_szie=threshold_map.shape)   \n",
    "Td_map = collector_0.aggregated_map[444]\n",
    "Foreground_map = (Td_map < threshold_map)&(Td_map != 0)\n",
    "Labeling_map = db.fit_predict(Td_map= Td_map,Foreground_map=Foreground_map)\n",
    "Background_map = (Td_map >= threshold_map)&(Td_map != 0)\n",
    "pcd = get_pcd_colored_filtered(Td_map,Labeling_map,Foreground_map)\n",
    "draw(pcd,height=1000,width=1000)"
   ]
  },
  {
   "cell_type": "code",
   "execution_count": 105,
   "id": "80b9ebbd",
   "metadata": {
    "collapsed": true,
    "jupyter": {
     "outputs_hidden": true
    }
   },
   "outputs": [
    {
     "data": {
      "application/vnd.jupyter.widget-view+json": {
       "model_id": "c6b7f91099f5432892c56d6889acfd4e",
       "version_major": 2,
       "version_minor": 0
      },
      "text/plain": [
       "WebVisualizer(window_uid='window_22')"
      ]
     },
     "metadata": {},
     "output_type": "display_data"
    }
   ],
   "source": [
    "db = Raster_DBSCAN(window_size=(5,11),eps = 1.2, min_samples= 8, Td_map_szie=threshold_map.shape)   \n",
    "Td_map = collector_0.aggregated_map[449]\n",
    "Foreground_map = (Td_map < threshold_map)&(Td_map != 0)\n",
    "Labeling_map = db.fit_predict(Td_map= Td_map,Foreground_map=Foreground_map)\n",
    "Background_map = (Td_map >= threshold_map)&(Td_map != 0)\n",
    "pcd = get_pcd_colored_filtered(Td_map,Labeling_map,Foreground_map)\n",
    "draw(pcd,height=1000,width=1000)"
   ]
  },
  {
   "cell_type": "code",
   "execution_count": 59,
   "id": "a38de1e0",
   "metadata": {},
   "outputs": [],
   "source": [
    "#points_num,dir_vec[0],dir_vec[1],height,length,width,area"
   ]
  },
  {
   "cell_type": "code",
   "execution_count": 106,
   "id": "f75e3e2e",
   "metadata": {},
   "outputs": [],
   "source": [
    "Foreground_map = (Td_map < threshold_map)&(Td_map != 0)\n",
    "Labeling_map = db.fit_predict(Td_map= Td_map,Foreground_map=Foreground_map)\n",
    "mea_init,app_init,unique_label_init,Labeling_map = extract_xy(Labeling_map,Td_map)"
   ]
  },
  {
   "cell_type": "code",
   "execution_count": 109,
   "id": "e9a0c75a",
   "metadata": {
    "collapsed": true,
    "jupyter": {
     "outputs_hidden": true
    }
   },
   "outputs": [
    {
     "name": "stdout",
     "output_type": "stream",
     "text": [
      "11111111111111111\n",
      "[[-3.16584038]\n",
      " [ 5.85509929]]\n",
      "[[40.        ]\n",
      " [ 0.85096675]\n",
      " [ 0.52521956]\n",
      " [ 0.5614742 ]\n",
      " [ 0.49167418]\n",
      " [ 0.23493883]\n",
      " [ 0.11551335]]\n",
      "11111111111111111\n",
      "11111111111111111\n",
      "[[-3.13972266]\n",
      " [ 5.80679558]]\n",
      "[[37.        ]\n",
      " [ 0.94609886]\n",
      " [ 0.3238779 ]\n",
      " [ 0.52325126]\n",
      " [ 0.46854839]\n",
      " [ 0.20873819]\n",
      " [ 0.09780394]]\n",
      "11111111111111111\n",
      "11111111111111111\n",
      "[[-3.25294406]\n",
      " [ 5.63426439]]\n",
      "[[38.        ]\n",
      " [ 0.96874774]\n",
      " [ 0.24804823]\n",
      " [ 0.55972496]\n",
      " [ 0.60295099]\n",
      " [ 0.19803393]\n",
      " [ 0.11940476]]\n",
      "11111111111111111\n",
      "11111111111111111\n",
      "[[-3.1621488 ]\n",
      " [ 5.43311562]]\n",
      "[[42.        ]\n",
      " [ 0.98237354]\n",
      " [ 0.18692841]\n",
      " [ 0.54326485]\n",
      " [ 0.57466346]\n",
      " [ 0.21806376]\n",
      " [ 0.12531327]]\n",
      "11111111111111111\n",
      "11111111111111111\n",
      "[[-3.04494053]\n",
      " [ 5.27399171]]\n",
      "[[40.        ]\n",
      " [ 0.90338159]\n",
      " [ 0.42883766]\n",
      " [ 0.53288094]\n",
      " [ 0.55340946]\n",
      " [ 0.22039677]\n",
      " [ 0.12196966]]\n",
      "11111111111111111\n",
      "11111111111111111\n",
      "[[-2.91390865]\n",
      " [ 5.17135476]]\n",
      "[[37.        ]\n",
      " [ 0.68691242]\n",
      " [ 0.72674024]\n",
      " [ 0.50632251]\n",
      " [ 0.52026373]\n",
      " [ 0.22878495]\n",
      " [ 0.11902851]]\n",
      "11111111111111111\n",
      "11111111111111111\n",
      "[[-2.87609024]\n",
      " [ 5.10423789]]\n",
      "[[38.        ]\n",
      " [ 0.86204797]\n",
      " [ 0.50682664]\n",
      " [ 0.5128976 ]\n",
      " [ 0.52759427]\n",
      " [ 0.14036255]\n",
      " [ 0.07405447]]\n",
      "11111111111111111\n",
      "11111111111111111\n",
      "[[-2.93516089]\n",
      " [ 5.0838478 ]]\n",
      "[[35.        ]\n",
      " [ 0.93389541]\n",
      " [ 0.35754642]\n",
      " [ 0.49663155]\n",
      " [ 0.54917574]\n",
      " [ 0.14776562]\n",
      " [ 0.08114929]]\n",
      "11111111111111111\n",
      "11111111111111111\n",
      "[[-2.86154524]\n",
      " [ 5.03723058]]\n",
      "[[36.        ]\n",
      " [ 0.90902299]\n",
      " [ 0.41674602]\n",
      " [ 0.49536194]\n",
      " [ 0.52525932]\n",
      " [ 0.16272798]\n",
      " [ 0.08547439]]\n",
      "11111111111111111\n",
      "11111111111111111\n",
      "[[-2.89664172]\n",
      " [ 5.01713063]]\n",
      "[[39.        ]\n",
      " [ 0.95807528]\n",
      " [ 0.28651658]\n",
      " [ 0.50556279]\n",
      " [ 0.58609134]\n",
      " [ 0.20615269]\n",
      " [ 0.12082431]]\n",
      "11111111111111111\n"
     ]
    }
   ],
   "source": [
    "for i in range(440,450):\n",
    "    Td_map = collector_0.aggregated_map[i]\n",
    "    Foreground_map = (Td_map < threshold_map)&(Td_map != 0)\n",
    "    Labeling_map = db.fit_predict(Td_map= Td_map,Foreground_map=Foreground_map)\n",
    "    mea_init,app_init,unique_label_init,Labeling_map = extract_xy(Labeling_map,Td_map)\n",
    "    aa = mea_init[:,0,:][1]\n",
    "    print(11111111111111111)\n",
    "    print(aa)\n",
    "    print(app_init[1])\n",
    "    print(11111111111111111)"
   ]
  },
  {
   "cell_type": "code",
   "execution_count": 100,
   "id": "3cd8332c",
   "metadata": {},
   "outputs": [],
   "source": [
    "mea_init,app_init,unique_label_init,Labeling_map = extract_xy(Labeling_map,Td_map)"
   ]
  },
  {
   "cell_type": "code",
   "execution_count": null,
   "id": "64143a45",
   "metadata": {},
   "outputs": [],
   "source": []
  },
  {
   "cell_type": "code",
   "execution_count": null,
   "id": "26e1c65b",
   "metadata": {},
   "outputs": [],
   "source": []
  },
  {
   "cell_type": "code",
   "execution_count": 2,
   "id": "ea159f2c",
   "metadata": {
    "scrolled": true
   },
   "outputs": [
    {
     "name": "stdout",
     "output_type": "stream",
     "text": [
      "Loading pcap...\n"
     ]
    },
    {
     "name": "stderr",
     "output_type": "stream",
     "text": [
      "100%|██████████████████████████████████████████████████████████████████████████████| 3000/3000 [01:49<00:00, 27.27it/s]\n"
     ]
    },
    {
     "name": "stdout",
     "output_type": "stream",
     "text": [
      "Loading pcap...\n"
     ]
    },
    {
     "name": "stderr",
     "output_type": "stream",
     "text": [
      "100%|██████████████████████████████████████████████████████████████████████████████| 3000/3000 [01:49<00:00, 27.36it/s]\n"
     ]
    },
    {
     "name": "stdout",
     "output_type": "stream",
     "text": [
      "Loading pcap...\n"
     ]
    },
    {
     "name": "stderr",
     "output_type": "stream",
     "text": [
      "100%|██████████████████████████████████████████████████████████████████████████████| 3000/3000 [01:47<00:00, 27.93it/s]\n"
     ]
    },
    {
     "name": "stdout",
     "output_type": "stream",
     "text": [
      "Loading pcap...\n"
     ]
    },
    {
     "name": "stderr",
     "output_type": "stream",
     "text": [
      "100%|██████████████████████████████████████████████████████████████████████████████| 3000/3000 [01:45<00:00, 28.51it/s]\n"
     ]
    },
    {
     "name": "stdout",
     "output_type": "stream",
     "text": [
      "Loading pcap...\n"
     ]
    },
    {
     "name": "stderr",
     "output_type": "stream",
     "text": [
      "100%|██████████████████████████████████████████████████████████████████████████████| 3000/3000 [01:47<00:00, 27.80it/s]\n"
     ]
    }
   ],
   "source": [
    "bck_path = r'D:\\LiDAR_Data\\MidTown\\Liberty\\bck'\n",
    "pcaps_list = os.listdir(bck_path)\n",
    "pcaps_list = [p for p in pcaps_list if 'pcap' in p.split('.')]\n",
    "aggregated_maps_multiple = []\n",
    "for i in range(len(pcaps_list)):\n",
    "    collector = RansacCollector(pcap_path=os.path.join(bck_path,pcaps_list[i]),output_file_path=bck_path,update_frame_num=3000)\n",
    "    collector.gen_tdmap()\n",
    "    aggregated_maps_multiple.append(collector.aggregated_map[np.random.choice(np.arange(0,3000),size = 1000 ,replace = False)])"
   ]
  },
  {
   "cell_type": "code",
   "execution_count": 3,
   "id": "b893bc69",
   "metadata": {},
   "outputs": [],
   "source": [
    "aggregated_maps_multiple = np.concatenate(aggregated_maps_multiple,axis = 0)"
   ]
  },
  {
   "cell_type": "code",
   "execution_count": 10,
   "id": "1d2b4a81",
   "metadata": {},
   "outputs": [
    {
     "name": "stdout",
     "output_type": "stream",
     "text": [
      "Generating Threshold Map\n"
     ]
    }
   ],
   "source": [
    "d = 0.5\n",
    "thred_s = 0.25\n",
    "N = 20\n",
    "delta_thred = 1e-3\n",
    "step = 0.1\n",
    "aggregated_maps_temp = aggregated_maps_multiple\n",
    "threshold_map = np.zeros((32,1800))\n",
    "print('Generating Threshold Map')\n",
    "for i in range(32):\n",
    "    for j in range(1800):\n",
    "        t_s = aggregated_maps_temp[:,i,j].copy()\n",
    "        threshold_value = get_thred_modified(t_s,d,thred_s,N,delta_thred,step)\n",
    "        threshold_map[i,j] = threshold_value\n"
   ]
  },
  {
   "cell_type": "code",
   "execution_count": 37,
   "id": "52b788e9",
   "metadata": {},
   "outputs": [],
   "source": [
    "np.save(r'D:\\LiDAR_Data\\MidTown\\California\\test_thred_map.npy',threshold_map)"
   ]
  },
  {
   "cell_type": "code",
   "execution_count": 11,
   "id": "a8d64dce",
   "metadata": {},
   "outputs": [
    {
     "name": "stdout",
     "output_type": "stream",
     "text": [
      "Loading pcap...\n"
     ]
    },
    {
     "name": "stderr",
     "output_type": "stream",
     "text": [
      "100%|██████████████████████████████████████████████████████████████████████████████| 2000/2000 [01:12<00:00, 27.48it/s]\n"
     ]
    }
   ],
   "source": [
    "collector_0 = RansacCollector(pcap_path=r'D:\\LiDAR_Data\\MidTown\\Liberty\\2021-12-10-12-20-23R.pcap',output_file_path='D:\\LiDAR_Data\\MidTown\\Liberty',update_frame_num=2000)\n",
    "collector_0.gen_tdmap()"
   ]
  },
  {
   "cell_type": "code",
   "execution_count": 12,
   "id": "98f0f009",
   "metadata": {},
   "outputs": [
    {
     "data": {
      "application/vnd.jupyter.widget-view+json": {
       "model_id": "2509e7042ddc438a9429a13756531172",
       "version_major": 2,
       "version_minor": 0
      },
      "text/plain": [
       "WebVisualizer(window_uid='window_1')"
      ]
     },
     "metadata": {},
     "output_type": "display_data"
    }
   ],
   "source": [
    "db = Raster_DBSCAN(window_size=(5,11),eps = 1.2, min_samples= 8, Td_map_szie=threshold_map.shape)   \n",
    "Td_map = collector_0.aggregated_map[449]\n",
    "Foreground_map = (Td_map < threshold_map)&(Td_map != 0)\n",
    "Labeling_map = db.fit_predict(Td_map= Td_map,Foreground_map=Foreground_map)\n",
    "Background_map = (Td_map >= threshold_map)&(Td_map != 0)\n",
    "pcd = get_pcd_colored_filtered(Td_map,Labeling_map,Foreground_map)\n",
    "draw(pcd,height=1000,width=1000)"
   ]
  },
  {
   "cell_type": "code",
   "execution_count": null,
   "id": "6a8d198b",
   "metadata": {},
   "outputs": [],
   "source": []
  },
  {
   "cell_type": "code",
   "execution_count": null,
   "id": "88eed240",
   "metadata": {},
   "outputs": [],
   "source": []
  },
  {
   "cell_type": "code",
   "execution_count": 17,
   "id": "dfa0725c",
   "metadata": {},
   "outputs": [
    {
     "name": "stdout",
     "output_type": "stream",
     "text": [
      "Generating Threshold Map\n"
     ]
    },
    {
     "data": {
      "application/vnd.jupyter.widget-view+json": {
       "model_id": "ca0d471cce794a2c88efb4cd301cbc3a",
       "version_major": 2,
       "version_minor": 0
      },
      "text/plain": [
       "WebVisualizer(window_uid='window_2')"
      ]
     },
     "metadata": {},
     "output_type": "display_data"
    }
   ],
   "source": [
    "d = 1\n",
    "thred_s = 0.1\n",
    "N = 30\n",
    "delta_thred = 1e-3\n",
    "step = 0.1\n",
    "aggregated_maps_temp = collector.aggregated_map.copy()\n",
    "threshold_map = np.zeros((32,1800))\n",
    "print('Generating Threshold Map')\n",
    "for i in range(32):\n",
    "    for j in range(1800):\n",
    "        t_s = aggregated_maps_temp[:,i,j].copy()\n",
    "        threshold_value = get_thred(t_s,d,thred_s,N,delta_thred,step)\n",
    "        threshold_map[i,j] = threshold_value\n",
    "# collector.gen_thredmap(d = 1,thred_s = 0.2,N = 10,delta_thred = 1e-3,step = 0.1)\n",
    "db = Raster_DBSCAN(window_size=(5,13),eps = 1.7, min_samples= 17, Td_map_szie=threshold_map.shape)   \n",
    "Td_map = collector.aggregated_map[0]\n",
    "Foreground_map = (Td_map < threshold_map)&(Td_map != 0)\n",
    "Labeling_map = db.fit_predict(Td_map= Td_map,Foreground_map=Foreground_map)\n",
    "Background_map = (Td_map >= threshold_map)&(Td_map != 0)\n",
    "pcd = get_pcd_colored_filtered(Td_map,Labeling_map,Foreground_map)\n",
    "draw(pcd,height=1000,width=1000)"
   ]
  },
  {
   "cell_type": "code",
   "execution_count": 155,
   "id": "3f8b23b7",
   "metadata": {},
   "outputs": [
    {
     "name": "stderr",
     "output_type": "stream",
     "text": [
      "C:\\Users\\zhChe\\AppData\\Local\\Temp/ipykernel_13256/875614583.py:8: TqdmDeprecationWarning: This function will be removed in tqdm==5.0.0\n",
      "Please use `tqdm.notebook.tqdm` instead of `tqdm.tqdm_notebook`\n",
      "  for i in tqdm_notebook(range(1,2000)):\n"
     ]
    },
    {
     "data": {
      "application/vnd.jupyter.widget-view+json": {
       "model_id": "1f003d0bd1744e7889ed4c8365c6cc83",
       "version_major": 2,
       "version_minor": 0
      },
      "text/plain": [
       "  0%|          | 0/1999 [00:00<?, ?it/s]"
      ]
     },
     "metadata": {},
     "output_type": "display_data"
    }
   ],
   "source": [
    "collector = RansacCollector(pcap_path=r'D:\\LiDAR_Data\\US395.pcap',output_file_path='D:\\LiDAR_Data',update_frame_num=17950)\n",
    "lidar_reader = TDmapLoader(r'D:\\LiDAR_Data\\US395.pcap')\n",
    "frame_gen = lidar_reader.frame_gen()\n",
    "thred_map_list = []\n",
    "aggregated_map_list = []\n",
    "aggregated_maps = []\n",
    "\n",
    "for i in tqdm_notebook(range(1,2000)):\n",
    "    if i%2000 == 0:\n",
    "        aggregated_maps = np.array(aggregated_maps)\n",
    "        collector.aggregated_map  = aggregated_maps\n",
    "        collector.gen_thredmap(d = 1,thred_s = 0.2,N = 10,delta_thred = 1e-3,step = 0.1)\n",
    "        thred_map_list.append(collector.thred_map.copy())\n",
    "        aggregated_map_list.append(aggregated_maps)\n",
    "        aggregated_maps = []\n",
    "        \n",
    "    Td_map = next(frame_gen)\n",
    "    aggregated_maps.append(Td_map)\n",
    "    "
   ]
  },
  {
   "cell_type": "code",
   "execution_count": 86,
   "id": "d348eac5",
   "metadata": {
    "scrolled": true
   },
   "outputs": [
    {
     "name": "stderr",
     "output_type": "stream",
     "text": [
      "C:\\Users\\zhChe\\AppData\\Local\\Temp/ipykernel_13256/829189533.py:3: TqdmDeprecationWarning: This function will be removed in tqdm==5.0.0\n",
      "Please use `tqdm.notebook.tqdm` instead of `tqdm.tqdm_notebook`\n",
      "  for i in tqdm_notebook(range(len(thred_map_list))):\n"
     ]
    },
    {
     "data": {
      "application/vnd.jupyter.widget-view+json": {
       "model_id": "2157c95d4b1342d1b821a79eaf341a01",
       "version_major": 2,
       "version_minor": 0
      },
      "text/plain": [
       "  0%|          | 0/8 [00:00<?, ?it/s]"
      ]
     },
     "metadata": {},
     "output_type": "display_data"
    }
   ],
   "source": [
    "td_tc = []\n",
    "db = Raster_DBSCAN(window_size=(5,15),eps = 1.5, min_samples= 10, Td_map_szie=threshold_map.shape)  \n",
    "for i in tqdm_notebook(range(len(thred_map_list))):\n",
    "    for j in range(len(aggregated_map_list[i])):\n",
    "        Td_map = aggregated_map_list[i][j]\n",
    "        thrlleshold_map = thred_map_list[i]\n",
    "        Foreground_map = (Td_map < threshold_map)&(Td_map != 0)\n",
    "        a = time.perf_counter()\n",
    "        Labeling_map = db.fit_predict(Td_map= Td_map,Foreground_map=Foreground_map)\n",
    "        td_tc.append((time.perf_counter() - a)*1000)\n",
    "\n",
    "        "
   ]
  },
  {
   "cell_type": "code",
   "execution_count": 97,
   "id": "25da2f50",
   "metadata": {},
   "outputs": [
    {
     "name": "stderr",
     "output_type": "stream",
     "text": [
      "C:\\Users\\zhChe\\AppData\\Local\\Temp/ipykernel_13256/2806941928.py:3: TqdmDeprecationWarning: This function will be removed in tqdm==5.0.0\n",
      "Please use `tqdm.notebook.tqdm` instead of `tqdm.tqdm_notebook`\n",
      "  for i in tqdm_notebook(range(len(thred_map_list))):\n"
     ]
    },
    {
     "data": {
      "application/vnd.jupyter.widget-view+json": {
       "model_id": "d489c7de9f894fefb71373f2ff2d64a1",
       "version_major": 2,
       "version_minor": 0
      },
      "text/plain": [
       "  0%|          | 0/8 [00:00<?, ?it/s]"
      ]
     },
     "metadata": {},
     "output_type": "display_data"
    }
   ],
   "source": [
    "db_tc = []\n",
    "db_db = DBSCAN(eps = 1.5,min_samples = 15)\n",
    "for i in tqdm_notebook(range(len(thred_map_list))):\n",
    "    for j in range(len(aggregated_map_list[i])):\n",
    "        Td_map = aggregated_map_list[i][j]\n",
    "        threshold_map = thred_map_list[i]\n",
    "        Foreground_map = (Td_map < threshold_map)&(Td_map != 0)\n",
    "        XYZ = cal_xyz_coords_db(Foreground_map,Td_map)\n",
    "        a = time.perf_counter()\n",
    "        Labels_db = db_db.fit_predict(XYZ)\n",
    "        db_tc.append((time.perf_counter() - a)*1000)"
   ]
  },
  {
   "cell_type": "code",
   "execution_count": 99,
   "id": "750c9beb",
   "metadata": {},
   "outputs": [],
   "source": [
    "from scipy.optimize import curve_fit\n",
    "def func(x,b,c):\n",
    "    return b*x*np.log(b*x) + c"
   ]
  },
  {
   "cell_type": "code",
   "execution_count": 89,
   "id": "9ab20171",
   "metadata": {},
   "outputs": [],
   "source": [
    "def cal_xyz_coords_db(Foreground_map,Td_map):\n",
    "    td_freq_map = Td_map\n",
    "    Xs = []\n",
    "    Ys = []\n",
    "    Zs = []\n",
    "    for i in range(td_freq_map.shape[0]):\n",
    "        longitudes = theta[i] * np.pi / 180\n",
    "        latitudes = azimuths[Foreground_map[i]] * np.pi / 180\n",
    "        hypotenuses = td_freq_map[i][Foreground_map[i]] * np.cos(longitudes)\n",
    "        X = hypotenuses * np.sin(latitudes)\n",
    "        Y = hypotenuses * np.cos(latitudes)\n",
    "        Z = td_freq_map[i][Foreground_map[i]] * np.sin(longitudes)\n",
    "        Xs.append(X)\n",
    "        Ys.append(Y)\n",
    "        Zs.append(Z)\n",
    "    Xs = np.concatenate(Xs).reshape(-1,1)\n",
    "    Ys = np.concatenate(Ys).reshape(-1,1)\n",
    "    Zs = np.concatenate(Zs).reshape(-1,1)\n",
    "    XYZ = np.concatenate([Xs,Ys,Zs],axis = 1)\n",
    "    \n",
    "    return XYZ"
   ]
  },
  {
   "cell_type": "code",
   "execution_count": 100,
   "id": "4cd1d292",
   "metadata": {},
   "outputs": [
    {
     "name": "stderr",
     "output_type": "stream",
     "text": [
      "C:\\Users\\zhChe\\AppData\\Local\\Temp/ipykernel_13256/185354392.py:2: TqdmDeprecationWarning: This function will be removed in tqdm==5.0.0\n",
      "Please use `tqdm.notebook.tqdm` instead of `tqdm.tqdm_notebook`\n",
      "  for i in tqdm_notebook(range(len(thred_map_list))):\n"
     ]
    },
    {
     "data": {
      "application/vnd.jupyter.widget-view+json": {
       "model_id": "fa9aae3ef1784dfab23db0f8b57d1585",
       "version_major": 2,
       "version_minor": 0
      },
      "text/plain": [
       "  0%|          | 0/8 [00:00<?, ?it/s]"
      ]
     },
     "metadata": {},
     "output_type": "display_data"
    }
   ],
   "source": [
    "fore_ground_points_by_frame = []\n",
    "for i in tqdm_notebook(range(len(thred_map_list))):\n",
    "    for j in range(len(aggregated_map_list[i])):\n",
    "        Td_map = aggregated_map_list[i][j]\n",
    "        threshold_map = thred_map_list[i]\n",
    "        Foreground_map = (Td_map < threshold_map)&(Td_map != 0)\n",
    "        fore_ground_points_by_frame.append(Foreground_map.sum())"
   ]
  },
  {
   "cell_type": "code",
   "execution_count": 105,
   "id": "995bc9eb",
   "metadata": {},
   "outputs": [
    {
     "data": {
      "text/plain": [
       "<matplotlib.collections.PathCollection at 0x21e3d47d370>"
      ]
     },
     "execution_count": 105,
     "metadata": {},
     "output_type": "execute_result"
    },
    {
     "data": {
      "image/png": "[encoded data removed]",
      "text/plain": [
       "<Figure size 720x360 with 1 Axes>"
      ]
     },
     "metadata": {
      "needs_background": "light"
     },
     "output_type": "display_data"
    }
   ],
   "source": [
    "plt.figure(figsize=(10,5))\n",
    "plt.scatter(fore_ground_points_by_frame,td_tc,s = 15, c = 'r',label = 'FSPC',alpha = 0.5)"
   ]
  },
  {
   "cell_type": "code",
   "execution_count": 107,
   "id": "1be2a5b1",
   "metadata": {},
   "outputs": [
    {
     "data": {
      "image/png": "[encoded data removed]",
      "text/plain": [
       "<Figure size 720x360 with 1 Axes>"
      ]
     },
     "metadata": {
      "needs_background": "light"
     },
     "output_type": "display_data"
    }
   ],
   "source": [
    "plt.figure(figsize=(10,5))\n",
    "plt.scatter(fore_ground_points_by_frame,td_tc,s = 15, c = 'r',label = 'FSPC',alpha = 0.5)\n",
    "plt.scatter(fore_ground_points_by_frame,db_tc,s = 15, c = 'g',label = 'DBSCAN',alpha = 0.5)\n",
    "x = np.arange(25000)\n",
    "a,b,c = np.polyfit(fore_ground_points_by_frame,db_tc,2)\n",
    "y_db = a*x**2 + b\n",
    "a,b = np.polyfit(fore_ground_points_by_frame,td_tc,1)\n",
    "y_td = a*x + b\n",
    "plt.plot(x,y_db,c = 'b',linewidth = 1, linestyle = 'dashed')\n",
    "plt.plot(x,y_td,c = 'b',linewidth = 1, linestyle = '-.')\n",
    "plt.grid()\n",
    "plt.ylabel('Time Consumption(ms)',fontsize = 18)\n",
    "plt.xlabel('Foreground Points',fontsize = 18)\n",
    "plt.xticks(fontsize = 12)\n",
    "plt.yticks(fontsize = 12)\n",
    "plt.legend(fontsize = 18)\n",
    "plt.ylim(0,100)\n",
    "plt.savefig(r'C:\\Users\\zhChe\\OneDrive - nevada.unr.edu\\Presentation\\trb\\4.tif',dpi = 300)\n",
    "plt.show()"
   ]
  },
  {
   "cell_type": "code",
   "execution_count": null,
   "id": "cc71518b",
   "metadata": {},
   "outputs": [],
   "source": []
  },
  {
   "cell_type": "code",
   "execution_count": null,
   "id": "e1b66570",
   "metadata": {},
   "outputs": [],
   "source": []
  },
  {
   "cell_type": "code",
   "execution_count": null,
   "id": "d85ac2bc",
   "metadata": {},
   "outputs": [],
   "source": []
  }
 ],
 "metadata": {
  "kernelspec": {
   "display_name": "Python 3 (ipykernel)",
   "language": "python",
   "name": "python3"
  },
  "language_info": {
   "codemirror_mode": {
    "name": "ipython",
    "version": 3
   },
   "file_extension": ".py",
   "mimetype": "text/x-python",
   "name": "python",
   "nbconvert_exporter": "python",
   "pygments_lexer": "ipython3",
   "version": "3.9.6"
  }
 },
 "nbformat": 4,
 "nbformat_minor": 5
}
