{
 "cells": [
  {
   "cell_type": "code",
   "execution_count": 1,
   "metadata": {},
   "outputs": [],
   "source": [
    "from MOT import MOT\n",
    "import numpy as np\n",
    "import matplotlib.pyplot as plt\n",
    "import os\n",
    "import pandas as pd"
   ]
  },
  {
   "cell_type": "code",
   "execution_count": 2,
   "metadata": {
    "scrolled": true
   },
   "outputs": [
    {
     "name": "stderr",
     "output_type": "stream",
     "text": [
      "  2%|▏         | 2/100 [00:00<00:04, 19.60it/s]"
     ]
    },
    {
     "name": "stdout",
     "output_type": "stream",
     "text": [
      "Initialization...\n"
     ]
    },
    {
     "name": "stderr",
     "output_type": "stream",
     "text": [
      "100%|██████████| 100/100 [00:04<00:00, 22.19it/s]\n"
     ]
    },
    {
     "name": "stdout",
     "output_type": "stream",
     "text": [
      "Generating Threshold Map\n"
     ]
    },
    {
     "name": "stderr",
     "output_type": "stream",
     "text": [
      "Tracking 100 frame:  10%|▉         | 99/999 [00:09<01:12, 12.40it/s]"
     ]
    },
    {
     "name": "stdout",
     "output_type": "stream",
     "text": [
      "Generating Threshold Map\n"
     ]
    },
    {
     "name": "stderr",
     "output_type": "stream",
     "text": [
      "Tracking 200 frame:  20%|█▉        | 199/999 [00:19<01:02, 12.79it/s]"
     ]
    },
    {
     "name": "stdout",
     "output_type": "stream",
     "text": [
      "Generating Threshold Map\n"
     ]
    },
    {
     "name": "stderr",
     "output_type": "stream",
     "text": [
      "Tracking 300 frame:  30%|██▉       | 299/999 [00:28<01:04, 10.91it/s]"
     ]
    },
    {
     "name": "stdout",
     "output_type": "stream",
     "text": [
      "Generating Threshold Map\n"
     ]
    },
    {
     "name": "stderr",
     "output_type": "stream",
     "text": [
      "Tracking 400 frame:  40%|███▉      | 399/999 [00:37<00:50, 11.97it/s]"
     ]
    },
    {
     "name": "stdout",
     "output_type": "stream",
     "text": [
      "Generating Threshold Map\n"
     ]
    },
    {
     "name": "stderr",
     "output_type": "stream",
     "text": [
      "Tracking 500 frame:  50%|████▉     | 499/999 [00:48<00:57,  8.69it/s]"
     ]
    },
    {
     "name": "stdout",
     "output_type": "stream",
     "text": [
      "Generating Threshold Map\n"
     ]
    },
    {
     "name": "stderr",
     "output_type": "stream",
     "text": [
      "Tracking 600 frame:  60%|█████▉    | 599/999 [01:02<00:53,  7.44it/s]"
     ]
    },
    {
     "name": "stdout",
     "output_type": "stream",
     "text": [
      "Generating Threshold Map\n"
     ]
    },
    {
     "name": "stderr",
     "output_type": "stream",
     "text": [
      "Tracking 700 frame:  70%|██████▉   | 699/999 [01:17<00:42,  7.06it/s]"
     ]
    },
    {
     "name": "stdout",
     "output_type": "stream",
     "text": [
      "Generating Threshold Map\n"
     ]
    },
    {
     "name": "stderr",
     "output_type": "stream",
     "text": [
      "Tracking 800 frame:  80%|███████▉  | 799/999 [01:31<00:23,  8.54it/s]"
     ]
    },
    {
     "name": "stdout",
     "output_type": "stream",
     "text": [
      "Generating Threshold Map\n"
     ]
    },
    {
     "name": "stderr",
     "output_type": "stream",
     "text": [
      "Tracking 900 frame:  90%|████████▉ | 899/999 [01:42<00:11,  8.93it/s]"
     ]
    },
    {
     "name": "stdout",
     "output_type": "stream",
     "text": [
      "Generating Threshold Map\n"
     ]
    },
    {
     "name": "stderr",
     "output_type": "stream",
     "text": [
      "Tracking 999 frame: 100%|██████████| 999/999 [01:55<00:00,  8.66it/s]\n"
     ]
    }
   ],
   "source": [
    "params = {\n",
    "        'd':1.2,\n",
    "        'thred_s':0.3,\n",
    "        'N':20,\n",
    "        'delta_thred' : 1e-3,\n",
    "        'step':0.1,\n",
    "        'win_size':(5,13),\n",
    "        'eps': 1.5,\n",
    "        'min_samples':16\n",
    "}\n",
    "A = np.array( # x,y,l,w,h,,x',y',l',w',h',x'',y''\n",
    "[[1,0,0,0,0,1,0,0,0,0,.5, 0],\n",
    "    [0,1,0,0,0,0,1,0,0,0, 0,.5],\n",
    "    [0,0,1,0,0,0,0,1,0,0, 0, 0],\n",
    "    [0,0,0,1,0,0,0,0,1,0, 0, 0],\n",
    "    [0,0,0,0,1,0,0,0,0,1, 0, 0],\n",
    "    [0,0,0,0,0,1,0,0,0,0, 1, 0],\n",
    "    [0,0,0,0,0,0,1,0,0,0, 0, 1],\n",
    "    [0,0,0,0,0,0,0,1,0,0, 0, 0],\n",
    "    [0,0,0,0,0,0,0,0,1,0, 0, 0],\n",
    "    [0,0,0,0,0,0,0,0,0,1, 0, 0],\n",
    "    [0,0,0,0,0,0,0,0,0,0, 1, 0],\n",
    "    [0,0,0,0,0,0,0,0,0,0, 0, 1]]\n",
    "    )\n",
    "Q = np.diag([1,1,1,1,1,1,1,1,1,1,1,1])*0.01\n",
    "H = np.array([[1,0,0,0,0,0,0,0,0,0,0,0],\n",
    "            [0,1,0,0,0,0,0,0,0,0,0,0],\n",
    "            [0,0,1,0,0,0,0,0,0,0,0,0],\n",
    "            [0,0,0,1,0,0,0,0,0,0,0,0],\n",
    "            [0,0,0,0,1,0,0,0,0,0,0,0]])\n",
    "R = np.diag([10,10,0.1,0.1,0.1])\n",
    "P = np.diag([1,1,1,1,1,1,1,1,1,1,1,1])\n",
    "missing_thred = 7\n",
    "os.chdir(r'/Users/czhui960/Documents/Lidar/RawLidarData/FrameSamplingTest')\n",
    "mot = MOT(r'./2020-7-27-10-30-0.pcap',ending_frame=1000,background_update_frame = 100,**params)\n",
    "mot.initialization()\n",
    "mot.mot_tracking(missing_thred,A,P,H,Q,R)"
   ]
  },
  {
   "cell_type": "code",
   "execution_count": 3,
   "metadata": {},
   "outputs": [
    {
     "name": "stderr",
     "output_type": "stream",
     "text": [
      " 23%|██▎       | 32/138 [00:00<00:00, 314.27it/s]"
     ]
    },
    {
     "name": "stdout",
     "output_type": "stream",
     "text": [
      "Generating Traj Files...\n"
     ]
    },
    {
     "name": "stderr",
     "output_type": "stream",
     "text": [
      "100%|██████████| 138/138 [00:00<00:00, 328.62it/s]\n"
     ]
    }
   ],
   "source": [
    "mot.save_result()"
   ]
  },
  {
   "cell_type": "code",
   "execution_count": 7,
   "metadata": {},
   "outputs": [
    {
     "data": {
      "text/plain": [
       "'1.csv'"
      ]
     },
     "execution_count": 7,
     "metadata": {},
     "output_type": "execute_result"
    }
   ],
   "source": [
    "'{}.csv'.format(1)"
   ]
  },
  {
   "cell_type": "code",
   "execution_count": 10,
   "metadata": {},
   "outputs": [
    {
     "data": {
      "text/plain": [
       "'/Users/czhui960/Documents/Lidar/RawLidarData/FrameSamplingTest/Output File/Output Trajs/1.csv'"
      ]
     },
     "execution_count": 10,
     "metadata": {},
     "output_type": "execute_result"
    }
   ],
   "source": [
    "mot.traj_path + '/{}.csv'.format(1)"
   ]
  },
  {
   "cell_type": "code",
   "execution_count": 5,
   "metadata": {},
   "outputs": [
    {
     "ename": "TypeError",
     "evalue": "expected str, bytes or os.PathLike object, not tuple",
     "output_type": "error",
     "traceback": [
      "\u001b[0;31m---------------------------------------------------------------------------\u001b[0m",
      "\u001b[0;31mTypeError\u001b[0m                                 Traceback (most recent call last)",
      "\u001b[0;32m<ipython-input-5-1af72ddd1905>\u001b[0m in \u001b[0;36m<module>\u001b[0;34m\u001b[0m\n\u001b[0;32m----> 1\u001b[0;31m \u001b[0mos\u001b[0m\u001b[0;34m.\u001b[0m\u001b[0mpath\u001b[0m\u001b[0;34m.\u001b[0m\u001b[0mjoin\u001b[0m\u001b[0;34m(\u001b[0m\u001b[0;34m(\u001b[0m\u001b[0mmot\u001b[0m\u001b[0;34m.\u001b[0m\u001b[0mtraj_path\u001b[0m\u001b[0;34m,\u001b[0m\u001b[0;34m'{}.csv'\u001b[0m\u001b[0;34m.\u001b[0m\u001b[0mformat\u001b[0m\u001b[0;34m(\u001b[0m\u001b[0;36m1\u001b[0m\u001b[0;34m)\u001b[0m\u001b[0;34m)\u001b[0m\u001b[0;34m)\u001b[0m\u001b[0;34m\u001b[0m\u001b[0;34m\u001b[0m\u001b[0m\n\u001b[0m",
      "\u001b[0;32m~/opt/anaconda3/envs/tracking/lib/python3.8/posixpath.py\u001b[0m in \u001b[0;36mjoin\u001b[0;34m(a, *p)\u001b[0m\n\u001b[1;32m     74\u001b[0m     \u001b[0mwill\u001b[0m \u001b[0mbe\u001b[0m \u001b[0mdiscarded\u001b[0m\u001b[0;34m.\u001b[0m  \u001b[0mAn\u001b[0m \u001b[0mempty\u001b[0m \u001b[0mlast\u001b[0m \u001b[0mpart\u001b[0m \u001b[0mwill\u001b[0m \u001b[0mresult\u001b[0m \u001b[0;32min\u001b[0m \u001b[0ma\u001b[0m \u001b[0mpath\u001b[0m \u001b[0mthat\u001b[0m\u001b[0;34m\u001b[0m\u001b[0;34m\u001b[0m\u001b[0m\n\u001b[1;32m     75\u001b[0m     ends with a separator.\"\"\"\n\u001b[0;32m---> 76\u001b[0;31m     \u001b[0ma\u001b[0m \u001b[0;34m=\u001b[0m \u001b[0mos\u001b[0m\u001b[0;34m.\u001b[0m\u001b[0mfspath\u001b[0m\u001b[0;34m(\u001b[0m\u001b[0ma\u001b[0m\u001b[0;34m)\u001b[0m\u001b[0;34m\u001b[0m\u001b[0;34m\u001b[0m\u001b[0m\n\u001b[0m\u001b[1;32m     77\u001b[0m     \u001b[0msep\u001b[0m \u001b[0;34m=\u001b[0m \u001b[0m_get_sep\u001b[0m\u001b[0;34m(\u001b[0m\u001b[0ma\u001b[0m\u001b[0;34m)\u001b[0m\u001b[0;34m\u001b[0m\u001b[0;34m\u001b[0m\u001b[0m\n\u001b[1;32m     78\u001b[0m     \u001b[0mpath\u001b[0m \u001b[0;34m=\u001b[0m \u001b[0ma\u001b[0m\u001b[0;34m\u001b[0m\u001b[0;34m\u001b[0m\u001b[0m\n",
      "\u001b[0;31mTypeError\u001b[0m: expected str, bytes or os.PathLike object, not tuple"
     ]
    }
   ],
   "source": [
    "os.path.join((mot.traj_path))"
   ]
  },
  {
   "cell_type": "code",
   "execution_count": 4,
   "metadata": {},
   "outputs": [
    {
     "data": {
      "text/plain": [
       "'/Users/czhui960/Documents/Lidar/RawLidarData/FrameSamplingTest/Output File/Output Trajs'"
      ]
     },
     "execution_count": 4,
     "metadata": {},
     "output_type": "execute_result"
    }
   ],
   "source": [
    "mot.traj_path"
   ]
  },
  {
   "cell_type": "code",
   "execution_count": 33,
   "metadata": {},
   "outputs": [],
   "source": [
    "col_names_ = ['X_Coord_est','Y_Coord_est','X_Len_est','Y_Len_est','Z_Len_est','X_Vel_est','Y_Vel_est','X_Acc_est','Y_Acc_est']\n",
    "col_names = ['X_Coord_mea','Y_Coord_mea','X_Len_mea','Y_Len_mea','Z_Len_mea']\n",
    "\n",
    "#xylwh xylwh, xy\n"
   ]
  },
  {
   "cell_type": "code",
   "execution_count": 56,
   "metadata": {},
   "outputs": [],
   "source": [
    "def get_summary_file(post_seq,mea_seq):\n",
    "    temp = np.array(post_seq)\n",
    "    temp = temp.reshape(temp.shape[0],temp.shape[1])[:,[0,1,2,3,4,5,6,10,11]]\n",
    "    df_ = pd.DataFrame(temp,columns= col_names_)\n",
    "    temp = mea_seq\n",
    "    emp = []\n",
    "    for i,vec in enumerate(temp):\n",
    "        if type(vec) == int:\n",
    "            emp.append(-np.ones(len(col_names)).astype(np.int8))\n",
    "        else:\n",
    "            emp.append(vec.flatten())\n",
    "    emp = np.array(emp)\n",
    "    df = pd.DataFrame(emp,columns = col_names)\n",
    "    summary = pd.concat([df,df_],axis = 1)\n",
    "    return summary"
   ]
  },
  {
   "cell_type": "code",
   "execution_count": 59,
   "metadata": {},
   "outputs": [
    {
     "data": {
      "text/html": [
       "<div>\n",
       "<style scoped>\n",
       "    .dataframe tbody tr th:only-of-type {\n",
       "        vertical-align: middle;\n",
       "    }\n",
       "\n",
       "    .dataframe tbody tr th {\n",
       "        vertical-align: top;\n",
       "    }\n",
       "\n",
       "    .dataframe thead th {\n",
       "        text-align: right;\n",
       "    }\n",
       "</style>\n",
       "<table border=\"1\" class=\"dataframe\">\n",
       "  <thead>\n",
       "    <tr style=\"text-align: right;\">\n",
       "      <th></th>\n",
       "      <th>X_Coord_mea</th>\n",
       "      <th>Y_Coord_mea</th>\n",
       "      <th>X_Len_mea</th>\n",
       "      <th>Y_Len_mea</th>\n",
       "      <th>Z_Len_mea</th>\n",
       "      <th>X_Coord_est</th>\n",
       "      <th>Y_Coord_est</th>\n",
       "      <th>X_Len_est</th>\n",
       "      <th>Y_Len_est</th>\n",
       "      <th>Z_Len_est</th>\n",
       "      <th>X_Vel_est</th>\n",
       "      <th>Y_Vel_est</th>\n",
       "      <th>X_Acc_est</th>\n",
       "      <th>Y_Acc_est</th>\n",
       "    </tr>\n",
       "  </thead>\n",
       "  <tbody>\n",
       "    <tr>\n",
       "      <th>0</th>\n",
       "      <td>-11.880474</td>\n",
       "      <td>-24.119835</td>\n",
       "      <td>5.745061</td>\n",
       "      <td>3.441625</td>\n",
       "      <td>1.998897</td>\n",
       "      <td>-11.880474</td>\n",
       "      <td>-24.119835</td>\n",
       "      <td>5.745061</td>\n",
       "      <td>3.441625</td>\n",
       "      <td>1.998897</td>\n",
       "      <td>0.000000</td>\n",
       "      <td>0.000000</td>\n",
       "      <td>0.000000</td>\n",
       "      <td>0.000000</td>\n",
       "    </tr>\n",
       "    <tr>\n",
       "      <th>1</th>\n",
       "      <td>-11.368456</td>\n",
       "      <td>-24.197860</td>\n",
       "      <td>5.664705</td>\n",
       "      <td>3.208388</td>\n",
       "      <td>1.987152</td>\n",
       "      <td>-11.786089</td>\n",
       "      <td>-24.134218</td>\n",
       "      <td>5.668514</td>\n",
       "      <td>3.219442</td>\n",
       "      <td>1.987708</td>\n",
       "      <td>0.062645</td>\n",
       "      <td>-0.009546</td>\n",
       "      <td>0.020882</td>\n",
       "      <td>-0.003182</td>\n",
       "    </tr>\n",
       "    <tr>\n",
       "      <th>2</th>\n",
       "      <td>-11.024649</td>\n",
       "      <td>-24.076671</td>\n",
       "      <td>5.496608</td>\n",
       "      <td>2.773913</td>\n",
       "      <td>2.002513</td>\n",
       "      <td>-11.413091</td>\n",
       "      <td>-24.115430</td>\n",
       "      <td>5.512613</td>\n",
       "      <td>2.813978</td>\n",
       "      <td>2.000077</td>\n",
       "      <td>0.291764</td>\n",
       "      <td>0.008050</td>\n",
       "      <td>0.092412</td>\n",
       "      <td>0.003955</td>\n",
       "    </tr>\n",
       "    <tr>\n",
       "      <th>3</th>\n",
       "      <td>-10.769361</td>\n",
       "      <td>-24.312410</td>\n",
       "      <td>4.778183</td>\n",
       "      <td>2.917027</td>\n",
       "      <td>1.992186</td>\n",
       "      <td>-10.886457</td>\n",
       "      <td>-24.233133</td>\n",
       "      <td>4.904718</td>\n",
       "      <td>2.823148</td>\n",
       "      <td>1.995657</td>\n",
       "      <td>0.496676</td>\n",
       "      <td>-0.064161</td>\n",
       "      <td>0.125370</td>\n",
       "      <td>-0.018358</td>\n",
       "    </tr>\n",
       "    <tr>\n",
       "      <th>4</th>\n",
       "      <td>-10.471005</td>\n",
       "      <td>-24.214727</td>\n",
       "      <td>4.444730</td>\n",
       "      <td>2.422467</td>\n",
       "      <td>2.000417</td>\n",
       "      <td>-10.421378</td>\n",
       "      <td>-24.246366</td>\n",
       "      <td>4.464018</td>\n",
       "      <td>2.497979</td>\n",
       "      <td>1.999413</td>\n",
       "      <td>0.573218</td>\n",
       "      <td>-0.051390</td>\n",
       "      <td>0.113066</td>\n",
       "      <td>-0.010514</td>\n",
       "    </tr>\n",
       "    <tr>\n",
       "      <th>5</th>\n",
       "      <td>-10.072756</td>\n",
       "      <td>-24.298818</td>\n",
       "      <td>3.469911</td>\n",
       "      <td>2.307702</td>\n",
       "      <td>1.967476</td>\n",
       "      <td>-9.971196</td>\n",
       "      <td>-24.300333</td>\n",
       "      <td>3.678562</td>\n",
       "      <td>2.295232</td>\n",
       "      <td>1.979858</td>\n",
       "      <td>0.602866</td>\n",
       "      <td>-0.060659</td>\n",
       "      <td>0.094489</td>\n",
       "      <td>-0.010237</td>\n",
       "    </tr>\n",
       "    <tr>\n",
       "      <th>6</th>\n",
       "      <td>-9.911183</td>\n",
       "      <td>-24.461892</td>\n",
       "      <td>3.335502</td>\n",
       "      <td>2.340459</td>\n",
       "      <td>1.958870</td>\n",
       "      <td>-9.681882</td>\n",
       "      <td>-24.424673</td>\n",
       "      <td>3.251649</td>\n",
       "      <td>2.236963</td>\n",
       "      <td>1.964841</td>\n",
       "      <td>0.543394</td>\n",
       "      <td>-0.095886</td>\n",
       "      <td>0.063544</td>\n",
       "      <td>-0.015260</td>\n",
       "    </tr>\n",
       "    <tr>\n",
       "      <th>7</th>\n",
       "      <td>-9.634861</td>\n",
       "      <td>-24.472575</td>\n",
       "      <td>2.605300</td>\n",
       "      <td>1.973695</td>\n",
       "      <td>1.959636</td>\n",
       "      <td>-9.415524</td>\n",
       "      <td>-24.495672</td>\n",
       "      <td>2.661858</td>\n",
       "      <td>2.016348</td>\n",
       "      <td>1.958006</td>\n",
       "      <td>0.484108</td>\n",
       "      <td>-0.098212</td>\n",
       "      <td>0.040893</td>\n",
       "      <td>-0.012875</td>\n",
       "    </tr>\n",
       "    <tr>\n",
       "      <th>8</th>\n",
       "      <td>-9.321026</td>\n",
       "      <td>-24.405228</td>\n",
       "      <td>1.969080</td>\n",
       "      <td>1.654347</td>\n",
       "      <td>2.114373</td>\n",
       "      <td>-9.140911</td>\n",
       "      <td>-24.490922</td>\n",
       "      <td>2.034091</td>\n",
       "      <td>1.730085</td>\n",
       "      <td>2.045329</td>\n",
       "      <td>0.438910</td>\n",
       "      <td>-0.070127</td>\n",
       "      <td>0.026104</td>\n",
       "      <td>-0.005838</td>\n",
       "    </tr>\n",
       "    <tr>\n",
       "      <th>9</th>\n",
       "      <td>-8.997133</td>\n",
       "      <td>-24.204979</td>\n",
       "      <td>1.517818</td>\n",
       "      <td>0.871943</td>\n",
       "      <td>1.647589</td>\n",
       "      <td>-8.855288</td>\n",
       "      <td>-24.370207</td>\n",
       "      <td>1.495366</td>\n",
       "      <td>1.141446</td>\n",
       "      <td>1.825907</td>\n",
       "      <td>0.405889</td>\n",
       "      <td>-0.007094</td>\n",
       "      <td>0.016492</td>\n",
       "      <td>0.005358</td>\n",
       "    </tr>\n",
       "    <tr>\n",
       "      <th>10</th>\n",
       "      <td>-8.566189</td>\n",
       "      <td>-24.029919</td>\n",
       "      <td>0.460063</td>\n",
       "      <td>0.244981</td>\n",
       "      <td>1.188740</td>\n",
       "      <td>-8.506377</td>\n",
       "      <td>-24.194812</td>\n",
       "      <td>0.661106</td>\n",
       "      <td>0.475551</td>\n",
       "      <td>1.431584</td>\n",
       "      <td>0.400172</td>\n",
       "      <td>0.059492</td>\n",
       "      <td>0.013019</td>\n",
       "      <td>0.014932</td>\n",
       "    </tr>\n",
       "    <tr>\n",
       "      <th>11</th>\n",
       "      <td>-1.000000</td>\n",
       "      <td>-1.000000</td>\n",
       "      <td>-1.000000</td>\n",
       "      <td>-1.000000</td>\n",
       "      <td>-1.000000</td>\n",
       "      <td>-8.099695</td>\n",
       "      <td>-24.127854</td>\n",
       "      <td>0.004566</td>\n",
       "      <td>0.013476</td>\n",
       "      <td>1.251931</td>\n",
       "      <td>0.413191</td>\n",
       "      <td>0.074423</td>\n",
       "      <td>0.013019</td>\n",
       "      <td>0.014932</td>\n",
       "    </tr>\n",
       "    <tr>\n",
       "      <th>12</th>\n",
       "      <td>-1.000000</td>\n",
       "      <td>-1.000000</td>\n",
       "      <td>-1.000000</td>\n",
       "      <td>-1.000000</td>\n",
       "      <td>-1.000000</td>\n",
       "      <td>-7.679995</td>\n",
       "      <td>-24.045965</td>\n",
       "      <td>-0.651974</td>\n",
       "      <td>-0.448599</td>\n",
       "      <td>1.072277</td>\n",
       "      <td>0.426210</td>\n",
       "      <td>0.089355</td>\n",
       "      <td>0.013019</td>\n",
       "      <td>0.014932</td>\n",
       "    </tr>\n",
       "    <tr>\n",
       "      <th>13</th>\n",
       "      <td>-1.000000</td>\n",
       "      <td>-1.000000</td>\n",
       "      <td>-1.000000</td>\n",
       "      <td>-1.000000</td>\n",
       "      <td>-1.000000</td>\n",
       "      <td>-7.247275</td>\n",
       "      <td>-23.949145</td>\n",
       "      <td>-1.308514</td>\n",
       "      <td>-0.910674</td>\n",
       "      <td>0.892624</td>\n",
       "      <td>0.439229</td>\n",
       "      <td>0.104286</td>\n",
       "      <td>0.013019</td>\n",
       "      <td>0.014932</td>\n",
       "    </tr>\n",
       "    <tr>\n",
       "      <th>14</th>\n",
       "      <td>-1.000000</td>\n",
       "      <td>-1.000000</td>\n",
       "      <td>-1.000000</td>\n",
       "      <td>-1.000000</td>\n",
       "      <td>-1.000000</td>\n",
       "      <td>-6.801536</td>\n",
       "      <td>-23.837393</td>\n",
       "      <td>-1.965054</td>\n",
       "      <td>-1.372749</td>\n",
       "      <td>0.712971</td>\n",
       "      <td>0.452249</td>\n",
       "      <td>0.119218</td>\n",
       "      <td>0.013019</td>\n",
       "      <td>0.014932</td>\n",
       "    </tr>\n",
       "    <tr>\n",
       "      <th>15</th>\n",
       "      <td>-1.000000</td>\n",
       "      <td>-1.000000</td>\n",
       "      <td>-1.000000</td>\n",
       "      <td>-1.000000</td>\n",
       "      <td>-1.000000</td>\n",
       "      <td>-6.342778</td>\n",
       "      <td>-23.710710</td>\n",
       "      <td>-2.621594</td>\n",
       "      <td>-1.834825</td>\n",
       "      <td>0.533318</td>\n",
       "      <td>0.465268</td>\n",
       "      <td>0.134149</td>\n",
       "      <td>0.013019</td>\n",
       "      <td>0.014932</td>\n",
       "    </tr>\n",
       "    <tr>\n",
       "      <th>16</th>\n",
       "      <td>-1.000000</td>\n",
       "      <td>-1.000000</td>\n",
       "      <td>-1.000000</td>\n",
       "      <td>-1.000000</td>\n",
       "      <td>-1.000000</td>\n",
       "      <td>-5.871000</td>\n",
       "      <td>-23.569095</td>\n",
       "      <td>-3.278134</td>\n",
       "      <td>-2.296900</td>\n",
       "      <td>0.353665</td>\n",
       "      <td>0.478287</td>\n",
       "      <td>0.149081</td>\n",
       "      <td>0.013019</td>\n",
       "      <td>0.014932</td>\n",
       "    </tr>\n",
       "    <tr>\n",
       "      <th>17</th>\n",
       "      <td>-1.000000</td>\n",
       "      <td>-1.000000</td>\n",
       "      <td>-1.000000</td>\n",
       "      <td>-1.000000</td>\n",
       "      <td>-1.000000</td>\n",
       "      <td>-5.386203</td>\n",
       "      <td>-23.412548</td>\n",
       "      <td>-3.934674</td>\n",
       "      <td>-2.758975</td>\n",
       "      <td>0.174012</td>\n",
       "      <td>0.491306</td>\n",
       "      <td>0.164012</td>\n",
       "      <td>0.013019</td>\n",
       "      <td>0.014932</td>\n",
       "    </tr>\n",
       "    <tr>\n",
       "      <th>18</th>\n",
       "      <td>-1.000000</td>\n",
       "      <td>-1.000000</td>\n",
       "      <td>-1.000000</td>\n",
       "      <td>-1.000000</td>\n",
       "      <td>-1.000000</td>\n",
       "      <td>-4.888387</td>\n",
       "      <td>-23.241070</td>\n",
       "      <td>-4.591214</td>\n",
       "      <td>-3.221050</td>\n",
       "      <td>-0.005641</td>\n",
       "      <td>0.504326</td>\n",
       "      <td>0.178944</td>\n",
       "      <td>0.013019</td>\n",
       "      <td>0.014932</td>\n",
       "    </tr>\n",
       "  </tbody>\n",
       "</table>\n",
       "</div>"
      ],
      "text/plain": [
       "    X_Coord_mea  Y_Coord_mea  X_Len_mea  Y_Len_mea  Z_Len_mea  X_Coord_est  \\\n",
       "0    -11.880474   -24.119835   5.745061   3.441625   1.998897   -11.880474   \n",
       "1    -11.368456   -24.197860   5.664705   3.208388   1.987152   -11.786089   \n",
       "2    -11.024649   -24.076671   5.496608   2.773913   2.002513   -11.413091   \n",
       "3    -10.769361   -24.312410   4.778183   2.917027   1.992186   -10.886457   \n",
       "4    -10.471005   -24.214727   4.444730   2.422467   2.000417   -10.421378   \n",
       "5    -10.072756   -24.298818   3.469911   2.307702   1.967476    -9.971196   \n",
       "6     -9.911183   -24.461892   3.335502   2.340459   1.958870    -9.681882   \n",
       "7     -9.634861   -24.472575   2.605300   1.973695   1.959636    -9.415524   \n",
       "8     -9.321026   -24.405228   1.969080   1.654347   2.114373    -9.140911   \n",
       "9     -8.997133   -24.204979   1.517818   0.871943   1.647589    -8.855288   \n",
       "10    -8.566189   -24.029919   0.460063   0.244981   1.188740    -8.506377   \n",
       "11    -1.000000    -1.000000  -1.000000  -1.000000  -1.000000    -8.099695   \n",
       "12    -1.000000    -1.000000  -1.000000  -1.000000  -1.000000    -7.679995   \n",
       "13    -1.000000    -1.000000  -1.000000  -1.000000  -1.000000    -7.247275   \n",
       "14    -1.000000    -1.000000  -1.000000  -1.000000  -1.000000    -6.801536   \n",
       "15    -1.000000    -1.000000  -1.000000  -1.000000  -1.000000    -6.342778   \n",
       "16    -1.000000    -1.000000  -1.000000  -1.000000  -1.000000    -5.871000   \n",
       "17    -1.000000    -1.000000  -1.000000  -1.000000  -1.000000    -5.386203   \n",
       "18    -1.000000    -1.000000  -1.000000  -1.000000  -1.000000    -4.888387   \n",
       "\n",
       "    Y_Coord_est  X_Len_est  Y_Len_est  Z_Len_est  X_Vel_est  Y_Vel_est  \\\n",
       "0    -24.119835   5.745061   3.441625   1.998897   0.000000   0.000000   \n",
       "1    -24.134218   5.668514   3.219442   1.987708   0.062645  -0.009546   \n",
       "2    -24.115430   5.512613   2.813978   2.000077   0.291764   0.008050   \n",
       "3    -24.233133   4.904718   2.823148   1.995657   0.496676  -0.064161   \n",
       "4    -24.246366   4.464018   2.497979   1.999413   0.573218  -0.051390   \n",
       "5    -24.300333   3.678562   2.295232   1.979858   0.602866  -0.060659   \n",
       "6    -24.424673   3.251649   2.236963   1.964841   0.543394  -0.095886   \n",
       "7    -24.495672   2.661858   2.016348   1.958006   0.484108  -0.098212   \n",
       "8    -24.490922   2.034091   1.730085   2.045329   0.438910  -0.070127   \n",
       "9    -24.370207   1.495366   1.141446   1.825907   0.405889  -0.007094   \n",
       "10   -24.194812   0.661106   0.475551   1.431584   0.400172   0.059492   \n",
       "11   -24.127854   0.004566   0.013476   1.251931   0.413191   0.074423   \n",
       "12   -24.045965  -0.651974  -0.448599   1.072277   0.426210   0.089355   \n",
       "13   -23.949145  -1.308514  -0.910674   0.892624   0.439229   0.104286   \n",
       "14   -23.837393  -1.965054  -1.372749   0.712971   0.452249   0.119218   \n",
       "15   -23.710710  -2.621594  -1.834825   0.533318   0.465268   0.134149   \n",
       "16   -23.569095  -3.278134  -2.296900   0.353665   0.478287   0.149081   \n",
       "17   -23.412548  -3.934674  -2.758975   0.174012   0.491306   0.164012   \n",
       "18   -23.241070  -4.591214  -3.221050  -0.005641   0.504326   0.178944   \n",
       "\n",
       "    X_Acc_est  Y_Acc_est  \n",
       "0    0.000000   0.000000  \n",
       "1    0.020882  -0.003182  \n",
       "2    0.092412   0.003955  \n",
       "3    0.125370  -0.018358  \n",
       "4    0.113066  -0.010514  \n",
       "5    0.094489  -0.010237  \n",
       "6    0.063544  -0.015260  \n",
       "7    0.040893  -0.012875  \n",
       "8    0.026104  -0.005838  \n",
       "9    0.016492   0.005358  \n",
       "10   0.013019   0.014932  \n",
       "11   0.013019   0.014932  \n",
       "12   0.013019   0.014932  \n",
       "13   0.013019   0.014932  \n",
       "14   0.013019   0.014932  \n",
       "15   0.013019   0.014932  \n",
       "16   0.013019   0.014932  \n",
       "17   0.013019   0.014932  \n",
       "18   0.013019   0.014932  "
      ]
     },
     "execution_count": 59,
     "metadata": {},
     "output_type": "execute_result"
    }
   ],
   "source": [
    "get_summary_file(mot.Off_tracking_pool[0].post_seq,mot.Off_tracking_pool[0].mea_seq)"
   ]
  },
  {
   "cell_type": "code",
   "execution_count": 47,
   "metadata": {},
   "outputs": [],
   "source": [
    "pd.concat?"
   ]
  },
  {
   "cell_type": "code",
   "execution_count": 42,
   "metadata": {},
   "outputs": [
    {
     "data": {
      "text/html": [
       "<div>\n",
       "<style scoped>\n",
       "    .dataframe tbody tr th:only-of-type {\n",
       "        vertical-align: middle;\n",
       "    }\n",
       "\n",
       "    .dataframe tbody tr th {\n",
       "        vertical-align: top;\n",
       "    }\n",
       "\n",
       "    .dataframe thead th {\n",
       "        text-align: right;\n",
       "    }\n",
       "</style>\n",
       "<table border=\"1\" class=\"dataframe\">\n",
       "  <thead>\n",
       "    <tr style=\"text-align: right;\">\n",
       "      <th></th>\n",
       "      <th>X_Coord_mea</th>\n",
       "      <th>Y_Coord_mea</th>\n",
       "      <th>X_Len_mea</th>\n",
       "      <th>Y_Len_mea</th>\n",
       "      <th>Z_Len_mea</th>\n",
       "    </tr>\n",
       "  </thead>\n",
       "  <tbody>\n",
       "    <tr>\n",
       "      <th>0</th>\n",
       "      <td>-12.990322</td>\n",
       "      <td>5.656798</td>\n",
       "      <td>0.374826</td>\n",
       "      <td>0.525902</td>\n",
       "      <td>0.80542</td>\n",
       "    </tr>\n",
       "    <tr>\n",
       "      <th>1</th>\n",
       "      <td>1.000000</td>\n",
       "      <td>1.000000</td>\n",
       "      <td>1.000000</td>\n",
       "      <td>1.000000</td>\n",
       "      <td>1.00000</td>\n",
       "    </tr>\n",
       "    <tr>\n",
       "      <th>2</th>\n",
       "      <td>1.000000</td>\n",
       "      <td>1.000000</td>\n",
       "      <td>1.000000</td>\n",
       "      <td>1.000000</td>\n",
       "      <td>1.00000</td>\n",
       "    </tr>\n",
       "    <tr>\n",
       "      <th>3</th>\n",
       "      <td>1.000000</td>\n",
       "      <td>1.000000</td>\n",
       "      <td>1.000000</td>\n",
       "      <td>1.000000</td>\n",
       "      <td>1.00000</td>\n",
       "    </tr>\n",
       "    <tr>\n",
       "      <th>4</th>\n",
       "      <td>1.000000</td>\n",
       "      <td>1.000000</td>\n",
       "      <td>1.000000</td>\n",
       "      <td>1.000000</td>\n",
       "      <td>1.00000</td>\n",
       "    </tr>\n",
       "    <tr>\n",
       "      <th>5</th>\n",
       "      <td>1.000000</td>\n",
       "      <td>1.000000</td>\n",
       "      <td>1.000000</td>\n",
       "      <td>1.000000</td>\n",
       "      <td>1.00000</td>\n",
       "    </tr>\n",
       "    <tr>\n",
       "      <th>6</th>\n",
       "      <td>-10.709188</td>\n",
       "      <td>8.774693</td>\n",
       "      <td>0.933441</td>\n",
       "      <td>1.016613</td>\n",
       "      <td>0.96545</td>\n",
       "    </tr>\n",
       "    <tr>\n",
       "      <th>7</th>\n",
       "      <td>1.000000</td>\n",
       "      <td>1.000000</td>\n",
       "      <td>1.000000</td>\n",
       "      <td>1.000000</td>\n",
       "      <td>1.00000</td>\n",
       "    </tr>\n",
       "    <tr>\n",
       "      <th>8</th>\n",
       "      <td>1.000000</td>\n",
       "      <td>1.000000</td>\n",
       "      <td>1.000000</td>\n",
       "      <td>1.000000</td>\n",
       "      <td>1.00000</td>\n",
       "    </tr>\n",
       "    <tr>\n",
       "      <th>9</th>\n",
       "      <td>1.000000</td>\n",
       "      <td>1.000000</td>\n",
       "      <td>1.000000</td>\n",
       "      <td>1.000000</td>\n",
       "      <td>1.00000</td>\n",
       "    </tr>\n",
       "    <tr>\n",
       "      <th>10</th>\n",
       "      <td>1.000000</td>\n",
       "      <td>1.000000</td>\n",
       "      <td>1.000000</td>\n",
       "      <td>1.000000</td>\n",
       "      <td>1.00000</td>\n",
       "    </tr>\n",
       "    <tr>\n",
       "      <th>11</th>\n",
       "      <td>1.000000</td>\n",
       "      <td>1.000000</td>\n",
       "      <td>1.000000</td>\n",
       "      <td>1.000000</td>\n",
       "      <td>1.00000</td>\n",
       "    </tr>\n",
       "    <tr>\n",
       "      <th>12</th>\n",
       "      <td>1.000000</td>\n",
       "      <td>1.000000</td>\n",
       "      <td>1.000000</td>\n",
       "      <td>1.000000</td>\n",
       "      <td>1.00000</td>\n",
       "    </tr>\n",
       "    <tr>\n",
       "      <th>13</th>\n",
       "      <td>1.000000</td>\n",
       "      <td>1.000000</td>\n",
       "      <td>1.000000</td>\n",
       "      <td>1.000000</td>\n",
       "      <td>1.00000</td>\n",
       "    </tr>\n",
       "    <tr>\n",
       "      <th>14</th>\n",
       "      <td>1.000000</td>\n",
       "      <td>1.000000</td>\n",
       "      <td>1.000000</td>\n",
       "      <td>1.000000</td>\n",
       "      <td>1.00000</td>\n",
       "    </tr>\n",
       "  </tbody>\n",
       "</table>\n",
       "</div>"
      ],
      "text/plain": [
       "    X_Coord_mea  Y_Coord_mea  X_Len_mea  Y_Len_mea  Z_Len_mea\n",
       "0    -12.990322     5.656798   0.374826   0.525902    0.80542\n",
       "1      1.000000     1.000000   1.000000   1.000000    1.00000\n",
       "2      1.000000     1.000000   1.000000   1.000000    1.00000\n",
       "3      1.000000     1.000000   1.000000   1.000000    1.00000\n",
       "4      1.000000     1.000000   1.000000   1.000000    1.00000\n",
       "5      1.000000     1.000000   1.000000   1.000000    1.00000\n",
       "6    -10.709188     8.774693   0.933441   1.016613    0.96545\n",
       "7      1.000000     1.000000   1.000000   1.000000    1.00000\n",
       "8      1.000000     1.000000   1.000000   1.000000    1.00000\n",
       "9      1.000000     1.000000   1.000000   1.000000    1.00000\n",
       "10     1.000000     1.000000   1.000000   1.000000    1.00000\n",
       "11     1.000000     1.000000   1.000000   1.000000    1.00000\n",
       "12     1.000000     1.000000   1.000000   1.000000    1.00000\n",
       "13     1.000000     1.000000   1.000000   1.000000    1.00000\n",
       "14     1.000000     1.000000   1.000000   1.000000    1.00000"
      ]
     },
     "execution_count": 42,
     "metadata": {},
     "output_type": "execute_result"
    }
   ],
   "source": [
    "df"
   ]
  },
  {
   "cell_type": "code",
   "execution_count": 40,
   "metadata": {},
   "outputs": [
    {
     "data": {
      "text/plain": [
       "(15, 5)"
      ]
     },
     "execution_count": 40,
     "metadata": {},
     "output_type": "execute_result"
    }
   ],
   "source": [
    "np.array(emp).shape"
   ]
  },
  {
   "cell_type": "code",
   "execution_count": 36,
   "metadata": {},
   "outputs": [
    {
     "data": {
      "text/plain": [
       "[array([-12.99032218,   5.65679778,   0.37482573,   0.52590197,\n",
       "          0.80541959]),\n",
       " array([1., 1., 1., 1., 1.]),\n",
       " array([1., 1., 1., 1., 1.]),\n",
       " array([1., 1., 1., 1., 1.]),\n",
       " array([1., 1., 1., 1., 1.]),\n",
       " array([1., 1., 1., 1., 1.]),\n",
       " array([-10.70918774,   8.77469311,   0.93344061,   1.01661305,\n",
       "          0.96544979]),\n",
       " array([1., 1., 1., 1., 1.]),\n",
       " array([1., 1., 1., 1., 1.]),\n",
       " array([1., 1., 1., 1., 1.]),\n",
       " array([1., 1., 1., 1., 1.]),\n",
       " array([1., 1., 1., 1., 1.]),\n",
       " array([1., 1., 1., 1., 1.]),\n",
       " array([1., 1., 1., 1., 1.]),\n",
       " array([1., 1., 1., 1., 1.])]"
      ]
     },
     "execution_count": 36,
     "metadata": {},
     "output_type": "execute_result"
    }
   ],
   "source": [
    "emp"
   ]
  },
  {
   "cell_type": "code",
   "execution_count": 13,
   "metadata": {},
   "outputs": [
    {
     "data": {
      "text/plain": [
       "9"
      ]
     },
     "execution_count": 13,
     "metadata": {},
     "output_type": "execute_result"
    }
   ],
   "source": [
    "len(mea_seqs[2])"
   ]
  },
  {
   "cell_type": "code",
   "execution_count": 10,
   "metadata": {},
   "outputs": [],
   "source": [
    "for key in mot.Off_tracking_pool.keys():\n",
    "    for i in range(len(mot.Off_tracking_pool[key].post_seq)):\n",
    "        if type(mot.Off_tracking_pool[key].post_seq[i]) == int:\n",
    "            print(i,key)"
   ]
  },
  {
   "cell_type": "code",
   "execution_count": 26,
   "metadata": {},
   "outputs": [],
   "source": [
    "lengths = [len(mot.Off_tracking_pool[key].post_seq) for key in mot.Off_tracking_pool.keys()]\n",
    "post_seqs = [mot.Off_tracking_pool[key].post_seq for key in mot.Off_tracking_pool.keys()]\n",
    "# post_seqs = [np.array([p_ for p_ in p if type(p_) != int]) for p in post_seqs]\n",
    "mea_seqs = [mot.Off_tracking_pool[key].mea_seq for key in mot.Off_tracking_pool.keys()]\n",
    "# mea_seqs = [np.array([p_ for p_ in p if type(p_) != int]) for p in mea_seqs]\n",
    "# keys = [key for key in mot.Off_tracking_pool]"
   ]
  },
  {
   "cell_type": "code",
   "execution_count": null,
   "metadata": {},
   "outputs": [],
   "source": []
  },
  {
   "cell_type": "code",
   "execution_count": null,
   "metadata": {},
   "outputs": [],
   "source": []
  },
  {
   "cell_type": "code",
   "execution_count": 6,
   "metadata": {},
   "outputs": [
    {
     "data": {
      "image/png": "[encoded data removed]",
      "text/plain": [
       "<Figure size 432x288 with 1 Axes>"
      ]
     },
     "metadata": {
      "needs_background": "light"
     },
     "output_type": "display_data"
    }
   ],
   "source": [
    "plt.hist(lengths,bins = 10)\n",
    "plt.show()"
   ]
  },
  {
   "cell_type": "code",
   "execution_count": 5,
   "metadata": {},
   "outputs": [
    {
     "ename": "NameError",
     "evalue": "name 'post_seqs' is not defined",
     "output_type": "error",
     "traceback": [
      "\u001b[0;31m---------------------------------------------------------------------------\u001b[0m",
      "\u001b[0;31mNameError\u001b[0m                                 Traceback (most recent call last)",
      "\u001b[0;32m<ipython-input-5-ddf444efd58f>\u001b[0m in \u001b[0;36m<module>\u001b[0;34m\u001b[0m\n\u001b[1;32m      1\u001b[0m \u001b[0mkey\u001b[0m \u001b[0;34m=\u001b[0m \u001b[0;36m1712\u001b[0m\u001b[0;34m\u001b[0m\u001b[0;34m\u001b[0m\u001b[0m\n\u001b[1;32m      2\u001b[0m \u001b[0mplt\u001b[0m\u001b[0;34m.\u001b[0m\u001b[0mfigure\u001b[0m\u001b[0;34m(\u001b[0m\u001b[0mfigsize\u001b[0m \u001b[0;34m=\u001b[0m \u001b[0;34m(\u001b[0m\u001b[0;36m10\u001b[0m\u001b[0;34m,\u001b[0m\u001b[0;36m10\u001b[0m\u001b[0;34m)\u001b[0m\u001b[0;34m)\u001b[0m\u001b[0;34m\u001b[0m\u001b[0;34m\u001b[0m\u001b[0m\n\u001b[0;32m----> 3\u001b[0;31m \u001b[0mplt\u001b[0m\u001b[0;34m.\u001b[0m\u001b[0mplot\u001b[0m\u001b[0;34m(\u001b[0m\u001b[0mpost_seqs\u001b[0m\u001b[0;34m[\u001b[0m\u001b[0mkey\u001b[0m\u001b[0;34m]\u001b[0m\u001b[0;34m[\u001b[0m\u001b[0;34m:\u001b[0m\u001b[0;34m,\u001b[0m\u001b[0;36m0\u001b[0m\u001b[0;34m]\u001b[0m\u001b[0;34m,\u001b[0m\u001b[0mpost_seqs\u001b[0m\u001b[0;34m[\u001b[0m\u001b[0mkey\u001b[0m\u001b[0;34m]\u001b[0m\u001b[0;34m[\u001b[0m\u001b[0;34m:\u001b[0m\u001b[0;34m,\u001b[0m\u001b[0;36m1\u001b[0m\u001b[0;34m]\u001b[0m\u001b[0;34m,\u001b[0m\u001b[0mmarker\u001b[0m \u001b[0;34m=\u001b[0m \u001b[0;34m'o'\u001b[0m\u001b[0;34m,\u001b[0m\u001b[0mlabel\u001b[0m \u001b[0;34m=\u001b[0m \u001b[0;34m'Post'\u001b[0m\u001b[0;34m)\u001b[0m\u001b[0;34m\u001b[0m\u001b[0;34m\u001b[0m\u001b[0m\n\u001b[0m\u001b[1;32m      4\u001b[0m \u001b[0mplt\u001b[0m\u001b[0;34m.\u001b[0m\u001b[0mplot\u001b[0m\u001b[0;34m(\u001b[0m\u001b[0mmea_seqs\u001b[0m\u001b[0;34m[\u001b[0m\u001b[0mkey\u001b[0m\u001b[0;34m]\u001b[0m\u001b[0;34m[\u001b[0m\u001b[0;34m:\u001b[0m\u001b[0;34m,\u001b[0m\u001b[0;36m0\u001b[0m\u001b[0;34m]\u001b[0m\u001b[0;34m,\u001b[0m\u001b[0mmea_seqs\u001b[0m\u001b[0;34m[\u001b[0m\u001b[0mkey\u001b[0m\u001b[0;34m]\u001b[0m\u001b[0;34m[\u001b[0m\u001b[0;34m:\u001b[0m\u001b[0;34m,\u001b[0m\u001b[0;36m1\u001b[0m\u001b[0;34m]\u001b[0m\u001b[0;34m,\u001b[0m\u001b[0mmarker\u001b[0m \u001b[0;34m=\u001b[0m \u001b[0;34m'x'\u001b[0m\u001b[0;34m,\u001b[0m\u001b[0mlabel\u001b[0m \u001b[0;34m=\u001b[0m \u001b[0;34m'Mea'\u001b[0m\u001b[0;34m)\u001b[0m\u001b[0;34m\u001b[0m\u001b[0;34m\u001b[0m\u001b[0m\n\u001b[1;32m      5\u001b[0m \u001b[0mplt\u001b[0m\u001b[0;34m.\u001b[0m\u001b[0mshow\u001b[0m\u001b[0;34m(\u001b[0m\u001b[0;34m)\u001b[0m\u001b[0;34m\u001b[0m\u001b[0;34m\u001b[0m\u001b[0m\n",
      "\u001b[0;31mNameError\u001b[0m: name 'post_seqs' is not defined"
     ]
    },
    {
     "data": {
      "text/plain": [
       "<Figure size 720x720 with 0 Axes>"
      ]
     },
     "metadata": {},
     "output_type": "display_data"
    }
   ],
   "source": [
    "key = 1712\n",
    "plt.figure(figsize = (10,10))\n",
    "plt.plot(post_seqs[key][:,0],post_seqs[key][:,1],marker = 'o',label = 'Post')\n",
    "plt.plot(mea_seqs[key][:,0],mea_seqs[key][:,1],marker = 'x',label = 'Mea')\n",
    "plt.show()"
   ]
  },
  {
   "cell_type": "code",
   "execution_count": null,
   "metadata": {},
   "outputs": [],
   "source": []
  },
  {
   "cell_type": "code",
   "execution_count": null,
   "metadata": {},
   "outputs": [],
   "source": []
  }
 ],
 "metadata": {
  "interpreter": {
   "hash": "1e5f7bb8ccf0c05ceb6f1a2a367df183186574b25661c58bd0281a0958a9efbd"
  },
  "kernelspec": {
   "display_name": "Python 3",
   "language": "python",
   "name": "python3"
  },
  "language_info": {
   "codemirror_mode": {
    "name": "ipython",
    "version": 3
   },
   "file_extension": ".py",
   "mimetype": "text/x-python",
   "name": "python",
   "nbconvert_exporter": "python",
   "pygments_lexer": "ipython3",
   "version": "3.8.5"
  }
 },
 "nbformat": 4,
 "nbformat_minor": 2
}
