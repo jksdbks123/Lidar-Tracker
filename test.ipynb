{
 "cells": [
  {
   "cell_type": "code",
   "execution_count": 10,
   "metadata": {},
   "outputs": [],
   "source": [
    "from MOT import MOT\n",
    "import numpy as np\n",
    "import matplotlib.pyplot as plt\n",
    "import os\n",
    "import pandas as pd"
   ]
  },
  {
   "cell_type": "code",
   "execution_count": 2,
   "metadata": {},
   "outputs": [
    {
     "name": "stderr",
     "output_type": "stream",
     "text": [
      "  0%|          | 2/2000 [00:00<02:09, 15.38it/s]"
     ]
    },
    {
     "name": "stdout",
     "output_type": "stream",
     "text": [
      "Initialization...\n"
     ]
    },
    {
     "name": "stderr",
     "output_type": "stream",
     "text": [
      "100%|██████████| 2000/2000 [01:29<00:00, 22.29it/s]\n"
     ]
    },
    {
     "name": "stdout",
     "output_type": "stream",
     "text": [
      "Generating Threshold Map\n"
     ]
    },
    {
     "name": "stderr",
     "output_type": "stream",
     "text": [
      "Tracking 2000 frame:  11%|█         | 1999/17949 [03:55<36:23,  7.30it/s]"
     ]
    },
    {
     "name": "stdout",
     "output_type": "stream",
     "text": [
      "Generating Threshold Map\n"
     ]
    },
    {
     "name": "stderr",
     "output_type": "stream",
     "text": [
      "Tracking 4000 frame:  22%|██▏       | 3999/17949 [08:23<27:01,  8.60it/s]  "
     ]
    },
    {
     "name": "stdout",
     "output_type": "stream",
     "text": [
      "Generating Threshold Map\n"
     ]
    },
    {
     "name": "stderr",
     "output_type": "stream",
     "text": [
      "Tracking 6000 frame:  33%|███▎      | 5998/17949 [12:23<20:00,  9.95it/s]  "
     ]
    },
    {
     "name": "stdout",
     "output_type": "stream",
     "text": [
      "Generating Threshold Map\n"
     ]
    },
    {
     "name": "stderr",
     "output_type": "stream",
     "text": [
      "Tracking 8000 frame:  45%|████▍     | 7999/17949 [16:42<21:37,  7.67it/s]  "
     ]
    },
    {
     "name": "stdout",
     "output_type": "stream",
     "text": [
      "Generating Threshold Map\n"
     ]
    },
    {
     "name": "stderr",
     "output_type": "stream",
     "text": [
      "Tracking 10000 frame:  56%|█████▌    | 9999/17949 [21:02<19:26,  6.81it/s] "
     ]
    },
    {
     "name": "stdout",
     "output_type": "stream",
     "text": [
      "Generating Threshold Map\n"
     ]
    },
    {
     "name": "stderr",
     "output_type": "stream",
     "text": [
      "Tracking 12000 frame:  67%|██████▋   | 11999/17949 [26:01<13:31,  7.33it/s]  "
     ]
    },
    {
     "name": "stdout",
     "output_type": "stream",
     "text": [
      "Generating Threshold Map\n"
     ]
    },
    {
     "name": "stderr",
     "output_type": "stream",
     "text": [
      "Tracking 14000 frame:  78%|███████▊  | 13999/17949 [30:20<08:05,  8.13it/s]  "
     ]
    },
    {
     "name": "stdout",
     "output_type": "stream",
     "text": [
      "Generating Threshold Map\n"
     ]
    },
    {
     "name": "stderr",
     "output_type": "stream",
     "text": [
      "Tracking 16000 frame:  89%|████████▉ | 15999/17949 [34:25<03:46,  8.60it/s]  "
     ]
    },
    {
     "name": "stdout",
     "output_type": "stream",
     "text": [
      "Generating Threshold Map\n"
     ]
    },
    {
     "name": "stderr",
     "output_type": "stream",
     "text": [
      "Tracking 17949 frame: 100%|██████████| 17949/17949 [37:55<00:00,  7.89it/s]\n"
     ]
    }
   ],
   "source": [
    "params = {\n",
    "        'd':1.2,\n",
    "        'thred_s':0.3,\n",
    "        'N':20,\n",
    "        'delta_thred' : 1e-3,\n",
    "        'step':0.1,\n",
    "        'win_size':(5,13),\n",
    "        'eps': 1.5,\n",
    "        'min_samples':16\n",
    "}\n",
    "A = np.array( # x,y,l,w,h,,x',y',l',w',h',x'',y''\n",
    "[[1,0,0,0,0,1,0,0,0,0,.5, 0],\n",
    "    [0,1,0,0,0,0,1,0,0,0, 0,.5],\n",
    "    [0,0,1,0,0,0,0,1,0,0, 0, 0],\n",
    "    [0,0,0,1,0,0,0,0,1,0, 0, 0],\n",
    "    [0,0,0,0,1,0,0,0,0,1, 0, 0],\n",
    "    [0,0,0,0,0,1,0,0,0,0, 1, 0],\n",
    "    [0,0,0,0,0,0,1,0,0,0, 0, 1],\n",
    "    [0,0,0,0,0,0,0,1,0,0, 0, 0],\n",
    "    [0,0,0,0,0,0,0,0,1,0, 0, 0],\n",
    "    [0,0,0,0,0,0,0,0,0,1, 0, 0],\n",
    "    [0,0,0,0,0,0,0,0,0,0, 1, 0],\n",
    "    [0,0,0,0,0,0,0,0,0,0, 0, 1]]\n",
    "    )\n",
    "Q = np.diag([1,1,1,1,1,1,1,1,1,1,1,1])*0.01\n",
    "H = np.array([[1,0,0,0,0,0,0,0,0,0,0,0],\n",
    "            [0,1,0,0,0,0,0,0,0,0,0,0],\n",
    "            [0,0,1,0,0,0,0,0,0,0,0,0],\n",
    "            [0,0,0,1,0,0,0,0,0,0,0,0],\n",
    "            [0,0,0,0,1,0,0,0,0,0,0,0]])\n",
    "R = np.diag([10,10,0.1,0.1,0.1])\n",
    "P = np.diag([1,1,1,1,1,1,1,1,1,1,1,1])\n",
    "missing_thred = 7\n",
    "os.chdir(r'/Users/czhui960/Documents/Lidar/RawLidarData/FrameSamplingTest')\n",
    "mot = MOT(r'./2020-7-27-10-30-0.pcap',ending_frame=17950,background_update_frame = 2000,**params)\n",
    "mot.initialization()\n",
    "mot.mot_tracking(missing_thred,A,P,H,Q,R)"
   ]
  },
  {
   "cell_type": "code",
   "execution_count": 14,
   "metadata": {},
   "outputs": [],
   "source": [
    "lengths = [len(mot.Off_tracking_pool[key].post_seq) for key in mot.Off_tracking_pool.keys()]\n",
    "post_seqs = [mot.Off_tracking_pool[key].post_seq for key in mot.Off_tracking_pool.keys()]\n",
    "# post_seqs = [np.array([p_ for p_ in p if type(p_) != int]) for p in post_seqs]\n",
    "mea_seqs = [mot.Off_tracking_pool[key].mea_seq for key in mot.Off_tracking_pool.keys()]\n",
    "# mea_seqs = [np.array([p_ for p_ in p if type(p_) != int]) for p in mea_seqs]\n",
    "keys = [key for key in mot.Off_tracking_pool]"
   ]
  },
  {
   "cell_type": "code",
   "execution_count": 11,
   "metadata": {
    "scrolled": false
   },
   "outputs": [
    {
     "data": {
      "text/plain": [
       "array([[-11.88047381, -24.11983506,   5.74506133,   3.44162513,\n",
       "          1.9988973 ],\n",
       "       [-11.36845571, -24.19785975,   5.66470543,   3.20838818,\n",
       "          1.98715172],\n",
       "       [-11.02464894, -24.07667096,   5.49660765,   2.77391339,\n",
       "          2.00251327],\n",
       "       [-10.76936119, -24.31241028,   4.77818289,   2.91702679,\n",
       "          1.99218615],\n",
       "       [-10.47100548, -24.21472666,   4.44472988,   2.4224666 ,\n",
       "          2.00041727],\n",
       "       [-10.07275643, -24.29881799,   3.46991057,   2.30770189,\n",
       "          1.96747611],\n",
       "       [ -9.91118323, -24.461892  ,   3.33550198,   2.34045888,\n",
       "          1.95886982],\n",
       "       [ -9.63486142, -24.47257514,   2.60529964,   1.97369476,\n",
       "          1.95963644],\n",
       "       [ -9.32102584, -24.40522819,   1.9690796 ,   1.65434724,\n",
       "          2.11437268],\n",
       "       [ -8.99713312, -24.20497859,   1.51781835,   0.87194294,\n",
       "          1.64758911],\n",
       "       [ -8.56618912, -24.02991867,   0.46006345,   0.24498098,\n",
       "          1.1887402 ]])"
      ]
     },
     "execution_count": 11,
     "metadata": {},
     "output_type": "execute_result"
    }
   ],
   "source": [
    "mea_seqs[0].reshape((mea_seqs[0].shape[0],mea_seqs[0].shape[1]))"
   ]
  },
  {
   "cell_type": "code",
   "execution_count": 6,
   "metadata": {},
   "outputs": [
    {
     "data": {
      "image/png": "[encoded data removed]",
      "text/plain": [
       "<Figure size 432x288 with 1 Axes>"
      ]
     },
     "metadata": {
      "needs_background": "light"
     },
     "output_type": "display_data"
    }
   ],
   "source": [
    "plt.hist(lengths,bins = 10)\n",
    "plt.show()"
   ]
  },
  {
   "cell_type": "code",
   "execution_count": 5,
   "metadata": {},
   "outputs": [
    {
     "ename": "NameError",
     "evalue": "name 'post_seqs' is not defined",
     "output_type": "error",
     "traceback": [
      "\u001b[0;31m---------------------------------------------------------------------------\u001b[0m",
      "\u001b[0;31mNameError\u001b[0m                                 Traceback (most recent call last)",
      "\u001b[0;32m<ipython-input-5-ddf444efd58f>\u001b[0m in \u001b[0;36m<module>\u001b[0;34m\u001b[0m\n\u001b[1;32m      1\u001b[0m \u001b[0mkey\u001b[0m \u001b[0;34m=\u001b[0m \u001b[0;36m1712\u001b[0m\u001b[0;34m\u001b[0m\u001b[0;34m\u001b[0m\u001b[0m\n\u001b[1;32m      2\u001b[0m \u001b[0mplt\u001b[0m\u001b[0;34m.\u001b[0m\u001b[0mfigure\u001b[0m\u001b[0;34m(\u001b[0m\u001b[0mfigsize\u001b[0m \u001b[0;34m=\u001b[0m \u001b[0;34m(\u001b[0m\u001b[0;36m10\u001b[0m\u001b[0;34m,\u001b[0m\u001b[0;36m10\u001b[0m\u001b[0;34m)\u001b[0m\u001b[0;34m)\u001b[0m\u001b[0;34m\u001b[0m\u001b[0;34m\u001b[0m\u001b[0m\n\u001b[0;32m----> 3\u001b[0;31m \u001b[0mplt\u001b[0m\u001b[0;34m.\u001b[0m\u001b[0mplot\u001b[0m\u001b[0;34m(\u001b[0m\u001b[0mpost_seqs\u001b[0m\u001b[0;34m[\u001b[0m\u001b[0mkey\u001b[0m\u001b[0;34m]\u001b[0m\u001b[0;34m[\u001b[0m\u001b[0;34m:\u001b[0m\u001b[0;34m,\u001b[0m\u001b[0;36m0\u001b[0m\u001b[0;34m]\u001b[0m\u001b[0;34m,\u001b[0m\u001b[0mpost_seqs\u001b[0m\u001b[0;34m[\u001b[0m\u001b[0mkey\u001b[0m\u001b[0;34m]\u001b[0m\u001b[0;34m[\u001b[0m\u001b[0;34m:\u001b[0m\u001b[0;34m,\u001b[0m\u001b[0;36m1\u001b[0m\u001b[0;34m]\u001b[0m\u001b[0;34m,\u001b[0m\u001b[0mmarker\u001b[0m \u001b[0;34m=\u001b[0m \u001b[0;34m'o'\u001b[0m\u001b[0;34m,\u001b[0m\u001b[0mlabel\u001b[0m \u001b[0;34m=\u001b[0m \u001b[0;34m'Post'\u001b[0m\u001b[0;34m)\u001b[0m\u001b[0;34m\u001b[0m\u001b[0;34m\u001b[0m\u001b[0m\n\u001b[0m\u001b[1;32m      4\u001b[0m \u001b[0mplt\u001b[0m\u001b[0;34m.\u001b[0m\u001b[0mplot\u001b[0m\u001b[0;34m(\u001b[0m\u001b[0mmea_seqs\u001b[0m\u001b[0;34m[\u001b[0m\u001b[0mkey\u001b[0m\u001b[0;34m]\u001b[0m\u001b[0;34m[\u001b[0m\u001b[0;34m:\u001b[0m\u001b[0;34m,\u001b[0m\u001b[0;36m0\u001b[0m\u001b[0;34m]\u001b[0m\u001b[0;34m,\u001b[0m\u001b[0mmea_seqs\u001b[0m\u001b[0;34m[\u001b[0m\u001b[0mkey\u001b[0m\u001b[0;34m]\u001b[0m\u001b[0;34m[\u001b[0m\u001b[0;34m:\u001b[0m\u001b[0;34m,\u001b[0m\u001b[0;36m1\u001b[0m\u001b[0;34m]\u001b[0m\u001b[0;34m,\u001b[0m\u001b[0mmarker\u001b[0m \u001b[0;34m=\u001b[0m \u001b[0;34m'x'\u001b[0m\u001b[0;34m,\u001b[0m\u001b[0mlabel\u001b[0m \u001b[0;34m=\u001b[0m \u001b[0;34m'Mea'\u001b[0m\u001b[0;34m)\u001b[0m\u001b[0;34m\u001b[0m\u001b[0;34m\u001b[0m\u001b[0m\n\u001b[1;32m      5\u001b[0m \u001b[0mplt\u001b[0m\u001b[0;34m.\u001b[0m\u001b[0mshow\u001b[0m\u001b[0;34m(\u001b[0m\u001b[0;34m)\u001b[0m\u001b[0;34m\u001b[0m\u001b[0;34m\u001b[0m\u001b[0m\n",
      "\u001b[0;31mNameError\u001b[0m: name 'post_seqs' is not defined"
     ]
    },
    {
     "data": {
      "text/plain": [
       "<Figure size 720x720 with 0 Axes>"
      ]
     },
     "metadata": {},
     "output_type": "display_data"
    }
   ],
   "source": [
    "key = 1712\n",
    "plt.figure(figsize = (10,10))\n",
    "plt.plot(post_seqs[key][:,0],post_seqs[key][:,1],marker = 'o',label = 'Post')\n",
    "plt.plot(mea_seqs[key][:,0],mea_seqs[key][:,1],marker = 'x',label = 'Mea')\n",
    "plt.show()"
   ]
  },
  {
   "cell_type": "code",
   "execution_count": null,
   "metadata": {},
   "outputs": [],
   "source": []
  },
  {
   "cell_type": "code",
   "execution_count": null,
   "metadata": {},
   "outputs": [],
   "source": []
  }
 ],
 "metadata": {
  "interpreter": {
   "hash": "1e5f7bb8ccf0c05ceb6f1a2a367df183186574b25661c58bd0281a0958a9efbd"
  },
  "kernelspec": {
   "display_name": "Python 3",
   "language": "python",
   "name": "python3"
  },
  "language_info": {
   "codemirror_mode": {
    "name": "ipython",
    "version": 3
   },
   "file_extension": ".py",
   "mimetype": "text/x-python",
   "name": "python",
   "nbconvert_exporter": "python",
   "pygments_lexer": "ipython3",
   "version": "3.8.5"
  }
 },
 "nbformat": 4,
 "nbformat_minor": 2
}
