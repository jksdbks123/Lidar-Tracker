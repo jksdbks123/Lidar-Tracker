{
 "cells": [
  {
   "cell_type": "code",
   "execution_count": 1,
   "metadata": {},
   "outputs": [],
   "source": [
    "from tqdm import tqdm_notebook\n",
    "import datetime\n",
    "import dpkt\n",
    "import numpy as np\n",
    "import matplotlib.pyplot as plt\n",
    "import os\n",
    "import pandas as pd\n",
    "import open3d as op3"
   ]
  },
  {
   "cell_type": "code",
   "execution_count": 2,
   "metadata": {},
   "outputs": [],
   "source": [
    "def test():\n",
    "    temp = [1,2,3,4]\n",
    "    i = 0\n",
    "    while True:\n",
    "        i+=1\n",
    "        yield temp[i]"
   ]
  },
  {
   "cell_type": "code",
   "execution_count": 3,
   "metadata": {},
   "outputs": [],
   "source": [
    "gen = test()"
   ]
  },
  {
   "cell_type": "code",
   "execution_count": 6,
   "metadata": {},
   "outputs": [
    {
     "output_type": "execute_result",
     "data": {
      "text/plain": [
       "4"
      ]
     },
     "metadata": {},
     "execution_count": 6
    }
   ],
   "source": [
    "next(gen)"
   ]
  },
  {
   "cell_type": "code",
   "execution_count": 2,
   "metadata": {},
   "outputs": [],
   "source": [
    "omega = np.array([[-25,1.4],[-1,-4.2],[-1.667,1.4],[-15.639,-1.4],\n",
    "    [-11.31,1.4],[0,-1.4],[-0.667,4.2],[-8.843,-1.4],\n",
    "    [-7.254,1.4],[0.333,-4.2],[-0.333,1.4],[-6.148,-1.4],\n",
    "    [-5.333,4.2],[1.333,-1.4],[0.667,4.2],[-4,-1.4],\n",
    "    [-4.667,1.4],[1.667,-4.2],[1,1.4],[-3.667,-4.2],\n",
    "    [-3.333,4.2],[3.333,-1.4],[2.333,1.4],[-2.667,-1.4],\n",
    "    [-3,1.4],[7,-1.4],[4.667,1.4],[-2.333,-4.2],\n",
    "    [-2,4.2],[15,-1.4],[10.333,1.4],[-1.333,-1.4]\n",
    "])"
   ]
  },
  {
   "cell_type": "code",
   "execution_count": 3,
   "metadata": {},
   "outputs": [],
   "source": [
    "\n",
    "\n",
    "class LidarLoader():\n",
    "    def __init__(self,file_path):\n",
    "        self.Data_order = np.array([[-25,1.4],[-1,-4.2],[-1.667,1.4],[-15.639,-1.4],\n",
    "    [-11.31,1.4],[0,-1.4],[-0.667,4.2],[-8.843,-1.4],\n",
    "    [-7.254,1.4],[0.333,-4.2],[-0.333,1.4],[-6.148,-1.4],\n",
    "    [-5.333,4.2],[1.333,-1.4],[0.667,4.2],[-4,-1.4],\n",
    "    [-4.667,1.4],[1.667,-4.2],[1,1.4],[-3.667,-4.2],\n",
    "    [-3.333,4.2],[3.333,-1.4],[2.333,1.4],[-2.667,-1.4],\n",
    "    [-3,1.4],[7,-1.4],[4.667,1.4],[-2.333,-4.2],\n",
    "    [-2,4.2],[15,-1.4],[10.333,1.4],[-1.333,-1.4]\n",
    "])\n",
    "        self.timing_offset = self.calc_timing_offsets()\n",
    "        self.omega = self.Data_order[:,0]\n",
    "        self.lidar_reader = 0\n",
    "        self.file_path = file_path\n",
    "        self.load_reader()\n",
    "\n",
    "    def load_reader(self):\n",
    "        try:\n",
    "            fpcap = open(self.file_path, 'rb')\n",
    "            self.lidar_reader = dpkt.pcap.Reader(fpcap)\n",
    "        except Exception as ex:\n",
    "            print(str(ex))\n",
    "\n",
    "    def read_uint32(self,data, idx):\n",
    "        return data[idx] + data[idx+1]*256 + data[idx+2]*256*256 + data[idx+3]*256*256*256\n",
    "    def read_firing_data(self,data):\n",
    "        block_id = data[0] + data[1]*256\n",
    "        azimuth = (data[2] + data[3] * 256) / 100 # degree\n",
    "        firings = data[4:].reshape(32, 3) \n",
    "        distances = firings[:, 0] + firings[:, 1] * 256 # mm \n",
    "        intensities = firings[:, 2] # 0-255\n",
    "        return distances, intensities, azimuth #(1,0)\n",
    "    \n",
    "    def calc_timing_offsets(self):\n",
    "        timing_offsets = np.zeros((32,12))  # Init matrix\n",
    "        # constants\n",
    "        full_firing_cycle = 55.296  # μs\n",
    "        single_firing = 2.304  # μs\n",
    "        # compute timing offsets\n",
    "        for x in range(12):\n",
    "            for y in range(32):\n",
    "                dataBlockIndex = (x * 2) + int((y / 16))\n",
    "                dataPointIndex = y % 16\n",
    "                timing_offsets[y][x] = (full_firing_cycle * dataBlockIndex) +(single_firing * dataPointIndex)\n",
    "        return np.array(timing_offsets).T\n",
    "\n",
    "    def calc_precise_azimuth(self,azimuth):\n",
    "        org_azi = azimuth.copy()\n",
    "\n",
    "        precision_azimuth = []\n",
    "        # iterate through each block\n",
    "        for n in range(12): # n=0..11\n",
    "            azimuth = org_azi.copy()\n",
    "            try:\n",
    "                # First, adjust for an Azimuth rollover from 359.99° to 0°\n",
    "                if azimuth[n + 1] < azimuth[n]:\n",
    "                    azimuth[n + 1] += 360\n",
    "\n",
    "                # Determine the azimuth Gap between data blocks\n",
    "                azimuth_gap = azimuth[n + 1] - azimuth[n]\n",
    "            except:\n",
    "                if azimuth[n] < azimuth[n-1]:\n",
    "                    azimuth[n] += 360\n",
    "                azimuth_gap = azimuth[n] - azimuth[n-1]\n",
    "\n",
    "            factor = azimuth_gap / 32.\n",
    "            k = np.arange(32)\n",
    "            precise_azimuth = azimuth[n] + factor * k\n",
    "            precision_azimuth.append(precise_azimuth)\n",
    "\n",
    "        precision_azimuth = np.array(precision_azimuth)\n",
    "        return precision_azimuth\n",
    "\n",
    "    def calc_cart_coord(self,distances, azimuth):# distance: 12*32 azimuth: 12*32\n",
    "        # convert deg to rad\n",
    "        longitudes = self.omega * np.pi / 180.\n",
    "        latitudes = azimuth * np.pi / 180.\n",
    "\n",
    "        hypotenuses = distances * np.cos(longitudes)\n",
    "\n",
    "        X = hypotenuses * np.sin(latitudes)\n",
    "        Y = hypotenuses * np.cos(latitudes)\n",
    "        Z = distances * np.sin(longitudes)\n",
    "        return X, Y, Z\n",
    "\n",
    "    def parse_one_packet(self,data):\n",
    "        data = np.frombuffer(data, dtype=np.uint8).astype(np.uint32)\n",
    "        blocks = data[0:1200].reshape(12, 100)\n",
    "        Timestamp = self.read_uint32(data[1200:1204],0)\n",
    "        distances = []#12*32\n",
    "        intensities = []#12*32\n",
    "        azimuth_per_block = [] #(12,0)\n",
    "        # iteratie through each block\n",
    "        for i, blk in enumerate(blocks):\n",
    "            dists, intens, angles = self.read_firing_data(blk)\n",
    "            distances.append(dists) #12*32\n",
    "            intensities.append(intens) #12*32\n",
    "            azimuth_per_block.append(angles)\n",
    "        azimuth_per_block = np.array(azimuth_per_block) #12, \n",
    "            ## Note: all these arrray have th same size, number of firing in one packet\n",
    "        azimuth_adjusted = self.calc_precise_azimuth(azimuth_per_block).reshape(12, 32) # 12*32\n",
    "        azimuth_origin = np.tile(azimuth_per_block.reshape(-1,1),32)\n",
    "        \n",
    "        azimuth_adjusted += self.Data_order[:,1] # offset\n",
    "        distances = np.array(distances)*4/1000 # 12*32\n",
    "        intensities = np.array(intensities) # 12*32\n",
    "        laser_id = np.tile(np.arange(32).reshape(-1,1),12).T\n",
    "        \n",
    "        # now calculate the cartesian coordinate of each point\n",
    "        X, Y, Z = self.calc_cart_coord(distances, azimuth_adjusted)\n",
    "        \n",
    "        # calculating timestamp [microsec] of each firing\n",
    "        timestamps = Timestamp + self.timing_offset\n",
    "\n",
    "        X = X.flatten()\n",
    "        Y = Y.flatten()\n",
    "        Z = Z.flatten()\n",
    "        intensities = intensities.flatten()\n",
    "        azimuth_adjusted = azimuth_adjusted.flatten()\n",
    "        timestamps = timestamps.flatten()\n",
    "        distances = distances.flatten()\n",
    "        azimuth_origin = azimuth_origin.flatten()\n",
    "        laser_id = laser_id.flatten()\n",
    "        # remeber the last azimuth for roll over checking\n",
    "        return X, Y, Z, intensities, azimuth_adjusted, timestamps, distances, azimuth_origin, laser_id\n",
    "\n",
    "    def frame_gen(self):\n",
    "        while True:\n",
    "            cur_culmulative_fires = 0\n",
    "            frame = []\n",
    "            flag = True\n",
    "            for ts,buf in self.lidar_reader:\n",
    "                eth = dpkt.ethernet.Ethernet(buf)\n",
    "                data = eth.data.data.data\n",
    "                packet_status = eth.data.data.sport\n",
    "                if packet_status == 2368:\n",
    "                    cur_culmulative_fires+=1\n",
    "                    if len(data)<1206:\n",
    "                        continue\n",
    "                    X,Y,Z,I,A,T,D,A_O,L_id = self.parse_one_packet(data)\n",
    "                    A[A>360] -= 360\n",
    "                    frame.append(np.concatenate([T.reshape((-1,1)),\n",
    "                                                    X.reshape((-1,1)),\n",
    "                                                    Y.reshape((-1,1)),\n",
    "                                                    Z.reshape((-1,1)),\n",
    "                                                    D.reshape((-1,1)),\n",
    "                                                    I.reshape((-1,1)),\n",
    "                                                    ],axis = 1))\n",
    "                    if cur_culmulative_fires==150:\n",
    "                        cur_culmulative_fires = 0\n",
    "                        temp = np.concatenate(frame)\n",
    "                        temp = temp[(temp[:,4]!=0)&(temp[:,4]<60)] # filter out sky laser\n",
    "                        frame = []\n",
    "                        yield temp    \n",
    "                else:\n",
    "                    continue\n"
   ]
  },
  {
   "cell_type": "code",
   "execution_count": 39,
   "metadata": {},
   "outputs": [
    {
     "name": "stderr",
     "output_type": "stream",
     "text": [
      "/Users/czhui960/opt/anaconda3/envs/tf2/lib/python3.7/site-packages/ipykernel_launcher.py:22: TqdmDeprecationWarning: This function will be removed in tqdm==5.0.0\n",
      "Please use `tqdm.notebook.tqdm` instead of `tqdm.tqdm_notebook`\n"
     ]
    },
    {
     "data": {
      "application/vnd.jupyter.widget-view+json": {
       "model_id": "783dd440c8b343748fc5ffc39af71559",
       "version_major": 2,
       "version_minor": 0
      },
      "text/plain": [
       "HBox(children=(FloatProgress(value=0.0, max=17000.0), HTML(value='')))"
      ]
     },
     "metadata": {},
     "output_type": "display_data"
    },
    {
     "name": "stdout",
     "output_type": "stream",
     "text": [
      "\n"
     ]
    }
   ],
   "source": [
    "os.chdir(r'/Users/czhui960/Documents/Lidar/to ZHIHUI/USA pkwy')\n",
    "file_path  = os.listdir()[-2]\n",
    "loader = LidarLoader(file_path).frame_gen()\n",
    "frame = next(loader)\n",
    "grid_height = (frame[:,3].max()-frame[:,3].min())\n",
    "grid_width = 60*2\n",
    "grid_length = 60*2\n",
    "resolution = 0.2\n",
    "bf_frames = 17000\n",
    "bf_threshold = 0.15\n",
    "X_coordinates = np.arange(-grid_width/2,grid_width/2,resolution)\n",
    "Y_coordinates = np.arange(-grid_length/2,grid_length/2,resolution)\n",
    "Z_coordinates = np.arange(frame[:,3].min(),frame[:,3].max(),resolution)\n",
    "X, Y ,Z = np.meshgrid(X_coordinates, \n",
    "                      Y_coordinates,\n",
    "                     Z_coordinates)\n",
    "grid_3d_points = np.vstack((X,Y,Z)).reshape(3,-1).T\n",
    "pcd_total_voxel = op3.geometry.PointCloud()\n",
    "pcd_total_voxel.points = op3.utility.Vector3dVector(grid_3d_points)\n",
    "voxel_grid = op3.geometry.VoxelGrid.create_from_point_cloud(pcd_total_voxel,voxel_size=resolution)\n",
    "total_counts = np.zeros((len(X_coordinates),len(Y_coordinates),len(Z_coordinates)))\n",
    "for frame in tqdm_notebook(range(bf_frames)):\n",
    "    counts = np.zeros((len(X_coordinates),len(Y_coordinates),len(Z_coordinates)))\n",
    "    frame = next(loader)\n",
    "    frame_xyz = frame[:,[1,2,3]]\n",
    "    for i in range(len(frame_xyz)):\n",
    "        voxel_cors = voxel_grid.get_voxel(frame_xyz[i])\n",
    "        try:\n",
    "            if counts[voxel_cors[0],voxel_cors[1],voxel_cors[2]]==0:\n",
    "                counts[voxel_cors[0],voxel_cors[1],voxel_cors[2]]+=1\n",
    "        except:\n",
    "            continue\n",
    "    total_counts = total_counts +counts\n",
    "total_counts = total_counts/bf_frames\n",
    "Background_X,Background_Y,Background_Z = np.where(total_counts>bf_threshold)\n",
    "Background_X = X_coordinates[Background_X]\n",
    "Background_Y = Y_coordinates[Background_Y]\n",
    "Background_Z = Z_coordinates[Background_Z]\n",
    "Background_XYZ = np.concatenate([Background_X.reshape(-1,1),Background_Y.reshape(-1,1),Background_Z.reshape(-1,1)],axis = 1)\n",
    "pcd_bck = op3.geometry.PointCloud()\n",
    "pcd_bck.points = op3.utility.Vector3dVector(Background_XYZ)\n",
    "voxel_grid_bck = op3.geometry.VoxelGrid.create_from_point_cloud(pcd_bck,voxel_size=resolution)"
   ]
  },
  {
   "cell_type": "code",
   "execution_count": 41,
   "metadata": {},
   "outputs": [],
   "source": [
    "Background_X,Background_Y,Background_Z = np.where(total_counts>0.07)\n",
    "Background_X = X_coordinates[Background_X]\n",
    "Background_Y = Y_coordinates[Background_Y]\n",
    "Background_Z = Z_coordinates[Background_Z]\n",
    "Background_XYZ = np.concatenate([Background_X.reshape(-1,1),Background_Y.reshape(-1,1),Background_Z.reshape(-1,1)],axis = 1)\n",
    "pcd_bck = op3.geometry.PointCloud()\n",
    "pcd_bck.points = op3.utility.Vector3dVector(Background_XYZ)\n",
    "voxel_grid_bck = op3.geometry.VoxelGrid.create_from_point_cloud(pcd_bck,voxel_size=resolution)"
   ]
  },
  {
   "cell_type": "code",
   "execution_count": 42,
   "metadata": {},
   "outputs": [
    {
     "data": {
      "text/plain": [
       "True"
      ]
     },
     "execution_count": 42,
     "metadata": {},
     "output_type": "execute_result"
    }
   ],
   "source": [
    "op3.io.write_voxel_grid('./bck_voxel.ply',voxel_grid_bck)"
   ]
  },
  {
   "cell_type": "markdown",
   "metadata": {},
   "source": [
    "## animation"
   ]
  },
  {
   "cell_type": "code",
   "execution_count": 136,
   "metadata": {},
   "outputs": [],
   "source": [
    "Background_X,Background_Y,Background_Z = np.where(total_counts>0.005)\n",
    "Background_X = X_coordinates[Background_X]\n",
    "Background_Y = Y_coordinates[Background_Y]\n",
    "Background_Z = Z_coordinates[Background_Z]\n",
    "Background_XYZ = np.concatenate([Background_X.reshape(-1,1),Background_Y.reshape(-1,1),Background_Z.reshape(-1,1)],axis = 1)\n",
    "pcd_bck = op3.geometry.PointCloud()\n",
    "pcd_bck.points = op3.utility.Vector3dVector(Background_XYZ)\n",
    "voxel_grid_bck = op3.geometry.VoxelGrid.create_from_point_cloud(pcd_bck,voxel_size=resolution)"
   ]
  },
  {
   "cell_type": "code",
   "execution_count": 126,
   "metadata": {},
   "outputs": [],
   "source": [
    "os.chdir(r'/Users/czhui960/Documents/Lidar/to ZHIHUI/USA pkwy')\n",
    "file_path  = os.listdir()[-2]\n",
    "loader = LidarLoader(file_path).frame_gen()\n",
    "# voxel_grid_bck = op3.io.read_voxel_grid('./Results/bck_voxel.ply')"
   ]
  },
  {
   "cell_type": "code",
   "execution_count": 128,
   "metadata": {},
   "outputs": [],
   "source": [
    "detecting_range = 60\n",
    "x_lim = [-detecting_range,detecting_range]\n",
    "y_lim = [-detecting_range,detecting_range]"
   ]
  },
  {
   "cell_type": "code",
   "execution_count": 131,
   "metadata": {
    "scrolled": true
   },
   "outputs": [
    {
     "name": "stderr",
     "output_type": "stream",
     "text": [
      "/Users/czhui960/opt/anaconda3/envs/tf2/lib/python3.7/site-packages/ipykernel_launcher.py:1: TqdmDeprecationWarning: This function will be removed in tqdm==5.0.0\n",
      "Please use `tqdm.notebook.tqdm` instead of `tqdm.tqdm_notebook`\n",
      "  \"\"\"Entry point for launching an IPython kernel.\n"
     ]
    },
    {
     "data": {
      "application/vnd.jupyter.widget-view+json": {
       "model_id": "0016ca9c735c4c10874661eafa6be2ba",
       "version_major": 2,
       "version_minor": 0
      },
      "text/plain": [
       "HBox(children=(FloatProgress(value=0.0, max=4600.0), HTML(value='')))"
      ]
     },
     "metadata": {},
     "output_type": "display_data"
    },
    {
     "name": "stdout",
     "output_type": "stream",
     "text": [
      "\n"
     ]
    }
   ],
   "source": [
    "for i in tqdm_notebook(range(4600)):\n",
    "    plt.figure(figsize=(20,int(20*((y_lim[1]-y_lim[0])/(x_lim[1]-x_lim[0])))))\n",
    "    plt.ylim(y_lim[0],y_lim[1]) # figure height is 80\n",
    "    plt.xlim(x_lim[0],x_lim[1]) # length is 150\n",
    "    frame = next(loader)\n",
    "    frame_xyz = frame[:,[1,2,3]]\n",
    "    filtered_labels = ~np.array(voxel_grid_bck.check_if_included(op3.utility.Vector3dVector(frame_xyz)))\n",
    "    points = frame_xyz[filtered_labels][:,[0,1]]\n",
    "    plt.scatter(points[:,0],points[:,1],s = 3, marker = 'x')\n",
    "    plt.savefig('./Results/Gifs/{}.png'.format(i))\n",
    "    plt.close()"
   ]
  },
  {
   "cell_type": "code",
   "execution_count": 43,
   "metadata": {},
   "outputs": [
    {
     "name": "stderr",
     "output_type": "stream",
     "text": [
      "/Users/czhui960/opt/anaconda3/envs/tf2/lib/python3.7/site-packages/ipykernel_launcher.py:5: TqdmDeprecationWarning: This function will be removed in tqdm==5.0.0\n",
      "Please use `tqdm.notebook.tqdm` instead of `tqdm.tqdm_notebook`\n",
      "  \"\"\"\n"
     ]
    },
    {
     "data": {
      "application/vnd.jupyter.widget-view+json": {
       "model_id": "fd201647f4334f20acd51e5c91da601a",
       "version_major": 2,
       "version_minor": 0
      },
      "text/plain": [
       "HBox(children=(FloatProgress(value=0.0, max=644.0), HTML(value='')))"
      ]
     },
     "metadata": {},
     "output_type": "display_data"
    },
    {
     "name": "stdout",
     "output_type": "stream",
     "text": [
      "\n"
     ]
    }
   ],
   "source": [
    "os.chdir(r'/Users/czhui960/Documents/Lidar/to ZHIHUI/USA pkwy')\n",
    "file_path  = os.listdir()[-2]\n",
    "loader = LidarLoader(file_path).frame_gen()\n",
    "# voxel_grid_bck = op3.io.read_voxel_grid('./Results/bck_voxel.ply')\n",
    "for i in tqdm_notebook(range(644)):\n",
    "    frame = next(loader)\n",
    "#     frame_xyz = frame[:,[1,2,3]]"
   ]
  },
  {
   "cell_type": "markdown",
   "metadata": {},
   "source": [
    "## Background filtering "
   ]
  },
  {
   "cell_type": "code",
   "execution_count": 65,
   "metadata": {},
   "outputs": [],
   "source": [
    "Background_X,Background_Y,Background_Z = np.where(total_counts>0.02)\n",
    "Background_X = X_coordinates[Background_X]\n",
    "Background_Y = Y_coordinates[Background_Y]\n",
    "Background_Z = Z_coordinates[Background_Z]\n",
    "Background_XYZ = np.concatenate([Background_X.reshape(-1,1),Background_Y.reshape(-1,1),Background_Z.reshape(-1,1)],axis = 1)\n",
    "pcd_bck = op3.geometry.PointCloud()\n",
    "pcd_bck.points = op3.utility.Vector3dVector(Background_XYZ)\n",
    "voxel_grid_bck = op3.geometry.VoxelGrid.create_from_point_cloud(pcd_bck,voxel_size=resolution)"
   ]
  },
  {
   "cell_type": "markdown",
   "metadata": {},
   "source": [
    "## total grid and voxel_grid "
   ]
  },
  {
   "cell_type": "code",
   "execution_count": 66,
   "metadata": {},
   "outputs": [],
   "source": [
    "# frame = next(loader)\n",
    "frame_xyz = frame[:,[1,2,3]]\n",
    "filtered_labels = ~np.array(voxel_grid_bck.check_if_included(op3.utility.Vector3dVector(frame_xyz)))\n",
    "pcd = op3.geometry.PointCloud()\n",
    "pcd.points = op3.utility.Vector3dVector(frame_xyz[filtered_labels])\n",
    "op3.visualization.draw_geometries([pcd_total_voxel,voxel_grid_bck])"
   ]
  },
  {
   "cell_type": "markdown",
   "metadata": {},
   "source": [
    "## voxel grid and point clouds "
   ]
  },
  {
   "cell_type": "code",
   "execution_count": 67,
   "metadata": {},
   "outputs": [],
   "source": [
    "# frame = next(loader)\n",
    "frame_xyz = frame[:,[1,2,3]]\n",
    "filtered_labels = ~np.array(voxel_grid_bck.check_if_included(op3.utility.Vector3dVector(frame_xyz)))\n",
    "pcd = op3.geometry.PointCloud()\n",
    "pcd.points = op3.utility.Vector3dVector(frame_xyz[filtered_labels])\n",
    "op3.visualization.draw_geometries([pcd,voxel_grid_bck])"
   ]
  },
  {
   "cell_type": "code",
   "execution_count": 133,
   "metadata": {},
   "outputs": [],
   "source": [
    "import imageio"
   ]
  },
  {
   "cell_type": "code",
   "execution_count": 134,
   "metadata": {},
   "outputs": [
    {
     "ename": "NameError",
     "evalue": "name 'file_name' is not defined",
     "output_type": "error",
     "traceback": [
      "\u001b[0;31m---------------------------------------------------------------------------\u001b[0m",
      "\u001b[0;31mNameError\u001b[0m                                 Traceback (most recent call last)",
      "\u001b[0;32m<ipython-input-134-a9268817b559>\u001b[0m in \u001b[0;36m<module>\u001b[0;34m\u001b[0m\n\u001b[1;32m      3\u001b[0m \u001b[0;32mfor\u001b[0m \u001b[0mfilename\u001b[0m \u001b[0;32min\u001b[0m \u001b[0mfilenames\u001b[0m\u001b[0;34m:\u001b[0m\u001b[0;34m\u001b[0m\u001b[0;34m\u001b[0m\u001b[0m\n\u001b[1;32m      4\u001b[0m     \u001b[0mimages\u001b[0m\u001b[0;34m.\u001b[0m\u001b[0mappend\u001b[0m\u001b[0;34m(\u001b[0m\u001b[0mimageio\u001b[0m\u001b[0;34m.\u001b[0m\u001b[0mimread\u001b[0m\u001b[0;34m(\u001b[0m\u001b[0mfilename\u001b[0m\u001b[0;34m)\u001b[0m\u001b[0;34m)\u001b[0m\u001b[0;34m\u001b[0m\u001b[0;34m\u001b[0m\u001b[0m\n\u001b[0;32m----> 5\u001b[0;31m \u001b[0mimageio\u001b[0m\u001b[0;34m.\u001b[0m\u001b[0mmimsave\u001b[0m\u001b[0;34m(\u001b[0m\u001b[0;34m'./Results/{}.gif'\u001b[0m\u001b[0;34m.\u001b[0m\u001b[0mformat\u001b[0m\u001b[0;34m(\u001b[0m\u001b[0mfile_name\u001b[0m\u001b[0;34m)\u001b[0m\u001b[0;34m,\u001b[0m \u001b[0mimages\u001b[0m\u001b[0;34m)\u001b[0m\u001b[0;34m\u001b[0m\u001b[0;34m\u001b[0m\u001b[0m\n\u001b[0m\u001b[1;32m      6\u001b[0m \u001b[0mprint\u001b[0m\u001b[0;34m(\u001b[0m\u001b[0;34m'Gif successfully saved'\u001b[0m\u001b[0;34m)\u001b[0m\u001b[0;34m\u001b[0m\u001b[0;34m\u001b[0m\u001b[0m\n",
      "\u001b[0;31mNameError\u001b[0m: name 'file_name' is not defined"
     ]
    }
   ],
   "source": [
    "images = []\n",
    "filenames = ['./Results/Gifs/{}.png'.format(i) for i in range(4600)]\n",
    "for filename in filenames:\n",
    "    images.append(imageio.imread(filename))\n",
    "imageio.mimsave('./Results/{}.gif'.format('test'), images)\n",
    "print('Gif successfully saved')"
   ]
  },
  {
   "cell_type": "code",
   "execution_count": 68,
   "metadata": {},
   "outputs": [
    {
     "data": {
      "text/plain": [
       "'/Users/czhui960/Documents/Lidar/to ZHIHUI/USA pkwy'"
      ]
     },
     "execution_count": 68,
     "metadata": {},
     "output_type": "execute_result"
    }
   ],
   "source": [
    "os.getcwd()"
   ]
  },
  {
   "cell_type": "code",
   "execution_count": 70,
   "metadata": {},
   "outputs": [],
   "source": [
    "test_data = pd.read_csv(r'/Users/czhui960/Documents/2018-04-01.csv')"
   ]
  },
  {
   "cell_type": "code",
   "execution_count": 80,
   "metadata": {
    "scrolled": true
   },
   "outputs": [
    {
     "data": {
      "text/plain": [
       "array([       6,    18301,      124,      163,      101,      123,\n",
       "            532,      111,        0,      522,       48,        5,\n",
       "         160831,       59,       37,       27,      172,      527,\n",
       "         160810,      113,      167,       66,       28,       98,\n",
       "         999910,       87,   170601,     3801,       72,       17,\n",
       "            150,   160811,       65,      153,       55,       20,\n",
       "             91,   160805,   160830,      118,      106,        2,\n",
       "             23,   210701,      302,      102,      336,   180003,\n",
       "            317,   170001,      108,       42,       14,      155,\n",
       "             86,       95,       79,      152,      170,       76,\n",
       "             49,      602,       62, 31200023,      178,       22,\n",
       "             33, 50100148,       97,   160638,      528,      327,\n",
       "         999901,   190001,      308,   170007,      306,   180002,\n",
       "            316,       68,   200007,      125,      171,      187,\n",
       "          17101,      128,      129,       18,      197,       25,\n",
       "            315,      310,   170004,       56,       52,       81,\n",
       "             85,       70, 31200039,   999916,      517,       75,\n",
       "          13901,      301,      176,      177,      529,   180019,\n",
       "         170017,      321,   220002,     3001,       16,       32,\n",
       "             82,      502,      137,       45,      606,      319,\n",
       "       31200024,   220006,      305,      130,       38,       51,\n",
       "            156,       30,      117,       36,     2001,      140,\n",
       "         180010,  1000335,      138,      100,       67,   170008,\n",
       "            333,      175,       74,      518,      121,   221007,\n",
       "         170009,   210711,       41,        1,      312,      151,\n",
       "         190007,      313,       11,      601,      509,       31,\n",
       "            605,    15701,      328,       15,       10,   999904,\n",
       "            309,      322,      325,   210702,      199,       83,\n",
       "         190002,      107,   200001,       92,   170005,   999911,\n",
       "             88,      530,       57,       46,       78,   180008,\n",
       "         200008,       60,      136,       96,      603,      103,\n",
       "             71,   180012,       12,       40,       58,   160806,\n",
       "         180020,   180016,   180011,    18501,       39,      105,\n",
       "             93,      200,   180009,       64,       47,   200010,\n",
       "         211701,       80,   999906,       43,       77,   191006,\n",
       "             53,   180001,   160639,      127,      307,      329,\n",
       "         180006,      901,      507,       69,  1000330,      135,\n",
       "         180005,      902,      190,       54,        8,      311,\n",
       "            318,       89,    13501,      166,      501,      133,\n",
       "         999915,    18901,      179,   999903,      115,   160636,\n",
       "         200006,      180,   160908,      326,   160807,      157,\n",
       "             90,      513,   200011,      161,      521,   999902,\n",
       "             99,      165,   210703,   210709,      159,   170016,\n",
       "         160808,   160815,   160906,        3,   210712,   210707,\n",
       "            323, 20001518,   170011,   210710,   210713,   160822,\n",
       "         170002,   999909,      122,      132,      511,      506,\n",
       "         160602,   160907,   160823,   999922,       73,   999908,\n",
       "            126,   160809,   160633,      303,   210708,   201007,\n",
       "            192,      173,   160801,   162810,        4,   200009,\n",
       "            162,      116,  1009990,       21,   160827,   161810,\n",
       "         180017,      193,      320,   210706,   160850,   210906,\n",
       "         160817,   170010, 31200042,   220003,      523,   160902,\n",
       "         190006,       84,   160637,  1000331,   190012,   200005,\n",
       "         160911,       50,    18601,      195,   105202,      109,\n",
       "              9,       19,      188,      196,      160,       61,\n",
       "            191,   160852,      525,     2101,   229991, 31200038,\n",
       "         999905,   160903,   210905, 20001603,      607,       13,\n",
       "         160905,   160828,   200003,      168,       29,   999907,\n",
       "         160803,   160819,      182,   201001,   201008,   160635,\n",
       "         210705,      169,   201006,   999919,   160816,   161855,\n",
       "         999917,   220009,      202,      201,   209015,   160851,\n",
       "         190005,  1000332,   160826,      181,   999913,       63,\n",
       "         189991,   209013, 30000100,   160833,   209005,      131,\n",
       "         209002,   209001,   209004,   209003])"
      ]
     },
     "execution_count": 80,
     "metadata": {},
     "output_type": "execute_result"
    }
   ],
   "source": [
    "test_data.ROUTEID.unique()"
   ]
  },
  {
   "cell_type": "code",
   "execution_count": 81,
   "metadata": {},
   "outputs": [],
   "source": [
    "groups = []\n",
    "for g in test_data.groupby('ROUTEID'):\n",
    "    groups.append(g[1])"
   ]
  },
  {
   "cell_type": "code",
   "execution_count": 89,
   "metadata": {},
   "outputs": [],
   "source": [
    "import matplotlib.pyplot as plt"
   ]
  },
  {
   "cell_type": "code",
   "execution_count": null,
   "metadata": {},
   "outputs": [],
   "source": [
    "test_data = test_data"
   ]
  },
  {
   "cell_type": "code",
   "execution_count": 103,
   "metadata": {},
   "outputs": [],
   "source": [
    "locs = test_data.loc[:,['LONGITUDE','LATITUDE']].dropna()"
   ]
  },
  {
   "cell_type": "code",
   "execution_count": 104,
   "metadata": {},
   "outputs": [],
   "source": [
    "locs = locs.loc[(locs.LONGITUDE!=0) & (locs.LATITUDE!=0)]"
   ]
  },
  {
   "cell_type": "code",
   "execution_count": 105,
   "metadata": {},
   "outputs": [],
   "source": [
    "locs = np.array(locs)"
   ]
  },
  {
   "cell_type": "code",
   "execution_count": 106,
   "metadata": {},
   "outputs": [],
   "source": [
    "locs = locs[locs[:,0]>118]"
   ]
  },
  {
   "cell_type": "code",
   "execution_count": 107,
   "metadata": {},
   "outputs": [
    {
     "data": {
      "image/png": "[encoded data removed]",
      "text/plain": [
       "<Figure size 720x720 with 1 Axes>"
      ]
     },
     "metadata": {
      "needs_background": "light"
     },
     "output_type": "display_data"
    }
   ],
   "source": [
    "plt.figure(figsize=(10,10))\n",
    "plt.scatter(np.array(locs)[:,0],np.array(locs)[:,1],s = 3)\n",
    "plt.show()"
   ]
  },
  {
   "cell_type": "code",
   "execution_count": 109,
   "metadata": {},
   "outputs": [
    {
     "data": {
      "text/plain": [
       "0.135"
      ]
     },
     "execution_count": 109,
     "metadata": {},
     "output_type": "execute_result"
    }
   ],
   "source": [
    "486/3600"
   ]
  },
  {
   "cell_type": "code",
   "execution_count": 86,
   "metadata": {},
   "outputs": [
    {
     "data": {
      "text/html": [
       "<div>\n",
       "<style scoped>\n",
       "    .dataframe tbody tr th:only-of-type {\n",
       "        vertical-align: middle;\n",
       "    }\n",
       "\n",
       "    .dataframe tbody tr th {\n",
       "        vertical-align: top;\n",
       "    }\n",
       "\n",
       "    .dataframe thead th {\n",
       "        text-align: right;\n",
       "    }\n",
       "</style>\n",
       "<table border=\"1\" class=\"dataframe\">\n",
       "  <thead>\n",
       "    <tr style=\"text-align: right;\">\n",
       "      <th></th>\n",
       "      <th>BUSRDID</th>\n",
       "      <th>DATATYPE</th>\n",
       "      <th>ROUTEID</th>\n",
       "      <th>SUBROUTEID</th>\n",
       "      <th>PRODUCTID</th>\n",
       "      <th>STATIONSEQNUM</th>\n",
       "      <th>STATIONNUM</th>\n",
       "      <th>ISARRLFT</th>\n",
       "      <th>ACTDATETIME</th>\n",
       "      <th>RECDATETIME</th>\n",
       "      <th>...</th>\n",
       "      <th>RESERVECHAR14</th>\n",
       "      <th>RESERVECHAR15</th>\n",
       "      <th>RESERVECHAR16</th>\n",
       "      <th>PECCANCYSTARTTIME</th>\n",
       "      <th>PECCANCYENDTIME</th>\n",
       "      <th>PECCANCYMAXVALUE</th>\n",
       "      <th>PECCANCYAVGVALUE</th>\n",
       "      <th>BUSSELFID</th>\n",
       "      <th>FILEPATH</th>\n",
       "      <th>SENSORMILEAGE</th>\n",
       "    </tr>\n",
       "  </thead>\n",
       "  <tbody>\n",
       "    <tr>\n",
       "      <th>397</th>\n",
       "      <td>777231089</td>\n",
       "      <td>4</td>\n",
       "      <td>1</td>\n",
       "      <td>1</td>\n",
       "      <td>810119</td>\n",
       "      <td>34</td>\n",
       "      <td>2071</td>\n",
       "      <td>1.0</td>\n",
       "      <td>2018-04-01 07:11:00</td>\n",
       "      <td>2018-04-01 07:10:28</td>\n",
       "      <td>...</td>\n",
       "      <td>NaN</td>\n",
       "      <td>27.156.116.130:49587</td>\n",
       "      <td>0.0</td>\n",
       "      <td>1970-01-01 08:00:00</td>\n",
       "      <td>1970-01-01 08:00:00</td>\n",
       "      <td>NaN</td>\n",
       "      <td>NaN</td>\n",
       "      <td>NaN</td>\n",
       "      <td>NaN</td>\n",
       "      <td>NaN</td>\n",
       "    </tr>\n",
       "    <tr>\n",
       "      <th>632</th>\n",
       "      <td>777297604</td>\n",
       "      <td>55</td>\n",
       "      <td>1</td>\n",
       "      <td>1</td>\n",
       "      <td>810071</td>\n",
       "      <td>0</td>\n",
       "      <td>0</td>\n",
       "      <td>NaN</td>\n",
       "      <td>2018-04-01 07:23:51</td>\n",
       "      <td>2018-04-01 07:23:21</td>\n",
       "      <td>...</td>\n",
       "      <td>NaN</td>\n",
       "      <td>NaN</td>\n",
       "      <td>NaN</td>\n",
       "      <td>1970-01-01 08:00:00</td>\n",
       "      <td>1970-01-01 08:00:00</td>\n",
       "      <td>0.0</td>\n",
       "      <td>0.0</td>\n",
       "      <td>NaN</td>\n",
       "      <td>NaN</td>\n",
       "      <td>NaN</td>\n",
       "    </tr>\n",
       "    <tr>\n",
       "      <th>807</th>\n",
       "      <td>777231628</td>\n",
       "      <td>55</td>\n",
       "      <td>1</td>\n",
       "      <td>1</td>\n",
       "      <td>810071</td>\n",
       "      <td>0</td>\n",
       "      <td>0</td>\n",
       "      <td>NaN</td>\n",
       "      <td>2018-04-01 07:11:05</td>\n",
       "      <td>2018-04-01 07:10:34</td>\n",
       "      <td>...</td>\n",
       "      <td>NaN</td>\n",
       "      <td>NaN</td>\n",
       "      <td>NaN</td>\n",
       "      <td>1970-01-01 08:00:00</td>\n",
       "      <td>1970-01-01 08:00:00</td>\n",
       "      <td>0.0</td>\n",
       "      <td>0.0</td>\n",
       "      <td>NaN</td>\n",
       "      <td>NaN</td>\n",
       "      <td>NaN</td>\n",
       "    </tr>\n",
       "    <tr>\n",
       "      <th>970</th>\n",
       "      <td>777231090</td>\n",
       "      <td>12</td>\n",
       "      <td>1</td>\n",
       "      <td>0</td>\n",
       "      <td>810119</td>\n",
       "      <td>34</td>\n",
       "      <td>0</td>\n",
       "      <td>NaN</td>\n",
       "      <td>2018-04-01 07:11:00</td>\n",
       "      <td>2018-04-01 07:10:28</td>\n",
       "      <td>...</td>\n",
       "      <td>NaN</td>\n",
       "      <td>NaN</td>\n",
       "      <td>NaN</td>\n",
       "      <td>1970-01-01 08:00:00</td>\n",
       "      <td>1970-01-01 08:00:00</td>\n",
       "      <td>NaN</td>\n",
       "      <td>NaN</td>\n",
       "      <td>NaN</td>\n",
       "      <td>NaN</td>\n",
       "      <td>NaN</td>\n",
       "    </tr>\n",
       "    <tr>\n",
       "      <th>1199</th>\n",
       "      <td>777298217</td>\n",
       "      <td>55</td>\n",
       "      <td>1</td>\n",
       "      <td>1</td>\n",
       "      <td>1080001</td>\n",
       "      <td>0</td>\n",
       "      <td>0</td>\n",
       "      <td>NaN</td>\n",
       "      <td>2018-04-01 07:24:00</td>\n",
       "      <td>2018-04-01 07:23:28</td>\n",
       "      <td>...</td>\n",
       "      <td>NaN</td>\n",
       "      <td>NaN</td>\n",
       "      <td>NaN</td>\n",
       "      <td>1970-01-01 08:00:00</td>\n",
       "      <td>1970-01-01 08:00:00</td>\n",
       "      <td>0.0</td>\n",
       "      <td>0.0</td>\n",
       "      <td>NaN</td>\n",
       "      <td>NaN</td>\n",
       "      <td>NaN</td>\n",
       "    </tr>\n",
       "    <tr>\n",
       "      <th>...</th>\n",
       "      <td>...</td>\n",
       "      <td>...</td>\n",
       "      <td>...</td>\n",
       "      <td>...</td>\n",
       "      <td>...</td>\n",
       "      <td>...</td>\n",
       "      <td>...</td>\n",
       "      <td>...</td>\n",
       "      <td>...</td>\n",
       "      <td>...</td>\n",
       "      <td>...</td>\n",
       "      <td>...</td>\n",
       "      <td>...</td>\n",
       "      <td>...</td>\n",
       "      <td>...</td>\n",
       "      <td>...</td>\n",
       "      <td>...</td>\n",
       "      <td>...</td>\n",
       "      <td>...</td>\n",
       "      <td>...</td>\n",
       "      <td>...</td>\n",
       "    </tr>\n",
       "    <tr>\n",
       "      <th>4428517</th>\n",
       "      <td>781254065</td>\n",
       "      <td>12</td>\n",
       "      <td>1</td>\n",
       "      <td>0</td>\n",
       "      <td>810071</td>\n",
       "      <td>33</td>\n",
       "      <td>0</td>\n",
       "      <td>NaN</td>\n",
       "      <td>2018-04-01 22:21:26</td>\n",
       "      <td>2018-04-01 22:20:55</td>\n",
       "      <td>...</td>\n",
       "      <td>NaN</td>\n",
       "      <td>NaN</td>\n",
       "      <td>NaN</td>\n",
       "      <td>1970-01-01 08:00:00</td>\n",
       "      <td>1970-01-01 08:00:00</td>\n",
       "      <td>NaN</td>\n",
       "      <td>NaN</td>\n",
       "      <td>NaN</td>\n",
       "      <td>NaN</td>\n",
       "      <td>NaN</td>\n",
       "    </tr>\n",
       "    <tr>\n",
       "      <th>4428644</th>\n",
       "      <td>781222106</td>\n",
       "      <td>4</td>\n",
       "      <td>1</td>\n",
       "      <td>1</td>\n",
       "      <td>810027</td>\n",
       "      <td>18</td>\n",
       "      <td>2662</td>\n",
       "      <td>2.0</td>\n",
       "      <td>2018-04-01 22:01:42</td>\n",
       "      <td>2018-04-01 22:01:12</td>\n",
       "      <td>...</td>\n",
       "      <td>NaN</td>\n",
       "      <td>27.156.116.130:49587</td>\n",
       "      <td>0.0</td>\n",
       "      <td>1970-01-01 08:00:00</td>\n",
       "      <td>1970-01-01 08:00:00</td>\n",
       "      <td>NaN</td>\n",
       "      <td>NaN</td>\n",
       "      <td>NaN</td>\n",
       "      <td>NaN</td>\n",
       "      <td>NaN</td>\n",
       "    </tr>\n",
       "    <tr>\n",
       "      <th>4428645</th>\n",
       "      <td>781222107</td>\n",
       "      <td>12</td>\n",
       "      <td>1</td>\n",
       "      <td>0</td>\n",
       "      <td>810027</td>\n",
       "      <td>18</td>\n",
       "      <td>0</td>\n",
       "      <td>NaN</td>\n",
       "      <td>2018-04-01 22:01:42</td>\n",
       "      <td>2018-04-01 22:01:12</td>\n",
       "      <td>...</td>\n",
       "      <td>NaN</td>\n",
       "      <td>NaN</td>\n",
       "      <td>NaN</td>\n",
       "      <td>1970-01-01 08:00:00</td>\n",
       "      <td>1970-01-01 08:00:00</td>\n",
       "      <td>NaN</td>\n",
       "      <td>NaN</td>\n",
       "      <td>NaN</td>\n",
       "      <td>NaN</td>\n",
       "      <td>NaN</td>\n",
       "    </tr>\n",
       "    <tr>\n",
       "      <th>4429032</th>\n",
       "      <td>781253195</td>\n",
       "      <td>4</td>\n",
       "      <td>1</td>\n",
       "      <td>1</td>\n",
       "      <td>810072</td>\n",
       "      <td>44</td>\n",
       "      <td>1056</td>\n",
       "      <td>1.0</td>\n",
       "      <td>2018-04-01 22:20:50</td>\n",
       "      <td>2018-04-01 22:20:18</td>\n",
       "      <td>...</td>\n",
       "      <td>NaN</td>\n",
       "      <td>27.156.116.130:49587</td>\n",
       "      <td>0.0</td>\n",
       "      <td>1970-01-01 08:00:00</td>\n",
       "      <td>1970-01-01 08:00:00</td>\n",
       "      <td>NaN</td>\n",
       "      <td>NaN</td>\n",
       "      <td>NaN</td>\n",
       "      <td>NaN</td>\n",
       "      <td>NaN</td>\n",
       "    </tr>\n",
       "    <tr>\n",
       "      <th>4429033</th>\n",
       "      <td>781253196</td>\n",
       "      <td>12</td>\n",
       "      <td>1</td>\n",
       "      <td>0</td>\n",
       "      <td>810072</td>\n",
       "      <td>44</td>\n",
       "      <td>0</td>\n",
       "      <td>NaN</td>\n",
       "      <td>2018-04-01 22:20:50</td>\n",
       "      <td>2018-04-01 22:20:18</td>\n",
       "      <td>...</td>\n",
       "      <td>NaN</td>\n",
       "      <td>NaN</td>\n",
       "      <td>NaN</td>\n",
       "      <td>1970-01-01 08:00:00</td>\n",
       "      <td>1970-01-01 08:00:00</td>\n",
       "      <td>NaN</td>\n",
       "      <td>NaN</td>\n",
       "      <td>NaN</td>\n",
       "      <td>NaN</td>\n",
       "      <td>NaN</td>\n",
       "    </tr>\n",
       "  </tbody>\n",
       "</table>\n",
       "<p>17525 rows × 65 columns</p>\n",
       "</div>"
      ],
      "text/plain": [
       "           BUSRDID  DATATYPE  ROUTEID  SUBROUTEID  PRODUCTID  STATIONSEQNUM  \\\n",
       "397      777231089         4        1           1     810119             34   \n",
       "632      777297604        55        1           1     810071              0   \n",
       "807      777231628        55        1           1     810071              0   \n",
       "970      777231090        12        1           0     810119             34   \n",
       "1199     777298217        55        1           1    1080001              0   \n",
       "...            ...       ...      ...         ...        ...            ...   \n",
       "4428517  781254065        12        1           0     810071             33   \n",
       "4428644  781222106         4        1           1     810027             18   \n",
       "4428645  781222107        12        1           0     810027             18   \n",
       "4429032  781253195         4        1           1     810072             44   \n",
       "4429033  781253196        12        1           0     810072             44   \n",
       "\n",
       "         STATIONNUM  ISARRLFT          ACTDATETIME          RECDATETIME  ...  \\\n",
       "397            2071       1.0  2018-04-01 07:11:00  2018-04-01 07:10:28  ...   \n",
       "632               0       NaN  2018-04-01 07:23:51  2018-04-01 07:23:21  ...   \n",
       "807               0       NaN  2018-04-01 07:11:05  2018-04-01 07:10:34  ...   \n",
       "970               0       NaN  2018-04-01 07:11:00  2018-04-01 07:10:28  ...   \n",
       "1199              0       NaN  2018-04-01 07:24:00  2018-04-01 07:23:28  ...   \n",
       "...             ...       ...                  ...                  ...  ...   \n",
       "4428517           0       NaN  2018-04-01 22:21:26  2018-04-01 22:20:55  ...   \n",
       "4428644        2662       2.0  2018-04-01 22:01:42  2018-04-01 22:01:12  ...   \n",
       "4428645           0       NaN  2018-04-01 22:01:42  2018-04-01 22:01:12  ...   \n",
       "4429032        1056       1.0  2018-04-01 22:20:50  2018-04-01 22:20:18  ...   \n",
       "4429033           0       NaN  2018-04-01 22:20:50  2018-04-01 22:20:18  ...   \n",
       "\n",
       "         RESERVECHAR14         RESERVECHAR15  RESERVECHAR16  \\\n",
       "397                NaN  27.156.116.130:49587            0.0   \n",
       "632                NaN                   NaN            NaN   \n",
       "807                NaN                   NaN            NaN   \n",
       "970                NaN                   NaN            NaN   \n",
       "1199               NaN                   NaN            NaN   \n",
       "...                ...                   ...            ...   \n",
       "4428517            NaN                   NaN            NaN   \n",
       "4428644            NaN  27.156.116.130:49587            0.0   \n",
       "4428645            NaN                   NaN            NaN   \n",
       "4429032            NaN  27.156.116.130:49587            0.0   \n",
       "4429033            NaN                   NaN            NaN   \n",
       "\n",
       "           PECCANCYSTARTTIME      PECCANCYENDTIME  PECCANCYMAXVALUE  \\\n",
       "397      1970-01-01 08:00:00  1970-01-01 08:00:00               NaN   \n",
       "632      1970-01-01 08:00:00  1970-01-01 08:00:00               0.0   \n",
       "807      1970-01-01 08:00:00  1970-01-01 08:00:00               0.0   \n",
       "970      1970-01-01 08:00:00  1970-01-01 08:00:00               NaN   \n",
       "1199     1970-01-01 08:00:00  1970-01-01 08:00:00               0.0   \n",
       "...                      ...                  ...               ...   \n",
       "4428517  1970-01-01 08:00:00  1970-01-01 08:00:00               NaN   \n",
       "4428644  1970-01-01 08:00:00  1970-01-01 08:00:00               NaN   \n",
       "4428645  1970-01-01 08:00:00  1970-01-01 08:00:00               NaN   \n",
       "4429032  1970-01-01 08:00:00  1970-01-01 08:00:00               NaN   \n",
       "4429033  1970-01-01 08:00:00  1970-01-01 08:00:00               NaN   \n",
       "\n",
       "         PECCANCYAVGVALUE  BUSSELFID  FILEPATH  SENSORMILEAGE  \n",
       "397                   NaN        NaN       NaN            NaN  \n",
       "632                   0.0        NaN       NaN            NaN  \n",
       "807                   0.0        NaN       NaN            NaN  \n",
       "970                   NaN        NaN       NaN            NaN  \n",
       "1199                  0.0        NaN       NaN            NaN  \n",
       "...                   ...        ...       ...            ...  \n",
       "4428517               NaN        NaN       NaN            NaN  \n",
       "4428644               NaN        NaN       NaN            NaN  \n",
       "4428645               NaN        NaN       NaN            NaN  \n",
       "4429032               NaN        NaN       NaN            NaN  \n",
       "4429033               NaN        NaN       NaN            NaN  \n",
       "\n",
       "[17525 rows x 65 columns]"
      ]
     },
     "execution_count": 86,
     "metadata": {},
     "output_type": "execute_result"
    }
   ],
   "source": [
    "groups[1]"
   ]
  },
  {
   "cell_type": "code",
   "execution_count": null,
   "metadata": {},
   "outputs": [],
   "source": []
  },
  {
   "cell_type": "code",
   "execution_count": null,
   "metadata": {},
   "outputs": [],
   "source": []
  },
  {
   "cell_type": "code",
   "execution_count": null,
   "metadata": {},
   "outputs": [],
   "source": []
  },
  {
   "cell_type": "code",
   "execution_count": null,
   "metadata": {},
   "outputs": [],
   "source": [
    "\n"
   ]
  }
 ],
 "metadata": {
  "kernelspec": {
   "display_name": "Python 3",
   "language": "python",
   "name": "python3"
  },
  "language_info": {
   "codemirror_mode": {
    "name": "ipython",
    "version": 3
   },
   "file_extension": ".py",
   "mimetype": "text/x-python",
   "name": "python",
   "nbconvert_exporter": "python",
   "pygments_lexer": "ipython3",
   "version": "3.7.6-final"
  }
 },
 "nbformat": 4,
 "nbformat_minor": 2
}