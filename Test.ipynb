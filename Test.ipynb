{
 "metadata": {
  "language_info": {
   "codemirror_mode": {
    "name": "ipython",
    "version": 3
   },
   "file_extension": ".py",
   "mimetype": "text/x-python",
   "name": "python",
   "nbconvert_exporter": "python",
   "pygments_lexer": "ipython3",
   "version": "3.7.6-final"
  },
  "orig_nbformat": 2,
  "kernelspec": {
   "name": "python3",
   "display_name": "Python 3"
  }
 },
 "nbformat": 4,
 "nbformat_minor": 2,
 "cells": [
  {
   "cell_type": "code",
   "execution_count": 1,
   "metadata": {},
   "outputs": [],
   "source": [
    "from MultiTrackingSystem import MultiTrackingSystem\n",
    "import matplotlib.pyplot as plt\n",
    "import numpy as np\n",
    "import pandas as pd\n",
    "import os\n",
    "import matplotlib.animation as animation\n",
    "import IPython.display as display\n"
   ]
  },
  {
   "cell_type": "code",
   "execution_count": 2,
   "metadata": {},
   "outputs": [],
   "source": [
    "alpha = np.pi * (0.2)/180\n",
    "beta = 12\n",
    "corr = np.sin(alpha/2) * 2\n",
    "min_sample_1 = 19657\n",
    "min_sample_2 = -2.138\n",
    "min_sample_3 = -100"
   ]
  },
  {
   "cell_type": "code",
   "execution_count": null,
   "metadata": {},
   "outputs": [],
   "source": [
    "os.chdir(r'/Users/czhui960/Documents/Lidar/to ZHIHUI/USA pkwy')\n",
    "file_path  = os.listdir()[4]\n",
    "multi_tracking = MultiTrackingSystem(iter_n = 1800, tolerance= 4,gen_fig= True)\n",
    "multi_tracking.fit_adbgen_pcap(file_path,beta,min_sample_1,min_sample_2,min_sample_3)\n",
    "multi_tracking.batch_tracking()\n",
    "multi_tracking.svae_gif('USA pkwy')"
   ]
  },
  {
   "cell_type": "code",
   "execution_count": 3,
   "metadata": {},
   "outputs": [
    {
     "output_type": "stream",
     "name": "stderr",
     "text": [
      "100%|██████████| 1799/1799 [02:11<00:00, 13.69it/s]\n"
     ]
    }
   ],
   "source": [
    "os.chdir(r'/Users/czhui960/Documents/Lidar/to ZHIHUI/USA pkwy')\n",
    "file_path  = os.listdir()[4]\n",
    "multi_tracking = MultiTrackingSystem(iter_n = 1800, tolerance= 4,gen_fig= False)\n",
    "multi_tracking.fit_adbgen_pcap(file_path,beta,min_sample_1,min_sample_2,min_sample_3)\n",
    "multi_tracking.batch_tracking()"
   ]
  },
  {
   "cell_type": "code",
   "execution_count": 11,
   "metadata": {},
   "outputs": [
    {
     "output_type": "execute_result",
     "data": {
      "text/plain": [
       "array([[-0.5968616 , 31.        ],\n",
       "       [-0.5945334 , 31.        ],\n",
       "       [-0.55965674, 29.        ],\n",
       "       [-0.5588186 , 29.        ],\n",
       "       [-0.5583529 , 29.        ],\n",
       "       [-0.55821323, 29.        ],\n",
       "       [-0.5572819 , 29.        ],\n",
       "       [-0.5596101 , 29.        ],\n",
       "       [-0.56328875, 29.        ],\n",
       "       [-0.5654307 , 29.        ],\n",
       "       [-1.1233305 , 28.        ],\n",
       "       [-1.1210042 , 27.        ],\n",
       "       [-1.1344968 , 28.        ],\n",
       "       [-0.8805088 , 30.        ],\n",
       "       [-0.87073547, 29.        ],\n",
       "       [-0.8644526 , 29.        ],\n",
       "       [-0.8553773 , 28.        ],\n",
       "       [-0.84588325, 27.        ],\n",
       "       [-0.84225315, 27.        ],\n",
       "       [-0.83443445, 26.        ],\n",
       "       [-0.83492315, 26.        ],\n",
       "       [-0.8363891 , 26.        ],\n",
       "       [-0.83722687, 26.        ],\n",
       "       [-0.8389023 , 26.        ],\n",
       "       [-0.83987963, 26.        ],\n",
       "       [-0.8406475 , 26.        ]], dtype=float32)"
      ]
     },
     "metadata": {},
     "execution_count": 11
    }
   ],
   "source": [
    "multi_tracking.out_of_tracking_list[0].elevation_intensities[3]"
   ]
  },
  {
   "cell_type": "code",
   "execution_count": 18,
   "metadata": {},
   "outputs": [],
   "source": [
    "import cv2"
   ]
  },
  {
   "cell_type": "code",
   "execution_count": 48,
   "metadata": {},
   "outputs": [],
   "source": [
    "point_clouds = multi_tracking.out_of_tracking_list[4].point_clouds"
   ]
  },
  {
   "cell_type": "code",
   "execution_count": 125,
   "metadata": {},
   "outputs": [],
   "source": [
    "def show_cur_traj(point_clouds):\n",
    "    fig,ax = plt.subplots(1,figsize = (10,10))\n",
    "    plt.figure(figsize=(10,10))\n",
    "    for i in range(len(point_clouds)):\n",
    "        if type(point_clouds[i]) != int:\n",
    "            ax.scatter(point_clouds[i][:,0],point_clouds[i][:,1],s = 3)\n",
    "            bounding_rect = cv2.boundingRect(point_clouds[i])\n",
    "            ax.add_patch(patches.Rectangle((bounding_rect[0], bounding_rect[1]), bounding_rect[2], bounding_rect[3],fill = False,color = 'r'))       \n",
    "    plt.show()"
   ]
  },
  {
   "cell_type": "code",
   "execution_count": 126,
   "metadata": {},
   "outputs": [],
   "source": [
    "def show_four_frame_traj(point_clouds,index):\n",
    "    fig,ax = plt.subplots(1,figsize = (10,10))\n",
    "    start = index - 4\n",
    "    end = index + 4 \n",
    "    if start < 0 : \n",
    "        start = 0\n",
    "    if end > (len(point_clouds) - 1):\n",
    "        end = len(point_clouds) - 1\n",
    "    for i in range(start,end):\n",
    "        if type(point_clouds[i]) != int:\n",
    "            ax.scatter(point_clouds[i][:,0],point_clouds[i][:,1],s = 3)\n",
    "            if i == index:\n",
    "                bounding_rect = cv2.boundingRect(point_clouds[i])\n",
    "                ax.add_patch(patches.Rectangle((bounding_rect[0], bounding_rect[1]), bounding_rect[2], bounding_rect[3],fill = False,color = 'r'))   \n",
    "                plt.text(bounding_rect[0],bounding_rect[1]+bounding_rect[3],'{}'.format(i),fontsize = 20)\n",
    "    plt.show()\n",
    "    \n"
   ]
  },
  {
   "cell_type": "code",
   "execution_count": 130,
   "metadata": {},
   "outputs": [],
   "source": [
    "def is_input_correct(cur_input):\n",
    "    if cur_input == 'y' or cur_input == 'Y' or cur_input == 'n' or cur_input == 'N':\n",
    "        return True\n",
    "    else:\n",
    "        return False"
   ]
  },
  {
   "cell_type": "code",
   "execution_count": 135,
   "metadata": {},
   "outputs": [
    {
     "output_type": "display_data",
     "data": {
      "text/plain": "<Figure size 720x720 with 1 Axes>",
      "image/svg+xml": "<?xml version=\"1.0\" encoding=\"utf-8\" standalone=\"no\"?>\n<!DOCTYPE svg PUBLIC \"-//W3C//DTD SVG 1.1//EN\"\n  \"http://www.w3.org/Graphics/SVG/1.1/DTD/svg11.dtd\">\n<!-- Created with matplotlib (https://matplotlib.org/) -->\n<svg height=\"574.678125pt\" version=\"1.1\" viewBox=\"0 0 592.125 574.678125\" width=\"592.125pt\" xmlns=\"http://www.w3.org/2000/svg\" xmlns:xlink=\"http://www.w3.org/1999/xlink\">\n <defs>\n  <style type=\"text/css\">\n*{stroke-linecap:butt;stroke-linejoin:round;}\n  </style>\n </defs>\n <g id=\"figure_1\">\n  <g id=\"patch_1\">\n   <path d=\"M 0 574.678125 \nL 592.125 574.678125 \nL 592.125 0 \nL 0 0 \nz\n\" style=\"fill:none;\"/>\n  </g>\n  <g id=\"axes_1\">\n   <g id=\"patch_2\">\n    <path d=\"M 26.925 550.8 \nL 584.925 550.8 \nL 584.925 7.2 \nL 26.925 7.2 \nz\n\" style=\"fill:#ffffff;\"/>\n   </g>\n   <g id=\"PathCollection_1\">\n    <defs>\n     <path d=\"M 0 0.866025 \nC 0.229673 0.866025 0.449969 0.774776 0.612372 0.612372 \nC 0.774776 0.449969 0.866025 0.229673 0.866025 0 \nC 0.866025 -0.229673 0.774776 -0.449969 0.612372 -0.612372 \nC 0.449969 -0.774776 0.229673 -0.866025 0 -0.866025 \nC -0.229673 -0.866025 -0.449969 -0.774776 -0.612372 -0.612372 \nC -0.774776 -0.449969 -0.866025 -0.229673 -0.866025 0 \nC -0.866025 0.229673 -0.774776 0.449969 -0.612372 0.612372 \nC -0.449969 0.774776 -0.229673 0.866025 0 0.866025 \nz\n\" id=\"m118de999c9\" style=\"stroke:#1f77b4;\"/>\n    </defs>\n    <g clip-path=\"url(#pa55aa547a9)\">\n     <use style=\"fill:#1f77b4;stroke:#1f77b4;\" x=\"523.819517\" xlink:href=\"#m118de999c9\" y=\"463.519037\"/>\n     <use style=\"fill:#1f77b4;stroke:#1f77b4;\" x=\"533.552258\" xlink:href=\"#m118de999c9\" y=\"493.615287\"/>\n     <use style=\"fill:#1f77b4;stroke:#1f77b4;\" x=\"528.62117\" xlink:href=\"#m118de999c9\" y=\"483.041764\"/>\n     <use style=\"fill:#1f77b4;stroke:#1f77b4;\" x=\"542.439631\" xlink:href=\"#m118de999c9\" y=\"465.913337\"/>\n     <use style=\"fill:#1f77b4;stroke:#1f77b4;\" x=\"541.515164\" xlink:href=\"#m118de999c9\" y=\"432.466386\"/>\n     <use style=\"fill:#1f77b4;stroke:#1f77b4;\" x=\"549.949967\" xlink:href=\"#m118de999c9\" y=\"408.541785\"/>\n    </g>\n   </g>\n   <g id=\"PathCollection_2\">\n    <defs>\n     <path d=\"M 0 0.866025 \nC 0.229673 0.866025 0.449969 0.774776 0.612372 0.612372 \nC 0.774776 0.449969 0.866025 0.229673 0.866025 0 \nC 0.866025 -0.229673 0.774776 -0.449969 0.612372 -0.612372 \nC 0.449969 -0.774776 0.229673 -0.866025 0 -0.866025 \nC -0.229673 -0.866025 -0.449969 -0.774776 -0.612372 -0.612372 \nC -0.774776 -0.449969 -0.866025 -0.229673 -0.866025 0 \nC -0.866025 0.229673 -0.774776 0.449969 -0.612372 0.612372 \nC -0.449969 0.774776 -0.229673 0.866025 0 0.866025 \nz\n\" id=\"md268dc2e7c\" style=\"stroke:#ff7f0e;\"/>\n    </defs>\n    <g clip-path=\"url(#pa55aa547a9)\">\n     <use style=\"fill:#ff7f0e;stroke:#ff7f0e;\" x=\"410.615728\" xlink:href=\"#md268dc2e7c\" y=\"379.183231\"/>\n     <use style=\"fill:#ff7f0e;stroke:#ff7f0e;\" x=\"432.067218\" xlink:href=\"#md268dc2e7c\" y=\"387.337807\"/>\n     <use style=\"fill:#ff7f0e;stroke:#ff7f0e;\" x=\"438.58837\" xlink:href=\"#md268dc2e7c\" y=\"360.305858\"/>\n     <use style=\"fill:#ff7f0e;stroke:#ff7f0e;\" x=\"387.80338\" xlink:href=\"#md268dc2e7c\" y=\"436.272896\"/>\n     <use style=\"fill:#ff7f0e;stroke:#ff7f0e;\" x=\"404.753882\" xlink:href=\"#md268dc2e7c\" y=\"421.864744\"/>\n     <use style=\"fill:#ff7f0e;stroke:#ff7f0e;\" x=\"416.313085\" xlink:href=\"#md268dc2e7c\" y=\"399.971323\"/>\n     <use style=\"fill:#ff7f0e;stroke:#ff7f0e;\" x=\"424.635082\" xlink:href=\"#md268dc2e7c\" y=\"375.721095\"/>\n     <use style=\"fill:#ff7f0e;stroke:#ff7f0e;\" x=\"432.227663\" xlink:href=\"#md268dc2e7c\" y=\"351.26327\"/>\n    </g>\n   </g>\n   <g id=\"PathCollection_3\">\n    <defs>\n     <path d=\"M 0 0.866025 \nC 0.229673 0.866025 0.449969 0.774776 0.612372 0.612372 \nC 0.774776 0.449969 0.866025 0.229673 0.866025 0 \nC 0.866025 -0.229673 0.774776 -0.449969 0.612372 -0.612372 \nC 0.449969 -0.774776 0.229673 -0.866025 0 -0.866025 \nC -0.229673 -0.866025 -0.449969 -0.774776 -0.612372 -0.612372 \nC -0.774776 -0.449969 -0.866025 -0.229673 -0.866025 0 \nC -0.866025 0.229673 -0.774776 0.449969 -0.612372 0.612372 \nC -0.449969 0.774776 -0.229673 0.866025 0 0.866025 \nz\n\" id=\"mc9e97e059f\" style=\"stroke:#2ca02c;\"/>\n    </defs>\n    <g clip-path=\"url(#pa55aa547a9)\">\n     <use style=\"fill:#2ca02c;stroke:#2ca02c;\" x=\"177.577339\" xlink:href=\"#mc9e97e059f\" y=\"197.19734\"/>\n     <use style=\"fill:#2ca02c;stroke:#2ca02c;\" x=\"167.481013\" xlink:href=\"#mc9e97e059f\" y=\"274.918879\"/>\n     <use style=\"fill:#2ca02c;stroke:#2ca02c;\" x=\"192.139149\" xlink:href=\"#mc9e97e059f\" y=\"233.422887\"/>\n     <use style=\"fill:#2ca02c;stroke:#2ca02c;\" x=\"198.896249\" xlink:href=\"#mc9e97e059f\" y=\"204.153898\"/>\n     <use style=\"fill:#2ca02c;stroke:#2ca02c;\" x=\"157.940177\" xlink:href=\"#mc9e97e059f\" y=\"262.089222\"/>\n     <use style=\"fill:#2ca02c;stroke:#2ca02c;\" x=\"176.446587\" xlink:href=\"#mc9e97e059f\" y=\"247.69079\"/>\n     <use style=\"fill:#2ca02c;stroke:#2ca02c;\" x=\"194.454585\" xlink:href=\"#mc9e97e059f\" y=\"198.966421\"/>\n     <use style=\"fill:#2ca02c;stroke:#2ca02c;\" x=\"196.23925\" xlink:href=\"#mc9e97e059f\" y=\"164.307914\"/>\n    </g>\n   </g>\n   <g id=\"PathCollection_4\">\n    <defs>\n     <path d=\"M 0 0.866025 \nC 0.229673 0.866025 0.449969 0.774776 0.612372 0.612372 \nC 0.774776 0.449969 0.866025 0.229673 0.866025 0 \nC 0.866025 -0.229673 0.774776 -0.449969 0.612372 -0.612372 \nC 0.449969 -0.774776 0.229673 -0.866025 0 -0.866025 \nC -0.229673 -0.866025 -0.449969 -0.774776 -0.612372 -0.612372 \nC -0.774776 -0.449969 -0.866025 -0.229673 -0.866025 0 \nC -0.866025 0.229673 -0.774776 0.449969 -0.612372 0.612372 \nC -0.449969 0.774776 -0.229673 0.866025 0 0.866025 \nz\n\" id=\"mdec9b40728\" style=\"stroke:#d62728;\"/>\n    </defs>\n    <g clip-path=\"url(#pa55aa547a9)\">\n     <use style=\"fill:#d62728;stroke:#d62728;\" x=\"65.767666\" xlink:href=\"#mdec9b40728\" y=\"110.15341\"/>\n     <use style=\"fill:#d62728;stroke:#d62728;\" x=\"52.974792\" xlink:href=\"#mdec9b40728\" y=\"187.22057\"/>\n     <use style=\"fill:#d62728;stroke:#d62728;\" x=\"99.258794\" xlink:href=\"#mdec9b40728\" y=\"58.722306\"/>\n     <use style=\"fill:#d62728;stroke:#d62728;\" x=\"108.775812\" xlink:href=\"#mdec9b40728\" y=\"32.543654\"/>\n     <use style=\"fill:#d62728;stroke:#d62728;\" x=\"62.468439\" xlink:href=\"#mdec9b40728\" y=\"158.724338\"/>\n     <use style=\"fill:#d62728;stroke:#d62728;\" x=\"74.222243\" xlink:href=\"#mdec9b40728\" y=\"135.74503\"/>\n     <use style=\"fill:#d62728;stroke:#d62728;\" x=\"90.070756\" xlink:href=\"#mdec9b40728\" y=\"83.499509\"/>\n     <use style=\"fill:#d62728;stroke:#d62728;\" x=\"99.311377\" xlink:href=\"#mdec9b40728\" y=\"55.955165\"/>\n    </g>\n   </g>\n   <g id=\"patch_3\">\n    <path clip-path=\"url(#pa55aa547a9)\" d=\"M 500.65437 526.090909 \nL 559.561364 526.090909 \nL 559.561364 344.083842 \nL 500.65437 344.083842 \nz\n\" style=\"fill:none;stroke:#ff0000;stroke-linejoin:miter;\"/>\n   </g>\n   <g id=\"patch_4\">\n    <path clip-path=\"url(#pa55aa547a9)\" d=\"M 382.840383 526.090909 \nL 441.747377 526.090909 \nL 441.747377 344.083842 \nL 382.840383 344.083842 \nz\n\" style=\"fill:none;stroke:#ff0000;stroke-linejoin:miter;\"/>\n   </g>\n   <g id=\"patch_5\">\n    <path clip-path=\"url(#pa55aa547a9)\" d=\"M 147.212409 344.083842 \nL 206.119403 344.083842 \nL 206.119403 162.076775 \nL 147.212409 162.076775 \nz\n\" style=\"fill:none;stroke:#ff0000;stroke-linejoin:miter;\"/>\n   </g>\n   <g id=\"patch_6\">\n    <path clip-path=\"url(#pa55aa547a9)\" d=\"M 29.398422 253.080308 \nL 147.212409 253.080308 \nL 147.212409 -19.930292 \nL 29.398422 -19.930292 \nz\n\" style=\"fill:none;stroke:#ff0000;stroke-linejoin:miter;\"/>\n   </g>\n   <g id=\"matplotlib.axis_1\">\n    <g id=\"xtick_1\">\n     <g id=\"line2d_1\">\n      <defs>\n       <path d=\"M 0 0 \nL 0 3.5 \n\" id=\"m6e7cfca47b\" style=\"stroke:#000000;stroke-width:0.8;\"/>\n      </defs>\n      <g>\n       <use style=\"stroke:#000000;stroke-width:0.8;\" x=\"88.305416\" xlink:href=\"#m6e7cfca47b\" y=\"550.8\"/>\n      </g>\n     </g>\n     <g id=\"text_1\">\n      <!-- −72 -->\n      <defs>\n       <path d=\"M 10.59375 35.5 \nL 73.1875 35.5 \nL 73.1875 27.203125 \nL 10.59375 27.203125 \nz\n\" id=\"DejaVuSans-8722\"/>\n       <path d=\"M 8.203125 72.90625 \nL 55.078125 72.90625 \nL 55.078125 68.703125 \nL 28.609375 0 \nL 18.3125 0 \nL 43.21875 64.59375 \nL 8.203125 64.59375 \nz\n\" id=\"DejaVuSans-55\"/>\n       <path d=\"M 19.1875 8.296875 \nL 53.609375 8.296875 \nL 53.609375 0 \nL 7.328125 0 \nL 7.328125 8.296875 \nQ 12.9375 14.109375 22.625 23.890625 \nQ 32.328125 33.6875 34.8125 36.53125 \nQ 39.546875 41.84375 41.421875 45.53125 \nQ 43.3125 49.21875 43.3125 52.78125 \nQ 43.3125 58.59375 39.234375 62.25 \nQ 35.15625 65.921875 28.609375 65.921875 \nQ 23.96875 65.921875 18.8125 64.3125 \nQ 13.671875 62.703125 7.8125 59.421875 \nL 7.8125 69.390625 \nQ 13.765625 71.78125 18.9375 73 \nQ 24.125 74.21875 28.421875 74.21875 \nQ 39.75 74.21875 46.484375 68.546875 \nQ 53.21875 62.890625 53.21875 53.421875 \nQ 53.21875 48.921875 51.53125 44.890625 \nQ 49.859375 40.875 45.40625 35.40625 \nQ 44.1875 33.984375 37.640625 27.21875 \nQ 31.109375 20.453125 19.1875 8.296875 \nz\n\" id=\"DejaVuSans-50\"/>\n      </defs>\n      <g transform=\"translate(77.753072 565.398438)scale(0.1 -0.1)\">\n       <use xlink:href=\"#DejaVuSans-8722\"/>\n       <use x=\"83.789062\" xlink:href=\"#DejaVuSans-55\"/>\n       <use x=\"147.412109\" xlink:href=\"#DejaVuSans-50\"/>\n      </g>\n     </g>\n    </g>\n    <g id=\"xtick_2\">\n     <g id=\"line2d_2\">\n      <g>\n       <use style=\"stroke:#000000;stroke-width:0.8;\" x=\"206.119403\" xlink:href=\"#m6e7cfca47b\" y=\"550.8\"/>\n      </g>\n     </g>\n     <g id=\"text_2\">\n      <!-- −70 -->\n      <defs>\n       <path d=\"M 31.78125 66.40625 \nQ 24.171875 66.40625 20.328125 58.90625 \nQ 16.5 51.421875 16.5 36.375 \nQ 16.5 21.390625 20.328125 13.890625 \nQ 24.171875 6.390625 31.78125 6.390625 \nQ 39.453125 6.390625 43.28125 13.890625 \nQ 47.125 21.390625 47.125 36.375 \nQ 47.125 51.421875 43.28125 58.90625 \nQ 39.453125 66.40625 31.78125 66.40625 \nz\nM 31.78125 74.21875 \nQ 44.046875 74.21875 50.515625 64.515625 \nQ 56.984375 54.828125 56.984375 36.375 \nQ 56.984375 17.96875 50.515625 8.265625 \nQ 44.046875 -1.421875 31.78125 -1.421875 \nQ 19.53125 -1.421875 13.0625 8.265625 \nQ 6.59375 17.96875 6.59375 36.375 \nQ 6.59375 54.828125 13.0625 64.515625 \nQ 19.53125 74.21875 31.78125 74.21875 \nz\n\" id=\"DejaVuSans-48\"/>\n      </defs>\n      <g transform=\"translate(195.567059 565.398438)scale(0.1 -0.1)\">\n       <use xlink:href=\"#DejaVuSans-8722\"/>\n       <use x=\"83.789062\" xlink:href=\"#DejaVuSans-55\"/>\n       <use x=\"147.412109\" xlink:href=\"#DejaVuSans-48\"/>\n      </g>\n     </g>\n    </g>\n    <g id=\"xtick_3\">\n     <g id=\"line2d_3\">\n      <g>\n       <use style=\"stroke:#000000;stroke-width:0.8;\" x=\"323.93339\" xlink:href=\"#m6e7cfca47b\" y=\"550.8\"/>\n      </g>\n     </g>\n     <g id=\"text_3\">\n      <!-- −68 -->\n      <defs>\n       <path d=\"M 33.015625 40.375 \nQ 26.375 40.375 22.484375 35.828125 \nQ 18.609375 31.296875 18.609375 23.390625 \nQ 18.609375 15.53125 22.484375 10.953125 \nQ 26.375 6.390625 33.015625 6.390625 \nQ 39.65625 6.390625 43.53125 10.953125 \nQ 47.40625 15.53125 47.40625 23.390625 \nQ 47.40625 31.296875 43.53125 35.828125 \nQ 39.65625 40.375 33.015625 40.375 \nz\nM 52.59375 71.296875 \nL 52.59375 62.3125 \nQ 48.875 64.0625 45.09375 64.984375 \nQ 41.3125 65.921875 37.59375 65.921875 \nQ 27.828125 65.921875 22.671875 59.328125 \nQ 17.53125 52.734375 16.796875 39.40625 \nQ 19.671875 43.65625 24.015625 45.921875 \nQ 28.375 48.1875 33.59375 48.1875 \nQ 44.578125 48.1875 50.953125 41.515625 \nQ 57.328125 34.859375 57.328125 23.390625 \nQ 57.328125 12.15625 50.6875 5.359375 \nQ 44.046875 -1.421875 33.015625 -1.421875 \nQ 20.359375 -1.421875 13.671875 8.265625 \nQ 6.984375 17.96875 6.984375 36.375 \nQ 6.984375 53.65625 15.1875 63.9375 \nQ 23.390625 74.21875 37.203125 74.21875 \nQ 40.921875 74.21875 44.703125 73.484375 \nQ 48.484375 72.75 52.59375 71.296875 \nz\n\" id=\"DejaVuSans-54\"/>\n       <path d=\"M 31.78125 34.625 \nQ 24.75 34.625 20.71875 30.859375 \nQ 16.703125 27.09375 16.703125 20.515625 \nQ 16.703125 13.921875 20.71875 10.15625 \nQ 24.75 6.390625 31.78125 6.390625 \nQ 38.8125 6.390625 42.859375 10.171875 \nQ 46.921875 13.96875 46.921875 20.515625 \nQ 46.921875 27.09375 42.890625 30.859375 \nQ 38.875 34.625 31.78125 34.625 \nz\nM 21.921875 38.8125 \nQ 15.578125 40.375 12.03125 44.71875 \nQ 8.5 49.078125 8.5 55.328125 \nQ 8.5 64.0625 14.71875 69.140625 \nQ 20.953125 74.21875 31.78125 74.21875 \nQ 42.671875 74.21875 48.875 69.140625 \nQ 55.078125 64.0625 55.078125 55.328125 \nQ 55.078125 49.078125 51.53125 44.71875 \nQ 48 40.375 41.703125 38.8125 \nQ 48.828125 37.15625 52.796875 32.3125 \nQ 56.78125 27.484375 56.78125 20.515625 \nQ 56.78125 9.90625 50.3125 4.234375 \nQ 43.84375 -1.421875 31.78125 -1.421875 \nQ 19.734375 -1.421875 13.25 4.234375 \nQ 6.78125 9.90625 6.78125 20.515625 \nQ 6.78125 27.484375 10.78125 32.3125 \nQ 14.796875 37.15625 21.921875 38.8125 \nz\nM 18.3125 54.390625 \nQ 18.3125 48.734375 21.84375 45.5625 \nQ 25.390625 42.390625 31.78125 42.390625 \nQ 38.140625 42.390625 41.71875 45.5625 \nQ 45.3125 48.734375 45.3125 54.390625 \nQ 45.3125 60.0625 41.71875 63.234375 \nQ 38.140625 66.40625 31.78125 66.40625 \nQ 25.390625 66.40625 21.84375 63.234375 \nQ 18.3125 60.0625 18.3125 54.390625 \nz\n\" id=\"DejaVuSans-56\"/>\n      </defs>\n      <g transform=\"translate(313.381046 565.398438)scale(0.1 -0.1)\">\n       <use xlink:href=\"#DejaVuSans-8722\"/>\n       <use x=\"83.789062\" xlink:href=\"#DejaVuSans-54\"/>\n       <use x=\"147.412109\" xlink:href=\"#DejaVuSans-56\"/>\n      </g>\n     </g>\n    </g>\n    <g id=\"xtick_4\">\n     <g id=\"line2d_4\">\n      <g>\n       <use style=\"stroke:#000000;stroke-width:0.8;\" x=\"441.747377\" xlink:href=\"#m6e7cfca47b\" y=\"550.8\"/>\n      </g>\n     </g>\n     <g id=\"text_4\">\n      <!-- −66 -->\n      <g transform=\"translate(431.195033 565.398438)scale(0.1 -0.1)\">\n       <use xlink:href=\"#DejaVuSans-8722\"/>\n       <use x=\"83.789062\" xlink:href=\"#DejaVuSans-54\"/>\n       <use x=\"147.412109\" xlink:href=\"#DejaVuSans-54\"/>\n      </g>\n     </g>\n    </g>\n    <g id=\"xtick_5\">\n     <g id=\"line2d_5\">\n      <g>\n       <use style=\"stroke:#000000;stroke-width:0.8;\" x=\"559.561364\" xlink:href=\"#m6e7cfca47b\" y=\"550.8\"/>\n      </g>\n     </g>\n     <g id=\"text_5\">\n      <!-- −64 -->\n      <defs>\n       <path d=\"M 37.796875 64.3125 \nL 12.890625 25.390625 \nL 37.796875 25.390625 \nz\nM 35.203125 72.90625 \nL 47.609375 72.90625 \nL 47.609375 25.390625 \nL 58.015625 25.390625 \nL 58.015625 17.1875 \nL 47.609375 17.1875 \nL 47.609375 0 \nL 37.796875 0 \nL 37.796875 17.1875 \nL 4.890625 17.1875 \nL 4.890625 26.703125 \nz\n\" id=\"DejaVuSans-52\"/>\n      </defs>\n      <g transform=\"translate(549.00902 565.398438)scale(0.1 -0.1)\">\n       <use xlink:href=\"#DejaVuSans-8722\"/>\n       <use x=\"83.789062\" xlink:href=\"#DejaVuSans-54\"/>\n       <use x=\"147.412109\" xlink:href=\"#DejaVuSans-52\"/>\n      </g>\n     </g>\n    </g>\n   </g>\n   <g id=\"matplotlib.axis_2\">\n    <g id=\"ytick_1\">\n     <g id=\"line2d_6\">\n      <defs>\n       <path d=\"M 0 0 \nL -3.5 0 \n\" id=\"m42ed12aa27\" style=\"stroke:#000000;stroke-width:0.8;\"/>\n      </defs>\n      <g>\n       <use style=\"stroke:#000000;stroke-width:0.8;\" x=\"26.925\" xlink:href=\"#m42ed12aa27\" y=\"526.090909\"/>\n      </g>\n     </g>\n     <g id=\"text_6\">\n      <!-- 53 -->\n      <defs>\n       <path d=\"M 10.796875 72.90625 \nL 49.515625 72.90625 \nL 49.515625 64.59375 \nL 19.828125 64.59375 \nL 19.828125 46.734375 \nQ 21.96875 47.46875 24.109375 47.828125 \nQ 26.265625 48.1875 28.421875 48.1875 \nQ 40.625 48.1875 47.75 41.5 \nQ 54.890625 34.8125 54.890625 23.390625 \nQ 54.890625 11.625 47.5625 5.09375 \nQ 40.234375 -1.421875 26.90625 -1.421875 \nQ 22.3125 -1.421875 17.546875 -0.640625 \nQ 12.796875 0.140625 7.71875 1.703125 \nL 7.71875 11.625 \nQ 12.109375 9.234375 16.796875 8.0625 \nQ 21.484375 6.890625 26.703125 6.890625 \nQ 35.15625 6.890625 40.078125 11.328125 \nQ 45.015625 15.765625 45.015625 23.390625 \nQ 45.015625 31 40.078125 35.4375 \nQ 35.15625 39.890625 26.703125 39.890625 \nQ 22.75 39.890625 18.8125 39.015625 \nQ 14.890625 38.140625 10.796875 36.28125 \nz\n\" id=\"DejaVuSans-53\"/>\n       <path d=\"M 40.578125 39.3125 \nQ 47.65625 37.796875 51.625 33 \nQ 55.609375 28.21875 55.609375 21.1875 \nQ 55.609375 10.40625 48.1875 4.484375 \nQ 40.765625 -1.421875 27.09375 -1.421875 \nQ 22.515625 -1.421875 17.65625 -0.515625 \nQ 12.796875 0.390625 7.625 2.203125 \nL 7.625 11.71875 \nQ 11.71875 9.328125 16.59375 8.109375 \nQ 21.484375 6.890625 26.8125 6.890625 \nQ 36.078125 6.890625 40.9375 10.546875 \nQ 45.796875 14.203125 45.796875 21.1875 \nQ 45.796875 27.640625 41.28125 31.265625 \nQ 36.765625 34.90625 28.71875 34.90625 \nL 20.21875 34.90625 \nL 20.21875 43.015625 \nL 29.109375 43.015625 \nQ 36.375 43.015625 40.234375 45.921875 \nQ 44.09375 48.828125 44.09375 54.296875 \nQ 44.09375 59.90625 40.109375 62.90625 \nQ 36.140625 65.921875 28.71875 65.921875 \nQ 24.65625 65.921875 20.015625 65.03125 \nQ 15.375 64.15625 9.8125 62.3125 \nL 9.8125 71.09375 \nQ 15.4375 72.65625 20.34375 73.4375 \nQ 25.25 74.21875 29.59375 74.21875 \nQ 40.828125 74.21875 47.359375 69.109375 \nQ 53.90625 64.015625 53.90625 55.328125 \nQ 53.90625 49.265625 50.4375 45.09375 \nQ 46.96875 40.921875 40.578125 39.3125 \nz\n\" id=\"DejaVuSans-51\"/>\n      </defs>\n      <g transform=\"translate(7.2 529.890128)scale(0.1 -0.1)\">\n       <use xlink:href=\"#DejaVuSans-53\"/>\n       <use x=\"63.623047\" xlink:href=\"#DejaVuSans-51\"/>\n      </g>\n     </g>\n    </g>\n    <g id=\"ytick_2\">\n     <g id=\"line2d_7\">\n      <g>\n       <use style=\"stroke:#000000;stroke-width:0.8;\" x=\"26.925\" xlink:href=\"#m42ed12aa27\" y=\"435.087376\"/>\n      </g>\n     </g>\n     <g id=\"text_7\">\n      <!-- 54 -->\n      <g transform=\"translate(7.2 438.886594)scale(0.1 -0.1)\">\n       <use xlink:href=\"#DejaVuSans-53\"/>\n       <use x=\"63.623047\" xlink:href=\"#DejaVuSans-52\"/>\n      </g>\n     </g>\n    </g>\n    <g id=\"ytick_3\">\n     <g id=\"line2d_8\">\n      <g>\n       <use style=\"stroke:#000000;stroke-width:0.8;\" x=\"26.925\" xlink:href=\"#m42ed12aa27\" y=\"344.083842\"/>\n      </g>\n     </g>\n     <g id=\"text_8\">\n      <!-- 55 -->\n      <g transform=\"translate(7.2 347.883061)scale(0.1 -0.1)\">\n       <use xlink:href=\"#DejaVuSans-53\"/>\n       <use x=\"63.623047\" xlink:href=\"#DejaVuSans-53\"/>\n      </g>\n     </g>\n    </g>\n    <g id=\"ytick_4\">\n     <g id=\"line2d_9\">\n      <g>\n       <use style=\"stroke:#000000;stroke-width:0.8;\" x=\"26.925\" xlink:href=\"#m42ed12aa27\" y=\"253.080308\"/>\n      </g>\n     </g>\n     <g id=\"text_9\">\n      <!-- 56 -->\n      <g transform=\"translate(7.2 256.879527)scale(0.1 -0.1)\">\n       <use xlink:href=\"#DejaVuSans-53\"/>\n       <use x=\"63.623047\" xlink:href=\"#DejaVuSans-54\"/>\n      </g>\n     </g>\n    </g>\n    <g id=\"ytick_5\">\n     <g id=\"line2d_10\">\n      <g>\n       <use style=\"stroke:#000000;stroke-width:0.8;\" x=\"26.925\" xlink:href=\"#m42ed12aa27\" y=\"162.076775\"/>\n      </g>\n     </g>\n     <g id=\"text_10\">\n      <!-- 57 -->\n      <g transform=\"translate(7.2 165.875994)scale(0.1 -0.1)\">\n       <use xlink:href=\"#DejaVuSans-53\"/>\n       <use x=\"63.623047\" xlink:href=\"#DejaVuSans-55\"/>\n      </g>\n     </g>\n    </g>\n    <g id=\"ytick_6\">\n     <g id=\"line2d_11\">\n      <g>\n       <use style=\"stroke:#000000;stroke-width:0.8;\" x=\"26.925\" xlink:href=\"#m42ed12aa27\" y=\"71.073241\"/>\n      </g>\n     </g>\n     <g id=\"text_11\">\n      <!-- 58 -->\n      <g transform=\"translate(7.2 74.87246)scale(0.1 -0.1)\">\n       <use xlink:href=\"#DejaVuSans-53\"/>\n       <use x=\"63.623047\" xlink:href=\"#DejaVuSans-56\"/>\n      </g>\n     </g>\n    </g>\n   </g>\n   <g id=\"patch_7\">\n    <path d=\"M 26.925 550.8 \nL 26.925 7.2 \n\" style=\"fill:none;stroke:#000000;stroke-linecap:square;stroke-linejoin:miter;stroke-width:0.8;\"/>\n   </g>\n   <g id=\"patch_8\">\n    <path d=\"M 584.925 550.8 \nL 584.925 7.2 \n\" style=\"fill:none;stroke:#000000;stroke-linecap:square;stroke-linejoin:miter;stroke-width:0.8;\"/>\n   </g>\n   <g id=\"patch_9\">\n    <path d=\"M 26.925 550.8 \nL 584.925 550.8 \n\" style=\"fill:none;stroke:#000000;stroke-linecap:square;stroke-linejoin:miter;stroke-width:0.8;\"/>\n   </g>\n   <g id=\"patch_10\">\n    <path d=\"M 26.925 7.2 \nL 584.925 7.2 \n\" style=\"fill:none;stroke:#000000;stroke-linecap:square;stroke-linejoin:miter;stroke-width:0.8;\"/>\n   </g>\n  </g>\n </g>\n <defs>\n  <clipPath id=\"pa55aa547a9\">\n   <rect height=\"543.6\" width=\"558\" x=\"26.925\" y=\"7.2\"/>\n  </clipPath>\n </defs>\n</svg>\n",
      "image/png": "[encoded data removed]"
     },
     "metadata": {
      "needs_background": "light"
     }
    },
    {
     "output_type": "display_data",
     "data": {
      "text/plain": "<Figure size 720x720 with 0 Axes>"
     },
     "metadata": {}
    }
   ],
   "source": [
    "cur_object_ind = 0 \n",
    "processed_point_clouds_num = 0\n",
    "comfirmed_samples = []\n",
    "labels = [] # 0: car, 1: horse, 2:noise\n",
    "while True:\n",
    "    point_clouds = multi_tracking.out_of_tracking_list[cur_object_ind].point_clouds\n",
    "    show_cur_traj(point_clouds)\n",
    "    cur_input = input('Save All Trackings?:')\n",
    "    display.clear_output(wait=True)\n",
    "    correct_input = is_input_correct(cur_input)\n",
    "    if cur_input == 'exit':\n",
    "        break\n",
    "    while correct_input:\n",
    "        correct_input = is_input_correct(cur_input)\n",
    "        print('Wrong Input')\n",
    "        if correct_input:\n",
    "            break\n",
    "    if cur_input == 'y' or cur_input == 'Y':\n",
    "        added_samples = 0\n",
    "        for i in range(len(point_clouds)):\n",
    "            if type(point_clouds[i]) != int:\n",
    "                comfirmed_samples.append(point_clouds[i])\n",
    "                added_samples += 1\n",
    "        processed_point_clouds_num += added_samples\n",
    "    else:\n",
    "        for i in range(len(point_clouds)):\n",
    "            if type(point_clouds[i]) != int:\n",
    "                show_four_frame_traj(point_clouds,i)\n",
    "                cur_input = input('Save the Labelled Tracking?:')\n",
    "                if cur_input == 'exit':\n",
    "                    break\n",
    "                display.clear_output(wait=True)\n",
    "                while correct_input:\n",
    "                    correct_input = is_input_correct(cur_input)\n",
    "                    print('Wrong Input')\n",
    "                    if correct_input:\n",
    "                        break\n",
    "                if cur_input == 'y' or cur_input == 'Y':\n",
    "                    comfirmed_samples.append(point_clouds[i])\n",
    "                    processed_point_clouds_num += 1\n",
    "    plt.close()\n",
    "    cur_object_ind+=1\n",
    "    display.clear_output(wait=True)\n",
    "\n",
    "                \n",
    "                \n",
    "\n",
    "\n",
    "        "
   ]
  },
  {
   "cell_type": "code",
   "execution_count": null,
   "metadata": {},
   "outputs": [],
   "source": []
  },
  {
   "cell_type": "code",
   "execution_count": null,
   "metadata": {},
   "outputs": [],
   "source": []
  }
 ]
}