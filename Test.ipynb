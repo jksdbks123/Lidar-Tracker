{
 "cells": [
  {
   "cell_type": "code",
   "execution_count": 1,
   "metadata": {},
   "outputs": [],
   "source": [
    "from tqdm import tqdm_notebook\n",
    "import datetime\n",
    "import dpkt\n",
    "import numpy as np\n",
    "import matplotlib.pyplot as plt\n",
    "import os\n",
    "import pandas as pd\n",
    "import open3d as op3"
   ]
  },
  {
   "cell_type": "code",
   "execution_count": 2,
   "metadata": {},
   "outputs": [],
   "source": [
    "omega = np.array([[-25,1.4],[-1,-4.2],[-1.667,1.4],[-15.639,-1.4],\n",
    "    [-11.31,1.4],[0,-1.4],[-0.667,4.2],[-8.843,-1.4],\n",
    "    [-7.254,1.4],[0.333,-4.2],[-0.333,1.4],[-6.148,-1.4],\n",
    "    [-5.333,4.2],[1.333,-1.4],[0.667,4.2],[-4,-1.4],\n",
    "    [-4.667,1.4],[1.667,-4.2],[1,1.4],[-3.667,-4.2],\n",
    "    [-3.333,4.2],[3.333,-1.4],[2.333,1.4],[-2.667,-1.4],\n",
    "    [-3,1.4],[7,-1.4],[4.667,1.4],[-2.333,-4.2],\n",
    "    [-2,4.2],[15,-1.4],[10.333,1.4],[-1.333,-1.4]\n",
    "])"
   ]
  },
  {
   "cell_type": "code",
   "execution_count": 3,
   "metadata": {},
   "outputs": [],
   "source": [
    "\n",
    "\n",
    "class LidarLoader():\n",
    "    def __init__(self,file_path):\n",
    "        self.Data_order = np.array([[-25,1.4],[-1,-4.2],[-1.667,1.4],[-15.639,-1.4],\n",
    "    [-11.31,1.4],[0,-1.4],[-0.667,4.2],[-8.843,-1.4],\n",
    "    [-7.254,1.4],[0.333,-4.2],[-0.333,1.4],[-6.148,-1.4],\n",
    "    [-5.333,4.2],[1.333,-1.4],[0.667,4.2],[-4,-1.4],\n",
    "    [-4.667,1.4],[1.667,-4.2],[1,1.4],[-3.667,-4.2],\n",
    "    [-3.333,4.2],[3.333,-1.4],[2.333,1.4],[-2.667,-1.4],\n",
    "    [-3,1.4],[7,-1.4],[4.667,1.4],[-2.333,-4.2],\n",
    "    [-2,4.2],[15,-1.4],[10.333,1.4],[-1.333,-1.4]\n",
    "])\n",
    "        self.timing_offset = self.calc_timing_offsets()\n",
    "        self.omega = self.Data_order[:,0]\n",
    "        self.lidar_reader = 0\n",
    "        self.file_path = file_path\n",
    "        self.load_reader()\n",
    "\n",
    "    def load_reader(self):\n",
    "        try:\n",
    "            fpcap = open(self.file_path, 'rb')\n",
    "            self.lidar_reader = dpkt.pcap.Reader(fpcap)\n",
    "        except Exception as ex:\n",
    "            print(str(ex))\n",
    "\n",
    "    def read_uint32(self,data, idx):\n",
    "        return data[idx] + data[idx+1]*256 + data[idx+2]*256*256 + data[idx+3]*256*256*256\n",
    "    def read_firing_data(self,data):\n",
    "        block_id = data[0] + data[1]*256\n",
    "        azimuth = (data[2] + data[3] * 256) / 100 # degree\n",
    "        firings = data[4:].reshape(32, 3) \n",
    "        distances = firings[:, 0] + firings[:, 1] * 256 # mm \n",
    "        intensities = firings[:, 2] # 0-255\n",
    "        return distances, intensities, azimuth #(1,0)\n",
    "    \n",
    "    def calc_timing_offsets(self):\n",
    "        timing_offsets = np.zeros((32,12))  # Init matrix\n",
    "        # constants\n",
    "        full_firing_cycle = 55.296  # μs\n",
    "        single_firing = 2.304  # μs\n",
    "        # compute timing offsets\n",
    "        for x in range(12):\n",
    "            for y in range(32):\n",
    "                dataBlockIndex = (x * 2) + int((y / 16))\n",
    "                dataPointIndex = y % 16\n",
    "                timing_offsets[y][x] = (full_firing_cycle * dataBlockIndex) +(single_firing * dataPointIndex)\n",
    "        return np.array(timing_offsets).T\n",
    "\n",
    "    def calc_precise_azimuth(self,azimuth):\n",
    "        org_azi = azimuth.copy()\n",
    "\n",
    "        precision_azimuth = []\n",
    "        # iterate through each block\n",
    "        for n in range(12): # n=0..11\n",
    "            azimuth = org_azi.copy()\n",
    "            try:\n",
    "                # First, adjust for an Azimuth rollover from 359.99° to 0°\n",
    "                if azimuth[n + 1] < azimuth[n]:\n",
    "                    azimuth[n + 1] += 360\n",
    "\n",
    "                # Determine the azimuth Gap between data blocks\n",
    "                azimuth_gap = azimuth[n + 1] - azimuth[n]\n",
    "            except:\n",
    "                if azimuth[n] < azimuth[n-1]:\n",
    "                    azimuth[n] += 360\n",
    "                azimuth_gap = azimuth[n] - azimuth[n-1]\n",
    "\n",
    "            factor = azimuth_gap / 32.\n",
    "            k = np.arange(32)\n",
    "            precise_azimuth = azimuth[n] + factor * k\n",
    "            precision_azimuth.append(precise_azimuth)\n",
    "\n",
    "        precision_azimuth = np.array(precision_azimuth)\n",
    "        return precision_azimuth\n",
    "\n",
    "    def calc_cart_coord(self,distances, azimuth):# distance: 12*32 azimuth: 12*32\n",
    "        # convert deg to rad\n",
    "        longitudes = self.omega * np.pi / 180.\n",
    "        latitudes = azimuth * np.pi / 180.\n",
    "\n",
    "        hypotenuses = distances * np.cos(longitudes)\n",
    "\n",
    "        X = hypotenuses * np.sin(latitudes)\n",
    "        Y = hypotenuses * np.cos(latitudes)\n",
    "        Z = distances * np.sin(longitudes)\n",
    "        return X, Y, Z\n",
    "\n",
    "    def parse_one_packet(self,data):\n",
    "        data = np.frombuffer(data, dtype=np.uint8).astype(np.uint32)\n",
    "        blocks = data[0:1200].reshape(12, 100)\n",
    "        Timestamp = self.read_uint32(data[1200:1204],0)\n",
    "        distances = []#12*32\n",
    "        intensities = []#12*32\n",
    "        azimuth_per_block = [] #(12,0)\n",
    "        # iteratie through each block\n",
    "        for i, blk in enumerate(blocks):\n",
    "            dists, intens, angles = self.read_firing_data(blk)\n",
    "            distances.append(dists) #12*32\n",
    "            intensities.append(intens) #12*32\n",
    "            azimuth_per_block.append(angles)\n",
    "        azimuth_per_block = np.array(azimuth_per_block) #12, \n",
    "            ## Note: all these arrray have th same size, number of firing in one packet\n",
    "        azimuth_adjusted = self.calc_precise_azimuth(azimuth_per_block).reshape(12, 32) # 12*32\n",
    "        azimuth_origin = np.tile(azimuth_per_block.reshape(-1,1),32)\n",
    "        \n",
    "        azimuth_adjusted += self.Data_order[:,1] # offset\n",
    "        distances = np.array(distances)*4/1000 # 12*32\n",
    "        intensities = np.array(intensities) # 12*32\n",
    "        laser_id = np.tile(np.arange(32).reshape(-1,1),12).T\n",
    "        \n",
    "        # now calculate the cartesian coordinate of each point\n",
    "        X, Y, Z = self.calc_cart_coord(distances, azimuth_adjusted)\n",
    "        \n",
    "        # calculating timestamp [microsec] of each firing\n",
    "        timestamps = Timestamp + self.timing_offset\n",
    "\n",
    "        X = X.flatten()\n",
    "        Y = Y.flatten()\n",
    "        Z = Z.flatten()\n",
    "        intensities = intensities.flatten()\n",
    "        azimuth_adjusted = azimuth_adjusted.flatten()\n",
    "        timestamps = timestamps.flatten()\n",
    "        distances = distances.flatten()\n",
    "        azimuth_origin = azimuth_origin.flatten()\n",
    "        laser_id = laser_id.flatten()\n",
    "        # remeber the last azimuth for roll over checking\n",
    "        return X, Y, Z, intensities, azimuth_adjusted, timestamps, distances, azimuth_origin, laser_id\n",
    "\n",
    "    def frame_gen(self):\n",
    "        while True:\n",
    "            cur_culmulative_fires = 0\n",
    "            frame = []\n",
    "            flag = True\n",
    "            for ts,buf in self.lidar_reader:\n",
    "                eth = dpkt.ethernet.Ethernet(buf)\n",
    "                data = eth.data.data.data\n",
    "                packet_status = eth.data.data.sport\n",
    "                if packet_status == 2368:\n",
    "                    cur_culmulative_fires+=1\n",
    "                    if len(data)<1206:\n",
    "                        continue\n",
    "                    X,Y,Z,I,A,T,D,A_O,L_id = self.parse_one_packet(data)\n",
    "                    A[A>360] -= 360\n",
    "                    frame.append(np.concatenate([T.reshape((-1,1)),\n",
    "                                                    X.reshape((-1,1)),\n",
    "                                                    Y.reshape((-1,1)),\n",
    "                                                    Z.reshape((-1,1)),\n",
    "                                                    D.reshape((-1,1)),\n",
    "                                                    I.reshape((-1,1)),\n",
    "                                                    ],axis = 1))\n",
    "                    if cur_culmulative_fires==150:\n",
    "                        cur_culmulative_fires = 0\n",
    "                        temp = np.concatenate(frame)\n",
    "                        temp = temp[(temp[:,4]!=0)&(temp[:,4]<60)] # filter out sky laser\n",
    "                        frame = []\n",
    "                        yield temp    \n",
    "                else:\n",
    "                    continue\n"
   ]
  },
  {
   "cell_type": "code",
   "execution_count": 4,
   "metadata": {},
   "outputs": [
    {
     "data": {
      "text/plain": [
       "['.DS_Store',\n",
       " 'Experiment.ipynb',\n",
       " 'MultiTrackingSystem.py',\n",
       " '__pycache__',\n",
       " 'README.md',\n",
       " 'Trakers.py',\n",
       " 'DetectedObject.py',\n",
       " 'Utils.py',\n",
       " '.ipynb_checkpoints',\n",
       " 'LidarDBSCAN.py',\n",
       " 'FrameGen.py',\n",
       " '.git',\n",
       " '.vscode',\n",
       " 'TrainingSetGen.py',\n",
       " 'Test.ipynb',\n",
       " 'DataReader.py']"
      ]
     },
     "execution_count": 4,
     "metadata": {},
     "output_type": "execute_result"
    }
   ],
   "source": [
    "os.listdir()"
   ]
  },
  {
   "cell_type": "code",
   "execution_count": 5,
   "metadata": {},
   "outputs": [
    {
     "name": "stderr",
     "output_type": "stream",
     "text": [
      "/Users/czhui960/opt/anaconda3/envs/tf2/lib/python3.7/site-packages/ipykernel_launcher.py:22: TqdmDeprecationWarning: This function will be removed in tqdm==5.0.0\n",
      "Please use `tqdm.notebook.tqdm` instead of `tqdm.tqdm_notebook`\n"
     ]
    },
    {
     "data": {
      "application/vnd.jupyter.widget-view+json": {
       "model_id": "314ca8762caf48328b072dc1607f4a2d",
       "version_major": 2,
       "version_minor": 0
      },
      "text/plain": [
       "HBox(children=(FloatProgress(value=0.0, max=600.0), HTML(value='')))"
      ]
     },
     "metadata": {},
     "output_type": "display_data"
    },
    {
     "name": "stdout",
     "output_type": "stream",
     "text": [
      "\n"
     ]
    }
   ],
   "source": [
    "os.chdir(r'/Users/czhui960/Documents/Lidar/to ZHIHUI/USA pkwy')\n",
    "file_path  = os.listdir()[-2]\n",
    "loader = LidarLoader(file_path).frame_gen()\n",
    "frame = next(loader)\n",
    "grid_height = (frame[:,3].max()-frame[:,3].min())\n",
    "grid_width = 60*2\n",
    "grid_length = 60*2\n",
    "resolution = 0.2\n",
    "bf_frames = 600\n",
    "bf_threshold = 0.15\n",
    "X_coordinates = np.arange(-grid_width/2,grid_width/2,resolution)\n",
    "Y_coordinates = np.arange(-grid_length/2,grid_length/2,resolution)\n",
    "Z_coordinates = np.arange(frame[:,3].min(),frame[:,3].max(),resolution)\n",
    "X, Y ,Z = np.meshgrid(X_coordinates, \n",
    "                      Y_coordinates,\n",
    "                     Z_coordinates)\n",
    "grid_3d_points = np.vstack((X,Y,Z)).reshape(3,-1).T\n",
    "pcd_total_voxel = op3.geometry.PointCloud()\n",
    "pcd_total_voxel.points = op3.utility.Vector3dVector(grid_3d_points)\n",
    "voxel_grid = op3.geometry.VoxelGrid.create_from_point_cloud(pcd_total_voxel,voxel_size=resolution)\n",
    "total_counts = np.zeros((len(X_coordinates),len(Y_coordinates),len(Z_coordinates)))\n",
    "for frame in tqdm_notebook(range(bf_frames)):\n",
    "    counts = np.zeros((len(X_coordinates),len(Y_coordinates),len(Z_coordinates)))\n",
    "    frame = next(loader)\n",
    "    frame_xyz = frame[:,[1,2,3]]\n",
    "    for i in range(len(frame_xyz)):\n",
    "        voxel_cors = voxel_grid.get_voxel(frame_xyz[i])\n",
    "        try:\n",
    "            if counts[voxel_cors[0],voxel_cors[1],voxel_cors[2]]==0:\n",
    "                counts[voxel_cors[0],voxel_cors[1],voxel_cors[2]]+=1\n",
    "        except:\n",
    "            continue\n",
    "    total_counts = total_counts +counts\n",
    "total_counts = total_counts/bf_frames\n",
    "Background_X,Background_Y,Background_Z = np.where(total_counts>bf_threshold)\n",
    "Background_X = X_coordinates[Background_X]\n",
    "Background_Y = Y_coordinates[Background_Y]\n",
    "Background_Z = Z_coordinates[Background_Z]\n",
    "Background_XYZ = np.concatenate([Background_X.reshape(-1,1),Background_Y.reshape(-1,1),Background_Z.reshape(-1,1)],axis = 1)\n",
    "pcd_bck = op3.geometry.PointCloud()\n",
    "pcd_bck.points = op3.utility.Vector3dVector(Background_XYZ)\n",
    "voxel_grid_bck = op3.geometry.VoxelGrid.create_from_point_cloud(pcd_bck,voxel_size=resolution)"
   ]
  },
  {
   "cell_type": "code",
   "execution_count": 6,
   "metadata": {},
   "outputs": [],
   "source": [
    "Background_X,Background_Y,Background_Z = np.where(total_counts>0.07)\n",
    "Background_X = X_coordinates[Background_X]\n",
    "Background_Y = Y_coordinates[Background_Y]\n",
    "Background_Z = Z_coordinates[Background_Z]\n",
    "Background_XYZ = np.concatenate([Background_X.reshape(-1,1),Background_Y.reshape(-1,1),Background_Z.reshape(-1,1)],axis = 1)\n",
    "pcd_bck = op3.geometry.PointCloud()\n",
    "pcd_bck.points = op3.utility.Vector3dVector(Background_XYZ)\n",
    "voxel_grid_bck = op3.geometry.VoxelGrid.create_from_point_cloud(pcd_bck,voxel_size=resolution)"
   ]
  },
  {
   "cell_type": "code",
   "execution_count": 138,
   "metadata": {},
   "outputs": [
    {
     "data": {
      "text/plain": [
       "True"
      ]
     },
     "execution_count": 138,
     "metadata": {},
     "output_type": "execute_result"
    }
   ],
   "source": [
    "op3.io.write_voxel_grid('./bck_voxel.ply',voxel_grid_bck)"
   ]
  },
  {
   "cell_type": "markdown",
   "metadata": {},
   "source": [
    "## animation"
   ]
  },
  {
   "cell_type": "code",
   "execution_count": 136,
   "metadata": {},
   "outputs": [],
   "source": [
    "Background_X,Background_Y,Background_Z = np.where(total_counts>0.005)\n",
    "Background_X = X_coordinates[Background_X]\n",
    "Background_Y = Y_coordinates[Background_Y]\n",
    "Background_Z = Z_coordinates[Background_Z]\n",
    "Background_XYZ = np.concatenate([Background_X.reshape(-1,1),Background_Y.reshape(-1,1),Background_Z.reshape(-1,1)],axis = 1)\n",
    "pcd_bck = op3.geometry.PointCloud()\n",
    "pcd_bck.points = op3.utility.Vector3dVector(Background_XYZ)\n",
    "voxel_grid_bck = op3.geometry.VoxelGrid.create_from_point_cloud(pcd_bck,voxel_size=resolution)"
   ]
  },
  {
   "cell_type": "code",
   "execution_count": 126,
   "metadata": {},
   "outputs": [],
   "source": [
    "os.chdir(r'/Users/czhui960/Documents/Lidar/to ZHIHUI/USA pkwy')\n",
    "file_path  = os.listdir()[-2]\n",
    "loader = LidarLoader(file_path).frame_gen()\n",
    "# voxel_grid_bck = op3.io.read_voxel_grid('./Results/bck_voxel.ply')"
   ]
  },
  {
   "cell_type": "code",
   "execution_count": 128,
   "metadata": {},
   "outputs": [],
   "source": [
    "detecting_range = 60\n",
    "x_lim = [-detecting_range,detecting_range]\n",
    "y_lim = [-detecting_range,detecting_range]"
   ]
  },
  {
   "cell_type": "code",
   "execution_count": 131,
   "metadata": {
    "scrolled": true
   },
   "outputs": [
    {
     "name": "stderr",
     "output_type": "stream",
     "text": [
      "/Users/czhui960/opt/anaconda3/envs/tf2/lib/python3.7/site-packages/ipykernel_launcher.py:1: TqdmDeprecationWarning: This function will be removed in tqdm==5.0.0\n",
      "Please use `tqdm.notebook.tqdm` instead of `tqdm.tqdm_notebook`\n",
      "  \"\"\"Entry point for launching an IPython kernel.\n"
     ]
    },
    {
     "data": {
      "application/vnd.jupyter.widget-view+json": {
       "model_id": "0016ca9c735c4c10874661eafa6be2ba",
       "version_major": 2,
       "version_minor": 0
      },
      "text/plain": [
       "HBox(children=(FloatProgress(value=0.0, max=4600.0), HTML(value='')))"
      ]
     },
     "metadata": {},
     "output_type": "display_data"
    },
    {
     "name": "stdout",
     "output_type": "stream",
     "text": [
      "\n"
     ]
    }
   ],
   "source": [
    "for i in tqdm_notebook(range(4600)):\n",
    "    plt.figure(figsize=(20,int(20*((y_lim[1]-y_lim[0])/(x_lim[1]-x_lim[0])))))\n",
    "    plt.ylim(y_lim[0],y_lim[1]) # figure height is 80\n",
    "    plt.xlim(x_lim[0],x_lim[1]) # length is 150\n",
    "    frame = next(loader)\n",
    "    frame_xyz = frame[:,[1,2,3]]\n",
    "    filtered_labels = ~np.array(voxel_grid_bck.check_if_included(op3.utility.Vector3dVector(frame_xyz)))\n",
    "    points = frame_xyz[filtered_labels][:,[0,1]]\n",
    "    plt.scatter(points[:,0],points[:,1],s = 3, marker = 'x')\n",
    "    plt.savefig('./Results/Gifs/{}.png'.format(i))\n",
    "    plt.close()"
   ]
  },
  {
   "cell_type": "code",
   "execution_count": 7,
   "metadata": {},
   "outputs": [
    {
     "name": "stderr",
     "output_type": "stream",
     "text": [
      "/Users/czhui960/opt/anaconda3/envs/tf2/lib/python3.7/site-packages/ipykernel_launcher.py:5: TqdmDeprecationWarning: This function will be removed in tqdm==5.0.0\n",
      "Please use `tqdm.notebook.tqdm` instead of `tqdm.tqdm_notebook`\n",
      "  \"\"\"\n"
     ]
    },
    {
     "data": {
      "application/vnd.jupyter.widget-view+json": {
       "model_id": "4b41bcd94bb24dcc9a2c75e5894b0b99",
       "version_major": 2,
       "version_minor": 0
      },
      "text/plain": [
       "HBox(children=(FloatProgress(value=0.0, max=644.0), HTML(value='')))"
      ]
     },
     "metadata": {},
     "output_type": "display_data"
    },
    {
     "name": "stdout",
     "output_type": "stream",
     "text": [
      "\n"
     ]
    }
   ],
   "source": [
    "os.chdir(r'/Users/czhui960/Documents/Lidar/to ZHIHUI/USA pkwy')\n",
    "file_path  = os.listdir()[-2]\n",
    "loader = LidarLoader(file_path).frame_gen()\n",
    "# voxel_grid_bck = op3.io.read_voxel_grid('./Results/bck_voxel.ply')\n",
    "for i in tqdm_notebook(range(644)):\n",
    "    frame = next(loader)\n",
    "#     frame_xyz = frame[:,[1,2,3]]"
   ]
  },
  {
   "cell_type": "markdown",
   "metadata": {},
   "source": [
    "## Background filtering "
   ]
  },
  {
   "cell_type": "code",
   "execution_count": null,
   "metadata": {},
   "outputs": [],
   "source": [
    "Background_X,Background_Y,Background_Z = np.where(total_counts>0.005)\n",
    "Background_X = X_coordinates[Background_X]\n",
    "Background_Y = Y_coordinates[Background_Y]\n",
    "Background_Z = Z_coordinates[Background_Z]\n",
    "Background_XYZ = np.concatenate([Background_X.reshape(-1,1),Background_Y.reshape(-1,1),Background_Z.reshape(-1,1)],axis = 1)\n",
    "pcd_bck = op3.geometry.PointCloud()\n",
    "pcd_bck.points = op3.utility.Vector3dVector(Background_XYZ)\n",
    "voxel_grid_bck = op3.geometry.VoxelGrid.create_from_point_cloud(pcd_bck,voxel_size=resolution)"
   ]
  },
  {
   "cell_type": "markdown",
   "metadata": {},
   "source": [
    "## total grid and voxel_grid "
   ]
  },
  {
   "cell_type": "code",
   "execution_count": 10,
   "metadata": {},
   "outputs": [],
   "source": [
    "# frame = next(loader)\n",
    "frame_xyz = frame[:,[1,2,3]]\n",
    "filtered_labels = ~np.array(voxel_grid_bck.check_if_included(op3.utility.Vector3dVector(frame_xyz)))\n",
    "pcd = op3.geometry.PointCloud()\n",
    "pcd.points = op3.utility.Vector3dVector(frame_xyz[filtered_labels])\n",
    "op3.visualization.draw_geometries([pcd_total_voxel,voxel_grid_bck])"
   ]
  },
  {
   "cell_type": "markdown",
   "metadata": {},
   "source": [
    "## voxel grid and point clouds "
   ]
  },
  {
   "cell_type": "code",
   "execution_count": null,
   "metadata": {},
   "outputs": [],
   "source": [
    "# frame = next(loader)\n",
    "frame_xyz = frame[:,[1,2,3]]\n",
    "filtered_labels = ~np.array(voxel_grid_bck.check_if_included(op3.utility.Vector3dVector(frame_xyz)))\n",
    "pcd = op3.geometry.PointCloud()\n",
    "pcd.points = op3.utility.Vector3dVector(frame_xyz[filtered_labels])\n",
    "op3.visualization.draw_geometries([pcd,voxel_grid_bck])"
   ]
  },
  {
   "cell_type": "code",
   "execution_count": null,
   "metadata": {},
   "outputs": [],
   "source": []
  },
  {
   "cell_type": "code",
   "execution_count": 133,
   "metadata": {},
   "outputs": [],
   "source": [
    "import imageio"
   ]
  },
  {
   "cell_type": "code",
   "execution_count": 134,
   "metadata": {},
   "outputs": [
    {
     "ename": "NameError",
     "evalue": "name 'file_name' is not defined",
     "output_type": "error",
     "traceback": [
      "\u001b[0;31m---------------------------------------------------------------------------\u001b[0m",
      "\u001b[0;31mNameError\u001b[0m                                 Traceback (most recent call last)",
      "\u001b[0;32m<ipython-input-134-a9268817b559>\u001b[0m in \u001b[0;36m<module>\u001b[0;34m\u001b[0m\n\u001b[1;32m      3\u001b[0m \u001b[0;32mfor\u001b[0m \u001b[0mfilename\u001b[0m \u001b[0;32min\u001b[0m \u001b[0mfilenames\u001b[0m\u001b[0;34m:\u001b[0m\u001b[0;34m\u001b[0m\u001b[0;34m\u001b[0m\u001b[0m\n\u001b[1;32m      4\u001b[0m     \u001b[0mimages\u001b[0m\u001b[0;34m.\u001b[0m\u001b[0mappend\u001b[0m\u001b[0;34m(\u001b[0m\u001b[0mimageio\u001b[0m\u001b[0;34m.\u001b[0m\u001b[0mimread\u001b[0m\u001b[0;34m(\u001b[0m\u001b[0mfilename\u001b[0m\u001b[0;34m)\u001b[0m\u001b[0;34m)\u001b[0m\u001b[0;34m\u001b[0m\u001b[0;34m\u001b[0m\u001b[0m\n\u001b[0;32m----> 5\u001b[0;31m \u001b[0mimageio\u001b[0m\u001b[0;34m.\u001b[0m\u001b[0mmimsave\u001b[0m\u001b[0;34m(\u001b[0m\u001b[0;34m'./Results/{}.gif'\u001b[0m\u001b[0;34m.\u001b[0m\u001b[0mformat\u001b[0m\u001b[0;34m(\u001b[0m\u001b[0mfile_name\u001b[0m\u001b[0;34m)\u001b[0m\u001b[0;34m,\u001b[0m \u001b[0mimages\u001b[0m\u001b[0;34m)\u001b[0m\u001b[0;34m\u001b[0m\u001b[0;34m\u001b[0m\u001b[0m\n\u001b[0m\u001b[1;32m      6\u001b[0m \u001b[0mprint\u001b[0m\u001b[0;34m(\u001b[0m\u001b[0;34m'Gif successfully saved'\u001b[0m\u001b[0;34m)\u001b[0m\u001b[0;34m\u001b[0m\u001b[0;34m\u001b[0m\u001b[0m\n",
      "\u001b[0;31mNameError\u001b[0m: name 'file_name' is not defined"
     ]
    }
   ],
   "source": [
    "images = []\n",
    "filenames = ['./Results/Gifs/{}.png'.format(i) for i in range(4600)]\n",
    "for filename in filenames:\n",
    "    images.append(imageio.imread(filename))\n",
    "imageio.mimsave('./Results/{}.gif'.format('test'), images)\n",
    "print('Gif successfully saved')"
   ]
  },
  {
   "cell_type": "code",
   "execution_count": null,
   "metadata": {},
   "outputs": [],
   "source": []
  }
 ],
 "metadata": {
  "kernelspec": {
   "display_name": "Python 3",
   "language": "python",
   "name": "python3"
  },
  "language_info": {
   "codemirror_mode": {
    "name": "ipython",
    "version": 3
   },
   "file_extension": ".py",
   "mimetype": "text/x-python",
   "name": "python",
   "nbconvert_exporter": "python",
   "pygments_lexer": "ipython3",
   "version": "3.7.6"
  }
 },
 "nbformat": 4,
 "nbformat_minor": 2
}
