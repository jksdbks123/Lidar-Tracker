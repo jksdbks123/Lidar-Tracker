{
 "metadata": {
  "language_info": {
   "codemirror_mode": {
    "name": "ipython",
    "version": 3
   },
   "file_extension": ".py",
   "mimetype": "text/x-python",
   "name": "python",
   "nbconvert_exporter": "python",
   "pygments_lexer": "ipython3",
   "version": "3.7.6-final"
  },
  "orig_nbformat": 2,
  "kernelspec": {
   "name": "python3",
   "display_name": "Python 3.7.6 64-bit ('tf2': conda)",
   "metadata": {
    "interpreter": {
     "hash": "002a65f0af6a9c12889078284297e35806a72fa3393526301801fd9d5118db02"
    }
   }
  }
 },
 "nbformat": 4,
 "nbformat_minor": 2,
 "cells": [
  {
   "cell_type": "code",
   "execution_count": 1,
   "metadata": {},
   "outputs": [],
   "source": [
    "from MultiTrackingSystem import MultiTrackingSystem\n",
    "import matplotlib.pyplot as plt\n",
    "import numpy as np\n",
    "import pandas as pd\n",
    "import os\n",
    "import matplotlib.animation as animation\n",
    "import cv2\n",
    "import open3d as op3"
   ]
  },
  {
   "cell_type": "code",
   "execution_count": 2,
   "metadata": {},
   "outputs": [],
   "source": [
    "alpha = np.pi * (0.2)/180\n",
    "beta = 12\n",
    "corr = np.sin(alpha/2) * 2\n",
    "min_sample_1 = 19657\n",
    "min_sample_2 = -2.138\n",
    "min_sample_3 = -100"
   ]
  },
  {
   "cell_type": "code",
   "execution_count": 3,
   "metadata": {},
   "outputs": [
    {
     "output_type": "stream",
     "name": "stderr",
     "text": [
      "100%|██████████| 99/99 [00:06<00:00, 16.10it/s]\n"
     ]
    }
   ],
   "source": [
    "os.chdir(r'/Users/czhui960/Documents/Lidar/to ZHIHUI/USA pkwy')\n",
    "file_path  = os.listdir()[4]\n",
    "multi_tracking = MultiTrackingSystem(iter_n = 100, tolerance= 4,gen_fig= False)\n",
    "multi_tracking.fit_adbgen_pcap(file_path,beta,min_sample_1,min_sample_2,min_sample_3)\n",
    "multi_tracking.batch_tracking()"
   ]
  },
  {
   "cell_type": "code",
   "execution_count": 4,
   "metadata": {},
   "outputs": [],
   "source": [
    "def extract_pcds(tracking_list,obj_id):\n",
    "    pcds = []\n",
    "    for i in range(len(tracking_list[obj_id].point_clouds)):\n",
    "        if type(tracking_list[obj_id].point_clouds[i]) != int:\n",
    "            xy = tracking_list[obj_id].point_clouds[i]\n",
    "            z = tracking_list[obj_id].elevation_intensities[i][:,0].reshape(-1,1)\n",
    "            xyz = np.concatenate([xy,z],axis = 1)\n",
    "            intensity = tracking_list[obj_id].elevation_intensities[i][:,1]\n",
    "            pcd = op3.geometry.PointCloud()\n",
    "            pcd.points = op3.utility.Vector3dVector(xyz)\n",
    "            pcds.append(pcd)\n",
    "    return pcds"
   ]
  },
  {
   "cell_type": "code",
   "execution_count": 5,
   "metadata": {},
   "outputs": [],
   "source": [
    "def show_three_frame_traj(pcds,ind):\n",
    "    start = ind - 1 \n",
    "    end = ind + 1 \n",
    "    if start<0:\n",
    "        start = 0\n",
    "    if end > (len(pcds)-1):\n",
    "        end = len(pcds) - 1\n",
    "    target = pcds[ind]\n",
    "    pcl,_ = target.compute_convex_hull()# convex hull\n",
    "    hull_ls = op3.geometry.LineSet.create_from_triangle_mesh(pcl)\n",
    "    hull_ls.paint_uniform_color((1,0,0))\n",
    "    op3.visualization.draw_geometries([target,hull_ls,pcds[start],pcds[end]])"
   ]
  },
  {
   "cell_type": "code",
   "execution_count": 6,
   "metadata": {},
   "outputs": [],
   "source": [
    "def show_all_traj(pcds):\n",
    "    op3.visualization.draw_geometries(pcds)"
   ]
  },
  {
   "cell_type": "code",
   "execution_count": 7,
   "metadata": {},
   "outputs": [],
   "source": [
    "def is_input_correct(cur_input):\n",
    "    if cur_input == 'y' or cur_input == 'Y' or cur_input == 'n' or cur_input == 'N' or cur_input == 'exit':\n",
    "        return True\n",
    "    else:\n",
    "        return False"
   ]
  },
  {
   "cell_type": "code",
   "execution_count": 14,
   "metadata": {},
   "outputs": [],
   "source": [
    "cur_object_ind = 0 \n",
    "processed_point_clouds_num = 0\n",
    "comfirmed_samples = []\n",
    "labels = [] # 0: car, 1: horse, 2:noise\n",
    "while True:\n",
    "    pcds = extract_pcds(multi_tracking.out_of_tracking_list,cur_object_ind)\n",
    "    show_all_traj(pcds)\n",
    "    cur_input = input('Save All Trackings?:')\n",
    "    correct_input = is_input_correct(cur_input)\n",
    "    if cur_input == 'exit':\n",
    "        break\n",
    "    while correct_input:\n",
    "        correct_input = is_input_correct(cur_input)\n",
    "        print('Wrong Input')\n",
    "        if correct_input:\n",
    "            break\n",
    "    if cur_input == 'y' or cur_input == 'Y':\n",
    "        added_samples = 0\n",
    "        for i in range(len(pcds)):\n",
    "            comfirmed_samples.append(pcds[i])\n",
    "            added_samples += 1\n",
    "        processed_point_clouds_num += added_samples\n",
    "    else:\n",
    "        for i in range(len(pcds)):\n",
    "            show_three_frame_traj(pcds,i)\n",
    "            cur_input = input('Save the Labelled Tracking?:')\n",
    "            while correct_input:\n",
    "                correct_input = is_input_correct(cur_input)\n",
    "                print('Wrong Input')\n",
    "                if correct_input:\n",
    "                    break\n",
    "            if cur_input == 'exit':\n",
    "                break\n",
    "            if cur_input == 'y' or cur_input == 'Y':\n",
    "                comfirmed_samples.append(pcd[i])\n",
    "                processed_point_clouds_num += 1\n",
    "    cur_object_ind+=1\n",
    "\n",
    "                \n",
    "                \n",
    "\n",
    "\n",
    "        "
   ]
  },
  {
   "cell_type": "code",
   "execution_count": null,
   "metadata": {},
   "outputs": [],
   "source": []
  },
  {
   "cell_type": "code",
   "execution_count": null,
   "metadata": {},
   "outputs": [],
   "source": []
  }
 ]
}