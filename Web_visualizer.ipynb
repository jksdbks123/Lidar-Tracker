{
 "cells": [
  {
   "cell_type": "code",
   "execution_count": 1,
   "source": [
    "from MOT import MOT\n",
    "import numpy as np\n",
    "import os\n",
    "from BfTableGenerator import RansacCollector\n",
    "from BfTableGenerator import TDmapLoader\n",
    "from tqdm import tqdm\n",
    "import open3d as op3\n",
    "from open3d.web_visualizer import draw\n",
    "from Utils import *"
   ],
   "outputs": [
    {
     "output_type": "stream",
     "name": "stdout",
     "text": [
      "Jupyter environment detected. Enabling Open3D WebVisualizer.\n",
      "[Open3D INFO] WebRTC GUI backend enabled.\n",
      "[Open3D INFO] WebRTCWindowSystem: HTTP handshake server disabled.\n",
      "[Open3D INFO] Resetting default logger to print to terminal.\n"
     ]
    }
   ],
   "metadata": {}
  },
  {
   "cell_type": "markdown",
   "source": [
    "## Here we load some geometries to test the web visulizaer"
   ],
   "metadata": {}
  },
  {
   "cell_type": "code",
   "execution_count": 2,
   "source": [
    "os.chdir(r'E:/Data/Verteran')\r\n",
    "collector = RansacCollector(pcap_path=r'./Vateran.pcap',update_frame_num=2000)\r\n",
    "collector.gen_tdmap()\r\n",
    "collector.gen_thredmap(d = 1.4,thred_s = 0.7,N = 20,delta_thred = 1e-3,step = 0.01)"
   ],
   "outputs": [
    {
     "output_type": "stream",
     "name": "stdout",
     "text": [
      "Loading pcap...\n"
     ]
    },
    {
     "output_type": "stream",
     "name": "stderr",
     "text": [
      "100%|██████████████████████████████████████████████████████████████████████████████| 2000/2000 [01:41<00:00, 19.79it/s]\n"
     ]
    },
    {
     "output_type": "stream",
     "name": "stdout",
     "text": [
      "Generating Threshold Map\n"
     ]
    }
   ],
   "metadata": {}
  },
  {
   "cell_type": "code",
   "execution_count": 3,
   "source": [
    "def get_pcd_thru_td(Td_map):\r\n",
    "    Xs = []\r\n",
    "    Ys = []\r\n",
    "    Zs = []\r\n",
    "    for i in range(Td_map.shape[0]):\r\n",
    "        longitudes = theta[i]*np.pi / 180\r\n",
    "        latitudes = azimuths * np.pi / 180 \r\n",
    "        hypotenuses = Td_map[i] * np.cos(longitudes)\r\n",
    "        X = hypotenuses * np.sin(latitudes)\r\n",
    "        Y = hypotenuses * np.cos(latitudes)\r\n",
    "        Z = Td_map[i] * np.sin(longitudes)\r\n",
    "        Xs.append(X)\r\n",
    "        Ys.append(Y)\r\n",
    "        Zs.append(Z)\r\n",
    "\r\n",
    "    Xs = np.concatenate(Xs)\r\n",
    "    Ys = np.concatenate(Ys)\r\n",
    "    Zs = np.concatenate(Zs)\r\n",
    "    pcd = op3.geometry.PointCloud()\r\n",
    "    XYZ = np.concatenate([Xs.reshape(-1,1),Ys.reshape(-1,1),Zs.reshape(-1,1)],axis = 1)\r\n",
    "    pcd.points = op3.utility.Vector3dVector(XYZ)\r\n",
    "    \r\n",
    "    return pcd "
   ],
   "outputs": [],
   "metadata": {}
  },
  {
   "cell_type": "code",
   "execution_count": 4,
   "source": [
    "test_td_map = collector.aggregated_map[0]"
   ],
   "outputs": [],
   "metadata": {}
  },
  {
   "cell_type": "code",
   "execution_count": 9,
   "source": [
    "pcd = get_pcd_thru_td(test_td_map)"
   ],
   "outputs": [],
   "metadata": {}
  },
  {
   "cell_type": "code",
   "execution_count": 18,
   "source": [
    "draw([pcd],width = 1000,height = 600)"
   ],
   "outputs": [
    {
     "output_type": "display_data",
     "data": {
      "text/plain": [
       "WebVisualizer(window_uid='window_3')"
      ],
      "application/vnd.jupyter.widget-view+json": {
       "model_id": "5b79f00598474f8c8b80dff07925a214",
       "version_major": 2,
       "version_minor": 0
      }
     },
     "metadata": {}
    }
   ],
   "metadata": {}
  },
  {
   "cell_type": "code",
   "execution_count": 23,
   "source": [
    "draw?"
   ],
   "outputs": [],
   "metadata": {}
  },
  {
   "cell_type": "code",
   "execution_count": 21,
   "source": [
    "Labeled_pcd = op3.io.read_point_cloud(r'E:\\Data\\Verteran\\Output File\\Output Pcd\\000001.pcd')"
   ],
   "outputs": [],
   "metadata": {}
  },
  {
   "cell_type": "code",
   "execution_count": 22,
   "source": [
    "draw([Labeled_pcd],width = 1000,height = 600)"
   ],
   "outputs": [
    {
     "output_type": "display_data",
     "data": {
      "text/plain": [
       "WebVisualizer(window_uid='window_5')"
      ],
      "application/vnd.jupyter.widget-view+json": {
       "model_id": "bfbc1efd6b024a44aef235dd0005f2b7",
       "version_major": 2,
       "version_minor": 0
      }
     },
     "metadata": {}
    }
   ],
   "metadata": {}
  },
  {
   "cell_type": "code",
   "execution_count": null,
   "source": [],
   "outputs": [],
   "metadata": {}
  }
 ],
 "metadata": {
  "interpreter": {
   "hash": "264d4b06b82b4c8c92382c50b2f975f908ac6aaca074b0595d11a5094b145580"
  },
  "kernelspec": {
   "display_name": "Python 3 (ipykernel)",
   "language": "python",
   "name": "python3"
  },
  "language_info": {
   "codemirror_mode": {
    "name": "ipython",
    "version": 3
   },
   "file_extension": ".py",
   "mimetype": "text/x-python",
   "name": "python",
   "nbconvert_exporter": "python",
   "pygments_lexer": "ipython3",
   "version": "3.8.11"
  }
 },
 "nbformat": 4,
 "nbformat_minor": 2
}