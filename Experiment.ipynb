{
 "metadata": {
  "language_info": {
   "codemirror_mode": {
    "name": "ipython",
    "version": 3
   },
   "file_extension": ".py",
   "mimetype": "text/x-python",
   "name": "python",
   "nbconvert_exporter": "python",
   "pygments_lexer": "ipython3",
   "version": "3.7.6-final"
  },
  "orig_nbformat": 2,
  "kernelspec": {
   "name": "python3",
   "display_name": "Python 3.7.6 64-bit",
   "metadata": {
    "interpreter": {
     "hash": "002a65f0af6a9c12889078284297e35806a72fa3393526301801fd9d5118db02"
    }
   }
  }
 },
 "nbformat": 4,
 "nbformat_minor": 2,
 "cells": [
  {
   "cell_type": "code",
   "execution_count": null,
   "metadata": {},
   "outputs": [],
   "source": [
    "from MultiTrackingSystem import MultiTrackingSystem\n",
    "import matplotlib.pyplot as plt\n",
    "import numpy as np\n",
    "import pandas as pd\n",
    "import os\n",
    "import matplotlib.animation as animation"
   ]
  },
  {
   "cell_type": "code",
   "execution_count": null,
   "metadata": {},
   "outputs": [],
   "source": [
    "def show_detected_traj(obj):\n",
    "    plt.figure(figsize=(10,5))\n",
    "    detected_centers = np.concatenate([obj.detected_centers[i].reshape(1,-1) for i in range(len(obj.detected_centers)) if type(obj.detected_centers[i]) != int])\n",
    "    estimated_centers = np.concatenate([obj.estimated_centers[i].reshape(1,-1) for i in range(len(obj.estimated_centers))])\n",
    "    detected_point_clouds = np.concatenate([obj.point_clouds[i] for i in range(len(obj.detected_centers)) if type(obj.detected_centers[i]     ) != int])\n",
    "    detected_box = [obj.bounding_boxes[i] for i in range(len(obj.detected_centers)) if type(obj.detected_centers[i]) != int]\n",
    "    plt.plot(estimated_centers[:,0],estimated_centers[:,1],marker = 'o',label = 'Est')\n",
    "    plt.plot(detected_centers[:,0],detected_centers[:,1], marker = 'x', label = 'Mea')\n",
    "    plt.legend(fontsize = 20)\n",
    "    # plt.scatter(detected_point_clouds[:,0],detected_point_clouds[:,1],s = 3)\n",
    "    # for i in range(len(detected_box)):\n",
    "    #     plt.plot(detected_box[i][:,0],detected_box[i][:,1],c = 'r',alpha = 0.3) # box\n",
    "    #     plt.plot(detected_box[i][[0,-1],0],detected_box[i][[0,-1],1],c = 'r',alpha = 0.3)\n",
    "    plt.show()"
   ]
  },
  {
   "cell_type": "code",
   "execution_count": null,
   "metadata": {},
   "outputs": [],
   "source": [
    "obj = multi_tracking.out_of_tracking_list[57]\n",
    "show_detected_traj(obj)"
   ]
  },
  {
   "cell_type": "code",
   "execution_count": null,
   "metadata": {},
   "outputs": [],
   "source": [
    "\n",
    "from matplotlib import cm\n",
    "from sklearn.cluster import DBSCAN\n",
    "from LidarDBSCAN import AdaptiveDBSCAN"
   ]
  },
  {
   "cell_type": "code",
   "execution_count": null,
   "metadata": {},
   "outputs": [],
   "source": [
    "alpha = np.pi * (0.2)/180\n",
    "beta = 12\n",
    "corr = np.sin(alpha/2) * 2\n",
    "min_sample_1 = 19657\n",
    "min_sample_2 = -2.138\n",
    "min_sample_3 = -100"
   ]
  },
  {
   "cell_type": "code",
   "execution_count": null,
   "metadata": {},
   "outputs": [],
   "source": [
    "os.chdir(r'/Users/czhui960/Documents/Lidar/to ZHIHUI/US 395')\n",
    "file_path  = os.listdir()[-4]\n",
    "multi_tracking = MultiTrackingSystem(50, tolerance= 4,gen_fig= True)\n",
    "multi_tracking.fit_adbgen_pcap(file_path,beta,min_sample_1,min_sample_2,min_sample_3)\n",
    "multi_tracking.batch_tracking()\n",
    "multi_tracking.svae_gif('US')"
   ]
  },
  {
   "source": [
    "## Adbscan Test"
   ],
   "cell_type": "markdown",
   "metadata": {}
  },
  {
   "cell_type": "code",
   "execution_count": 1,
   "metadata": {},
   "outputs": [],
   "source": [
    "a = [1,2,3]"
   ]
  },
  {
   "cell_type": "code",
   "execution_count": 3,
   "metadata": {},
   "outputs": [
    {
     "output_type": "execute_result",
     "data": {
      "text/plain": [
       "[1, 2]"
      ]
     },
     "metadata": {},
     "execution_count": 3
    }
   ],
   "source": [
    "a"
   ]
  },
  {
   "cell_type": "code",
   "execution_count": 2,
   "metadata": {},
   "outputs": [
    {
     "output_type": "execute_result",
     "data": {
      "text/plain": [
       "3"
      ]
     },
     "metadata": {},
     "execution_count": 2
    }
   ],
   "source": [
    "a.pop()"
   ]
  },
  {
   "cell_type": "code",
   "execution_count": null,
   "metadata": {},
   "outputs": [],
   "source": [
    "point_cloud = np.array(pd.read_csv(frame_file_paths[1]).loc[:,['X','Y','distance_m']])\n",
    "x_lim = [-80, 70]\n",
    "y_lim = [-20, 60]\n",
    "alpha = np.pi * (0.2)/180\n",
    "beta = 13\n",
    "corr = np.sin(alpha/2) * 2\n",
    "min_sample_1 = 19657\n",
    "min_sample_2 = -2.138\n",
    "min_sample_3 = 0\n",
    "labels = AdaptiveDBSCAN(beta,min_sample_1,min_sample_2,min_sample_3,delta=0.05,c_min=True).fit_predict(point_cloud)\n",
    "plt.figure(figsize=(20,int(20*((y_lim[1]-y_lim[0])/(x_lim[1]-x_lim[0])))))\n",
    "plt.scatter(point_cloud[:,0],point_cloud[:,1],c = labels,s = 3, cmap = cm.tab20)\n",
    "plt.scatter(point_cloud[:,0][labels==-1],point_cloud[:,1][labels==-1],c = 'r', marker='x')\n",
    "plt.xlim(x_lim)\n",
    "plt.ylim(y_lim)\n",
    "plt.title(r'Adaptive DBSCAN',fontsize = 20)\n",
    "plt.grid()\n",
    "plt.show()\n",
    "label = DBSCAN(eps=3,min_samples=10).fit_predict(X = point_cloud)\n",
    "plt.figure(figsize=(20,int(20*((y_lim[1]-y_lim[0])/(x_lim[1]-x_lim[0])))))\n",
    "plt.scatter(point_cloud[:,0],point_cloud[:,1],c = label,s = 5, cmap = cm.tab20)\n",
    "plt.scatter(point_cloud[:,0][label==-1],point_cloud[:,1][label==-1],c = 'r', marker='x',alpha = 0.5)\n",
    "plt.title(r'Sklearn DBSCAN',fontsize = 20)\n",
    "plt.xlim(x_lim)\n",
    "plt.ylim(y_lim)\n",
    "plt.grid()\n",
    "plt.show()\n",
    "\n"
   ]
  }
 ]
}