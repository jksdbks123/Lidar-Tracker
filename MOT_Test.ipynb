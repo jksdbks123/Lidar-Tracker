{
 "cells": [
  {
   "cell_type": "code",
   "execution_count": 88,
   "id": "82c2d100",
   "metadata": {},
   "outputs": [],
   "source": [
    "import numpy as np\n",
    "import pandas as pd\n",
    "import matplotlib.pyplot as plt\n",
    "from MOT_TR import MOT\n",
    "from Utils import *\n",
    "import os\n",
    "from open3d.web_visualizer import draw"
   ]
  },
  {
   "cell_type": "code",
   "execution_count": 89,
   "id": "7f8d974b",
   "metadata": {},
   "outputs": [
    {
     "name": "stdout",
     "output_type": "stream",
     "text": [
      "Initialization...\n"
     ]
    },
    {
     "name": "stderr",
     "output_type": "stream",
     "text": [
      "100%|███████████████████████████████████████| 2000/2000 [01:24<00:00, 23.75it/s]\n"
     ]
    },
    {
     "name": "stdout",
     "output_type": "stream",
     "text": [
      "Generating Threshold Map\n"
     ]
    },
    {
     "name": "stderr",
     "output_type": "stream",
     "text": [
      "Tracking 2000 frame:  11%|█▉               | 1999/17949 [02:49<28:51,  9.21it/s]"
     ]
    },
    {
     "name": "stdout",
     "output_type": "stream",
     "text": [
      "Generating Threshold Map\n"
     ]
    },
    {
     "name": "stderr",
     "output_type": "stream",
     "text": [
      "Tracking 4000 frame:  22%|███▊             | 3999/17949 [06:08<19:37, 11.85it/s]"
     ]
    },
    {
     "name": "stdout",
     "output_type": "stream",
     "text": [
      "Generating Threshold Map\n"
     ]
    },
    {
     "name": "stderr",
     "output_type": "stream",
     "text": [
      "Tracking 6000 frame:  33%|█████▋           | 5999/17949 [09:12<23:59,  8.30it/s]"
     ]
    },
    {
     "name": "stdout",
     "output_type": "stream",
     "text": [
      "Generating Threshold Map\n"
     ]
    },
    {
     "name": "stderr",
     "output_type": "stream",
     "text": [
      "Tracking 8000 frame:  45%|███████▌         | 7999/17949 [12:26<16:28, 10.06it/s]"
     ]
    },
    {
     "name": "stdout",
     "output_type": "stream",
     "text": [
      "Generating Threshold Map\n"
     ]
    },
    {
     "name": "stderr",
     "output_type": "stream",
     "text": [
      "Tracking 10000 frame:  56%|████████▉       | 9999/17949 [15:53<15:59,  8.29it/s]"
     ]
    },
    {
     "name": "stdout",
     "output_type": "stream",
     "text": [
      "Generating Threshold Map\n"
     ]
    },
    {
     "name": "stderr",
     "output_type": "stream",
     "text": [
      "Tracking 12000 frame:  67%|██████████     | 11999/17949 [19:45<11:02,  8.98it/s]"
     ]
    },
    {
     "name": "stdout",
     "output_type": "stream",
     "text": [
      "Generating Threshold Map\n"
     ]
    },
    {
     "name": "stderr",
     "output_type": "stream",
     "text": [
      "Tracking 14000 frame:  78%|███████████▋   | 13999/17949 [23:13<07:57,  8.28it/s]"
     ]
    },
    {
     "name": "stdout",
     "output_type": "stream",
     "text": [
      "Generating Threshold Map\n"
     ]
    },
    {
     "name": "stderr",
     "output_type": "stream",
     "text": [
      "Tracking 16000 frame:  89%|█████████████▎ | 15998/17949 [26:41<03:05, 10.50it/s]"
     ]
    },
    {
     "name": "stdout",
     "output_type": "stream",
     "text": [
      "Generating Threshold Map\n"
     ]
    },
    {
     "name": "stderr",
     "output_type": "stream",
     "text": [
      "Tracking 17949 frame: 100%|███████████████| 17949/17949 [29:47<00:00, 10.04it/s]\n"
     ]
    }
   ],
   "source": [
    "params = {\n",
    "    'd':1.2,\n",
    "    'thred_s':0.3,\n",
    "    'N':20,\n",
    "    'delta_thred' : 1e-3,\n",
    "    'step':0.1,\n",
    "    'win_size':(5,15),\n",
    "    'eps': 1.6,\n",
    "    'min_samples':20,\n",
    "    'missing_thred':60,\n",
    "    'ending_frame' : 17950,\n",
    "    'background_update_frame':2000,\n",
    "    'save_pcd' : 'Unfiltered',\n",
    "    'save_Azimuth_Laser_info' : False,\n",
    "    'result_type':'merged'\n",
    "\n",
    "}\n",
    "\n",
    "input_path = '../RawLidarData/Veteran'\n",
    "dir_lis = os.listdir(input_path)\n",
    "pcap_path = 'None'\n",
    "for f in dir_lis:\n",
    "    if 'pcap' in f.split('.'):\n",
    "        pcap_path = os.path.join(input_path,f)\n",
    "if pcap_path == 'None':\n",
    "    print('Pcap file is not detected')\n",
    "output_file_path = '../RawLidarData/Veteran'\n",
    "config_path = os.path.join(input_path,'config.json')\n",
    "ref_LLH_path,ref_xyz_path = os.path.join(input_path,'LLE_ref.csv'),os.path.join(input_path,'xyz_ref.csv')\n",
    "ref_LLH,ref_xyz = np.array(pd.read_csv(ref_LLH_path)),np.array(pd.read_csv(ref_xyz_path))\n",
    "ref_LLH[:,[0,1]] = ref_LLH[:,[0,1]] * np.pi/180\n",
    "ref_LLH[:,2] = ref_LLH[:,2]/3.2808\n",
    "\n",
    "mot = MOT(pcap_path,output_file_path,**params)\n",
    "mot.initialization()\n",
    "mot.mot_tracking(A,P,H,Q,R)"
   ]
  },
  {
   "cell_type": "code",
   "execution_count": 3,
   "id": "ed2f8c2c",
   "metadata": {},
   "outputs": [],
   "source": [
    "Q = np.diag([1,1,0.1,0.1,0.001,0.001])\n",
    "R = np.diag([10,10])\n",
    "P_em = np.diag([10,10,0.1,0.1,0.001,0.001])\n",
    "P_em = np.full((2,P_em.shape[0],P_em.shape[1]),P_em)\n"
   ]
  },
  {
   "cell_type": "code",
   "execution_count": 7,
   "id": "044918eb",
   "metadata": {},
   "outputs": [],
   "source": [
    "def evaluate(key,P_em,R,Q):\n",
    "    ind = key\n",
    "    traj_mea_ = mot.Off_tracking_pool[ind].mea_seq\n",
    "    traj_mea = []\n",
    "    for i,s in enumerate(traj_mea_):\n",
    "        if type(s) != int:\n",
    "            traj_mea.append(s)\n",
    "    traj_mea = np.array(traj_mea)\n",
    "    traj_post = mot.Off_tracking_pool[ind].post_seq\n",
    "    traj_post = np.array(traj_post)\n",
    "    mea_init = traj_mea[0]\n",
    "    n_repr = mea_init.shape[0]\n",
    "    n_offset_dim = A.shape[0] - mea_init.shape[1]\n",
    "    state_init = np.concatenate([mea_init.reshape(-1,n_repr,2,1),np.zeros((1,n_repr,n_offset_dim,1))],axis = 2)\n",
    "    state_cur = state_init\n",
    "    # P_em = np.full((2,P_em.shape[0],P_em.shape[1]),P_em)\n",
    "    P_init = P_em.copy()\n",
    "    P_cur = P_init\n",
    "    total_loss = []\n",
    "    his_state_pred,his_P_pred = [],[]\n",
    "    his_state_est,his_P_est = [],[]\n",
    "\n",
    "    for i in range(len(traj_mea)):\n",
    "        mea_next = traj_mea[i]\n",
    "        if type(mea_next) != int:\n",
    "            state_pred,P_pred = state_predict(A,Q,state_cur,P_cur)\n",
    "            total_loss.append(np.sqrt(np.sum((mea_next - state_pred[:,:,:2]))**2))\n",
    "            state_cur,P_cur = state_update(A,H,state_pred,P_pred,R,mea_next)\n",
    "            his_state_pred.append(state_pred)\n",
    "            his_P_pred.append(P_pred)\n",
    "            his_state_est.append(state_cur)\n",
    "            his_P_est.append(P_cur)\n",
    "        else:\n",
    "            state_cur,P_cur = state_predict(A,Q,state_cur,P_cur)\n",
    "            his_state_pred.append(state_cur)\n",
    "            his_P_pred.append(P_cur)\n",
    "            his_state_est.append(state_cur)\n",
    "            his_P_est.append(P_cur)\n",
    "    his_state_pred,his_P_pred = np.array(his_state_pred),np.array(his_P_pred)\n",
    "    his_state_est,his_P_est = np.array(his_state_est),np.array(his_P_est)\n",
    "    \n",
    "    return np.mean(total_loss)"
   ]
  },
  {
   "cell_type": "code",
   "execution_count": 95,
   "id": "d21ba7de",
   "metadata": {},
   "outputs": [],
   "source": [
    "Q = np.diag([1,1,0.3,0.3,0.001,0.001])\n",
    "R = np.diag([0.01,0.01])\n",
    "P_em = np.diag([0.1,0.1,0.3,0.3,0.01,0.01])\n",
    "P_em = np.full((2,P_em.shape[0],P_em.shape[1]),P_em)"
   ]
  },
  {
   "cell_type": "code",
   "execution_count": 96,
   "id": "9608daef",
   "metadata": {},
   "outputs": [
    {
     "name": "stdout",
     "output_type": "stream",
     "text": [
      "1.503961924182033\n"
     ]
    },
    {
     "data": {
      "text/plain": [
       "(array([1.033e+03, 3.790e+02, 1.700e+02, 2.400e+01, 1.400e+01, 4.000e+00,\n",
       "        0.000e+00, 1.000e+00, 0.000e+00, 1.000e+00]),\n",
       " array([ 0.        ,  1.48278139,  2.96556278,  4.44834417,  5.93112555,\n",
       "         7.41390694,  8.89668833, 10.37946972, 11.86225111, 13.3450325 ,\n",
       "        14.82781388]),\n",
       " <BarContainer object of 10 artists>)"
      ]
     },
     "execution_count": 96,
     "metadata": {},
     "output_type": "execute_result"
    },
    {
     "data": {
      "image/png": "[encoded data removed]",
      "text/plain": [
       "<Figure size 432x288 with 1 Axes>"
      ]
     },
     "metadata": {
      "needs_background": "light"
     },
     "output_type": "display_data"
    }
   ],
   "source": [
    "results = []\n",
    "for key in mot.Off_tracking_pool.keys():\n",
    "    results.append(evaluate(key,P_em,R,Q))\n",
    "print(np.mean(results))\n",
    "plt.hist(results)"
   ]
  },
  {
   "cell_type": "code",
   "execution_count": 17,
   "id": "f973ebaa",
   "metadata": {
    "scrolled": false
   },
   "outputs": [
    {
     "data": {
      "image/png": "[encoded data removed]",
      "text/plain": [
       "<Figure size 720x720 with 1 Axes>"
      ]
     },
     "metadata": {
      "needs_background": "light"
     },
     "output_type": "display_data"
    }
   ],
   "source": [
    "plt.figure(figsize = (10,10))\n",
    "plt.plot(his_state_pred[:,0,0,0,0],his_state_pred[:,0,0,1,0])\n",
    "plt.plot(his_state_est[:,0,0,0,0],his_state_est[:,0,0,1,0])\n",
    "# plot([his_state_pred[:,0,0,0,0],his_state_est[:,0,0,0,0]],[his_state_pred[:,0,0,1,0],his_state_est[:,0,0,1,0]],linewidth = 3,c = 'r')\n",
    "# plt.plot(his_state_pred[:,0,1,0,0],his_state_pred[:,0,1,1,0],marker = 'x')\n",
    "plt.show()\n",
    "# plt.plot(traj_mea[:,0,0:],)"
   ]
  },
  {
   "cell_type": "code",
   "execution_count": null,
   "id": "0c709297",
   "metadata": {},
   "outputs": [],
   "source": []
  }
 ],
 "metadata": {
  "interpreter": {
   "hash": "428af0a06c439d69f52a48aa4958f78cb16efaa9bdbd0a93aa265897dd843b23"
  },
  "kernelspec": {
   "display_name": "Python 3 (ipykernel)",
   "language": "python",
   "name": "python3"
  },
  "language_info": {
   "codemirror_mode": {
    "name": "ipython",
    "version": 3
   },
   "file_extension": ".py",
   "mimetype": "text/x-python",
   "name": "python",
   "nbconvert_exporter": "python",
   "pygments_lexer": "ipython3",
   "version": "3.7.11"
  }
 },
 "nbformat": 4,
 "nbformat_minor": 5
}
