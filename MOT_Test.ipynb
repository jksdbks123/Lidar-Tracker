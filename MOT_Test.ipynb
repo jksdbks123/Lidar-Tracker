{
 "cells": [
  {
   "cell_type": "code",
   "execution_count": 1,
   "id": "82c2d100",
   "metadata": {},
   "outputs": [
    {
     "name": "stdout",
     "output_type": "stream",
     "text": [
      "Jupyter environment detected. Enabling Open3D WebVisualizer.\n",
      "[Open3D INFO] WebRTC GUI backend enabled.\n",
      "[Open3D INFO] WebRTCWindowSystem: HTTP handshake server disabled.\n",
      "[Open3D INFO] Resetting default logger to print to terminal.\n"
     ]
    }
   ],
   "source": [
    "import numpy as np\n",
    "import pandas as pd\n",
    "import matplotlib.pyplot as plt\n",
    "from MOT_TR import MOT\n",
    "from Utils import *\n",
    "import os\n",
    "from open3d.web_visualizer import draw"
   ]
  },
  {
   "cell_type": "code",
   "execution_count": 126,
   "id": "7f8d974b",
   "metadata": {
    "scrolled": true
   },
   "outputs": [
    {
     "name": "stdout",
     "output_type": "stream",
     "text": [
      "Initialization...\n"
     ]
    },
    {
     "name": "stderr",
     "output_type": "stream",
     "text": [
      "100%|██████████████████████████████████████████████████████████████████████████████| 2000/2000 [01:58<00:00, 16.92it/s]\n"
     ]
    },
    {
     "name": "stdout",
     "output_type": "stream",
     "text": [
      "Generating Threshold Map\n"
     ]
    },
    {
     "name": "stderr",
     "output_type": "stream",
     "text": [
      "Tracking 2000 frame:  11%|██████▏                                                 | 1999/17949 [03:40<32:27,  8.19it/s]"
     ]
    },
    {
     "name": "stdout",
     "output_type": "stream",
     "text": [
      "Generating Threshold Map\n"
     ]
    },
    {
     "name": "stderr",
     "output_type": "stream",
     "text": [
      "Tracking 4000 frame:  22%|████████████▍                                           | 3999/17949 [07:37<28:01,  8.30it/s]"
     ]
    },
    {
     "name": "stdout",
     "output_type": "stream",
     "text": [
      "Generating Threshold Map\n"
     ]
    },
    {
     "name": "stderr",
     "output_type": "stream",
     "text": [
      "Tracking 6000 frame:  33%|██████████████████▋                                     | 5999/17949 [11:30<23:25,  8.50it/s]"
     ]
    },
    {
     "name": "stdout",
     "output_type": "stream",
     "text": [
      "Generating Threshold Map\n"
     ]
    },
    {
     "name": "stderr",
     "output_type": "stream",
     "text": [
      "Tracking 8000 frame:  45%|████████████████████████▉                               | 7999/17949 [15:24<19:38,  8.45it/s]"
     ]
    },
    {
     "name": "stdout",
     "output_type": "stream",
     "text": [
      "Generating Threshold Map\n"
     ]
    },
    {
     "name": "stderr",
     "output_type": "stream",
     "text": [
      "Tracking 10000 frame:  56%|██████████████████████████████▋                        | 9999/17949 [19:15<17:45,  7.46it/s]"
     ]
    },
    {
     "name": "stdout",
     "output_type": "stream",
     "text": [
      "Generating Threshold Map\n"
     ]
    },
    {
     "name": "stderr",
     "output_type": "stream",
     "text": [
      "Tracking 12000 frame:  67%|████████████████████████████████████                  | 11999/17949 [23:03<11:48,  8.40it/s]"
     ]
    },
    {
     "name": "stdout",
     "output_type": "stream",
     "text": [
      "Generating Threshold Map\n"
     ]
    },
    {
     "name": "stderr",
     "output_type": "stream",
     "text": [
      "Tracking 14000 frame:  78%|██████████████████████████████████████████            | 13999/17949 [26:51<07:20,  8.97it/s]"
     ]
    },
    {
     "name": "stdout",
     "output_type": "stream",
     "text": [
      "Generating Threshold Map\n"
     ]
    },
    {
     "name": "stderr",
     "output_type": "stream",
     "text": [
      "Tracking 14551 frame:  81%|███████████████████████████████████████████▊          | 14550/17949 [27:58<06:32,  8.67it/s]\n"
     ]
    },
    {
     "ename": "KeyboardInterrupt",
     "evalue": "",
     "output_type": "error",
     "traceback": [
      "\u001b[1;31m---------------------------------------------------------------------------\u001b[0m",
      "\u001b[1;31mKeyboardInterrupt\u001b[0m                         Traceback (most recent call last)",
      "\u001b[1;32m~\\AppData\\Local\\Temp/ipykernel_11260/1364829205.py\u001b[0m in \u001b[0;36m<module>\u001b[1;34m\u001b[0m\n\u001b[0;32m     34\u001b[0m \u001b[0mmot\u001b[0m \u001b[1;33m=\u001b[0m \u001b[0mMOT\u001b[0m\u001b[1;33m(\u001b[0m\u001b[0mpcap_path\u001b[0m\u001b[1;33m,\u001b[0m\u001b[0moutput_file_path\u001b[0m\u001b[1;33m,\u001b[0m\u001b[1;33m**\u001b[0m\u001b[0mparams\u001b[0m\u001b[1;33m)\u001b[0m\u001b[1;33m\u001b[0m\u001b[1;33m\u001b[0m\u001b[0m\n\u001b[0;32m     35\u001b[0m \u001b[0mmot\u001b[0m\u001b[1;33m.\u001b[0m\u001b[0minitialization\u001b[0m\u001b[1;33m(\u001b[0m\u001b[1;33m)\u001b[0m\u001b[1;33m\u001b[0m\u001b[1;33m\u001b[0m\u001b[0m\n\u001b[1;32m---> 36\u001b[1;33m \u001b[0mmot\u001b[0m\u001b[1;33m.\u001b[0m\u001b[0mmot_tracking\u001b[0m\u001b[1;33m(\u001b[0m\u001b[0mA\u001b[0m\u001b[1;33m,\u001b[0m\u001b[0mP\u001b[0m\u001b[1;33m,\u001b[0m\u001b[0mH\u001b[0m\u001b[1;33m,\u001b[0m\u001b[0mQ\u001b[0m\u001b[1;33m,\u001b[0m\u001b[0mR\u001b[0m\u001b[1;33m)\u001b[0m\u001b[1;33m\u001b[0m\u001b[1;33m\u001b[0m\u001b[0m\n\u001b[0m",
      "\u001b[1;32mE:\\Lidar-Tracker\\Lidar-Tracker\\MOT_TR.py\u001b[0m in \u001b[0;36mmot_tracking\u001b[1;34m(self, A, P_em, H, Q, R)\u001b[0m\n\u001b[0;32m    135\u001b[0m \u001b[1;33m\u001b[0m\u001b[0m\n\u001b[0;32m    136\u001b[0m             \u001b[1;31m# read next data\u001b[0m\u001b[1;33m\u001b[0m\u001b[1;33m\u001b[0m\u001b[1;33m\u001b[0m\u001b[0m\n\u001b[1;32m--> 137\u001b[1;33m             \u001b[0mTd_map\u001b[0m \u001b[1;33m=\u001b[0m \u001b[0mnext\u001b[0m\u001b[1;33m(\u001b[0m\u001b[0mframe_gen\u001b[0m\u001b[1;33m)\u001b[0m\u001b[1;33m\u001b[0m\u001b[1;33m\u001b[0m\u001b[0m\n\u001b[0m\u001b[0;32m    138\u001b[0m             \u001b[0maggregated_maps\u001b[0m\u001b[1;33m.\u001b[0m\u001b[0mappend\u001b[0m\u001b[1;33m(\u001b[0m\u001b[0mTd_map\u001b[0m\u001b[1;33m)\u001b[0m\u001b[1;33m\u001b[0m\u001b[1;33m\u001b[0m\u001b[0m\n\u001b[0;32m    139\u001b[0m             \u001b[0mForeground_map\u001b[0m \u001b[1;33m=\u001b[0m \u001b[1;33m(\u001b[0m\u001b[0mTd_map\u001b[0m \u001b[1;33m<\u001b[0m \u001b[0mself\u001b[0m\u001b[1;33m.\u001b[0m\u001b[0mthred_map\u001b[0m\u001b[1;33m)\u001b[0m\u001b[1;33m&\u001b[0m\u001b[1;33m(\u001b[0m\u001b[0mTd_map\u001b[0m \u001b[1;33m!=\u001b[0m \u001b[1;36m0\u001b[0m\u001b[1;33m)\u001b[0m\u001b[1;33m\u001b[0m\u001b[1;33m\u001b[0m\u001b[0m\n",
      "\u001b[1;32mE:\\Lidar-Tracker\\Lidar-Tracker\\BfTableGenerator.py\u001b[0m in \u001b[0;36mframe_gen\u001b[1;34m(self)\u001b[0m\n\u001b[0;32m    272\u001b[0m                         \u001b[1;32mcontinue\u001b[0m\u001b[1;33m\u001b[0m\u001b[1;33m\u001b[0m\u001b[0m\n\u001b[0;32m    273\u001b[0m                     \u001b[1;31m# 32,12, 32,12, （12，） azi\u001b[0m\u001b[1;33m\u001b[0m\u001b[1;33m\u001b[0m\u001b[1;33m\u001b[0m\u001b[0m\n\u001b[1;32m--> 274\u001b[1;33m                     \u001b[0mdistances\u001b[0m\u001b[1;33m,\u001b[0m\u001b[0mintensities\u001b[0m\u001b[1;33m,\u001b[0m\u001b[0mazimuth_per_block\u001b[0m \u001b[1;33m=\u001b[0m \u001b[0mself\u001b[0m\u001b[1;33m.\u001b[0m\u001b[0mparse_one_packet\u001b[0m\u001b[1;33m(\u001b[0m\u001b[0mdata\u001b[0m\u001b[1;33m)\u001b[0m\u001b[1;33m\u001b[0m\u001b[1;33m\u001b[0m\u001b[0m\n\u001b[0m\u001b[0;32m    275\u001b[0m                     \u001b[0mazimuth\u001b[0m \u001b[1;33m=\u001b[0m \u001b[0mself\u001b[0m\u001b[1;33m.\u001b[0m\u001b[0mcalc_precise_azimuth\u001b[0m\u001b[1;33m(\u001b[0m\u001b[0mazimuth_per_block\u001b[0m\u001b[1;33m)\u001b[0m \u001b[1;31m# 32 x 12\u001b[0m\u001b[1;33m\u001b[0m\u001b[1;33m\u001b[0m\u001b[0m\n\u001b[0;32m    276\u001b[0m \u001b[1;33m\u001b[0m\u001b[0m\n",
      "\u001b[1;32mE:\\Lidar-Tracker\\Lidar-Tracker\\BfTableGenerator.py\u001b[0m in \u001b[0;36mparse_one_packet\u001b[1;34m(self, data)\u001b[0m\n\u001b[0;32m    239\u001b[0m \u001b[1;33m\u001b[0m\u001b[0m\n\u001b[0;32m    240\u001b[0m         \u001b[0mazimuth_per_block\u001b[0m \u001b[1;33m=\u001b[0m \u001b[0mnp\u001b[0m\u001b[1;33m.\u001b[0m\u001b[0marray\u001b[0m\u001b[1;33m(\u001b[0m\u001b[0mazimuth_per_block\u001b[0m\u001b[1;33m)\u001b[0m\u001b[1;33m.\u001b[0m\u001b[0mT\u001b[0m\u001b[1;33m\u001b[0m\u001b[1;33m\u001b[0m\u001b[0m\n\u001b[1;32m--> 241\u001b[1;33m         \u001b[0mdistances\u001b[0m \u001b[1;33m=\u001b[0m \u001b[1;36m4\u001b[0m\u001b[1;33m/\u001b[0m\u001b[1;36m1000\u001b[0m\u001b[1;33m*\u001b[0m\u001b[0mnp\u001b[0m\u001b[1;33m.\u001b[0m\u001b[0marray\u001b[0m\u001b[1;33m(\u001b[0m\u001b[0mdistances\u001b[0m\u001b[1;33m)\u001b[0m\u001b[1;33m.\u001b[0m\u001b[0mT\u001b[0m \u001b[1;31m# 32,12\u001b[0m\u001b[1;33m\u001b[0m\u001b[1;33m\u001b[0m\u001b[0m\n\u001b[0m\u001b[0;32m    242\u001b[0m         \u001b[0mintensities\u001b[0m \u001b[1;33m=\u001b[0m \u001b[0mnp\u001b[0m\u001b[1;33m.\u001b[0m\u001b[0marray\u001b[0m\u001b[1;33m(\u001b[0m\u001b[0mintensities\u001b[0m\u001b[1;33m)\u001b[0m\u001b[1;33m.\u001b[0m\u001b[0mT\u001b[0m \u001b[1;31m# 32,12\u001b[0m\u001b[1;33m\u001b[0m\u001b[1;33m\u001b[0m\u001b[0m\n\u001b[0;32m    243\u001b[0m \u001b[1;33m\u001b[0m\u001b[0m\n",
      "\u001b[1;31mKeyboardInterrupt\u001b[0m: "
     ]
    }
   ],
   "source": [
    "params = {\n",
    "    'd':1,\n",
    "    'thred_s':0.3,\n",
    "    'N':20,\n",
    "    'delta_thred' : 1e-3,\n",
    "    'step':0.1,\n",
    "    'win_size':(5,13),\n",
    "    'eps': 1.6,\n",
    "    'min_samples':15,\n",
    "    'missing_thred':60,\n",
    "    'ending_frame' : 17950,\n",
    "    'background_update_frame':2000,\n",
    "    'save_pcd' : 'Unfiltered',\n",
    "    'save_Azimuth_Laser_info' : False,\n",
    "    'result_type':'merged'\n",
    "\n",
    "}\n",
    "\n",
    "input_path = '../RawLidarData/McCarranEvans_Train/'\n",
    "dir_lis = os.listdir(input_path)\n",
    "pcap_path = 'None'\n",
    "for f in dir_lis:\n",
    "    if 'pcap' in f.split('.'):\n",
    "        pcap_path = os.path.join(input_path,f)\n",
    "if pcap_path == 'None':\n",
    "    print('Pcap file is not detected')\n",
    "output_file_path = '../RawLidarData/McCarranEvans_Train/'\n",
    "config_path = os.path.join(input_path,'config.json')\n",
    "ref_LLH_path,ref_xyz_path = os.path.join(input_path,'LLE_ref.csv'),os.path.join(input_path,'xyz_ref.csv')\n",
    "ref_LLH,ref_xyz = np.array(pd.read_csv(ref_LLH_path)),np.array(pd.read_csv(ref_xyz_path))\n",
    "ref_LLH[:,[0,1]] = ref_LLH[:,[0,1]] * np.pi/180\n",
    "ref_LLH[:,2] = ref_LLH[:,2]/3.2808\n",
    "\n",
    "mot = MOT(pcap_path,output_file_path,**params)\n",
    "mot.initialization()\n",
    "mot.mot_tracking(A,P,H,Q,R)"
   ]
  },
  {
   "cell_type": "code",
   "execution_count": 127,
   "id": "ed2f8c2c",
   "metadata": {},
   "outputs": [],
   "source": [
    "Q = np.diag([1,1,0.1,0.1,0.001,0.001])\n",
    "R = np.diag([10,10])\n",
    "P_em = np.diag([10,10,0.1,0.1,0.001,0.001])\n",
    "P_em = np.full((2,P_em.shape[0],P_em.shape[1]),P_em)\n"
   ]
  },
  {
   "cell_type": "code",
   "execution_count": 128,
   "id": "044918eb",
   "metadata": {},
   "outputs": [],
   "source": [
    "def evaluate(key,P_em,R,Q):\n",
    "    ind = key\n",
    "    traj_mea = mot.Off_tracking_pool[ind].mea_seq\n",
    "#     traj_mea = []\n",
    "#     for i,s in enumerate(traj_mea_):\n",
    "#         if type(s) != int:\n",
    "#             traj_mea.append(s)\n",
    "#     traj_mea = np.array(traj_mea)\n",
    "    traj_post = mot.Off_tracking_pool[ind].post_seq\n",
    "    traj_post = np.array(traj_post,dtype=object)\n",
    "    mea_init = traj_mea[0]\n",
    "    n_repr = mea_init.shape[0]\n",
    "    n_offset_dim = A.shape[0] - mea_init.shape[1]\n",
    "    state_init = np.concatenate([mea_init.reshape(-1,n_repr,2,1),np.zeros((1,n_repr,n_offset_dim,1))],axis = 2)\n",
    "    state_cur = state_init\n",
    "    # P_em = np.full((2,P_em.shape[0],P_em.shape[1]),P_em)\n",
    "    P_init = P_em.copy()\n",
    "    P_cur = P_init\n",
    "    total_loss = []\n",
    "    his_state_pred,his_P_pred = [],[]\n",
    "    his_state_est,his_P_est = [],[]\n",
    "\n",
    "    for i in range(len(traj_mea)):\n",
    "        mea_next = traj_mea[i]\n",
    "        if type(mea_next) != int:\n",
    "            state_pred,P_pred = state_predict(A,Q,state_cur,P_cur)\n",
    "            total_loss.append(np.sqrt(np.sum((mea_next - state_pred[:,:,:2]))**2))\n",
    "            state_cur,P_cur = state_update(A,H,state_pred,P_pred,R,mea_next)\n",
    "            his_state_pred.append(state_pred[0])\n",
    "            his_P_pred.append(P_pred)\n",
    "            his_state_est.append(state_cur[0])\n",
    "            his_P_est.append(P_cur)\n",
    "        else:\n",
    "            state_cur,P_cur = state_predict(A,Q,state_cur,P_cur)\n",
    "            his_state_pred.append(state_cur)\n",
    "            his_P_pred.append(P_cur)\n",
    "            his_state_est.append(state_cur)\n",
    "            his_P_est.append(P_cur)\n",
    "    his_state_pred,his_P_pred = np.array(his_state_pred,dtype=object),np.array(his_P_pred,dtype=object)\n",
    "    his_state_est,his_P_est = np.array(his_state_est,dtype=object),np.array(his_P_est,dtype=object)\n",
    "    \n",
    "    return np.mean(total_loss),his_state_pred,traj_mea"
   ]
  },
  {
   "cell_type": "code",
   "execution_count": 129,
   "id": "d21ba7de",
   "metadata": {},
   "outputs": [],
   "source": [
    "Q = np.diag([1,1,0.1,0.1,0.001,0.001])\n",
    "R = np.diag([0.01,0.01])\n",
    "P_em = np.diag([0.1,0.1,0.3,0.3,0.01,0.01])\n",
    "P_em = np.full((2,P_em.shape[0],P_em.shape[1]),P_em)"
   ]
  },
  {
   "cell_type": "code",
   "execution_count": 136,
   "id": "52fd4039",
   "metadata": {
    "collapsed": true
   },
   "outputs": [
    {
     "data": {
      "text/plain": [
       "dict_keys([1, 11, 36, 78, 84, 80, 81, 82, 83, 79, 92, 88, 89, 94, 95, 103, 102, 111, 110, 113, 117, 104, 120, 121, 115, 123, 124, 122, 128, 116, 125, 139, 129, 131, 135, 134, 137, 146, 142, 132, 143, 136, 141, 147, 148, 149, 155, 150, 159, 160, 158, 165, 167, 182, 178, 166, 180, 184, 188, 192, 181, 170, 183, 190, 195, 196, 211, 179, 302, 303, 197, 198, 305, 308, 339, 336, 338, 312, 341, 342, 340, 344, 345, 348, 349, 351, 362, 347, 363, 346, 350, 364, 369, 370, 368, 367, 372, 383, 376, 373, 400, 371, 410, 405, 404, 425, 413, 414, 416, 421, 412, 408, 409, 429, 430, 418, 544, 611, 639, 644, 640, 601, 641, 527, 615, 646, 642, 643, 1082, 1086, 651, 805, 1091, 1093, 1087, 1108, 1088, 1110, 1098, 1105, 1111, 1109, 1114, 1112, 1118, 1116, 1119, 1104, 1126, 1128, 1124, 1123, 1171, 1172, 1129, 1125, 1297, 1234, 1253, 1106, 1328, 1278, 1285, 1339, 1318, 1173, 1191, 1195, 1332, 1336, 1349, 1340, 1342, 1341, 1344, 1353, 1350, 1352, 1354, 1358, 1343, 1363, 1369, 1371, 1368, 1374, 1372, 1375, 1397, 1383, 1409, 1411, 1412, 1393, 1413, 1401, 1402, 1396, 1398, 1377, 1419, 1408, 1430, 1404, 1414, 1429, 1435, 1441, 1442, 1438, 1449, 1450, 1428, 1432, 1433, 1434, 1437, 1453, 1458, 1440, 1443, 1444, 1474, 1467, 1464, 1454, 1465, 1459, 1456, 1447, 1451, 1452, 1482, 1484, 1489, 1488, 1490, 1498, 1495, 1496, 1502, 1497, 1503, 1512, 1511, 1537, 1544, 1556, 1563, 1576, 1577, 1574, 1595, 1578, 1611, 1589, 1603, 1593, 1619, 1590, 1600, 1643, 1621, 1625, 1651, 1641, 1649, 1645, 1646, 1628, 1639, 1657, 1667, 1648, 1637, 1591, 1634, 1644, 1626, 1638, 1642, 1656, 1652, 1654, 1692, 1681, 1730, 1664, 1732, 1661, 1662, 1669, 1734, 1680, 1736, 1720, 1763, 1827, 1759, 1891, 1704, 1705, 1884, 1882, 1885, 1898, 1893, 1753, 1908, 1832, 1917, 1903, 1894, 1943, 1957, 1948, 1950, 1964, 1955, 1979, 1986, 1990, 2075, 2079, 2017, 2119, 2125, 2141, 1995, 1983, 2051, 2098, 2144, 2077, 2114, 2113, 2146, 2053, 2207, 2247, 2255, 2095, 2298, 2285, 2367, 2347, 2418, 2443, 2099, 2143, 2469, 2575, 2588, 2457, 2430, 2578, 2616, 2584, 2610, 2625, 2640, 2645, 2646, 2662, 2663, 2667, 2672, 2657, 2711, 2665, 2731, 2734, 2732, 2756, 2765, 2796, 2757, 2799, 2752, 2766, 2778, 2802, 2806, 2826, 2836, 2849, 2847, 2850, 2866, 2846, 2873, 2874, 2877, 2879, 2919, 2926, 2927, 2929, 2923, 2935, 2938, 2930, 2942, 2933, 2979, 2982, 2983, 2984, 2985, 2986, 2987, 2988, 2989, 2990, 2955, 2993, 2994, 2964, 3000, 2991, 3001, 2998, 2975, 2995, 2992, 3008, 3002, 3006, 2997, 3018, 3019, 3020, 3022, 3024, 3030, 3073, 3084, 3134, 3142, 3152, 3144, 3148, 3143, 3154, 3146, 3165, 3169, 3172, 3171, 3162, 3191, 3244, 3181, 3270, 3293, 3300, 3164, 3161, 3249, 3302, 3349, 3367, 3370, 3420, 3423, 3501, 3625, 3629, 3312, 3577, 3640, 3661, 3567, 3664, 3586, 3655, 3665, 3626, 3681, 3675, 3642, 3698, 3637, 3644, 3754, 3703, 3759, 3760, 3762, 3764, 3716, 3761, 3768, 3776, 3765, 3778, 3775, 3680, 3758, 3789, 3798, 3810, 3820, 3919, 3944, 4024, 4389, 4373, 4406, 4404, 4284, 4394, 4415, 4419, 4429, 4479, 4658, 4657, 4665, 4671, 4752, 4676, 4709, 4751, 4756, 4755, 4757, 4753, 4744, 4762, 4760, 4764, 4724, 4763, 4766, 4734, 4754, 4761])"
      ]
     },
     "execution_count": 136,
     "metadata": {},
     "output_type": "execute_result"
    }
   ],
   "source": [
    "mot.Off_tracking_pool.keys()"
   ]
  },
  {
   "cell_type": "code",
   "execution_count": 130,
   "id": "9608daef",
   "metadata": {},
   "outputs": [
    {
     "name": "stdout",
     "output_type": "stream",
     "text": [
      "0.6895685862194836\n"
     ]
    },
    {
     "data": {
      "text/plain": [
       "(array([519.,  13.,   4.,   1.,   0.,   0.,   0.,   0.,   0.,   1.]),\n",
       " array([ 0.        ,  1.85340234,  3.70680467,  5.56020701,  7.41360934,\n",
       "         9.26701168, 11.12041401, 12.97381635, 14.82721868, 16.68062102,\n",
       "        18.53402335]),\n",
       " <BarContainer object of 10 artists>)"
      ]
     },
     "execution_count": 130,
     "metadata": {},
     "output_type": "execute_result"
    },
    {
     "data": {
      "image/png": "[encoded data removed]",
      "text/plain": [
       "<Figure size 432x288 with 1 Axes>"
      ]
     },
     "metadata": {
      "needs_background": "light"
     },
     "output_type": "display_data"
    }
   ],
   "source": [
    "results = []\n",
    "for key in mot.Off_tracking_pool.keys():\n",
    "    loss,his_state_pred,traj_mea = evaluate(key,P_em,R,Q)\n",
    "    results.append(loss)\n",
    "print(np.mean(results))\n",
    "plt.hist(results)"
   ]
  },
  {
   "cell_type": "code",
   "execution_count": 137,
   "id": "f973ebaa",
   "metadata": {
    "scrolled": false
   },
   "outputs": [
    {
     "ename": "TypeError",
     "evalue": "list indices must be integers or slices, not tuple",
     "output_type": "error",
     "traceback": [
      "\u001b[1;31m---------------------------------------------------------------------------\u001b[0m",
      "\u001b[1;31mTypeError\u001b[0m                                 Traceback (most recent call last)",
      "\u001b[1;32m~\\AppData\\Local\\Temp/ipykernel_11260/3139284012.py\u001b[0m in \u001b[0;36m<module>\u001b[1;34m\u001b[0m\n\u001b[0;32m      1\u001b[0m \u001b[0mloss\u001b[0m\u001b[1;33m,\u001b[0m\u001b[0mhis_state_pred\u001b[0m\u001b[1;33m,\u001b[0m\u001b[0mtraj_mea\u001b[0m \u001b[1;33m=\u001b[0m \u001b[0mevaluate\u001b[0m\u001b[1;33m(\u001b[0m\u001b[1;36m1\u001b[0m\u001b[1;33m,\u001b[0m\u001b[0mP_em\u001b[0m\u001b[1;33m,\u001b[0m\u001b[0mR\u001b[0m\u001b[1;33m,\u001b[0m\u001b[0mQ\u001b[0m\u001b[1;33m)\u001b[0m\u001b[1;33m\u001b[0m\u001b[1;33m\u001b[0m\u001b[0m\n\u001b[0;32m      2\u001b[0m \u001b[0mplt\u001b[0m\u001b[1;33m.\u001b[0m\u001b[0mfigure\u001b[0m\u001b[1;33m(\u001b[0m\u001b[0mfigsize\u001b[0m\u001b[1;33m=\u001b[0m\u001b[1;33m(\u001b[0m\u001b[1;36m10\u001b[0m\u001b[1;33m,\u001b[0m\u001b[1;36m10\u001b[0m\u001b[1;33m)\u001b[0m\u001b[1;33m)\u001b[0m\u001b[1;33m\u001b[0m\u001b[1;33m\u001b[0m\u001b[0m\n\u001b[1;32m----> 3\u001b[1;33m \u001b[0mplt\u001b[0m\u001b[1;33m.\u001b[0m\u001b[0mplot\u001b[0m\u001b[1;33m(\u001b[0m\u001b[0mtraj_mea\u001b[0m\u001b[1;33m[\u001b[0m\u001b[1;33m:\u001b[0m\u001b[1;33m,\u001b[0m\u001b[1;36m0\u001b[0m\u001b[1;33m,\u001b[0m\u001b[1;36m0\u001b[0m\u001b[1;33m]\u001b[0m\u001b[1;33m,\u001b[0m\u001b[0mtraj_mea\u001b[0m\u001b[1;33m[\u001b[0m\u001b[1;33m:\u001b[0m\u001b[1;33m,\u001b[0m\u001b[1;36m0\u001b[0m\u001b[1;33m,\u001b[0m\u001b[1;36m1\u001b[0m\u001b[1;33m]\u001b[0m\u001b[1;33m,\u001b[0m\u001b[0mmarkersize\u001b[0m \u001b[1;33m=\u001b[0m \u001b[1;36m10\u001b[0m\u001b[1;33m,\u001b[0m\u001b[0mmarker\u001b[0m \u001b[1;33m=\u001b[0m \u001b[1;34m'x'\u001b[0m\u001b[1;33m)\u001b[0m\u001b[1;33m\u001b[0m\u001b[1;33m\u001b[0m\u001b[0m\n\u001b[0m\u001b[0;32m      4\u001b[0m \u001b[0mplt\u001b[0m\u001b[1;33m.\u001b[0m\u001b[0mplot\u001b[0m\u001b[1;33m(\u001b[0m\u001b[0mhis_state_pred\u001b[0m\u001b[1;33m[\u001b[0m\u001b[1;33m:\u001b[0m\u001b[1;33m,\u001b[0m\u001b[1;36m0\u001b[0m\u001b[1;33m,\u001b[0m\u001b[1;36m0\u001b[0m\u001b[1;33m]\u001b[0m\u001b[1;33m,\u001b[0m\u001b[0mhis_state_pred\u001b[0m\u001b[1;33m[\u001b[0m\u001b[1;33m:\u001b[0m\u001b[1;33m,\u001b[0m\u001b[1;36m0\u001b[0m\u001b[1;33m,\u001b[0m\u001b[1;36m1\u001b[0m\u001b[1;33m]\u001b[0m\u001b[1;33m,\u001b[0m\u001b[0mmarker\u001b[0m \u001b[1;33m=\u001b[0m \u001b[1;34m'o'\u001b[0m\u001b[1;33m,\u001b[0m\u001b[0mmarkersize\u001b[0m \u001b[1;33m=\u001b[0m \u001b[1;36m3\u001b[0m\u001b[1;33m)\u001b[0m\u001b[1;33m\u001b[0m\u001b[1;33m\u001b[0m\u001b[0m\n\u001b[0;32m      5\u001b[0m \u001b[0mplt\u001b[0m\u001b[1;33m.\u001b[0m\u001b[0mplot\u001b[0m\u001b[1;33m(\u001b[0m\u001b[0mtraj_mea\u001b[0m\u001b[1;33m[\u001b[0m\u001b[1;33m:\u001b[0m\u001b[1;33m,\u001b[0m\u001b[1;36m1\u001b[0m\u001b[1;33m,\u001b[0m\u001b[1;36m0\u001b[0m\u001b[1;33m]\u001b[0m\u001b[1;33m,\u001b[0m\u001b[0mtraj_mea\u001b[0m\u001b[1;33m[\u001b[0m\u001b[1;33m:\u001b[0m\u001b[1;33m,\u001b[0m\u001b[1;36m1\u001b[0m\u001b[1;33m,\u001b[0m\u001b[1;36m1\u001b[0m\u001b[1;33m]\u001b[0m\u001b[1;33m,\u001b[0m\u001b[0mmarkersize\u001b[0m \u001b[1;33m=\u001b[0m \u001b[1;36m10\u001b[0m\u001b[1;33m,\u001b[0m\u001b[0mmarker\u001b[0m \u001b[1;33m=\u001b[0m \u001b[1;34m'x'\u001b[0m\u001b[1;33m)\u001b[0m\u001b[1;33m\u001b[0m\u001b[1;33m\u001b[0m\u001b[0m\n",
      "\u001b[1;31mTypeError\u001b[0m: list indices must be integers or slices, not tuple"
     ]
    },
    {
     "data": {
      "text/plain": [
       "<Figure size 720x720 with 0 Axes>"
      ]
     },
     "metadata": {},
     "output_type": "display_data"
    }
   ],
   "source": [
    "loss,his_state_pred,traj_mea = evaluate(1,P_em,R,Q)\n",
    "plt.figure(figsize=(10,10))\n",
    "plt.plot(traj_mea[:,0,0],traj_mea[:,0,1],markersize = 10,marker = 'x')\n",
    "plt.plot(his_state_pred[:,0,0],his_state_pred[:,0,1],marker = 'o',markersize = 3)\n",
    "plt.plot(traj_mea[:,1,0],traj_mea[:,1,1],markersize = 10,marker = 'x')\n",
    "plt.plot(his_state_pred[:,1,0],his_state_pred[:,1,1],marker = 'o',markersize = 3)\n",
    "plt.show()"
   ]
  },
  {
   "cell_type": "code",
   "execution_count": 180,
   "id": "224c21b2",
   "metadata": {},
   "outputs": [],
   "source": [
    "post_seq = mot.Off_tracking_pool[1].post_seq\n",
    "mea_seq = mot.Off_tracking_pool[1].mea_seq\n",
    "start_frame = mot.Off_tracking_pool[1].start_frame"
   ]
  },
  {
   "cell_type": "code",
   "execution_count": 181,
   "id": "3811fe46",
   "metadata": {},
   "outputs": [],
   "source": [
    "T = generate_T(ref_LLH,ref_xyz)"
   ]
  },
  {
   "cell_type": "code",
   "execution_count": 191,
   "id": "f612eca4",
   "metadata": {},
   "outputs": [],
   "source": [
    "temp = np.array(post_seq)\n",
    "temp = temp.reshape((temp.shape[0],temp.shape[1],temp.shape[2]))\n",
    "# n x 2 x 6\n",
    "temp_xy = temp[:,:,:2]\n",
    "# n x 2 x 2\n",
    "dis_est = np.sqrt((temp_xy[:,:,0]**2 + temp_xy[:,:,1]**2))\n",
    "# n x 2 \n",
    "speed_xy = temp[:,:,2:4] * 10 \n",
    "# n x 2 x 2\n",
    "speed = np.sqrt((speed_xy[:,:,0]**2 + speed_xy[:,:,1]**2))*3600/1000\n",
    "# n x 2\n",
    "acc_xy = temp[:,:,4:6]\n",
    "# n x 2\n",
    "xyz_0 = np.concatenate([temp_xy[:,0],np.zeros(len(temp_xy)).reshape(-1,1)],axis = 1)\n",
    "xyz_1 = np.concatenate([temp_xy[:,1],np.zeros(len(temp_xy)).reshape(-1,1)],axis = 1)\n",
    "LLH_est_0 = convert_LLH(xyz_0,T)\n",
    "LLH_est_1 = convert_LLH(xyz_1,T)\n",
    "est_0 = np.concatenate([xyz_0,dis_est[:,0].reshape(-1,1),speed_xy[:,0],speed[:,0].reshape(-1,1),acc_xy[:,0],LLH_est_0],axis = 1)\n",
    "est_1 = np.concatenate([xyz_1,dis_est[:,1].reshape(-1,1),speed_xy[:,1],speed[:,1].reshape(-1,1),acc_xy[:,1],LLH_est_1],axis = 1)\n",
    "temp = mea_seq\n",
    "emp_0,emp_1 = [],[]\n",
    "for i,vec in enumerate(temp):\n",
    "    if type(vec) == int:\n",
    "        emp_row = np.empty(2)\n",
    "        emp_row[:] = np.nan\n",
    "        emp_0.append(emp_row)\n",
    "        emp_1.append(emp_row)\n",
    "    else:\n",
    "        emp_0.append(vec[0].flatten())\n",
    "        emp_1.append(vec[1].flatten())\n",
    "emp_0,emp_1 = np.array(emp_0),np.array(emp_1)\n",
    "dis_mea_0,dis_mea_1 = np.sqrt(np.sum(emp_0**2,axis = 1)).reshape(-1,1),np.sqrt(np.sum(emp_1**2,axis = 1)).reshape(-1,1)\n",
    "xyz_0 = np.concatenate([emp_0,np.zeros(len(emp_0)).reshape(-1,1)],axis  = 1)\n",
    "xyz_1 = np.concatenate([emp_1,np.zeros(len(emp_1)).reshape(-1,1)],axis  = 1)\n",
    "LLH_est_0 = convert_LLH(xyz_0,T)\n",
    "LLH_est_1 = convert_LLH(xyz_1,T)\n",
    "mea_0 = np.concatenate([xyz_0,dis_mea_0,LLH_est_0],axis = 1)\n",
    "mea_1 = np.concatenate([xyz_1,dis_mea_1,LLH_est_1],axis = 1)\n",
    "timestp = []\n",
    "for i in range(len(temp)):\n",
    "    f = i + start_frame + 1\n",
    "    timestp.append('%06.0f'%f)\n",
    "timestp = np.array(timestp).reshape(-1,1)\n",
    "objid = (np.ones(len(temp)) * key).astype(int).reshape(-1,1)\n",
    "summary_0 = np.concatenate([objid,timestp,mea_0,est_0],axis = 1)\n",
    "summary_1 = np.concatenate([objid,timestp,mea_1,est_1],axis = 1)\n",
    "column_names = ['ObjectID','FrameIndex','Coord_X_Mea','Coord_Y_Mea','Coord_Z_Mea','Distance_Mea','Longitude_Mea','Latitude_Mea',\n",
    "                'Elevation_Mea','Coord_X_Est','Coord_Y_Est','Coord_Z_Est','Distance_Est','Speed_X','Speed_Y','Speed(m/s)','Acc_X','Acc_Y','Longitude_Est','Latitude_Est','Elevation_Est']\n",
    "summary_0 = pd.DataFrame(summary_0,columns=column_names)\n",
    "summary_1 = pd.DataFrame(summary_1,columns=column_names)\n"
   ]
  },
  {
   "cell_type": "code",
   "execution_count": 102,
   "id": "cfff5070",
   "metadata": {},
   "outputs": [],
   "source": [
    "xyz = np.concatenate([temp_xy[:,1],np.zeros(len(temp_xy)).reshape(-1,1)],axis = 1)"
   ]
  },
  {
   "cell_type": "code",
   "execution_count": null,
   "id": "0c709297",
   "metadata": {},
   "outputs": [],
   "source": [
    "temp = np.array(post_seq)\n",
    "temp = temp.reshape(temp.shape[0],temp.shape[1])[1:-missing_thred] # exclude first and ending data point \n",
    "# [0,1,2,3,4,5,6,10,11]\n",
    "temp_lwhxy = temp[:,[2,3,4,0,1]]\n",
    "dis_est = np.sqrt(np.sum(temp_lwhxy[:,[3,4]]**2,axis = 1)).reshape(-1,1)\n",
    "speed_xy = temp[:,[5,6]]*10  #m/s\n",
    "speed = np.sqrt(np.sum(speed_xy**2,axis = 1)).reshape(-1,1)*3600/1000\n",
    "#since we don't track the z value, literally use 0 to alternate the z\n",
    "xyz = np.concatenate([temp_lwhxy[:,[3,4]],np.zeros(temp_lwhxy.shape[0]).reshape(-1,1)],axis = 1) \n",
    "LLH_est = convert_LLH(xyz,T)\n",
    "est = np.concatenate([temp_lwhxy,LLH_est,dis_est,speed_xy,speed],axis = 1)\n",
    "temp = mea_seq\n",
    "emp = []\n",
    "for i,vec in enumerate(temp):\n",
    "    if type(vec) == int:\n",
    "        emp_row = np.empty(5)\n",
    "        emp_row[:] = np.nan\n",
    "        emp.append(emp_row)\n",
    "    else:\n",
    "        emp.append(vec.flatten())\n",
    "emp = np.array(emp)\n",
    "emp = emp[1:-missing_thred,[2,3,4,0,1]]\n",
    "dis_mea = np.sqrt(np.sum(emp[:,[3,4]]**2,axis = 1)).reshape(-1,1)\n",
    "#since we don't track the z value, literally use 0 to alternate\n",
    "xyz = np.concatenate([emp[:,[3,4]],np.zeros(emp.shape[0]).reshape(-1,1)],axis = 1) \n",
    "LLH_mea = convert_LLH(xyz,T)\n",
    "mea = np.concatenate([emp,LLH_mea,dis_mea],axis = 1)\n",
    "\n",
    "timestp = []\n",
    "for i in range(len(mea)):\n",
    "    f = i + start_frame + 1\n",
    "    timestp.append('%06.0f'%f)\n",
    "timestp = np.array(timestp).reshape(-1,1)\n",
    "objid = (np.ones(len(mea)) * key).astype(int).reshape(-1,1)\n",
    "summary = np.concatenate([objid,timestp,mea,est],axis = 1)\n",
    "summary = pd.DataFrame(summary,columns=col_info+col_mea+col_est)"
   ]
  }
 ],
 "metadata": {
  "interpreter": {
   "hash": "428af0a06c439d69f52a48aa4958f78cb16efaa9bdbd0a93aa265897dd843b23"
  },
  "kernelspec": {
   "display_name": "Python 3 (ipykernel)",
   "language": "python",
   "name": "python3"
  },
  "language_info": {
   "codemirror_mode": {
    "name": "ipython",
    "version": 3
   },
   "file_extension": ".py",
   "mimetype": "text/x-python",
   "name": "python",
   "nbconvert_exporter": "python",
   "pygments_lexer": "ipython3",
   "version": "3.8.11"
  }
 },
 "nbformat": 4,
 "nbformat_minor": 5
}
