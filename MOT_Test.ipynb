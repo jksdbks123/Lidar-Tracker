{
 "cells": [
  {
   "cell_type": "code",
   "execution_count": 1,
   "id": "82c2d100",
   "metadata": {},
   "outputs": [
    {
     "name": "stdout",
     "output_type": "stream",
     "text": [
      "Jupyter environment detected. Enabling Open3D WebVisualizer.\n",
      "[Open3D INFO] WebRTC GUI backend enabled.\n",
      "[Open3D INFO] WebRTCWindowSystem: HTTP handshake server disabled.\n",
      "[Open3D INFO] Resetting default logger to print to terminal.\n"
     ]
    }
   ],
   "source": [
    "import numpy as np\n",
    "import pandas as pd\n",
    "import matplotlib.pyplot as plt\n",
    "from MOT_TR import MOT\n",
    "from Utils import *\n",
    "import os\n",
    "from open3d.web_visualizer import draw"
   ]
  },
  {
   "cell_type": "code",
   "execution_count": 2,
   "id": "7f8d974b",
   "metadata": {
    "collapsed": true
   },
   "outputs": [
    {
     "name": "stdout",
     "output_type": "stream",
     "text": [
      "Initialization...\n"
     ]
    },
    {
     "name": "stderr",
     "output_type": "stream",
     "text": [
      "100%|███████████████████████████████████████| 2000/2000 [01:27<00:00, 22.96it/s]\n"
     ]
    },
    {
     "name": "stdout",
     "output_type": "stream",
     "text": [
      "Generating Threshold Map\n"
     ]
    },
    {
     "name": "stderr",
     "output_type": "stream",
     "text": [
      "Tracking 2000 frame:  11%|█▉               | 1999/17949 [02:52<27:08,  9.79it/s]"
     ]
    },
    {
     "name": "stdout",
     "output_type": "stream",
     "text": [
      "Generating Threshold Map\n"
     ]
    },
    {
     "name": "stderr",
     "output_type": "stream",
     "text": [
      "Tracking 3052 frame:  17%|██▉              | 3051/17949 [04:45<23:12, 10.70it/s]\n"
     ]
    },
    {
     "ename": "KeyboardInterrupt",
     "evalue": "",
     "output_type": "error",
     "traceback": [
      "\u001b[0;31m---------------------------------------------------------------------------\u001b[0m",
      "\u001b[0;31mKeyboardInterrupt\u001b[0m                         Traceback (most recent call last)",
      "\u001b[0;32m/tmp/ipykernel_29130/3832066969.py\u001b[0m in \u001b[0;36m<module>\u001b[0;34m\u001b[0m\n\u001b[1;32m     34\u001b[0m \u001b[0mmot\u001b[0m \u001b[0;34m=\u001b[0m \u001b[0mMOT\u001b[0m\u001b[0;34m(\u001b[0m\u001b[0mpcap_path\u001b[0m\u001b[0;34m,\u001b[0m\u001b[0moutput_file_path\u001b[0m\u001b[0;34m,\u001b[0m\u001b[0;34m**\u001b[0m\u001b[0mparams\u001b[0m\u001b[0;34m)\u001b[0m\u001b[0;34m\u001b[0m\u001b[0;34m\u001b[0m\u001b[0m\n\u001b[1;32m     35\u001b[0m \u001b[0mmot\u001b[0m\u001b[0;34m.\u001b[0m\u001b[0minitialization\u001b[0m\u001b[0;34m(\u001b[0m\u001b[0;34m)\u001b[0m\u001b[0;34m\u001b[0m\u001b[0;34m\u001b[0m\u001b[0m\n\u001b[0;32m---> 36\u001b[0;31m \u001b[0mmot\u001b[0m\u001b[0;34m.\u001b[0m\u001b[0mmot_tracking\u001b[0m\u001b[0;34m(\u001b[0m\u001b[0mA\u001b[0m\u001b[0;34m,\u001b[0m\u001b[0mP\u001b[0m\u001b[0;34m,\u001b[0m\u001b[0mH\u001b[0m\u001b[0;34m,\u001b[0m\u001b[0mQ\u001b[0m\u001b[0;34m,\u001b[0m\u001b[0mR\u001b[0m\u001b[0;34m)\u001b[0m\u001b[0;34m\u001b[0m\u001b[0;34m\u001b[0m\u001b[0m\n\u001b[0m",
      "\u001b[0;32m~/Documents/Lidar-Tracker/MOT_TR.py\u001b[0m in \u001b[0;36mmot_tracking\u001b[0;34m(self, A, P_em, H, Q, R)\u001b[0m\n\u001b[1;32m    135\u001b[0m \u001b[0;34m\u001b[0m\u001b[0m\n\u001b[1;32m    136\u001b[0m             \u001b[0;31m# read next data\u001b[0m\u001b[0;34m\u001b[0m\u001b[0;34m\u001b[0m\u001b[0;34m\u001b[0m\u001b[0m\n\u001b[0;32m--> 137\u001b[0;31m             \u001b[0mTd_map\u001b[0m \u001b[0;34m=\u001b[0m \u001b[0mnext\u001b[0m\u001b[0;34m(\u001b[0m\u001b[0mframe_gen\u001b[0m\u001b[0;34m)\u001b[0m\u001b[0;34m\u001b[0m\u001b[0;34m\u001b[0m\u001b[0m\n\u001b[0m\u001b[1;32m    138\u001b[0m             \u001b[0maggregated_maps\u001b[0m\u001b[0;34m.\u001b[0m\u001b[0mappend\u001b[0m\u001b[0;34m(\u001b[0m\u001b[0mTd_map\u001b[0m\u001b[0;34m)\u001b[0m\u001b[0;34m\u001b[0m\u001b[0;34m\u001b[0m\u001b[0m\n\u001b[1;32m    139\u001b[0m             \u001b[0mForeground_map\u001b[0m \u001b[0;34m=\u001b[0m \u001b[0;34m(\u001b[0m\u001b[0mTd_map\u001b[0m \u001b[0;34m<\u001b[0m \u001b[0mself\u001b[0m\u001b[0;34m.\u001b[0m\u001b[0mthred_map\u001b[0m\u001b[0;34m)\u001b[0m\u001b[0;34m&\u001b[0m\u001b[0;34m(\u001b[0m\u001b[0mTd_map\u001b[0m \u001b[0;34m!=\u001b[0m \u001b[0;36m0\u001b[0m\u001b[0;34m)\u001b[0m\u001b[0;34m\u001b[0m\u001b[0;34m\u001b[0m\u001b[0m\n",
      "\u001b[0;32m~/Documents/Lidar-Tracker/BfTableGenerator.py\u001b[0m in \u001b[0;36mframe_gen\u001b[0;34m(self)\u001b[0m\n\u001b[1;32m    272\u001b[0m                         \u001b[0;32mcontinue\u001b[0m\u001b[0;34m\u001b[0m\u001b[0;34m\u001b[0m\u001b[0m\n\u001b[1;32m    273\u001b[0m                     \u001b[0;31m# 32,12, 32,12, （12，） azi\u001b[0m\u001b[0;34m\u001b[0m\u001b[0;34m\u001b[0m\u001b[0;34m\u001b[0m\u001b[0m\n\u001b[0;32m--> 274\u001b[0;31m                     \u001b[0mdistances\u001b[0m\u001b[0;34m,\u001b[0m\u001b[0mintensities\u001b[0m\u001b[0;34m,\u001b[0m\u001b[0mazimuth_per_block\u001b[0m \u001b[0;34m=\u001b[0m \u001b[0mself\u001b[0m\u001b[0;34m.\u001b[0m\u001b[0mparse_one_packet\u001b[0m\u001b[0;34m(\u001b[0m\u001b[0mdata\u001b[0m\u001b[0;34m)\u001b[0m\u001b[0;34m\u001b[0m\u001b[0;34m\u001b[0m\u001b[0m\n\u001b[0m\u001b[1;32m    275\u001b[0m                     \u001b[0mazimuth\u001b[0m \u001b[0;34m=\u001b[0m \u001b[0mself\u001b[0m\u001b[0;34m.\u001b[0m\u001b[0mcalc_precise_azimuth\u001b[0m\u001b[0;34m(\u001b[0m\u001b[0mazimuth_per_block\u001b[0m\u001b[0;34m)\u001b[0m \u001b[0;31m# 32 x 12\u001b[0m\u001b[0;34m\u001b[0m\u001b[0;34m\u001b[0m\u001b[0m\n\u001b[1;32m    276\u001b[0m \u001b[0;34m\u001b[0m\u001b[0m\n",
      "\u001b[0;32m~/Documents/Lidar-Tracker/BfTableGenerator.py\u001b[0m in \u001b[0;36mparse_one_packet\u001b[0;34m(self, data)\u001b[0m\n\u001b[1;32m    233\u001b[0m         \u001b[0;31m# iteratie through each block\u001b[0m\u001b[0;34m\u001b[0m\u001b[0;34m\u001b[0m\u001b[0;34m\u001b[0m\u001b[0m\n\u001b[1;32m    234\u001b[0m         \u001b[0;32mfor\u001b[0m \u001b[0mi\u001b[0m\u001b[0;34m,\u001b[0m \u001b[0mblk\u001b[0m \u001b[0;32min\u001b[0m \u001b[0menumerate\u001b[0m\u001b[0;34m(\u001b[0m\u001b[0mblocks\u001b[0m\u001b[0;34m)\u001b[0m\u001b[0;34m:\u001b[0m\u001b[0;34m\u001b[0m\u001b[0;34m\u001b[0m\u001b[0m\n\u001b[0;32m--> 235\u001b[0;31m             \u001b[0mdists\u001b[0m\u001b[0;34m,\u001b[0m \u001b[0mintens\u001b[0m\u001b[0;34m,\u001b[0m \u001b[0mangles\u001b[0m \u001b[0;34m=\u001b[0m \u001b[0mself\u001b[0m\u001b[0;34m.\u001b[0m\u001b[0mread_firing_data\u001b[0m\u001b[0;34m(\u001b[0m\u001b[0mblk\u001b[0m\u001b[0;34m)\u001b[0m\u001b[0;34m\u001b[0m\u001b[0;34m\u001b[0m\u001b[0m\n\u001b[0m\u001b[1;32m    236\u001b[0m             \u001b[0mdistances\u001b[0m\u001b[0;34m.\u001b[0m\u001b[0mappend\u001b[0m\u001b[0;34m(\u001b[0m\u001b[0mdists\u001b[0m\u001b[0;34m)\u001b[0m \u001b[0;31m#12*32\u001b[0m\u001b[0;34m\u001b[0m\u001b[0;34m\u001b[0m\u001b[0m\n\u001b[1;32m    237\u001b[0m             \u001b[0mintensities\u001b[0m\u001b[0;34m.\u001b[0m\u001b[0mappend\u001b[0m\u001b[0;34m(\u001b[0m\u001b[0mintens\u001b[0m\u001b[0;34m)\u001b[0m \u001b[0;31m#12*32\u001b[0m\u001b[0;34m\u001b[0m\u001b[0;34m\u001b[0m\u001b[0m\n",
      "\u001b[0;32m~/Documents/Lidar-Tracker/BfTableGenerator.py\u001b[0m in \u001b[0;36mread_firing_data\u001b[0;34m(self, data)\u001b[0m\n\u001b[1;32m    162\u001b[0m         \u001b[0;32mreturn\u001b[0m \u001b[0mdata\u001b[0m\u001b[0;34m[\u001b[0m\u001b[0midx\u001b[0m\u001b[0;34m]\u001b[0m \u001b[0;34m+\u001b[0m \u001b[0mdata\u001b[0m\u001b[0;34m[\u001b[0m\u001b[0midx\u001b[0m\u001b[0;34m+\u001b[0m\u001b[0;36m1\u001b[0m\u001b[0;34m]\u001b[0m\u001b[0;34m*\u001b[0m\u001b[0;36m256\u001b[0m \u001b[0;34m+\u001b[0m \u001b[0mdata\u001b[0m\u001b[0;34m[\u001b[0m\u001b[0midx\u001b[0m\u001b[0;34m+\u001b[0m\u001b[0;36m2\u001b[0m\u001b[0;34m]\u001b[0m\u001b[0;34m*\u001b[0m\u001b[0;36m256\u001b[0m\u001b[0;34m*\u001b[0m\u001b[0;36m256\u001b[0m \u001b[0;34m+\u001b[0m \u001b[0mdata\u001b[0m\u001b[0;34m[\u001b[0m\u001b[0midx\u001b[0m\u001b[0;34m+\u001b[0m\u001b[0;36m3\u001b[0m\u001b[0;34m]\u001b[0m\u001b[0;34m*\u001b[0m\u001b[0;36m256\u001b[0m\u001b[0;34m*\u001b[0m\u001b[0;36m256\u001b[0m\u001b[0;34m*\u001b[0m\u001b[0;36m256\u001b[0m\u001b[0;34m\u001b[0m\u001b[0;34m\u001b[0m\u001b[0m\n\u001b[1;32m    163\u001b[0m     \u001b[0;32mdef\u001b[0m \u001b[0mread_firing_data\u001b[0m\u001b[0;34m(\u001b[0m\u001b[0mself\u001b[0m\u001b[0;34m,\u001b[0m\u001b[0mdata\u001b[0m\u001b[0;34m)\u001b[0m\u001b[0;34m:\u001b[0m\u001b[0;34m\u001b[0m\u001b[0;34m\u001b[0m\u001b[0m\n\u001b[0;32m--> 164\u001b[0;31m         \u001b[0mblock_id\u001b[0m \u001b[0;34m=\u001b[0m \u001b[0mdata\u001b[0m\u001b[0;34m[\u001b[0m\u001b[0;36m0\u001b[0m\u001b[0;34m]\u001b[0m \u001b[0;34m+\u001b[0m \u001b[0mdata\u001b[0m\u001b[0;34m[\u001b[0m\u001b[0;36m1\u001b[0m\u001b[0;34m]\u001b[0m\u001b[0;34m*\u001b[0m\u001b[0;36m256\u001b[0m\u001b[0;34m\u001b[0m\u001b[0;34m\u001b[0m\u001b[0m\n\u001b[0m\u001b[1;32m    165\u001b[0m         \u001b[0mazimuth\u001b[0m \u001b[0;34m=\u001b[0m \u001b[0;34m(\u001b[0m\u001b[0mdata\u001b[0m\u001b[0;34m[\u001b[0m\u001b[0;36m2\u001b[0m\u001b[0;34m]\u001b[0m \u001b[0;34m+\u001b[0m \u001b[0mdata\u001b[0m\u001b[0;34m[\u001b[0m\u001b[0;36m3\u001b[0m\u001b[0;34m]\u001b[0m \u001b[0;34m*\u001b[0m \u001b[0;36m256\u001b[0m\u001b[0;34m)\u001b[0m \u001b[0;34m/\u001b[0m \u001b[0;36m100\u001b[0m \u001b[0;31m# degree\u001b[0m\u001b[0;34m\u001b[0m\u001b[0;34m\u001b[0m\u001b[0m\n\u001b[1;32m    166\u001b[0m         \u001b[0mfirings\u001b[0m \u001b[0;34m=\u001b[0m \u001b[0mdata\u001b[0m\u001b[0;34m[\u001b[0m\u001b[0;36m4\u001b[0m\u001b[0;34m:\u001b[0m\u001b[0;34m]\u001b[0m\u001b[0;34m.\u001b[0m\u001b[0mreshape\u001b[0m\u001b[0;34m(\u001b[0m\u001b[0;36m32\u001b[0m\u001b[0;34m,\u001b[0m \u001b[0;36m3\u001b[0m\u001b[0;34m)\u001b[0m\u001b[0;34m\u001b[0m\u001b[0;34m\u001b[0m\u001b[0m\n",
      "\u001b[0;31mKeyboardInterrupt\u001b[0m: "
     ]
    }
   ],
   "source": [
    "params = {\n",
    "    'd':1.2,\n",
    "    'thred_s':0.3,\n",
    "    'N':20,\n",
    "    'delta_thred' : 1e-3,\n",
    "    'step':0.1,\n",
    "    'win_size':(5,15),\n",
    "    'eps': 1.6,\n",
    "    'min_samples':20,\n",
    "    'missing_thred':60,\n",
    "    'ending_frame' : 17950,\n",
    "    'background_update_frame':2000,\n",
    "    'save_pcd' : 'Unfiltered',\n",
    "    'save_Azimuth_Laser_info' : False,\n",
    "    'result_type':'merged'\n",
    "\n",
    "}\n",
    "\n",
    "input_path = '../RawLidarData/Veteran'\n",
    "dir_lis = os.listdir(input_path)\n",
    "pcap_path = 'None'\n",
    "for f in dir_lis:\n",
    "    if 'pcap' in f.split('.'):\n",
    "        pcap_path = os.path.join(input_path,f)\n",
    "if pcap_path == 'None':\n",
    "    print('Pcap file is not detected')\n",
    "output_file_path = '../RawLidarData/Veteran'\n",
    "config_path = os.path.join(input_path,'config.json')\n",
    "ref_LLH_path,ref_xyz_path = os.path.join(input_path,'LLE_ref.csv'),os.path.join(input_path,'xyz_ref.csv')\n",
    "ref_LLH,ref_xyz = np.array(pd.read_csv(ref_LLH_path)),np.array(pd.read_csv(ref_xyz_path))\n",
    "ref_LLH[:,[0,1]] = ref_LLH[:,[0,1]] * np.pi/180\n",
    "ref_LLH[:,2] = ref_LLH[:,2]/3.2808\n",
    "\n",
    "mot = MOT(pcap_path,output_file_path,**params)\n",
    "mot.initialization()\n",
    "mot.mot_tracking(A,P,H,Q,R)"
   ]
  },
  {
   "cell_type": "code",
   "execution_count": 3,
   "id": "ed2f8c2c",
   "metadata": {},
   "outputs": [],
   "source": [
    "Q = np.diag([1,1,0.1,0.1,0.001,0.001])\n",
    "R = np.diag([10,10])\n",
    "P_em = np.diag([10,10,0.1,0.1,0.001,0.001])\n",
    "P_em = np.full((2,P_em.shape[0],P_em.shape[1]),P_em)\n"
   ]
  },
  {
   "cell_type": "code",
   "execution_count": 7,
   "id": "044918eb",
   "metadata": {},
   "outputs": [],
   "source": [
    "def evaluate(key,P_em,R,Q):\n",
    "    ind = key\n",
    "    traj_mea_ = mot.Off_tracking_pool[ind].mea_seq\n",
    "    traj_mea = []\n",
    "    for i,s in enumerate(traj_mea_):\n",
    "        if type(s) != int:\n",
    "            traj_mea.append(s)\n",
    "    traj_mea = np.array(traj_mea)\n",
    "    traj_post = mot.Off_tracking_pool[ind].post_seq\n",
    "    traj_post = np.array(traj_post)\n",
    "    mea_init = traj_mea[0]\n",
    "    n_repr = mea_init.shape[0]\n",
    "    n_offset_dim = A.shape[0] - mea_init.shape[1]\n",
    "    state_init = np.concatenate([mea_init.reshape(-1,n_repr,2,1),np.zeros((1,n_repr,n_offset_dim,1))],axis = 2)\n",
    "    state_cur = state_init\n",
    "    # P_em = np.full((2,P_em.shape[0],P_em.shape[1]),P_em)\n",
    "    P_init = P_em.copy()\n",
    "    P_cur = P_init\n",
    "    total_loss = []\n",
    "    his_state_pred,his_P_pred = [],[]\n",
    "    his_state_est,his_P_est = [],[]\n",
    "\n",
    "    for i in range(len(traj_mea)):\n",
    "        mea_next = traj_mea[i]\n",
    "        if type(mea_next) != int:\n",
    "            state_pred,P_pred = state_predict(A,Q,state_cur,P_cur)\n",
    "            total_loss.append(np.sqrt(np.sum((mea_next - state_pred[:,:,:2]))**2))\n",
    "            state_cur,P_cur = state_update(A,H,state_pred,P_pred,R,mea_next)\n",
    "            his_state_pred.append(state_pred)\n",
    "            his_P_pred.append(P_pred)\n",
    "            his_state_est.append(state_cur)\n",
    "            his_P_est.append(P_cur)\n",
    "        else:\n",
    "            state_cur,P_cur = state_predict(A,Q,state_cur,P_cur)\n",
    "            his_state_pred.append(state_cur)\n",
    "            his_P_pred.append(P_cur)\n",
    "            his_state_est.append(state_cur)\n",
    "            his_P_est.append(P_cur)\n",
    "    his_state_pred,his_P_pred = np.array(his_state_pred),np.array(his_P_pred)\n",
    "    his_state_est,his_P_est = np.array(his_state_est),np.array(his_P_est)\n",
    "    \n",
    "    return np.mean(total_loss)"
   ]
  },
  {
   "cell_type": "code",
   "execution_count": 86,
   "id": "7cf77c16",
   "metadata": {},
   "outputs": [],
   "source": [
    "Q = np.diag([1,1,0.5,0.5,0.001,0.001])\n",
    "R = np.diag([0.1,0.1])\n",
    "P_em = np.diag([0.1,0.1,0.3,0.3,0.01,0.01])\n",
    "P_em = np.full((2,P_em.shape[0],P_em.shape[1]),P_em)"
   ]
  },
  {
   "cell_type": "code",
   "execution_count": 87,
   "id": "fffed05c",
   "metadata": {},
   "outputs": [
    {
     "name": "stdout",
     "output_type": "stream",
     "text": [
      "1.4922205988808808\n"
     ]
    },
    {
     "data": {
      "text/plain": [
       "(array([113.,  80.,  32.,  32.,  12.,   2.,   3.,   1.,   1.,   1.]),\n",
       " array([0.        , 0.86857706, 1.73715412, 2.60573118, 3.47430825,\n",
       "        4.34288531, 5.21146237, 6.08003943, 6.94861649, 7.81719355,\n",
       "        8.68577061]),\n",
       " <BarContainer object of 10 artists>)"
      ]
     },
     "execution_count": 87,
     "metadata": {},
     "output_type": "execute_result"
    },
    {
     "data": {
      "image/png": "[encoded data removed]",
      "text/plain": [
       "<Figure size 432x288 with 1 Axes>"
      ]
     },
     "metadata": {
      "needs_background": "light"
     },
     "output_type": "display_data"
    }
   ],
   "source": [
    "results = []\n",
    "for key in mot.Off_tracking_pool.keys():\n",
    "    results.append(evaluate(key,P_em,R,Q))\n",
    "print(np.mean(results))\n",
    "plt.hist(results)"
   ]
  },
  {
   "cell_type": "code",
   "execution_count": 17,
   "id": "f973ebaa",
   "metadata": {
    "scrolled": false
   },
   "outputs": [
    {
     "data": {
      "image/png": "[encoded data removed]",
      "text/plain": [
       "<Figure size 720x720 with 1 Axes>"
      ]
     },
     "metadata": {
      "needs_background": "light"
     },
     "output_type": "display_data"
    }
   ],
   "source": [
    "plt.figure(figsize = (10,10))\n",
    "plt.plot(his_state_pred[:,0,0,0,0],his_state_pred[:,0,0,1,0])\n",
    "plt.plot(his_state_est[:,0,0,0,0],his_state_est[:,0,0,1,0])\n",
    "# plot([his_state_pred[:,0,0,0,0],his_state_est[:,0,0,0,0]],[his_state_pred[:,0,0,1,0],his_state_est[:,0,0,1,0]],linewidth = 3,c = 'r')\n",
    "# plt.plot(his_state_pred[:,0,1,0,0],his_state_pred[:,0,1,1,0],marker = 'x')\n",
    "plt.show()\n",
    "# plt.plot(traj_mea[:,0,0:],)"
   ]
  },
  {
   "cell_type": "code",
   "execution_count": null,
   "id": "0c709297",
   "metadata": {},
   "outputs": [],
   "source": []
  }
 ],
 "metadata": {
  "interpreter": {
   "hash": "428af0a06c439d69f52a48aa4958f78cb16efaa9bdbd0a93aa265897dd843b23"
  },
  "kernelspec": {
   "display_name": "Python 3 (ipykernel)",
   "language": "python",
   "name": "python3"
  },
  "language_info": {
   "codemirror_mode": {
    "name": "ipython",
    "version": 3
   },
   "file_extension": ".py",
   "mimetype": "text/x-python",
   "name": "python",
   "nbconvert_exporter": "python",
   "pygments_lexer": "ipython3",
   "version": "3.7.11"
  }
 },
 "nbformat": 4,
 "nbformat_minor": 5
}
