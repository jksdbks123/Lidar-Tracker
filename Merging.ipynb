{
 "cells": [
  {
   "cell_type": "code",
   "execution_count": 5,
   "source": [
    "from MOT import MOT\n",
    "import numpy as np\n",
    "import matplotlib.pyplot as plt\n",
    "import os\n",
    "from BfTableGenerator import RansacCollector\n",
    "from BfTableGenerator import TDmapLoader\n",
    "from tqdm import tqdm\n",
    "# from open3d import JVisualizer \n",
    "from Utils import *\n",
    "from DDBSCAN import Raster_DBSCAN\n",
    "import open3d as op3\n",
    "# op3.visualization.webrtc_server.enable_webrtc()\n",
    "# from open3d.web_visualizer import draw\n",
    "from VisulizerTools import *\n",
    "from numpy.lib.stride_tricks import sliding_window_view\n"
   ],
   "outputs": [],
   "metadata": {}
  },
  {
   "cell_type": "code",
   "execution_count": 105,
   "source": [
    "def extract_xy_interval_merging_TR(Labeling_map,Td_map,Background_map):\n",
    "        \n",
    "    unique_label = np.unique(Labeling_map)\n",
    "    if len(unique_label) == 1:\n",
    "        return np.array([]),[],Labeling_map\n",
    "    if -1 in unique_label:\n",
    "        unique_label = unique_label[1:]\n",
    "    \n",
    "    boundary_cols = []\n",
    "    boundary_rows = []\n",
    "    for l in unique_label:\n",
    "        rows,cols = np.where(Labeling_map == l)\n",
    "        sorted_cols_ind = np.argsort(cols)\n",
    "        sorted_cols = cols[sorted_cols_ind]\n",
    "        sorted_rows = rows[sorted_cols_ind]\n",
    "        left_col,right_col = sorted_cols[0],sorted_cols[-1]\n",
    "        \n",
    "        if (right_col - left_col) >  900:\n",
    "            left_col += 1800 \n",
    "        boundary_cols.append([left_col,right_col])\n",
    "        boundary_rows.append([rows[sorted_cols_ind[0]],rows[sorted_cols_ind[-1]]])\n",
    "\n",
    "    boundary_cols,boundary_rows = np.array(boundary_cols),np.array(boundary_rows)\n",
    "    \n",
    "    sorted_label = np.argsort(boundary_cols[:,0])\n",
    "\n",
    "    adjacent_label_pairs = []\n",
    "    for sl in range(len(sorted_label) - 1):\n",
    "        if boundary_cols[sorted_label[sl],1] < boundary_cols[sorted_label[sl+1],0]:\n",
    "            adjacent_label_pairs.append([sorted_label[sl],sorted_label[sl+1]])\n",
    "            \n",
    "    if boundary_cols[sorted_label[-1],1] > 1800:\n",
    "        if (boundary_cols[sorted_label[-1],1] - 1800) < boundary_cols[sorted_label[0],0]:\n",
    "            adjacent_label_pairs.append([sorted_label[-1],sorted_label[0]])\n",
    "    else:\n",
    "        if boundary_cols[sorted_label[-1],1] < boundary_cols[sorted_label[0],0]:\n",
    "            adjacent_label_pairs.append([sorted_label[-1],sorted_label[0]])\n",
    "    Merge_cobs = []\n",
    "    for adjacent in adjacent_label_pairs:\n",
    "        pair_a,pair_b = adjacent[0],adjacent[1]\n",
    "        interval_left_col,interval_right_col = boundary_cols[pair_a][1],boundary_cols[pair_b][0]\n",
    "        interval_left_row,interval_right_row = boundary_rows[pair_a][1],boundary_rows[pair_b][0]\n",
    "    #     print(interval_left_col,interval_right_col)\n",
    "        if (interval_right_col - interval_left_col) > 80:\n",
    "            continue\n",
    "        high = interval_left_row\n",
    "        low = interval_right_row\n",
    "        if high < low: \n",
    "            high,low = low,high\n",
    "        \n",
    "        interval_map = Td_map[low:high+1,interval_left_col:interval_right_col+1][Background_map[low:high+1,interval_left_col:interval_right_col+1]]\n",
    "        if len(interval_map) == 0 :\n",
    "            continue\n",
    "        min_dis_int = interval_map.min()\n",
    "        min_dis_a = Td_map[Labeling_map == pair_a].min()\n",
    "        min_dis_b = Td_map[Labeling_map == pair_b].min()\n",
    "        if (min_dis_int  < min_dis_a)&(min_dis_int  <min_dis_b)&(np.abs(min_dis_a - min_dis_b) < 1.2):\n",
    "            Merge_cobs.append([pair_a,pair_b])\n",
    "    \n",
    "\n",
    "    for cob in Merge_cobs:\n",
    "        for i in range(1,len(cob)):\n",
    "            Labeling_map[Labeling_map == cob[i]] = cob[0]\n",
    "            unique_label[unique_label == cob[i]] = cob[0]\n",
    "            # Labels[Labels == cob[i]] =cob[0]\n",
    "            \n",
    "    new_uni_labels = np.unique(unique_label)\n",
    "    xy_set = []\n",
    "    for label in new_uni_labels:\n",
    "        rows,cols = np.where(Labeling_map == 11)\n",
    "        sort_ind = np.argsort(cols)\n",
    "        refer_cols = cols[sort_ind[[0,-1]]]\n",
    "        refer_rows = rows[sort_ind[[0,-1]]]\n",
    "        if np.abs(refer_cols[0] - refer_cols[1]) > 900:\n",
    "            cols[cols < 900] += 1800\n",
    "            sort_ind = np.argsort(cols)\n",
    "            refer_cols = cols[sort_ind[[0,-1]]]\n",
    "            refer_cols[refer_cols > 1800] -= 1800\n",
    "            refer_rows = rows[sort_ind[[0,-1]]]\n",
    "        xy_set.append(get_representative_point(refer_rows,refer_cols,Td_map))\n",
    "    \n",
    "    return np.array(xy_set),new_uni_labels,Labeling_map\n"
   ],
   "outputs": [],
   "metadata": {}
  },
  {
   "cell_type": "code",
   "execution_count": 106,
   "source": [
    "def get_representative_point(rows,cols,Td_map): \n",
    "    td_freq_map = Td_map\n",
    "    longitudes = theta[rows]*np.pi / 180\n",
    "    latitudes = azimuths[cols] * np.pi / 180 \n",
    "    hypotenuses = td_freq_map[rows,cols] * np.cos(longitudes)\n",
    "    X = hypotenuses * np.sin(latitudes)\n",
    "    Y = hypotenuses * np.cos(latitudes)\n",
    "    Z = td_freq_map[rows,cols] * np.sin(longitudes)\n",
    "    \n",
    "    return np.array([X,Y]).reshape(-1,2,1) # repr x xy_dim x 1 "
   ],
   "outputs": [],
   "metadata": {}
  },
  {
   "cell_type": "code",
   "execution_count": 107,
   "source": [
    "xy_init,unique_label_init,Labeling_map = extract_xy_interval_merging_TR(Labeling_map,Td_map,Background_map)"
   ],
   "outputs": [],
   "metadata": {}
  },
  {
   "cell_type": "code",
   "execution_count": null,
   "source": [],
   "outputs": [],
   "metadata": {}
  },
  {
   "cell_type": "code",
   "execution_count": 109,
   "source": [
    "xy_init[0].shape"
   ],
   "outputs": [
    {
     "output_type": "execute_result",
     "data": {
      "text/plain": [
       "(2, 2, 1)"
      ]
     },
     "metadata": {},
     "execution_count": 109
    }
   ],
   "metadata": {}
  },
  {
   "cell_type": "code",
   "execution_count": null,
   "source": [],
   "outputs": [],
   "metadata": {}
  },
  {
   "cell_type": "code",
   "execution_count": 6,
   "source": [
    "# os.chdir(r'/Users/czhui960/Documents/Lidar/RawLidarData/FrameSamplingTest')\n",
    "# thred_map = np.load(r'Output File/thred_map_1200.npy')\n",
    "collector = RansacCollector(pcap_path=r'../RawLidarData/Veteran/Veteran.pcap',output_file_path='../MergingResult/',update_frame_num=2000)\n",
    "collector.gen_tdmap()\n",
    "collector.gen_thredmap(d = 1.1,thred_s = 0.2,N = 20,delta_thred = 1e-3,step = 0.1)"
   ],
   "outputs": [
    {
     "output_type": "stream",
     "name": "stderr",
     "text": [
      "  0%|          | 2/2000 [00:00<02:11, 15.16it/s]"
     ]
    },
    {
     "output_type": "stream",
     "name": "stdout",
     "text": [
      "Loading pcap...\n"
     ]
    },
    {
     "output_type": "stream",
     "name": "stderr",
     "text": [
      "100%|██████████| 2000/2000 [01:36<00:00, 20.82it/s]\n"
     ]
    },
    {
     "output_type": "stream",
     "name": "stdout",
     "text": [
      "Generating Threshold Map\n"
     ]
    }
   ],
   "metadata": {}
  },
  {
   "cell_type": "code",
   "execution_count": 7,
   "source": [
    "db = Raster_DBSCAN(window_size=(5,13),eps = 1.7, min_samples= 17,Td_map_szie=collector.thred_map.shape)   "
   ],
   "outputs": [],
   "metadata": {}
  },
  {
   "cell_type": "code",
   "execution_count": 22,
   "source": [
    "for f in tqdm(range(2000)):\n",
    "    Td_map = collector.aggregated_map[f]\n",
    "    Foreground_map = (Td_map < collector.thred_map)&(Td_map != 0)\n",
    "    Labeling_map = db.fit_predict(Td_map= Td_map,Foreground_map=Foreground_map)\n",
    "    Background_map = (Td_map >= collector.thred_map)&(Td_map != 0)\n",
    "    for r in range(Labeling_map.shape[0]):\n",
    "        if (Labeling_map[r,0] != -1) & (Labeling_map[r,-1] != -1) & (Labeling_map[r,-1] != Labeling_map[r,0]):\n",
    "            print(f)\n",
    "            break\n",
    "    # pcd = get_pcd_colored_specified(Td_map,Labeling_map,Specified_label = [0,2])\n",
    "    # Labeling_map[:,:] = -1\n",
    "    # pcd = get_pcd_colored(Td_map,Labeling_map,Foreground_map)"
   ],
   "outputs": [
    {
     "output_type": "stream",
     "name": "stderr",
     "text": [
      " 74%|███████▍  | 1487/2000 [00:59<00:32, 15.65it/s]"
     ]
    },
    {
     "output_type": "stream",
     "name": "stdout",
     "text": [
      "1484\n",
      "1485\n"
     ]
    },
    {
     "output_type": "stream",
     "name": "stderr",
     "text": [
      "100%|██████████| 2000/2000 [01:27<00:00, 22.92it/s]\n"
     ]
    }
   ],
   "metadata": {}
  },
  {
   "cell_type": "code",
   "execution_count": 39,
   "source": [
    "Td_map = collector.aggregated_map[1484]\n",
    "Foreground_map = (Td_map < collector.thred_map)&(Td_map != 0)\n",
    "Labeling_map = db.fit_predict(Td_map= Td_map,Foreground_map=Foreground_map)\n",
    "Background_map = (Td_map >= collector.thred_map)&(Td_map != 0)"
   ],
   "outputs": [],
   "metadata": {}
  },
  {
   "cell_type": "code",
   "execution_count": 54,
   "source": [
    "rows,cols = np.where(Labeling_map == 1)\n",
    "sort_ind = np.argsort(cols)\n",
    "refer_cols = cols[sort_ind[[0,-1]]]\n",
    "refer_rows = rows[sort_ind[[0,-1]]]\n",
    "if np.abs(refer_cols[0] - refer_cols[1]) > 900:\n",
    "    cols[cols < 900] += 1800\n",
    "    sort_ind = np.argsort(cols)\n",
    "    refer_cols = cols[sort_ind[[0,-1]]]\n",
    "    refer_cols[refer_cols > 1800] -= 1800\n",
    "    refer_rows = rows[sort_ind[[0,-1]]]\n",
    "\n",
    "    "
   ],
   "outputs": [],
   "metadata": {}
  },
  {
   "cell_type": "code",
   "execution_count": 56,
   "source": [
    "plt.figure(figsize=(10,10))\n",
    "plt.scatter(X,Y)\n",
    "plt.scatter(X_re,Y_re)\n",
    "plt.show()"
   ],
   "outputs": [
    {
     "output_type": "display_data",
     "data": {
      "image/png": "[encoded data removed]",
      "text/plain": [
       "<Figure size 720x720 with 1 Axes>"
      ]
     },
     "metadata": {
      "needs_background": "light"
     }
    }
   ],
   "metadata": {}
  },
  {
   "cell_type": "code",
   "execution_count": 55,
   "source": [
    "X_re,Y_re =get_representative_point(refer_rows,refer_cols,Td_map)\n",
    "X,Y =get_representative_point(rows,cols,Td_map)"
   ],
   "outputs": [],
   "metadata": {}
  },
  {
   "cell_type": "code",
   "execution_count": null,
   "source": [],
   "outputs": [],
   "metadata": {}
  },
  {
   "cell_type": "code",
   "execution_count": null,
   "source": [],
   "outputs": [],
   "metadata": {}
  },
  {
   "cell_type": "code",
   "execution_count": 13,
   "source": [
    "draw(pcd,width=1000,height=1000)"
   ],
   "outputs": [
    {
     "output_type": "error",
     "ename": "NameError",
     "evalue": "name 'draw' is not defined",
     "traceback": [
      "\u001b[0;31m---------------------------------------------------------------------------\u001b[0m",
      "\u001b[0;31mNameError\u001b[0m                                 Traceback (most recent call last)",
      "\u001b[0;32m<ipython-input-13-c3ded77a86f8>\u001b[0m in \u001b[0;36m<module>\u001b[0;34m\u001b[0m\n\u001b[0;32m----> 1\u001b[0;31m \u001b[0mdraw\u001b[0m\u001b[0;34m(\u001b[0m\u001b[0mpcd\u001b[0m\u001b[0;34m,\u001b[0m\u001b[0mwidth\u001b[0m\u001b[0;34m=\u001b[0m\u001b[0;36m1000\u001b[0m\u001b[0;34m,\u001b[0m\u001b[0mheight\u001b[0m\u001b[0;34m=\u001b[0m\u001b[0;36m1000\u001b[0m\u001b[0;34m)\u001b[0m\u001b[0;34m\u001b[0m\u001b[0;34m\u001b[0m\u001b[0m\n\u001b[0m",
      "\u001b[0;31mNameError\u001b[0m: name 'draw' is not defined"
     ]
    }
   ],
   "metadata": {
    "scrolled": false
   }
  },
  {
   "cell_type": "code",
   "execution_count": null,
   "source": [],
   "outputs": [],
   "metadata": {}
  },
  {
   "cell_type": "code",
   "execution_count": null,
   "source": [
    "Valid_ind = (td_freq_map[i] != 0)&(td_freq_map[i]<self.data_collector.thred_map[i]) # None zero index"
   ],
   "outputs": [],
   "metadata": {}
  },
  {
   "cell_type": "code",
   "execution_count": 10,
   "source": [
    "def get_pcd_colored(Td_map,Labeling_map,Foreground_map):\n",
    "    \n",
    "    Xs = []\n",
    "    Ys = []\n",
    "    Zs = []\n",
    "    Labels = []\n",
    "    for i in range(Td_map.shape[0]):\n",
    "        longitudes = theta[i]*np.pi / 180\n",
    "        latitudes = azimuths * np.pi / 180 \n",
    "        hypotenuses = Td_map[i] * np.cos(longitudes)\n",
    "        X = hypotenuses * np.sin(latitudes)\n",
    "        Y = hypotenuses * np.cos(latitudes)\n",
    "        Z = Td_map[i] * np.sin(longitudes)\n",
    "        Valid_ind = (Td_map[i] != 0)&(Foreground_map[i])\n",
    "        Xs.append(X[Valid_ind])\n",
    "        Ys.append(Y[Valid_ind])\n",
    "        Zs.append(Z[Valid_ind])\n",
    "        Labels.append(Labeling_map[i][Valid_ind])\n",
    "\n",
    "    Xs = np.concatenate(Xs)\n",
    "    Ys = np.concatenate(Ys)\n",
    "    Zs = np.concatenate(Zs)\n",
    "    Labels = np.concatenate(Labels)\n",
    "    XYZ = np.concatenate([Xs.reshape(-1,1),Ys.reshape(-1,1),Zs.reshape(-1,1)],axis = 1)\n",
    "    Colors = np.full((len(Labels),3),np.array([[153,153,153]])/256)\n",
    "    unique_label = np.unique(Labels)\n",
    "    for l in unique_label[1:]:\n",
    "        Colors[Labels == l] = color_map[l%len(color_map)]\n",
    "\n",
    "    pcd = op3.geometry.PointCloud()\n",
    "    pcd.points = op3.utility.Vector3dVector(XYZ)\n",
    "    pcd.colors = op3.utility.Vector3dVector(Colors)\n",
    "    return pcd    "
   ],
   "outputs": [],
   "metadata": {}
  },
  {
   "cell_type": "code",
   "execution_count": null,
   "source": [],
   "outputs": [],
   "metadata": {}
  },
  {
   "cell_type": "code",
   "execution_count": null,
   "source": [],
   "outputs": [],
   "metadata": {}
  },
  {
   "cell_type": "code",
   "execution_count": 5,
   "source": [
    "pcd = get_pcd_colored_specified(Td_map,Labeling_map,Specified_label = [3,4])"
   ],
   "outputs": [],
   "metadata": {}
  },
  {
   "cell_type": "code",
   "execution_count": null,
   "source": [],
   "outputs": [],
   "metadata": {}
  },
  {
   "cell_type": "code",
   "execution_count": 78,
   "source": [
    "draw(pcd)"
   ],
   "outputs": [
    {
     "output_type": "stream",
     "name": "stdout",
     "text": [
      "[Open3D INFO] Window window_6 created.\n"
     ]
    },
    {
     "output_type": "display_data",
     "data": {
      "application/vnd.jupyter.widget-view+json": {
       "model_id": "a1cef06648d044259ceae42796aff0a8",
       "version_major": 2,
       "version_minor": 0
      },
      "text/plain": [
       "WebVisualizer(window_uid='window_6')"
      ]
     },
     "metadata": {}
    },
    {
     "output_type": "stream",
     "name": "stdout",
     "text": [
      "[Open3D INFO] [Called HTTP API (custom handshake)] /api/getIceServers\n",
      "[Open3D INFO] [Called HTTP API (custom handshake)] /api/call\n",
      "[Open3D INFO] [Called HTTP API (custom handshake)] /api/addIceCandidate\n",
      "[Open3D INFO] [Called HTTP API (custom handshake)] /api/addIceCandidate\n",
      "[Open3D INFO] [Called HTTP API (custom handshake)] /api/addIceCandidate\n",
      "[Open3D INFO] [Called HTTP API (custom handshake)] /api/addIceCandidate\n",
      "[Open3D INFO] [Called HTTP API (custom handshake)] /api/addIceCandidate\n",
      "[Open3D INFO] [Called HTTP API (custom handshake)] /api/addIceCandidate\n",
      "[Open3D INFO] [Called HTTP API (custom handshake)] /api/addIceCandidate\n",
      "[Open3D INFO] [Called HTTP API (custom handshake)] /api/addIceCandidate\n",
      "[Open3D INFO] [Called HTTP API (custom handshake)] /api/addIceCandidate\n",
      "[Open3D INFO] [Called HTTP API (custom handshake)] /api/addIceCandidate\n",
      "[Open3D INFO] [Called HTTP API (custom handshake)] /api/getIceCandidate\n",
      "[Open3D INFO] DataChannelObserver::OnStateChange label: ServerDataChannel, state: open, peerid: 0.8935897817253582\n",
      "[Open3D INFO] DataChannelObserver::OnStateChange label: ClientDataChannel, state: open, peerid: 0.8935897817253582\n",
      "[Open3D INFO] Sending init frames to window_6.\n",
      "[Open3D INFO] [Called HTTP API (custom handshake)] /api/addIceCandidate\n",
      "[Open3D INFO] [Called HTTP API (custom handshake)] /api/addIceCandidate\n",
      "[Open3D INFO] [Called HTTP API (custom handshake)] /api/addIceCandidate\n"
     ]
    },
    {
     "output_type": "stream",
     "name": "stderr",
     "text": [
      "[8843:983][4923] (webrtc_sdp.cc:420): Failed to parse: \"\". Reason: Expect line: candidate:<candidate-str>\n"
     ]
    },
    {
     "output_type": "stream",
     "name": "stdout",
     "text": [
      "\u001b[1;33m[Open3D WARNING] Can't parse received candidate message.\u001b[0;m\n"
     ]
    }
   ],
   "metadata": {
    "scrolled": true
   }
  },
  {
   "cell_type": "code",
   "execution_count": 53,
   "source": [
    "unique_label = np.unique(Labeling_map)[1:]\n",
    "boundary_cols = []\n",
    "boundary_rows = []\n",
    "\n",
    "for l in unique_label:\n",
    "    rows,cols = np.where(Labeling_map == l)\n",
    "    sorted_cols_ind = np.argsort(cols)\n",
    "    sorted_cols = cols[sorted_cols_ind]\n",
    "    sorted_rows = rows[sorted_cols_ind]\n",
    "    left_col,right_col = sorted_cols[0],sorted_cols[-1]\n",
    "    \n",
    "    if (right_col - left_col) >  900:\n",
    "        left_col += 1800 \n",
    "    boundary_cols.append([left_col,right_col])\n",
    "    boundary_rows.append([rows[sorted_cols_ind[0]],rows[sorted_cols_ind[-1]]])\n",
    "boundary_cols,boundary_rows = np.array(boundary_cols),np.array(boundary_rows)\n",
    "\n",
    "sorted_label = np.argsort(boundary_cols[:,0])\n",
    "adjacent_label_pairs = []\n",
    "for sl in range(len(sorted_label) - 1):\n",
    "    if boundary_cols[sorted_label[sl],1] < boundary_cols[sorted_label[sl+1],0]:\n",
    "        adjacent_label_pairs.append([sorted_label[sl],sorted_label[sl+1]])\n",
    "        \n",
    "if boundary_cols[sorted_label[-1],1] > 1800:\n",
    "    if (boundary_cols[sorted_label[-1],1] - 1800) < boundary_cols[sorted_label[0],0]:\n",
    "        adjacent_label_pairs.append([sorted_label[-1],sorted_label[0]])\n",
    "else:\n",
    "    if boundaries[sorted_label[-1],1] < boundaries[sorted_label[0],0]:\n",
    "        adjacent_label_pairs.append([sorted_label[-1],sorted_label[0]])\n",
    "merging_pairs = []\n",
    "for adjacent in adjacent_label_pairs:\n",
    "    pair_a,pair_b = adjacent[0],adjacent[1]\n",
    "    interval_left_col,interval_right_col = boundary_cols[pair_a][1],boundary_cols[pair_b][0]\n",
    "    interval_left_row,interval_right_row = boundary_rows[pair_a][1],boundary_rows[pair_b][0]\n",
    "#     print(interval_left_col,interval_right_col)\n",
    "    high = interval_left_row\n",
    "    low = interval_right_row\n",
    "    if high < low: \n",
    "        high,low = low,high\n",
    "    \n",
    "    interval_map = Td_map[low:high+1,interval_left_col:interval_right_col+1][Background_map[low:high+1,interval_left_col:interval_right_col+1]]\n",
    "    min_dis_int = interval_map.min()\n",
    "    min_dis_a = Td_map[Labeling_map == pair_a].min()\n",
    "    min_dis_b = Td_map[Labeling_map == pair_b].min()\n",
    "    if (min_dis_int<min_dis_a)&(min_dis_int<min_dis_b)&(np.abs(min_dis_a - min_dis_b) < 1.2):\n",
    "        merging_pairs.append([pair_a,pair_b])"
   ],
   "outputs": [],
   "metadata": {}
  },
  {
   "cell_type": "code",
   "execution_count": null,
   "source": [],
   "outputs": [],
   "metadata": {}
  },
  {
   "cell_type": "code",
   "execution_count": null,
   "source": [],
   "outputs": [],
   "metadata": {}
  },
  {
   "cell_type": "code",
   "execution_count": null,
   "source": [],
   "outputs": [],
   "metadata": {}
  },
  {
   "cell_type": "code",
   "execution_count": null,
   "source": [],
   "outputs": [],
   "metadata": {}
  },
  {
   "cell_type": "code",
   "execution_count": null,
   "source": [],
   "outputs": [],
   "metadata": {}
  },
  {
   "cell_type": "code",
   "execution_count": null,
   "source": [],
   "outputs": [],
   "metadata": {}
  },
  {
   "cell_type": "code",
   "execution_count": null,
   "source": [],
   "outputs": [],
   "metadata": {}
  },
  {
   "cell_type": "code",
   "execution_count": null,
   "source": [],
   "outputs": [],
   "metadata": {}
  }
 ],
 "metadata": {
  "interpreter": {
   "hash": "1e5f7bb8ccf0c05ceb6f1a2a367df183186574b25661c58bd0281a0958a9efbd"
  },
  "kernelspec": {
   "name": "python3",
   "display_name": "Python 3.8.11 64-bit ('tracking': conda)"
  },
  "language_info": {
   "codemirror_mode": {
    "name": "ipython",
    "version": 3
   },
   "file_extension": ".py",
   "mimetype": "text/x-python",
   "name": "python",
   "nbconvert_exporter": "python",
   "pygments_lexer": "ipython3",
   "version": "3.8.11"
  }
 },
 "nbformat": 4,
 "nbformat_minor": 4
}