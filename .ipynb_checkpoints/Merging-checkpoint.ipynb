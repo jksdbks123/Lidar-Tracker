{
 "cells": [
  {
   "cell_type": "code",
   "execution_count": 73,
   "metadata": {},
   "outputs": [],
   "source": [
    "from MOT import MOT\n",
    "import numpy as np\n",
    "import matplotlib.pyplot as plt\n",
    "import os\n",
    "from BfTableGenerator import RansacCollector\n",
    "from BfTableGenerator import TDmapLoader\n",
    "from tqdm import tqdm\n",
    "from Utils import *\n",
    "from DDBSCAN import Raster_DBSCAN\n",
    "import open3d as op3\n",
    "# op3.visualization.webrtc_server.enable_webrtc()\n",
    "from open3d.web_visualizer import draw\n",
    "from VisulizerTools import *\n",
    "from numpy.lib.stride_tricks import sliding_window_view\n",
    "from scipy.stats import multivariate_normal\n",
    "import cv2\n"
   ]
  },
  {
   "cell_type": "code",
   "execution_count": 2,
   "metadata": {},
   "outputs": [],
   "source": [
    "def get_affinity_mat_jpd_TR(state,state_,P_,mea):\n",
    "    State_affinity = np.zeros((state_.shape[1],state_.shape[0],mea.shape[0]))\n",
    "    for i,s_ in enumerate(state_):\n",
    "         # includes the pred states for two reprs \n",
    "         # s_: 2 x 6 x 1\n",
    "        state_cur = state[i].copy().reshape(2,-1)[:,:2]\n",
    "        state_pred = s_.copy().reshape(2,-1)[:,:2]\n",
    "        \n",
    "         # cov_tr : 2 x 6 x 6 \n",
    "        cov_tr = P_[i][:,:2,:2]\n",
    "        var_tr = [multivariate_normal(mean=state_pred[k], cov=cov_tr[k]) for k in range(state_cur.shape[0])]\n",
    "        for j,m in enumerate(mea):\n",
    "            mea_next = m.copy().reshape(2,-1)\n",
    "            for k in range(s_.shape[0]):\n",
    "                dis_error = np.sqrt(np.sum((state_pred[k] - mea_next[k])**2))\n",
    "                if dis_error < 5:\n",
    "                    jp = var_tr[k].pdf(mea_next[k])\n",
    "                    State_affinity[k,i,j] = jp\n",
    "    \n",
    "    return np.max(State_affinity,axis = 0)"
   ]
  },
  {
   "cell_type": "code",
   "execution_count": 3,
   "metadata": {},
   "outputs": [],
   "source": [
    "def get_representative_point(rows,cols,Td_map): \n",
    "    td_freq_map = Td_map\n",
    "    longitudes = theta[rows]*np.pi / 180\n",
    "    latitudes = azimuths[cols] * np.pi / 180 \n",
    "    hypotenuses = td_freq_map[rows,cols] * np.cos(longitudes)\n",
    "    X = hypotenuses * np.sin(latitudes)\n",
    "    Y = hypotenuses * np.cos(latitudes)\n",
    "    Z = td_freq_map[rows,cols] * np.sin(longitudes)\n",
    "    \n",
    "    return np.array([X,Y]).reshape(-1,2,1) # n_repr x xy_dim x 1 "
   ]
  },
  {
   "cell_type": "code",
   "execution_count": 4,
   "metadata": {},
   "outputs": [
    {
     "data": {
      "text/plain": [
       "'D:\\\\Lidar-Tracker'"
      ]
     },
     "execution_count": 4,
     "metadata": {},
     "output_type": "execute_result"
    }
   ],
   "source": [
    "os.getcwd()"
   ]
  },
  {
   "cell_type": "code",
   "execution_count": 6,
   "metadata": {},
   "outputs": [
    {
     "name": "stdout",
     "output_type": "stream",
     "text": [
      "Loading pcap...\n"
     ]
    },
    {
     "name": "stderr",
     "output_type": "stream",
     "text": [
      "100%|██████████████████████████████████████████████████████████████████████████████| 2000/2000 [01:06<00:00, 30.23it/s]\n"
     ]
    },
    {
     "name": "stdout",
     "output_type": "stream",
     "text": [
      "Generating Threshold Map\n"
     ]
    }
   ],
   "source": [
    "# os.chdir(r'/Users/czhui960/Documents/Lidar/RawLidarData/FrameSamplingTest')\n",
    "# thred_map = np.load(r'Output File/thred_map_1200.npy')\n",
    "collector = RansacCollector(pcap_path=r'D:\\LiDAR_Data\\Veteran.pcap',output_file_path=r'D:\\LiDAR_Data',update_frame_num=2000)\n",
    "collector.gen_tdmap()\n",
    "collector.gen_thredmap(d = 1,thred_s = 0.1,N = 10,delta_thred = 1e-3,step = 0.1)"
   ]
  },
  {
   "cell_type": "code",
   "execution_count": 34,
   "metadata": {},
   "outputs": [
    {
     "name": "stdout",
     "output_type": "stream",
     "text": [
      "Generating Threshold Map\n"
     ]
    }
   ],
   "source": [
    "collector.gen_thredmap(d = 2,thred_s = 0.1,N = 10,delta_thred = 1e-3,step = 0.1)"
   ]
  },
  {
   "cell_type": "code",
   "execution_count": 65,
   "metadata": {},
   "outputs": [],
   "source": [
    "db = Raster_DBSCAN(window_size=(5,17),eps = 1.6, min_samples= 15,Td_map_szie=collector.thred_map.shape)   \n",
    "Td_map = collector.aggregated_map[660]\n",
    "Foreground_map = (Td_map < collector.thred_map)&(Td_map != 0)\n",
    "Labeling_map = db.fit_predict(Td_map= Td_map,Foreground_map=Foreground_map)\n",
    "Background_map = (Td_map >= collector.thred_map)&(Td_map != 0)"
   ]
  },
  {
   "cell_type": "code",
   "execution_count": 138,
   "metadata": {},
   "outputs": [],
   "source": [
    "rows,cols = np.where(Labeling_map == 0)\n",
    "td_freq_map = Td_map\n",
    "longitudes = theta[rows]*np.pi / 180\n",
    "latitudes = azimuths[cols] * np.pi / 180 \n",
    "hypotenuses = td_freq_map[rows,cols] * np.cos(longitudes)\n",
    "X = hypotenuses * np.sin(latitudes)\n",
    "Y = hypotenuses * np.cos(latitudes)\n",
    "Z = td_freq_map[rows,cols] * np.sin(longitudes)\n",
    "points = np.array([X,Y]).T\n",
    "points_nem = len(points)\n",
    "rect = cv2.minAreaRect(points.astype('float32'))\n",
    "box = cv2.boxPoints(rect)\n",
    "# box = cv2.boxPoints(rect)\n",
    "b1 = np.sqrt(np.sum((box[1] - box[0])**2))\n",
    "b2 = np.sqrt(np.sum((box[2] - box[1])**2))\n",
    "length = b1\n",
    "width = b2\n",
    "\n",
    "if b1 < b2:\n",
    "    length = b2\n",
    "    width = b1\n",
    "    "
   ]
  },
  {
   "cell_type": "code",
   "execution_count": 142,
   "metadata": {},
   "outputs": [
    {
     "data": {
      "text/plain": [
       "array([[ 8.424405 , -8.042996 ],\n",
       "       [10.228971 , -8.59705  ],\n",
       "       [11.718341 , -3.7461367],\n",
       "       [ 9.913775 , -3.1920834]], dtype=float32)"
      ]
     },
     "execution_count": 142,
     "metadata": {},
     "output_type": "execute_result"
    }
   ],
   "source": [
    "box"
   ]
  },
  {
   "cell_type": "code",
   "execution_count": 141,
   "metadata": {
    "scrolled": false
   },
   "outputs": [
    {
     "data": {
      "text/plain": [
       "<matplotlib.collections.PathCollection at 0x1dd5403e280>"
      ]
     },
     "execution_count": 141,
     "metadata": {},
     "output_type": "execute_result"
    },
    {
     "data": {
      "image/png": "[encoded data removed]",
      "text/plain": [
       "<Figure size 720x720 with 1 Axes>"
      ]
     },
     "metadata": {
      "needs_background": "light"
     },
     "output_type": "display_data"
    }
   ],
   "source": [
    "plt.figure(figsize=(10,10))\n",
    "plt.scatter(X,Y)\n",
    "plt.scatter(box[:,0],box[:,1])\n",
    "# plt.ylim(-15,-9)\n",
    "# plt.xlim(1,7)"
   ]
  },
  {
   "cell_type": "code",
   "execution_count": 91,
   "metadata": {},
   "outputs": [],
   "source": [
    "points = np.array([X,Y]).T"
   ]
  },
  {
   "cell_type": "code",
   "execution_count": 97,
   "metadata": {},
   "outputs": [],
   "source": [
    "rect = cv2.minAreaRect(points.astype('float32'))\n",
    "box = cv2.boxPoints(rect)"
   ]
  },
  {
   "cell_type": "code",
   "execution_count": 99,
   "metadata": {},
   "outputs": [
    {
     "data": {
      "text/plain": [
       "array([[  3.315392 , -14.334942 ],\n",
       "       [  4.8521543, -14.8026085],\n",
       "       [  6.1363635, -10.582678 ],\n",
       "       [  4.5996013, -10.115011 ]], dtype=float32)"
      ]
     },
     "execution_count": 99,
     "metadata": {},
     "output_type": "execute_result"
    }
   ],
   "source": [
    "box "
   ]
  },
  {
   "cell_type": "code",
   "execution_count": null,
   "metadata": {},
   "outputs": [],
   "source": [
    "cv2.minAreaRect()"
   ]
  },
  {
   "cell_type": "code",
   "execution_count": 72,
   "metadata": {},
   "outputs": [
    {
     "data": {
      "text/plain": [
       "1.785243188025055"
      ]
     },
     "execution_count": 72,
     "metadata": {},
     "output_type": "execute_result"
    }
   ],
   "source": [
    "Z.max() - Z.min()"
   ]
  },
  {
   "cell_type": "code",
   "execution_count": 66,
   "metadata": {},
   "outputs": [],
   "source": [
    "pcd = get_pcd_colored_filtered(Td_map,Labeling_map,Foreground_map)"
   ]
  },
  {
   "cell_type": "code",
   "execution_count": 67,
   "metadata": {},
   "outputs": [
    {
     "data": {
      "application/vnd.jupyter.widget-view+json": {
       "model_id": "9408b033aac842ac8473abb2fb76febc",
       "version_major": 2,
       "version_minor": 0
      },
      "text/plain": [
       "WebVisualizer(window_uid='window_19')"
      ]
     },
     "metadata": {},
     "output_type": "display_data"
    }
   ],
   "source": [
    "draw(pcd)"
   ]
  },
  {
   "cell_type": "code",
   "execution_count": 38,
   "metadata": {},
   "outputs": [
    {
     "data": {
      "application/vnd.jupyter.widget-view+json": {
       "model_id": "df17dda361894e6d9a7f64628732ab77",
       "version_major": 2,
       "version_minor": 0
      },
      "text/plain": [
       "WebVisualizer(window_uid='window_9')"
      ]
     },
     "metadata": {},
     "output_type": "display_data"
    }
   ],
   "source": [
    "draw(pcd)"
   ]
  },
  {
   "cell_type": "code",
   "execution_count": 84,
   "metadata": {},
   "outputs": [],
   "source": [
    "db = Raster_DBSCAN(window_size=(5,13),eps = 1.7, min_samples= 17,Td_map_szie=collector.thred_map.shape)   \n",
    "for frame in range(700):\n",
    "    Td_map = collector.aggregated_map[frame]\n",
    "    Foreground_map = (Td_map < collector.thred_map)&(Td_map != 0)\n",
    "    Labeling_map = db.fit_predict(Td_map= Td_map,Foreground_map=Foreground_map)\n",
    "    Background_map = (Td_map >= collector.thred_map)&(Td_map != 0)\n",
    "    thred_merge = 80\n",
    "    unique_label = np.unique(Labeling_map)\n",
    "    #Only Background contains \n",
    "    if -1 in unique_label:\n",
    "        unique_label = unique_label[1:]\n",
    "    occlusion_indicator = -np.ones((len(azimuths))).astype('int')\n",
    "    rowses = []\n",
    "    colses = []\n",
    "    for l in unique_label:\n",
    "        rows,cols = np.where(Labeling_map == l)\n",
    "        occlusion_indicator[cols] = l\n",
    "        rowses.append(rows)\n",
    "        colses.append(cols)\n",
    "    TSAv = occlusion_indicator != -1\n",
    "    counts,appears = count(TSAv)\n",
    "    Merge_cobs = []\n",
    "    ind_pairs = [(i,i+1) for i in range(len(counts) - 1)]\n",
    "    ind_pairs += [(-1,0)]\n",
    "    for pair in ind_pairs:\n",
    "        col_right = appears[pair[0]] + counts[pair[0]] - 1\n",
    "        col_left = appears[pair[1]]\n",
    "        is_normal = col_left >= col_right\n",
    "        if is_normal&((col_left - col_right) > thred_merge):\n",
    "            continue\n",
    "        bounder_right_label = occlusion_indicator[col_right]\n",
    "        bounder_left_label = occlusion_indicator[col_left]\n",
    "        # right-bound on left ---- left-boundon right\n",
    "        label_ind_right= np.where(unique_label == bounder_right_label)[0][0]\n",
    "        rows_right = rowses[label_ind_right][colses[label_ind_right] == col_right]\n",
    "        label_ind_left = np.where(unique_label == bounder_left_label)[0][0]\n",
    "        rows_left = rowses[label_ind_left][colses[label_ind_left] == col_left]\n",
    "        rows_2bounds = np.concatenate([rows_left,rows_right])\n",
    "        high,low = rows_2bounds.max(),rows_2bounds.min()\n",
    "        if is_normal:\n",
    "            interval_map = Td_map[low:high+1,col_right:col_left+1][Background_map[low:high+1,col_right:col_left+1]]\n",
    "        else:\n",
    "            if (len(azimuths) - col_right) + col_left > thred_merge:\n",
    "                continue\n",
    "            else: \n",
    "                interval_map_right = Td_map[low:high+1,col_right:len(azimuths)][Background_map[low:high+1,col_right:len(azimuths)]]\n",
    "                interval_map_left = Td_map[low:high+1,:col_left + 1][Background_map[low:high+1,:col_left + 1]]\n",
    "                interval_map = np.concatenate([interval_map_left,interval_map_right])\n",
    "        if len(interval_map) == 0 :\n",
    "            continue\n",
    "\n",
    "        min_dis_int = interval_map.min()\n",
    "        min_dis_right = Td_map[rows_right,col_right].min()\n",
    "        min_dis_left = Td_map[rows_left,col_left].min()\n",
    "        if (min_dis_int  < min_dis_right)&(min_dis_int < min_dis_left)&(np.abs(min_dis_right - min_dis_left) < 1.2):\n",
    "            Merge_cobs.append([label_ind_right,label_ind_left])\n",
    "\n",
    "    for cob in Merge_cobs:\n",
    "        for i in range(1,len(cob)):\n",
    "            Labeling_map[Labeling_map == cob[i]] = cob[0]\n",
    "            unique_label[unique_label == cob[i]] = cob[0]\n",
    "\n",
    "    new_uni_labels = np.unique(unique_label)\n",
    "    xy_set = []\n",
    "    for label in new_uni_labels:\n",
    "        rows,cols = np.where(Labeling_map == label)\n",
    "        sort_ind = np.argsort(cols)\n",
    "        refer_cols = cols[sort_ind[[0,-1]]]\n",
    "        # this is being said, the first place is for less azimuth id \n",
    "        refer_rows = rows[sort_ind[[0,-1]]]\n",
    "        if np.abs(refer_cols[0] - refer_cols[1]) >= 900:\n",
    "            cols[cols <= 900] += 1800\n",
    "            sort_ind = np.argsort(cols)\n",
    "            refer_cols = cols[sort_ind[[0,-1]]]\n",
    "            refer_cols[refer_cols >= 1800] -= 1800\n",
    "            refer_rows = rows[sort_ind[[0,-1]]]\n",
    "        xy_set.append(get_representative_point(refer_rows,refer_cols,Td_map))"
   ]
  },
  {
   "cell_type": "code",
   "execution_count": 11,
   "metadata": {},
   "outputs": [],
   "source": [
    "db = Raster_DBSCAN(window_size=(5,13),eps = 1.7, min_samples= 17,Td_map_szie=collector.thred_map.shape)   \n"
   ]
  },
  {
   "cell_type": "code",
   "execution_count": 24,
   "metadata": {},
   "outputs": [
    {
     "data": {
      "application/vnd.jupyter.widget-view+json": {
       "model_id": "a2a03570603e409cb6c070143db0b59a",
       "version_major": 2,
       "version_minor": 0
      },
      "text/plain": [
       "WebVisualizer(window_uid='window_9')"
      ]
     },
     "metadata": {},
     "output_type": "display_data"
    }
   ],
   "source": [
    "Td_map = collector.aggregated_map[1000]\n",
    "Foreground_map = (Td_map < collector.thred_map)&(Td_map != 0)\n",
    "Labeling_map = db.fit_predict(Td_map= Td_map,Foreground_map=Foreground_map)\n",
    "Background_map = (Td_map >= collector.thred_map)&(Td_map != 0)\n",
    "\n",
    "\n",
    "thred_merge = 30\n",
    "unique_label = np.unique(Labeling_map)\n",
    "#Only Background contains \n",
    "if -1 in unique_label:\n",
    "    unique_label = unique_label[1:]\n",
    "occlusion_indicator = -np.ones((len(azimuths))).astype('int')\n",
    "rowses = []\n",
    "colses = []\n",
    "for l in unique_label:\n",
    "    rows,cols = np.where(Labeling_map == l)\n",
    "    occlusion_indicator[cols] = l\n",
    "    rowses.append(rows)\n",
    "    colses.append(cols)\n",
    "TSAv = occlusion_indicator != -1\n",
    "counts,appears = count(TSAv)\n",
    "Merge_cobs = []\n",
    "ind_pairs = [(i,i+1) for i in range(len(counts) - 1)]\n",
    "ind_pairs += [(-1,0)]\n",
    "for pair in ind_pairs:\n",
    "    col_right = appears[pair[0]] + counts[pair[0]] - 1\n",
    "    col_left = appears[pair[1]]\n",
    "    is_normal = col_left >= col_right\n",
    "    if is_normal&((col_left - col_right) > thred_merge):\n",
    "        continue\n",
    "    bounder_right_label = occlusion_indicator[col_right]\n",
    "    bounder_left_label = occlusion_indicator[col_left]\n",
    "    # right-bound on left ---- left-bound on right\n",
    "    label_ind_right= np.where(unique_label == bounder_right_label)[0][0]\n",
    "    rows_right = rowses[label_ind_right][colses[label_ind_right] == col_right]\n",
    "    label_ind_left = np.where(unique_label == bounder_left_label)[0][0]\n",
    "    rows_left = rowses[label_ind_left][colses[label_ind_left] == col_left]\n",
    "    rows_2bounds = np.concatenate([rows_left,rows_right])\n",
    "    high,low = rows_2bounds.max(),rows_2bounds.min()\n",
    "    if is_normal:\n",
    "        interval_map = Td_map[low:high+1,col_right:col_left+1][Background_map[low:high+1,col_right:col_left+1]]\n",
    "    else:\n",
    "        if (len(azimuths) - col_right) + col_left > thred_merge:\n",
    "            continue\n",
    "        else: \n",
    "            interval_map_right = Td_map[low:high+1,col_right:len(azimuths)][Background_map[low:high+1,col_right:len(azimuths)]]\n",
    "            interval_map_left = Td_map[low:high+1,:col_left + 1][Background_map[low:high+1,:col_left + 1]]\n",
    "            interval_map = np.concatenate([interval_map_left,interval_map_right])\n",
    "    if len(interval_map) == 0 :\n",
    "        continue\n",
    "\n",
    "    min_dis_int = interval_map.min()\n",
    "    min_dis_right = Td_map[rows_right,col_right].min()\n",
    "    min_dis_left = Td_map[rows_left,col_left].min()\n",
    "    if (min_dis_int  < min_dis_right)&(min_dis_int < min_dis_left)&(np.abs(min_dis_right - min_dis_left) < 2.5):\n",
    "        Merge_cobs.append([label_ind_right,label_ind_left])\n",
    "\n",
    "for cob in Merge_cobs:\n",
    "    for i in range(1,len(cob)):\n",
    "        Labeling_map[Labeling_map == cob[i]] = cob[0]\n",
    "        unique_label[unique_label == cob[i]] = cob[0]\n",
    "\n",
    "new_uni_labels = np.unique(unique_label)\n",
    "xy_set = []\n",
    "for label in new_uni_labels:\n",
    "    rows,cols = np.where(Labeling_map == label)\n",
    "    sort_ind = np.argsort(cols)\n",
    "    refer_cols = cols[sort_ind[[0,-1]]]\n",
    "    # this is being said, the first place is for less azimuth id \n",
    "    refer_rows = rows[sort_ind[[0,-1]]]\n",
    "    if np.abs(refer_cols[0] - refer_cols[1]) >= 900:\n",
    "        cols[cols <= 900] += 1800\n",
    "        sort_ind = np.argsort(cols)\n",
    "        refer_cols = cols[sort_ind[[0,-1]]]\n",
    "        refer_cols[refer_cols >= 1800] -= 1800\n",
    "        refer_rows = rows[sort_ind[[0,-1]]]\n",
    "    xy_set.append(get_representative_point(refer_rows,refer_cols,Td_map))\n",
    "\n",
    "\n",
    "\n",
    "\n",
    "pcd = get_pcd_colored(Td_map,Labeling_map,Foreground_map)\n",
    "draw(pcd, height = 1000,width = 1000)"
   ]
  },
  {
   "cell_type": "code",
   "execution_count": 25,
   "metadata": {},
   "outputs": [],
   "source": [
    "from scipy.spatial import distance"
   ]
  },
  {
   "cell_type": "code",
   "execution_count": 28,
   "metadata": {},
   "outputs": [],
   "source": [
    "from numpy.linalg import inv"
   ]
  },
  {
   "cell_type": "code",
   "execution_count": 69,
   "metadata": {},
   "outputs": [
    {
     "data": {
      "text/plain": [
       "1.116880781646981"
      ]
     },
     "execution_count": 69,
     "metadata": {},
     "output_type": "execute_result"
    }
   ],
   "source": [
    "V = np.array([\n",
    "    [1,0.2],\n",
    "    [0.3,2]\n",
    "])\n",
    "VI = inv(V)\n",
    "distance.mahalanobis([1.1,0], [0,0], VI)"
   ]
  },
  {
   "cell_type": "code",
   "execution_count": 37,
   "metadata": {},
   "outputs": [],
   "source": [
    "distance.mahalanobis?"
   ]
  },
  {
   "cell_type": "code",
   "execution_count": null,
   "metadata": {},
   "outputs": [],
   "source": []
  },
  {
   "cell_type": "code",
   "execution_count": null,
   "metadata": {},
   "outputs": [],
   "source": []
  },
  {
   "cell_type": "code",
   "execution_count": null,
   "metadata": {},
   "outputs": [],
   "source": []
  },
  {
   "cell_type": "code",
   "execution_count": null,
   "metadata": {},
   "outputs": [],
   "source": []
  }
 ],
 "metadata": {
  "interpreter": {
   "hash": "42302c28e5085b919aea458e627b8255e1e792dac20b85945e8189f2b9f9260e"
  },
  "kernelspec": {
   "display_name": "Python 3 (ipykernel)",
   "language": "python",
   "name": "python3"
  },
  "language_info": {
   "codemirror_mode": {
    "name": "ipython",
    "version": 3
   },
   "file_extension": ".py",
   "mimetype": "text/x-python",
   "name": "python",
   "nbconvert_exporter": "python",
   "pygments_lexer": "ipython3",
   "version": "3.8.12"
  }
 },
 "nbformat": 4,
 "nbformat_minor": 4
}
