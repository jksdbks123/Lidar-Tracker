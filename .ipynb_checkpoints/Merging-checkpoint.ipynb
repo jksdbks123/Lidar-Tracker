{
 "cells": [
  {
   "cell_type": "code",
   "execution_count": 1,
   "metadata": {},
   "outputs": [
    {
     "name": "stdout",
     "output_type": "stream",
     "text": [
      "Jupyter environment detected. Enabling Open3D WebVisualizer.\n",
      "[Open3D INFO] WebRTC GUI backend enabled.\n",
      "[Open3D INFO] WebRTCWindowSystem: HTTP handshake server disabled.\n",
      "[Open3D INFO] WebRTC GUI backend enabled.\n",
      "[Open3D INFO] Resetting default logger to print to terminal.\n"
     ]
    }
   ],
   "source": [
    "from MOT import MOT\n",
    "import numpy as np\n",
    "import matplotlib.pyplot as plt\n",
    "import os\n",
    "from BfTableGenerator import RansacCollector\n",
    "from BfTableGenerator import TDmapLoader\n",
    "from tqdm import tqdm\n",
    "# from open3d import JVisualizer \n",
    "from Utils import *\n",
    "from DDBSCAN import Raster_DBSCAN\n",
    "import open3d as op3\n",
    "op3.visualization.webrtc_server.enable_webrtc()\n",
    "from open3d.web_visualizer import draw\n",
    "from VisulizerTools import *\n",
    "from numpy.lib.stride_tricks import sliding_window_view\n"
   ]
  },
  {
   "cell_type": "code",
   "execution_count": 2,
   "metadata": {},
   "outputs": [
    {
     "name": "stdout",
     "output_type": "stream",
     "text": [
      "Loading pcap...\n"
     ]
    },
    {
     "name": "stderr",
     "output_type": "stream",
     "text": [
      "100%|███████████████████████████████████████| 2000/2000 [01:24<00:00, 23.66it/s]\n"
     ]
    },
    {
     "name": "stdout",
     "output_type": "stream",
     "text": [
      "Generating Threshold Map\n"
     ]
    }
   ],
   "source": [
    "# os.chdir(r'/Users/czhui960/Documents/Lidar/RawLidarData/FrameSamplingTest')\n",
    "# thred_map = np.load(r'Output File/thred_map_1200.npy')\n",
    "collector = RansacCollector(pcap_path=r'../RawLidarData/Veteran/Veteran.pcap',output_file_path='../MergingResult/',update_frame_num=2000)\n",
    "collector.gen_tdmap()\n",
    "collector.gen_thredmap(d = 1.1,thred_s = 0.2,N = 20,delta_thred = 1e-3,step = 0.1)"
   ]
  },
  {
   "cell_type": "code",
   "execution_count": 3,
   "metadata": {},
   "outputs": [],
   "source": [
    "db = Raster_DBSCAN(window_size=(5,13),eps = 1.7, min_samples= 17,Td_map_szie=collector.thred_map.shape)   "
   ]
  },
  {
   "cell_type": "code",
   "execution_count": 8,
   "metadata": {},
   "outputs": [],
   "source": [
    "Td_map = collector.aggregated_map[700]\n",
    "Foreground_map = (Td_map < collector.thred_map)&(Td_map != 0)\n",
    "Labeling_map = db.fit_predict(Td_map= Td_map,Foreground_map=Foreground_map)\n",
    "Background_map = (Td_map >= collector.thred_map)&(Td_map != 0)\n",
    "# pcd = get_pcd_colored_specified(Td_map,Labeling_map,Specified_label = [0,2])\n",
    "Labeling_map[:,:] = -1\n",
    "pcd = get_pcd_colored(Td_map,Labeling_map)"
   ]
  },
  {
   "cell_type": "code",
   "execution_count": 9,
   "metadata": {
    "scrolled": false
   },
   "outputs": [
    {
     "data": {
      "application/vnd.jupyter.widget-view+json": {
       "model_id": "7af6727c53c3496b84b1be2d528d1a0d",
       "version_major": 2,
       "version_minor": 0
      },
      "text/plain": [
       "WebVisualizer(window_uid='window_3')"
      ]
     },
     "metadata": {},
     "output_type": "display_data"
    },
    {
     "name": "stdout",
     "output_type": "stream",
     "text": [
      "[Open3D INFO] Window window_3 created.\n",
      "[Open3D INFO] [Called HTTP API (custom handshake)] /api/getIceServers\n",
      "[Open3D INFO] [Called HTTP API (custom handshake)] /api/call\n",
      "[Open3D INFO] [Called HTTP API (custom handshake)] /api/addIceCandidate\n",
      "[Open3D INFO] [Called HTTP API (custom handshake)] /api/addIceCandidate\n",
      "[Open3D INFO] [Called HTTP API (custom handshake)] /api/addIceCandidate\n",
      "[Open3D INFO] [Called HTTP API (custom handshake)] /api/addIceCandidate\n",
      "[Open3D INFO] [Called HTTP API (custom handshake)] /api/addIceCandidate\n",
      "[Open3D INFO] [Called HTTP API (custom handshake)] /api/addIceCandidate\n",
      "[Open3D INFO] [Called HTTP API (custom handshake)] /api/addIceCandidate\n",
      "[Open3D INFO] [Called HTTP API (custom handshake)] /api/addIceCandidate\n",
      "[Open3D INFO] [Called HTTP API (custom handshake)] /api/addIceCandidate\n",
      "[Open3D INFO] [Called HTTP API (custom handshake)] /api/addIceCandidate\n",
      "[Open3D INFO] [Called HTTP API (custom handshake)] /api/addIceCandidate\n",
      "[Open3D INFO] [Called HTTP API (custom handshake)] /api/addIceCandidate\n",
      "[Open3D INFO] [Called HTTP API (custom handshake)] /api/addIceCandidate\n",
      "[Open3D INFO] [Called HTTP API (custom handshake)] /api/addIceCandidate\n",
      "[Open3D INFO] [Called HTTP API (custom handshake)] /api/addIceCandidate\n",
      "[Open3D INFO] [Called HTTP API (custom handshake)] /api/addIceCandidate\n",
      "[Open3D INFO] [Called HTTP API (custom handshake)] /api/addIceCandidate\n",
      "[Open3D INFO] [Called HTTP API (custom handshake)] /api/addIceCandidate\n",
      "[Open3D INFO] [Called HTTP API (custom handshake)] /api/addIceCandidate\n",
      "[Open3D INFO] [Called HTTP API (custom handshake)] /api/addIceCandidate\n",
      "[Open3D INFO] [Called HTTP API (custom handshake)] /api/getIceCandidate\n",
      "[Open3D INFO] DataChannelObserver::OnStateChange label: ServerDataChannel, state: open, peerid: 0.5008450225359388\n",
      "[Open3D INFO] DataChannelObserver::OnStateChange label: ClientDataChannel, state: open, peerid: 0.5008450225359388\n",
      "[Open3D INFO] Sending init frames to window_3.\n",
      "[Open3D INFO] [Called HTTP API (custom handshake)] /api/addIceCandidate\n",
      "[Open3D INFO] [Called HTTP API (custom handshake)] /api/addIceCandidate\n"
     ]
    },
    {
     "name": "stderr",
     "output_type": "stream",
     "text": [
      "[448:405][757925] (webrtc_sdp.cc:420): Failed to parse: \"\". Reason: Expect line: candidate:<candidate-str>\n"
     ]
    },
    {
     "name": "stdout",
     "output_type": "stream",
     "text": [
      "[Open3D INFO] [Called HTTP API (custom handshake)] /api/addIceCandidate\n",
      "\u001b[1;33m[Open3D WARNING] Can't parse received candidate message.\u001b[0;m\n"
     ]
    },
    {
     "name": "stderr",
     "output_type": "stream",
     "text": [
      "[476:978][758023] (stun_port.cc:96): Binding request timed out from 192.168.1.x:40733 (wlp59s0)\n",
      "[495:734][758023] (stun_port.cc:596): sendto : [0x00000065] Network is unreachable\n",
      "[495:734][758023] (stun_port.cc:596): sendto : [0x00000065] Network is unreachable\n",
      "[495:734][758023] (stun_port.cc:596): sendto : [0x00000065] Network is unreachable\n",
      "[495:734][758023] (stun_port.cc:596): sendto : [0x00000065] Network is unreachable\n",
      "[495:984][758023] (stun_port.cc:596): sendto : [0x00000065] Network is unreachable\n",
      "[495:984][758023] (stun_port.cc:596): sendto : [0x00000065] Network is unreachable\n",
      "[495:984][758023] (stun_port.cc:596): sendto : [0x00000065] Network is unreachable\n",
      "[495:984][758023] (stun_port.cc:596): sendto : [0x00000065] Network is unreachable\n",
      "[496:484][758023] (stun_port.cc:596): sendto : [0x00000065] Network is unreachable\n",
      "[496:484][758023] (stun_port.cc:596): sendto : [0x00000065] Network is unreachable\n",
      "[496:484][758023] (stun_port.cc:596): sendto : [0x00000065] Network is unreachable\n",
      "[496:484][758023] (stun_port.cc:596): sendto : [0x00000065] Network is unreachable\n",
      "[496:555][758023] (stun_port.cc:596): sendto : [0x00000065] Network is unreachable\n",
      "[496:555][758023] (stun_port.cc:596): sendto : [0x00000065] Network is unreachable\n",
      "[496:805][758023] (stun_port.cc:596): sendto : [0x00000065] Network is unreachable\n",
      "[496:805][758023] (stun_port.cc:596): sendto : [0x00000065] Network is unreachable\n",
      "[497:305][758023] (stun_port.cc:596): sendto : [0x00000065] Network is unreachable\n",
      "[497:305][758023] (stun_port.cc:596): sendto : [0x00000065] Network is unreachable\n",
      "[497:484][758023] (stun_port.cc:596): sendto : [0x00000065] Network is unreachable\n",
      "[497:484][758023] (stun_port.cc:596): sendto : [0x00000065] Network is unreachable\n",
      "[497:484][758023] (stun_port.cc:596): sendto : [0x00000065] Network is unreachable\n",
      "[497:484][758023] (stun_port.cc:596): sendto : [0x00000065] Network is unreachable\n",
      "[498:199][758023] (stun_port.cc:596): sendto : [0x00000065] Network is unreachable\n",
      "[498:199][758023] (stun_port.cc:596): sendto : [0x00000065] Network is unreachable\n",
      "[498:305][758023] (stun_port.cc:596): sendto : [0x00000065] Network is unreachable\n",
      "[498:305][758023] (stun_port.cc:596): sendto : [0x00000065] Network is unreachable\n",
      "[498:449][758023] (stun_port.cc:596): sendto : [0x00000065] Network is unreachable\n",
      "[498:449][758023] (stun_port.cc:596): sendto : [0x00000065] Network is unreachable\n",
      "[498:949][758023] (stun_port.cc:596): sendto : [0x00000065] Network is unreachable\n",
      "[498:949][758023] (stun_port.cc:596): sendto : [0x00000065] Network is unreachable\n",
      "[499:484][758023] (stun_port.cc:596): sendto : [0x00000065] Network is unreachable\n",
      "[499:484][758023] (stun_port.cc:596): sendto : [0x00000065] Network is unreachable\n",
      "[499:484][758023] (stun_port.cc:596): sendto : [0x00000065] Network is unreachable\n",
      "[499:484][758023] (stun_port.cc:596): sendto : [0x00000065] Network is unreachable\n",
      "[499:949][758023] (stun_port.cc:596): sendto : [0x00000065] Network is unreachable\n",
      "[499:950][758023] (stun_port.cc:596): sendto : [0x00000065] Network is unreachable\n",
      "[500:305][758023] (stun_port.cc:596): sendto : [0x00000065] Network is unreachable\n",
      "[500:305][758023] (stun_port.cc:596): sendto : [0x00000065] Network is unreachable\n"
     ]
    }
   ],
   "source": [
    "draw(pcd,width=1000,height=1000)"
   ]
  },
  {
   "cell_type": "code",
   "execution_count": null,
   "metadata": {},
   "outputs": [],
   "source": []
  },
  {
   "cell_type": "code",
   "execution_count": null,
   "metadata": {},
   "outputs": [],
   "source": [
    "Valid_ind = (td_freq_map[i] != 0)&(td_freq_map[i]<self.data_collector.thred_map[i]) # None zero index"
   ]
  },
  {
   "cell_type": "code",
   "execution_count": null,
   "metadata": {},
   "outputs": [],
   "source": [
    "def get_pcd_colored(Td_map,Labeling_map,Foreground_map):\n",
    "    \n",
    "    Xs = []\n",
    "    Ys = []\n",
    "    Zs = []\n",
    "    Labels = []\n",
    "    for i in range(Td_map.shape[0]):\n",
    "        longitudes = theta[i]*np.pi / 180\n",
    "        latitudes = azimuths * np.pi / 180 \n",
    "        hypotenuses = Td_map[i] * np.cos(longitudes)\n",
    "        X = hypotenuses * np.sin(latitudes)\n",
    "        Y = hypotenuses * np.cos(latitudes)\n",
    "        Z = Td_map[i] * np.sin(longitudes)\n",
    "        Valid_ind = (Td_map[i] != 0)&(Foreground_map[i])\n",
    "        Xs.append(X[Valid_ind])\n",
    "        Ys.append(Y[Valid_ind])\n",
    "        Zs.append(Z[Valid_ind])\n",
    "        Labels.append(Labeling_map[i][Valid_ind])\n",
    "\n",
    "    Xs = np.concatenate(Xs)\n",
    "    Ys = np.concatenate(Ys)\n",
    "    Zs = np.concatenate(Zs)\n",
    "    Labels = np.concatenate(Labels)\n",
    "    XYZ = np.concatenate([Xs.reshape(-1,1),Ys.reshape(-1,1),Zs.reshape(-1,1)],axis = 1)\n",
    "    Colors = np.full((len(Labels),3),np.array([[153,153,153]])/256)\n",
    "    unique_label = np.unique(Labels)\n",
    "    for l in unique_label[1:]:\n",
    "        Colors[Labels == l] = color_map[l%len(color_map)]\n",
    "\n",
    "    pcd = op3.geometry.PointCloud()\n",
    "    pcd.points = op3.utility.Vector3dVector(XYZ)\n",
    "    pcd.colors = op3.utility.Vector3dVector(Colors)\n",
    "    return pcd    "
   ]
  },
  {
   "cell_type": "code",
   "execution_count": null,
   "metadata": {},
   "outputs": [],
   "source": []
  },
  {
   "cell_type": "code",
   "execution_count": 106,
   "metadata": {},
   "outputs": [
    {
     "name": "stdout",
     "output_type": "stream",
     "text": [
      "[Open3D INFO] [Called HTTP API (custom handshake)] /api/getIceServers\n"
     ]
    },
    {
     "ename": "KeyboardInterrupt",
     "evalue": "",
     "output_type": "error",
     "traceback": [
      "\u001b[0;31m---------------------------------------------------------------------------\u001b[0m",
      "\u001b[0;31mKeyboardInterrupt\u001b[0m                         Traceback (most recent call last)",
      "\u001b[0;32m/tmp/ipykernel_4923/685251774.py\u001b[0m in \u001b[0;36m<module>\u001b[0;34m\u001b[0m\n\u001b[1;32m      2\u001b[0m     \u001b[0mTd_map\u001b[0m \u001b[0;34m=\u001b[0m \u001b[0mcollector\u001b[0m\u001b[0;34m.\u001b[0m\u001b[0maggregated_map\u001b[0m\u001b[0;34m[\u001b[0m\u001b[0mi\u001b[0m\u001b[0;34m]\u001b[0m\u001b[0;34m\u001b[0m\u001b[0;34m\u001b[0m\u001b[0m\n\u001b[1;32m      3\u001b[0m     \u001b[0mForeground_map\u001b[0m \u001b[0;34m=\u001b[0m \u001b[0;34m(\u001b[0m\u001b[0mTd_map\u001b[0m \u001b[0;34m<\u001b[0m \u001b[0mcollector\u001b[0m\u001b[0;34m.\u001b[0m\u001b[0mthred_map\u001b[0m\u001b[0;34m)\u001b[0m\u001b[0;34m&\u001b[0m\u001b[0;34m(\u001b[0m\u001b[0mTd_map\u001b[0m \u001b[0;34m!=\u001b[0m \u001b[0;36m0\u001b[0m\u001b[0;34m)\u001b[0m\u001b[0;34m\u001b[0m\u001b[0;34m\u001b[0m\u001b[0m\n\u001b[0;32m----> 4\u001b[0;31m     \u001b[0mLabeling_map\u001b[0m \u001b[0;34m=\u001b[0m \u001b[0mdb\u001b[0m\u001b[0;34m.\u001b[0m\u001b[0mfit_predict\u001b[0m\u001b[0;34m(\u001b[0m\u001b[0mTd_map\u001b[0m\u001b[0;34m=\u001b[0m \u001b[0mTd_map\u001b[0m\u001b[0;34m,\u001b[0m\u001b[0mForeground_map\u001b[0m\u001b[0;34m=\u001b[0m\u001b[0mForeground_map\u001b[0m\u001b[0;34m)\u001b[0m\u001b[0;34m\u001b[0m\u001b[0;34m\u001b[0m\u001b[0m\n\u001b[0m\u001b[1;32m      5\u001b[0m     \u001b[0mBackground_map\u001b[0m \u001b[0;34m=\u001b[0m \u001b[0;34m(\u001b[0m\u001b[0mTd_map\u001b[0m \u001b[0;34m>=\u001b[0m \u001b[0mcollector\u001b[0m\u001b[0;34m.\u001b[0m\u001b[0mthred_map\u001b[0m\u001b[0;34m)\u001b[0m\u001b[0;34m&\u001b[0m\u001b[0;34m(\u001b[0m\u001b[0mTd_map\u001b[0m \u001b[0;34m!=\u001b[0m \u001b[0;36m0\u001b[0m\u001b[0;34m)\u001b[0m\u001b[0;34m\u001b[0m\u001b[0;34m\u001b[0m\u001b[0m\n\u001b[1;32m      6\u001b[0m     \u001b[0munique_label\u001b[0m \u001b[0;34m=\u001b[0m \u001b[0mnp\u001b[0m\u001b[0;34m.\u001b[0m\u001b[0munique\u001b[0m\u001b[0;34m(\u001b[0m\u001b[0mLabeling_map\u001b[0m\u001b[0;34m)\u001b[0m\u001b[0;34m[\u001b[0m\u001b[0;36m1\u001b[0m\u001b[0;34m:\u001b[0m\u001b[0;34m]\u001b[0m\u001b[0;34m\u001b[0m\u001b[0;34m\u001b[0m\u001b[0m\n",
      "\u001b[0;32m~/Documents/Lidar-Tracker/DDBSCAN.py\u001b[0m in \u001b[0;36mfit_predict\u001b[0;34m(self, Td_map, Foreground_map)\u001b[0m\n\u001b[1;32m     63\u001b[0m                                     self.Height_fringe_offset_td])\n\u001b[1;32m     64\u001b[0m \u001b[0;34m\u001b[0m\u001b[0m\n\u001b[0;32m---> 65\u001b[0;31m         \u001b[0mSub_indmap\u001b[0m \u001b[0;34m=\u001b[0m \u001b[0msliding_window_view\u001b[0m\u001b[0;34m(\u001b[0m\u001b[0mIndex_map_offset\u001b[0m\u001b[0;34m,\u001b[0m\u001b[0mself\u001b[0m\u001b[0;34m.\u001b[0m\u001b[0mwindow_size\u001b[0m\u001b[0;34m)\u001b[0m\u001b[0;34m.\u001b[0m\u001b[0mreshape\u001b[0m\u001b[0;34m(\u001b[0m\u001b[0;34m-\u001b[0m\u001b[0;36m1\u001b[0m\u001b[0;34m,\u001b[0m\u001b[0mself\u001b[0m\u001b[0;34m.\u001b[0m\u001b[0mwindow_size\u001b[0m\u001b[0;34m[\u001b[0m\u001b[0;36m0\u001b[0m\u001b[0;34m]\u001b[0m\u001b[0;34m,\u001b[0m\u001b[0mself\u001b[0m\u001b[0;34m.\u001b[0m\u001b[0mwindow_size\u001b[0m\u001b[0;34m[\u001b[0m\u001b[0;36m1\u001b[0m\u001b[0;34m]\u001b[0m\u001b[0;34m)\u001b[0m\u001b[0;34m\u001b[0m\u001b[0;34m\u001b[0m\u001b[0m\n\u001b[0m\u001b[1;32m     66\u001b[0m         \u001b[0mSub_tdmap\u001b[0m \u001b[0;34m=\u001b[0m \u001b[0msliding_window_view\u001b[0m\u001b[0;34m(\u001b[0m\u001b[0mTd_map_offset\u001b[0m\u001b[0;34m,\u001b[0m\u001b[0mself\u001b[0m\u001b[0;34m.\u001b[0m\u001b[0mwindow_size\u001b[0m\u001b[0;34m)\u001b[0m\u001b[0;34m.\u001b[0m\u001b[0mreshape\u001b[0m\u001b[0;34m(\u001b[0m\u001b[0;34m-\u001b[0m\u001b[0;36m1\u001b[0m\u001b[0;34m,\u001b[0m\u001b[0mself\u001b[0m\u001b[0;34m.\u001b[0m\u001b[0mwindow_size\u001b[0m\u001b[0;34m[\u001b[0m\u001b[0;36m0\u001b[0m\u001b[0;34m]\u001b[0m\u001b[0;34m,\u001b[0m\u001b[0mself\u001b[0m\u001b[0;34m.\u001b[0m\u001b[0mwindow_size\u001b[0m\u001b[0;34m[\u001b[0m\u001b[0;36m1\u001b[0m\u001b[0;34m]\u001b[0m\u001b[0;34m)\u001b[0m\u001b[0;34m\u001b[0m\u001b[0;34m\u001b[0m\u001b[0m\n\u001b[1;32m     67\u001b[0m         \u001b[0mSub_foremap\u001b[0m \u001b[0;34m=\u001b[0m \u001b[0msliding_window_view\u001b[0m\u001b[0;34m(\u001b[0m\u001b[0mForeground_map_offset\u001b[0m\u001b[0;34m,\u001b[0m\u001b[0mself\u001b[0m\u001b[0;34m.\u001b[0m\u001b[0mwindow_size\u001b[0m\u001b[0;34m)\u001b[0m\u001b[0;34m.\u001b[0m\u001b[0mreshape\u001b[0m\u001b[0;34m(\u001b[0m\u001b[0;34m-\u001b[0m\u001b[0;36m1\u001b[0m\u001b[0;34m,\u001b[0m\u001b[0mself\u001b[0m\u001b[0;34m.\u001b[0m\u001b[0mwindow_size\u001b[0m\u001b[0;34m[\u001b[0m\u001b[0;36m0\u001b[0m\u001b[0;34m]\u001b[0m\u001b[0;34m,\u001b[0m\u001b[0mself\u001b[0m\u001b[0;34m.\u001b[0m\u001b[0mwindow_size\u001b[0m\u001b[0;34m[\u001b[0m\u001b[0;36m1\u001b[0m\u001b[0;34m]\u001b[0m\u001b[0;34m)\u001b[0m\u001b[0;34m\u001b[0m\u001b[0;34m\u001b[0m\u001b[0m\n",
      "\u001b[0;31mKeyboardInterrupt\u001b[0m: "
     ]
    }
   ],
   "source": [
    "for i in range(1000):\n",
    "    Td_map = collector.aggregated_map[i]\n",
    "    Foreground_map = (Td_map < collector.thred_map)&(Td_map != 0)\n",
    "    Labeling_map = db.fit_predict(Td_map= Td_map,Foreground_map=Foreground_map)\n",
    "    Background_map = (Td_map >= collector.thred_map)&(Td_map != 0)\n",
    "    unique_label = np.unique(Labeling_map)[1:]\n",
    "    boundary_cols = []\n",
    "    boundary_rows = []\n",
    "\n",
    "    for l in unique_label:\n",
    "        rows,cols = np.where(Labeling_map == l)\n",
    "        sorted_cols_ind = np.argsort(cols)\n",
    "        sorted_cols = cols[sorted_cols_ind]\n",
    "        sorted_rows = rows[sorted_cols_ind]\n",
    "        left_col,right_col = sorted_cols[0],sorted_cols[-1]\n",
    "\n",
    "        if (right_col - left_col) >  900:\n",
    "            left_col += 1800 \n",
    "        boundary_cols.append([left_col,right_col])\n",
    "        boundary_rows.append([rows[sorted_cols_ind[0]],rows[sorted_cols_ind[-1]]])\n",
    "    boundary_cols,boundary_rows = np.array(boundary_cols),np.array(boundary_rows)\n",
    "\n",
    "    sorted_label = np.argsort(boundary_cols[:,0])\n",
    "    adjacent_label_pairs = []\n",
    "    for sl in range(len(sorted_label) - 1):\n",
    "        if boundary_cols[sorted_label[sl],1] < boundary_cols[sorted_label[sl+1],0]:\n",
    "            adjacent_label_pairs.append([sorted_label[sl],sorted_label[sl+1]])\n",
    "\n",
    "    if boundary_cols[sorted_label[-1],1] > 1800:\n",
    "        if (boundary_cols[sorted_label[-1],1] - 1800) < boundary_cols[sorted_label[0],0]:\n",
    "            adjacent_label_pairs.append([sorted_label[-1],sorted_label[0]])\n",
    "    else:\n",
    "        if boundary_cols[sorted_label[-1],1] < boundary_cols[sorted_label[0],0]:\n",
    "            adjacent_label_pairs.append([sorted_label[-1],sorted_label[0]])\n",
    "    merging_pairs = []\n",
    "    for adjacent in adjacent_label_pairs:\n",
    "        pair_a,pair_b = adjacent[0],adjacent[1]\n",
    "        interval_left_col,interval_right_col = boundary_cols[pair_a][1],boundary_cols[pair_b][0]\n",
    "        interval_left_row,interval_right_row = boundary_rows[pair_a][1],boundary_rows[pair_b][0]\n",
    "    #     print(interval_left_col,interval_right_col)\n",
    "        high = interval_left_row\n",
    "        low = interval_right_row\n",
    "        if high < low: \n",
    "            high,low = low,high\n",
    "\n",
    "        interval_map = Td_map[low:high+1,interval_left_col:interval_right_col+1][Background_map[low:high+1,interval_left_col:interval_right_col+1]]\n",
    "        if len(interval_map) == 0:\n",
    "            continue\n",
    "        min_dis_int = interval_map.min()\n",
    "        min_dis_a = Td_map[Labeling_map == pair_a].min()\n",
    "        min_dis_b = Td_map[Labeling_map == pair_b].min()\n",
    "        if (min_dis_int<min_dis_a)&(min_dis_int<min_dis_b)&(np.abs(min_dis_a - min_dis_b) < 1.2):\n",
    "            merging_pairs.append([pair_a,pair_b])"
   ]
  },
  {
   "cell_type": "code",
   "execution_count": null,
   "metadata": {},
   "outputs": [],
   "source": []
  },
  {
   "cell_type": "code",
   "execution_count": 5,
   "metadata": {},
   "outputs": [],
   "source": [
    "pcd = get_pcd_colored_specified(Td_map,Labeling_map,Specified_label = [3,4])"
   ]
  },
  {
   "cell_type": "code",
   "execution_count": null,
   "metadata": {},
   "outputs": [],
   "source": []
  },
  {
   "cell_type": "code",
   "execution_count": 78,
   "metadata": {
    "scrolled": true
   },
   "outputs": [
    {
     "name": "stdout",
     "output_type": "stream",
     "text": [
      "[Open3D INFO] Window window_6 created.\n"
     ]
    },
    {
     "data": {
      "application/vnd.jupyter.widget-view+json": {
       "model_id": "a1cef06648d044259ceae42796aff0a8",
       "version_major": 2,
       "version_minor": 0
      },
      "text/plain": [
       "WebVisualizer(window_uid='window_6')"
      ]
     },
     "metadata": {},
     "output_type": "display_data"
    },
    {
     "name": "stdout",
     "output_type": "stream",
     "text": [
      "[Open3D INFO] [Called HTTP API (custom handshake)] /api/getIceServers\n",
      "[Open3D INFO] [Called HTTP API (custom handshake)] /api/call\n",
      "[Open3D INFO] [Called HTTP API (custom handshake)] /api/addIceCandidate\n",
      "[Open3D INFO] [Called HTTP API (custom handshake)] /api/addIceCandidate\n",
      "[Open3D INFO] [Called HTTP API (custom handshake)] /api/addIceCandidate\n",
      "[Open3D INFO] [Called HTTP API (custom handshake)] /api/addIceCandidate\n",
      "[Open3D INFO] [Called HTTP API (custom handshake)] /api/addIceCandidate\n",
      "[Open3D INFO] [Called HTTP API (custom handshake)] /api/addIceCandidate\n",
      "[Open3D INFO] [Called HTTP API (custom handshake)] /api/addIceCandidate\n",
      "[Open3D INFO] [Called HTTP API (custom handshake)] /api/addIceCandidate\n",
      "[Open3D INFO] [Called HTTP API (custom handshake)] /api/addIceCandidate\n",
      "[Open3D INFO] [Called HTTP API (custom handshake)] /api/addIceCandidate\n",
      "[Open3D INFO] [Called HTTP API (custom handshake)] /api/getIceCandidate\n",
      "[Open3D INFO] DataChannelObserver::OnStateChange label: ServerDataChannel, state: open, peerid: 0.8935897817253582\n",
      "[Open3D INFO] DataChannelObserver::OnStateChange label: ClientDataChannel, state: open, peerid: 0.8935897817253582\n",
      "[Open3D INFO] Sending init frames to window_6.\n",
      "[Open3D INFO] [Called HTTP API (custom handshake)] /api/addIceCandidate\n",
      "[Open3D INFO] [Called HTTP API (custom handshake)] /api/addIceCandidate\n",
      "[Open3D INFO] [Called HTTP API (custom handshake)] /api/addIceCandidate\n"
     ]
    },
    {
     "name": "stderr",
     "output_type": "stream",
     "text": [
      "[8843:983][4923] (webrtc_sdp.cc:420): Failed to parse: \"\". Reason: Expect line: candidate:<candidate-str>\n"
     ]
    },
    {
     "name": "stdout",
     "output_type": "stream",
     "text": [
      "\u001b[1;33m[Open3D WARNING] Can't parse received candidate message.\u001b[0;m\n"
     ]
    }
   ],
   "source": [
    "draw(pcd)"
   ]
  },
  {
   "cell_type": "code",
   "execution_count": 53,
   "metadata": {},
   "outputs": [],
   "source": [
    "unique_label = np.unique(Labeling_map)[1:]\n",
    "boundary_cols = []\n",
    "boundary_rows = []\n",
    "\n",
    "for l in unique_label:\n",
    "    rows,cols = np.where(Labeling_map == l)\n",
    "    sorted_cols_ind = np.argsort(cols)\n",
    "    sorted_cols = cols[sorted_cols_ind]\n",
    "    sorted_rows = rows[sorted_cols_ind]\n",
    "    left_col,right_col = sorted_cols[0],sorted_cols[-1]\n",
    "    \n",
    "    if (right_col - left_col) >  900:\n",
    "        left_col += 1800 \n",
    "    boundary_cols.append([left_col,right_col])\n",
    "    boundary_rows.append([rows[sorted_cols_ind[0]],rows[sorted_cols_ind[-1]]])\n",
    "boundary_cols,boundary_rows = np.array(boundary_cols),np.array(boundary_rows)\n",
    "\n",
    "sorted_label = np.argsort(boundary_cols[:,0])\n",
    "adjacent_label_pairs = []\n",
    "for sl in range(len(sorted_label) - 1):\n",
    "    if boundary_cols[sorted_label[sl],1] < boundary_cols[sorted_label[sl+1],0]:\n",
    "        adjacent_label_pairs.append([sorted_label[sl],sorted_label[sl+1]])\n",
    "        \n",
    "if boundary_cols[sorted_label[-1],1] > 1800:\n",
    "    if (boundary_cols[sorted_label[-1],1] - 1800) < boundary_cols[sorted_label[0],0]:\n",
    "        adjacent_label_pairs.append([sorted_label[-1],sorted_label[0]])\n",
    "else:\n",
    "    if boundaries[sorted_label[-1],1] < boundaries[sorted_label[0],0]:\n",
    "        adjacent_label_pairs.append([sorted_label[-1],sorted_label[0]])\n",
    "merging_pairs = []\n",
    "for adjacent in adjacent_label_pairs:\n",
    "    pair_a,pair_b = adjacent[0],adjacent[1]\n",
    "    interval_left_col,interval_right_col = boundary_cols[pair_a][1],boundary_cols[pair_b][0]\n",
    "    interval_left_row,interval_right_row = boundary_rows[pair_a][1],boundary_rows[pair_b][0]\n",
    "#     print(interval_left_col,interval_right_col)\n",
    "    high = interval_left_row\n",
    "    low = interval_right_row\n",
    "    if high < low: \n",
    "        high,low = low,high\n",
    "    \n",
    "    interval_map = Td_map[low:high+1,interval_left_col:interval_right_col+1][Background_map[low:high+1,interval_left_col:interval_right_col+1]]\n",
    "    min_dis_int = interval_map.min()\n",
    "    min_dis_a = Td_map[Labeling_map == pair_a].min()\n",
    "    min_dis_b = Td_map[Labeling_map == pair_b].min()\n",
    "    if (min_dis_int<min_dis_a)&(min_dis_int<min_dis_b)&(np.abs(min_dis_a - min_dis_b) < 1.2):\n",
    "        merging_pairs.append([pair_a,pair_b])"
   ]
  },
  {
   "cell_type": "code",
   "execution_count": null,
   "metadata": {},
   "outputs": [],
   "source": []
  },
  {
   "cell_type": "code",
   "execution_count": 34,
   "metadata": {},
   "outputs": [
    {
     "name": "stderr",
     "output_type": "stream",
     "text": [
      "[4334:199][5456] (stun_port.cc:96): Binding request timed out from 172.27.56.x:38380 (wlp59s0)\n"
     ]
    }
   ],
   "source": [
    "pcd = get_pcd_colored_specified(Td_map,Labeling_map,[2,0])"
   ]
  },
  {
   "cell_type": "code",
   "execution_count": 35,
   "metadata": {},
   "outputs": [
    {
     "name": "stdout",
     "output_type": "stream",
     "text": [
      "[Open3D INFO] Window window_5 created.\n"
     ]
    },
    {
     "data": {
      "application/vnd.jupyter.widget-view+json": {
       "model_id": "d0f580f9060540fe807ef9be7f64e350",
       "version_major": 2,
       "version_minor": 0
      },
      "text/plain": [
       "WebVisualizer(window_uid='window_5')"
      ]
     },
     "metadata": {},
     "output_type": "display_data"
    },
    {
     "name": "stdout",
     "output_type": "stream",
     "text": [
      "[Open3D INFO] [Called HTTP API (custom handshake)] /api/getIceServers\n",
      "[Open3D INFO] [Called HTTP API (custom handshake)] /api/call\n",
      "[Open3D INFO] [Called HTTP API (custom handshake)] /api/addIceCandidate\n",
      "[Open3D INFO] [Called HTTP API (custom handshake)] /api/addIceCandidate\n",
      "[Open3D INFO] [Called HTTP API (custom handshake)] /api/addIceCandidate\n",
      "[Open3D INFO] [Called HTTP API (custom handshake)] /api/addIceCandidate\n",
      "[Open3D INFO] [Called HTTP API (custom handshake)] /api/addIceCandidate\n",
      "[Open3D INFO] [Called HTTP API (custom handshake)] /api/addIceCandidate\n",
      "[Open3D INFO] [Called HTTP API (custom handshake)] /api/addIceCandidate\n",
      "[Open3D INFO] [Called HTTP API (custom handshake)] /api/addIceCandidate\n",
      "[Open3D INFO] [Called HTTP API (custom handshake)] /api/addIceCandidate\n",
      "[Open3D INFO] [Called HTTP API (custom handshake)] /api/addIceCandidate\n",
      "[Open3D INFO] [Called HTTP API (custom handshake)] /api/getIceCandidate\n",
      "[Open3D INFO] DataChannelObserver::OnStateChange label: ServerDataChannel, state: open, peerid: 0.2811952838877505\n",
      "[Open3D INFO] DataChannelObserver::OnStateChange label: ClientDataChannel, state: open, peerid: 0.2811952838877505\n",
      "[Open3D INFO] Sending init frames to window_5.\n",
      "[Open3D INFO] [Called HTTP API (custom handshake)] /api/addIceCandidate\n",
      "[Open3D INFO] [Called HTTP API (custom handshake)] /api/addIceCandidate\n",
      "[Open3D INFO] [Called HTTP API (custom handshake)] /api/addIceCandidate\n"
     ]
    },
    {
     "name": "stderr",
     "output_type": "stream",
     "text": [
      "[4338:254][4923] (webrtc_sdp.cc:420): Failed to parse: \"\". Reason: Expect line: candidate:<candidate-str>\n"
     ]
    },
    {
     "name": "stdout",
     "output_type": "stream",
     "text": [
      "\u001b[1;33m[Open3D WARNING] Can't parse received candidate message.\u001b[0;m\n",
      "[Open3D INFO] [Called HTTP API (custom handshake)] /api/addIceCandidate\n"
     ]
    },
    {
     "name": "stderr",
     "output_type": "stream",
     "text": [
      "[4345:896][4923] (webrtc_sdp.cc:420): Failed to parse: \"\". Reason: Expect line: candidate:<candidate-str>\n"
     ]
    },
    {
     "name": "stdout",
     "output_type": "stream",
     "text": [
      "\u001b[1;33m[Open3D WARNING] Can't parse received candidate message.\u001b[0;m\n"
     ]
    },
    {
     "name": "stderr",
     "output_type": "stream",
     "text": [
      "[4348:433][5456] (stun_port.cc:96): Binding request timed out from 172.27.56.x:56980 (wlp59s0)\n",
      "[4357:034][5456] (stun_port.cc:96): Binding request timed out from 172.27.56.x:37034 (wlp59s0)\n",
      "[4366:830][5456] (stun_port.cc:96): Binding request timed out from 172.27.56.x:58437 (wlp59s0)\n",
      "[4374:471][5456] (stun_port.cc:96): Binding request timed out from 172.27.56.x:47780 (wlp59s0)\n"
     ]
    }
   ],
   "source": [
    "draw(pcd)"
   ]
  },
  {
   "cell_type": "code",
   "execution_count": 8,
   "metadata": {},
   "outputs": [
    {
     "ename": "NameError",
     "evalue": "name 'Background_map' is not defined",
     "output_type": "error",
     "traceback": [
      "\u001b[0;31m---------------------------------------------------------------------------\u001b[0m",
      "\u001b[0;31mNameError\u001b[0m                                 Traceback (most recent call last)",
      "\u001b[0;32m/tmp/ipykernel_4923/16706215.py\u001b[0m in \u001b[0;36m<module>\u001b[0;34m\u001b[0m\n\u001b[1;32m     28\u001b[0m     \u001b[0;32mif\u001b[0m \u001b[0minterval_left_row\u001b[0m \u001b[0;34m>\u001b[0m \u001b[0minterval_right_col\u001b[0m\u001b[0;34m:\u001b[0m\u001b[0;34m\u001b[0m\u001b[0;34m\u001b[0m\u001b[0m\n\u001b[1;32m     29\u001b[0m         \u001b[0minterval_left_row\u001b[0m\u001b[0;34m,\u001b[0m\u001b[0minterval_right_row\u001b[0m \u001b[0;34m=\u001b[0m \u001b[0minterval_right_row\u001b[0m\u001b[0;34m,\u001b[0m\u001b[0minterval_left_row\u001b[0m\u001b[0;34m\u001b[0m\u001b[0;34m\u001b[0m\u001b[0m\n\u001b[0;32m---> 30\u001b[0;31m     \u001b[0minterval_map\u001b[0m \u001b[0;34m=\u001b[0m \u001b[0mTd_map\u001b[0m\u001b[0;34m[\u001b[0m\u001b[0minterval_left_row\u001b[0m\u001b[0;34m:\u001b[0m\u001b[0minterval_right_row\u001b[0m\u001b[0;34m+\u001b[0m\u001b[0;36m1\u001b[0m\u001b[0;34m,\u001b[0m\u001b[0minterval_left_col\u001b[0m\u001b[0;34m:\u001b[0m\u001b[0minterval_right_col\u001b[0m\u001b[0;34m+\u001b[0m\u001b[0;36m1\u001b[0m\u001b[0;34m]\u001b[0m\u001b[0;34m[\u001b[0m\u001b[0mBackground_map\u001b[0m\u001b[0;34m[\u001b[0m\u001b[0minterval_left_row\u001b[0m\u001b[0;34m:\u001b[0m\u001b[0minterval_right_row\u001b[0m\u001b[0;34m+\u001b[0m\u001b[0;36m1\u001b[0m\u001b[0;34m,\u001b[0m\u001b[0minterval_left_col\u001b[0m\u001b[0;34m:\u001b[0m\u001b[0minterval_right_col\u001b[0m\u001b[0;34m+\u001b[0m\u001b[0;36m1\u001b[0m\u001b[0;34m]\u001b[0m\u001b[0;34m]\u001b[0m\u001b[0;34m\u001b[0m\u001b[0;34m\u001b[0m\u001b[0m\n\u001b[0m\u001b[1;32m     31\u001b[0m     \u001b[0mmin_dis_int\u001b[0m \u001b[0;34m=\u001b[0m \u001b[0minterval_map\u001b[0m\u001b[0;34m.\u001b[0m\u001b[0mmin\u001b[0m\u001b[0;34m(\u001b[0m\u001b[0;34m)\u001b[0m\u001b[0;34m\u001b[0m\u001b[0;34m\u001b[0m\u001b[0m\n\u001b[1;32m     32\u001b[0m     \u001b[0mmin_dis_a\u001b[0m \u001b[0;34m=\u001b[0m \u001b[0mTd_map\u001b[0m\u001b[0;34m[\u001b[0m\u001b[0mLabeling_map\u001b[0m \u001b[0;34m==\u001b[0m \u001b[0mpair_a\u001b[0m\u001b[0;34m]\u001b[0m\u001b[0;34m.\u001b[0m\u001b[0mmin\u001b[0m\u001b[0;34m(\u001b[0m\u001b[0;34m)\u001b[0m\u001b[0;34m\u001b[0m\u001b[0;34m\u001b[0m\u001b[0m\n",
      "\u001b[0;31mNameError\u001b[0m: name 'Background_map' is not defined"
     ]
    }
   ],
   "source": [
    "unique_label = np.unique(Labeling_map)[1:]\n",
    "boundaries = []\n",
    "boundary_rows = []\n",
    "for l in unique_label:\n",
    "    rows,cols = np.where(Labeling_map == l)\n",
    "    sorted_cols_ind = np.argsort(cols)\n",
    "    sorted_cols = cols[sorted_cols_ind]\n",
    "    left_col,right_col = sorted_cols[0],sorted_cols[-1]\n",
    "    if (right_col - left_col) >  900:\n",
    "        left_col += 1800 \n",
    "    boundaries.append([left_col,right_col])\n",
    "    boundary_rows.append([rows[sorted_cols_ind[0]],rows[sorted_cols_ind[-1]]])\n",
    "boundaries,boundary_rows = np.array(boundaries),np.array(boundary_rows)\n",
    "\n",
    "sorted_label = np.argsort(boundaries[:,0])\n",
    "adjacent_label_pairs = []\n",
    "for sl in range(len(sorted_label) - 1):\n",
    "    if boundaries[sorted_label[sl],1] < boundaries[sorted_label[sl+1],0]:\n",
    "        adjacent_label_pairs.append([sorted_label[sl],sorted_label[sl+1]])\n",
    "        \n",
    "if boundaries[sorted_label[-1],1]  < boundaries[sorted_label[0],0] + 1800:\n",
    "        adjacent_label_pairs.append([sorted_label[-1],sorted_label[0]])\n",
    "        \n",
    "for adjacent in adjacent_label_pairs:\n",
    "    pair_a,pair_b = adjacent[0],adjacent[1]\n",
    "    interval_left_col,interval_right_col = boundaries[pair_a][1],boundaries[pair_b][0]\n",
    "    interval_left_row,interval_right_row = boundary_rows[pair_a][1],boundary_rows[pair_b][0]\n",
    "    if interval_left_row > interval_right_col:\n",
    "        interval_left_row,interval_right_row = interval_right_row,interval_left_row\n",
    "    interval_map = Td_map[interval_left_row:interval_right_row+1,interval_left_col:interval_right_col+1][Background_map[interval_left_row:interval_right_row+1,interval_left_col:interval_right_col+1]]\n",
    "    min_dis_int = interval_map.min()\n",
    "    min_dis_a = Td_map[Labeling_map == pair_a].min()\n",
    "    min_dis_b = Td_map[Labeling_map == pair_b].min()\n",
    "    if (min_dis_int<min_dis_a)&(min_dis_int<min_dis_b)&(np.abs(min_dis_a - min_dis_b) < 1.2):\n",
    "        print('AMD, YES!',pair_a,pair_b)"
   ]
  },
  {
   "cell_type": "code",
   "execution_count": null,
   "metadata": {},
   "outputs": [],
   "source": []
  },
  {
   "cell_type": "code",
   "execution_count": null,
   "metadata": {},
   "outputs": [],
   "source": []
  },
  {
   "cell_type": "code",
   "execution_count": null,
   "metadata": {},
   "outputs": [],
   "source": []
  },
  {
   "cell_type": "code",
   "execution_count": null,
   "metadata": {},
   "outputs": [],
   "source": []
  },
  {
   "cell_type": "code",
   "execution_count": null,
   "metadata": {},
   "outputs": [],
   "source": []
  },
  {
   "cell_type": "code",
   "execution_count": null,
   "metadata": {},
   "outputs": [],
   "source": []
  },
  {
   "cell_type": "code",
   "execution_count": null,
   "metadata": {},
   "outputs": [],
   "source": []
  },
  {
   "cell_type": "code",
   "execution_count": null,
   "metadata": {},
   "outputs": [],
   "source": []
  }
 ],
 "metadata": {
  "interpreter": {
   "hash": "1e5f7bb8ccf0c05ceb6f1a2a367df183186574b25661c58bd0281a0958a9efbd"
  },
  "kernelspec": {
   "display_name": "Python 3 (ipykernel)",
   "language": "python",
   "name": "python3"
  },
  "language_info": {
   "codemirror_mode": {
    "name": "ipython",
    "version": 3
   },
   "file_extension": ".py",
   "mimetype": "text/x-python",
   "name": "python",
   "nbconvert_exporter": "python",
   "pygments_lexer": "ipython3",
   "version": "3.7.11"
  }
 },
 "nbformat": 4,
 "nbformat_minor": 4
}
