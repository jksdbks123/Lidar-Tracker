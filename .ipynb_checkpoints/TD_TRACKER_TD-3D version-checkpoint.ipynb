{
 "cells": [
  {
   "cell_type": "code",
   "execution_count": 69,
   "metadata": {},
   "outputs": [],
   "source": [
    "from scipy.spatial import distance\n",
    "from tqdm.notebook import tqdm\n",
    "import datetime\n",
    "import dpkt\n",
    "import numpy as np\n",
    "import matplotlib.pyplot as plt\n",
    "import os\n",
    "import open3d as op3 \n",
    "import pandas as pd\n",
    "import time\n",
    "from scipy.sparse.csgraph import connected_components\n",
    "from open3d import JVisualizer\n",
    "from BfTableGenerator import RansacCollector\n",
    "from matplotlib import cm\n",
    "from sklearn.cluster._dbscan_inner import dbscan_inner\n",
    "from numpy.lib.stride_tricks import sliding_window_view\n",
    "from DDBSCAN import Raster_DBSCAN\n",
    "from scipy import ndimage \n",
    "import cv2\n",
    "from scipy.optimize import linear_sum_assignment\n",
    "\n",
    "theta_raw = np.array([[-25,1.4],[-1,-4.2],[-1.667,1.4],[-15.639,-1.4],\n",
    "                            [-11.31,1.4],[0,-1.4],[-0.667,4.2],[-8.843,-1.4],\n",
    "                            [-7.254,1.4],[0.333,-4.2],[-0.333,1.4],[-6.148,-1.4],\n",
    "                            [-5.333,4.2],[1.333,-1.4],[0.667,4.2],[-4,-1.4],\n",
    "                            [-4.667,1.4],[1.667,-4.2],[1,1.4],[-3.667,-4.2],\n",
    "                            [-3.333,4.2],[3.333,-1.4],[2.333,1.4],[-2.667,-1.4],\n",
    "                            [-3,1.4],[7,-1.4],[4.667,1.4],[-2.333,-4.2],\n",
    "                            [-2,4.2],[15,-1.4],[10.333,1.4],[-1.333,-1.4]\n",
    "                            ])[:,0]\n",
    "theta = np.sort(theta_raw)\n",
    "azimuths = np.arange(0,360,0.2)"
   ]
  },
  {
   "cell_type": "code",
   "execution_count": 2,
   "metadata": {},
   "outputs": [],
   "source": [
    "np.set_printoptions(suppress=True)"
   ]
  },
  {
   "cell_type": "code",
   "execution_count": 3,
   "metadata": {
    "scrolled": false
   },
   "outputs": [
    {
     "name": "stderr",
     "output_type": "stream",
     "text": [
      "  0%|          | 2/5000 [00:00<04:17, 19.43it/s]"
     ]
    },
    {
     "name": "stdout",
     "output_type": "stream",
     "text": [
      "Loading pcap...\n"
     ]
    },
    {
     "name": "stderr",
     "output_type": "stream",
     "text": [
      "100%|██████████| 5000/5000 [03:50<00:00, 21.66it/s]\n",
      "  0%|          | 0/32 [00:00<?, ?it/s]"
     ]
    },
    {
     "name": "stdout",
     "output_type": "stream",
     "text": [
      "Generating Threshold Map\n"
     ]
    },
    {
     "name": "stderr",
     "output_type": "stream",
     "text": [
      "100%|██████████| 32/32 [00:17<00:00,  1.84it/s]\n"
     ]
    }
   ],
   "source": [
    "os.chdir(r'/Users/czhui960/Documents/Lidar/RawLidarData/FrameSamplingTest')\n",
    "frame_set = np.arange(0,5000,1).astype('int')\n",
    "collector = RansacCollector(pcap_path=r'./2020-7-27-10-30-0.pcap',frames_set = frame_set)\n",
    "collector.gen_tdmap()\n",
    "collector.gen_thredmap(d = 1.2,thred_s = 0.3,N = 20,delta_thred = 1e-3,step = 0.1,inuse_frame = frame_set)\n",
    "# d = 1.2,thred_s = 0.3,N = 20,delta_thred = 1e-3,step = 0.1 FrameSampling\n"
   ]
  },
  {
   "cell_type": "code",
   "execution_count": 4,
   "metadata": {},
   "outputs": [],
   "source": [
    "Thred_map = collector.thred_map\n",
    "db = Raster_DBSCAN(window_size=(5,13),eps = 1.5, min_samples= 16,Td_map_szie=Thred_map.shape)"
   ]
  },
  {
   "cell_type": "code",
   "execution_count": 5,
   "metadata": {},
   "outputs": [
    {
     "data": {
      "application/vnd.jupyter.widget-view+json": {
       "model_id": "17e77e62e14d4adfb0a4cb2891c03d73",
       "version_major": 2,
       "version_minor": 0
      },
      "text/plain": [
       "HBox(children=(HTML(value=''), FloatProgress(value=0.0, max=2000.0), HTML(value='')))"
      ]
     },
     "metadata": {},
     "output_type": "display_data"
    },
    {
     "name": "stdout",
     "output_type": "stream",
     "text": [
      "\n"
     ]
    }
   ],
   "source": [
    "Td_maps = []\n",
    "Labeling_maps = []\n",
    "Time_consumings = []\n",
    "for i in tqdm(range(2000)):\n",
    "    ti = time.time()\n",
    "    Td_map = collector.td_maps[i].copy()\n",
    "    Foreground_map = (Td_map < Thred_map)&(Td_map != 0)\n",
    "    Labeling_map = db.fit_predict(Td_map= Td_map,Foreground_map=Foreground_map)\n",
    "    Td_maps.append(Td_map)\n",
    "    Labeling_maps.append(Labeling_map)\n",
    "    Time_consumings.append((time.time() - ti)*1000)"
   ]
  },
  {
   "cell_type": "code",
   "execution_count": 249,
   "metadata": {},
   "outputs": [],
   "source": [
    "from pykalman.datasets import load_robot\n",
    "from pykalman import KalmanFilter"
   ]
  },
  {
   "cell_type": "markdown",
   "metadata": {},
   "source": [
    "# Kalman Filter "
   ]
  },
  {
   "cell_type": "code",
   "execution_count": 7,
   "metadata": {},
   "outputs": [],
   "source": [
    "def convert_point_cloud(Td_map, Labeling_map): \n",
    "    td_freq_map = Td_map\n",
    "    Xs = []\n",
    "    Ys = []\n",
    "    Zs = []\n",
    "    Labels = []\n",
    "    for i in range(td_freq_map.shape[0]):\n",
    "\n",
    "        longitudes = theta[i]*np.pi / 180\n",
    "        latitudes = azimuths * np.pi / 180 \n",
    "        hypotenuses = td_freq_map[i] * np.cos(longitudes)\n",
    "        X = hypotenuses * np.sin(latitudes)\n",
    "        Y = hypotenuses * np.cos(latitudes)\n",
    "        Z = td_freq_map[i] * np.sin(longitudes)\n",
    "        Valid_ind =  (td_freq_map[i] != 0)&(td_freq_map[i]<collector.thred_map[i])\n",
    "\n",
    "        # None zero index\n",
    "        Xs.append(X[Valid_ind])\n",
    "        Ys.append(Y[Valid_ind])\n",
    "        Zs.append(Z[Valid_ind])\n",
    "\n",
    "        Labels.append(Labeling_map[i][Valid_ind])\n",
    "\n",
    "    Xs = np.concatenate(Xs)\n",
    "    Ys = np.concatenate(Ys)\n",
    "    Zs = np.concatenate(Zs)\n",
    "    Labels = np.concatenate(Labels).astype('int')\n",
    "    XYZ = np.concatenate([Xs.reshape(-1,1),Ys.reshape(-1,1),Zs.reshape(-1,1)],axis = 1)\n",
    "    return XYZ, Labels"
   ]
  },
  {
   "cell_type": "code",
   "execution_count": 35,
   "metadata": {},
   "outputs": [],
   "source": [
    "def get_params_from_detection_points(Td_map,Labeling_map,Label):\n",
    "    \n",
    "    XYZ,Labels = convert_point_cloud(Td_map,Labeling_map)\n",
    "    pcd = op3.geometry.PointCloud()\n",
    "    pcd.points = op3.utility.Vector3dVector(XYZ[Labels == Label])\n",
    "    bbox = pcd.get_axis_aligned_bounding_box()\n",
    "    # x,y,length,width,height \n",
    "    xylwh = np.concatenate([bbox.get_center()[:2],bbox.get_max_bound() - bbox.get_min_bound()])\n",
    "    return xylwh\n",
    "\n"
   ]
  },
  {
   "cell_type": "code",
   "execution_count": 40,
   "metadata": {},
   "outputs": [],
   "source": [
    "def extract_xylwh_by_frame(Labeling_map,Td_map):\n",
    "    \n",
    "    XYZ,Labels = convert_point_cloud(Td_map,Labeling_map)\n",
    "    if -1 in Labels:\n",
    "        unique_id = np.unique(Labels)[1:]\n",
    "    else:\n",
    "        unique_id = np.unique(Labels)\n",
    "    xylwh_set = []  \n",
    "    for l in unique_id:\n",
    "        xylwh = get_params_from_detection_points(Td_map,Labeling_map,l)\n",
    "        xylwh_set.append(xylwh)\n",
    "    \n",
    "    return np.array(xylwh_set),unique_id"
   ]
  },
  {
   "cell_type": "code",
   "execution_count": 45,
   "metadata": {},
   "outputs": [],
   "source": [
    "def extract_mea_state_vec(xylwh_set):\n",
    "    return xylwh_set.reshape((-1,xylwh_set.shape[1],1))"
   ]
  },
  {
   "cell_type": "code",
   "execution_count": 55,
   "metadata": {},
   "outputs": [],
   "source": [
    "def state_predict(A,Q,state,P):\n",
    "    \"\"\"\n",
    "    state: s_k-1, (n x 10 x 1)\n",
    "    Cov: P_k-1 (n x 10 x 10)\n",
    "    \"\"\"\n",
    "    state_ = np.matmul(A,state)\n",
    "    P_ = np.matmul(np.matmul(A,P),A.transpose()) + Q\n",
    "    return state_,P_\n",
    "\n",
    "def state_update(A,H,state_,P_,R,mea):\n",
    "    \"\"\"\n",
    "    mea: m_k (m x 5 x 1)\n",
    "    \n",
    "    \"\"\"\n",
    "    K = np.matmul(np.matmul(P_,H.transpose()),np.linalg.inv(np.matmul(np.matmul(H,P_),H.transpose()) + R))\n",
    "    P = np.matmul((np.eye(A.shape[0]) - np.matmul(K,H)),P_)\n",
    "    residual = mea - np.matmul(H,state_) # n x 5 x 1\n",
    "    state = state_ + np.matmul(K,residual)\n",
    "    \n",
    "    return state, P "
   ]
  },
  {
   "cell_type": "code",
   "execution_count": 889,
   "metadata": {},
   "outputs": [],
   "source": [
    "from scipy.stats import multivariate_normal"
   ]
  },
  {
   "cell_type": "code",
   "execution_count": 1067,
   "metadata": {},
   "outputs": [
    {
     "ename": "SyntaxError",
     "evalue": "unexpected EOF while parsing (<ipython-input-1067-93f1afaf50e6>, line 3)",
     "output_type": "error",
     "traceback": [
      "\u001b[0;36m  File \u001b[0;32m\"<ipython-input-1067-93f1afaf50e6>\"\u001b[0;36m, line \u001b[0;32m3\u001b[0m\n\u001b[0;31m    for j in [0,1,4]:\u001b[0m\n\u001b[0m                     ^\u001b[0m\n\u001b[0;31mSyntaxError\u001b[0m\u001b[0;31m:\u001b[0m unexpected EOF while parsing\n"
     ]
    }
   ],
   "source": [
    "P = np.zeros((3,3))\n",
    "for i in [0,1,4]:\n",
    "    for j in [0,1,4]:"
   ]
  },
  {
   "cell_type": "code",
   "execution_count": 1066,
   "metadata": {},
   "outputs": [
    {
     "data": {
      "text/plain": [
       "array([1, 1, 1])"
      ]
     },
     "execution_count": 1066,
     "metadata": {},
     "output_type": "execute_result"
    }
   ],
   "source": [
    "P[[0,1,2],[0,1,2]]"
   ]
  },
  {
   "cell_type": "code",
   "execution_count": 1059,
   "metadata": {},
   "outputs": [
    {
     "data": {
      "text/plain": [
       "array([[-11.88047381],\n",
       "       [-24.11983506],\n",
       "       [  1.9988973 ]])"
      ]
     },
     "execution_count": 1059,
     "metadata": {},
     "output_type": "execute_result"
    }
   ],
   "source": [
    "post_list[0][0][[0,1,4]]"
   ]
  },
  {
   "cell_type": "code",
   "execution_count": 1055,
   "metadata": {},
   "outputs": [],
   "source": [
    "def get_affinity_mat(state,state_,P_,mea,R):\n",
    "    State_affinity = np.zeros((state_.shape[0],mea.shape[0]))\n",
    "    for i,s_ in enumerate(state_):\n",
    "        v_ = s_[[0,1]].copy()\n",
    "        P_[i] = np.array([[P,]])\n",
    "        VI = P_[i][[0,1],[0,1]].copy()\n",
    "        for j,m in enumerate(mea):\n",
    "            u = m[[0,1]].copy()\n",
    "#             State_affinity[i][j] = multivariate_normal.pdf(u.flatten(),v_.flatten(),VI)\n",
    "            State_affinity[i][j] = distance.mahalanobis(u.flatten(),v_.flatten(),np.linalg.inv(VI))\n",
    "    return State_affinity"
   ]
  },
  {
   "cell_type": "code",
   "execution_count": 811,
   "metadata": {},
   "outputs": [],
   "source": [
    "def create_new_detection(Tracking_pool,Global_id,P_init,state_init,label_init,mea_init,start_frame):\n",
    "    \n",
    "    new_detection = detected_obj()\n",
    "    new_detection.glb_id = Global_id\n",
    "    new_detection.P = P_init\n",
    "    new_detection.state = state_init\n",
    "    new_detection.label_seq.append(label_init)\n",
    "    new_detection.start_frame = start_frame\n",
    "    new_detection.mea_seq.append(mea_init)\n",
    "    new_detection.post_seq.append(state_init)\n",
    "    Tracking_pool[Global_id] = new_detection\n",
    "    \n"
   ]
  },
  {
   "cell_type": "code",
   "execution_count": 812,
   "metadata": {},
   "outputs": [],
   "source": [
    "def process_fails(Tracking_pool,Off_tracking_pool,glb_id,state_cur_,P_cur_):\n",
    "    if Tracking_pool[glb_id].missing_count > missing_thred:\n",
    "        Off_tracking_pool[glb_id] = Tracking_pool.pop(glb_id)\n",
    "    else:\n",
    "        Tracking_pool[glb_id].missing_count += 1\n",
    "        Tracking_pool[glb_id].state = state_cur_\n",
    "        Tracking_pool[glb_id].P = P_cur_\n",
    "        Tracking_pool[glb_id].label_seq.append(-1)\n",
    "        Tracking_pool[glb_id].mea_seq.append(-1)\n",
    "        Tracking_pool[glb_id].post_seq.append(-1)"
   ]
  },
  {
   "cell_type": "code",
   "execution_count": 813,
   "metadata": {},
   "outputs": [],
   "source": [
    "def associate_detections(Tracking_pool,glb_id,state,P,next_label,mea_next):\n",
    "    Tracking_pool[glb_id].state = state\n",
    "    Tracking_pool[glb_id].P = P\n",
    "    Tracking_pool[glb_id].label_seq.append(next_label)\n",
    "    Tracking_pool[glb_id].mea_seq.append(mea_next)\n",
    "    Tracking_pool[glb_id].post_seq.append(state)\n",
    "    Tracking_pool[glb_id].missing_count = 0"
   ]
  },
  {
   "cell_type": "code",
   "execution_count": 814,
   "metadata": {},
   "outputs": [],
   "source": [
    "class detected_obj():\n",
    "    def __init__(self):\n",
    "        self.glb_id = None\n",
    "        self.start_frame = None\n",
    "        self.missing_count = 0 # frame count of out of detection\n",
    "        self.P = None\n",
    "        self.state = None \n",
    "        self.label_seq = [] # represented labels at each frame \n",
    "        self.mea_seq = []\n",
    "        self.post_seq = []\n",
    "\n",
    "        "
   ]
  },
  {
   "cell_type": "code",
   "execution_count": 761,
   "metadata": {},
   "outputs": [],
   "source": [
    "# one-order dynamic model\n",
    "A = np.array( # x,y,l,w,h,x',y',l',w',h'\n",
    "    [[1,0,0,0,0,1,0,0,0,0],\n",
    "     [0,1,0,0,0,0,1,0,0,0],\n",
    "     [0,0,1,0,0,0,0,1,0,0],\n",
    "     [0,0,0,1,0,0,0,0,1,0],\n",
    "     [0,0,0,0,1,0,0,0,0,1],\n",
    "     [0,0,0,0,0,1,0,0,0,0],\n",
    "     [0,0,0,0,0,0,1,0,0,0],\n",
    "     [0,0,0,0,0,0,0,1,0,0],\n",
    "     [0,0,0,0,0,0,0,0,1,0],\n",
    "     [0,0,0,0,0,0,0,0,0,1]]\n",
    ")\n",
    "Q = np.diag([10,10,1,1,1,1,1,1,.1,.1])*0.1\n",
    "H = np.array([[1,0,0,0,0,0,0,0,0,0],\n",
    "              [0,1,0,0,0,0,0,0,0,0],\n",
    "              [0,0,1,0,0,0,0,0,0,0],\n",
    "              [0,0,0,1,0,0,0,0,0,0],\n",
    "              [0,0,0,0,1,0,0,0,0,0]])\n",
    "R = np.diag([10,10,.2,.2,.2])\n",
    "P = np.diag([1,1,1,1,1,1,1,1,1,1])\n",
    "missing_thred = 2"
   ]
  },
  {
   "cell_type": "code",
   "execution_count": 1056,
   "metadata": {},
   "outputs": [],
   "source": [
    "# two-order dynamic model\n",
    "A = np.array( # x,y,l,w,h,,x',y',l',w',h',x'',y''\n",
    "    [[1,0,0,0,0,1,0,0,0,0,.5, 0],\n",
    "     [0,1,0,0,0,0,1,0,0,0, 0,.5],\n",
    "     [0,0,1,0,0,0,0,1,0,0, 0, 0],\n",
    "     [0,0,0,1,0,0,0,0,1,0, 0, 0],\n",
    "     [0,0,0,0,1,0,0,0,0,1, 0, 0],\n",
    "     [0,0,0,0,0,1,0,0,0,0, 1, 0],\n",
    "     [0,0,0,0,0,0,1,0,0,0, 0, 1],\n",
    "     [0,0,0,0,0,0,0,1,0,0, 0, 0],\n",
    "     [0,0,0,0,0,0,0,0,1,0, 0, 0],\n",
    "     [0,0,0,0,0,0,0,0,0,1, 0, 0],\n",
    "     [0,0,0,0,0,0,0,0,0,0, 1, 0],\n",
    "     [0,0,0,0,0,0,0,0,0,0, 0, 1]]\n",
    ")\n",
    "Q = np.diag([10,10,1,1,1,1,1,1,1,1,1,1])\n",
    "H = np.array([[1,0,0,0,0,0,0,0,0,0,0,0],\n",
    "              [0,1,0,0,0,0,0,0,0,0,0,0],\n",
    "              [0,0,1,0,0,0,0,0,0,0,0,0],\n",
    "              [0,0,0,1,0,0,0,0,0,0,0,0],\n",
    "              [0,0,0,0,1,0,0,0,0,0,0,0]])\n",
    "R = np.diag([100,100,2,2,2])\n",
    "P = np.diag([1,1,1,1,1,1,1,1,1,1,1,1])\n",
    "missing_thred = 10"
   ]
  },
  {
   "cell_type": "code",
   "execution_count": null,
   "metadata": {},
   "outputs": [],
   "source": [
    "%%timeit\n",
    "Off_tracking_pool,af = tracking(Q,A,H,R,P,missing_thred)\n"
   ]
  },
  {
   "cell_type": "code",
   "execution_count": 1057,
   "metadata": {
    "scrolled": true
   },
   "outputs": [
    {
     "ename": "LinAlgError",
     "evalue": "1-dimensional array given. Array must be at least two-dimensional",
     "output_type": "error",
     "traceback": [
      "\u001b[0;31m---------------------------------------------------------------------------\u001b[0m",
      "\u001b[0;31mLinAlgError\u001b[0m                               Traceback (most recent call last)",
      "\u001b[0;32m<ipython-input-1057-2420af0bfa68>\u001b[0m in \u001b[0;36m<module>\u001b[0;34m\u001b[0m\n\u001b[0;32m----> 1\u001b[0;31m \u001b[0mOff_tracking_pool\u001b[0m\u001b[0;34m,\u001b[0m\u001b[0maf\u001b[0m \u001b[0;34m=\u001b[0m \u001b[0mtracking\u001b[0m\u001b[0;34m(\u001b[0m\u001b[0mQ\u001b[0m\u001b[0;34m,\u001b[0m\u001b[0mA\u001b[0m\u001b[0;34m,\u001b[0m\u001b[0mH\u001b[0m\u001b[0;34m,\u001b[0m\u001b[0mR\u001b[0m\u001b[0;34m,\u001b[0m\u001b[0mP\u001b[0m\u001b[0;34m,\u001b[0m\u001b[0mmissing_thred\u001b[0m\u001b[0;34m)\u001b[0m\u001b[0;34m\u001b[0m\u001b[0;34m\u001b[0m\u001b[0m\n\u001b[0m\u001b[1;32m      2\u001b[0m \u001b[0mkeys\u001b[0m \u001b[0;34m=\u001b[0m \u001b[0;34m[\u001b[0m\u001b[0mkey\u001b[0m \u001b[0;32mfor\u001b[0m \u001b[0mkey\u001b[0m \u001b[0;32min\u001b[0m \u001b[0mOff_tracking_pool\u001b[0m\u001b[0;34m.\u001b[0m\u001b[0mkeys\u001b[0m\u001b[0;34m(\u001b[0m\u001b[0;34m)\u001b[0m\u001b[0;34m]\u001b[0m\u001b[0;34m\u001b[0m\u001b[0;34m\u001b[0m\u001b[0m\n\u001b[1;32m      3\u001b[0m \u001b[0mlengths\u001b[0m \u001b[0;34m=\u001b[0m \u001b[0;34m[\u001b[0m\u001b[0mlen\u001b[0m\u001b[0;34m(\u001b[0m\u001b[0mOff_tracking_pool\u001b[0m\u001b[0;34m[\u001b[0m\u001b[0mkey\u001b[0m\u001b[0;34m]\u001b[0m\u001b[0;34m.\u001b[0m\u001b[0mmea_seq\u001b[0m\u001b[0;34m)\u001b[0m \u001b[0;32mfor\u001b[0m \u001b[0mkey\u001b[0m \u001b[0;32min\u001b[0m \u001b[0mOff_tracking_pool\u001b[0m\u001b[0;34m.\u001b[0m\u001b[0mkeys\u001b[0m\u001b[0;34m(\u001b[0m\u001b[0;34m)\u001b[0m\u001b[0;34m]\u001b[0m\u001b[0;34m\u001b[0m\u001b[0;34m\u001b[0m\u001b[0m\n\u001b[1;32m      4\u001b[0m \u001b[0mmea_list\u001b[0m \u001b[0;34m=\u001b[0m \u001b[0;34m[\u001b[0m\u001b[0mOff_tracking_pool\u001b[0m\u001b[0;34m[\u001b[0m\u001b[0mkey\u001b[0m\u001b[0;34m]\u001b[0m\u001b[0;34m.\u001b[0m\u001b[0mmea_seq\u001b[0m \u001b[0;32mfor\u001b[0m \u001b[0mkey\u001b[0m \u001b[0;32min\u001b[0m \u001b[0mOff_tracking_pool\u001b[0m\u001b[0;34m.\u001b[0m\u001b[0mkeys\u001b[0m\u001b[0;34m(\u001b[0m\u001b[0;34m)\u001b[0m \u001b[0;34m]\u001b[0m\u001b[0;34m\u001b[0m\u001b[0;34m\u001b[0m\u001b[0m\n\u001b[1;32m      5\u001b[0m \u001b[0mmea_list\u001b[0m \u001b[0;34m=\u001b[0m \u001b[0;34m[\u001b[0m\u001b[0;34m[\u001b[0m\u001b[0mm\u001b[0m \u001b[0;32mfor\u001b[0m \u001b[0mm\u001b[0m \u001b[0;32min\u001b[0m \u001b[0mmea\u001b[0m \u001b[0;32mif\u001b[0m \u001b[0mtype\u001b[0m\u001b[0;34m(\u001b[0m\u001b[0mm\u001b[0m\u001b[0;34m)\u001b[0m \u001b[0;34m!=\u001b[0m \u001b[0mint\u001b[0m\u001b[0;34m]\u001b[0m \u001b[0;32mfor\u001b[0m \u001b[0mmea\u001b[0m \u001b[0;32min\u001b[0m \u001b[0mmea_list\u001b[0m\u001b[0;34m]\u001b[0m\u001b[0;34m\u001b[0m\u001b[0;34m\u001b[0m\u001b[0m\n",
      "\u001b[0;32m<ipython-input-1043-ecfe13c630dd>\u001b[0m in \u001b[0;36mtracking\u001b[0;34m(Q, A, H, R, P_em, missing_thred)\u001b[0m\n\u001b[1;32m     50\u001b[0m         \u001b[0mxylwh_next\u001b[0m\u001b[0;34m,\u001b[0m\u001b[0munique_lebel_next\u001b[0m \u001b[0;34m=\u001b[0m \u001b[0mextract_xylwh_by_frame\u001b[0m\u001b[0;34m(\u001b[0m\u001b[0mLabeling_maps\u001b[0m\u001b[0;34m[\u001b[0m\u001b[0mFrame_ind\u001b[0m\u001b[0;34m]\u001b[0m\u001b[0;34m,\u001b[0m\u001b[0mTd_maps\u001b[0m\u001b[0;34m[\u001b[0m\u001b[0mFrame_ind\u001b[0m\u001b[0;34m]\u001b[0m\u001b[0;34m)\u001b[0m \u001b[0;31m# read observation at next frame\u001b[0m\u001b[0;34m\u001b[0m\u001b[0;34m\u001b[0m\u001b[0m\n\u001b[1;32m     51\u001b[0m         \u001b[0mmea_next\u001b[0m \u001b[0;34m=\u001b[0m \u001b[0mextract_mea_state_vec\u001b[0m\u001b[0;34m(\u001b[0m\u001b[0mxylwh_next\u001b[0m\u001b[0;34m)\u001b[0m\u001b[0;34m\u001b[0m\u001b[0;34m\u001b[0m\u001b[0m\n\u001b[0;32m---> 52\u001b[0;31m         \u001b[0mState_affinity\u001b[0m \u001b[0;34m=\u001b[0m \u001b[0mget_affinity_mat\u001b[0m\u001b[0;34m(\u001b[0m\u001b[0mstate_cur\u001b[0m\u001b[0;34m,\u001b[0m\u001b[0mstate_cur_\u001b[0m\u001b[0;34m,\u001b[0m\u001b[0mP_cur_\u001b[0m\u001b[0;34m,\u001b[0m\u001b[0mmea_next\u001b[0m\u001b[0;34m,\u001b[0m\u001b[0mR\u001b[0m\u001b[0;34m)\u001b[0m\u001b[0;34m\u001b[0m\u001b[0;34m\u001b[0m\u001b[0m\n\u001b[0m\u001b[1;32m     53\u001b[0m \u001b[0;31m#         print(State_affinity)\u001b[0m\u001b[0;34m\u001b[0m\u001b[0;34m\u001b[0m\u001b[0;34m\u001b[0m\u001b[0m\n\u001b[1;32m     54\u001b[0m         \u001b[0mafs\u001b[0m\u001b[0;34m.\u001b[0m\u001b[0mappend\u001b[0m\u001b[0;34m(\u001b[0m\u001b[0mState_affinity\u001b[0m\u001b[0;34m)\u001b[0m\u001b[0;34m\u001b[0m\u001b[0;34m\u001b[0m\u001b[0m\n",
      "\u001b[0;32m<ipython-input-1055-7ca934628f9f>\u001b[0m in \u001b[0;36mget_affinity_mat\u001b[0;34m(state, state_, P_, mea, R)\u001b[0m\n\u001b[1;32m      7\u001b[0m             \u001b[0mu\u001b[0m \u001b[0;34m=\u001b[0m \u001b[0mm\u001b[0m\u001b[0;34m[\u001b[0m\u001b[0;34m[\u001b[0m\u001b[0;36m0\u001b[0m\u001b[0;34m,\u001b[0m\u001b[0;36m1\u001b[0m\u001b[0;34m]\u001b[0m\u001b[0;34m]\u001b[0m\u001b[0;34m.\u001b[0m\u001b[0mcopy\u001b[0m\u001b[0;34m(\u001b[0m\u001b[0;34m)\u001b[0m\u001b[0;34m\u001b[0m\u001b[0;34m\u001b[0m\u001b[0m\n\u001b[1;32m      8\u001b[0m \u001b[0;31m#             State_affinity[i][j] = multivariate_normal.pdf(u.flatten(),v_.flatten(),VI)\u001b[0m\u001b[0;34m\u001b[0m\u001b[0;34m\u001b[0m\u001b[0;34m\u001b[0m\u001b[0m\n\u001b[0;32m----> 9\u001b[0;31m             \u001b[0mState_affinity\u001b[0m\u001b[0;34m[\u001b[0m\u001b[0mi\u001b[0m\u001b[0;34m]\u001b[0m\u001b[0;34m[\u001b[0m\u001b[0mj\u001b[0m\u001b[0;34m]\u001b[0m \u001b[0;34m=\u001b[0m \u001b[0mdistance\u001b[0m\u001b[0;34m.\u001b[0m\u001b[0mmahalanobis\u001b[0m\u001b[0;34m(\u001b[0m\u001b[0mu\u001b[0m\u001b[0;34m.\u001b[0m\u001b[0mflatten\u001b[0m\u001b[0;34m(\u001b[0m\u001b[0;34m)\u001b[0m\u001b[0;34m,\u001b[0m\u001b[0mv_\u001b[0m\u001b[0;34m.\u001b[0m\u001b[0mflatten\u001b[0m\u001b[0;34m(\u001b[0m\u001b[0;34m)\u001b[0m\u001b[0;34m,\u001b[0m\u001b[0mnp\u001b[0m\u001b[0;34m.\u001b[0m\u001b[0mlinalg\u001b[0m\u001b[0;34m.\u001b[0m\u001b[0minv\u001b[0m\u001b[0;34m(\u001b[0m\u001b[0mVI\u001b[0m\u001b[0;34m)\u001b[0m\u001b[0;34m)\u001b[0m\u001b[0;34m\u001b[0m\u001b[0;34m\u001b[0m\u001b[0m\n\u001b[0m\u001b[1;32m     10\u001b[0m     \u001b[0;32mreturn\u001b[0m \u001b[0mState_affinity\u001b[0m\u001b[0;34m\u001b[0m\u001b[0;34m\u001b[0m\u001b[0m\n",
      "\u001b[0;32m<__array_function__ internals>\u001b[0m in \u001b[0;36minv\u001b[0;34m(*args, **kwargs)\u001b[0m\n",
      "\u001b[0;32m~/opt/anaconda3/envs/tracking/lib/python3.8/site-packages/numpy/linalg/linalg.py\u001b[0m in \u001b[0;36minv\u001b[0;34m(a)\u001b[0m\n\u001b[1;32m    537\u001b[0m     \"\"\"\n\u001b[1;32m    538\u001b[0m     \u001b[0ma\u001b[0m\u001b[0;34m,\u001b[0m \u001b[0mwrap\u001b[0m \u001b[0;34m=\u001b[0m \u001b[0m_makearray\u001b[0m\u001b[0;34m(\u001b[0m\u001b[0ma\u001b[0m\u001b[0;34m)\u001b[0m\u001b[0;34m\u001b[0m\u001b[0;34m\u001b[0m\u001b[0m\n\u001b[0;32m--> 539\u001b[0;31m     \u001b[0m_assert_stacked_2d\u001b[0m\u001b[0;34m(\u001b[0m\u001b[0ma\u001b[0m\u001b[0;34m)\u001b[0m\u001b[0;34m\u001b[0m\u001b[0;34m\u001b[0m\u001b[0m\n\u001b[0m\u001b[1;32m    540\u001b[0m     \u001b[0m_assert_stacked_square\u001b[0m\u001b[0;34m(\u001b[0m\u001b[0ma\u001b[0m\u001b[0;34m)\u001b[0m\u001b[0;34m\u001b[0m\u001b[0;34m\u001b[0m\u001b[0m\n\u001b[1;32m    541\u001b[0m     \u001b[0mt\u001b[0m\u001b[0;34m,\u001b[0m \u001b[0mresult_t\u001b[0m \u001b[0;34m=\u001b[0m \u001b[0m_commonType\u001b[0m\u001b[0;34m(\u001b[0m\u001b[0ma\u001b[0m\u001b[0;34m)\u001b[0m\u001b[0;34m\u001b[0m\u001b[0;34m\u001b[0m\u001b[0m\n",
      "\u001b[0;32m~/opt/anaconda3/envs/tracking/lib/python3.8/site-packages/numpy/linalg/linalg.py\u001b[0m in \u001b[0;36m_assert_stacked_2d\u001b[0;34m(*arrays)\u001b[0m\n\u001b[1;32m    194\u001b[0m     \u001b[0;32mfor\u001b[0m \u001b[0ma\u001b[0m \u001b[0;32min\u001b[0m \u001b[0marrays\u001b[0m\u001b[0;34m:\u001b[0m\u001b[0;34m\u001b[0m\u001b[0;34m\u001b[0m\u001b[0m\n\u001b[1;32m    195\u001b[0m         \u001b[0;32mif\u001b[0m \u001b[0ma\u001b[0m\u001b[0;34m.\u001b[0m\u001b[0mndim\u001b[0m \u001b[0;34m<\u001b[0m \u001b[0;36m2\u001b[0m\u001b[0;34m:\u001b[0m\u001b[0;34m\u001b[0m\u001b[0;34m\u001b[0m\u001b[0m\n\u001b[0;32m--> 196\u001b[0;31m             raise LinAlgError('%d-dimensional array given. Array must be '\n\u001b[0m\u001b[1;32m    197\u001b[0m                     'at least two-dimensional' % a.ndim)\n\u001b[1;32m    198\u001b[0m \u001b[0;34m\u001b[0m\u001b[0m\n",
      "\u001b[0;31mLinAlgError\u001b[0m: 1-dimensional array given. Array must be at least two-dimensional"
     ]
    }
   ],
   "source": [
    "Off_tracking_pool,af = tracking(Q,A,H,R,P,missing_thred)\n",
    "keys = [key for key in Off_tracking_pool.keys()]\n",
    "lengths = [len(Off_tracking_pool[key].mea_seq) for key in Off_tracking_pool.keys()]\n",
    "mea_list = [Off_tracking_pool[key].mea_seq for key in Off_tracking_pool.keys() ]\n",
    "mea_list = [[m for m in mea if type(m) != int] for mea in mea_list]\n",
    "post_list = [Off_tracking_pool[key].post_seq for key in Off_tracking_pool.keys() ]\n",
    "post_list = [[p for p in pos if type(p) != int] for pos in post_list]\n",
    "np.argsort(lengths)"
   ]
  },
  {
   "cell_type": "code",
   "execution_count": 1046,
   "metadata": {},
   "outputs": [],
   "source": [
    "lengths = np.array(lengths)"
   ]
  },
  {
   "cell_type": "code",
   "execution_count": 1047,
   "metadata": {
    "scrolled": true
   },
   "outputs": [
    {
     "data": {
      "image/png": "[encoded data removed]",
      "text/plain": [
       "<Figure size 432x288 with 1 Axes>"
      ]
     },
     "metadata": {
      "needs_background": "light"
     },
     "output_type": "display_data"
    }
   ],
   "source": [
    "plt.hist(lengths[lengths>5],bins = 30)\n",
    "plt.show()"
   ]
  },
  {
   "cell_type": "code",
   "execution_count": 1048,
   "metadata": {
    "scrolled": false
   },
   "outputs": [
    {
     "data": {
      "image/png": "[encoded data removed]",
      "text/plain": [
       "<Figure size 720x720 with 1 Axes>"
      ]
     },
     "metadata": {
      "needs_background": "light"
     },
     "output_type": "display_data"
    }
   ],
   "source": [
    "key = 949\n",
    "mea_sub = np.array(mea_list[key]).reshape(-1,5)\n",
    "post_sub = np.array(post_list[key]).reshape(-1,12)\n",
    "plt.figure(figsize=(10,10))\n",
    "plt.plot(mea_sub[:,0],mea_sub[:,1],label = 'mea',marker = 'o')\n",
    "plt.plot(post_sub[:,0],post_sub[:,1],label = 'post', marker = 'x',markersize = 10)\n",
    "plt.legend(fontsize = 15)\n",
    "plt.show()"
   ]
  },
  {
   "cell_type": "code",
   "execution_count": 1043,
   "metadata": {},
   "outputs": [],
   "source": [
    "def tracking(Q,A,H,R,P_em,missing_thred):\n",
    "    afs = []\n",
    "    # Initialization \n",
    "\n",
    "    \"\"\" \n",
    "    Temp for Tracking\n",
    "    state_num: dim of presumed state space \n",
    "    \"\"\"\n",
    "    Frame_ind = 0\n",
    "    Tracking_pool = {}\n",
    "    Off_tracking_pool = {}\n",
    "    Global_id = 0 \n",
    "    missing_thred = missing_thred\n",
    "    \n",
    "\n",
    "    xylwh_init,unique_label_init = extract_xylwh_by_frame(Labeling_maps[Frame_ind],Td_maps[Frame_ind])\n",
    "    \n",
    "    mea_init = extract_mea_state_vec(xylwh_init)\n",
    "    # m: n x 5 x 1\n",
    "    \n",
    "    state_init = np.concatenate([mea_init,np.zeros((mea_init.shape[0],7)).reshape(mea_init.shape[0],7,-1)],axis = 1)\n",
    "    \n",
    "    P_init = np.full((xylwh_init.shape[0],A.shape[0],A.shape[0]),P_em)\n",
    "\n",
    "    for label,i in enumerate(unique_label_init):\n",
    "        create_new_detection(Tracking_pool,Global_id,P_init[i],state_init[i],label,mea_init[i],Frame_ind)\n",
    "        Global_id += 1\n",
    "        \n",
    "    Frame_ind += 1 \n",
    "    \"\"\" Loop Start\"\"\"\n",
    "\n",
    "\n",
    "    state_cur,P_cur,glb_id_cur = state_init,P_init,unique_label_init \n",
    "#     print(state_cur.shape,P_cur.shape)\n",
    "\n",
    "    # MOT start, given the prediction from last frame, set up cost func to associate IDs between current and next frame \n",
    "    while Frame_ind < 2000:\n",
    "        \"\"\"\n",
    "        Extract Matrix P and State of each tracklet in Current Tracking Pool\n",
    "        \"\"\"\n",
    "        glb_ids,P_cur,state_cur = [],[],[]\n",
    "        for glb_id in Tracking_pool.keys():\n",
    "            glb_ids.append(glb_id)\n",
    "            P_cur.append(Tracking_pool[glb_id].P)\n",
    "            state_cur.append(Tracking_pool[glb_id].state)\n",
    "        P_cur,state_cur = np.array(P_cur),np.array(state_cur)\n",
    "\n",
    "        state_cur_,P_cur_ = state_predict(A,Q,state_cur,P_cur) # predict next state \n",
    "\n",
    "        xylwh_next,unique_lebel_next = extract_xylwh_by_frame(Labeling_maps[Frame_ind],Td_maps[Frame_ind]) # read observation at next frame \n",
    "        mea_next = extract_mea_state_vec(xylwh_next)\n",
    "        State_affinity = get_affinity_mat(state_cur,state_cur_,P_cur_,mea_next,R)\n",
    "#         print(State_affinity)\n",
    "        afs.append(State_affinity)\n",
    "        associated_ind_glb,associated_ind_label = linear_sum_assignment(State_affinity)\n",
    "        \"\"\"\n",
    "        Failed tracking and new detections\n",
    "        \"\"\"\n",
    "        # in a but not in b\n",
    "        failed_tracked_ind = np.setdiff1d(np.arange(len(glb_ids)),associated_ind_glb) \n",
    "        \n",
    "        if len(failed_tracked_ind) > 0:\n",
    "            for fid in failed_tracked_ind:\n",
    "                process_fails(Tracking_pool,Off_tracking_pool,glb_ids[fid],state_cur_[fid],P_cur_[fid])\n",
    "\n",
    "        new_detection_ind = np.setdiff1d(np.arange(len(unique_lebel_next)),associated_ind_label)\n",
    "        if len(new_detection_ind) > 0:\n",
    "            for n_id in new_detection_ind:\n",
    "                state_init = np.concatenate([mea_next[n_id], np.zeros((7,1))])\n",
    "                create_new_detection(Tracking_pool,Global_id,P_em,state_init,unique_lebel_next[n_id],mea_next[n_id],Frame_ind)\n",
    "                Global_id += 1\n",
    "        # logic judgement\n",
    "        associated_ind_glb_post = []\n",
    "        associated_ind_label_post = []\n",
    "        for i,glb_ind in enumerate(associated_ind_glb):\n",
    "#             print(state_cur.shape,mea_next.shape)\n",
    "            transient_motion = np.sqrt(((state_cur[glb_ind][[0,1]] - mea_next[associated_ind_label[i]][[0,1]])**2).sum())\n",
    "            if transient_motion < 8:\n",
    "                associated_ind_glb_post.append(glb_ind)\n",
    "                associated_ind_label_post.append(associated_ind_label[i])\n",
    "            else:\n",
    "                process_fails(Tracking_pool,Off_tracking_pool,glb_ids[glb_ind],state_cur_[glb_ind],P_cur_[glb_ind])\n",
    "                state_init = np.concatenate([mea_next[associated_ind_label[i]], np.zeros((7,1))])\n",
    "                create_new_detection(Tracking_pool,Global_id,P_em,state_init,unique_lebel_next[associated_ind_label[i]],mea_next[associated_ind_label[i]],Frame_ind)\n",
    "                Global_id += 1\n",
    "            \n",
    "        associated_ind_glb = np.array(associated_ind_glb_post)\n",
    "        associated_ind_label = np.array(associated_ind_label_post)\n",
    "            \n",
    "        if len(associated_ind_glb) != 0:\n",
    "            state,P = state_update(A,H,state_cur_[associated_ind_glb],P_cur_[associated_ind_glb],R,mea_next[associated_ind_label])\n",
    "\n",
    "            \"\"\"\n",
    "            Associate detections \n",
    "            \"\"\"\n",
    "            for i,glb_ind in enumerate(associated_ind_glb):\n",
    "\n",
    "                associate_detections(Tracking_pool,glb_ids[glb_ind],state[i],P[i],\n",
    "                                     unique_lebel_next[associated_ind_label[i]],\n",
    "                                     mea_next[associated_ind_label[i]])\n",
    "                Tracking_pool[glb_ids[glb_ind]].missing_count = 0\n",
    "            \n",
    "        Frame_ind += 1 \n",
    "    \"\"\"\n",
    "    Release all tracking obj into off tracking pool\n",
    "    \"\"\"\n",
    "    release_ids = [glb_id for glb_id in Tracking_pool.keys()]\n",
    "    for r_id in release_ids:\n",
    "        Off_tracking_pool[r_id] = Tracking_pool.pop(r_id)\n",
    "    return Off_tracking_pool,afs"
   ]
  },
  {
   "cell_type": "code",
   "execution_count": null,
   "metadata": {},
   "outputs": [],
   "source": []
  },
  {
   "cell_type": "code",
   "execution_count": null,
   "metadata": {},
   "outputs": [],
   "source": []
  },
  {
   "cell_type": "code",
   "execution_count": 1049,
   "metadata": {},
   "outputs": [],
   "source": [
    "test_obj = Off_tracking_pool[127]\n",
    "np.random.seed(150)\n",
    "color_map = np.random.random((100,3))\n",
    "for ind,f in enumerate(range(test_obj.start_frame, test_obj.start_frame + len(test_obj.label_seq))):\n",
    "    Td_map = Td_maps[f]\n",
    "    Labeling_map = Labeling_maps[f].copy()\n",
    "    td_freq_map = Td_map\n",
    "    Xs = []\n",
    "    Ys = []\n",
    "    Zs = []\n",
    "    Labels = []\n",
    "    for i in range(td_freq_map.shape[0]):\n",
    "        longitudes = theta[i]*np.pi / 180\n",
    "        latitudes = azimuths * np.pi / 180 \n",
    "        hypotenuses = td_freq_map[i] * np.cos(longitudes)\n",
    "        X = hypotenuses * np.sin(latitudes)\n",
    "        Y = hypotenuses * np.cos(latitudes)\n",
    "        Z = td_freq_map[i] * np.sin(longitudes)\n",
    "        Valid_ind =  (td_freq_map[i] != 0)&(td_freq_map[i]<collector.thred_map[i]) # None zero index\n",
    "        Xs.append(X[Valid_ind])\n",
    "        Ys.append(Y[Valid_ind])\n",
    "        Zs.append(Z[Valid_ind])\n",
    "        Labels.append(Labeling_map[i][Valid_ind])\n",
    "    Xs = np.concatenate(Xs)\n",
    "    Ys = np.concatenate(Ys)\n",
    "    Zs = np.concatenate(Zs)\n",
    "    Labels = np.concatenate(Labels).astype('int')\n",
    "    Colors = np.zeros((len(Labels),3))\n",
    "    if test_obj.label_seq[ind] != -1:\n",
    "        Colors[Labels == test_obj.label_seq[ind]] = color_map[1]\n",
    "        \n",
    "    pcd = op3.geometry.PointCloud()\n",
    "    XYZ = np.concatenate([Xs.reshape(-1,1),Ys.reshape(-1,1),Zs.reshape(-1,1)],axis = 1)\n",
    "    pcd.points = op3.utility.Vector3dVector(XYZ)\n",
    "    pcd.colors = op3.utility.Vector3dVector(Colors)\n",
    "    op3.io.write_point_cloud(r'./Output File/PcdSequence'+\"/{}.pcd\".format(ind), pcd)\n",
    "#     print(i)"
   ]
  },
  {
   "cell_type": "code",
   "execution_count": 1050,
   "metadata": {},
   "outputs": [],
   "source": [
    "np.random.seed(150)\n",
    "color_map = np.random.random((100,3))\n",
    "# color_map = np.concatenate([color_map,np.array([[1,1,1]])])\n",
    "\n",
    "for f in range(2000):\n",
    "    Td_map = Td_maps[f]\n",
    "    Labeling_map = Labeling_maps[f].copy()\n",
    "    td_freq_map = Td_map\n",
    "    Xs = []\n",
    "    Ys = []\n",
    "    Zs = []\n",
    "    \n",
    "    Labels = []\n",
    "    for i in range(td_freq_map.shape[0]):\n",
    "        longitudes = theta[i]*np.pi / 180\n",
    "        latitudes = azimuths * np.pi / 180 \n",
    "        hypotenuses = td_freq_map[i] * np.cos(longitudes)\n",
    "        X = hypotenuses * np.sin(latitudes)\n",
    "        Y = hypotenuses * np.cos(latitudes)\n",
    "        Z = td_freq_map[i] * np.sin(longitudes)\n",
    "        Valid_ind =  (td_freq_map[i] != 0)&(td_freq_map[i]<collector.thred_map[i]) # None zero index\n",
    "        Xs.append(X[Valid_ind])\n",
    "        Ys.append(Y[Valid_ind])\n",
    "        Zs.append(Z[Valid_ind])\n",
    "        Labels.append(Labeling_map[i][Valid_ind])\n",
    "    Xs = np.concatenate(Xs)\n",
    "    Ys = np.concatenate(Ys)\n",
    "    Zs = np.concatenate(Zs)\n",
    "    Labels = np.concatenate(Labels).astype('int')\n",
    "    Colors = np.zeros((len(Labels),3))\n",
    "    for key in Off_tracking_pool:\n",
    "        n = f - Off_tracking_pool[key].start_frame\n",
    "        if (n >= 0) & (n < len(Off_tracking_pool[key].label_seq)):\n",
    "            label_cur_frame = Off_tracking_pool[key].label_seq[n]\n",
    "            if label_cur_frame != -1:\n",
    "                Colors[Labels == label_cur_frame] = color_map[key%len(color_map)]\n",
    "                \n",
    "    pcd = op3.geometry.PointCloud()\n",
    "    XYZ = np.concatenate([Xs.reshape(-1,1),Ys.reshape(-1,1),Zs.reshape(-1,1)],axis = 1)\n",
    "    pcd.points = op3.utility.Vector3dVector(XYZ)\n",
    "    pcd.colors = op3.utility.Vector3dVector(Colors)\n",
    "    op3.io.write_point_cloud(r'./Output File/PcdSequence'+\"/{}.pcd\".format(f), pcd)\n",
    "        \n",
    "            "
   ]
  },
  {
   "cell_type": "code",
   "execution_count": null,
   "metadata": {},
   "outputs": [],
   "source": []
  },
  {
   "cell_type": "code",
   "execution_count": 937,
   "metadata": {},
   "outputs": [],
   "source": [
    "def visualize(Td_map,Labeling_map):\n",
    "    np.random.seed(250)\n",
    "    color_map = np.random.random((100,3))\n",
    "    color_map = np.concatenate([color_map,np.array([[1,1,1]])])\n",
    "    td_freq_map = Td_map\n",
    "    Xs = []\n",
    "    Ys = []\n",
    "    Zs = []\n",
    "    Labels = []\n",
    "    for i in range(td_freq_map.shape[0]):\n",
    "        longitudes = theta[i]*np.pi / 180\n",
    "        latitudes = azimuths * np.pi / 180 \n",
    "        hypotenuses = td_freq_map[i] * np.cos(longitudes)\n",
    "        X = hypotenuses * np.sin(latitudes)\n",
    "        Y = hypotenuses * np.cos(latitudes)\n",
    "        Z = td_freq_map[i] * np.sin(longitudes)\n",
    "        Valid_ind =  (td_freq_map[i] != 0)&(td_freq_map[i]<collector.thred_map[i]) # None zero index\n",
    "        Xs.append(X[Valid_ind])\n",
    "        Ys.append(Y[Valid_ind])\n",
    "        Zs.append(Z[Valid_ind])\n",
    "        Labels.append(Labeling_map[i][Valid_ind])\n",
    "\n",
    "\n",
    "    Xs = np.concatenate(Xs)\n",
    "    Ys = np.concatenate(Ys)\n",
    "    Zs = np.concatenate(Zs)\n",
    "    Labels = np.concatenate(Labels).astype('int')\n",
    "    Colors = []\n",
    "    for i in range(len(Labels)):\n",
    "        Colors.append(color_map[Labels[i]])\n",
    "    Colors = np.array(Colors)\n",
    "    pcd = op3.geometry.PointCloud()\n",
    "    XYZ = np.concatenate([Xs.reshape(-1,1),Ys.reshape(-1,1),Zs.reshape(-1,1)],axis = 1)\n",
    "    pcd.points = op3.utility.Vector3dVector(XYZ)\n",
    "    pcd.colors = op3.utility.Vector3dVector(Colors)\n",
    "    visualizer = JVisualizer()\n",
    "    visualizer.add_geometry(pcd)\n",
    "    visualizer.show()"
   ]
  },
  {
   "cell_type": "code",
   "execution_count": 962,
   "metadata": {},
   "outputs": [
    {
     "data": {
      "application/vnd.jupyter.widget-view+json": {
       "model_id": "228548b6f06f420db95f25219bd84286",
       "version_major": 2,
       "version_minor": 0
      },
      "text/plain": [
       "JVisualizer with 1 geometries"
      ]
     },
     "metadata": {},
     "output_type": "display_data"
    }
   ],
   "source": [
    "visualize(Td_maps[1900],Labeling_maps[1900])"
   ]
  },
  {
   "cell_type": "code",
   "execution_count": null,
   "metadata": {},
   "outputs": [],
   "source": [
    "kf = KalmanFilter(\n",
    "    A,\n",
    "    H,\n",
    "    Q,\n",
    "    R,\n",
    "    np.zeros(A.shape[0]),\n",
    "    np.zeros(R.shape[0]),\n",
    "    post_list[10][0].flatten(),\n",
    "    P,\n",
    "    em_vars=[\n",
    "      'transition_matrices', 'observation_matrices',\n",
    "      'transition_covariance', 'observation_covariance',\n",
    "      'observation_offsets', 'initial_state_mean',\n",
    "      'initial_state_covariance'\n",
    "    ]\n",
    ")\n",
    "kf = kf.em(X=np.array(mea_list[10]).reshape(-1,5), n_iter=20)"
   ]
  }
 ],
 "metadata": {
  "kernelspec": {
   "display_name": "Python 3",
   "language": "python",
   "name": "python3"
  },
  "language_info": {
   "codemirror_mode": {
    "name": "ipython",
    "version": 3
   },
   "file_extension": ".py",
   "mimetype": "text/x-python",
   "name": "python",
   "nbconvert_exporter": "python",
   "pygments_lexer": "ipython3",
   "version": "3.8.5"
  }
 },
 "nbformat": 4,
 "nbformat_minor": 2
}
