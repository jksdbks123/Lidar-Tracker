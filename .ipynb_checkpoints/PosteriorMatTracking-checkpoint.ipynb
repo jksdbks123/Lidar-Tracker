{
 "cells": [
  {
   "cell_type": "code",
   "execution_count": 2,
   "id": "6014f6db",
   "metadata": {},
   "outputs": [
    {
     "name": "stdout",
     "output_type": "stream",
     "text": [
      "Jupyter environment detected. Enabling Open3D WebVisualizer.\n",
      "[Open3D INFO] WebRTC GUI backend enabled.\n",
      "[Open3D INFO] WebRTCWindowSystem: HTTP handshake server disabled.\n"
     ]
    }
   ],
   "source": [
    "from MOT import MOT\n",
    "import numpy as np\n",
    "import os\n",
    "from BfTableGenerator import RansacCollector\n",
    "from BfTableGenerator import TDmapLoader\n",
    "from tqdm import tqdm\n",
    "import open3d as op3\n",
    "# from open3d.web_visualizer import draw\n",
    "from Utils import *\n",
    "import pandas as pd\n",
    "from scipy.sparse import csr_matrix\n",
    "import json\n",
    "from scipy.optimize import linear_sum_assignment\n",
    "import pandas as pd"
   ]
  },
  {
   "cell_type": "code",
   "execution_count": 5,
   "id": "b02c5d1f",
   "metadata": {},
   "outputs": [],
   "source": [
    "RawTrajs_0 = pd.read_csv('../RawLidarData/McCarranEvans_Train/OutputFile/OutputTrajs/Trajctories_0.csv')\n",
    "RawTrajs_1 = pd.read_csv('../RawLidarData/McCarranEvans_Train/OutputFile/OutputTrajs/Trajctories_1.csv')\n",
    "TrajGroups_0 = RawTrajs_0.groupby('ObjectID')\n",
    "TrajGroups_1 = RawTrajs_1.groupby('ObjectID')\n",
    "TrajGroups_0 = [g[1] for g in TrajGroups_0]\n",
    "TrajGroups_1 = [g[1] for g in TrajGroups_1]"
   ]
  },
  {
   "cell_type": "code",
   "execution_count": 14,
   "id": "c02a5e82",
   "metadata": {},
   "outputs": [],
   "source": [
    "X_cur,Y_cur,X_next,Y_next,X_speed_cur,Y_speed_cur,X_speed_next,Y_speed_next = [],[],[],[],[],[],[],[]\n"
   ]
  },
  {
   "cell_type": "code",
   "execution_count": 18,
   "id": "4124a127",
   "metadata": {},
   "outputs": [],
   "source": [
    "test = TrajGroups_0[0]"
   ]
  },
  {
   "cell_type": "code",
   "execution_count": 20,
   "id": "1be75b15",
   "metadata": {},
   "outputs": [
    {
     "data": {
      "text/html": [
       "<div>\n",
       "<style scoped>\n",
       "    .dataframe tbody tr th:only-of-type {\n",
       "        vertical-align: middle;\n",
       "    }\n",
       "\n",
       "    .dataframe tbody tr th {\n",
       "        vertical-align: top;\n",
       "    }\n",
       "\n",
       "    .dataframe thead th {\n",
       "        text-align: right;\n",
       "    }\n",
       "</style>\n",
       "<table border=\"1\" class=\"dataframe\">\n",
       "  <thead>\n",
       "    <tr style=\"text-align: right;\">\n",
       "      <th></th>\n",
       "      <th>ObjectID</th>\n",
       "      <th>FrameIndex</th>\n",
       "      <th>Coord_X_Mea</th>\n",
       "      <th>Coord_Y_Mea</th>\n",
       "      <th>Coord_Z_Mea</th>\n",
       "      <th>Distance_Mea</th>\n",
       "      <th>Longitude_Mea</th>\n",
       "      <th>Latitude_Mea</th>\n",
       "      <th>Elevation_Mea</th>\n",
       "      <th>Coord_X_Est</th>\n",
       "      <th>...</th>\n",
       "      <th>Coord_Z_Est</th>\n",
       "      <th>Distance_Est</th>\n",
       "      <th>Speed_X</th>\n",
       "      <th>Speed_Y</th>\n",
       "      <th>Speed(m/s)</th>\n",
       "      <th>Acc_X</th>\n",
       "      <th>Acc_Y</th>\n",
       "      <th>Longitude_Est</th>\n",
       "      <th>Latitude_Est</th>\n",
       "      <th>Elevation_Est</th>\n",
       "    </tr>\n",
       "  </thead>\n",
       "  <tbody>\n",
       "    <tr>\n",
       "      <th>315</th>\n",
       "      <td>0</td>\n",
       "      <td>2</td>\n",
       "      <td>-5.039724</td>\n",
       "      <td>-24.994244</td>\n",
       "      <td>0.0</td>\n",
       "      <td>25.497275</td>\n",
       "      <td>-119.736806</td>\n",
       "      <td>39.484633</td>\n",
       "      <td>1318.507983</td>\n",
       "      <td>-5.039724</td>\n",
       "      <td>...</td>\n",
       "      <td>0.0</td>\n",
       "      <td>25.497275</td>\n",
       "      <td>0.000000</td>\n",
       "      <td>0.000000</td>\n",
       "      <td>0.000000</td>\n",
       "      <td>0.000000</td>\n",
       "      <td>0.000000</td>\n",
       "      <td>-119.736806</td>\n",
       "      <td>39.484633</td>\n",
       "      <td>1318.507983</td>\n",
       "    </tr>\n",
       "    <tr>\n",
       "      <th>316</th>\n",
       "      <td>0</td>\n",
       "      <td>3</td>\n",
       "      <td>-4.574656</td>\n",
       "      <td>-24.444457</td>\n",
       "      <td>0.0</td>\n",
       "      <td>24.868835</td>\n",
       "      <td>-119.736801</td>\n",
       "      <td>39.484638</td>\n",
       "      <td>1318.476234</td>\n",
       "      <td>-4.577948</td>\n",
       "      <td>...</td>\n",
       "      <td>0.0</td>\n",
       "      <td>24.873267</td>\n",
       "      <td>1.004217</td>\n",
       "      <td>1.187150</td>\n",
       "      <td>5.597714</td>\n",
       "      <td>0.001646</td>\n",
       "      <td>0.001946</td>\n",
       "      <td>-119.736801</td>\n",
       "      <td>39.484638</td>\n",
       "      <td>1318.476459</td>\n",
       "    </tr>\n",
       "    <tr>\n",
       "      <th>317</th>\n",
       "      <td>0</td>\n",
       "      <td>4</td>\n",
       "      <td>-3.993945</td>\n",
       "      <td>-24.125466</td>\n",
       "      <td>0.0</td>\n",
       "      <td>24.453828</td>\n",
       "      <td>-119.736794</td>\n",
       "      <td>39.484641</td>\n",
       "      <td>1318.440109</td>\n",
       "      <td>-3.997443</td>\n",
       "      <td>...</td>\n",
       "      <td>0.0</td>\n",
       "      <td>24.455852</td>\n",
       "      <td>2.298185</td>\n",
       "      <td>1.744321</td>\n",
       "      <td>10.386676</td>\n",
       "      <td>0.006700</td>\n",
       "      <td>0.004073</td>\n",
       "      <td>-119.736794</td>\n",
       "      <td>39.484641</td>\n",
       "      <td>1318.440322</td>\n",
       "    </tr>\n",
       "    <tr>\n",
       "      <th>318</th>\n",
       "      <td>0</td>\n",
       "      <td>5</td>\n",
       "      <td>-3.633458</td>\n",
       "      <td>-23.470712</td>\n",
       "      <td>0.0</td>\n",
       "      <td>23.750291</td>\n",
       "      <td>-119.736790</td>\n",
       "      <td>39.484647</td>\n",
       "      <td>1318.413312</td>\n",
       "      <td>-3.634379</td>\n",
       "      <td>...</td>\n",
       "      <td>0.0</td>\n",
       "      <td>23.753769</td>\n",
       "      <td>2.741888</td>\n",
       "      <td>3.166587</td>\n",
       "      <td>15.079327</td>\n",
       "      <td>0.008735</td>\n",
       "      <td>0.011536</td>\n",
       "      <td>-119.736790</td>\n",
       "      <td>39.484647</td>\n",
       "      <td>1318.413396</td>\n",
       "    </tr>\n",
       "    <tr>\n",
       "      <th>319</th>\n",
       "      <td>0</td>\n",
       "      <td>6</td>\n",
       "      <td>-3.297281</td>\n",
       "      <td>-22.881546</td>\n",
       "      <td>0.0</td>\n",
       "      <td>23.117898</td>\n",
       "      <td>-119.736787</td>\n",
       "      <td>39.484653</td>\n",
       "      <td>1318.388527</td>\n",
       "      <td>-3.297684</td>\n",
       "      <td>...</td>\n",
       "      <td>0.0</td>\n",
       "      <td>23.119796</td>\n",
       "      <td>3.008163</td>\n",
       "      <td>4.107533</td>\n",
       "      <td>18.328518</td>\n",
       "      <td>0.009861</td>\n",
       "      <td>0.016731</td>\n",
       "      <td>-119.736787</td>\n",
       "      <td>39.484653</td>\n",
       "      <td>1318.388567</td>\n",
       "    </tr>\n",
       "    <tr>\n",
       "      <th>...</th>\n",
       "      <td>...</td>\n",
       "      <td>...</td>\n",
       "      <td>...</td>\n",
       "      <td>...</td>\n",
       "      <td>...</td>\n",
       "      <td>...</td>\n",
       "      <td>...</td>\n",
       "      <td>...</td>\n",
       "      <td>...</td>\n",
       "      <td>...</td>\n",
       "      <td>...</td>\n",
       "      <td>...</td>\n",
       "      <td>...</td>\n",
       "      <td>...</td>\n",
       "      <td>...</td>\n",
       "      <td>...</td>\n",
       "      <td>...</td>\n",
       "      <td>...</td>\n",
       "      <td>...</td>\n",
       "      <td>...</td>\n",
       "      <td>...</td>\n",
       "    </tr>\n",
       "    <tr>\n",
       "      <th>531</th>\n",
       "      <td>0</td>\n",
       "      <td>218</td>\n",
       "      <td>47.633344</td>\n",
       "      <td>-44.418812</td>\n",
       "      <td>0.0</td>\n",
       "      <td>65.130380</td>\n",
       "      <td>-119.736178</td>\n",
       "      <td>39.484481</td>\n",
       "      <td>1315.694411</td>\n",
       "      <td>47.634874</td>\n",
       "      <td>...</td>\n",
       "      <td>0.0</td>\n",
       "      <td>65.133477</td>\n",
       "      <td>10.840574</td>\n",
       "      <td>-17.692285</td>\n",
       "      <td>74.697614</td>\n",
       "      <td>-0.007751</td>\n",
       "      <td>0.004349</td>\n",
       "      <td>-119.736177</td>\n",
       "      <td>39.484481</td>\n",
       "      <td>1315.694352</td>\n",
       "    </tr>\n",
       "    <tr>\n",
       "      <th>532</th>\n",
       "      <td>0</td>\n",
       "      <td>219</td>\n",
       "      <td>NaN</td>\n",
       "      <td>NaN</td>\n",
       "      <td>0.0</td>\n",
       "      <td>NaN</td>\n",
       "      <td>NaN</td>\n",
       "      <td>NaN</td>\n",
       "      <td>NaN</td>\n",
       "      <td>48.715056</td>\n",
       "      <td>...</td>\n",
       "      <td>0.0</td>\n",
       "      <td>67.130909</td>\n",
       "      <td>10.763064</td>\n",
       "      <td>-17.648796</td>\n",
       "      <td>74.418499</td>\n",
       "      <td>-0.007751</td>\n",
       "      <td>0.004349</td>\n",
       "      <td>-119.736164</td>\n",
       "      <td>39.484465</td>\n",
       "      <td>1315.649764</td>\n",
       "    </tr>\n",
       "    <tr>\n",
       "      <th>533</th>\n",
       "      <td>0</td>\n",
       "      <td>220</td>\n",
       "      <td>NaN</td>\n",
       "      <td>NaN</td>\n",
       "      <td>0.0</td>\n",
       "      <td>NaN</td>\n",
       "      <td>NaN</td>\n",
       "      <td>NaN</td>\n",
       "      <td>NaN</td>\n",
       "      <td>49.787487</td>\n",
       "      <td>...</td>\n",
       "      <td>0.0</td>\n",
       "      <td>69.124074</td>\n",
       "      <td>10.685553</td>\n",
       "      <td>-17.605307</td>\n",
       "      <td>74.139715</td>\n",
       "      <td>-0.007751</td>\n",
       "      <td>0.004349</td>\n",
       "      <td>-119.736150</td>\n",
       "      <td>39.484450</td>\n",
       "      <td>1315.605578</td>\n",
       "    </tr>\n",
       "    <tr>\n",
       "      <th>534</th>\n",
       "      <td>0</td>\n",
       "      <td>221</td>\n",
       "      <td>NaN</td>\n",
       "      <td>NaN</td>\n",
       "      <td>0.0</td>\n",
       "      <td>NaN</td>\n",
       "      <td>NaN</td>\n",
       "      <td>NaN</td>\n",
       "      <td>NaN</td>\n",
       "      <td>50.852167</td>\n",
       "      <td>...</td>\n",
       "      <td>0.0</td>\n",
       "      <td>71.112657</td>\n",
       "      <td>10.608042</td>\n",
       "      <td>-17.561818</td>\n",
       "      <td>73.861264</td>\n",
       "      <td>-0.007751</td>\n",
       "      <td>0.004349</td>\n",
       "      <td>-119.736137</td>\n",
       "      <td>39.484435</td>\n",
       "      <td>1315.561791</td>\n",
       "    </tr>\n",
       "    <tr>\n",
       "      <th>535</th>\n",
       "      <td>0</td>\n",
       "      <td>222</td>\n",
       "      <td>NaN</td>\n",
       "      <td>NaN</td>\n",
       "      <td>0.0</td>\n",
       "      <td>NaN</td>\n",
       "      <td>NaN</td>\n",
       "      <td>NaN</td>\n",
       "      <td>NaN</td>\n",
       "      <td>51.909095</td>\n",
       "      <td>...</td>\n",
       "      <td>0.0</td>\n",
       "      <td>73.096379</td>\n",
       "      <td>10.530532</td>\n",
       "      <td>-17.518329</td>\n",
       "      <td>73.583151</td>\n",
       "      <td>-0.007751</td>\n",
       "      <td>0.004349</td>\n",
       "      <td>-119.736123</td>\n",
       "      <td>39.484419</td>\n",
       "      <td>1315.518405</td>\n",
       "    </tr>\n",
       "  </tbody>\n",
       "</table>\n",
       "<p>221 rows × 21 columns</p>\n",
       "</div>"
      ],
      "text/plain": [
       "     ObjectID  FrameIndex  Coord_X_Mea  Coord_Y_Mea  Coord_Z_Mea  \\\n",
       "315         0           2    -5.039724   -24.994244          0.0   \n",
       "316         0           3    -4.574656   -24.444457          0.0   \n",
       "317         0           4    -3.993945   -24.125466          0.0   \n",
       "318         0           5    -3.633458   -23.470712          0.0   \n",
       "319         0           6    -3.297281   -22.881546          0.0   \n",
       "..        ...         ...          ...          ...          ...   \n",
       "531         0         218    47.633344   -44.418812          0.0   \n",
       "532         0         219          NaN          NaN          0.0   \n",
       "533         0         220          NaN          NaN          0.0   \n",
       "534         0         221          NaN          NaN          0.0   \n",
       "535         0         222          NaN          NaN          0.0   \n",
       "\n",
       "     Distance_Mea  Longitude_Mea  Latitude_Mea  Elevation_Mea  Coord_X_Est  \\\n",
       "315     25.497275    -119.736806     39.484633    1318.507983    -5.039724   \n",
       "316     24.868835    -119.736801     39.484638    1318.476234    -4.577948   \n",
       "317     24.453828    -119.736794     39.484641    1318.440109    -3.997443   \n",
       "318     23.750291    -119.736790     39.484647    1318.413312    -3.634379   \n",
       "319     23.117898    -119.736787     39.484653    1318.388527    -3.297684   \n",
       "..            ...            ...           ...            ...          ...   \n",
       "531     65.130380    -119.736178     39.484481    1315.694411    47.634874   \n",
       "532           NaN            NaN           NaN            NaN    48.715056   \n",
       "533           NaN            NaN           NaN            NaN    49.787487   \n",
       "534           NaN            NaN           NaN            NaN    50.852167   \n",
       "535           NaN            NaN           NaN            NaN    51.909095   \n",
       "\n",
       "     ...  Coord_Z_Est  Distance_Est    Speed_X    Speed_Y  Speed(m/s)  \\\n",
       "315  ...          0.0     25.497275   0.000000   0.000000    0.000000   \n",
       "316  ...          0.0     24.873267   1.004217   1.187150    5.597714   \n",
       "317  ...          0.0     24.455852   2.298185   1.744321   10.386676   \n",
       "318  ...          0.0     23.753769   2.741888   3.166587   15.079327   \n",
       "319  ...          0.0     23.119796   3.008163   4.107533   18.328518   \n",
       "..   ...          ...           ...        ...        ...         ...   \n",
       "531  ...          0.0     65.133477  10.840574 -17.692285   74.697614   \n",
       "532  ...          0.0     67.130909  10.763064 -17.648796   74.418499   \n",
       "533  ...          0.0     69.124074  10.685553 -17.605307   74.139715   \n",
       "534  ...          0.0     71.112657  10.608042 -17.561818   73.861264   \n",
       "535  ...          0.0     73.096379  10.530532 -17.518329   73.583151   \n",
       "\n",
       "        Acc_X     Acc_Y  Longitude_Est  Latitude_Est  Elevation_Est  \n",
       "315  0.000000  0.000000    -119.736806     39.484633    1318.507983  \n",
       "316  0.001646  0.001946    -119.736801     39.484638    1318.476459  \n",
       "317  0.006700  0.004073    -119.736794     39.484641    1318.440322  \n",
       "318  0.008735  0.011536    -119.736790     39.484647    1318.413396  \n",
       "319  0.009861  0.016731    -119.736787     39.484653    1318.388567  \n",
       "..        ...       ...            ...           ...            ...  \n",
       "531 -0.007751  0.004349    -119.736177     39.484481    1315.694352  \n",
       "532 -0.007751  0.004349    -119.736164     39.484465    1315.649764  \n",
       "533 -0.007751  0.004349    -119.736150     39.484450    1315.605578  \n",
       "534 -0.007751  0.004349    -119.736137     39.484435    1315.561791  \n",
       "535 -0.007751  0.004349    -119.736123     39.484419    1315.518405  \n",
       "\n",
       "[221 rows x 21 columns]"
      ]
     },
     "execution_count": 20,
     "metadata": {},
     "output_type": "execute_result"
    }
   ],
   "source": [
    "test"
   ]
  },
  {
   "cell_type": "code",
   "execution_count": 24,
   "id": "d0e1c1f2",
   "metadata": {},
   "outputs": [
    {
     "data": {
      "text/plain": [
       "True"
      ]
     },
     "execution_count": 24,
     "metadata": {},
     "output_type": "execute_result"
    }
   ],
   "source": [
    "np.isnan(test.iloc[-1,2])"
   ]
  },
  {
   "cell_type": "code",
   "execution_count": 26,
   "id": "07bb547b",
   "metadata": {},
   "outputs": [
    {
     "name": "stderr",
     "output_type": "stream",
     "text": [
      " 52%|█████████████████████████████████████████▌                                      | 275/530 [00:08<00:07, 33.87it/s]\n"
     ]
    },
    {
     "ename": "KeyboardInterrupt",
     "evalue": "",
     "output_type": "error",
     "traceback": [
      "\u001b[1;31m---------------------------------------------------------------------------\u001b[0m",
      "\u001b[1;31mKeyboardInterrupt\u001b[0m                         Traceback (most recent call last)",
      "\u001b[1;32m~\\AppData\\Local\\Temp/ipykernel_6776/3041199926.py\u001b[0m in \u001b[0;36m<module>\u001b[1;34m\u001b[0m\n\u001b[0;32m      2\u001b[0m     \u001b[0mtemp_group\u001b[0m \u001b[1;33m=\u001b[0m \u001b[0mTrajGroups_0\u001b[0m\u001b[1;33m[\u001b[0m\u001b[0mind\u001b[0m\u001b[1;33m]\u001b[0m\u001b[1;33m\u001b[0m\u001b[1;33m\u001b[0m\u001b[0m\n\u001b[0;32m      3\u001b[0m     \u001b[1;32mfor\u001b[0m \u001b[0mi\u001b[0m \u001b[1;32min\u001b[0m \u001b[0mrange\u001b[0m\u001b[1;33m(\u001b[0m\u001b[1;36m1\u001b[0m\u001b[1;33m,\u001b[0m\u001b[0mlen\u001b[0m\u001b[1;33m(\u001b[0m\u001b[0mtemp_group\u001b[0m\u001b[1;33m)\u001b[0m\u001b[1;33m)\u001b[0m\u001b[1;33m:\u001b[0m\u001b[1;33m\u001b[0m\u001b[1;33m\u001b[0m\u001b[0m\n\u001b[1;32m----> 4\u001b[1;33m         \u001b[1;32mif\u001b[0m \u001b[0mnp\u001b[0m\u001b[1;33m.\u001b[0m\u001b[0misnan\u001b[0m\u001b[1;33m(\u001b[0m\u001b[0mtemp_group\u001b[0m\u001b[1;33m.\u001b[0m\u001b[0miloc\u001b[0m\u001b[1;33m[\u001b[0m\u001b[0mi\u001b[0m\u001b[1;33m,\u001b[0m\u001b[1;36m2\u001b[0m\u001b[1;33m]\u001b[0m\u001b[1;33m)\u001b[0m\u001b[1;33m|\u001b[0m\u001b[1;33m(\u001b[0m\u001b[0mnp\u001b[0m\u001b[1;33m.\u001b[0m\u001b[0misnan\u001b[0m\u001b[1;33m(\u001b[0m\u001b[0mtemp_group\u001b[0m\u001b[1;33m.\u001b[0m\u001b[0miloc\u001b[0m\u001b[1;33m[\u001b[0m\u001b[0mi\u001b[0m\u001b[1;33m-\u001b[0m\u001b[1;36m1\u001b[0m\u001b[1;33m,\u001b[0m\u001b[1;36m2\u001b[0m\u001b[1;33m]\u001b[0m\u001b[1;33m)\u001b[0m\u001b[1;33m)\u001b[0m\u001b[1;33m:\u001b[0m\u001b[1;33m\u001b[0m\u001b[1;33m\u001b[0m\u001b[0m\n\u001b[0m\u001b[0;32m      5\u001b[0m             \u001b[0mX_next\u001b[0m\u001b[1;33m.\u001b[0m\u001b[0mappend\u001b[0m\u001b[1;33m(\u001b[0m\u001b[0mtemp_group\u001b[0m\u001b[1;33m.\u001b[0m\u001b[0miloc\u001b[0m\u001b[1;33m[\u001b[0m\u001b[0mi\u001b[0m\u001b[1;33m]\u001b[0m\u001b[1;33m.\u001b[0m\u001b[0mCoord_X_Mea\u001b[0m\u001b[1;33m)\u001b[0m\u001b[1;33m\u001b[0m\u001b[1;33m\u001b[0m\u001b[0m\n\u001b[0;32m      6\u001b[0m             \u001b[0mX_cur\u001b[0m\u001b[1;33m.\u001b[0m\u001b[0mappend\u001b[0m\u001b[1;33m(\u001b[0m\u001b[0mtemp_group\u001b[0m\u001b[1;33m.\u001b[0m\u001b[0miloc\u001b[0m\u001b[1;33m[\u001b[0m\u001b[0mi\u001b[0m\u001b[1;33m-\u001b[0m\u001b[1;36m1\u001b[0m\u001b[1;33m]\u001b[0m\u001b[1;33m.\u001b[0m\u001b[0mCoord_X_Mea\u001b[0m\u001b[1;33m)\u001b[0m\u001b[1;33m\u001b[0m\u001b[1;33m\u001b[0m\u001b[0m\n",
      "\u001b[1;32m~\\Anaconda3\\envs\\tracking\\lib\\site-packages\\pandas\\core\\indexing.py\u001b[0m in \u001b[0;36m__getitem__\u001b[1;34m(self, key)\u001b[0m\n\u001b[0;32m    922\u001b[0m             \u001b[1;32mif\u001b[0m \u001b[0mself\u001b[0m\u001b[1;33m.\u001b[0m\u001b[0m_is_scalar_access\u001b[0m\u001b[1;33m(\u001b[0m\u001b[0mkey\u001b[0m\u001b[1;33m)\u001b[0m\u001b[1;33m:\u001b[0m\u001b[1;33m\u001b[0m\u001b[1;33m\u001b[0m\u001b[0m\n\u001b[0;32m    923\u001b[0m                 \u001b[1;32mwith\u001b[0m \u001b[0msuppress\u001b[0m\u001b[1;33m(\u001b[0m\u001b[0mKeyError\u001b[0m\u001b[1;33m,\u001b[0m \u001b[0mIndexError\u001b[0m\u001b[1;33m)\u001b[0m\u001b[1;33m:\u001b[0m\u001b[1;33m\u001b[0m\u001b[1;33m\u001b[0m\u001b[0m\n\u001b[1;32m--> 924\u001b[1;33m                     \u001b[1;32mreturn\u001b[0m \u001b[0mself\u001b[0m\u001b[1;33m.\u001b[0m\u001b[0mobj\u001b[0m\u001b[1;33m.\u001b[0m\u001b[0m_get_value\u001b[0m\u001b[1;33m(\u001b[0m\u001b[1;33m*\u001b[0m\u001b[0mkey\u001b[0m\u001b[1;33m,\u001b[0m \u001b[0mtakeable\u001b[0m\u001b[1;33m=\u001b[0m\u001b[0mself\u001b[0m\u001b[1;33m.\u001b[0m\u001b[0m_takeable\u001b[0m\u001b[1;33m)\u001b[0m\u001b[1;33m\u001b[0m\u001b[1;33m\u001b[0m\u001b[0m\n\u001b[0m\u001b[0;32m    925\u001b[0m             \u001b[1;32mreturn\u001b[0m \u001b[0mself\u001b[0m\u001b[1;33m.\u001b[0m\u001b[0m_getitem_tuple\u001b[0m\u001b[1;33m(\u001b[0m\u001b[0mkey\u001b[0m\u001b[1;33m)\u001b[0m\u001b[1;33m\u001b[0m\u001b[1;33m\u001b[0m\u001b[0m\n\u001b[0;32m    926\u001b[0m         \u001b[1;32melse\u001b[0m\u001b[1;33m:\u001b[0m\u001b[1;33m\u001b[0m\u001b[1;33m\u001b[0m\u001b[0m\n",
      "\u001b[1;32m~\\Anaconda3\\envs\\tracking\\lib\\site-packages\\pandas\\core\\frame.py\u001b[0m in \u001b[0;36m_get_value\u001b[1;34m(self, index, col, takeable)\u001b[0m\n\u001b[0;32m   3560\u001b[0m         \"\"\"\n\u001b[0;32m   3561\u001b[0m         \u001b[1;32mif\u001b[0m \u001b[0mtakeable\u001b[0m\u001b[1;33m:\u001b[0m\u001b[1;33m\u001b[0m\u001b[1;33m\u001b[0m\u001b[0m\n\u001b[1;32m-> 3562\u001b[1;33m             \u001b[0mseries\u001b[0m \u001b[1;33m=\u001b[0m \u001b[0mself\u001b[0m\u001b[1;33m.\u001b[0m\u001b[0m_ixs\u001b[0m\u001b[1;33m(\u001b[0m\u001b[0mcol\u001b[0m\u001b[1;33m,\u001b[0m \u001b[0maxis\u001b[0m\u001b[1;33m=\u001b[0m\u001b[1;36m1\u001b[0m\u001b[1;33m)\u001b[0m\u001b[1;33m\u001b[0m\u001b[1;33m\u001b[0m\u001b[0m\n\u001b[0m\u001b[0;32m   3563\u001b[0m             \u001b[1;32mreturn\u001b[0m \u001b[0mseries\u001b[0m\u001b[1;33m.\u001b[0m\u001b[0m_values\u001b[0m\u001b[1;33m[\u001b[0m\u001b[0mindex\u001b[0m\u001b[1;33m]\u001b[0m\u001b[1;33m\u001b[0m\u001b[1;33m\u001b[0m\u001b[0m\n\u001b[0;32m   3564\u001b[0m \u001b[1;33m\u001b[0m\u001b[0m\n",
      "\u001b[1;32m~\\Anaconda3\\envs\\tracking\\lib\\site-packages\\pandas\\core\\frame.py\u001b[0m in \u001b[0;36m_ixs\u001b[1;34m(self, i, axis)\u001b[0m\n\u001b[0;32m   3394\u001b[0m             \u001b[0mlabel\u001b[0m \u001b[1;33m=\u001b[0m \u001b[0mself\u001b[0m\u001b[1;33m.\u001b[0m\u001b[0mcolumns\u001b[0m\u001b[1;33m[\u001b[0m\u001b[0mi\u001b[0m\u001b[1;33m]\u001b[0m\u001b[1;33m\u001b[0m\u001b[1;33m\u001b[0m\u001b[0m\n\u001b[0;32m   3395\u001b[0m \u001b[1;33m\u001b[0m\u001b[0m\n\u001b[1;32m-> 3396\u001b[1;33m             \u001b[0mvalues\u001b[0m \u001b[1;33m=\u001b[0m \u001b[0mself\u001b[0m\u001b[1;33m.\u001b[0m\u001b[0m_mgr\u001b[0m\u001b[1;33m.\u001b[0m\u001b[0miget\u001b[0m\u001b[1;33m(\u001b[0m\u001b[0mi\u001b[0m\u001b[1;33m)\u001b[0m\u001b[1;33m\u001b[0m\u001b[1;33m\u001b[0m\u001b[0m\n\u001b[0m\u001b[0;32m   3397\u001b[0m             \u001b[0mresult\u001b[0m \u001b[1;33m=\u001b[0m \u001b[0mself\u001b[0m\u001b[1;33m.\u001b[0m\u001b[0m_box_col_values\u001b[0m\u001b[1;33m(\u001b[0m\u001b[0mvalues\u001b[0m\u001b[1;33m,\u001b[0m \u001b[0mi\u001b[0m\u001b[1;33m)\u001b[0m\u001b[1;33m\u001b[0m\u001b[1;33m\u001b[0m\u001b[0m\n\u001b[0;32m   3398\u001b[0m \u001b[1;33m\u001b[0m\u001b[0m\n",
      "\u001b[1;32m~\\Anaconda3\\envs\\tracking\\lib\\site-packages\\pandas\\core\\internals\\managers.py\u001b[0m in \u001b[0;36miget\u001b[1;34m(self, i)\u001b[0m\n\u001b[0;32m    979\u001b[0m         \u001b[0mReturn\u001b[0m \u001b[0mthe\u001b[0m \u001b[0mdata\u001b[0m \u001b[1;32mas\u001b[0m \u001b[0ma\u001b[0m \u001b[0mSingleBlockManager\u001b[0m\u001b[1;33m.\u001b[0m\u001b[1;33m\u001b[0m\u001b[1;33m\u001b[0m\u001b[0m\n\u001b[0;32m    980\u001b[0m         \"\"\"\n\u001b[1;32m--> 981\u001b[1;33m         \u001b[0mblock\u001b[0m \u001b[1;33m=\u001b[0m \u001b[0mself\u001b[0m\u001b[1;33m.\u001b[0m\u001b[0mblocks\u001b[0m\u001b[1;33m[\u001b[0m\u001b[0mself\u001b[0m\u001b[1;33m.\u001b[0m\u001b[0mblknos\u001b[0m\u001b[1;33m[\u001b[0m\u001b[0mi\u001b[0m\u001b[1;33m]\u001b[0m\u001b[1;33m]\u001b[0m\u001b[1;33m\u001b[0m\u001b[1;33m\u001b[0m\u001b[0m\n\u001b[0m\u001b[0;32m    982\u001b[0m         \u001b[0mvalues\u001b[0m \u001b[1;33m=\u001b[0m \u001b[0mblock\u001b[0m\u001b[1;33m.\u001b[0m\u001b[0miget\u001b[0m\u001b[1;33m(\u001b[0m\u001b[0mself\u001b[0m\u001b[1;33m.\u001b[0m\u001b[0mblklocs\u001b[0m\u001b[1;33m[\u001b[0m\u001b[0mi\u001b[0m\u001b[1;33m]\u001b[0m\u001b[1;33m)\u001b[0m\u001b[1;33m\u001b[0m\u001b[1;33m\u001b[0m\u001b[0m\n\u001b[0;32m    983\u001b[0m \u001b[1;33m\u001b[0m\u001b[0m\n",
      "\u001b[1;31mKeyboardInterrupt\u001b[0m: "
     ]
    }
   ],
   "source": [
    "for ind in tqdm(range(len(TrajGroups_0))):\n",
    "    temp_group = TrajGroups_0[ind]\n",
    "    for i in range(1,len(temp_group)):\n",
    "        if np.isnan(temp_group.iloc[i,2])|(np.isnan(temp_group.iloc[i-1,2])):\n",
    "            continue\n",
    "        X_next.append(temp_group.iloc[i].Coord_X_Mea)\n",
    "        X_cur.append(temp_group.iloc[i-1].Coord_X_Mea)\n",
    "        Y_next.append(temp_group.iloc[i].Coord_Y_Mea)\n",
    "        Y_cur.append(temp_group.iloc[i-1].Coord_Y_Mea)\n",
    "        X_speed_next.append(temp_group.iloc[i].Speed_X)\n",
    "        X_speed_cur.append(temp_group.iloc[i-1].Speed_X)\n",
    "        Y_speed_next.append(temp_group.iloc[i].Speed_Y)\n",
    "        Y_speed_cur.append(temp_group.iloc[i-1].Speed_Y)\n",
    "            \n",
    "for ind in tqdm(range(len(TrajGroups_1))):\n",
    "    temp_group = TrajGroups_1[ind]\n",
    "    for i in range(1,len(temp_group)):\n",
    "        if np.isnan(temp_group.iloc[i,2])|(np.isnan(temp_group.iloc[i-1,2])):\n",
    "            continue\n",
    "        X_next.append(temp_group.iloc[i].Coord_X_Mea)\n",
    "        X_cur.append(temp_group.iloc[i-1].Coord_X_Mea)\n",
    "        Y_next.append(temp_group.iloc[i].Coord_Y_Mea)\n",
    "        Y_cur.append(temp_group.iloc[i-1].Coord_Y_Mea)\n",
    "        X_speed_next.append(temp_group.iloc[i].Speed_X)\n",
    "        X_speed_cur.append(temp_group.iloc[i-1].Speed_X)\n",
    "        Y_speed_next.append(temp_group.iloc[i].Speed_Y)\n",
    "        Y_speed_cur.append(temp_group.iloc[i-1].Speed_Y)"
   ]
  },
  {
   "cell_type": "code",
   "execution_count": null,
   "id": "8e11661c",
   "metadata": {},
   "outputs": [],
   "source": [
    "pd.DataFrame({\n",
    "    'X_cur':X_cur,\n",
    "    'Y_cur':Y_cur,\n",
    "    'X_speed_cur':X_speed_cur,\n",
    "    'Y_speed_cur':Y_speed_cur,\n",
    "    'X_next':X_next,\n",
    "    'Y_next':Y_next,\n",
    "    'X_speed_next':X_speed_next,\n",
    "    'Y_speed_next':Y_speed_next,\n",
    "})"
   ]
  },
  {
   "cell_type": "code",
   "execution_count": null,
   "id": "a0e26d73",
   "metadata": {},
   "outputs": [],
   "source": []
  },
  {
   "cell_type": "code",
   "execution_count": null,
   "id": "3cf697eb",
   "metadata": {},
   "outputs": [],
   "source": []
  },
  {
   "cell_type": "code",
   "execution_count": 27,
   "id": "cf16d21d",
   "metadata": {},
   "outputs": [
    {
     "name": "stderr",
     "output_type": "stream",
     "text": [
      "2658it [00:55, 47.61it/s]\n"
     ]
    }
   ],
   "source": [
    "Label,Attribute = [],[]\n",
    "for ind,traj in tqdm(enumerate(Trajs)):\n",
    "    if Lens[ind] > 2:\n",
    "        for i in range(1,len(traj)):\n",
    "            labels = traj.iloc[i,[0,1,4,5]]\n",
    "            attributes = traj.iloc[i-1,[0,1,4,5]]\n",
    "            Label.append(labels)\n",
    "            Attribute.append(attributes)\n",
    "    else:\n",
    "        continue "
   ]
  },
  {
   "cell_type": "code",
   "execution_count": 28,
   "id": "f4aac110",
   "metadata": {},
   "outputs": [],
   "source": [
    "Label = pd.concat(Label,axis = 1).T\n",
    "Attribute = pd.concat(Attribute,axis = 1).T"
   ]
  },
  {
   "cell_type": "code",
   "execution_count": 56,
   "id": "512623bc",
   "metadata": {},
   "outputs": [],
   "source": [
    "Label.to_csv('../PosteriorData/Label.csv',index = False)\n",
    "Attribute.to_csv('../PosteriorData/Attribute.csv',index = False)"
   ]
  },
  {
   "cell_type": "code",
   "execution_count": 2,
   "id": "01858a30",
   "metadata": {},
   "outputs": [
    {
     "data": {
      "text/plain": [
       "'e:\\\\Lidar-Tracker\\\\Lidar-Tracker'"
      ]
     },
     "execution_count": 2,
     "metadata": {},
     "output_type": "execute_result"
    }
   ],
   "source": [
    "os.getcwd()"
   ]
  },
  {
   "cell_type": "code",
   "execution_count": null,
   "id": "33bed961",
   "metadata": {},
   "outputs": [],
   "source": []
  },
  {
   "cell_type": "code",
   "execution_count": 4,
   "id": "edaf7e3f",
   "metadata": {},
   "outputs": [],
   "source": [
    "params = {\n",
    "    'd':1.2,\n",
    "    'thred_s':0.3,\n",
    "    'N':20,\n",
    "    'delta_thred' : 1e-3,\n",
    "    'step':0.1,\n",
    "    'win_size':(5,11),\n",
    "    'eps': 1.8,\n",
    "    'min_samples':15,\n",
    "    'missing_thred':7,\n",
    "    'ending_frame' : 17950,\n",
    "    'background_update_frame':2000,\n",
    "    'save_pcd' : True,\n",
    "    'save_Azimuth_Laser_info' : False,\n",
    "    'result_type':'merged'\n",
    "}"
   ]
  },
  {
   "cell_type": "code",
   "execution_count": 2,
   "id": "2f9a4788",
   "metadata": {},
   "outputs": [
    {
     "name": "stdout",
     "output_type": "stream",
     "text": [
      "tensor([[-11.8579, -24.2041]], grad_fn=<AddmmBackward>)\n"
     ]
    }
   ],
   "source": [
    "from MOT_NN import MOT_NN"
   ]
  },
  {
   "cell_type": "code",
   "execution_count": 5,
   "id": "8234266f",
   "metadata": {
    "scrolled": true
   },
   "outputs": [
    {
     "name": "stderr",
     "output_type": "stream",
     "text": [
      "  0%|          | 2/2000 [00:00<01:40, 19.84it/s]"
     ]
    },
    {
     "name": "stdout",
     "output_type": "stream",
     "text": [
      "Frame update frame:2000 Initialization...\n"
     ]
    },
    {
     "name": "stderr",
     "output_type": "stream",
     "text": [
      "100%|██████████| 2000/2000 [01:30<00:00, 22.18it/s]\n"
     ]
    },
    {
     "name": "stdout",
     "output_type": "stream",
     "text": [
      "Generating Threshold Map\n"
     ]
    },
    {
     "name": "stderr",
     "output_type": "stream",
     "text": [
      "Tracking 2000 frame:  11%|█         | 1999/17949 [03:51<34:29,  7.71it/s]"
     ]
    },
    {
     "name": "stdout",
     "output_type": "stream",
     "text": [
      "Generating Threshold Map\n"
     ]
    },
    {
     "name": "stderr",
     "output_type": "stream",
     "text": [
      "Tracking 4000 frame:  22%|██▏       | 3999/17949 [08:10<23:57,  9.70it/s]  "
     ]
    },
    {
     "name": "stdout",
     "output_type": "stream",
     "text": [
      "Generating Threshold Map\n"
     ]
    },
    {
     "name": "stderr",
     "output_type": "stream",
     "text": [
      "Tracking 6000 frame:  33%|███▎      | 5999/17949 [12:06<19:56,  9.99it/s]  "
     ]
    },
    {
     "name": "stdout",
     "output_type": "stream",
     "text": [
      "Generating Threshold Map\n"
     ]
    },
    {
     "name": "stderr",
     "output_type": "stream",
     "text": [
      "Tracking 8000 frame:  45%|████▍     | 7999/17949 [16:14<17:23,  9.53it/s]  "
     ]
    },
    {
     "name": "stdout",
     "output_type": "stream",
     "text": [
      "Generating Threshold Map\n"
     ]
    },
    {
     "name": "stderr",
     "output_type": "stream",
     "text": [
      "Tracking 10000 frame:  56%|█████▌    | 9999/17949 [20:35<18:10,  7.29it/s] "
     ]
    },
    {
     "name": "stdout",
     "output_type": "stream",
     "text": [
      "Generating Threshold Map\n"
     ]
    },
    {
     "name": "stderr",
     "output_type": "stream",
     "text": [
      "Tracking 12000 frame:  67%|██████▋   | 11999/17949 [25:36<13:15,  7.48it/s]  "
     ]
    },
    {
     "name": "stdout",
     "output_type": "stream",
     "text": [
      "Generating Threshold Map\n"
     ]
    },
    {
     "name": "stderr",
     "output_type": "stream",
     "text": [
      "Tracking 14000 frame:  78%|███████▊  | 13999/17949 [29:46<09:29,  6.93it/s]  "
     ]
    },
    {
     "name": "stdout",
     "output_type": "stream",
     "text": [
      "Generating Threshold Map\n"
     ]
    },
    {
     "name": "stderr",
     "output_type": "stream",
     "text": [
      "Tracking 16000 frame:  89%|████████▉ | 15999/17949 [33:54<03:33,  9.13it/s]  "
     ]
    },
    {
     "name": "stdout",
     "output_type": "stream",
     "text": [
      "Generating Threshold Map\n"
     ]
    },
    {
     "name": "stderr",
     "output_type": "stream",
     "text": [
      "Tracking 17949 frame: 100%|██████████| 17949/17949 [37:34<00:00,  7.96it/s]\n",
      "  2%|▏         | 61/2532 [00:00<00:04, 602.12it/s]"
     ]
    },
    {
     "name": "stdout",
     "output_type": "stream",
     "text": [
      "Generating Traj Files...\n"
     ]
    },
    {
     "name": "stderr",
     "output_type": "stream",
     "text": [
      "100%|██████████| 2532/2532 [00:04<00:00, 620.38it/s]\n"
     ]
    }
   ],
   "source": [
    "input_path = '../RawLidarData/Veteran'\n",
    "dir_lis = os.listdir(input_path)\n",
    "pcap_path = 'None'\n",
    "for f in dir_lis:\n",
    "    if 'pcap' in f.split('.'):\n",
    "        pcap_path = os.path.join(input_path,f)\n",
    "if pcap_path == 'None':\n",
    "    print('Pcap file is not detected')\n",
    "output_file_path = '../RawLidarData/Veteran'\n",
    "config_path = os.path.join(input_path,'config.json')\n",
    "ref_LLH_path,ref_xyz_path = os.path.join(input_path,'LLE_ref.csv'),os.path.join(input_path,'xyz_ref.csv')\n",
    "ref_LLH,ref_xyz = np.array(pd.read_csv(ref_LLH_path)),np.array(pd.read_csv(ref_xyz_path))\n",
    "ref_LLH[:,[0,1]] = ref_LLH[:,[0,1]] * np.pi/180\n",
    "ref_LLH[:,2] = ref_LLH[:,2]/3.2808\n",
    "\n",
    "# TrackingModel Path\n",
    "model_path = './PosteriorModel/saved_model.pth' \n",
    "\n",
    "# with open(config_path) as f:\n",
    "#     params = json.load(f)\n",
    "mot = MOT_NN(pcap_path,output_file_path,model_path,**params)\n",
    "mot.initialization()\n",
    "mot.mot_tracking()\n",
    "mot.save_result(ref_LLH,ref_xyz)"
   ]
  },
  {
   "cell_type": "code",
   "execution_count": null,
   "id": "cebc07b1",
   "metadata": {},
   "outputs": [],
   "source": []
  },
  {
   "cell_type": "code",
   "execution_count": null,
   "id": "fd1b4537",
   "metadata": {},
   "outputs": [],
   "source": []
  }
 ],
 "metadata": {
  "interpreter": {
   "hash": "1e5f7bb8ccf0c05ceb6f1a2a367df183186574b25661c58bd0281a0958a9efbd"
  },
  "kernelspec": {
   "display_name": "Python 3 (ipykernel)",
   "language": "python",
   "name": "python3"
  },
  "language_info": {
   "codemirror_mode": {
    "name": "ipython",
    "version": 3
   },
   "file_extension": ".py",
   "mimetype": "text/x-python",
   "name": "python",
   "nbconvert_exporter": "python",
   "pygments_lexer": "ipython3",
   "version": "3.8.11"
  }
 },
 "nbformat": 4,
 "nbformat_minor": 5
}
