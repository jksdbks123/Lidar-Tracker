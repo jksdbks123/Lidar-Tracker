{
 "cells": [
  {
   "cell_type": "code",
   "execution_count": 153,
   "metadata": {},
   "outputs": [],
   "source": [
    "from MOT import MOT\n",
    "import numpy as np\n",
    "import os\n",
    "from BfTableGenerator import RansacCollector\n",
    "from BfTableGenerator import TDmapLoader\n",
    "from tqdm import tqdm\n",
    "import open3d as op3\n",
    "# from open3d.web_visualizer import draw\n",
    "from Utils import *\n",
    "import pandas as pd\n",
    "from scipy.sparse import csr_matrix\n",
    "import json\n",
    "from scipy.optimize import linear_sum_assignment\n"
   ]
  },
  {
   "cell_type": "code",
   "execution_count": 169,
   "metadata": {},
   "outputs": [],
   "source": [
    "State_affinity_0 = np.empty((4,6))\n",
    "State_affinity_0.fill(1e3)\n",
    "State_affinity_0[0,0] = 1\n",
    "State_affinity_0[0,1] = 2\n",
    "State_affinity_0[2,2] = 2"
   ]
  },
  {
   "cell_type": "code",
   "execution_count": 170,
   "metadata": {},
   "outputs": [
    {
     "data": {
      "text/plain": [
       "(array([0, 1, 2, 3]), array([0, 1, 2, 3]))"
      ]
     },
     "execution_count": 170,
     "metadata": {},
     "output_type": "execute_result"
    }
   ],
   "source": [
    "linear_sum_assignment(State_affinity_0)"
   ]
  },
  {
   "cell_type": "code",
   "execution_count": 6,
   "metadata": {},
   "outputs": [],
   "source": [
    "RawTrajs = pd.read_csv('../RawLidarData/Veteran/OutputFile/OutputTrajs/Trajctories.csv')\n",
    "print(RawTrajs.columns)\n",
    "TrajGroups = RawTrajs.groupby('ObjectID')\n",
    "Trajs = [traj[1].loc[:,['Coord_X_est','Coord_Y_est','Coord_Lon_est','Coord_Lat_est','Speed_x','Speed_y']].reset_index(drop = True) for traj in TrajGroups]\n",
    "Lens = [len(traj) for traj in Trajs]"
   ]
  },
  {
   "cell_type": "code",
   "execution_count": 27,
   "metadata": {},
   "outputs": [
    {
     "name": "stderr",
     "output_type": "stream",
     "text": [
      "2658it [00:55, 47.61it/s]\n"
     ]
    }
   ],
   "source": [
    "Label,Attribute = [],[]\n",
    "for ind,traj in tqdm(enumerate(Trajs)):\n",
    "    if Lens[ind] > 2:\n",
    "        for i in range(1,len(traj)):\n",
    "            labels = traj.iloc[i,[0,1,4,5]]\n",
    "            attributes = traj.iloc[i-1,[0,1,4,5]]\n",
    "            Label.append(labels)\n",
    "            Attribute.append(attributes)\n",
    "    else:\n",
    "        continue "
   ]
  },
  {
   "cell_type": "code",
   "execution_count": 28,
   "metadata": {},
   "outputs": [],
   "source": [
    "Label = pd.concat(Label,axis = 1).T\n",
    "Attribute = pd.concat(Attribute,axis = 1).T"
   ]
  },
  {
   "cell_type": "code",
   "execution_count": 56,
   "metadata": {},
   "outputs": [],
   "source": [
    "Label.to_csv('../PosteriorData/Label.csv',index = False)\n",
    "Attribute.to_csv('../PosteriorData/Attribute.csv',index = False)"
   ]
  },
  {
   "cell_type": "code",
   "execution_count": 2,
   "metadata": {},
   "outputs": [
    {
     "data": {
      "text/plain": [
       "'e:\\\\Lidar-Tracker\\\\Lidar-Tracker'"
      ]
     },
     "execution_count": 2,
     "metadata": {},
     "output_type": "execute_result"
    }
   ],
   "source": [
    "os.getcwd()"
   ]
  },
  {
   "cell_type": "code",
   "execution_count": null,
   "metadata": {},
   "outputs": [],
   "source": []
  },
  {
   "cell_type": "code",
   "execution_count": null,
   "metadata": {},
   "outputs": [],
   "source": []
  },
  {
   "cell_type": "code",
   "execution_count": null,
   "metadata": {},
   "outputs": [],
   "source": []
  }
 ],
 "metadata": {
  "interpreter": {
   "hash": "1e5f7bb8ccf0c05ceb6f1a2a367df183186574b25661c58bd0281a0958a9efbd"
  },
  "kernelspec": {
   "display_name": "Python 3",
   "language": "python",
   "name": "python3"
  },
  "language_info": {
   "codemirror_mode": {
    "name": "ipython",
    "version": 3
   },
   "file_extension": ".py",
   "mimetype": "text/x-python",
   "name": "python",
   "nbconvert_exporter": "python",
   "pygments_lexer": "ipython3",
   "version": "3.8.11"
  }
 },
 "nbformat": 4,
 "nbformat_minor": 5
}
