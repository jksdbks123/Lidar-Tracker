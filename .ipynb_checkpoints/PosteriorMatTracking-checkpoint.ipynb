{
 "cells": [
  {
   "cell_type": "code",
   "execution_count": 132,
   "id": "895e6239",
   "metadata": {},
   "outputs": [],
   "source": [
    "from MOT import MOT\n",
    "import numpy as np\n",
    "import os\n",
    "from BfTableGenerator import RansacCollector\n",
    "from BfTableGenerator import TDmapLoader\n",
    "from tqdm import tqdm\n",
    "import open3d as op3\n",
    "from open3d.web_visualizer import draw\n",
    "from Utils import *\n",
    "import pandas as pd\n",
    "from scipy.sparse import lil_matrix\n",
    "from scipy.sparse import csr_matrix\n",
    "from scipy.sparse import save_npz\n",
    "from scipy.sparse import load_npz"
   ]
  },
  {
   "cell_type": "code",
   "execution_count": 119,
   "id": "3afaacaf",
   "metadata": {},
   "outputs": [],
   "source": [
    "def ProcessSingleTraj(Traj,TPMs,XInd,YInd):\n",
    "    for cur in range(len(Traj)):\n",
    "        for i,tpm in enumerate(TPMs):\n",
    "            nex = i + 1 # indicates the future step \n",
    "            # If the Mea is not Identified\n",
    "            if nex > (len(Traj) - 1):\n",
    "                break \n",
    "            if (Traj[cur,0] != -1) & (Traj[nex,0] != -1):\n",
    "                CurCellCode = CellCoding[XInd[cur],YInd[cur]]\n",
    "                NexCellCode = CellCoding[XInd[nex],YInd[nex]]\n",
    "                tpm[CurCellCode,NexCellCode] += 1\n"
   ]
  },
  {
   "cell_type": "code",
   "execution_count": 126,
   "id": "93d74b5c",
   "metadata": {},
   "outputs": [
    {
     "name": "stderr",
     "output_type": "stream",
     "text": [
      "100%|█████████████████████████████████████████████████████████████████████████████| 2658/2658 [00:13<00:00, 202.65it/s]\n",
      "100%|███████████████████████████████████████████████████████████████████████████████████| 7/7 [17:40<00:00, 151.45s/it]\n"
     ]
    }
   ],
   "source": [
    "#read each traj and count freq\n",
    "os.chdir(r'E:\\Data\\Verteran')\n",
    "TrajPath = r'.\\OutputFile\\OutputTrajs'\n",
    "TrajLis = os.listdir(TrajPath)\n",
    "BinX,BinY = np.arange(-200,201),np.arange(-200,201)\n",
    "CellCoding = np.arange(BinX.shape[0]*BinY.shape[0]).reshape((BinY.shape[0],BinX.shape[0])).astype(np.int32)\n",
    "# Establish TPM for 0.7 second\n",
    "TPMs = [lil_matrix((CellCoding.shape[0]*CellCoding.shape[1],CellCoding.shape[0]*CellCoding.shape[1]),dtype=np.int64) for i in range(7)]\n",
    "for i in tqdm(range(len(TrajLis))):\n",
    "    # rule out the estimated values by KF\n",
    "    TestTraj = np.array(pd.read_csv(os.path.join(TrajPath,TrajLis[i])))[:,[0,1]][:-8]\n",
    "    #XInd,YInd are digitized index from -200 to +200\n",
    "    XInd,YInd = np.digitize(TestTraj[:,0],BinX),np.digitize(TestTraj[:,1],BinY)\n",
    "    ProcessSingleTraj(TestTraj,TPMs,XInd,YInd)\n",
    "# to calculate the normalized probability =\n",
    "for tpm in tqdm(TPMs):\n",
    "    for row in range(tpm.shape[0]):\n",
    "        if tpm[row].sum() != 0:\n",
    "            tpm[row] = tpm[row]/tpm[row].sum()"
   ]
  },
  {
   "cell_type": "code",
   "execution_count": 133,
   "id": "cd9e1cd3",
   "metadata": {},
   "outputs": [
    {
     "data": {
      "text/plain": [
       "<1x160801 sparse matrix of type '<class 'numpy.int64'>'\n",
       "\twith 0 stored elements in Compressed Sparse Row format>"
      ]
     },
     "execution_count": 133,
     "metadata": {},
     "output_type": "execute_result"
    }
   ],
   "source": [
    "csr_matrix(TPM[0])"
   ]
  },
  {
   "cell_type": "code",
   "execution_count": 135,
   "id": "e3a92cb4",
   "metadata": {},
   "outputs": [],
   "source": [
    "for i,tpm in enumerate(TPMs):\n",
    "    save_npz(\"E:/Data/Verteran/OutputFile/tpm_{}.npz\".format(i), csr_matrix(tpm))\n",
    "    # your_matrix_back = sparse.load_npz(\"yourmatrix.npz\")"
   ]
  },
  {
   "cell_type": "code",
   "execution_count": null,
   "id": "f9c7cec7",
   "metadata": {},
   "outputs": [],
   "source": []
  },
  {
   "cell_type": "code",
   "execution_count": 138,
   "id": "5bab2d97",
   "metadata": {},
   "outputs": [],
   "source": [
    "test = load_npz(r'E:/Data/Verteran/OutputFile/tpm_0.npz')"
   ]
  },
  {
   "cell_type": "code",
   "execution_count": 142,
   "id": "7e67ac38",
   "metadata": {},
   "outputs": [
    {
     "data": {
      "text/plain": [
       "1841"
      ]
     },
     "execution_count": 142,
     "metadata": {},
     "output_type": "execute_result"
    }
   ],
   "source": [
    "test"
   ]
  },
  {
   "cell_type": "code",
   "execution_count": null,
   "id": "fb6342e4",
   "metadata": {},
   "outputs": [],
   "source": []
  }
 ],
 "metadata": {
  "kernelspec": {
   "display_name": "Python 3 (ipykernel)",
   "language": "python",
   "name": "python3"
  },
  "language_info": {
   "codemirror_mode": {
    "name": "ipython",
    "version": 3
   },
   "file_extension": ".py",
   "mimetype": "text/x-python",
   "name": "python",
   "nbconvert_exporter": "python",
   "pygments_lexer": "ipython3",
   "version": "3.8.11"
  }
 },
 "nbformat": 4,
 "nbformat_minor": 5
}
