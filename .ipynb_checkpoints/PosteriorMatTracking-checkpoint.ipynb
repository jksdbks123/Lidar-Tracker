{
 "cells": [
  {
   "cell_type": "code",
   "execution_count": 22,
   "id": "6014f6db",
   "metadata": {},
   "outputs": [],
   "source": [
    "from MOT import MOT\n",
    "import numpy as np\n",
    "import os\n",
    "from BfTableGenerator import RansacCollector\n",
    "from BfTableGenerator import TDmapLoader\n",
    "from tqdm import tqdm\n",
    "import open3d as op3\n",
    "# from open3d.web_visualizer import draw\n",
    "from Utils import *\n",
    "import pandas as pd\n",
    "from scipy.sparse import csr_matrix\n",
    "import json\n",
    "from scipy.optimize import linear_sum_assignment\n",
    "import pandas as pd\n",
    "import matplotlib.pyplot as plt"
   ]
  },
  {
   "cell_type": "code",
   "execution_count": 64,
   "id": "7595c357",
   "metadata": {},
   "outputs": [],
   "source": [
    "RawTrajs = []\n",
    "for i in range(4):\n",
    "    RawTrajs_temp_0 = pd.read_csv('../RawLidarData/McCarranEvans_Train_{}/OutputFile/OutputTrajs/Trajctories_0.csv'.format(i))\n",
    "    RawTrajs_temp_1 = pd.read_csv('../RawLidarData/McCarranEvans_Train_{}/OutputFile/OutputTrajs/Trajctories_1.csv'.format(i))\n",
    "    RawTrajs.append(RawTrajs_temp_0)\n",
    "    RawTrajs.append(RawTrajs_temp_1)"
   ]
  },
  {
   "cell_type": "code",
   "execution_count": 65,
   "id": "46daeadd",
   "metadata": {},
   "outputs": [],
   "source": [
    "TotalTrajs = []\n",
    "for rawtraj in RawTrajs:\n",
    "    TrajGroups = rawtraj.groupby('ObjectID')\n",
    "    for g in TrajGroups:\n",
    "        TotalTrajs.append(g[1])"
   ]
  },
  {
   "cell_type": "code",
   "execution_count": 72,
   "id": "3d885fec",
   "metadata": {},
   "outputs": [
    {
     "name": "stderr",
     "output_type": "stream",
     "text": [
      "100%|██████████████████████████████████████| 5476/5476 [00:12<00:00, 449.11it/s]\n"
     ]
    },
    {
     "name": "stdout",
     "output_type": "stream",
     "text": [
      "561213\n"
     ]
    },
    {
     "name": "stderr",
     "output_type": "stream",
     "text": [
      "100%|██████████████████████████████████████| 5476/5476 [00:11<00:00, 459.25it/s]\n"
     ]
    },
    {
     "name": "stdout",
     "output_type": "stream",
     "text": [
      "554270\n"
     ]
    },
    {
     "name": "stderr",
     "output_type": "stream",
     "text": [
      "100%|██████████████████████████████████████| 5476/5476 [00:11<00:00, 464.62it/s]\n"
     ]
    },
    {
     "name": "stdout",
     "output_type": "stream",
     "text": [
      "544681\n"
     ]
    },
    {
     "name": "stderr",
     "output_type": "stream",
     "text": [
      "100%|██████████████████████████████████████| 5476/5476 [00:12<00:00, 446.23it/s]\n"
     ]
    },
    {
     "name": "stdout",
     "output_type": "stream",
     "text": [
      "535332\n"
     ]
    },
    {
     "name": "stderr",
     "output_type": "stream",
     "text": [
      "100%|██████████████████████████████████████| 5476/5476 [00:12<00:00, 445.95it/s]\n"
     ]
    },
    {
     "name": "stdout",
     "output_type": "stream",
     "text": [
      "526742\n"
     ]
    },
    {
     "name": "stderr",
     "output_type": "stream",
     "text": [
      "100%|██████████████████████████████████████| 5476/5476 [00:11<00:00, 462.68it/s]\n"
     ]
    },
    {
     "name": "stdout",
     "output_type": "stream",
     "text": [
      "518201\n"
     ]
    },
    {
     "name": "stderr",
     "output_type": "stream",
     "text": [
      "100%|██████████████████████████████████████| 5476/5476 [00:12<00:00, 449.23it/s]\n"
     ]
    },
    {
     "name": "stdout",
     "output_type": "stream",
     "text": [
      "510156\n"
     ]
    },
    {
     "name": "stderr",
     "output_type": "stream",
     "text": [
      "100%|██████████████████████████████████████| 5476/5476 [00:12<00:00, 435.21it/s]\n"
     ]
    },
    {
     "name": "stdout",
     "output_type": "stream",
     "text": [
      "502184\n"
     ]
    },
    {
     "name": "stderr",
     "output_type": "stream",
     "text": [
      "100%|██████████████████████████████████████| 5476/5476 [00:12<00:00, 455.75it/s]\n"
     ]
    },
    {
     "name": "stdout",
     "output_type": "stream",
     "text": [
      "494284\n"
     ]
    },
    {
     "name": "stderr",
     "output_type": "stream",
     "text": [
      "100%|██████████████████████████████████████| 5476/5476 [00:12<00:00, 450.07it/s]\n"
     ]
    },
    {
     "name": "stdout",
     "output_type": "stream",
     "text": [
      "486202\n"
     ]
    }
   ],
   "source": [
    "for time_step in [1,2,3,4,5,6,7,8,9,10]:\n",
    "#     time_step = 1\n",
    "    Speed_curs = []\n",
    "    Coord_curs = []\n",
    "    Coord_nexts = []\n",
    "    for ind in tqdm(range(len(TotalTrajs))):\n",
    "        temp_group = TotalTrajs[ind]\n",
    "        Coords = np.array(temp_group.loc[:,['Coord_X_Mea','Coord_Y_Mea']])\n",
    "        if len(Coords) < (time_step + 2):\n",
    "                continue\n",
    "        for i in range(time_step,len(Coords) - time_step):\n",
    "            Coord_cur = Coords[i]\n",
    "            Coord_next = Coords[i + time_step]\n",
    "            \n",
    "            if np.isnan(Coord_cur).any()|np.isnan(Coord_next).any():\n",
    "                continue\n",
    "                \n",
    "            if np.sqrt(np.sum(Coord_next - Coord_cur)**2) > 4.1 * time_step:\n",
    "                continue\n",
    "                \n",
    "            Speed_cur = Coords[i] - Coords[i - time_step]\n",
    "            \n",
    "            if np.sqrt(np.sum((Speed_cur**2))) > 4.1 * time_step:\n",
    "                continue \n",
    "            \n",
    "            Speed_curs.append(Speed_cur)\n",
    "            Coord_curs.append(Coord_cur)\n",
    "            Coord_nexts.append(Coord_next)\n",
    "    col_names = ['X_cur','Y_cur', 'X_speed_cur','Y_speed_cur','X_next','Y_next']\n",
    "    result = pd.DataFrame(np.concatenate([np.array(Coord_curs),np.array(Speed_curs),np.array(Coord_nexts)],axis = 1),columns=col_names)\n",
    "    result.to_csv('../RawLidarData/PosterierTrainData/Train_{}.csv'.format(time_step),index = False)\n",
    "    print(len(result))"
   ]
  },
  {
   "cell_type": "code",
   "execution_count": null,
   "id": "dc7a5b44",
   "metadata": {},
   "outputs": [],
   "source": []
  },
  {
   "cell_type": "code",
   "execution_count": null,
   "id": "74853b99",
   "metadata": {},
   "outputs": [],
   "source": []
  },
  {
   "cell_type": "code",
   "execution_count": null,
   "id": "cebc07b1",
   "metadata": {},
   "outputs": [],
   "source": []
  },
  {
   "cell_type": "code",
   "execution_count": null,
   "id": "fd1b4537",
   "metadata": {},
   "outputs": [],
   "source": []
  }
 ],
 "metadata": {
  "interpreter": {
   "hash": "1e5f7bb8ccf0c05ceb6f1a2a367df183186574b25661c58bd0281a0958a9efbd"
  },
  "kernelspec": {
   "display_name": "Python 3 (ipykernel)",
   "language": "python",
   "name": "python3"
  },
  "language_info": {
   "codemirror_mode": {
    "name": "ipython",
    "version": 3
   },
   "file_extension": ".py",
   "mimetype": "text/x-python",
   "name": "python",
   "nbconvert_exporter": "python",
   "pygments_lexer": "ipython3",
   "version": "3.7.11"
  }
 },
 "nbformat": 4,
 "nbformat_minor": 5
}
