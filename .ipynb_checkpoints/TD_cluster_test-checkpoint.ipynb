{
 "cells": [
  {
   "cell_type": "code",
   "execution_count": 10,
   "metadata": {},
   "outputs": [],
   "source": [
    "from tqdm.notebook import tqdm\n",
    "import datetime\n",
    "import dpkt\n",
    "import numpy as np\n",
    "import matplotlib.pyplot as plt\n",
    "import os\n",
    "import open3d as op3 \n",
    "import seaborn as sns\n",
    "import pandas as pd\n",
    "import time\n",
    "from scipy.sparse.csgraph import connected_components\n",
    "import seaborn as sns\n",
    "from open3d import JVisualizer\n",
    "from BfTableGenerator import RansacCollector\n",
    "from matplotlib import cm\n",
    "theta = np.sort(np.array([[-25,1.4],[-1,-4.2],[-1.667,1.4],[-15.639,-1.4],\n",
    "                            [-11.31,1.4],[0,-1.4],[-0.667,4.2],[-8.843,-1.4],\n",
    "                            [-7.254,1.4],[0.333,-4.2],[-0.333,1.4],[-6.148,-1.4],\n",
    "                            [-5.333,4.2],[1.333,-1.4],[0.667,4.2],[-4,-1.4],\n",
    "                            [-4.667,1.4],[1.667,-4.2],[1,1.4],[-3.667,-4.2],\n",
    "                            [-3.333,4.2],[3.333,-1.4],[2.333,1.4],[-2.667,-1.4],\n",
    "                            [-3,1.4],[7,-1.4],[4.667,1.4],[-2.333,-4.2],\n",
    "                            [-2,4.2],[15,-1.4],[10.333,1.4],[-1.333,-1.4]\n",
    "                            ])[:,0])\n",
    "azimuths = np.arange(0,360,0.2)\n",
    "theta_raw = np.array([[-25,1.4],[-1,-4.2],[-1.667,1.4],[-15.639,-1.4],\n",
    "                            [-11.31,1.4],[0,-1.4],[-0.667,4.2],[-8.843,-1.4],\n",
    "                            [-7.254,1.4],[0.333,-4.2],[-0.333,1.4],[-6.148,-1.4],\n",
    "                            [-5.333,4.2],[1.333,-1.4],[0.667,4.2],[-4,-1.4],\n",
    "                            [-4.667,1.4],[1.667,-4.2],[1,1.4],[-3.667,-4.2],\n",
    "                            [-3.333,4.2],[3.333,-1.4],[2.333,1.4],[-2.667,-1.4],\n",
    "                            [-3,1.4],[7,-1.4],[4.667,1.4],[-2.333,-4.2],\n",
    "                            [-2,4.2],[15,-1.4],[10.333,1.4],[-1.333,-1.4]\n",
    "                            ])[:,0]"
   ]
  },
  {
   "cell_type": "code",
   "execution_count": 2,
   "metadata": {},
   "outputs": [
    {
     "name": "stderr",
     "output_type": "stream",
     "text": [
      "  0%|          | 2/17950 [00:00<18:18, 16.34it/s]"
     ]
    },
    {
     "name": "stdout",
     "output_type": "stream",
     "text": [
      "Loading pcap...\n"
     ]
    },
    {
     "name": "stderr",
     "output_type": "stream",
     "text": [
      "100%|██████████| 17950/17950 [16:45<00:00, 17.85it/s]\n"
     ]
    }
   ],
   "source": [
    "os.chdir(r'/Users/czhui960/Documents/Lidar/RawLidarData/FrameSamplingTest')\n",
    "# thred_map = np.load(r'Output File/thred_map_1200.npy')\n",
    "frame_set = np.arange(0,17950,1).astype('int')\n",
    "collector = RansacCollector(pcap_path=r'./2020-7-27-10-30-0.pcap',frames_set = frame_set)\n",
    "collector.gen_tdmap()"
   ]
  },
  {
   "cell_type": "code",
   "execution_count": 14,
   "metadata": {},
   "outputs": [
    {
     "name": "stderr",
     "output_type": "stream",
     "text": [
      "\r",
      "  0%|          | 0/32 [00:00<?, ?it/s]"
     ]
    },
    {
     "name": "stdout",
     "output_type": "stream",
     "text": [
      "Generating Threshold Map\n"
     ]
    },
    {
     "name": "stderr",
     "output_type": "stream",
     "text": [
      "100%|██████████| 32/32 [01:26<00:00,  2.72s/it]\n",
      "  2%|▏         | 15/1000 [00:00<00:06, 146.03it/s]"
     ]
    },
    {
     "name": "stdout",
     "output_type": "stream",
     "text": [
      "Saving Pcd Sequence\n"
     ]
    },
    {
     "name": "stderr",
     "output_type": "stream",
     "text": [
      "100%|██████████| 1000/1000 [00:04<00:00, 209.07it/s]\n"
     ]
    }
   ],
   "source": [
    "collector.gen_thredmap(d = 1.2,thred_s = 0.3,N = 20,delta_thred = 1e-3,step = 0.1,inuse_frame = np.arange(17000))\n",
    "collector.gen_pcdseq(np.arange(0,1000))"
   ]
  },
  {
   "cell_type": "code",
   "execution_count": 15,
   "metadata": {},
   "outputs": [
    {
     "data": {
      "image/png": "[encoded data removed]",
      "text/plain": [
       "<Figure size 720x360 with 1 Axes>"
      ]
     },
     "metadata": {
      "needs_background": "light"
     },
     "output_type": "display_data"
    },
    {
     "data": {
      "image/png": "[encoded data removed]",
      "text/plain": [
       "<Figure size 720x360 with 1 Axes>"
      ]
     },
     "metadata": {
      "needs_background": "light"
     },
     "output_type": "display_data"
    }
   ],
   "source": [
    "laser_id = 11\n",
    "azimuth = np.around((14/100)/0.2).astype('int')\n",
    "laser = np.where(theta == theta_raw[laser_id])[0]\n",
    "ts = collector.td_maps[:,laser,azimuth].copy()\n",
    "thred = collector.thred_map[laser,azimuth]\n",
    "plt.figure(figsize=(10,5))\n",
    "plt.scatter(np.arange(len(ts)),ts,alpha = 0.5,s = 3)\n",
    "plt.hlines(thred,0,len(ts),color = 'r')\n",
    "plt.ylim(thred - 1, thred + 1)\n",
    "plt.show()\n",
    "plt.figure(figsize=(10,5))\n",
    "plt.scatter(np.arange(len(ts)),ts,alpha = 0.5,s = 3)\n",
    "plt.hlines(thred,0,len(ts),color = 'r')\n",
    "plt.show()"
   ]
  },
  {
   "cell_type": "code",
   "execution_count": 18,
   "metadata": {},
   "outputs": [],
   "source": [
    "def select_neighbors(row,col,td_map):\n",
    "    if (row == 0)&(col == 0):\n",
    "        return ((row,col),(row,col)) # left,upper \n",
    "    elif row == 0:\n",
    "        return ((row,col - 1),(row,col)) # left,upper \n",
    "    elif col == 0:\n",
    "        return ((row,col),(row - 1,col))\n",
    "    else:\n",
    "        return ((row,col-1),(row - 1,col))\n",
    "def search_equivalency(equiv,equiv_list):\n",
    "    flag = False \n",
    "    for item in equiv_list:\n",
    "        if (equiv[0] == item[0])&(equiv[1] == item[1]):\n",
    "            flag = True \n",
    "            break\n",
    "    return flag"
   ]
  },
  {
   "cell_type": "code",
   "execution_count": 19,
   "metadata": {},
   "outputs": [],
   "source": [
    "thred_map = collector.thred_map"
   ]
  },
  {
   "cell_type": "code",
   "execution_count": 90,
   "metadata": {},
   "outputs": [
    {
     "name": "stdout",
     "output_type": "stream",
     "text": [
      "23.9 ms ± 1.02 ms per loop (mean ± std. dev. of 7 runs, 10 loops each)\n"
     ]
    }
   ],
   "source": [
    "%%timeit\n",
    "dis_thred = 2\n",
    "td_map = collector.td_maps[0].copy()\n",
    "Foreground_map = (td_map < thred_map)&(td_map != 0)\n",
    "temp_indicator = 0 \n",
    "equivalencies = []\n",
    "labeling_map = np.full(td_map.shape,None)\n",
    "for row in range(td_map.shape[0]):\n",
    "    for col in range(td_map.shape[1]):\n",
    "        # scan from 1 to N\n",
    "        if Foreground_map[row,col] :\n",
    "            left_neighbor,upper_neighbor = select_neighbors(row,col,td_map)\n",
    "            # New cluster identified\n",
    "            if (labeling_map[left_neighbor] is None) and (labeling_map[upper_neighbor] is None):\n",
    "                labeling_map[row,col] = temp_indicator\n",
    "                temp_indicator += 1\n",
    "            else:\n",
    "                # the upper and left both have their labels, besides they are different. \n",
    "                if (labeling_map[left_neighbor] is not None) and (labeling_map[upper_neighbor] is not None)&(labeling_map[left_neighbor] != labeling_map[upper_neighbor]):\n",
    "                    if np.abs(td_map[left_neighbor] - td_map[row,col]) < dis_thred:\n",
    "                        labeling_map[row,col] = labeling_map[left_neighbor]\n",
    "                        if np.abs(td_map[row,col] - td_map[upper_neighbor]) < dis_thred:\n",
    "                            if search_equivalency([labeling_map[left_neighbor],labeling_map[upper_neighbor]],equivalencies) is not True:\n",
    "                                equivalencies.append([labeling_map[left_neighbor],labeling_map[upper_neighbor]])\n",
    "                    else:\n",
    "                        if np.abs(td_map[row,col] - td_map[upper_neighbor]) < dis_thred:\n",
    "                            labeling_map[row,col] = labeling_map[upper_neighbor]\n",
    "                        else:\n",
    "                            labeling_map[row,col] = temp_indicator\n",
    "                            temp_indicator += 1\n",
    "                else:\n",
    "                    # Upper is None but left has been labeled \n",
    "                    if labeling_map[left_neighbor] is not None:\n",
    "                        if np.abs(td_map[left_neighbor] - td_map[row,col]) < dis_thred:\n",
    "                            labeling_map[row,col] = labeling_map[left_neighbor]\n",
    "                        else:\n",
    "                            labeling_map[row,col] = temp_indicator\n",
    "                            temp_indicator += 1\n",
    "                    else:\n",
    "                        if (np.abs(td_map[upper_neighbor] - td_map[row,col]) < dis_thred):\n",
    "                            labeling_map[row,col] = labeling_map[upper_neighbor]\n",
    "                        else:\n",
    "                            labeling_map[row,col] = temp_indicator\n",
    "                            temp_indicator += 1\n",
    "\n",
    "# correction grooups\n",
    "unique_num = np.unique(equivalencies)\n",
    "adj_mat = np.zeros((len(unique_num),len(unique_num)))\n",
    "for eq in equivalencies:\n",
    "    ind_mat_0 = np.where(unique_num == eq[0])[0][0]\n",
    "    ind_mat_1 = np.where(unique_num == eq[1])[0][0]\n",
    "    adj_mat[ind_mat_0,ind_mat_1] = 1\n",
    "    adj_mat[ind_mat_1,ind_mat_0]\n",
    "connected_labels = connected_components(adj_mat)[1]\n",
    "#correction\n",
    "correction_dic = {}\n",
    "for i in range(connected_labels[-1] + 1):\n",
    "    group_ids = np.sort(unique_num[np.where(connected_labels == i)[0]])\n",
    "    root = group_ids[0]\n",
    "    for j in group_ids[1:]:\n",
    "        correction_dic[j] = root\n",
    "\n",
    "for row in range(td_map.shape[0]):\n",
    "    for col in range(td_map.shape[1]):\n",
    "        if labeling_map[row,col] in correction_dic.keys():\n",
    "            labeling_map[row,col] = correction_dic[labeling_map[row,col]]\n",
    "\n",
    "roll_over_equivalencies = []# roll over processing\n",
    "for row in range(td_map.shape[0]):\n",
    "    if (labeling_map[row,0] is not None)&(labeling_map[row,-1] is not None):\n",
    "        if [labeling_map[row,0],labeling_map[row,-1]] not in roll_over_equivalencies:\n",
    "            roll_over_equivalencies.append([labeling_map[row,0],labeling_map[row,-1]])\n",
    "for eq in roll_over_equivalencies:\n",
    "    if eq[0] < eq[1]:\n",
    "        labeling_map[labeling_map == eq[1]] = eq[0]\n",
    "    else:\n",
    "        labeling_map[labeling_map == eq[0]] = eq[1]\n",
    "labeling_map[labeling_map == None] = -1\n"
   ]
  },
  {
   "cell_type": "code",
   "execution_count": 89,
   "metadata": {
    "scrolled": false
   },
   "outputs": [
    {
     "data": {
      "application/vnd.jupyter.widget-view+json": {
       "model_id": "b826a928db474e149d37d60eeb629f2e",
       "version_major": 2,
       "version_minor": 0
      },
      "text/plain": [
       "JVisualizer with 1 geometries"
      ]
     },
     "metadata": {},
     "output_type": "display_data"
    }
   ],
   "source": [
    "td_freq_map = td_map.copy()\n",
    "Xs = []\n",
    "Ys = []\n",
    "Zs = []\n",
    "Labels = []\n",
    "for i in range(td_freq_map.shape[0]):\n",
    "    longitudes = theta[i]*np.pi / 180\n",
    "    latitudes = azimuths * np.pi / 180 \n",
    "    hypotenuses = td_freq_map[i] * np.cos(longitudes)\n",
    "    X = hypotenuses * np.sin(latitudes)\n",
    "    Y = hypotenuses * np.cos(latitudes)\n",
    "    Z = td_freq_map[i] * np.sin(longitudes)\n",
    "    Valid_ind =  (td_freq_map[i] != 0)&(td_freq_map[i]<collector.thred_map[i]) # None zero index\n",
    "    Xs.append(X[Valid_ind])\n",
    "    Ys.append(Y[Valid_ind])\n",
    "    Zs.append(Z[Valid_ind])\n",
    "    Labels.append(labeling_map[i][Valid_ind])\n",
    "\n",
    "    \n",
    "Xs = np.concatenate(Xs)\n",
    "Ys = np.concatenate(Ys)\n",
    "Zs = np.concatenate(Zs)\n",
    "Labels = np.concatenate(Labels).astype('int')\n",
    "Colors = []\n",
    "for i in range(len(Labels)):\n",
    "    Colors.append(cm.tab20(Labels[i]%20)[:3])\n",
    "Colors = np.array(Colors)\n",
    "pcd = op3.geometry.PointCloud()\n",
    "pcd.points = op3.utility.Vector3dVector(np.concatenate([Xs.reshape(-1,1),Ys.reshape(-1,1),Zs.reshape(-1,1)],axis = 1))\n",
    "pcd.colors = op3.utility.Vector3dVector(Colors)\n",
    "visualizer = JVisualizer()\n",
    "visualizer.add_geometry(pcd)\n",
    "visualizer.show()"
   ]
  },
  {
   "cell_type": "code",
   "execution_count": 91,
   "metadata": {},
   "outputs": [],
   "source": [
    "from sklearn.cluster import DBSCAN"
   ]
  },
  {
   "cell_type": "code",
   "execution_count": 103,
   "metadata": {},
   "outputs": [],
   "source": [
    "XYZ = np.concatenate([Xs.reshape(-1,1),Ys.reshape(-1,1),Zs.reshape(-1,1)])\n"
   ]
  },
  {
   "cell_type": "code",
   "execution_count": 104,
   "metadata": {},
   "outputs": [],
   "source": [
    "db = DBSCAN(eps= 1.2, min_samples= 10)\n",
    "Labels = db.fit_predict(XYZ)\n"
   ]
  },
  {
   "cell_type": "code",
   "execution_count": 108,
   "metadata": {},
   "outputs": [
    {
     "data": {
      "text/plain": [
       "(4623, 1)"
      ]
     },
     "execution_count": 108,
     "metadata": {},
     "output_type": "execute_result"
    }
   ],
   "source": [
    "XYZ.shape"
   ]
  },
  {
   "cell_type": "code",
   "execution_count": 105,
   "metadata": {},
   "outputs": [
    {
     "ename": "RuntimeError",
     "evalue": "",
     "output_type": "error",
     "traceback": [
      "\u001b[0;31m---------------------------------------------------------------------------\u001b[0m",
      "\u001b[0;31mRuntimeError\u001b[0m                              Traceback (most recent call last)",
      "\u001b[0;32m<ipython-input-105-59f2fb0f1d4b>\u001b[0m in \u001b[0;36m<module>\u001b[0;34m\u001b[0m\n\u001b[1;32m      4\u001b[0m \u001b[0mColors\u001b[0m \u001b[0;34m=\u001b[0m \u001b[0mnp\u001b[0m\u001b[0;34m.\u001b[0m\u001b[0marray\u001b[0m\u001b[0;34m(\u001b[0m\u001b[0mColors\u001b[0m\u001b[0;34m)\u001b[0m\u001b[0;34m\u001b[0m\u001b[0;34m\u001b[0m\u001b[0m\n\u001b[1;32m      5\u001b[0m \u001b[0mpcd\u001b[0m \u001b[0;34m=\u001b[0m \u001b[0mop3\u001b[0m\u001b[0;34m.\u001b[0m\u001b[0mgeometry\u001b[0m\u001b[0;34m.\u001b[0m\u001b[0mPointCloud\u001b[0m\u001b[0;34m(\u001b[0m\u001b[0;34m)\u001b[0m\u001b[0;34m\u001b[0m\u001b[0;34m\u001b[0m\u001b[0m\n\u001b[0;32m----> 6\u001b[0;31m \u001b[0mpcd\u001b[0m\u001b[0;34m.\u001b[0m\u001b[0mpoints\u001b[0m \u001b[0;34m=\u001b[0m \u001b[0mop3\u001b[0m\u001b[0;34m.\u001b[0m\u001b[0mutility\u001b[0m\u001b[0;34m.\u001b[0m\u001b[0mVector3dVector\u001b[0m\u001b[0;34m(\u001b[0m\u001b[0mXYZ\u001b[0m\u001b[0;34m)\u001b[0m\u001b[0;34m\u001b[0m\u001b[0;34m\u001b[0m\u001b[0m\n\u001b[0m\u001b[1;32m      7\u001b[0m \u001b[0mpcd\u001b[0m\u001b[0;34m.\u001b[0m\u001b[0mcolors\u001b[0m \u001b[0;34m=\u001b[0m \u001b[0mop3\u001b[0m\u001b[0;34m.\u001b[0m\u001b[0mutility\u001b[0m\u001b[0;34m.\u001b[0m\u001b[0mVector3dVector\u001b[0m\u001b[0;34m(\u001b[0m\u001b[0mColors\u001b[0m\u001b[0;34m)\u001b[0m\u001b[0;34m\u001b[0m\u001b[0;34m\u001b[0m\u001b[0m\n\u001b[1;32m      8\u001b[0m \u001b[0mvisualizer\u001b[0m \u001b[0;34m=\u001b[0m \u001b[0mJVisualizer\u001b[0m\u001b[0;34m(\u001b[0m\u001b[0;34m)\u001b[0m\u001b[0;34m\u001b[0m\u001b[0;34m\u001b[0m\u001b[0m\n",
      "\u001b[0;31mRuntimeError\u001b[0m: "
     ]
    }
   ],
   "source": [
    "Colors = []\n",
    "for i in range(len(Labels)):\n",
    "    Colors.append(cm.tab20(Labels[i]%20)[:3])\n",
    "Colors = np.array(Colors)\n",
    "pcd = op3.geometry.PointCloud()\n",
    "pcd.points = op3.utility.Vector3dVector(XYZ)\n",
    "pcd.colors = op3.utility.Vector3dVector(Colors)\n",
    "visualizer = JVisualizer()\n",
    "visualizer.add_geometry(pcd)\n",
    "visualizer.show()"
   ]
  },
  {
   "cell_type": "code",
   "execution_count": null,
   "metadata": {},
   "outputs": [],
   "source": []
  }
 ],
 "metadata": {
  "kernelspec": {
   "display_name": "Python 3",
   "language": "python",
   "name": "python3"
  },
  "language_info": {
   "codemirror_mode": {
    "name": "ipython",
    "version": 3
   },
   "file_extension": ".py",
   "mimetype": "text/x-python",
   "name": "python",
   "nbconvert_exporter": "python",
   "pygments_lexer": "ipython3",
   "version": "3.7.6"
  }
 },
 "nbformat": 4,
 "nbformat_minor": 2
}
