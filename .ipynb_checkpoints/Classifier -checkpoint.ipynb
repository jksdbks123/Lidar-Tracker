{
 "cells": [
  {
   "cell_type": "code",
   "execution_count": 1,
   "id": "9c68d4a9",
   "metadata": {},
   "outputs": [
    {
     "ename": "ImportError",
     "evalue": "cannot import name 'show_config' from 'numpy' (unknown location)",
     "output_type": "error",
     "traceback": [
      "\u001b[1;31m---------------------------------------------------------------------------\u001b[0m",
      "\u001b[1;31mImportError\u001b[0m                               Traceback (most recent call last)",
      "\u001b[1;32m~\\AppData\\Local\\Temp/ipykernel_32892/1079245560.py\u001b[0m in \u001b[0;36m<module>\u001b[1;34m\u001b[0m\n\u001b[1;32m----> 1\u001b[1;33m \u001b[1;32mfrom\u001b[0m \u001b[0mscipy\u001b[0m\u001b[1;33m.\u001b[0m\u001b[0mio\u001b[0m \u001b[1;32mimport\u001b[0m \u001b[0mloadmat\u001b[0m\u001b[1;33m\u001b[0m\u001b[1;33m\u001b[0m\u001b[0m\n\u001b[0m\u001b[0;32m      2\u001b[0m \u001b[1;32mimport\u001b[0m \u001b[0mos\u001b[0m\u001b[1;33m\u001b[0m\u001b[1;33m\u001b[0m\u001b[0m\n\u001b[0;32m      3\u001b[0m \u001b[1;32mimport\u001b[0m \u001b[0mnumpy\u001b[0m \u001b[1;32mas\u001b[0m \u001b[0mnp\u001b[0m\u001b[1;33m\u001b[0m\u001b[1;33m\u001b[0m\u001b[0m\n\u001b[0;32m      4\u001b[0m \u001b[1;32mimport\u001b[0m \u001b[0mpandas\u001b[0m \u001b[1;32mas\u001b[0m \u001b[0mpd\u001b[0m\u001b[1;33m\u001b[0m\u001b[1;33m\u001b[0m\u001b[0m\n\u001b[0;32m      5\u001b[0m \u001b[1;32mfrom\u001b[0m \u001b[0mimblearn\u001b[0m\u001b[1;33m.\u001b[0m\u001b[0mensemble\u001b[0m \u001b[1;32mimport\u001b[0m \u001b[0mRUSBoostClassifier\u001b[0m\u001b[1;33m\u001b[0m\u001b[1;33m\u001b[0m\u001b[0m\n",
      "\u001b[1;32m~\\.conda\\envs\\tracking\\lib\\site-packages\\scipy\\__init__.py\u001b[0m in \u001b[0;36m<module>\u001b[1;34m\u001b[0m\n\u001b[0;32m     65\u001b[0m \u001b[0m__all__\u001b[0m \u001b[1;33m=\u001b[0m \u001b[0m__dir__\u001b[0m\u001b[1;33m(\u001b[0m\u001b[1;33m)\u001b[0m\u001b[1;33m\u001b[0m\u001b[1;33m\u001b[0m\u001b[0m\n\u001b[0;32m     66\u001b[0m \u001b[1;33m\u001b[0m\u001b[0m\n\u001b[1;32m---> 67\u001b[1;33m \u001b[1;32mfrom\u001b[0m \u001b[0mnumpy\u001b[0m \u001b[1;32mimport\u001b[0m \u001b[0mshow_config\u001b[0m \u001b[1;32mas\u001b[0m \u001b[0mshow_numpy_config\u001b[0m\u001b[1;33m\u001b[0m\u001b[1;33m\u001b[0m\u001b[0m\n\u001b[0m\u001b[0;32m     68\u001b[0m \u001b[1;32mif\u001b[0m \u001b[0mshow_numpy_config\u001b[0m \u001b[1;32mis\u001b[0m \u001b[1;32mNone\u001b[0m\u001b[1;33m:\u001b[0m\u001b[1;33m\u001b[0m\u001b[1;33m\u001b[0m\u001b[0m\n\u001b[0;32m     69\u001b[0m     raise ImportError(\n",
      "\u001b[1;31mImportError\u001b[0m: cannot import name 'show_config' from 'numpy' (unknown location)"
     ]
    }
   ],
   "source": [
    "from scipy.io import loadmat\n",
    "import os\n",
    "import numpy as np\n",
    "import pandas as pd\n",
    "from imblearn.ensemble import RUSBoostClassifier\n",
    "from sklearn.model_selection import train_test_split\n",
    "from sklearn.metrics import balanced_accuracy_score\n",
    "from sklearn.metrics import confusion_matrix"
   ]
  },
  {
   "cell_type": "code",
   "execution_count": 2,
   "id": "d45d01fa",
   "metadata": {},
   "outputs": [],
   "source": [
    "Data_path = 'D:\\Classifier\\Calssification2022_JZ\\Code&Dataset\\Week13_Classification_Final\\Preprocessing'\n",
    "Data_name = os.listdir(Data_path)\n",
    "Data_name = [p for p in Data_name if 'mat' in p.split('.')]\n",
    "Data_name = [p for p in Data_name if ('Site1' not in p.split('_'))&('Site2' not in p.split('_'))]"
   ]
  },
  {
   "cell_type": "markdown",
   "id": "deff5196",
   "metadata": {},
   "source": [
    "## 0: veh, 1:ped, 2:bike, 3:wheelchair "
   ]
  },
  {
   "cell_type": "code",
   "execution_count": 42,
   "id": "fd725634",
   "metadata": {},
   "outputs": [],
   "source": [
    "Indicators = {\n",
    "    'VehData':0,\n",
    "    'PedData':1,\n",
    "    'BikeData':2,\n",
    "    'WheelchairData':3\n",
    "}\n",
    "column_names = ['TrajID','Mean_dis','Point_count','Dir','Height','Var_height','Len','Area','Label']\n",
    "Train_Data = []\n",
    "for i in range(len(Data_name)):\n",
    "    data = loadmat(os.path.join(Data_path,Data_name[i]))\n",
    "    class_name = list(data.keys())[3]\n",
    "    data = data[class_name]\n",
    "    class_ind = Indicators[class_name]\n",
    "    class_col = (np.ones(len(data))*class_ind).reshape(-1,1).astype('int')\n",
    "    try:\n",
    "        data = np.concatenate([data[:,-3].reshape(-1,1).astype(int),data[:,:7],class_col],axis = 1)\n",
    "        data = pd.DataFrame(data,columns=column_names)\n",
    "    except:\n",
    "        continue\n",
    "    Train_Data.append(data)"
   ]
  },
  {
   "cell_type": "code",
   "execution_count": 52,
   "id": "3c92be8f",
   "metadata": {},
   "outputs": [],
   "source": [
    "Valid_train_data = []\n",
    "for Trajs in Train_Data:\n",
    "    for ind,traj in Trajs.groupby('TrajID'):\n",
    "        if ind == -1:\n",
    "            continue\n",
    "        if len(traj) > 20:\n",
    "            traj.Len = traj.Len.max()\n",
    "            Valid_train_data.append(traj)"
   ]
  },
  {
   "cell_type": "code",
   "execution_count": 53,
   "id": "299e9f34",
   "metadata": {},
   "outputs": [],
   "source": [
    "Valid_train_data = pd.concat(Valid_train_data)"
   ]
  },
  {
   "cell_type": "code",
   "execution_count": 54,
   "id": "8c3bdc59",
   "metadata": {},
   "outputs": [],
   "source": [
    "X,y = np.array(Valid_train_data.iloc[:,1:-1]),np.array(Valid_train_data.iloc[:,-1])"
   ]
  },
  {
   "cell_type": "code",
   "execution_count": 55,
   "id": "86b32692",
   "metadata": {},
   "outputs": [],
   "source": [
    "X_train, X_test, y_train, y_test = train_test_split(X, y, test_size=0.3, random_state=42)"
   ]
  },
  {
   "cell_type": "code",
   "execution_count": 56,
   "id": "fb55bf3f",
   "metadata": {},
   "outputs": [
    {
     "data": {
      "text/plain": [
       "RUSBoostClassifier(n_estimators=200, random_state=0)"
      ]
     },
     "execution_count": 56,
     "metadata": {},
     "output_type": "execute_result"
    }
   ],
   "source": [
    "rusboost = RUSBoostClassifier(n_estimators=200, algorithm='SAMME.R',\n",
    "                              random_state=0)\n",
    "rusboost.fit(X_train, y_train) "
   ]
  },
  {
   "cell_type": "code",
   "execution_count": 57,
   "id": "5687b21a",
   "metadata": {},
   "outputs": [],
   "source": [
    "y_pred = rusboost.predict(X_test)"
   ]
  },
  {
   "cell_type": "code",
   "execution_count": 58,
   "id": "3f58915f",
   "metadata": {},
   "outputs": [
    {
     "data": {
      "text/plain": [
       "array([[9.98806376e-01, 0.00000000e+00, 1.15308563e-03, 4.05381667e-05],\n",
       "       [2.40905806e-04, 8.38593110e-01, 1.27439171e-01, 3.37268128e-02],\n",
       "       [8.33614808e-02, 1.24974667e-01, 6.87090455e-01, 1.04573397e-01],\n",
       "       [6.83060109e-03, 3.63387978e-01, 3.14207650e-01, 3.15573770e-01]])"
      ]
     },
     "execution_count": 58,
     "metadata": {},
     "output_type": "execute_result"
    }
   ],
   "source": [
    "confusion_matrix(y_test, y_pred,normalize = 'true')"
   ]
  },
  {
   "cell_type": "code",
   "execution_count": 59,
   "id": "c8dfaf33",
   "metadata": {},
   "outputs": [
    {
     "data": {
      "text/plain": [
       "0.7100159278566314"
      ]
     },
     "execution_count": 59,
     "metadata": {},
     "output_type": "execute_result"
    }
   ],
   "source": [
    "balanced_accuracy_score(y_test, y_pred)  "
   ]
  },
  {
   "cell_type": "code",
   "execution_count": 231,
   "id": "7bdf1e47",
   "metadata": {},
   "outputs": [],
   "source": [
    "path = 'D:\\Classifier\\Calssification2022_JZ\\Code&Dataset\\ThreeCasesinPaper\\Case 2_TrajectoryGreaterThan20Frames\\ClassificationConsideringHistoricalTrajectory\\RUSBoost'"
   ]
  },
  {
   "cell_type": "code",
   "execution_count": 232,
   "id": "72d5e354",
   "metadata": {},
   "outputs": [],
   "source": [
    "X_train = loadmat(os.path.join(path,'Train_Data.mat'))['Train_Data']\n",
    "y_train = loadmat(os.path.join(path,'Train_Target.mat'))['Train_Target']\n",
    "y_train = y_train.flatten()\n",
    "X_test = loadmat(os.path.join(path,'Test_Data.mat'))['Test_Data']\n",
    "y_test = loadmat(os.path.join(path,'Test_Target.mat'))['Test_Target']\n",
    "y_test = y_test.flatten()\n",
    "ind = [i for i in range(7) if i!= 4]\n",
    "X_train = X_train[:,ind] \n",
    "X_test = X_test[:,ind] "
   ]
  },
  {
   "cell_type": "code",
   "execution_count": 330,
   "id": "dde29524",
   "metadata": {},
   "outputs": [],
   "source": [
    "X_test[:,2] = np.zeros(len(X_test))"
   ]
  },
  {
   "cell_type": "code",
   "execution_count": 325,
   "id": "2463ff87",
   "metadata": {
    "scrolled": true
   },
   "outputs": [
    {
     "data": {
      "text/plain": [
       "RUSBoostClassifier(n_estimators=8, random_state=0)"
      ]
     },
     "execution_count": 325,
     "metadata": {},
     "output_type": "execute_result"
    }
   ],
   "source": [
    "rusboost = RUSBoostClassifier(n_estimators=8, algorithm='SAMME.R',\n",
    "                              random_state=0)\n",
    "rusboost.fit(X_train, y_train) "
   ]
  },
  {
   "cell_type": "code",
   "execution_count": 331,
   "id": "48a202df",
   "metadata": {},
   "outputs": [],
   "source": [
    "y_pred = rusboost.predict(X_test)"
   ]
  },
  {
   "cell_type": "code",
   "execution_count": 332,
   "id": "c8c07c14",
   "metadata": {},
   "outputs": [
    {
     "data": {
      "text/plain": [
       "array([[2904,    0,    1,    0],\n",
       "       [   0, 2379,  193,   83],\n",
       "       [   0,   24,  292,   70],\n",
       "       [   0,   47,   72,  588]], dtype=int64)"
      ]
     },
     "execution_count": 332,
     "metadata": {},
     "output_type": "execute_result"
    }
   ],
   "source": [
    "confusion_matrix(y_test, y_pred)"
   ]
  },
  {
   "cell_type": "code",
   "execution_count": 333,
   "id": "792ba2e9",
   "metadata": {},
   "outputs": [
    {
     "data": {
      "text/plain": [
       "0.8709652039788986"
      ]
     },
     "execution_count": 333,
     "metadata": {},
     "output_type": "execute_result"
    }
   ],
   "source": [
    "balanced_accuracy_score(y_test, y_pred)  "
   ]
  },
  {
   "cell_type": "code",
   "execution_count": null,
   "id": "298ca731",
   "metadata": {},
   "outputs": [],
   "source": []
  }
 ],
 "metadata": {
  "kernelspec": {
   "display_name": "Python 3 (ipykernel)",
   "language": "python",
   "name": "python3"
  },
  "language_info": {
   "codemirror_mode": {
    "name": "ipython",
    "version": 3
   },
   "file_extension": ".py",
   "mimetype": "text/x-python",
   "name": "python",
   "nbconvert_exporter": "python",
   "pygments_lexer": "ipython3",
   "version": "3.8.12"
  }
 },
 "nbformat": 4,
 "nbformat_minor": 5
}
