{
 "cells": [
  {
   "cell_type": "code",
   "execution_count": 3,
   "id": "ea026902",
   "metadata": {},
   "outputs": [],
   "source": [
    "from scipy.io import loadmat\n",
    "import os"
   ]
  },
  {
   "cell_type": "code",
   "execution_count": 9,
   "id": "3d25428d",
   "metadata": {},
   "outputs": [],
   "source": [
    "Data_path = 'D:\\Classifier\\Calssification2022_JZ\\Code&Dataset\\Week13_Classification_Final\\Preprocessing'\n",
    "Data_name = os.listdir(Data_path)\n",
    "Data_name = [p for p in Data_name if 'mat' in p.split('.')]"
   ]
  },
  {
   "cell_type": "markdown",
   "id": "e4b4005c",
   "metadata": {},
   "source": [
    "## 0: veh, 1:ped, 2:bike, 3:wheelchair "
   ]
  },
  {
   "cell_type": "code",
   "execution_count": null,
   "id": "6c4a2a79",
   "metadata": {},
   "outputs": [],
   "source": [
    "Indicators = \n",
    "{\n",
    "    'VehData':0,\n",
    "    'PedData':1,\n",
    "    'BikeData':2,\n",
    "    'WheelchairData':3\n",
    "}\n",
    "column_names = ['']\n",
    "Train_Data = []\n",
    "for i in range(len(Data_name)):\n",
    "    data = loadmat(os.path.join(Data_path,Data_name[i]))\n",
    "    class_ind = Indicators[data.keys()[3]]\n",
    "    "
   ]
  },
  {
   "cell_type": "code",
   "execution_count": 36,
   "id": "bdf1311a",
   "metadata": {},
   "outputs": [
    {
     "data": {
      "text/plain": [
       "dict_keys(['__header__', '__version__', '__globals__', 'PedData'])"
      ]
     },
     "execution_count": 36,
     "metadata": {},
     "output_type": "execute_result"
    }
   ],
   "source": [
    "a.keys()"
   ]
  },
  {
   "cell_type": "code",
   "execution_count": 38,
   "id": "99de35d8",
   "metadata": {},
   "outputs": [
    {
     "data": {
      "text/plain": [
       "array([130.83      , 139.50948148, 130.84777778, ..., 270.79888889,\n",
       "       271.15818182, 271.12      ])"
      ]
     },
     "execution_count": 38,
     "metadata": {},
     "output_type": "execute_result"
    }
   ],
   "source": [
    "a['PedData'][:,-1]"
   ]
  },
  {
   "cell_type": "code",
   "execution_count": 10,
   "id": "0c935a80",
   "metadata": {},
   "outputs": [
    {
     "data": {
      "text/plain": [
       "['Dataset10_BikeData.mat',\n",
       " 'Dataset10_PedData.mat',\n",
       " 'Dataset10_VehData.mat',\n",
       " 'Dataset10_WheelchairData.mat',\n",
       " 'Dataset11_BikeData.mat',\n",
       " 'Dataset11_PedData.mat',\n",
       " 'Dataset11_VehData.mat',\n",
       " 'Dataset11_WheelchairData.mat',\n",
       " 'Dataset12_BikeData.mat',\n",
       " 'Dataset12_PedData.mat',\n",
       " 'Dataset12_VehData.mat',\n",
       " 'Dataset12_WheelchairData.mat',\n",
       " 'Dataset13_BikeData.mat',\n",
       " 'Dataset13_PedData.mat',\n",
       " 'Dataset13_VehData.mat',\n",
       " 'Dataset13_WheelchairData.mat',\n",
       " 'Dataset1_BikeData.mat',\n",
       " 'Dataset1_PedData.mat',\n",
       " 'Dataset1_VehData.mat',\n",
       " 'Dataset2_BikeData.mat',\n",
       " 'Dataset2_PedData.mat',\n",
       " 'Dataset2_VehData.mat',\n",
       " 'Dataset3_BikeData.mat',\n",
       " 'Dataset3_PedData.mat',\n",
       " 'Dataset3_VehData.mat',\n",
       " 'Dataset4_BikeData.mat',\n",
       " 'Dataset4_PedData.mat',\n",
       " 'Dataset4_VehData.mat',\n",
       " 'Dataset5_BikeData.mat',\n",
       " 'Dataset5_PedData.mat',\n",
       " 'Dataset5_VehData.mat',\n",
       " 'Dataset6_BikeData.mat',\n",
       " 'Dataset6_PedData.mat',\n",
       " 'Dataset6_VehData.mat',\n",
       " 'Dataset6_WheelchairData.mat',\n",
       " 'Dataset7_BikeData.mat',\n",
       " 'Dataset7_PedData.mat',\n",
       " 'Dataset7_VehData.mat',\n",
       " 'Dataset7_WheelchairData.mat',\n",
       " 'Dataset8_BikeData.mat',\n",
       " 'Dataset8_PedData.mat',\n",
       " 'Dataset8_VehData.mat',\n",
       " 'Dataset8_WheelchairData.mat',\n",
       " 'Dataset9_BikeData.mat',\n",
       " 'Dataset9_PedData.mat',\n",
       " 'Dataset9_VehData.mat',\n",
       " 'Dataset9_WheelchairData.mat',\n",
       " 'Site1_SelectedBikeData_Traj.mat',\n",
       " 'Site1_SelectedPedData_Traj.mat',\n",
       " 'Site1_SelectedVehData_Traj.mat',\n",
       " 'Site2_SelectedBikeData_Traj.mat',\n",
       " 'Site2_SelectedPedData_Traj.mat',\n",
       " 'Site2_SelectedVehData_Traj.mat',\n",
       " 'Site2_SelectedWheelchairData_Traj.mat']"
      ]
     },
     "execution_count": 10,
     "metadata": {},
     "output_type": "execute_result"
    }
   ],
   "source": [
    "Data_name"
   ]
  },
  {
   "cell_type": "code",
   "execution_count": 6,
   "id": "eb6c83ea",
   "metadata": {},
   "outputs": [
    {
     "data": {
      "text/plain": [
       "['Dataset10_BikeData.mat',\n",
       " 'Dataset10_PedData.mat',\n",
       " 'Dataset10_VehData.mat',\n",
       " 'Dataset10_WheelchairData.mat',\n",
       " 'Dataset11_BikeData.mat',\n",
       " 'Dataset11_PedData.mat',\n",
       " 'Dataset11_VehData.mat',\n",
       " 'Dataset11_WheelchairData.mat',\n",
       " 'Dataset12_BikeData.mat',\n",
       " 'Dataset12_PedData.mat',\n",
       " 'Dataset12_VehData.mat',\n",
       " 'Dataset12_WheelchairData.mat',\n",
       " 'Dataset13_BikeData.mat',\n",
       " 'Dataset13_PedData.mat',\n",
       " 'Dataset13_VehData.mat',\n",
       " 'Dataset13_WheelchairData.mat',\n",
       " 'Dataset1_BikeData.mat',\n",
       " 'Dataset1_PedData.mat',\n",
       " 'Dataset1_VehData.mat',\n",
       " 'Dataset2_BikeData.mat',\n",
       " 'Dataset2_PedData.mat',\n",
       " 'Dataset2_VehData.mat',\n",
       " 'Dataset3_BikeData.mat',\n",
       " 'Dataset3_PedData.mat',\n",
       " 'Dataset3_VehData.mat',\n",
       " 'Dataset4_BikeData.mat',\n",
       " 'Dataset4_PedData.mat',\n",
       " 'Dataset4_VehData.mat',\n",
       " 'Dataset5_BikeData.mat',\n",
       " 'Dataset5_PedData.mat',\n",
       " 'Dataset5_VehData.mat',\n",
       " 'Dataset6_BikeData.mat',\n",
       " 'Dataset6_PedData.mat',\n",
       " 'Dataset6_VehData.mat',\n",
       " 'Dataset6_WheelchairData.mat',\n",
       " 'Dataset7_BikeData.mat',\n",
       " 'Dataset7_PedData.mat',\n",
       " 'Dataset7_VehData.mat',\n",
       " 'Dataset7_WheelchairData.mat',\n",
       " 'Dataset8_BikeData.mat',\n",
       " 'Dataset8_PedData.mat',\n",
       " 'Dataset8_VehData.mat',\n",
       " 'Dataset8_WheelchairData.mat',\n",
       " 'Dataset9_BikeData.mat',\n",
       " 'Dataset9_PedData.mat',\n",
       " 'Dataset9_VehData.mat',\n",
       " 'Dataset9_WheelchairData.mat',\n",
       " 'Preprocessing_Site1.m',\n",
       " 'Preprocessing_Site2.m',\n",
       " 'Site1_SelectedBikeData_Traj.mat',\n",
       " 'Site1_SelectedPedData_Traj.mat',\n",
       " 'Site1_SelectedVehData_Traj.mat',\n",
       " 'Site2_SelectedBikeData_Traj.mat',\n",
       " 'Site2_SelectedPedData_Traj.mat',\n",
       " 'Site2_SelectedVehData_Traj.mat',\n",
       " 'Site2_SelectedWheelchairData_Traj.mat']"
      ]
     },
     "execution_count": 6,
     "metadata": {},
     "output_type": "execute_result"
    }
   ],
   "source": [
    "Data_path"
   ]
  },
  {
   "cell_type": "code",
   "execution_count": null,
   "id": "455a4eed",
   "metadata": {},
   "outputs": [],
   "source": [
    "loadmat()"
   ]
  }
 ],
 "metadata": {
  "kernelspec": {
   "display_name": "Python 3 (ipykernel)",
   "language": "python",
   "name": "python3"
  },
  "language_info": {
   "codemirror_mode": {
    "name": "ipython",
    "version": 3
   },
   "file_extension": ".py",
   "mimetype": "text/x-python",
   "name": "python",
   "nbconvert_exporter": "python",
   "pygments_lexer": "ipython3",
   "version": "3.8.12"
  }
 },
 "nbformat": 4,
 "nbformat_minor": 5
}
