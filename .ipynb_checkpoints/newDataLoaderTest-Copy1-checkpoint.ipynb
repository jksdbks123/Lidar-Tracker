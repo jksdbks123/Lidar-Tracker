{
 "cells": [
  {
   "cell_type": "code",
   "execution_count": 646,
   "metadata": {},
   "outputs": [],
   "source": [
    "from tqdm import tqdm_notebook\n",
    "import datetime\n",
    "import dpkt\n",
    "import numpy as np\n",
    "import matplotlib.pyplot as plt\n",
    "import os\n",
    "import open3d as op3 \n",
    "import seaborn as sns\n",
    "import pandas as pd\n"
   ]
  },
  {
   "cell_type": "code",
   "execution_count": 237,
   "metadata": {},
   "outputs": [],
   "source": [
    "class LidarLoader():\n",
    "    def __init__(self,file_path): \n",
    "        self.Data_order = np.array([[-25,1.4],[-1,-4.2],[-1.667,1.4],[-15.639,-1.4],\n",
    "                                    [-11.31,1.4],[0,-1.4],[-0.667,4.2],[-8.843,-1.4],\n",
    "                                    [-7.254,1.4],[0.333,-4.2],[-0.333,1.4],[-6.148,-1.4],\n",
    "                                    [-5.333,4.2],[1.333,-1.4],[0.667,4.2],[-4,-1.4],\n",
    "                                    [-4.667,1.4],[1.667,-4.2],[1,1.4],[-3.667,-4.2],\n",
    "                                    [-3.333,4.2],[3.333,-1.4],[2.333,1.4],[-2.667,-1.4],\n",
    "                                    [-3,1.4],[7,-1.4],[4.667,1.4],[-2.333,-4.2],\n",
    "                                    [-2,4.2],[15,-1.4],[10.333,1.4],[-1.333,-1.4]\n",
    "                                    ])\n",
    "        self.timing_offset = self.calc_timing_offsets()\n",
    "        self.omega = self.Data_order[:,0]\n",
    "        self.lidar_reader = 0\n",
    "        self.file_path = file_path\n",
    "        self.load_reader()\n",
    "        \n",
    "    def load_reader(self):\n",
    "        try:\n",
    "            fpcap = open(self.file_path, 'rb')\n",
    "            self.lidar_reader = dpkt.pcap.Reader(fpcap)\n",
    "        except Exception as ex:\n",
    "            print(str(ex))\n",
    "\n",
    "    def read_uint32(self,data, idx):\n",
    "        return data[idx] + data[idx+1]*256 + data[idx+2]*256*256 + data[idx+3]*256*256*256\n",
    "    def read_firing_data(self,data):\n",
    "        block_id = data[0] + data[1]*256\n",
    "        azimuth = (data[2] + data[3] * 256) / 100 # degree\n",
    "        firings = data[4:].reshape(32, 3) \n",
    "        distances = firings[:, 0] + firings[:, 1] * 256 # mm \n",
    "        intensities = firings[:, 2] # 0-255\n",
    "        return distances, intensities, azimuth #(1,0)\n",
    "        \n",
    "    def calc_timing_offsets(self):\n",
    "        timing_offsets = np.zeros((32,12))  # Init matrix\n",
    "        # constants\n",
    "        full_firing_cycle = 55.296  # μs\n",
    "        single_firing = 2.304  # μs\n",
    "        # compute timing offsets\n",
    "        for x in range(12):\n",
    "            for y in range(32):\n",
    "                dataBlockIndex = (x * 2) + int((y / 16))\n",
    "                dataPointIndex = y % 16\n",
    "                timing_offsets[y][x] = (full_firing_cycle * dataBlockIndex) +(single_firing * dataPointIndex)\n",
    "        return np.array(timing_offsets).T\n",
    "\n",
    "    def calc_precise_azimuth(self,azimuth):\n",
    "\n",
    "        # block_number: how many blocks are required to be processed \n",
    "\n",
    "        org_azi = azimuth.copy()\n",
    "        precision_azimuth = []\n",
    "        # iterate through each block\n",
    "        for n in range(len(org_azi)): # n=0..11\n",
    "            azimuth = org_azi.copy()\n",
    "            try:\n",
    "                # First, adjust for an Azimuth rollover from 359.99° to 0°\n",
    "                if azimuth[n + 1] < azimuth[n]:\n",
    "                    azimuth[n + 1] += 360\n",
    "\n",
    "                # Determine the azimuth Gap between data blocks\n",
    "                azimuth_gap = azimuth[n + 1] - azimuth[n]\n",
    "            except:\n",
    "                if azimuth[n] < azimuth[n-1]:\n",
    "                    azimuth[n] += 360\n",
    "                azimuth_gap = azimuth[n] - azimuth[n-1]\n",
    "\n",
    "            factor = azimuth_gap / 32.\n",
    "            k = np.arange(32)\n",
    "            precise_azimuth = azimuth[n] + factor * k\n",
    "            precision_azimuth.append(precise_azimuth)\n",
    "\n",
    "        precision_azimuth = np.array(precision_azimuth)\n",
    "        return precision_azimuth # 12 * 32\n",
    "\n",
    "    def calc_cart_coord(self,distances, azimuth):# distance: 12*32 azimuth: 12*32\n",
    "        # convert deg to rad\n",
    "        longitudes = self.omega * np.pi / 180.\n",
    "        latitudes = azimuth * np.pi / 180.\n",
    "\n",
    "        hypotenuses = distances * np.cos(longitudes)\n",
    "\n",
    "        X = hypotenuses * np.sin(latitudes)\n",
    "        Y = hypotenuses * np.cos(latitudes)\n",
    "        Z = distances * np.sin(longitudes)\n",
    "        return X, Y, Z\n",
    "    \n",
    "\n",
    "    def parse_one_packet(self,data):\n",
    "        data = np.frombuffer(data, dtype=np.uint8).astype(np.uint32)\n",
    "        blocks = data[0:1200].reshape(12, 100)\n",
    "        # Timestamp = self.read_uint32(data[1200:1204],0)\n",
    "        distances = []#12*32\n",
    "        intensities = []#12*32\n",
    "        azimuth_per_block = [] #(12,0)\n",
    "        # iteratie through each block\n",
    "        for i, blk in enumerate(blocks):\n",
    "            dists, intens, angles = self.read_firing_data(blk)\n",
    "            distances.append(dists) #12*32\n",
    "            intensities.append(intens) #12*32\n",
    "            azimuth_per_block.append(angles)\n",
    "\n",
    "        azimuth_per_block = np.array(azimuth_per_block)\n",
    "        distances = np.array(distances)*4/1000 # 12*32\n",
    "        intensities = np.array(intensities) # 12*32\n",
    "\n",
    "        return distances,intensities, azimuth_per_block # 12*0\n",
    " \n",
    "    \n",
    "    def gen_td_map(self,frame):\n",
    "        \n",
    "        azimuth_ind = np.around(frame[:,0]/0.2).astype('int')\n",
    "        azimuth_ind[azimuth_ind == 1800] = 0\n",
    "        theta_ind = frame[:,-1].astype('int')\n",
    "        td_freq_map = np.zeros((1800,32))\n",
    "        td_freq_map[azimuth_ind,theta_ind] = frame[:,1]\n",
    "        return td_freq_map\n",
    "    \n",
    "    def cal_angle_diff(self,advance_angle,lagging_angle):\n",
    "        if advance_angle < lagging_angle:\n",
    "            return advance_angle + 360 - lagging_angle\n",
    "        else:\n",
    "            return advance_angle - lagging_angle\n",
    "    \n",
    "    def frame_gen(self):\n",
    "        initial_azimuth = -1\n",
    "        cur_azimuth = -1\n",
    "        culmulative_azimuth = 0\n",
    "        block_num = 0\n",
    "        \n",
    "        while True:\n",
    "            frame = []\n",
    "            for ts,buf in self.lidar_reader:\n",
    "                \n",
    "                eth = dpkt.ethernet.Ethernet(buf)\n",
    "                data = eth.data.data.data\n",
    "                packet_status = eth.data.data.sport\n",
    "                if packet_status == 2368:\n",
    "                    if len(data)<1206:\n",
    "                        continue\n",
    "                    distances,intensities,azimuth_per_block = self.parse_one_packet(data)\n",
    "                    \n",
    "                    azimuth = self.calc_precise_azimuth(azimuth_per_block) # 12*32\n",
    "                    azimuth += self.Data_order[:,1]\n",
    "                    if initial_azimuth == -1: #initialization\n",
    "                        initial_azimuth = azimuth_per_block[0]\n",
    "                        cur_azimuth = azimuth_per_block[-1]\n",
    "                        frame.append(np.concatenate([azimuth.flatten().reshape(-1,1),\n",
    "                                                     distances.flatten().reshape(-1,1),\n",
    "                                                     intensities.flatten().reshape(-1,1)],axis = 1))\n",
    "                        block_num += 12\n",
    "                        culmulative_azimuth += self.cal_angle_diff(azimuth_per_block[-1],azimuth_per_block[0])\n",
    "                    else:# non-initialization\n",
    "                        diff = self.cal_angle_diff(azimuth_per_block[-1],cur_azimuth)\n",
    "                        temp_culmulative_azimuth = culmulative_azimuth + diff \n",
    "                        \n",
    "                        if temp_culmulative_azimuth > 360: \n",
    "                            \n",
    "                            frame_end_index = 0\n",
    "                            for i in range(len(azimuth_per_block)):\n",
    "                                diff = self.cal_angle_diff(azimuth_per_block[i],cur_azimuth)                                \n",
    "                                temp_culmulative_azimuth = culmulative_azimuth + diff\n",
    "                                if temp_culmulative_azimuth > 360:\n",
    "                                    frame_end_index = i \n",
    "                                    break \n",
    "                                else:\n",
    "                                    block_num += 1\n",
    "                                    cur_azimuth = azimuth_per_block[i]\n",
    "                                    culmulative_azimuth = temp_culmulative_azimuth\n",
    "                                    \n",
    "                            frame.append(np.concatenate([azimuth[:frame_end_index].flatten().reshape(-1,1),\n",
    "                                                         distances[:frame_end_index].flatten().reshape(-1,1),\n",
    "                                                         intensities[:frame_end_index].flatten().reshape(-1,1)],axis = 1))\n",
    "                            temp = np.concatenate(frame)\n",
    "                            theta_ind = np.tile(np.arange(32),block_num).reshape(-1,1)\n",
    "                            temp[:,0][temp[:,0]>360] -= 360\n",
    "                            temp[:,0][temp[:,0]<0] += 360\n",
    "                            temp = np.concatenate([temp,theta_ind],axis = 1)\n",
    "                            frame = []\n",
    "                            block_num = 12 - frame_end_index  \n",
    "                            cur_azimuth = azimuth_per_block[-1]\n",
    "                            diff = self.cal_angle_diff(azimuth_per_block[-1],azimuth_per_block[frame_end_index])                    \n",
    "                            culmulative_azimuth = diff\n",
    "                            frame.append(np.concatenate([azimuth[frame_end_index:].flatten().reshape(-1,1),\n",
    "                                                         distances[frame_end_index:].flatten().reshape(-1,1),\n",
    "                                                         intensities[frame_end_index:].flatten().reshape(-1,1)],axis = 1))\n",
    "                            td_freq_map = self.gen_td_map(temp)\n",
    "                            \n",
    "                            yield td_freq_map #32*1800\n",
    "                            \n",
    "                        else:\n",
    "                            culmulative_azimuth = temp_culmulative_azimuth\n",
    "                            frame.append(np.concatenate([azimuth.flatten().reshape(-1,1),\n",
    "                                                         distances.flatten().reshape(-1,1),\n",
    "                                                         intensities.flatten().reshape(-1,1)],axis = 1))\n",
    "                            cur_azimuth = azimuth_per_block[-1]\n",
    "                            block_num += 12\n",
    "                        "
   ]
  },
  {
   "cell_type": "code",
   "execution_count": 217,
   "metadata": {},
   "outputs": [],
   "source": [
    "theta = np.array([[-25,1.4],[-1,-4.2],[-1.667,1.4],[-15.639,-1.4],\n",
    "            [-11.31,1.4],[0,-1.4],[-0.667,4.2],[-8.843,-1.4],\n",
    "            [-7.254,1.4],[0.333,-4.2],[-0.333,1.4],[-6.148,-1.4],\n",
    "            [-5.333,4.2],[1.333,-1.4],[0.667,4.2],[-4,-1.4],\n",
    "            [-4.667,1.4],[1.667,-4.2],[1,1.4],[-3.667,-4.2],\n",
    "            [-3.333,4.2],[3.333,-1.4],[2.333,1.4],[-2.667,-1.4],\n",
    "            [-3,1.4],[7,-1.4],[4.667,1.4],[-2.333,-4.2],\n",
    "            [-2,4.2],[15,-1.4],[10.333,1.4],[-1.333,-1.4]\n",
    "            ])[:,0]\n",
    "\n",
    "def show_frame(td_freq_map):\n",
    "    Xs = []\n",
    "    Ys = []\n",
    "    Zs = []\n",
    "    Labels = []\n",
    "    for i in range(td_freq_map.shape[0]):\n",
    "        longitudes = theta[np.arange(32).astype('int')]*np.pi / 180\n",
    "        latitudes = i*0.2* np.pi / 180 \n",
    "        hypotenuses = td_freq_map[i] * np.cos(longitudes)\n",
    "        X = hypotenuses * np.sin(latitudes)\n",
    "        Y = hypotenuses * np.cos(latitudes)\n",
    "        Z = td_freq_map[i] * np.sin(longitudes)\n",
    "        # Label = tattoo_table[i].astype('int')\n",
    "        Xs.append(X)\n",
    "        Ys.append(Y)\n",
    "        Zs.append(Z)\n",
    "        # Labels.append(Label)\n",
    "    Xs = np.concatenate(Xs)\n",
    "    Ys = np.concatenate(Ys)\n",
    "    Zs = np.concatenate(Zs)\n",
    "    # Labels = np.concatenate(Labels)\n",
    "    pcd = op3.geometry.PointCloud()\n",
    "    pcd.points = op3.utility.Vector3dVector(np.concatenate([Xs.reshape(-1,1),Ys.reshape(-1,1),Zs.reshape(-1,1)],axis = 1))\n",
    "    # pcd.colors = op3.utility.Vector3dVector(color_labels/255)\n",
    "    op3.visualization.draw_geometries([pcd])\n",
    "                "
   ]
  },
  {
   "cell_type": "code",
   "execution_count": 238,
   "metadata": {},
   "outputs": [
    {
     "data": {
      "text/plain": [
       "'/Users/czhui960/Documents/Lidar/Lidar_Code'"
      ]
     },
     "execution_count": 238,
     "metadata": {},
     "output_type": "execute_result"
    }
   ],
   "source": [
    "os.getcwd()"
   ]
  },
  {
   "cell_type": "code",
   "execution_count": 219,
   "metadata": {},
   "outputs": [
    {
     "name": "stderr",
     "output_type": "stream",
     "text": [
      "/Users/czhui960/opt/anaconda3/envs/tf2/lib/python3.7/site-packages/ipykernel_launcher.py:5: TqdmDeprecationWarning: This function will be removed in tqdm==5.0.0\n",
      "Please use `tqdm.notebook.tqdm` instead of `tqdm.tqdm_notebook`\n",
      "  \"\"\"\n"
     ]
    },
    {
     "data": {
      "application/vnd.jupyter.widget-view+json": {
       "model_id": "cc0451281de14ac8a5847485cceb2b50",
       "version_major": 2,
       "version_minor": 0
      },
      "text/plain": [
       "HBox(children=(FloatProgress(value=0.0, max=10.0), HTML(value='')))"
      ]
     },
     "metadata": {},
     "output_type": "display_data"
    },
    {
     "name": "stdout",
     "output_type": "stream",
     "text": [
      "\n"
     ]
    }
   ],
   "source": [
    "file_path  = '../to ZHIHUI/USA pkwy/2019-12-18-10-0-0.pcap' #normal \n",
    "lidar_reader = LidarLoader(file_path)\n",
    "frame_gen = lidar_reader.frame_gen()\n",
    "frames = [] \n",
    "for i in tqdm_notebook(range(10)):\n",
    "    one_frame = next(frame_gen)\n",
    "    frames.append(one_frame)"
   ]
  },
  {
   "cell_type": "code",
   "execution_count": 520,
   "metadata": {},
   "outputs": [
    {
     "name": "stderr",
     "output_type": "stream",
     "text": [
      "/Users/czhui960/opt/anaconda3/envs/tf2/lib/python3.7/site-packages/ipykernel_launcher.py:6: TqdmDeprecationWarning: This function will be removed in tqdm==5.0.0\n",
      "Please use `tqdm.notebook.tqdm` instead of `tqdm.tqdm_notebook`\n",
      "  \n"
     ]
    },
    {
     "data": {
      "application/vnd.jupyter.widget-view+json": {
       "model_id": "af385b48d1574172a8229c6e17969a75",
       "version_major": 2,
       "version_minor": 0
      },
      "text/plain": [
       "HBox(children=(FloatProgress(value=0.0, max=10000.0), HTML(value='')))"
      ]
     },
     "metadata": {},
     "output_type": "display_data"
    },
    {
     "name": "stdout",
     "output_type": "stream",
     "text": [
      "\n"
     ]
    }
   ],
   "source": [
    "file_path  = '../to ZHIHUI/USA pkwy/2019-12-18-10-0-0.pcap' #normal \n",
    "lidar_reader = LidarLoader(file_path)\n",
    "frame_gen = lidar_reader.frame_gen()\n",
    "td_maps = [] \n",
    "# frame_indexs = \n",
    "for i in tqdm_notebook(range(10000)):\n",
    "    one_frame = next(frame_gen)\n",
    "    td_maps.append(one_frame)\n",
    "aggregated_maps = np.array(td_maps)"
   ]
  },
  {
   "cell_type": "code",
   "execution_count": 525,
   "metadata": {},
   "outputs": [
    {
     "data": {
      "text/plain": [
       "array([ 0,  3,  4,  7,  8, 11, 12, 16, 15, 19, 20, 24, 23, 27, 28,  2, 31,\n",
       "        1,  6, 10,  5,  9, 14, 18, 13, 17, 22, 21, 26, 25, 30, 29])"
      ]
     },
     "execution_count": 525,
     "metadata": {},
     "output_type": "execute_result"
    }
   ],
   "source": [
    "theta.argsort()"
   ]
  },
  {
   "cell_type": "code",
   "execution_count": 526,
   "metadata": {},
   "outputs": [],
   "source": [
    "aggregated_maps_sorted = aggregated_maps[:,:,theta.argsort()]"
   ]
  },
  {
   "cell_type": "code",
   "execution_count": 834,
   "metadata": {
    "scrolled": true
   },
   "outputs": [
    {
     "name": "stdout",
     "output_type": "stream",
     "text": [
      "0.7410926365795725\n",
      "1\n"
     ]
    }
   ],
   "source": [
    "test1 = aggregated_maps[:,1701,2].copy()\n",
    "test1[test1==0] = np.median(test1)\n",
    "test2 = aggregated_maps[:,1700,2].copy()\n",
    "test2[test2==0] = np.median(test2)\n",
    "a = (np.abs(np.diff(test1))>1)*1\n",
    "b = (np.abs(np.diff(test2))>1)*1\n",
    "print(np.convolve(a,b[::-1]).max()/a.sum())\n",
    "print(np.abs(np.convolve(a,b[::-1]).argmax() - len(a)))"
   ]
  },
  {
   "cell_type": "code",
   "execution_count": 595,
   "metadata": {},
   "outputs": [
    {
     "data": {
      "image/png": "[encoded data removed]",
      "text/plain": [
       "<Figure size 720x360 with 1 Axes>"
      ]
     },
     "metadata": {
      "needs_background": "light"
     },
     "output_type": "display_data"
    }
   ],
   "source": [
    "plt.figure(figsize=(10,5))\n",
    "plt.plot(test1,label = 'a')\n",
    "plt.plot(test2,label = 'b',alpha = 0.4)\n",
    "plt.legend()\n",
    "plt.show()"
   ]
  },
  {
   "cell_type": "code",
   "execution_count": 167,
   "metadata": {},
   "outputs": [],
   "source": [
    "aggregated_maps = np.array(td_maps)"
   ]
  },
  {
   "cell_type": "code",
   "execution_count": null,
   "metadata": {},
   "outputs": [],
   "source": [
    "aggregated_maps[:,np.round((35/100)/0.2).astype('int'),31]"
   ]
  },
  {
   "cell_type": "code",
   "execution_count": 194,
   "metadata": {},
   "outputs": [
    {
     "data": {
      "image/png": "[encoded data removed]",
      "text/plain": [
       "<Figure size 432x288 with 1 Axes>"
      ]
     },
     "metadata": {
      "needs_background": "light"
     },
     "output_type": "display_data"
    }
   ],
   "source": [
    "plt.plot(aggregated_maps[:,np.round((35/100)/0.2).astype('int'),31],label = 'a')\n",
    "# plt.plot(aggregated_maps[:,np.round((35470/100)/0.2).astype('int'),28],label = 'b')\n",
    "# plt.plot(aggregated_maps[:,np.round((35786/100)/0.2).astype('int'),24],label = 'c')\n",
    "plt.show()"
   ]
  },
  {
   "cell_type": "code",
   "execution_count": 597,
   "metadata": {},
   "outputs": [],
   "source": [
    "show_frame(aggregated_maps[2])"
   ]
  },
  {
   "cell_type": "code",
   "execution_count": null,
   "metadata": {},
   "outputs": [],
   "source": [
    "tattoo_map = np.zeros"
   ]
  },
  {
   "cell_type": "code",
   "execution_count": 804,
   "metadata": {},
   "outputs": [],
   "source": [
    "def find_undetected_neighbors(pixel_coord,tattoo_map):\n",
    "    neighbors = []\n",
    "    temp = pixel_coord.copy()\n",
    "    if temp[0] != (tattoo_map.shape[0] - 1) and temp[1] != (tattoo_map.shape[1] -1):\n",
    "        down_right = np.array([[temp[0]+1,temp[1] + 1]])\n",
    "        neighbors.append(down_right)\n",
    "    if temp[0] != (tattoo_map.shape[0] - 1) and temp[1] != 0:\n",
    "        down_left = np.array([[temp[0]+1,temp[1]-1]]) \n",
    "        neighbors.append(down_left)\n",
    "    if temp[0] != (tattoo_map.shape[0] - 1):\n",
    "        down = np.array([[temp[0]+1,temp[1]]])\n",
    "        neighbors.append(down)\n",
    "    if temp[1] != 0:\n",
    "        left = np.array([[temp[0], temp[1] - 1]])\n",
    "        neighbors.append(left)\n",
    "    if temp[1] != (tattoo_map.shape[1] - 1):\n",
    "        right = np.array([[temp[0],temp[1] + 1]])\n",
    "        neighbors.append(right)\n",
    "    if temp[0] != 0 and temp[1] != 0:\n",
    "        upper_left = np.array([[temp[0] - 1,temp[1] - 1]])\n",
    "        neighbors.append(upper_left)\n",
    "    if temp[0] != 0:\n",
    "        upper = np.array([[temp[0] - 1, temp[1]]])\n",
    "        neighbors.append(upper)\n",
    "    if temp[0] != 0 and temp[1] != (tattoo_map.shape[1] - 1):\n",
    "        upper_right = np.array([[temp[0] - 1, temp[1] + 1]])\n",
    "        neighbors.append(upper_right)\n",
    "    \n",
    "    neighbors = np.concatenate(neighbors)\n",
    "    available_point_index = []\n",
    "    for i in range(len(neighbors)):\n",
    "        if tattoo_map[neighbors[i][0],neighbors[i][1]] != 1:\n",
    "            available_point_index.append(i)\n",
    "    return neighbors[available_point_index]"
   ]
  },
  {
   "cell_type": "code",
   "execution_count": 838,
   "metadata": {},
   "outputs": [],
   "source": [
    "def get_initial_tattoo_table(aggregated_maps_sorted):\n",
    "    searching_tatoo_table = np.zeros((aggregated_maps_sorted.shape[1],aggregated_maps_sorted.shape[2]))\n",
    "    for i in tqdm(range(aggregated_maps_sorted.shape[1])):\n",
    "        for j in range(aggregated_maps_sorted.shape[2]):\n",
    "            t_s = aggregated_maps_sorted[:,i,j].copy()\n",
    "            t_s[t_s==0] = np.median(t_s)\n",
    "            large_diffs_num = (np.abs(np.diff(t_s))>1).sum()\n",
    "            if large_diffs_num == 0: \n",
    "                # 1 refers to the beam is background, no need to search here\n",
    "                searching_tatoo_table[i,j] = 1\n",
    "    return searching_tatoo_table"
   ]
  },
  {
   "cell_type": "code",
   "execution_count": 806,
   "metadata": {},
   "outputs": [],
   "source": [
    "def get_initial_seed(initial_tatto_table):\n",
    "    row,col = np.where(initial_tatto_table != 1)\n",
    "    random_ind = np.random.choice(np.arange(len(row)))\n",
    "    initial_seed_position = np.array([row[random_ind],col[random_ind]])\n",
    "    return initial_seed_position"
   ]
  },
  {
   "cell_type": "code",
   "execution_count": 807,
   "metadata": {},
   "outputs": [],
   "source": [
    "def check_iteration_stop(searching_tatoo_table):\n",
    "    # return true indicates that the searching should stop\n",
    "    return (searching_tatoo_table == 1).all()"
   ]
  },
  {
   "cell_type": "code",
   "execution_count": 891,
   "metadata": {},
   "outputs": [],
   "source": [
    "def homogeneity_checking(point_a,point_b,aggrated_map):\n",
    "    ts_a = aggregated_maps[:,point_a[0],point_a[1]].copy()\n",
    "    ts_a[ts_a==0] = np.median(ts_a)\n",
    "    ts_b = aggregated_maps[:,point_b[0],point_b[1]].copy()\n",
    "    ts_b[ts_b==0] = np.median(ts_b)\n",
    "    a_diff_ts = (np.abs(np.diff(ts_a))>1)*1 ###\n",
    "    b_diff_ts = (np.abs(np.diff(ts_b))>1)*1\n",
    "    max_matching = np.convolve(a_diff_ts,b_diff_ts[::-1]).max()/a_diff_ts.sum() \n",
    "    # the maximum matching degree \n",
    "    matching_shift = np.abs(np.convolve(a_diff_ts,b_diff_ts[::-1]).argmax() - len(a_diff_ts)) \n",
    "    # the ts shift of maximum matching degree\n",
    "    if (max_matching > 0.3) & (matching_shift < 5): ###threshold\n",
    "        return True \n",
    "    else: \n",
    "        return False \n",
    "    \n",
    "    "
   ]
  },
  {
   "cell_type": "code",
   "execution_count": 892,
   "metadata": {},
   "outputs": [],
   "source": [
    "from tqdm.notebook import tqdm"
   ]
  },
  {
   "cell_type": "code",
   "execution_count": null,
   "metadata": {},
   "outputs": [
    {
     "data": {
      "application/vnd.jupyter.widget-view+json": {
       "model_id": "3599deba33234067b438f4bb2defa8fc",
       "version_major": 2,
       "version_minor": 0
      },
      "text/plain": [
       "HBox(children=(FloatProgress(value=0.0, max=1800.0), HTML(value='')))"
      ]
     },
     "metadata": {},
     "output_type": "display_data"
    },
    {
     "name": "stdout",
     "output_type": "stream",
     "text": [
      "\n"
     ]
    },
    {
     "data": {
      "application/vnd.jupyter.widget-view+json": {
       "model_id": "0b556ed7ee9a4d9cbfba95fe657f7175",
       "version_major": 2,
       "version_minor": 0
      },
      "text/plain": [
       "HBox(children=(FloatProgress(value=0.0, max=57600.0), HTML(value='')))"
      ]
     },
     "metadata": {},
     "output_type": "display_data"
    },
    {
     "name": "stderr",
     "output_type": "stream",
     "text": [
      "/Users/czhui960/opt/anaconda3/envs/tf2/lib/python3.7/site-packages/ipykernel_launcher.py:8: RuntimeWarning: invalid value encountered in long_scalars\n",
      "  \n"
     ]
    }
   ],
   "source": [
    "searching_tatoo_table = get_initial_tattoo_table(aggregated_maps_sorted)\n",
    "with tqdm(total = searching_tatoo_table.shape[0]*searching_tatoo_table.shape[1]) as pbar:\n",
    "    pbar.update((searching_tatoo_table == 1).sum())\n",
    "    # 0: unsearched points, 1: banned points\n",
    "    label_mask = -np.ones((1800,32)).astype('int')\n",
    "    current_region_index = 0\n",
    "    while True:\n",
    "        if check_iteration_stop(searching_tatoo_table):\n",
    "            break\n",
    "        initial_seed_position = get_initial_seed(searching_tatoo_table)\n",
    "        current_seeds = [initial_seed_position]\n",
    "        searching_tatoo_table[current_seeds[0][0],current_seeds[0][1]] = 1\n",
    "        pbar.update(1)\n",
    "        label_mask[current_seeds[0][0],current_seeds[0][1]] = current_region_index\n",
    "        available_neighbors = find_undetected_neighbors(current_seeds[0],searching_tatoo_table)\n",
    "        stack_of_current_region = [available_neighbors]\n",
    "        # searching current region\n",
    "        while True:\n",
    "            if len(current_seeds) == 0:\n",
    "                current_region_index += 1\n",
    "                break\n",
    "            current_seeds_ = []\n",
    "            stack_of_current_region_ = []\n",
    "            for i in range(len(current_seeds)):\n",
    "                for j in range(len(stack_of_current_region[i])):\n",
    "                    tatto_ind = searching_tatoo_table[stack_of_current_region[i][j][0],stack_of_current_region[i][j][1]]\n",
    "                    if homogeneity_checking(current_seeds[i],stack_of_current_region[i][j],aggregated_maps_sorted)&(tatto_ind == 0):\n",
    "                        searching_tatoo_table[stack_of_current_region[i][j][0],stack_of_current_region[i][j][1]] = 1\n",
    "                        pbar.update(1)\n",
    "                        label_mask[stack_of_current_region[i][j][0],stack_of_current_region[i][j][1]] = current_region_index\n",
    "                        available_neighbors = find_undetected_neighbors(stack_of_current_region[i][j],searching_tatoo_table)\n",
    "                        if len(available_neighbors) != 0:    \n",
    "                            current_seeds_.append(stack_of_current_region[i][j])\n",
    "                            stack_of_current_region_.append(available_neighbors)\n",
    "                    else:\n",
    "                        searching_tatoo_table[stack_of_current_region[i][j][0],stack_of_current_region[i][j][1]] = 1\n",
    "                        pbar.update(1)\n",
    "            current_seeds =  current_seeds_\n",
    "            stack_of_current_region = stack_of_current_region_\n"
   ]
  },
  {
   "cell_type": "code",
   "execution_count": 860,
   "metadata": {},
   "outputs": [],
   "source": [
    "processed_label_mask = label_mask.copy()\n",
    "unique_labels = np.unique(label_mask)\n",
    "for i in range(1,len(unique_labels)):\n",
    "    if (label_mask == i).sum() == 1:\n",
    "        row,col = np.where(label_mask == i)\n",
    "        processed_label_mask[row,col] = int(-1)"
   ]
  },
  {
   "cell_type": "code",
   "execution_count": 840,
   "metadata": {},
   "outputs": [
    {
     "data": {
      "text/plain": [
       "<matplotlib.axes._subplots.AxesSubplot at 0x7fc05f821e50>"
      ]
     },
     "execution_count": 840,
     "metadata": {},
     "output_type": "execute_result"
    },
    {
     "data": {
      "image/png": "[encoded data removed]",
      "text/plain": [
       "<Figure size 432x288 with 2 Axes>"
      ]
     },
     "metadata": {
      "needs_background": "light"
     },
     "output_type": "display_data"
    }
   ],
   "source": [
    "sns.heatmap(aggregated_maps_sorted[0])"
   ]
  },
  {
   "cell_type": "code",
   "execution_count": 861,
   "metadata": {},
   "outputs": [
    {
     "data": {
      "text/plain": [
       "<matplotlib.axes._subplots.AxesSubplot at 0x7fc071452690>"
      ]
     },
     "execution_count": 861,
     "metadata": {},
     "output_type": "execute_result"
    },
    {
     "data": {
      "image/png": "[encoded data removed]",
      "text/plain": [
       "<Figure size 432x288 with 2 Axes>"
      ]
     },
     "metadata": {
      "needs_background": "light"
     },
     "output_type": "display_data"
    }
   ],
   "source": [
    "sns.heatmap(processed_label_mask)"
   ]
  },
  {
   "cell_type": "code",
   "execution_count": 873,
   "metadata": {},
   "outputs": [],
   "source": [
    "median_value_aggregated_map_sorted = np.median(aggregated_maps_sorted,axis = 0)"
   ]
  },
  {
   "cell_type": "code",
   "execution_count": 874,
   "metadata": {},
   "outputs": [],
   "source": [
    "focus_map = (processed_label_mask != -1)"
   ]
  },
  {
   "cell_type": "code",
   "execution_count": 880,
   "metadata": {},
   "outputs": [],
   "source": [
    "rbg_red = np.array([204,47,107]) # red\n",
    "rbg_green = np.array([27,168,34]) # green"
   ]
  },
  {
   "cell_type": "code",
   "execution_count": 888,
   "metadata": {},
   "outputs": [],
   "source": [
    "def show_filtered_frame(td_freq_map,focus_map,median_value_aggregated_map_sorted):\n",
    "    Xs = []\n",
    "    Ys = []\n",
    "    Zs = []\n",
    "    Labels = []\n",
    "    for i in range(td_freq_map.shape[0]):\n",
    "        longitudes = np.sort(theta)*np.pi / 180\n",
    "        latitudes = i*0.2* np.pi / 180 \n",
    "        hypotenuses = td_freq_map[i] * np.cos(longitudes)\n",
    "        X = hypotenuses * np.sin(latitudes)\n",
    "        Y = hypotenuses * np.cos(latitudes)\n",
    "        Z = td_freq_map[i] * np.sin(longitudes)\n",
    "        # 0 refers to background\n",
    "        Label = (focus_map[i] & (np.abs(median_value_aggregated_map_sorted[i] - td_freq_map[i])>1)).astype('int')     \n",
    "        Xs.append(X)\n",
    "        Ys.append(Y)\n",
    "        Zs.append(Z)\n",
    "        Labels.append(Label)\n",
    "    Xs = np.concatenate(Xs)\n",
    "    Ys = np.concatenate(Ys)\n",
    "    Zs = np.concatenate(Zs)\n",
    "    Labels = np.concatenate(Labels)\n",
    "    color_labels = np.zeros((len(Labels),3))\n",
    "    color_labels[Labels == 1] = rbg_green\n",
    "    color_labels[Labels == 0] = rbg_red\n",
    "    pcd = op3.geometry.PointCloud()\n",
    "    pcd.points = op3.utility.Vector3dVector(np.concatenate([Xs.reshape(-1,1),Ys.reshape(-1,1),Zs.reshape(-1,1)],axis = 1))\n",
    "    pcd.colors = op3.utility.Vector3dVector(color_labels/255)\n",
    "    op3.visualization.draw_geometries([pcd])\n",
    "                "
   ]
  },
  {
   "cell_type": "code",
   "execution_count": 890,
   "metadata": {},
   "outputs": [],
   "source": [
    "show_filtered_frame(aggregated_maps_sorted[15],focus_map,median_value_aggregated_map_sorted)"
   ]
  },
  {
   "cell_type": "code",
   "execution_count": null,
   "metadata": {},
   "outputs": [],
   "source": []
  }
 ],
 "metadata": {
  "kernelspec": {
   "display_name": "Python 3",
   "language": "python",
   "name": "python3"
  },
  "language_info": {
   "codemirror_mode": {
    "name": "ipython",
    "version": 3
   },
   "file_extension": ".py",
   "mimetype": "text/x-python",
   "name": "python",
   "nbconvert_exporter": "python",
   "pygments_lexer": "ipython3",
   "version": "3.7.6"
  }
 },
 "nbformat": 4,
 "nbformat_minor": 2
}
