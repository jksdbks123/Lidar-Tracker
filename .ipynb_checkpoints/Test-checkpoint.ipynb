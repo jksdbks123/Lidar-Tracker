{
 "cells": [
  {
   "cell_type": "code",
   "execution_count": 1,
   "metadata": {},
   "outputs": [],
   "source": [
    "from tqdm import tqdm_notebook\n",
    "import datetime\n",
    "import dpkt\n",
    "import numpy as np\n",
    "import matplotlib.pyplot as plt\n",
    "import os\n",
    "import pandas as pd\n",
    "import open3d as op3"
   ]
  },
  {
   "cell_type": "code",
   "execution_count": 2,
   "metadata": {},
   "outputs": [],
   "source": [
    "omega = np.array([[-25,1.4],[-1,-4.2],[-1.667,1.4],[-15.639,-1.4],\n",
    "    [-11.31,1.4],[0,-1.4],[-0.667,4.2],[-8.843,-1.4],\n",
    "    [-7.254,1.4],[0.333,-4.2],[-0.333,1.4],[-6.148,-1.4],\n",
    "    [-5.333,4.2],[1.333,-1.4],[0.667,4.2],[-4,-1.4],\n",
    "    [-4.667,1.4],[1.667,-4.2],[1,1.4],[-3.667,-4.2],\n",
    "    [-3.333,4.2],[3.333,-1.4],[2.333,1.4],[-2.667,-1.4],\n",
    "    [-3,1.4],[7,-1.4],[4.667,1.4],[-2.333,-4.2],\n",
    "    [-2,4.2],[15,-1.4],[10.333,1.4],[-1.333,-1.4]\n",
    "])"
   ]
  },
  {
   "cell_type": "code",
   "execution_count": 3,
   "metadata": {},
   "outputs": [],
   "source": [
    "\n",
    "\n",
    "class LidarLoader():\n",
    "    def __init__(self,file_path):\n",
    "        self.Data_order = np.array([[-25,1.4],[-1,-4.2],[-1.667,1.4],[-15.639,-1.4],\n",
    "    [-11.31,1.4],[0,-1.4],[-0.667,4.2],[-8.843,-1.4],\n",
    "    [-7.254,1.4],[0.333,-4.2],[-0.333,1.4],[-6.148,-1.4],\n",
    "    [-5.333,4.2],[1.333,-1.4],[0.667,4.2],[-4,-1.4],\n",
    "    [-4.667,1.4],[1.667,-4.2],[1,1.4],[-3.667,-4.2],\n",
    "    [-3.333,4.2],[3.333,-1.4],[2.333,1.4],[-2.667,-1.4],\n",
    "    [-3,1.4],[7,-1.4],[4.667,1.4],[-2.333,-4.2],\n",
    "    [-2,4.2],[15,-1.4],[10.333,1.4],[-1.333,-1.4]\n",
    "])\n",
    "        self.timing_offset = self.calc_timing_offsets()\n",
    "        self.omega = self.Data_order[:,0]\n",
    "        self.lidar_reader = 0\n",
    "        self.file_path = file_path\n",
    "        self.load_reader()\n",
    "\n",
    "    def load_reader(self):\n",
    "        try:\n",
    "            fpcap = open(self.file_path, 'rb')\n",
    "            self.lidar_reader = dpkt.pcap.Reader(fpcap)\n",
    "        except Exception as ex:\n",
    "            print(str(ex))\n",
    "\n",
    "    def read_uint32(self,data, idx):\n",
    "        return data[idx] + data[idx+1]*256 + data[idx+2]*256*256 + data[idx+3]*256*256*256\n",
    "    def read_firing_data(self,data):\n",
    "        block_id = data[0] + data[1]*256\n",
    "        azimuth = (data[2] + data[3] * 256) / 100 # degree\n",
    "        firings = data[4:].reshape(32, 3) \n",
    "        distances = firings[:, 0] + firings[:, 1] * 256 # mm \n",
    "        intensities = firings[:, 2] # 0-255\n",
    "        return distances, intensities, azimuth #(1,0)\n",
    "    \n",
    "    def calc_timing_offsets(self):\n",
    "        timing_offsets = np.zeros((32,12))  # Init matrix\n",
    "        # constants\n",
    "        full_firing_cycle = 55.296  # μs\n",
    "        single_firing = 2.304  # μs\n",
    "        # compute timing offsets\n",
    "        for x in range(12):\n",
    "            for y in range(32):\n",
    "                dataBlockIndex = (x * 2) + int((y / 16))\n",
    "                dataPointIndex = y % 16\n",
    "                timing_offsets[y][x] = (full_firing_cycle * dataBlockIndex) +(single_firing * dataPointIndex)\n",
    "        return np.array(timing_offsets).T\n",
    "\n",
    "    def calc_precise_azimuth(self,azimuth):\n",
    "        org_azi = azimuth.copy()\n",
    "\n",
    "        precision_azimuth = []\n",
    "        # iterate through each block\n",
    "        for n in range(12): # n=0..11\n",
    "            azimuth = org_azi.copy()\n",
    "            try:\n",
    "                # First, adjust for an Azimuth rollover from 359.99° to 0°\n",
    "                if azimuth[n + 1] < azimuth[n]:\n",
    "                    azimuth[n + 1] += 360\n",
    "\n",
    "                # Determine the azimuth Gap between data blocks\n",
    "                azimuth_gap = azimuth[n + 1] - azimuth[n]\n",
    "            except:\n",
    "                if azimuth[n] < azimuth[n-1]:\n",
    "                    azimuth[n] += 360\n",
    "                azimuth_gap = azimuth[n] - azimuth[n-1]\n",
    "\n",
    "            factor = azimuth_gap / 32.\n",
    "            k = np.arange(32)\n",
    "            precise_azimuth = azimuth[n] + factor * k\n",
    "            precision_azimuth.append(precise_azimuth)\n",
    "\n",
    "        precision_azimuth = np.array(precision_azimuth)\n",
    "        return precision_azimuth\n",
    "\n",
    "    def calc_cart_coord(self,distances, azimuth):# distance: 12*32 azimuth: 12*32\n",
    "        # convert deg to rad\n",
    "        longitudes = self.omega * np.pi / 180.\n",
    "        latitudes = azimuth * np.pi / 180.\n",
    "\n",
    "        hypotenuses = distances * np.cos(longitudes)\n",
    "\n",
    "        X = hypotenuses * np.sin(latitudes)\n",
    "        Y = hypotenuses * np.cos(latitudes)\n",
    "        Z = distances * np.sin(longitudes)\n",
    "        return X, Y, Z\n",
    "\n",
    "    def parse_one_packet(self,data):\n",
    "        data = np.frombuffer(data, dtype=np.uint8).astype(np.uint32)\n",
    "        blocks = data[0:1200].reshape(12, 100)\n",
    "        Timestamp = self.read_uint32(data[1200:1204],0)\n",
    "        distances = []#12*32\n",
    "        intensities = []#12*32\n",
    "        azimuth_per_block = [] #(12,0)\n",
    "        # iteratie through each block\n",
    "        for i, blk in enumerate(blocks):\n",
    "            dists, intens, angles = self.read_firing_data(blk)\n",
    "            distances.append(dists) #12*32\n",
    "            intensities.append(intens) #12*32\n",
    "            azimuth_per_block.append(angles)\n",
    "        azimuth_per_block = np.array(azimuth_per_block) #12, \n",
    "            ## Note: all these arrray have th same size, number of firing in one packet\n",
    "        azimuth_adjusted = self.calc_precise_azimuth(azimuth_per_block).reshape(12, 32) # 12*32\n",
    "        azimuth_origin = np.tile(azimuth_per_block.reshape(-1,1),32)\n",
    "        \n",
    "        azimuth_adjusted += self.Data_order[:,1] # offset\n",
    "        distances = np.array(distances)*4/1000 # 12*32\n",
    "        intensities = np.array(intensities) # 12*32\n",
    "        laser_id = np.tile(np.arange(32).reshape(-1,1),12).T\n",
    "        \n",
    "        # now calculate the cartesian coordinate of each point\n",
    "        X, Y, Z = self.calc_cart_coord(distances, azimuth_adjusted)\n",
    "        \n",
    "        # calculating timestamp [microsec] of each firing\n",
    "        timestamps = Timestamp + self.timing_offset\n",
    "\n",
    "        X = X.flatten()\n",
    "        Y = Y.flatten()\n",
    "        Z = Z.flatten()\n",
    "        intensities = intensities.flatten()\n",
    "        azimuth_adjusted = azimuth_adjusted.flatten()\n",
    "        timestamps = timestamps.flatten()\n",
    "        distances = distances.flatten()\n",
    "        azimuth_origin = azimuth_origin.flatten()\n",
    "        laser_id = laser_id.flatten()\n",
    "        # remeber the last azimuth for roll over checking\n",
    "        return X, Y, Z, intensities, azimuth_adjusted, timestamps, distances, azimuth_origin, laser_id\n",
    "\n",
    "    def frame_gen(self):\n",
    "        while True:\n",
    "            cur_culmulative_fires = 0\n",
    "            frame = []\n",
    "            flag = True\n",
    "            for ts,buf in self.lidar_reader:\n",
    "                eth = dpkt.ethernet.Ethernet(buf)\n",
    "                data = eth.data.data.data\n",
    "                packet_status = eth.data.data.sport\n",
    "                if packet_status == 2368:\n",
    "                    cur_culmulative_fires+=1\n",
    "                    if len(data)<1206:\n",
    "                        continue\n",
    "                    X,Y,Z,I,A,T,D,A_O,L_id = self.parse_one_packet(data)\n",
    "                    A[A>360] -= 360\n",
    "                    frame.append(np.concatenate([T.reshape((-1,1)),\n",
    "                                                    X.reshape((-1,1)),\n",
    "                                                    Y.reshape((-1,1)),\n",
    "                                                    Z.reshape((-1,1)),\n",
    "                                                    D.reshape((-1,1)),\n",
    "                                                    I.reshape((-1,1)),\n",
    "                                                    ],axis = 1))\n",
    "                    if cur_culmulative_fires==150:\n",
    "                        cur_culmulative_fires = 0\n",
    "                        temp = np.concatenate(frame)\n",
    "                        temp = temp[(temp[:,4]!=0)&(temp[:,4]<50)] # filter out sky laser\n",
    "                        frame = []\n",
    "                        yield temp    \n",
    "                else:\n",
    "                    continue\n"
   ]
  },
  {
   "cell_type": "code",
   "execution_count": 4,
   "metadata": {},
   "outputs": [],
   "source": [
    "os.chdir(r'/Users/czhui960/Documents/Lidar/to ZHIHUI/USA pkwy')\n",
    "file_path  = os.listdir()[-3]\n",
    "loader = LidarLoader(file_path).frame_gen()"
   ]
  },
  {
   "cell_type": "code",
   "execution_count": 5,
   "metadata": {},
   "outputs": [],
   "source": [
    "frame = next(loader)"
   ]
  },
  {
   "cell_type": "code",
   "execution_count": 6,
   "metadata": {},
   "outputs": [],
   "source": [
    "grid_height = (frame[:,3].max()-frame[:,3].min())\n",
    "grid_width = 50*2\n",
    "grid_length = 50*2\n",
    "resolution = 0.5"
   ]
  },
  {
   "cell_type": "code",
   "execution_count": 7,
   "metadata": {},
   "outputs": [],
   "source": [
    "X, Y ,Z = np.meshgrid(np.arange(-grid_width/2,grid_width/2,resolution), \n",
    "                      np.arange(-grid_length/2,grid_length/2,resolution),\n",
    "                     np.arange(frame[:,3].min(),frame[:,3].max(),resolution))\n",
    "grid_3d_points = np.vstack((X,Y,Z)).reshape(3,-1).T"
   ]
  },
  {
   "cell_type": "code",
   "execution_count": 8,
   "metadata": {},
   "outputs": [],
   "source": [
    "xyz = grid_3d_points\n",
    "pcd = op3.geometry.PointCloud()\n",
    "pcd.points = op3.utility.Vector3dVector(xyz)\n",
    "voxel_grid = op3.geometry.VoxelGrid.create_from_point_cloud(pcd,voxel_size=resolution)\n",
    "# op3.visualization.draw_geometries([voxel_grid])"
   ]
  },
  {
   "cell_type": "code",
   "execution_count": 9,
   "metadata": {},
   "outputs": [
    {
     "data": {
      "text/plain": [
       "array([ 3.39526362,  4.60859071, -2.66925694])"
      ]
     },
     "execution_count": 9,
     "metadata": {},
     "output_type": "execute_result"
    }
   ],
   "source": [
    "frame[0,[1,2,3]]"
   ]
  },
  {
   "cell_type": "code",
   "execution_count": 10,
   "metadata": {},
   "outputs": [
    {
     "data": {
      "text/plain": [
       "array([-48.5       , -50.        ,   0.85528316])"
      ]
     },
     "execution_count": 10,
     "metadata": {},
     "output_type": "execute_result"
    }
   ],
   "source": [
    "xyz[107]"
   ]
  },
  {
   "cell_type": "code",
   "execution_count": 11,
   "metadata": {},
   "outputs": [
    {
     "data": {
      "text/plain": [
       "array([107, 109,   7], dtype=int32)"
      ]
     },
     "execution_count": 11,
     "metadata": {},
     "output_type": "execute_result"
    }
   ],
   "source": [
    "voxel_grid.get_voxel(frame[0,[1,2,3]])"
   ]
  },
  {
   "cell_type": "code",
   "execution_count": null,
   "metadata": {},
   "outputs": [],
   "source": [
    "voxels = voxel_grid.get_voxels()"
   ]
  },
  {
   "cell_type": "code",
   "execution_count": null,
   "metadata": {},
   "outputs": [],
   "source": []
  }
 ],
 "metadata": {
  "kernelspec": {
   "display_name": "Python 3",
   "language": "python",
   "name": "python3"
  },
  "language_info": {
   "codemirror_mode": {
    "name": "ipython",
    "version": 3
   },
   "file_extension": ".py",
   "mimetype": "text/x-python",
   "name": "python",
   "nbconvert_exporter": "python",
   "pygments_lexer": "ipython3",
   "version": "3.8.5"
  }
 },
 "nbformat": 4,
 "nbformat_minor": 2
}
