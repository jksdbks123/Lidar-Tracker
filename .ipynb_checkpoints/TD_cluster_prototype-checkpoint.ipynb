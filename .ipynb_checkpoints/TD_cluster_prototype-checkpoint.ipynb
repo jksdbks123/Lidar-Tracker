{
 "cells": [
  {
   "cell_type": "code",
   "execution_count": 1,
   "metadata": {},
   "outputs": [],
   "source": [
    "from tqdm.notebook import tqdm\n",
    "import datetime\n",
    "import dpkt\n",
    "import numpy as np\n",
    "import matplotlib.pyplot as plt\n",
    "import os\n",
    "import open3d as op3 \n",
    "import seaborn as sns\n",
    "import pandas as pd\n",
    "import time\n",
    "from scipy.sparse.csgraph import connected_components\n",
    "import seaborn as sns\n",
    "from open3d import JVisualizer\n",
    "from BfTableGenerator import RansacCollector\n",
    "from matplotlib import cm\n",
    "from sklearn.cluster._dbscan_inner import dbscan_inner\n",
    "from numpy.lib.stride_tricks import sliding_window_view\n",
    "\n",
    "\n",
    "theta_raw = np.array([[-25,1.4],[-1,-4.2],[-1.667,1.4],[-15.639,-1.4],\n",
    "                            [-11.31,1.4],[0,-1.4],[-0.667,4.2],[-8.843,-1.4],\n",
    "                            [-7.254,1.4],[0.333,-4.2],[-0.333,1.4],[-6.148,-1.4],\n",
    "                            [-5.333,4.2],[1.333,-1.4],[0.667,4.2],[-4,-1.4],\n",
    "                            [-4.667,1.4],[1.667,-4.2],[1,1.4],[-3.667,-4.2],\n",
    "                            [-3.333,4.2],[3.333,-1.4],[2.333,1.4],[-2.667,-1.4],\n",
    "                            [-3,1.4],[7,-1.4],[4.667,1.4],[-2.333,-4.2],\n",
    "                            [-2,4.2],[15,-1.4],[10.333,1.4],[-1.333,-1.4]\n",
    "                            ])[:,0]\n",
    "theta = np.sort(theta_raw)\n",
    "azimuths = np.arange(0,360,0.2)"
   ]
  },
  {
   "cell_type": "code",
   "execution_count": 2,
   "metadata": {
    "scrolled": true
   },
   "outputs": [
    {
     "name": "stderr",
     "output_type": "stream",
     "text": [
      "  0%|          | 2/2000 [00:00<02:22, 14.06it/s]"
     ]
    },
    {
     "name": "stdout",
     "output_type": "stream",
     "text": [
      "Loading pcap...\n"
     ]
    },
    {
     "name": "stderr",
     "output_type": "stream",
     "text": [
      "100%|██████████| 2000/2000 [01:55<00:00, 17.34it/s]\n",
      "  3%|▎         | 1/32 [00:00<00:05,  5.32it/s]"
     ]
    },
    {
     "name": "stdout",
     "output_type": "stream",
     "text": [
      "Generating Threshold Map\n"
     ]
    },
    {
     "name": "stderr",
     "output_type": "stream",
     "text": [
      "100%|██████████| 32/32 [00:04<00:00,  6.63it/s]\n"
     ]
    }
   ],
   "source": [
    "os.chdir(r'/Users/czhui960/Documents/Lidar/RawLidarData/FrameSamplingTest')\n",
    "frame_set = np.arange(0,2000,1).astype('int')\n",
    "collector = RansacCollector(pcap_path=r'./2020-7-27-10-30-0.pcap',frames_set = frame_set)\n",
    "collector.gen_tdmap()\n",
    "collector.gen_thredmap(d = 1.2,thred_s = 0.3,N = 20,delta_thred = 1e-3,step = 0.1,inuse_frame = frame_set)\n",
    "# d = 1.2,thred_s = 0.3,N = 20,delta_thred = 1e-3,step = 0.1 FrameSampling\n"
   ]
  },
  {
   "cell_type": "markdown",
   "metadata": {},
   "source": [
    "## Prototype"
   ]
  },
  {
   "cell_type": "code",
   "execution_count": 3,
   "metadata": {},
   "outputs": [],
   "source": [
    "window_size = (5,5) #(height,width)\n",
    "eps = 1.5\n",
    "min_samples = 10\n",
    "Thred_map = collector.thred_map"
   ]
  },
  {
   "cell_type": "code",
   "execution_count": 56,
   "metadata": {},
   "outputs": [
    {
     "data": {
      "text/plain": [
       "False"
      ]
     },
     "execution_count": 56,
     "metadata": {},
     "output_type": "execute_result"
    }
   ],
   "source": [
    "np.full((5,3),False)[0,0]"
   ]
  },
  {
   "cell_type": "code",
   "execution_count": 57,
   "metadata": {},
   "outputs": [],
   "source": [
    "Foreground_map_offset = np.concatenate([np.full((int(window_size[0]/2),Foreground_map_offset.shape[1]),False),\n",
    "                                        Foreground_map_offset,\n",
    "                                       np.full((int(window_size[0]/2),Foreground_map_offset.shape[1]),False)])"
   ]
  },
  {
   "cell_type": "code",
   "execution_count": 75,
   "metadata": {},
   "outputs": [],
   "source": [
    "Td_map = collector.td_maps[601].copy()\n",
    "Foreground_map = (Td_map < Thred_map)&(Td_map != 0)\n",
    "# load Foreground and Td distance matrix \n",
    "rows,cols = np.where(Foreground_map)\n",
    "indices = np.arange(len(rows),dtype = np.int64)\n",
    "Index_map = -1*np.ones(shape = Foreground_map.shape,dtype=np.int64)\n",
    "Index_map[rows,cols] = indices \n",
    "\n",
    "# azimuth padding \n",
    "Foreground_map_offset = np.concatenate([Foreground_map[:,-int(window_size[1]/2):],\n",
    "                                        Foreground_map,\n",
    "                                        Foreground_map[:,:int(window_size[1]/2)]],axis = 1)\n",
    "Index_map_offset = np.concatenate([Index_map[:,-int(window_size[1]/2):],\n",
    "                                   Index_map,\n",
    "                                   Index_map[:,:int(window_size[1]/2)]],axis = 1)\n",
    "Td_map_offset = np.concatenate([Td_map[:,-int(window_size[1]/2):],\n",
    "                                Td_map,\n",
    "                                Td_map[:,:int(window_size[1]/2)]],axis = 1)\n",
    "# laser padding \n",
    "Foreground_map_offset = np.concatenate([np.full((int(window_size[0]/2),Foreground_map_offset.shape[1]),False),\n",
    "                                        Foreground_map_offset,\n",
    "                                       np.full((int(window_size[0]/2),Foreground_map_offset.shape[1]),False)])\n",
    "Index_map_offset = np.concatenate([np.full((int(window_size[0]/2),Index_map_offset.shape[1]),-1,dtype = np.int64),\n",
    "                                  Index_map_offset,\n",
    "                                  np.full((int(window_size[0]/2),Index_map_offset.shape[1]),-1,dtype = np.int64)])\n",
    "Td_map_offset = np.concatenate([np.full((int(window_size[0]/2),Td_map_offset.shape[1]),200),\n",
    "                              Td_map_offset,\n",
    "                              np.full((int(window_size[0]/2),Td_map_offset.shape[1]),200)])\n",
    "\n",
    "Sub_indmap = sliding_window_view(Index_map_offset,window_size).reshape(-1,window_size[0],window_size[1])\n",
    "Sub_tdmap = sliding_window_view(Td_map_offset,window_size).reshape(-1,window_size[0],window_size[1])\n",
    "Sub_foremap = sliding_window_view(Foreground_map_offset,window_size).reshape(-1,window_size[0],window_size[1])\n",
    "\n",
    "\n",
    "# Window inds that are valid as Foregound, and only \n",
    "valid_windows = Sub_foremap[:,int(window_size[0]/2),int(window_size[1]/2)] \n",
    "Sub_indmap,Sub_foremap,Sub_tdmap = Sub_indmap[valid_windows],Sub_foremap[valid_windows],Sub_tdmap[valid_windows]\n",
    "\n",
    "\n",
    "center_td_dist = Sub_tdmap[:,int(window_size[0]/2),int(window_size[1]/2)]\n",
    "valid_index = Sub_indmap[:,int(window_size[0]/2),int(window_size[1]/2)]\n",
    "temp = ((np.abs((Sub_tdmap - center_td_dist.reshape(-1,1,1))) < eps) & Sub_foremap)\n",
    "neighborhoods = np.array([Sub_indmap[i][temp[i]] for i in range(len(temp))],dtype = 'O')\n",
    "n_neighbors = np.array([len(neighbor) for neighbor in neighborhoods])\n",
    "Labels = np.full(len(n_neighbors), -1, dtype=np.intp)\n",
    "core_samples = np.asarray(n_neighbors >= min_samples,\n",
    "                          dtype=np.uint8)\n",
    "dbscan_inner(core_samples, neighborhoods, Labels)\n",
    "\n",
    "# rows,cols = rows[valid_index],cols[valid_index]\n",
    "Labeling_map = -1*np.ones_like(Foreground_map)\n",
    "Labeling_map[rows,cols] = Labels"
   ]
  },
  {
   "cell_type": "code",
   "execution_count": 76,
   "metadata": {},
   "outputs": [
    {
     "data": {
      "application/vnd.jupyter.widget-view+json": {
       "model_id": "265dbb06a47b4c80918b64ff8fcbed42",
       "version_major": 2,
       "version_minor": 0
      },
      "text/plain": [
       "JVisualizer with 1 geometries"
      ]
     },
     "metadata": {},
     "output_type": "display_data"
    }
   ],
   "source": [
    "td_freq_map = Td_map\n",
    "Xs = []\n",
    "Ys = []\n",
    "Zs = []\n",
    "Labels = []\n",
    "for i in range(td_freq_map.shape[0]):\n",
    "    longitudes = theta[i]*np.pi / 180\n",
    "    latitudes = azimuths * np.pi / 180 \n",
    "    hypotenuses = td_freq_map[i] * np.cos(longitudes)\n",
    "    X = hypotenuses * np.sin(latitudes)\n",
    "    Y = hypotenuses * np.cos(latitudes)\n",
    "    Z = td_freq_map[i] * np.sin(longitudes)\n",
    "    Valid_ind =  (td_freq_map[i] != 0)&(td_freq_map[i]<collector.thred_map[i]) # None zero index\n",
    "    Xs.append(X[Valid_ind])\n",
    "    Ys.append(Y[Valid_ind])\n",
    "    Zs.append(Z[Valid_ind])\n",
    "    Labels.append(Labeling_map[i][Valid_ind])\n",
    "\n",
    "    \n",
    "Xs = np.concatenate(Xs)\n",
    "Ys = np.concatenate(Ys)\n",
    "Zs = np.concatenate(Zs)\n",
    "Labels = np.concatenate(Labels).astype('int')\n",
    "Colors = []\n",
    "for i in range(len(Labels)):\n",
    "    Colors.append(cm.tab20(Labels[i]%20)[:3])\n",
    "Colors = np.array(Colors)\n",
    "pcd = op3.geometry.PointCloud()\n",
    "XYZ = np.concatenate([Xs.reshape(-1,1),Ys.reshape(-1,1),Zs.reshape(-1,1)],axis = 1)\n",
    "pcd.points = op3.utility.Vector3dVector(XYZ)\n",
    "pcd.colors = op3.utility.Vector3dVector(Colors)\n",
    "visualizer = JVisualizer()\n",
    "visualizer.add_geometry(pcd)\n",
    "visualizer.show()"
   ]
  },
  {
   "cell_type": "code",
   "execution_count": null,
   "metadata": {},
   "outputs": [],
   "source": []
  },
  {
   "cell_type": "code",
   "execution_count": null,
   "metadata": {},
   "outputs": [
    {
     "name": "stdout",
     "output_type": "stream",
     "text": [
      "0\n",
      "1\n",
      "2\n",
      "3\n",
      "4\n",
      "5\n",
      "6\n",
      "7\n",
      "8\n",
      "9\n",
      "10\n",
      "11\n",
      "12\n",
      "13\n",
      "14\n",
      "15\n",
      "16\n",
      "17\n",
      "18\n",
      "19\n",
      "20\n",
      "21\n",
      "22\n",
      "23\n",
      "24\n",
      "25\n",
      "26\n",
      "27\n",
      "28\n",
      "29\n",
      "30\n",
      "31\n",
      "32\n",
      "33\n",
      "34\n",
      "35\n",
      "36\n",
      "37\n",
      "38\n",
      "39\n",
      "40\n",
      "41\n",
      "42\n",
      "43\n",
      "44\n",
      "45\n",
      "46\n",
      "47\n",
      "48\n",
      "49\n",
      "50\n",
      "51\n",
      "52\n",
      "53\n",
      "54\n",
      "55\n",
      "56\n",
      "57\n",
      "58\n",
      "59\n",
      "60\n",
      "61\n",
      "62\n",
      "63\n",
      "64\n",
      "65\n",
      "66\n",
      "67\n",
      "68\n",
      "69\n",
      "70\n",
      "71\n",
      "72\n",
      "73\n",
      "74\n",
      "75\n",
      "76\n",
      "77\n",
      "78\n",
      "79\n",
      "80\n",
      "81\n",
      "82\n",
      "83\n",
      "84\n",
      "85\n",
      "86\n",
      "87\n",
      "88\n",
      "89\n",
      "90\n",
      "91\n",
      "92\n",
      "93\n",
      "94\n",
      "95\n",
      "96\n",
      "97\n",
      "98\n",
      "99\n",
      "100\n",
      "101\n",
      "102\n",
      "103\n",
      "104\n",
      "105\n",
      "106\n",
      "107\n",
      "108\n",
      "109\n",
      "110\n",
      "111\n",
      "112\n",
      "113\n",
      "114\n",
      "115\n",
      "116\n",
      "117\n",
      "118\n",
      "119\n",
      "120\n",
      "121\n",
      "122\n",
      "123\n",
      "124\n",
      "125\n",
      "126\n",
      "127\n",
      "128\n",
      "129\n",
      "130\n",
      "131\n",
      "132\n",
      "133\n",
      "134\n",
      "135\n",
      "136\n",
      "137\n",
      "138\n",
      "139\n",
      "140\n",
      "141\n",
      "142\n",
      "143\n",
      "144\n",
      "145\n",
      "146\n",
      "147\n",
      "148\n",
      "149\n",
      "150\n",
      "151\n",
      "152\n",
      "153\n",
      "154\n",
      "155\n",
      "156\n",
      "157\n",
      "158\n",
      "159\n",
      "160\n",
      "161\n",
      "162\n",
      "163\n",
      "164\n",
      "165\n",
      "166\n",
      "167\n",
      "168\n",
      "169\n",
      "170\n",
      "171\n",
      "172\n",
      "173\n",
      "174\n",
      "175\n",
      "176\n",
      "177\n",
      "178\n",
      "179\n",
      "180\n",
      "181\n",
      "182\n",
      "183\n",
      "184\n",
      "185\n",
      "186\n",
      "187\n",
      "188\n",
      "189\n",
      "190\n",
      "191\n",
      "192\n",
      "193\n",
      "194\n",
      "195\n",
      "196\n",
      "197\n",
      "198\n",
      "199\n",
      "200\n",
      "201\n",
      "202\n",
      "203\n",
      "204\n",
      "205\n",
      "206\n",
      "207\n",
      "208\n",
      "209\n",
      "210\n",
      "211\n",
      "212\n",
      "213\n",
      "214\n",
      "215\n",
      "216\n",
      "217\n",
      "218\n",
      "219\n",
      "220\n",
      "221\n",
      "222\n",
      "223\n",
      "224\n",
      "225\n",
      "226\n",
      "227\n",
      "228\n",
      "229\n",
      "230\n",
      "231\n",
      "232\n",
      "233\n",
      "234\n",
      "235\n",
      "236\n",
      "237\n",
      "238\n",
      "239\n",
      "240\n",
      "241\n",
      "242\n",
      "243\n",
      "244\n",
      "245\n",
      "246\n",
      "247\n",
      "248\n",
      "249\n",
      "250\n",
      "251\n",
      "252\n",
      "253\n",
      "254\n",
      "255\n",
      "256\n",
      "257\n",
      "258\n",
      "259\n",
      "260\n",
      "261\n",
      "262\n",
      "263\n",
      "264\n",
      "265\n",
      "266\n",
      "267\n",
      "268\n",
      "269\n",
      "270\n",
      "271\n",
      "272\n",
      "273\n",
      "274\n",
      "275\n",
      "276\n",
      "277\n",
      "278\n",
      "279\n",
      "280\n",
      "281\n",
      "282\n",
      "283\n",
      "284\n",
      "285\n",
      "286\n",
      "287\n",
      "288\n",
      "289\n",
      "290\n",
      "291\n",
      "292\n",
      "293\n",
      "294\n",
      "295\n",
      "296\n",
      "297\n",
      "298\n",
      "299\n",
      "300\n",
      "301\n",
      "302\n",
      "303\n",
      "304\n",
      "305\n",
      "306\n",
      "307\n",
      "308\n",
      "309\n",
      "310\n",
      "311\n",
      "312\n",
      "313\n",
      "314\n",
      "315\n",
      "316\n",
      "317\n",
      "318\n",
      "319\n",
      "320\n",
      "321\n",
      "322\n",
      "323\n",
      "324\n",
      "325\n",
      "326\n",
      "327\n",
      "328\n",
      "329\n",
      "330\n",
      "331\n",
      "332\n",
      "333\n",
      "334\n",
      "335\n",
      "336\n",
      "337\n",
      "338\n",
      "339\n",
      "340\n",
      "341\n",
      "342\n",
      "343\n",
      "344\n",
      "345\n",
      "346\n",
      "347\n",
      "348\n",
      "349\n",
      "350\n",
      "351\n",
      "352\n",
      "353\n",
      "354\n",
      "355\n",
      "356\n",
      "357\n",
      "358\n",
      "359\n",
      "360\n",
      "361\n",
      "362\n",
      "363\n",
      "364\n",
      "365\n",
      "366\n",
      "367\n",
      "368\n",
      "369\n",
      "370\n",
      "371\n",
      "372\n",
      "373\n",
      "374\n",
      "375\n",
      "376\n",
      "377\n",
      "378\n",
      "379\n",
      "380\n",
      "381\n",
      "382\n",
      "383\n",
      "384\n",
      "385\n",
      "386\n",
      "387\n",
      "388\n",
      "389\n",
      "390\n",
      "391\n",
      "392\n",
      "393\n",
      "394\n",
      "395\n",
      "396\n",
      "397\n",
      "398\n",
      "399\n",
      "400\n",
      "401\n",
      "402\n",
      "403\n",
      "404\n",
      "405\n",
      "406\n",
      "407\n",
      "408\n",
      "409\n",
      "410\n",
      "411\n",
      "412\n",
      "413\n",
      "414\n",
      "415\n",
      "416\n",
      "417\n",
      "418\n",
      "419\n",
      "420\n",
      "421\n",
      "422\n",
      "423\n",
      "424\n",
      "425\n",
      "426\n",
      "427\n",
      "428\n",
      "429\n",
      "430\n",
      "431\n",
      "432\n",
      "433\n",
      "434\n",
      "435\n",
      "436\n",
      "437\n",
      "438\n",
      "439\n",
      "440\n",
      "441\n",
      "442\n",
      "443\n",
      "444\n",
      "445\n",
      "446\n",
      "447\n",
      "448\n",
      "449\n",
      "450\n",
      "451\n",
      "452\n",
      "453\n",
      "454\n",
      "455\n",
      "456\n",
      "457\n",
      "458\n",
      "459\n",
      "460\n",
      "461\n",
      "462\n",
      "463\n",
      "464\n",
      "465\n",
      "466\n",
      "467\n",
      "468\n",
      "469\n",
      "470\n",
      "471\n",
      "472\n",
      "473\n",
      "474\n",
      "475\n",
      "476\n",
      "477\n",
      "478\n",
      "479\n",
      "480\n",
      "481\n",
      "482\n",
      "483\n",
      "484\n",
      "485\n",
      "486\n",
      "487\n",
      "488\n",
      "489\n",
      "490\n",
      "491\n",
      "492\n",
      "493\n",
      "494\n",
      "495\n",
      "496\n",
      "497\n",
      "498\n",
      "499\n",
      "500\n",
      "501\n",
      "502\n",
      "503\n",
      "504\n",
      "505\n",
      "506\n",
      "507\n",
      "508\n",
      "509\n",
      "510\n",
      "511\n",
      "512\n",
      "513\n",
      "514\n",
      "515\n",
      "516\n",
      "517\n",
      "518\n",
      "519\n",
      "520\n",
      "521\n",
      "522\n",
      "523\n",
      "524\n",
      "525\n",
      "526\n",
      "527\n",
      "528\n",
      "529\n",
      "530\n",
      "531\n",
      "532\n",
      "533\n",
      "534\n",
      "535\n",
      "536\n",
      "537\n",
      "538\n",
      "539\n",
      "540\n",
      "541\n",
      "542\n",
      "543\n",
      "544\n",
      "545\n",
      "546\n",
      "547\n"
     ]
    }
   ],
   "source": [
    "time_cons = []\n",
    "for frame_ind in range(1000):\n",
    "    ti = time.time()\n",
    "    Td_map = collector.td_maps[frame_ind].copy()\n",
    "    Foreground_map = (Td_map < Thred_map)&(Td_map != 0)\n",
    "    # load Foreground and Td distance matrix \n",
    "    rows,cols = np.where(Foreground_map)\n",
    "    indices = np.arange(len(rows),dtype = np.int64)\n",
    "    Index_map = -1*np.ones(shape = Foreground_map.shape,dtype=np.int64)\n",
    "    Index_map[rows,cols] = indices \n",
    "    Foreground_map_offset = np.concatenate([Foreground_map[:,-int(window_size[0]/2):],Foreground_map,Foreground_map[:,:int(window_size[0]/2)]],axis = 1)\n",
    "    Index_map_offset = np.concatenate([Index_map[:,-int(window_size[0]/2):],Index_map,Index_map[:,:int(window_size[0]/2)]],axis = 1)\n",
    "    Td_map_offset = np.concatenate([Td_map[:,-int(window_size[0]/2):],Td_map,Td_map[:,:int(window_size[0]/2)]],axis = 1)\n",
    "\n",
    "    Sub_indmap = sliding_window_view(Index_map_offset,window_size).reshape(-1,window_size[0],window_size[1])\n",
    "    Sub_tdmap = sliding_window_view(Td_map_offset,window_size).reshape(-1,window_size[0],window_size[1])\n",
    "    Sub_foremap = sliding_window_view(Foreground_map_offset,window_size).reshape(-1,window_size[0],window_size[1])\n",
    "\n",
    "\n",
    "    # Window inds that are valid as Foregound, and only \n",
    "    valid_windows = Sub_foremap[:,int(window_size[0]/2),int(window_size[1]/2)] \n",
    "    Sub_indmap,Sub_foremap,Sub_tdmap = Sub_indmap[valid_windows],Sub_foremap[valid_windows],Sub_tdmap[valid_windows]\n",
    "\n",
    "\n",
    "    center_td_dist = Sub_tdmap[:,int(window_size[0]/2),int(window_size[1]/2)]\n",
    "    valid_index = Sub_indmap[:,int(window_size[0]/2),int(window_size[1]/2)]\n",
    "    temp = ((np.abs((Sub_tdmap - center_td_dist.reshape(-1,1,1))) < eps) & Sub_foremap)\n",
    "    neighborhoods = np.array([Sub_indmap[i][temp[i]] for i in range(len(temp))],dtype = 'O')\n",
    "    n_neighbors = np.array([len(neighbor) for neighbor in neighborhoods])\n",
    "    Labels = np.full(len(n_neighbors), -1, dtype=np.intp)\n",
    "    core_samples = np.asarray(n_neighbors >= min_samples,\n",
    "                              dtype=np.uint8)\n",
    "    dbscan_inner(core_samples, neighborhoods, Labels)\n",
    "\n",
    "    rows,cols = rows[valid_index],cols[valid_index]\n",
    "    Labeling_map = -1*np.ones_like(Foreground_map)\n",
    "    Labeling_map[rows,cols] = Labels\n",
    "    print(frame_ind)\n",
    "    time_cons.append((time.time() - ti)*1000)\n"
   ]
  },
  {
   "cell_type": "code",
   "execution_count": 118,
   "metadata": {},
   "outputs": [
    {
     "data": {
      "text/plain": [
       "17.044031143188477"
      ]
     },
     "execution_count": 118,
     "metadata": {},
     "output_type": "execute_result"
    }
   ],
   "source": [
    "np.mean(time_cons)"
   ]
  },
  {
   "cell_type": "code",
   "execution_count": 117,
   "metadata": {},
   "outputs": [
    {
     "data": {
      "text/plain": [
       "[<matplotlib.lines.Line2D at 0x7f7d52bd3410>]"
      ]
     },
     "execution_count": 117,
     "metadata": {},
     "output_type": "execute_result"
    },
    {
     "data": {
      "image/png": "[encoded data removed]",
      "text/plain": [
       "<Figure size 432x288 with 1 Axes>"
      ]
     },
     "metadata": {
      "needs_background": "light"
     },
     "output_type": "display_data"
    }
   ],
   "source": [
    "plt.plot(time_cons)"
   ]
  },
  {
   "cell_type": "code",
   "execution_count": 16,
   "metadata": {},
   "outputs": [
    {
     "data": {
      "application/vnd.jupyter.widget-view+json": {
       "model_id": "edad7e026136435caba42493707120e6",
       "version_major": 2,
       "version_minor": 0
      },
      "text/plain": [
       "JVisualizer with 1 geometries"
      ]
     },
     "metadata": {},
     "output_type": "display_data"
    }
   ],
   "source": [
    "td_freq_map = Td_map\n",
    "Xs = []\n",
    "Ys = []\n",
    "Zs = []\n",
    "Labels = []\n",
    "for i in range(td_freq_map.shape[0]):\n",
    "    longitudes = theta[i]*np.pi / 180\n",
    "    latitudes = azimuths * np.pi / 180 \n",
    "    hypotenuses = td_freq_map[i] * np.cos(longitudes)\n",
    "    X = hypotenuses * np.sin(latitudes)\n",
    "    Y = hypotenuses * np.cos(latitudes)\n",
    "    Z = td_freq_map[i] * np.sin(longitudes)\n",
    "    Valid_ind =  (td_freq_map[i] != 0)&(td_freq_map[i]<collector.thred_map[i]) # None zero index\n",
    "    Xs.append(X[Valid_ind])\n",
    "    Ys.append(Y[Valid_ind])\n",
    "    Zs.append(Z[Valid_ind])\n",
    "    Labels.append(Labeling_map[i][Valid_ind])\n",
    "\n",
    "    \n",
    "Xs = np.concatenate(Xs)\n",
    "Ys = np.concatenate(Ys)\n",
    "Zs = np.concatenate(Zs)\n",
    "Labels = np.concatenate(Labels).astype('int')\n",
    "Colors = []\n",
    "for i in range(len(Labels)):\n",
    "    Colors.append(cm.tab20(Labels[i]%20)[:3])\n",
    "Colors = np.array(Colors)\n",
    "pcd = op3.geometry.PointCloud()\n",
    "XYZ = np.concatenate([Xs.reshape(-1,1),Ys.reshape(-1,1),Zs.reshape(-1,1)],axis = 1)\n",
    "pcd.points = op3.utility.Vector3dVector(XYZ)\n",
    "pcd.colors = op3.utility.Vector3dVector(Colors)\n",
    "visualizer = JVisualizer()\n",
    "visualizer.add_geometry(pcd)\n",
    "visualizer.show()"
   ]
  },
  {
   "cell_type": "code",
   "execution_count": null,
   "metadata": {},
   "outputs": [],
   "source": []
  },
  {
   "cell_type": "code",
   "execution_count": 342,
   "metadata": {},
   "outputs": [],
   "source": [
    "Td_map = collector.td_maps[700].copy()\n",
    "Foreground_map = (Td_map < Thred_map)&(Td_map != 0)\n",
    "neighborhoods = []\n",
    "rows,cols = np.where(Foreground_map)\n",
    "indices = np.arange(len(rows),dtype = np.int64)\n",
    "Index_map = np.zeros(shape = Foreground_map.shape,dtype=np.int64)\n",
    "Index_map[rows,cols] = indices\n",
    "\n",
    "for i in range(len(rows)):\n",
    "    row,col = rows[i],cols[i]\n",
    "    neighbors = find_neighbors(row,col)\n",
    "    neighborhoods.append(neighbors)\n",
    "neighborhoods = np.array(neighborhoods,dtype='O')\n",
    "n_neighbors = np.array([len(neighbor) for neighbor in neighborhoods])\n",
    "Labels = np.full(len(n_neighbors), -1, dtype=np.intp)\n",
    "core_samples = np.asarray(n_neighbors >= min_samples,\n",
    "                          dtype=np.uint8)\n",
    "dbscan_inner(core_samples, neighborhoods, Labels)\n",
    "Labeling_map = -1*np.ones_like(Foreground_map)\n",
    "Labeling_map[rows,cols] = Labels\n",
    "time_consumption.append(1000*(time.time() - ti))"
   ]
  },
  {
   "cell_type": "code",
   "execution_count": null,
   "metadata": {},
   "outputs": [],
   "source": []
  },
  {
   "cell_type": "code",
   "execution_count": 307,
   "metadata": {},
   "outputs": [],
   "source": [
    "# %%timeit\n",
    "time_consumption = []\n",
    "for frame_ind in range(1000):\n",
    "    ti = time.time()\n",
    "    Td_map = collector.td_maps[frame_ind].copy()\n",
    "    Foreground_map = (Td_map < Thred_map)&(Td_map != 0)\n",
    "    neighborhoods = []\n",
    "    rows,cols = np.where(Foreground_map)\n",
    "    indices = np.arange(len(rows),dtype = np.int64)\n",
    "    Index_map = np.zeros(shape = Foreground_map.shape,dtype=np.int64)\n",
    "    Index_map[rows,cols] = indices\n",
    "    for i in range(len(rows)):\n",
    "        row,col = rows[i],cols[i]\n",
    "        neighbors = find_neighbors(row,col)\n",
    "        neighborhoods.append(neighbors)\n",
    "    neighborhoods = np.array(neighborhoods,dtype='O')\n",
    "    n_neighbors = np.array([len(neighbor) for neighbor in neighborhoods])\n",
    "    Labels = np.full(len(n_neighbors), -1, dtype=np.intp)\n",
    "    core_samples = np.asarray(n_neighbors >= min_samples,\n",
    "                              dtype=np.uint8)\n",
    "    dbscan_inner(core_samples, neighborhoods, Labels)\n",
    "    Labeling_map = -1*np.ones_like(Foreground_map)\n",
    "    Labeling_map[rows,cols] = Labels\n",
    "    time_consumption.append(1000*(time.time() - ti))"
   ]
  },
  {
   "cell_type": "code",
   "execution_count": 309,
   "metadata": {},
   "outputs": [
    {
     "data": {
      "text/plain": [
       "25.14003300666809"
      ]
     },
     "execution_count": 309,
     "metadata": {},
     "output_type": "execute_result"
    }
   ],
   "source": [
    "np.mean(time_consumption)"
   ]
  },
  {
   "cell_type": "code",
   "execution_count": 308,
   "metadata": {
    "scrolled": true
   },
   "outputs": [
    {
     "data": {
      "text/plain": [
       "[<matplotlib.lines.Line2D at 0x7fa6d3af7250>]"
      ]
     },
     "execution_count": 308,
     "metadata": {},
     "output_type": "execute_result"
    },
    {
     "data": {
      "image/png": "[encoded data removed]",
      "text/plain": [
       "<Figure size 432x288 with 1 Axes>"
      ]
     },
     "metadata": {
      "needs_background": "light"
     },
     "output_type": "display_data"
    }
   ],
   "source": [
    "plt.plot(time_consumption)"
   ]
  },
  {
   "cell_type": "code",
   "execution_count": 313,
   "metadata": {},
   "outputs": [
    {
     "data": {
      "application/vnd.jupyter.widget-view+json": {
       "model_id": "21f82893be1246df8a2bb5fa8e721198",
       "version_major": 2,
       "version_minor": 0
      },
      "text/plain": [
       "JVisualizer with 1 geometries"
      ]
     },
     "metadata": {},
     "output_type": "display_data"
    }
   ],
   "source": [
    "td_freq_map = Td_map\n",
    "Xs = []\n",
    "Ys = []\n",
    "Zs = []\n",
    "Labels = []\n",
    "for i in range(td_freq_map.shape[0]):\n",
    "    longitudes = theta[i]*np.pi / 180\n",
    "    latitudes = azimuths * np.pi / 180 \n",
    "    hypotenuses = td_freq_map[i] * np.cos(longitudes)\n",
    "    X = hypotenuses * np.sin(latitudes)\n",
    "    Y = hypotenuses * np.cos(latitudes)\n",
    "    Z = td_freq_map[i] * np.sin(longitudes)\n",
    "    Valid_ind =  (td_freq_map[i] != 0)&(td_freq_map[i]<collector.thred_map[i]) # None zero index\n",
    "    Xs.append(X[Valid_ind])\n",
    "    Ys.append(Y[Valid_ind])\n",
    "    Zs.append(Z[Valid_ind])\n",
    "    Labels.append(Labeling_map[i][Valid_ind])\n",
    "\n",
    "    \n",
    "Xs = np.concatenate(Xs)\n",
    "Ys = np.concatenate(Ys)\n",
    "Zs = np.concatenate(Zs)\n",
    "Labels = np.concatenate(Labels).astype('int')\n",
    "Colors = []\n",
    "for i in range(len(Labels)):\n",
    "    Colors.append(cm.tab20(Labels[i]%20)[:3])\n",
    "Colors = np.array(Colors)\n",
    "pcd = op3.geometry.PointCloud()\n",
    "XYZ = np.concatenate([Xs.reshape(-1,1),Ys.reshape(-1,1),Zs.reshape(-1,1)],axis = 1)\n",
    "pcd.points = op3.utility.Vector3dVector(XYZ)\n",
    "pcd.colors = op3.utility.Vector3dVector(Colors)\n",
    "visualizer = JVisualizer()\n",
    "visualizer.add_geometry(pcd)\n",
    "visualizer.show()"
   ]
  },
  {
   "cell_type": "code",
   "execution_count": null,
   "metadata": {},
   "outputs": [],
   "source": []
  },
  {
   "cell_type": "code",
   "execution_count": null,
   "metadata": {},
   "outputs": [],
   "source": []
  },
  {
   "cell_type": "code",
   "execution_count": 75,
   "metadata": {},
   "outputs": [],
   "source": [
    "from sklearn.cluster import DBSCAN"
   ]
  },
  {
   "cell_type": "code",
   "execution_count": 297,
   "metadata": {},
   "outputs": [],
   "source": [
    "db = DBSCAN(eps=1.3,min_samples=10)\n"
   ]
  },
  {
   "cell_type": "code",
   "execution_count": 310,
   "metadata": {},
   "outputs": [],
   "source": [
    "\n",
    "time_consumption = []\n",
    "for frame_ind in range(1000):\n",
    "    ti = time.time()\n",
    "    Td_map = collector.td_maps[frame_ind].copy()\n",
    "    td_freq_map = Td_map\n",
    "    Xs = []\n",
    "    Ys = []\n",
    "    Zs = []\n",
    "    for i in range(td_freq_map.shape[0]):\n",
    "        longitudes = theta[i]*np.pi / 180\n",
    "        latitudes = azimuths * np.pi / 180 \n",
    "        hypotenuses = td_freq_map[i] * np.cos(longitudes)\n",
    "        X = hypotenuses * np.sin(latitudes)\n",
    "        Y = hypotenuses * np.cos(latitudes)\n",
    "        Z = td_freq_map[i] * np.sin(longitudes)\n",
    "        Valid_ind =  (td_freq_map[i] != 0)&(td_freq_map[i]<collector.thred_map[i]) # None zero index\n",
    "        Xs.append(X[Valid_ind])\n",
    "        Ys.append(Y[Valid_ind])\n",
    "        Zs.append(Z[Valid_ind])\n",
    "\n",
    "    Xs = np.concatenate(Xs)\n",
    "    Ys = np.concatenate(Ys)\n",
    "    Zs = np.concatenate(Zs)\n",
    "    XYZ = np.concatenate([Xs.reshape(-1,1),Ys.reshape(-1,1),Zs.reshape(-1,1)],axis = 1)\n",
    "    Labels = db.fit_predict(XYZ)\n",
    "    time_consumption.append(1000*(time.time() - ti))"
   ]
  },
  {
   "cell_type": "code",
   "execution_count": 311,
   "metadata": {},
   "outputs": [
    {
     "data": {
      "text/plain": [
       "[<matplotlib.lines.Line2D at 0x7fa6d9f56ed0>]"
      ]
     },
     "execution_count": 311,
     "metadata": {},
     "output_type": "execute_result"
    },
    {
     "data": {
      "image/png": "[encoded data removed]",
      "text/plain": [
       "<Figure size 432x288 with 1 Axes>"
      ]
     },
     "metadata": {
      "needs_background": "light"
     },
     "output_type": "display_data"
    }
   ],
   "source": [
    "plt.plot(time_consumption)"
   ]
  },
  {
   "cell_type": "code",
   "execution_count": 312,
   "metadata": {},
   "outputs": [
    {
     "data": {
      "text/plain": [
       "18.995247840881348"
      ]
     },
     "execution_count": 312,
     "metadata": {},
     "output_type": "execute_result"
    }
   ],
   "source": [
    "np.mean(time_consumption)"
   ]
  },
  {
   "cell_type": "code",
   "execution_count": 116,
   "metadata": {},
   "outputs": [
    {
     "data": {
      "application/vnd.jupyter.widget-view+json": {
       "model_id": "198a639462e04638b0d8a34bdd0cac40",
       "version_major": 2,
       "version_minor": 0
      },
      "text/plain": [
       "JVisualizer with 1 geometries"
      ]
     },
     "metadata": {},
     "output_type": "display_data"
    }
   ],
   "source": [
    "Colors = []\n",
    "for i in range(len(Labels)):\n",
    "    Colors.append(cm.tab20(Labels[i]%20)[:3])\n",
    "Colors = np.array(Colors)\n",
    "pcd = op3.geometry.PointCloud()\n",
    "pcd.points = op3.utility.Vector3dVector(XYZ)\n",
    "pcd.colors = op3.utility.Vector3dVector(Colors)\n",
    "visualizer = JVisualizer()\n",
    "visualizer.add_geometry(pcd)\n",
    "visualizer.show()"
   ]
  }
 ],
 "metadata": {
  "kernelspec": {
   "display_name": "Python 3",
   "language": "python",
   "name": "python3"
  },
  "language_info": {
   "codemirror_mode": {
    "name": "ipython",
    "version": 3
   },
   "file_extension": ".py",
   "mimetype": "text/x-python",
   "name": "python",
   "nbconvert_exporter": "python",
   "pygments_lexer": "ipython3",
   "version": "3.7.6"
  }
 },
 "nbformat": 4,
 "nbformat_minor": 2
}
