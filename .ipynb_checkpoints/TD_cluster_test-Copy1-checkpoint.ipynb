{
 "cells": [
  {
   "cell_type": "code",
   "execution_count": 1,
   "metadata": {},
   "outputs": [],
   "source": [
    "from tqdm.notebook import tqdm\n",
    "import datetime\n",
    "import dpkt\n",
    "import numpy as np\n",
    "import matplotlib.pyplot as plt\n",
    "import os\n",
    "import open3d as op3 \n",
    "import seaborn as sns\n",
    "import pandas as pd\n",
    "import time\n",
    "from scipy.sparse.csgraph import connected_components\n",
    "import seaborn as sns\n",
    "from open3d import JVisualizer\n",
    "from BfTableGenerator import RansacCollector\n",
    "from matplotlib import cm\n",
    "theta_raw = np.array([[-25,1.4],[-1,-4.2],[-1.667,1.4],[-15.639,-1.4],\n",
    "                            [-11.31,1.4],[0,-1.4],[-0.667,4.2],[-8.843,-1.4],\n",
    "                            [-7.254,1.4],[0.333,-4.2],[-0.333,1.4],[-6.148,-1.4],\n",
    "                            [-5.333,4.2],[1.333,-1.4],[0.667,4.2],[-4,-1.4],\n",
    "                            [-4.667,1.4],[1.667,-4.2],[1,1.4],[-3.667,-4.2],\n",
    "                            [-3.333,4.2],[3.333,-1.4],[2.333,1.4],[-2.667,-1.4],\n",
    "                            [-3,1.4],[7,-1.4],[4.667,1.4],[-2.333,-4.2],\n",
    "                            [-2,4.2],[15,-1.4],[10.333,1.4],[-1.333,-1.4]\n",
    "                            ])[:,0]\n",
    "theta = np.sort(theta_raw)\n",
    "azimuths = np.arange(0,360,0.2)"
   ]
  },
  {
   "cell_type": "code",
   "execution_count": 2,
   "metadata": {},
   "outputs": [],
   "source": [
    "test_map = np.array([\n",
    "    [0,0,0,0,1,1,1,0,0,0,0],\n",
    "    [0,0,0,0,1,1,1,0,0,0,0],\n",
    "    [0,0,0,0,1,1,1,0,0,0,0],\n",
    "    [1,0,2,2,2,2,2,2,1,0,0],\n",
    "    [1,0,2,2,2,2,2,2,1,1,0],\n",
    "    [1,0,2,2,2,2,2,2,1,0,0],\n",
    "    [0,0,0,0,0,0,0,0,0,0,0],\n",
    "    [0,0,0,0,0,0,0,0,0,0,0],\n",
    "    [0,0,0,0,1,1,1,0,0,0,0],\n",
    "    [0,0,0,0,1,1,1,0,0,0,0]\n",
    "])"
   ]
  },
  {
   "cell_type": "code",
   "execution_count": 3,
   "metadata": {
    "scrolled": true
   },
   "outputs": [
    {
     "name": "stderr",
     "output_type": "stream",
     "text": [
      "  0%|          | 2/5000 [00:00<05:04, 16.41it/s]"
     ]
    },
    {
     "name": "stdout",
     "output_type": "stream",
     "text": [
      "Loading pcap...\n"
     ]
    },
    {
     "name": "stderr",
     "output_type": "stream",
     "text": [
      "100%|██████████| 5000/5000 [04:23<00:00, 18.98it/s]\n",
      "  0%|          | 0/32 [00:00<?, ?it/s]"
     ]
    },
    {
     "name": "stdout",
     "output_type": "stream",
     "text": [
      "Generating Threshold Map\n"
     ]
    },
    {
     "name": "stderr",
     "output_type": "stream",
     "text": [
      "100%|██████████| 32/32 [00:15<00:00,  2.12it/s]\n"
     ]
    }
   ],
   "source": [
    "os.chdir(r'/Users/czhui960/Documents/Lidar/RawLidarData/FrameSamplingTest')\n",
    "frame_set = np.arange(0,5000,1).astype('int')\n",
    "collector = RansacCollector(pcap_path=r'./2020-7-27-10-30-0.pcap',frames_set = frame_set)\n",
    "collector.gen_tdmap()\n",
    "collector.gen_thredmap(d = 1.2,thred_s = 0.3,N = 20,delta_thred = 1e-3,step = 0.1,inuse_frame = frame_set)\n",
    "# d = 1.2,thred_s = 0.3,N = 20,delta_thred = 1e-3,step = 0.1 FrameSampling\n"
   ]
  },
  {
   "cell_type": "markdown",
   "metadata": {},
   "source": [
    "## DDBSCAN"
   ]
  },
  {
   "cell_type": "code",
   "execution_count": 4,
   "metadata": {},
   "outputs": [],
   "source": [
    "padding = []\n",
    "size = 5 # refers to 3 x 3 window\n",
    "for row in range(1 - size,size):\n",
    "    for col in range(1 - size ,size):\n",
    "        if (row == 0) & (col == 0):\n",
    "            continue\n",
    "        else:\n",
    "            padding.append([row,col])\n",
    "padding = np.array(padding)"
   ]
  },
  {
   "cell_type": "code",
   "execution_count": 44,
   "metadata": {},
   "outputs": [],
   "source": [
    "def find_surroundings(row,col,td_map,Foreground_map):\n",
    "    surroundings = np.array([row,col]) + padding\n",
    "    if (surroundings[:,0] > td_map.shape[0]-1).any():\n",
    "        surroundings = surroundings[surroundings[:,0] <= td_map.shape[0]-1]\n",
    "    if (surroundings[:,0] < 0).any():\n",
    "        surroundings = surroundings[surroundings[:,0] >= 0]\n",
    "    if (surroundings[:,1] > td_map.shape[1]-1).any():\n",
    "        surroundings[:,1][surroundings[:,1] > td_map.shape[1]-1] = surroundings[:,1][surroundings[:,1] > td_map.shape[1]-1]%td_map.shape[0]\n",
    "    # return foreground neighbors, the center is not included in \n",
    "    return surroundings[Foreground_map[surroundings[:,0],surroundings[:,1]]]"
   ]
  },
  {
   "cell_type": "code",
   "execution_count": 65,
   "metadata": {},
   "outputs": [],
   "source": [
    "def if_core(row,col,Td_map,Foreground_map,Assigned_map,Labeling_map,cur_label):\n",
    "\n",
    "    neighbors = find_surroundings(row,col,Assigned_map,Foreground_map)# include the centeroid itself, 25 items in total\n",
    "    center_dist = Td_map[row,col]\n",
    "    neighbors_dist = Td_map[neighbors[:,0],neighbors[:,1]]\n",
    "    dists_to_center = np.abs(center_dist - neighbors_dist) #calculate dist to center among neighbors \n",
    "    reachable_neigbors = neighbors[dists_to_center < eps] # filter \n",
    "    \n",
    "    if len(reachable_neigbors) < min_samples: # if pixel is not a core point, do nothing \n",
    "        return False\n",
    "    \n",
    "    Labeling_map[row,col] = cur_label \n",
    "    Assigned_map[row,col] = False\n",
    "    # right now the pixel is a core point, assign all pixels that are neighbor as cur_label\n",
    "    Labeling_map[reachable_neigbors[:,0],reachable_neigbors[:,1]] = cur_label \n",
    "    Assigned_map[reachable_neigbors[:,0],reachable_neigbors[:,1]] = False \n",
    "    # push the neighbors into stack\n",
    "    Stack = reachable_neigbors.tolist()\n",
    "    \n",
    "    while len(Stack) != 0:\n",
    "        cur_row,cur_col = Stack.pop()\n",
    "        neighbors = find_surroundings(cur_row,cur_col,Assigned_map,Foreground_map)# include the centeroid 25 items\n",
    "        center_dist = Td_map[cur_row,cur_col]\n",
    "        neighbors_dist = Td_map[neighbors[:,0],neighbors[:,1]]\n",
    "        dists_to_center = np.abs(center_dist - neighbors_dist) #calculate dist to center among neighbors \n",
    "        reachable_neigbors = neighbors[dists_to_center < eps] # filter\n",
    "        if len(reachable_neigbors) >= min_samples:\n",
    "            \n",
    "            Unassigned_neigbors = reachable_neigbors[Assigned_map[reachable_neigbors[:,0],reachable_neigbors[:,1]]]\n",
    "            Labeling_map[Unassigned_neigbors[:,0],Unassigned_neigbors[:,1]] = cur_label \n",
    "            Stack.extend(Unassigned_neigbors)\n",
    "            Assigned_map[Unassigned_neigbors[:,0],Unassigned_neigbors[:,1]] = False \n",
    "            \n",
    "    return True\n",
    "    \n",
    "    "
   ]
  },
  {
   "cell_type": "markdown",
   "metadata": {},
   "source": [
    "## Try on 0427 "
   ]
  },
  {
   "cell_type": "code",
   "execution_count": 74,
   "metadata": {},
   "outputs": [
    {
     "name": "stdout",
     "output_type": "stream",
     "text": [
      "187 ms ± 1.1 ms per loop (mean ± std. dev. of 7 runs, 10 loops each)\n"
     ]
    }
   ],
   "source": [
    "%%timeit\n",
    "eps = 1.5\n",
    "min_samples = 12\n",
    "NOISE = int(-1)\n",
    "\"\"\"\n",
    "Parameters\n",
    "\"\"\"\n",
    "\n",
    "Thred_map = collector.thred_map\n",
    "Td_map = collector.td_maps[650].copy()\n",
    "Foreground_map = (Td_map < Thred_map)&(Td_map != 0)\n",
    "Labeling_map = NOISE*np.ones_like(Foreground_map)\n",
    "Assigned_map = Foreground_map.copy()\n",
    "cur_label = 0\n",
    "for row in range(Foreground_map.shape[0]):\n",
    "    for col in range(Foreground_map.shape[1]):\n",
    "        if Assigned_map[row,col]: # if pixel already assigned a label, do nothing\n",
    "#             print(row,col)\n",
    "            if if_core(row,col,Td_map,Foreground_map,Assigned_map,Labeling_map,cur_label):  \n",
    "                cur_label += 1"
   ]
  },
  {
   "cell_type": "code",
   "execution_count": 69,
   "metadata": {},
   "outputs": [
    {
     "data": {
      "application/vnd.jupyter.widget-view+json": {
       "model_id": "6a9d8b45896e4e03a0daf9f358b070f6",
       "version_major": 2,
       "version_minor": 0
      },
      "text/plain": [
       "JVisualizer with 1 geometries"
      ]
     },
     "metadata": {},
     "output_type": "display_data"
    }
   ],
   "source": [
    "# %%timeit\n",
    "# 580\n",
    "eps = 1\n",
    "min_samples = 12\n",
    "NOISE = int(-1)\n",
    "\"\"\"\n",
    "Parameters\n",
    "\"\"\"\n",
    "\n",
    "Thred_map = collector.thred_map\n",
    "Td_map = collector.td_maps[700].copy()\n",
    "Foreground_map = (Td_map < Thred_map)&(Td_map != 0)\n",
    "Labeling_map = NOISE*np.ones_like(Foreground_map)\n",
    "Assigned_map = Foreground_map.copy()\n",
    "cur_label = 0\n",
    "for row in range(Foreground_map.shape[0]):\n",
    "    for col in range(Foreground_map.shape[1]):\n",
    "        if Assigned_map[row,col]: # if pixel already assigned a label, do nothing\n",
    "            if if_core(row,col,Td_map,Foreground_map,Assigned_map,Labeling_map,cur_label):  \n",
    "                cur_label += 1\n",
    "\n",
    "                \n",
    "td_freq_map = Td_map\n",
    "Xs = []\n",
    "Ys = []\n",
    "Zs = []\n",
    "Labels = []\n",
    "for i in range(td_freq_map.shape[0]):\n",
    "    longitudes = theta[i]*np.pi / 180\n",
    "    latitudes = azimuths * np.pi / 180 \n",
    "    hypotenuses = td_freq_map[i] * np.cos(longitudes)\n",
    "    X = hypotenuses * np.sin(latitudes)\n",
    "    Y = hypotenuses * np.cos(latitudes)\n",
    "    Z = td_freq_map[i] * np.sin(longitudes)\n",
    "    Valid_ind =  (td_freq_map[i] != 0)&(td_freq_map[i]<collector.thred_map[i]) # None zero index\n",
    "    Xs.append(X[Valid_ind])\n",
    "    Ys.append(Y[Valid_ind])\n",
    "    Zs.append(Z[Valid_ind])\n",
    "    Labels.append(Labeling_map[i][Valid_ind])\n",
    "\n",
    "    \n",
    "Xs = np.concatenate(Xs)\n",
    "Ys = np.concatenate(Ys)\n",
    "Zs = np.concatenate(Zs)\n",
    "Labels = np.concatenate(Labels).astype('int')\n",
    "Colors = []\n",
    "for i in range(len(Labels)):\n",
    "    Colors.append(cm.tab20(Labels[i]%20)[:3])\n",
    "Colors = np.array(Colors)\n",
    "pcd = op3.geometry.PointCloud()\n",
    "XYZ = np.concatenate([Xs.reshape(-1,1),Ys.reshape(-1,1),Zs.reshape(-1,1)],axis = 1)\n",
    "pcd.points = op3.utility.Vector3dVector(XYZ)\n",
    "pcd.colors = op3.utility.Vector3dVector(Colors)\n",
    "visualizer = JVisualizer()\n",
    "visualizer.add_geometry(pcd)\n",
    "visualizer.show()"
   ]
  },
  {
   "cell_type": "code",
   "execution_count": 70,
   "metadata": {},
   "outputs": [],
   "source": [
    "from sklearn.neighbors import KDTree"
   ]
  },
  {
   "cell_type": "code",
   "execution_count": 24,
   "metadata": {},
   "outputs": [],
   "source": [
    "tree = KDTree(XYZ, leaf_size=2)              "
   ]
  },
  {
   "cell_type": "code",
   "execution_count": 36,
   "metadata": {},
   "outputs": [
    {
     "name": "stdout",
     "output_type": "stream",
     "text": [
      "107 µs ± 4.21 µs per loop (mean ± std. dev. of 7 runs, 10000 loops each)\n"
     ]
    }
   ],
   "source": [
    "%%timeit\n",
    "ind = tree.query_radius(XYZ[:1], r=1.5)  "
   ]
  },
  {
   "cell_type": "code",
   "execution_count": 4,
   "metadata": {},
   "outputs": [],
   "source": [
    "Thred_map = collector.thred_map\n",
    "Td_map = collector.td_maps[581].copy()\n",
    "Foreground_map = (Td_map < Thred_map)&(Td_map != 0)\n",
    "Labeling_map = -1*np.ones_like(Foreground_map)\n",
    "Assigned_map = Foreground_map.copy()"
   ]
  },
  {
   "cell_type": "code",
   "execution_count": 37,
   "metadata": {},
   "outputs": [
    {
     "name": "stdout",
     "output_type": "stream",
     "text": [
      "16 µs ± 61.7 ns per loop (mean ± std. dev. of 7 runs, 100000 loops each)\n"
     ]
    }
   ],
   "source": [
    "%%timeit\n",
    "neighbors = find_surroundings(0,337,Assigned_map)"
   ]
  },
  {
   "cell_type": "markdown",
   "metadata": {},
   "source": [
    "## TRADITIONAL DBSCAN"
   ]
  },
  {
   "cell_type": "code",
   "execution_count": 51,
   "metadata": {},
   "outputs": [],
   "source": [
    "from sklearn.cluster import DBSCAN"
   ]
  },
  {
   "cell_type": "code",
   "execution_count": 310,
   "metadata": {},
   "outputs": [],
   "source": [
    "db = DBSCAN(eps=1.3,min_samples=10)\n"
   ]
  },
  {
   "cell_type": "code",
   "execution_count": 5,
   "metadata": {},
   "outputs": [],
   "source": [
    "\n",
    "td_freq_map = Td_map\n",
    "Xs = []\n",
    "Ys = []\n",
    "Zs = []\n",
    "for i in range(td_freq_map.shape[0]):\n",
    "    longitudes = theta[i]*np.pi / 180\n",
    "    latitudes = azimuths * np.pi / 180 \n",
    "    hypotenuses = td_freq_map[i] * np.cos(longitudes)\n",
    "    X = hypotenuses * np.sin(latitudes)\n",
    "    Y = hypotenuses * np.cos(latitudes)\n",
    "    Z = td_freq_map[i] * np.sin(longitudes)\n",
    "    Valid_ind =  (td_freq_map[i] != 0)&(td_freq_map[i]<collector.thred_map[i]) # None zero index\n",
    "    Xs.append(X[Valid_ind])\n",
    "    Ys.append(Y[Valid_ind])\n",
    "    Zs.append(Z[Valid_ind])\n",
    "    \n",
    "Xs = np.concatenate(Xs)\n",
    "Ys = np.concatenate(Ys)\n",
    "Zs = np.concatenate(Zs)\n",
    "XYZ = np.concatenate([Xs.reshape(-1,1),Ys.reshape(-1,1),Zs.reshape(-1,1)],axis = 1)\n"
   ]
  },
  {
   "cell_type": "code",
   "execution_count": 318,
   "metadata": {},
   "outputs": [
    {
     "name": "stdout",
     "output_type": "stream",
     "text": [
      "46.4 ms ± 378 µs per loop (mean ± std. dev. of 7 runs, 10 loops each)\n"
     ]
    }
   ],
   "source": [
    "%%timeit\n",
    "Labels = db.fit_predict(XYZ)"
   ]
  },
  {
   "cell_type": "code",
   "execution_count": 94,
   "metadata": {},
   "outputs": [
    {
     "data": {
      "application/vnd.jupyter.widget-view+json": {
       "model_id": "f888aab42d0d4562a978c2b284dbb35e",
       "version_major": 2,
       "version_minor": 0
      },
      "text/plain": [
       "JVisualizer with 1 geometries"
      ]
     },
     "metadata": {},
     "output_type": "display_data"
    }
   ],
   "source": [
    "Colors = []\n",
    "for i in range(len(Labels)):\n",
    "    Colors.append(cm.tab20(Labels[i]%20)[:3])\n",
    "Colors = np.array(Colors)\n",
    "pcd = op3.geometry.PointCloud()\n",
    "pcd.points = op3.utility.Vector3dVector(XYZ)\n",
    "pcd.colors = op3.utility.Vector3dVector(Colors)\n",
    "visualizer = JVisualizer()\n",
    "visualizer.add_geometry(pcd)\n",
    "visualizer.show()"
   ]
  },
  {
   "cell_type": "markdown",
   "metadata": {},
   "source": [
    "## try 0510"
   ]
  },
  {
   "cell_type": "code",
   "execution_count": 6,
   "metadata": {},
   "outputs": [],
   "source": [
    "from sklearn.neighbors import NearestNeighbors\n",
    "from sklearn.cluster._dbscan_inner import dbscan_inner\n",
    "from numpy.lib.stride_tricks import sliding_window_view\n",
    "from joblib import Parallel, delayed\n"
   ]
  },
  {
   "cell_type": "markdown",
   "metadata": {},
   "source": [
    "## Prototype"
   ]
  },
  {
   "cell_type": "code",
   "execution_count": 98,
   "metadata": {},
   "outputs": [],
   "source": [
    "window_size = (5,5)\n",
    "eps = 1.5\n",
    "min_samples = 10\n",
    "Thred_map = collector.thred_map"
   ]
  },
  {
   "cell_type": "code",
   "execution_count": 111,
   "metadata": {},
   "outputs": [
    {
     "name": "stdout",
     "output_type": "stream",
     "text": [
      "21.299123764038086\n"
     ]
    }
   ],
   "source": [
    "ti = time.time()\n",
    "Td_map = collector.td_maps[700].copy()\n",
    "Foreground_map = (Td_map < Thred_map)&(Td_map != 0)\n",
    "# load Foreground and Td distance matrix \n",
    "rows,cols = np.where(Foreground_map)\n",
    "indices = np.arange(len(rows),dtype = np.int64)\n",
    "Index_map = -1*np.ones(shape = Foreground_map.shape,dtype=np.int64)\n",
    "Index_map[rows,cols] = indices \n",
    "Foreground_map_offset = np.concatenate([Foreground_map[:,-int(window_size[0]/2):],Foreground_map,Foreground_map[:,:int(window_size[0]/2)]],axis = 1)\n",
    "Index_map_offset = np.concatenate([Index_map[:,-int(window_size[0]/2):],Index_map,Index_map[:,:int(window_size[0]/2)]],axis = 1)\n",
    "Td_map_offset = np.concatenate([Td_map[:,-int(window_size[0]/2):],Td_map,Td_map[:,:int(window_size[0]/2)]],axis = 1)\n",
    "\n",
    "Sub_indmap = sliding_window_view(Index_map_offset,window_size).reshape(-1,window_size[0],window_size[1])\n",
    "Sub_tdmap = sliding_window_view(Td_map_offset,window_size).reshape(-1,window_size[0],window_size[1])\n",
    "Sub_foremap = sliding_window_view(Foreground_map_offset,window_size).reshape(-1,window_size[0],window_size[1])\n",
    "\n",
    "\n",
    "# Window inds that are valid as Foregound, and only \n",
    "valid_windows = Sub_foremap[:,int(window_size[0]/2),int(window_size[1]/2)] \n",
    "Sub_indmap,Sub_foremap,Sub_tdmap = Sub_indmap[valid_windows],Sub_foremap[valid_windows],Sub_tdmap[valid_windows]\n",
    "\n",
    "\n",
    "center_td_dist = Sub_tdmap[:,int(window_size[0]/2),int(window_size[1]/2)]\n",
    "valid_index = Sub_indmap[:,int(window_size[0]/2),int(window_size[1]/2)]\n",
    "temp = ((np.abs((Sub_tdmap - center_td_dist.reshape(-1,1,1))) < eps) & Sub_foremap)\n",
    "neighborhoods = np.array([Sub_indmap[i][temp[i]] for i in range(len(temp))],dtype = 'O')\n",
    "n_neighbors = np.array([len(neighbor) for neighbor in neighborhoods])\n",
    "Labels = np.full(len(n_neighbors), -1, dtype=np.intp)\n",
    "core_samples = np.asarray(n_neighbors >= min_samples,\n",
    "                          dtype=np.uint8)\n",
    "dbscan_inner(core_samples, neighborhoods, Labels)\n",
    "\n",
    "rows,cols = rows[valid_index],cols[valid_index]\n",
    "Labeling_map = -1*np.ones_like(Foreground_map)\n",
    "Labeling_map[rows,cols] = Labels\n",
    "\n",
    "# roll over check \n",
    "roll_over_check = (Labeling_map[:,0] == Labeling_map[:,-1])&(Labeling_map[:,-1] != -1)&(Labeling_map[:,0] != -1)\n",
    "if True in roll_over_check:\n",
    "    print(frame_id)\n",
    "print((time.time() - ti)*1000)\n",
    "# time_consumption.append(time.time() - ti)"
   ]
  },
  {
   "cell_type": "code",
   "execution_count": 112,
   "metadata": {},
   "outputs": [
    {
     "data": {
      "application/vnd.jupyter.widget-view+json": {
       "model_id": "0c631a5d80e24c0083ad191b2d9f0d58",
       "version_major": 2,
       "version_minor": 0
      },
      "text/plain": [
       "JVisualizer with 1 geometries"
      ]
     },
     "metadata": {},
     "output_type": "display_data"
    }
   ],
   "source": [
    "td_freq_map = Td_map\n",
    "Xs = []\n",
    "Ys = []\n",
    "Zs = []\n",
    "Labels = []\n",
    "for i in range(td_freq_map.shape[0]):\n",
    "    longitudes = theta[i]*np.pi / 180\n",
    "    latitudes = azimuths * np.pi / 180 \n",
    "    hypotenuses = td_freq_map[i] * np.cos(longitudes)\n",
    "    X = hypotenuses * np.sin(latitudes)\n",
    "    Y = hypotenuses * np.cos(latitudes)\n",
    "    Z = td_freq_map[i] * np.sin(longitudes)\n",
    "    Valid_ind =  (td_freq_map[i] != 0)&(td_freq_map[i]<collector.thred_map[i]) # None zero index\n",
    "    Xs.append(X[Valid_ind])\n",
    "    Ys.append(Y[Valid_ind])\n",
    "    Zs.append(Z[Valid_ind])\n",
    "    Labels.append(Labeling_map[i][Valid_ind])\n",
    "\n",
    "    \n",
    "Xs = np.concatenate(Xs)\n",
    "Ys = np.concatenate(Ys)\n",
    "Zs = np.concatenate(Zs)\n",
    "Labels = np.concatenate(Labels).astype('int')\n",
    "Colors = []\n",
    "for i in range(len(Labels)):\n",
    "    Colors.append(cm.tab20(Labels[i]%20)[:3])\n",
    "Colors = np.array(Colors)\n",
    "pcd = op3.geometry.PointCloud()\n",
    "XYZ = np.concatenate([Xs.reshape(-1,1),Ys.reshape(-1,1),Zs.reshape(-1,1)],axis = 1)\n",
    "pcd.points = op3.utility.Vector3dVector(XYZ)\n",
    "pcd.colors = op3.utility.Vector3dVector(Colors)\n",
    "visualizer = JVisualizer()\n",
    "visualizer.add_geometry(pcd)\n",
    "visualizer.show()"
   ]
  },
  {
   "cell_type": "code",
   "execution_count": null,
   "metadata": {},
   "outputs": [],
   "source": []
  },
  {
   "cell_type": "code",
   "execution_count": 342,
   "metadata": {},
   "outputs": [],
   "source": [
    "Td_map = collector.td_maps[700].copy()\n",
    "Foreground_map = (Td_map < Thred_map)&(Td_map != 0)\n",
    "neighborhoods = []\n",
    "rows,cols = np.where(Foreground_map)\n",
    "indices = np.arange(len(rows),dtype = np.int64)\n",
    "Index_map = np.zeros(shape = Foreground_map.shape,dtype=np.int64)\n",
    "Index_map[rows,cols] = indices\n",
    "\n",
    "for i in range(len(rows)):\n",
    "    row,col = rows[i],cols[i]\n",
    "    neighbors = find_neighbors(row,col)\n",
    "    neighborhoods.append(neighbors)\n",
    "neighborhoods = np.array(neighborhoods,dtype='O')\n",
    "n_neighbors = np.array([len(neighbor) for neighbor in neighborhoods])\n",
    "Labels = np.full(len(n_neighbors), -1, dtype=np.intp)\n",
    "core_samples = np.asarray(n_neighbors >= min_samples,\n",
    "                          dtype=np.uint8)\n",
    "dbscan_inner(core_samples, neighborhoods, Labels)\n",
    "Labeling_map = -1*np.ones_like(Foreground_map)\n",
    "Labeling_map[rows,cols] = Labels\n",
    "time_consumption.append(1000*(time.time() - ti))"
   ]
  },
  {
   "cell_type": "code",
   "execution_count": null,
   "metadata": {},
   "outputs": [],
   "source": []
  },
  {
   "cell_type": "code",
   "execution_count": 307,
   "metadata": {},
   "outputs": [],
   "source": [
    "# %%timeit\n",
    "time_consumption = []\n",
    "for frame_ind in range(1000):\n",
    "    ti = time.time()\n",
    "    Td_map = collector.td_maps[frame_ind].copy()\n",
    "    Foreground_map = (Td_map < Thred_map)&(Td_map != 0)\n",
    "    neighborhoods = []\n",
    "    rows,cols = np.where(Foreground_map)\n",
    "    indices = np.arange(len(rows),dtype = np.int64)\n",
    "    Index_map = np.zeros(shape = Foreground_map.shape,dtype=np.int64)\n",
    "    Index_map[rows,cols] = indices\n",
    "    for i in range(len(rows)):\n",
    "        row,col = rows[i],cols[i]\n",
    "        neighbors = find_neighbors(row,col)\n",
    "        neighborhoods.append(neighbors)\n",
    "    neighborhoods = np.array(neighborhoods,dtype='O')\n",
    "    n_neighbors = np.array([len(neighbor) for neighbor in neighborhoods])\n",
    "    Labels = np.full(len(n_neighbors), -1, dtype=np.intp)\n",
    "    core_samples = np.asarray(n_neighbors >= min_samples,\n",
    "                              dtype=np.uint8)\n",
    "    dbscan_inner(core_samples, neighborhoods, Labels)\n",
    "    Labeling_map = -1*np.ones_like(Foreground_map)\n",
    "    Labeling_map[rows,cols] = Labels\n",
    "    time_consumption.append(1000*(time.time() - ti))"
   ]
  },
  {
   "cell_type": "code",
   "execution_count": 309,
   "metadata": {},
   "outputs": [
    {
     "data": {
      "text/plain": [
       "25.14003300666809"
      ]
     },
     "execution_count": 309,
     "metadata": {},
     "output_type": "execute_result"
    }
   ],
   "source": [
    "np.mean(time_consumption)"
   ]
  },
  {
   "cell_type": "code",
   "execution_count": 308,
   "metadata": {
    "scrolled": true
   },
   "outputs": [
    {
     "data": {
      "text/plain": [
       "[<matplotlib.lines.Line2D at 0x7fa6d3af7250>]"
      ]
     },
     "execution_count": 308,
     "metadata": {},
     "output_type": "execute_result"
    },
    {
     "data": {
      "image/png": "[encoded data removed]",
      "text/plain": [
       "<Figure size 432x288 with 1 Axes>"
      ]
     },
     "metadata": {
      "needs_background": "light"
     },
     "output_type": "display_data"
    }
   ],
   "source": [
    "plt.plot(time_consumption)"
   ]
  },
  {
   "cell_type": "code",
   "execution_count": 313,
   "metadata": {},
   "outputs": [
    {
     "data": {
      "application/vnd.jupyter.widget-view+json": {
       "model_id": "21f82893be1246df8a2bb5fa8e721198",
       "version_major": 2,
       "version_minor": 0
      },
      "text/plain": [
       "JVisualizer with 1 geometries"
      ]
     },
     "metadata": {},
     "output_type": "display_data"
    }
   ],
   "source": [
    "td_freq_map = Td_map\n",
    "Xs = []\n",
    "Ys = []\n",
    "Zs = []\n",
    "Labels = []\n",
    "for i in range(td_freq_map.shape[0]):\n",
    "    longitudes = theta[i]*np.pi / 180\n",
    "    latitudes = azimuths * np.pi / 180 \n",
    "    hypotenuses = td_freq_map[i] * np.cos(longitudes)\n",
    "    X = hypotenuses * np.sin(latitudes)\n",
    "    Y = hypotenuses * np.cos(latitudes)\n",
    "    Z = td_freq_map[i] * np.sin(longitudes)\n",
    "    Valid_ind =  (td_freq_map[i] != 0)&(td_freq_map[i]<collector.thred_map[i]) # None zero index\n",
    "    Xs.append(X[Valid_ind])\n",
    "    Ys.append(Y[Valid_ind])\n",
    "    Zs.append(Z[Valid_ind])\n",
    "    Labels.append(Labeling_map[i][Valid_ind])\n",
    "\n",
    "    \n",
    "Xs = np.concatenate(Xs)\n",
    "Ys = np.concatenate(Ys)\n",
    "Zs = np.concatenate(Zs)\n",
    "Labels = np.concatenate(Labels).astype('int')\n",
    "Colors = []\n",
    "for i in range(len(Labels)):\n",
    "    Colors.append(cm.tab20(Labels[i]%20)[:3])\n",
    "Colors = np.array(Colors)\n",
    "pcd = op3.geometry.PointCloud()\n",
    "XYZ = np.concatenate([Xs.reshape(-1,1),Ys.reshape(-1,1),Zs.reshape(-1,1)],axis = 1)\n",
    "pcd.points = op3.utility.Vector3dVector(XYZ)\n",
    "pcd.colors = op3.utility.Vector3dVector(Colors)\n",
    "visualizer = JVisualizer()\n",
    "visualizer.add_geometry(pcd)\n",
    "visualizer.show()"
   ]
  },
  {
   "cell_type": "code",
   "execution_count": null,
   "metadata": {},
   "outputs": [],
   "source": []
  },
  {
   "cell_type": "code",
   "execution_count": null,
   "metadata": {},
   "outputs": [],
   "source": []
  },
  {
   "cell_type": "code",
   "execution_count": 75,
   "metadata": {},
   "outputs": [],
   "source": [
    "from sklearn.cluster import DBSCAN"
   ]
  },
  {
   "cell_type": "code",
   "execution_count": 297,
   "metadata": {},
   "outputs": [],
   "source": [
    "db = DBSCAN(eps=1.3,min_samples=10)\n"
   ]
  },
  {
   "cell_type": "code",
   "execution_count": 310,
   "metadata": {},
   "outputs": [],
   "source": [
    "\n",
    "time_consumption = []\n",
    "for frame_ind in range(1000):\n",
    "    ti = time.time()\n",
    "    Td_map = collector.td_maps[frame_ind].copy()\n",
    "    td_freq_map = Td_map\n",
    "    Xs = []\n",
    "    Ys = []\n",
    "    Zs = []\n",
    "    for i in range(td_freq_map.shape[0]):\n",
    "        longitudes = theta[i]*np.pi / 180\n",
    "        latitudes = azimuths * np.pi / 180 \n",
    "        hypotenuses = td_freq_map[i] * np.cos(longitudes)\n",
    "        X = hypotenuses * np.sin(latitudes)\n",
    "        Y = hypotenuses * np.cos(latitudes)\n",
    "        Z = td_freq_map[i] * np.sin(longitudes)\n",
    "        Valid_ind =  (td_freq_map[i] != 0)&(td_freq_map[i]<collector.thred_map[i]) # None zero index\n",
    "        Xs.append(X[Valid_ind])\n",
    "        Ys.append(Y[Valid_ind])\n",
    "        Zs.append(Z[Valid_ind])\n",
    "\n",
    "    Xs = np.concatenate(Xs)\n",
    "    Ys = np.concatenate(Ys)\n",
    "    Zs = np.concatenate(Zs)\n",
    "    XYZ = np.concatenate([Xs.reshape(-1,1),Ys.reshape(-1,1),Zs.reshape(-1,1)],axis = 1)\n",
    "    Labels = db.fit_predict(XYZ)\n",
    "    time_consumption.append(1000*(time.time() - ti))"
   ]
  },
  {
   "cell_type": "code",
   "execution_count": 311,
   "metadata": {},
   "outputs": [
    {
     "data": {
      "text/plain": [
       "[<matplotlib.lines.Line2D at 0x7fa6d9f56ed0>]"
      ]
     },
     "execution_count": 311,
     "metadata": {},
     "output_type": "execute_result"
    },
    {
     "data": {
      "image/png": "[encoded data removed]",
      "text/plain": [
       "<Figure size 432x288 with 1 Axes>"
      ]
     },
     "metadata": {
      "needs_background": "light"
     },
     "output_type": "display_data"
    }
   ],
   "source": [
    "plt.plot(time_consumption)"
   ]
  },
  {
   "cell_type": "code",
   "execution_count": 312,
   "metadata": {},
   "outputs": [
    {
     "data": {
      "text/plain": [
       "18.995247840881348"
      ]
     },
     "execution_count": 312,
     "metadata": {},
     "output_type": "execute_result"
    }
   ],
   "source": [
    "np.mean(time_consumption)"
   ]
  },
  {
   "cell_type": "code",
   "execution_count": 116,
   "metadata": {},
   "outputs": [
    {
     "data": {
      "application/vnd.jupyter.widget-view+json": {
       "model_id": "198a639462e04638b0d8a34bdd0cac40",
       "version_major": 2,
       "version_minor": 0
      },
      "text/plain": [
       "JVisualizer with 1 geometries"
      ]
     },
     "metadata": {},
     "output_type": "display_data"
    }
   ],
   "source": [
    "Colors = []\n",
    "for i in range(len(Labels)):\n",
    "    Colors.append(cm.tab20(Labels[i]%20)[:3])\n",
    "Colors = np.array(Colors)\n",
    "pcd = op3.geometry.PointCloud()\n",
    "pcd.points = op3.utility.Vector3dVector(XYZ)\n",
    "pcd.colors = op3.utility.Vector3dVector(Colors)\n",
    "visualizer = JVisualizer()\n",
    "visualizer.add_geometry(pcd)\n",
    "visualizer.show()"
   ]
  }
 ],
 "metadata": {
  "kernelspec": {
   "display_name": "Python 3",
   "language": "python",
   "name": "python3"
  },
  "language_info": {
   "codemirror_mode": {
    "name": "ipython",
    "version": 3
   },
   "file_extension": ".py",
   "mimetype": "text/x-python",
   "name": "python",
   "nbconvert_exporter": "python",
   "pygments_lexer": "ipython3",
   "version": "3.7.6"
  }
 },
 "nbformat": 4,
 "nbformat_minor": 2
}
