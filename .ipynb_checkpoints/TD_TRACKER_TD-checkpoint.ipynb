{
 "cells": [
  {
   "cell_type": "code",
   "execution_count": 4,
   "metadata": {},
   "outputs": [],
   "source": [
    "from tqdm.notebook import tqdm\n",
    "import datetime\n",
    "import dpkt\n",
    "import numpy as np\n",
    "import matplotlib.pyplot as plt\n",
    "import os\n",
    "import open3d as op3 \n",
    "import pandas as pd\n",
    "import time\n",
    "from scipy.sparse.csgraph import connected_components\n",
    "from open3d import JVisualizer\n",
    "from BfTableGenerator import RansacCollector\n",
    "from matplotlib import cm\n",
    "from sklearn.cluster._dbscan_inner import dbscan_inner\n",
    "from numpy.lib.stride_tricks import sliding_window_view\n",
    "from DDBSCAN import Raster_DBSCAN\n",
    "from scipy import ndimage \n",
    "import cv2\n",
    "from scipy.optimize import linear_sum_assignment\n",
    "\n",
    "theta_raw = np.array([[-25,1.4],[-1,-4.2],[-1.667,1.4],[-15.639,-1.4],\n",
    "                            [-11.31,1.4],[0,-1.4],[-0.667,4.2],[-8.843,-1.4],\n",
    "                            [-7.254,1.4],[0.333,-4.2],[-0.333,1.4],[-6.148,-1.4],\n",
    "                            [-5.333,4.2],[1.333,-1.4],[0.667,4.2],[-4,-1.4],\n",
    "                            [-4.667,1.4],[1.667,-4.2],[1,1.4],[-3.667,-4.2],\n",
    "                            [-3.333,4.2],[3.333,-1.4],[2.333,1.4],[-2.667,-1.4],\n",
    "                            [-3,1.4],[7,-1.4],[4.667,1.4],[-2.333,-4.2],\n",
    "                            [-2,4.2],[15,-1.4],[10.333,1.4],[-1.333,-1.4]\n",
    "                            ])[:,0]\n",
    "theta = np.sort(theta_raw)\n",
    "azimuths = np.arange(0,360,0.2)"
   ]
  },
  {
   "cell_type": "code",
   "execution_count": 398,
   "metadata": {},
   "outputs": [],
   "source": [
    "np.set_printoptions(suppress=True)"
   ]
  },
  {
   "cell_type": "code",
   "execution_count": 5,
   "metadata": {
    "scrolled": false
   },
   "outputs": [
    {
     "name": "stderr",
     "output_type": "stream",
     "text": [
      "  0%|          | 2/5000 [00:00<04:39, 17.90it/s]"
     ]
    },
    {
     "name": "stdout",
     "output_type": "stream",
     "text": [
      "Loading pcap...\n"
     ]
    },
    {
     "name": "stderr",
     "output_type": "stream",
     "text": [
      "100%|██████████| 5000/5000 [03:46<00:00, 22.10it/s]\n",
      "  0%|          | 0/32 [00:00<?, ?it/s]"
     ]
    },
    {
     "name": "stdout",
     "output_type": "stream",
     "text": [
      "Generating Threshold Map\n"
     ]
    },
    {
     "name": "stderr",
     "output_type": "stream",
     "text": [
      "100%|██████████| 32/32 [00:16<00:00,  1.97it/s]\n"
     ]
    }
   ],
   "source": [
    "os.chdir(r'/Users/czhui960/Documents/Lidar/RawLidarData/FrameSamplingTest')\n",
    "frame_set = np.arange(0,5000,1).astype('int')\n",
    "collector = RansacCollector(pcap_path=r'./2020-7-27-10-30-0.pcap',frames_set = frame_set)\n",
    "collector.gen_tdmap()\n",
    "collector.gen_thredmap(d = 1.2,thred_s = 0.3,N = 20,delta_thred = 1e-3,step = 0.1,inuse_frame = frame_set)\n",
    "# d = 1.2,thred_s = 0.3,N = 20,delta_thred = 1e-3,step = 0.1 FrameSampling\n"
   ]
  },
  {
   "cell_type": "code",
   "execution_count": 6,
   "metadata": {},
   "outputs": [],
   "source": [
    "Thred_map = collector.thred_map\n",
    "db = Raster_DBSCAN(window_size=(5,13),eps = 1.5, min_samples= 16,Td_map_szie=Thred_map.shape)"
   ]
  },
  {
   "cell_type": "code",
   "execution_count": 7,
   "metadata": {},
   "outputs": [
    {
     "data": {
      "application/vnd.jupyter.widget-view+json": {
       "model_id": "36544796cfd74224b281dc103b27b877",
       "version_major": 2,
       "version_minor": 0
      },
      "text/plain": [
       "HBox(children=(HTML(value=''), FloatProgress(value=0.0, max=2000.0), HTML(value='')))"
      ]
     },
     "metadata": {},
     "output_type": "display_data"
    },
    {
     "name": "stdout",
     "output_type": "stream",
     "text": [
      "\n"
     ]
    }
   ],
   "source": [
    "Td_maps = []\n",
    "Labeling_maps = []\n",
    "Time_consumings = []\n",
    "for i in tqdm(range(2000)):\n",
    "    ti = time.time()\n",
    "    Td_map = collector.td_maps[i].copy()\n",
    "    Foreground_map = (Td_map < Thred_map)&(Td_map != 0)\n",
    "    Labeling_map = db.fit_predict(Td_map= Td_map,Foreground_map=Foreground_map)\n",
    "    Td_maps.append(Td_map)\n",
    "    Labeling_maps.append(Labeling_map)\n",
    "    Time_consumings.append((time.time() - ti)*1000)"
   ]
  },
  {
   "cell_type": "markdown",
   "metadata": {},
   "source": [
    "# Kalman Filter "
   ]
  },
  {
   "cell_type": "code",
   "execution_count": 993,
   "metadata": {},
   "outputs": [],
   "source": [
    "test = Labeling_maps[591].copy()\n",
    "mask = test == 1"
   ]
  },
  {
   "cell_type": "code",
   "execution_count": 998,
   "metadata": {},
   "outputs": [],
   "source": [
    "temp = np.zeros_like(mask)\n",
    "temp[:,:900] = mask[:,900:]\n",
    "temp[:,900:] = mask[:,:900]\n",
    "x,y,w,h = cv2.boundingRect(temp.astype(np.uint8))\n",
    "x += 900"
   ]
  },
  {
   "cell_type": "code",
   "execution_count": 999,
   "metadata": {},
   "outputs": [
    {
     "data": {
      "text/plain": [
       "1791"
      ]
     },
     "execution_count": 999,
     "metadata": {},
     "output_type": "execute_result"
    }
   ],
   "source": [
    "x"
   ]
  },
  {
   "cell_type": "code",
   "execution_count": null,
   "metadata": {},
   "outputs": [],
   "source": []
  },
  {
   "cell_type": "code",
   "execution_count": 991,
   "metadata": {},
   "outputs": [],
   "source": [
    "def is_roll_over(mask):\n",
    "    \"\"\"\n",
    "    Check if the mask has roll over problem \n",
    "    \"\"\"\n",
    "    \n",
    "    flag = False\n",
    "    for row in mask:\n",
    "        if row[-1] & row[0]:\n",
    "            flag = True\n",
    "            break \n",
    "    return flag"
   ]
  },
  {
   "cell_type": "code",
   "execution_count": 901,
   "metadata": {},
   "outputs": [],
   "source": [
    "def extract_xywh(Labeling_map):\n",
    "    unique_id = np.unique(Labeling_map)[1:]\n",
    "    xywh = []\n",
    "    for label in unique_id:\n",
    "        mask = Labeling_map == label\n",
    "        if is_roll_over(mask):\n",
    "            np.ze\n",
    "        else:\n",
    "            xywh.append(cv2.boundingRect(mask.astype(np.uint8)))\n",
    "    # convert to center point\n",
    "    xywh = np.array(xywh)\n",
    "    # convert left-up point to center point \n",
    "    xywh[:,0] = xywh[:,0] + xywh[:,2]/2\n",
    "    xywh[:,1] = xywh[:,1] + xywh[:,3]/2\n",
    "    \n",
    "    \n",
    "    return xywh,unique_id"
   ]
  },
  {
   "cell_type": "code",
   "execution_count": 902,
   "metadata": {},
   "outputs": [],
   "source": [
    "def extract_mea_state_vec(xywh):\n",
    "    return xywh.reshape((-1,xywh.shape[1],1))"
   ]
  },
  {
   "cell_type": "code",
   "execution_count": 903,
   "metadata": {},
   "outputs": [],
   "source": [
    "def state_predict(A,Q,state,P):\n",
    "    \"\"\"\n",
    "    state: s_k-1, (n x 8 x 1)\n",
    "    Cov: P_k-1 (n x 8 x 8)\n",
    "    \"\"\"\n",
    "    state_ = np.matmul(A,state)\n",
    "    P_ = np.matmul(np.matmul(A,P),A.transpose()) + Q\n",
    "    return state_,P_\n",
    "\n",
    "def state_update(A,H,state_,P_,R,mea):\n",
    "    \"\"\"\n",
    "    mea: m_k (m x 4 x 1)\n",
    "    \"\"\"\n",
    "    K = np.matmul(np.matmul(P_,H.transpose()),np.linalg.inv(np.matmul(np.matmul(H,P_),H.transpose()) + R))\n",
    "    P = np.matmul((np.eye(A.shape[0]) - np.matmul(K,H)),P_)\n",
    "    state = state_ + np.matmul(K,mea - np.matmul(H,state_))\n",
    "    return state, P "
   ]
  },
  {
   "cell_type": "code",
   "execution_count": 913,
   "metadata": {},
   "outputs": [],
   "source": [
    "def get_affinity_mat(state_,P_,mea):\n",
    "    State_affinity = np.zeros((state_.shape[0],mea.shape[0]))\n",
    "    for i,s_ in enumerate(state_):\n",
    "        v = s_[:4].copy()\n",
    "        if v[0] >= 1800:\n",
    "            v[0] -= 1800\n",
    "        elif v[0] <= 0:\n",
    "            v[0] += 1800\n",
    "        VI = P_[i][:4,:4].copy()\n",
    "        for j,m in enumerate(mea):\n",
    "            u = m.copy()\n",
    "            \n",
    "            State_affinity[i][j] = distance.mahalanobis(u.flatten(),v.flatten(),VI)\n",
    "    return State_affinity"
   ]
  },
  {
   "cell_type": "code",
   "execution_count": 914,
   "metadata": {},
   "outputs": [],
   "source": [
    "class detected_obj():\n",
    "    def __init__(self):\n",
    "        self.glb_id = None\n",
    "        self.start_frame = None\n",
    "        self.missing_count = 0 # frame count of out of detection\n",
    "        self.P = None\n",
    "        self.state = None \n",
    "        self.label_seq = [] # represented labels at each frame \n",
    "        "
   ]
  },
  {
   "cell_type": "code",
   "execution_count": 942,
   "metadata": {},
   "outputs": [],
   "source": [
    "A = np.array( # x,y,w,h,x',y',w',h'\n",
    "    [[1,0,0,0,1,0,0,0],\n",
    "     [0,1,0,0,0,1,0,0],\n",
    "     [0,0,1,0,0,0,1,0],\n",
    "     [0,0,0,1,0,0,0,1],\n",
    "     [0,0,0,0,1,0,0,0],\n",
    "     [0,0,0,0,0,1,0,0],\n",
    "     [0,0,0,0,0,0,1,0],\n",
    "     [0,0,0,0,0,0,0,1]]\n",
    ")\n",
    "Q = np.diag([1,1,1,1,1,1,1,1]) \n",
    "H = np.array([[1,0,0,0,0,0,0,0],\n",
    "              [0,1,0,0,0,0,0,0],\n",
    "              [0,0,1,0,0,0,0,0],\n",
    "              [0,0,0,1,0,0,0,0]])\n",
    "R = np.diag([1,1,1,1])"
   ]
  },
  {
   "cell_type": "code",
   "execution_count": 946,
   "metadata": {},
   "outputs": [],
   "source": [
    "Qs = [Q*i for i in range(1,10)] \n",
    "Rs = [R*i for i in [10,50,100,200,400]]"
   ]
  },
  {
   "cell_type": "code",
   "execution_count": 957,
   "metadata": {
    "scrolled": true
   },
   "outputs": [
    {
     "data": {
      "application/vnd.jupyter.widget-view+json": {
       "model_id": "ab92a84e48c04e2daaaf120cfb1ff4ae",
       "version_major": 2,
       "version_minor": 0
      },
      "text/plain": [
       "HBox(children=(HTML(value=''), FloatProgress(value=0.0, max=9.0), HTML(value='')))"
      ]
     },
     "metadata": {},
     "output_type": "display_data"
    },
    {
     "data": {
      "application/vnd.jupyter.widget-view+json": {
       "model_id": "024b335bd6e949b7a5fbd37234dee214",
       "version_major": 2,
       "version_minor": 0
      },
      "text/plain": [
       "HBox(children=(HTML(value=''), FloatProgress(value=0.0, max=5.0), HTML(value='')))"
      ]
     },
     "metadata": {},
     "output_type": "display_data"
    },
    {
     "name": "stdout",
     "output_type": "stream",
     "text": [
      "[[  24.67792536  559.9187441  1849.51642328 1756.34051368  698.31296709]\n",
      " [ 589.96101566    9.16515139 2399.09107789 2306.75681423 1228.93368413]\n",
      " [1820.69602076 2385.15911419    6.4807407    88.26664149 1168.67360713]\n",
      " [1736.68736392 2302.00890528   90.14987521    6.4807407  1086.51507123]\n",
      " [ 669.38553913 1215.2468885  1177.8111054  1086.40876285    4.58257569]]\n",
      "[[  24.81264579  460.32670862 1638.69151223 1548.67659955  628.07796108]\n",
      " [ 491.76633413   11.48533725 2105.57624622 2015.77070665 1089.60211678]\n",
      " [1622.33545977 2099.92963839    6.388246     95.90009788 1022.70515117]\n",
      " [1536.72771576 2014.46142614   79.9976176    10.6316043   937.54484568]\n",
      " [ 599.51373688 1073.11257639 1022.53637813  933.05914517    7.15529345]]\n",
      "[[ 429.80387703    2.58767928 1487.42646055 1393.29712876  558.48308022]\n",
      " [   8.57253043  446.1435831  1928.14393293 1833.97961528  999.24795329]\n",
      " [1916.46362361 1480.04002548    2.7253971    92.31300524  927.6096276 ]\n",
      " [1829.69939672 1393.29948303   88.55641328    4.6056508   840.91653371]\n",
      " [ 986.45372231  550.17580851  932.09626715  838.03182261    5.00023138]]\n",
      "[[ 408.4934625     2.9305177   174.52020028 1326.48364111 1238.75326987\n",
      "   483.67078313]\n",
      " [   4.92435112  410.06793641  587.37458631 1740.16192759 1652.4134915\n",
      "   897.20917989]\n",
      " [1738.37855873 1333.11177004 1157.0125068     3.67658862   91.08699519\n",
      "   846.5128593 ]\n",
      " [1649.27523985 1244.02580976 1068.08605914   85.93466776    2.18472163\n",
      "   757.57403346]\n",
      " [ 890.75852939  485.63888805  309.04106854  844.7450474   757.09839043\n",
      "            nan]]\n",
      "\n",
      "\n"
     ]
    },
    {
     "ename": "ValueError",
     "evalue": "matrix contains invalid numeric entries",
     "output_type": "error",
     "traceback": [
      "\u001b[0;31m---------------------------------------------------------------------------\u001b[0m",
      "\u001b[0;31mValueError\u001b[0m                                Traceback (most recent call last)",
      "\u001b[0;32m<ipython-input-957-36f07b74b9b8>\u001b[0m in \u001b[0;36m<module>\u001b[0;34m\u001b[0m\n\u001b[1;32m      2\u001b[0m \u001b[0;32mfor\u001b[0m \u001b[0mi\u001b[0m \u001b[0;32min\u001b[0m \u001b[0mtqdm\u001b[0m\u001b[0;34m(\u001b[0m\u001b[0mrange\u001b[0m\u001b[0;34m(\u001b[0m\u001b[0mlen\u001b[0m\u001b[0;34m(\u001b[0m\u001b[0mQs\u001b[0m\u001b[0;34m)\u001b[0m\u001b[0;34m)\u001b[0m\u001b[0;34m)\u001b[0m\u001b[0;34m:\u001b[0m\u001b[0;34m\u001b[0m\u001b[0;34m\u001b[0m\u001b[0m\n\u001b[1;32m      3\u001b[0m     \u001b[0;32mfor\u001b[0m \u001b[0mj\u001b[0m \u001b[0;32min\u001b[0m \u001b[0mtqdm\u001b[0m\u001b[0;34m(\u001b[0m\u001b[0mrange\u001b[0m\u001b[0;34m(\u001b[0m\u001b[0mlen\u001b[0m\u001b[0;34m(\u001b[0m\u001b[0mRs\u001b[0m\u001b[0;34m)\u001b[0m\u001b[0;34m)\u001b[0m\u001b[0;34m)\u001b[0m\u001b[0;34m:\u001b[0m\u001b[0;34m\u001b[0m\u001b[0;34m\u001b[0m\u001b[0m\n\u001b[0;32m----> 4\u001b[0;31m         \u001b[0mResults\u001b[0m\u001b[0;34m.\u001b[0m\u001b[0mappend\u001b[0m\u001b[0;34m(\u001b[0m\u001b[0mtracking\u001b[0m\u001b[0;34m(\u001b[0m\u001b[0mQs\u001b[0m\u001b[0;34m[\u001b[0m\u001b[0mi\u001b[0m\u001b[0;34m]\u001b[0m\u001b[0;34m,\u001b[0m\u001b[0mA\u001b[0m\u001b[0;34m,\u001b[0m\u001b[0mH\u001b[0m\u001b[0;34m,\u001b[0m\u001b[0mR\u001b[0m\u001b[0;34m[\u001b[0m\u001b[0mj\u001b[0m\u001b[0;34m]\u001b[0m\u001b[0;34m)\u001b[0m\u001b[0;34m)\u001b[0m\u001b[0;34m\u001b[0m\u001b[0;34m\u001b[0m\u001b[0m\n\u001b[0m",
      "\u001b[0;32m<ipython-input-956-d4c808374f4f>\u001b[0m in \u001b[0;36mtracking\u001b[0;34m(Q, A, H, R)\u001b[0m\n\u001b[1;32m     65\u001b[0m         \u001b[0mState_affinity\u001b[0m \u001b[0;34m=\u001b[0m \u001b[0mget_affinity_mat\u001b[0m\u001b[0;34m(\u001b[0m\u001b[0mstate_cur_\u001b[0m\u001b[0;34m,\u001b[0m\u001b[0mP_cur_\u001b[0m\u001b[0;34m,\u001b[0m\u001b[0mmea_next\u001b[0m\u001b[0;34m)\u001b[0m\u001b[0;34m\u001b[0m\u001b[0;34m\u001b[0m\u001b[0m\n\u001b[1;32m     66\u001b[0m         \u001b[0mprint\u001b[0m\u001b[0;34m(\u001b[0m\u001b[0mState_affinity\u001b[0m\u001b[0;34m)\u001b[0m\u001b[0;34m\u001b[0m\u001b[0;34m\u001b[0m\u001b[0m\n\u001b[0;32m---> 67\u001b[0;31m         \u001b[0massociated_ind_glb\u001b[0m\u001b[0;34m,\u001b[0m\u001b[0massociated_ind_label\u001b[0m \u001b[0;34m=\u001b[0m \u001b[0mlinear_sum_assignment\u001b[0m\u001b[0;34m(\u001b[0m\u001b[0mState_affinity\u001b[0m\u001b[0;34m)\u001b[0m\u001b[0;34m\u001b[0m\u001b[0;34m\u001b[0m\u001b[0m\n\u001b[0m\u001b[1;32m     68\u001b[0m \u001b[0;34m\u001b[0m\u001b[0m\n\u001b[1;32m     69\u001b[0m         \u001b[0mstate\u001b[0m\u001b[0;34m,\u001b[0m\u001b[0mP\u001b[0m \u001b[0;34m=\u001b[0m \u001b[0mstate_update\u001b[0m\u001b[0;34m(\u001b[0m\u001b[0mA\u001b[0m\u001b[0;34m,\u001b[0m\u001b[0mH\u001b[0m\u001b[0;34m,\u001b[0m\u001b[0mstate_cur_\u001b[0m\u001b[0;34m[\u001b[0m\u001b[0massociated_ind_glb\u001b[0m\u001b[0;34m]\u001b[0m\u001b[0;34m,\u001b[0m\u001b[0mP_cur_\u001b[0m\u001b[0;34m[\u001b[0m\u001b[0massociated_ind_glb\u001b[0m\u001b[0;34m]\u001b[0m\u001b[0;34m,\u001b[0m\u001b[0mR\u001b[0m\u001b[0;34m,\u001b[0m\u001b[0mmea_next\u001b[0m\u001b[0;34m[\u001b[0m\u001b[0massociated_ind_label\u001b[0m\u001b[0;34m]\u001b[0m\u001b[0;34m)\u001b[0m\u001b[0;34m\u001b[0m\u001b[0;34m\u001b[0m\u001b[0m\n",
      "\u001b[0;32m~/opt/anaconda3/envs/tracking/lib/python3.8/site-packages/scipy/optimize/_lsap.py\u001b[0m in \u001b[0;36mlinear_sum_assignment\u001b[0;34m(cost_matrix, maximize)\u001b[0m\n\u001b[1;32m     91\u001b[0m \u001b[0;34m\u001b[0m\u001b[0m\n\u001b[1;32m     92\u001b[0m     \u001b[0;32mif\u001b[0m \u001b[0mnp\u001b[0m\u001b[0;34m.\u001b[0m\u001b[0many\u001b[0m\u001b[0;34m(\u001b[0m\u001b[0mnp\u001b[0m\u001b[0;34m.\u001b[0m\u001b[0misneginf\u001b[0m\u001b[0;34m(\u001b[0m\u001b[0mcost_matrix\u001b[0m\u001b[0;34m)\u001b[0m \u001b[0;34m|\u001b[0m \u001b[0mnp\u001b[0m\u001b[0;34m.\u001b[0m\u001b[0misnan\u001b[0m\u001b[0;34m(\u001b[0m\u001b[0mcost_matrix\u001b[0m\u001b[0;34m)\u001b[0m\u001b[0;34m)\u001b[0m\u001b[0;34m:\u001b[0m\u001b[0;34m\u001b[0m\u001b[0;34m\u001b[0m\u001b[0m\n\u001b[0;32m---> 93\u001b[0;31m         \u001b[0;32mraise\u001b[0m \u001b[0mValueError\u001b[0m\u001b[0;34m(\u001b[0m\u001b[0;34m\"matrix contains invalid numeric entries\"\u001b[0m\u001b[0;34m)\u001b[0m\u001b[0;34m\u001b[0m\u001b[0;34m\u001b[0m\u001b[0m\n\u001b[0m\u001b[1;32m     94\u001b[0m \u001b[0;34m\u001b[0m\u001b[0m\n\u001b[1;32m     95\u001b[0m     \u001b[0mcost_matrix\u001b[0m \u001b[0;34m=\u001b[0m \u001b[0mcost_matrix\u001b[0m\u001b[0;34m.\u001b[0m\u001b[0mastype\u001b[0m\u001b[0;34m(\u001b[0m\u001b[0mnp\u001b[0m\u001b[0;34m.\u001b[0m\u001b[0mdouble\u001b[0m\u001b[0;34m)\u001b[0m\u001b[0;34m\u001b[0m\u001b[0;34m\u001b[0m\u001b[0m\n",
      "\u001b[0;31mValueError\u001b[0m: matrix contains invalid numeric entries"
     ]
    }
   ],
   "source": [
    "Results = []\n",
    "for i in tqdm(range(len(Qs))):\n",
    "    for j in tqdm(range(len(Rs))):\n",
    "        Results.append(tracking(Qs[i],A,H,R[j]))"
   ]
  },
  {
   "cell_type": "code",
   "execution_count": 956,
   "metadata": {},
   "outputs": [],
   "source": [
    "def tracking(Q,A,H,R):  \n",
    "    # Initialization \n",
    "\n",
    "    \"\"\" Temp for Tracking \"\"\"\n",
    "    Frame_ind = 0\n",
    "    Tracking_pool = {}\n",
    "    Off_tracking_pool = {}\n",
    "    Global_id = 0 \n",
    "    missing_thred = 10\n",
    "#     \"\"\" Temp for Kalman Filter \"\"\"\n",
    "#     A = np.array( # x,y,w,h,x',y',w',h'\n",
    "#         [[1,0,0,0,1,0,0,0],\n",
    "#          [0,1,0,0,0,1,0,0],\n",
    "#          [0,0,1,0,0,0,1,0],\n",
    "#          [0,0,0,1,0,0,0,1],\n",
    "#          [0,0,0,0,1,0,0,0],\n",
    "#          [0,0,0,0,0,1,0,0],\n",
    "#          [0,0,0,0,0,0,1,0],\n",
    "#          [0,0,0,0,0,0,0,1]]\n",
    "#     )\n",
    "#     Q = np.diag([10,1,10,1,1,1,1,1]) \n",
    "#     H = np.array([[1,0,0,0,0,0,0,0],\n",
    "#                   [0,1,0,0,0,0,0,0],\n",
    "#                   [0,0,1,0,0,0,0,0],\n",
    "#                   [0,0,0,1,0,0,0,0]])\n",
    "#     R = np.diag([5,5,5,5])\n",
    "\n",
    "    xywh_init,unique_label_init = extract_xywh(Labeling_maps[Frame_ind])\n",
    "    Frame_ind += 1 \n",
    "    mea_init = extract_mea_state_vec(xywh_init)\n",
    "    # m: n x 8 x 1\n",
    "    state_init = np.concatenate([mea_init,np.zeros_like(mea_init)],axis = 1)\n",
    "    P_init = np.full((xywh_init.shape[0],8,8),np.eye(8)*10)\n",
    "\n",
    "    for label,i in enumerate(unique_label_init):\n",
    "        new_detection = detected_obj()\n",
    "        new_detection.glb_id = Global_id\n",
    "        new_detection.P = P_init[i]\n",
    "        new_detection.state = state_init[i]\n",
    "        new_detection.label_seq.append(label)\n",
    "        new_detection.start_frame = 0\n",
    "        Tracking_pool[Global_id] = new_detection\n",
    "        Global_id += 1\n",
    "    \"\"\" Loop Start\"\"\"\n",
    "\n",
    "\n",
    "    state_cur,P_cur,glb_id_cur = state_init,P_init,unique_id_init \n",
    "\n",
    "    # MOT start, given the prediction from last frame, set up cost func to associate IDs between current and next frame \n",
    "    while Frame_ind < 2000:\n",
    "        \"\"\"\n",
    "        Extract Matrix P and State of each tracklet in Current Tracking Pool\n",
    "        \"\"\"\n",
    "        glb_ids,P_cur,state_cur = [],[],[]\n",
    "        for glb_id in Tracking_pool.keys():\n",
    "            glb_ids.append(glb_id)\n",
    "            P_cur.append(Tracking_pool[glb_id].P)\n",
    "            state_cur.append(Tracking_pool[glb_id].state)\n",
    "        P_cur,state_cur = np.array(P_cur),np.array(state_cur)\n",
    "\n",
    "        state_cur_,P_cur_ = state_predict(A,Q,state_cur,P_cur) # predict next state \n",
    "\n",
    "        xywh_next,unique_lebel_next = extract_xywh(Labeling_maps[Frame_ind]) # read observation at next frame \n",
    "        mea_next = extract_mea_state_vec(xywh_next)  \n",
    "        State_affinity = get_affinity_mat(state_cur_,P_cur_,mea_next)\n",
    "        print(State_affinity)\n",
    "        associated_ind_glb,associated_ind_label = linear_sum_assignment(State_affinity)\n",
    "\n",
    "        state,P = state_update(A,H,state_cur_[associated_ind_glb],P_cur_[associated_ind_glb],R,mea_next[associated_ind_label])\n",
    "\n",
    "        for i,glb_ind in enumerate(associated_ind_glb):\n",
    "\n",
    "            Tracking_pool[glb_ids[glb_ind]].state = state[i]\n",
    "            Tracking_pool[glb_ids[glb_ind]].P = P[i]\n",
    "            Tracking_pool[glb_ids[glb_ind]].label_seq.append(unique_lebel_next[associated_ind_label[i]])\n",
    "            Tracking_pool[glb_ids[glb_ind]].missing_count = 0\n",
    "\n",
    "        \"\"\"\n",
    "        Failed tracking and new detections\n",
    "        \"\"\"\n",
    "        # in a but not in b\n",
    "        failed_tracked_ind = np.setdiff1d(np.arange(len(glb_ids)),associated_ind_glb) \n",
    "        if len(failed_tracked_ind) > 0:\n",
    "            for fid in failed_tracked_ind:\n",
    "\n",
    "                if Tracking_pool[glb_ids[fid]].missing_count > missing_thred:\n",
    "                    Off_tracking_pool[glb_ids[fid]] = Tracking_pool.pop(glb_ids[fid])\n",
    "                else:\n",
    "                    Tracking_pool[glb_ids[fid]].missing_count += 1\n",
    "                    Tracking_pool[glb_ids[fid]].state = state_cur_[fid]\n",
    "                    Tracking_pool[glb_ids[fid]].P = P_cur_[fid]\n",
    "                    Tracking_pool[glb_ids[fid]].label_seq.append(-1)\n",
    "\n",
    "        new_detection_ind = np.setdiff1d(np.arange(len(unique_lebel_next)),associated_ind_label)\n",
    "        if len(new_detection_ind) > 0:\n",
    "            for n_id in new_detection_ind:\n",
    "                new_detection = detected_obj()\n",
    "                new_detection.glb_id = Global_id\n",
    "                new_detection.P = np.eye(8)\n",
    "                new_detection.state = np.concatenate([mea_next[n_id], np.zeros_like(mea_next[n_id])])\n",
    "                new_detection.label_seq.append(unique_lebel_next[n_id])\n",
    "                new_detection.start_frame = Frame_ind\n",
    "                Tracking_pool[Global_id] = new_detection\n",
    "                Global_id += 1\n",
    "\n",
    "        Frame_ind += 1 \n",
    "    \"\"\"\n",
    "    Release all tracking obj into off tracking pool\n",
    "    \"\"\"\n",
    "    release_ids = [glb_id for glb_id in Tracking_pool.keys()]\n",
    "    for r_id in release_ids:\n",
    "        Off_tracking_pool[r_id] = Tracking_pool.pop(r_id)\n",
    "    return Off_tracking_pool"
   ]
  },
  {
   "cell_type": "code",
   "execution_count": null,
   "metadata": {},
   "outputs": [],
   "source": []
  },
  {
   "cell_type": "code",
   "execution_count": 940,
   "metadata": {},
   "outputs": [],
   "source": [
    "np.random.seed(150)\n",
    "color_map = np.random.random((100,3))\n",
    "# color_map = np.concatenate([color_map,np.array([[1,1,1]])])\n",
    "\n",
    "for f in range(1000):\n",
    "    Td_map = Td_maps[f]\n",
    "    Labeling_map = Labeling_maps[f].copy()\n",
    "    td_freq_map = Td_map\n",
    "    Xs = []\n",
    "    Ys = []\n",
    "    Zs = []\n",
    "    Labels = []\n",
    "    for i in range(td_freq_map.shape[0]):\n",
    "        longitudes = theta[i]*np.pi / 180\n",
    "        latitudes = azimuths * np.pi / 180 \n",
    "        hypotenuses = td_freq_map[i] * np.cos(longitudes)\n",
    "        X = hypotenuses * np.sin(latitudes)\n",
    "        Y = hypotenuses * np.cos(latitudes)\n",
    "        Z = td_freq_map[i] * np.sin(longitudes)\n",
    "        Valid_ind =  (td_freq_map[i] != 0)&(td_freq_map[i]<collector.thred_map[i]) # None zero index\n",
    "        Xs.append(X[Valid_ind])\n",
    "        Ys.append(Y[Valid_ind])\n",
    "        Zs.append(Z[Valid_ind])\n",
    "        Labels.append(Labeling_map[i][Valid_ind])\n",
    "    Xs = np.concatenate(Xs)\n",
    "    Ys = np.concatenate(Ys)\n",
    "    Zs = np.concatenate(Zs)\n",
    "    Labels = np.concatenate(Labels).astype('int')\n",
    "    Colors = np.zeros((len(Labels),3))\n",
    "    for key in Off_tracking_pool:\n",
    "        n = f - Off_tracking_pool[key].start_frame\n",
    "        if (n >= 0) & (n < len(Off_tracking_pool[key].label_seq)):\n",
    "            label_cur_frame = Off_tracking_pool[key].label_seq[n]\n",
    "            if label_cur_frame != -1:\n",
    "                Colors[Labels == label_cur_frame] = color_map[key%len(color_map)]\n",
    "    pcd = op3.geometry.PointCloud()\n",
    "    XYZ = np.concatenate([Xs.reshape(-1,1),Ys.reshape(-1,1),Zs.reshape(-1,1)],axis = 1)\n",
    "    pcd.points = op3.utility.Vector3dVector(XYZ)\n",
    "    pcd.colors = op3.utility.Vector3dVector(Colors)\n",
    "    op3.io.write_point_cloud(r'./Output File/PcdSequence'+\"/{}.pcd\".format(f), pcd)\n",
    "        \n",
    "            "
   ]
  },
  {
   "cell_type": "code",
   "execution_count": 937,
   "metadata": {},
   "outputs": [],
   "source": [
    "def visualize(Td_map,Labeling_map):\n",
    "    np.random.seed(250)\n",
    "    color_map = np.random.random((100,3))\n",
    "    color_map = np.concatenate([color_map,np.array([[1,1,1]])])\n",
    "    td_freq_map = Td_map\n",
    "    Xs = []\n",
    "    Ys = []\n",
    "    Zs = []\n",
    "    Labels = []\n",
    "    for i in range(td_freq_map.shape[0]):\n",
    "        longitudes = theta[i]*np.pi / 180\n",
    "        latitudes = azimuths * np.pi / 180 \n",
    "        hypotenuses = td_freq_map[i] * np.cos(longitudes)\n",
    "        X = hypotenuses * np.sin(latitudes)\n",
    "        Y = hypotenuses * np.cos(latitudes)\n",
    "        Z = td_freq_map[i] * np.sin(longitudes)\n",
    "        Valid_ind =  (td_freq_map[i] != 0)&(td_freq_map[i]<collector.thred_map[i]) # None zero index\n",
    "        Xs.append(X[Valid_ind])\n",
    "        Ys.append(Y[Valid_ind])\n",
    "        Zs.append(Z[Valid_ind])\n",
    "        Labels.append(Labeling_map[i][Valid_ind])\n",
    "\n",
    "\n",
    "    Xs = np.concatenate(Xs)\n",
    "    Ys = np.concatenate(Ys)\n",
    "    Zs = np.concatenate(Zs)\n",
    "    Labels = np.concatenate(Labels).astype('int')\n",
    "    Colors = []\n",
    "    for i in range(len(Labels)):\n",
    "        Colors.append(color_map[Labels[i]])\n",
    "    Colors = np.array(Colors)\n",
    "    pcd = op3.geometry.PointCloud()\n",
    "    XYZ = np.concatenate([Xs.reshape(-1,1),Ys.reshape(-1,1),Zs.reshape(-1,1)],axis = 1)\n",
    "    pcd.points = op3.utility.Vector3dVector(XYZ)\n",
    "    pcd.colors = op3.utility.Vector3dVector(Colors)\n",
    "    visualizer = JVisualizer()\n",
    "    visualizer.add_geometry(pcd)\n",
    "    visualizer.show()"
   ]
  },
  {
   "cell_type": "code",
   "execution_count": 962,
   "metadata": {},
   "outputs": [
    {
     "data": {
      "application/vnd.jupyter.widget-view+json": {
       "model_id": "228548b6f06f420db95f25219bd84286",
       "version_major": 2,
       "version_minor": 0
      },
      "text/plain": [
       "JVisualizer with 1 geometries"
      ]
     },
     "metadata": {},
     "output_type": "display_data"
    }
   ],
   "source": [
    "visualize(Td_maps[1900],Labeling_maps[1900])"
   ]
  },
  {
   "cell_type": "code",
   "execution_count": null,
   "metadata": {},
   "outputs": [],
   "source": []
  }
 ],
 "metadata": {
  "kernelspec": {
   "display_name": "Python 3",
   "language": "python",
   "name": "python3"
  },
  "language_info": {
   "codemirror_mode": {
    "name": "ipython",
    "version": 3
   },
   "file_extension": ".py",
   "mimetype": "text/x-python",
   "name": "python",
   "nbconvert_exporter": "python",
   "pygments_lexer": "ipython3",
   "version": "3.8.5"
  }
 },
 "nbformat": 4,
 "nbformat_minor": 2
}
