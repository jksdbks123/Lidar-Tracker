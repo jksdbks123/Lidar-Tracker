{
 "cells": [
  {
   "cell_type": "code",
   "execution_count": 47,
   "metadata": {},
   "outputs": [],
   "source": [
    "from BfTableGenerator import *\n",
    "from DDBSCAN import Raster_DBSCAN\n",
    "import os\n",
    "import matplotlib.pyplot as plt"
   ]
  },
  {
   "cell_type": "code",
   "execution_count": 72,
   "metadata": {},
   "outputs": [],
   "source": [
    "class RectangleData():\n",
    "\n",
    "    def __init__(self):\n",
    "        self.a = [None] * 4\n",
    "        self.b = [None] * 4\n",
    "        self.c = [None] * 4\n",
    "\n",
    "        self.rect_c_x = [None] * 5\n",
    "        self.rect_c_y = [None] * 5\n",
    "\n",
    "    def plot(self):\n",
    "        self.calc_rect_contour()\n",
    "        plt.plot(self.rect_c_x, self.rect_c_y, \"-r\")\n",
    "\n",
    "    def calc_rect_contour(self):\n",
    "\n",
    "        self.rect_c_x[0], self.rect_c_y[0] = self.calc_cross_point(self.a[0:2], self.b[0:2], self.c[0:2])\n",
    "\n",
    "        self.rect_c_x[1], self.rect_c_y[1] = self.calc_cross_point(self.a[1:3], self.b[1:3], self.c[1:3])\n",
    "        \n",
    "        self.rect_c_x[2], self.rect_c_y[2] = self.calc_cross_point(self.a[2:4], self.b[2:4], self.c[2:4])\n",
    "        \n",
    "        self.rect_c_x[3], self.rect_c_y[3] = self.calc_cross_point([self.a[3], self.a[0]], [self.b[3], self.b[0]], [self.c[3], self.c[0]])\n",
    "        \n",
    "        self.rect_c_x[4], self.rect_c_y[4] = self.rect_c_x[0], self.rect_c_y[0]\n",
    "\n",
    "    def calc_cross_point(self, a, b, c):\n",
    "        x = (b[0] * -c[1] - b[1] * -c[0]) / (a[0] * b[1] - a[1] * b[0])\n",
    "        y = (a[1] * -c[0] - a[0] * -c[1]) / (a[0] * b[1] - a[1] * b[0])\n",
    "        return x, y"
   ]
  },
  {
   "cell_type": "code",
   "execution_count": 64,
   "metadata": {},
   "outputs": [],
   "source": [
    "theta_raw = np.array([[-25,1.4],[-1,-4.2],[-1.667,1.4],[-15.639,-1.4],\n",
    "                            [-11.31,1.4],[0,-1.4],[-0.667,4.2],[-8.843,-1.4],\n",
    "                            [-7.254,1.4],[0.333,-4.2],[-0.333,1.4],[-6.148,-1.4],\n",
    "                            [-5.333,4.2],[1.333,-1.4],[0.667,4.2],[-4,-1.4],\n",
    "                            [-4.667,1.4],[1.667,-4.2],[1,1.4],[-3.667,-4.2],\n",
    "                            [-3.333,4.2],[3.333,-1.4],[2.333,1.4],[-2.667,-1.4],\n",
    "                            [-3,1.4],[7,-1.4],[4.667,1.4],[-2.333,-4.2],\n",
    "                            [-2,4.2],[15,-1.4],[10.333,1.4],[-1.333,-1.4]\n",
    "                            ])[:,0]\n",
    "theta = np.sort(theta_raw)\n",
    "azimuths = np.arange(0,360,0.2)\n"
   ]
  },
  {
   "cell_type": "code",
   "execution_count": 68,
   "metadata": {},
   "outputs": [],
   "source": [
    "def _calc_closeness_criterion(c1, c2):\n",
    "    \n",
    "    min_dist_of_closeness_crit = 0.01\n",
    "    c1_max = max(c1)\n",
    "    c2_max = max(c2)\n",
    "    c1_min = min(c1)\n",
    "    c2_min = min(c2)\n",
    "\n",
    "    D1 = [min([np.linalg.norm(c1_max - ic1),\n",
    "               np.linalg.norm(ic1 - c1_min)]) for ic1 in c1]\n",
    "    D2 = [min([np.linalg.norm(c2_max - ic2),\n",
    "               np.linalg.norm(ic2 - c2_min)]) for ic2 in c2]\n",
    "\n",
    "    beta = 0\n",
    "    for i, _ in enumerate(D1):\n",
    "        d = max(min([D1[i], D2[i]]), min_dist_of_closeness_crit)\n",
    "        beta += (1.0 / d)\n",
    "\n",
    "    return beta"
   ]
  },
  {
   "cell_type": "code",
   "execution_count": 450,
   "metadata": {},
   "outputs": [],
   "source": [
    "A = np.array([[1,1],\n",
    "          [2,1]])\n",
    "B = np.array([[1,1],\n",
    "          [2,1]])"
   ]
  },
  {
   "cell_type": "code",
   "execution_count": 187,
   "metadata": {},
   "outputs": [],
   "source": [
    "def _rectangle_search(X):\n",
    "    \n",
    "        # X:2D array (n,2)\n",
    "        dtheta = np.deg2rad(10)\n",
    "        minp = (-float('inf'), None)\n",
    "        for theta in np.arange(0.0, np.pi / 2.0 - dtheta, dtheta):\n",
    "\n",
    "            e1 = np.array([np.cos(theta), np.sin(theta)])\n",
    "            e2 = np.array([-np.sin(theta), np.cos(theta)])\n",
    "\n",
    "            c1 = X @ e1.T\n",
    "            c2 = X @ e2.T\n",
    "\n",
    "            # Select criteria\n",
    "            cost = _calc_closeness_criterion(c1, c2)\n",
    "\n",
    "            if minp[0] < cost:\n",
    "                minp = (cost, theta)\n",
    "\n",
    "        # calculate best rectangle\n",
    "        sin_s = np.sin(minp[1])\n",
    "        cos_s = np.cos(minp[1])\n",
    "\n",
    "        c1_s = X @ np.array([cos_s, sin_s]).T\n",
    "        c2_s = X @ np.array([-sin_s, cos_s]).T\n",
    "\n",
    "        rect = RectangleData()\n",
    "        rect.a[0] = cos_s\n",
    "        rect.b[0] = sin_s\n",
    "        rect.c[0] = min(c1_s)\n",
    "        rect.a[1] = -sin_s\n",
    "        rect.b[1] = cos_s\n",
    "        rect.c[1] = min(c2_s)\n",
    "        rect.a[2] = cos_s\n",
    "        rect.b[2] = sin_s\n",
    "        rect.c[2] = max(c1_s)\n",
    "        rect.a[3] = -sin_s\n",
    "        rect.b[3] = cos_s\n",
    "        rect.c[3] = max(c2_s)\n",
    "\n",
    "        return rect"
   ]
  },
  {
   "cell_type": "code",
   "execution_count": 49,
   "metadata": {},
   "outputs": [],
   "source": [
    "def convert_point_cloud(Td_map, Labeling_map, Thred_map): \n",
    "    td_freq_map = Td_map\n",
    "    Xs = []\n",
    "    Ys = []\n",
    "    Zs = []\n",
    "    Labels = []\n",
    "    for i in range(td_freq_map.shape[0]):\n",
    "\n",
    "        longitudes = theta[i]*np.pi / 180\n",
    "        latitudes = azimuths * np.pi / 180 \n",
    "        hypotenuses = td_freq_map[i] * np.cos(longitudes)\n",
    "        X = hypotenuses * np.sin(latitudes)\n",
    "        Y = hypotenuses * np.cos(latitudes)\n",
    "        Z = td_freq_map[i] * np.sin(longitudes)\n",
    "        Valid_ind =  (td_freq_map[i] != 0)&(td_freq_map[i]<Thred_map[i])\n",
    "\n",
    "        # None zero index\n",
    "        Xs.append(X[Valid_ind])\n",
    "        Ys.append(Y[Valid_ind])\n",
    "        Zs.append(Z[Valid_ind])\n",
    "\n",
    "        Labels.append(Labeling_map[i][Valid_ind])\n",
    "\n",
    "    Xs = np.concatenate(Xs)\n",
    "    Ys = np.concatenate(Ys)\n",
    "    Zs = np.concatenate(Zs)\n",
    "    Labels = np.concatenate(Labels).astype('int')\n",
    "    XYZ = np.concatenate([Xs.reshape(-1,1),Ys.reshape(-1,1),Zs.reshape(-1,1)],axis = 1)\n",
    "    return XYZ, Labels"
   ]
  },
  {
   "cell_type": "code",
   "execution_count": 727,
   "metadata": {},
   "outputs": [],
   "source": [
    "params = {\n",
    "        'd':1.2,\n",
    "        'thred_s':0.3,\n",
    "        'N':20,\n",
    "        'delta_thred' : 1e-3,\n",
    "        'step':0.1,\n",
    "        'win_size':(5,11),\n",
    "        'eps': 1.75,\n",
    "        'min_samples':15,\n",
    "        'missing_thred':7,\n",
    "        'ending_frame' : 17950,\n",
    "        'background_update_frame':2000,\n",
    "        'save_pcd' : None,\n",
    "        'save_Azimuth_Laser_info' : False,\n",
    "        'result_type':'merged'\n",
    "    }"
   ]
  },
  {
   "cell_type": "code",
   "execution_count": 13,
   "metadata": {},
   "outputs": [],
   "source": [
    "input_path = '../RawLidarData/Veteran'\n",
    "dir_lis = os.listdir(input_path)\n",
    "pcap_path = 'None'\n",
    "for f in dir_lis:\n",
    "    if 'pcap' in f.split('.'):\n",
    "        pcap_path = os.path.join(input_path,f)\n",
    "if pcap_path == 'None':\n",
    "    print('Pcap file is not detected')\n",
    "output_file_path = '../RawLidarData/Veteran'\n"
   ]
  },
  {
   "cell_type": "code",
   "execution_count": 14,
   "metadata": {},
   "outputs": [],
   "source": [
    "data_collector = RansacCollector(pcap_path,output_file_path,background_update_frame)"
   ]
  },
  {
   "cell_type": "code",
   "execution_count": 15,
   "metadata": {},
   "outputs": [],
   "source": [
    "lidar_reader = TDmapLoader(pcap_path)\n",
    "frame_gen = lidar_reader.frame_gen()"
   ]
  },
  {
   "cell_type": "code",
   "execution_count": 16,
   "metadata": {},
   "outputs": [],
   "source": [
    "background_update_frame = 2000 "
   ]
  },
  {
   "cell_type": "code",
   "execution_count": 17,
   "metadata": {},
   "outputs": [
    {
     "name": "stderr",
     "output_type": "stream",
     "text": [
      "100%|██████████| 2000/2000 [01:27<00:00, 22.97it/s]\n"
     ]
    },
    {
     "name": "stdout",
     "output_type": "stream",
     "text": [
      "Generating Threshold Map\n"
     ]
    }
   ],
   "source": [
    "aggregated_maps = []\n",
    "for i in tqdm(range(background_update_frame)):\n",
    "    one_frame = next(frame_gen)\n",
    "    aggregated_maps.append(one_frame)\n",
    "aggregated_maps = np.array(aggregated_maps) # 1800 * 32 * len(ts)\n",
    "data_collector.aggregated_map = aggregated_maps\n",
    "data_collector.gen_thredmap(params['d'],params['thred_s'],params['N'],params['delta_thred'],params['step'])\n",
    "thred_map = data_collector.thred_map"
   ]
  },
  {
   "cell_type": "code",
   "execution_count": 27,
   "metadata": {},
   "outputs": [],
   "source": [
    "db = Raster_DBSCAN(window_size=params['win_size'],eps = params['eps'],\n",
    "                   min_samples= params['min_samples'],Td_map_szie=thred_map.shape)   "
   ]
  },
  {
   "cell_type": "code",
   "execution_count": 679,
   "metadata": {},
   "outputs": [],
   "source": [
    "Td_map = next(frame_gen)\n",
    "Foreground_map = (Td_map < thred_map)&(Td_map != 0)\n",
    "Labeling_map = db.fit_predict(Td_map= Td_map,Foreground_map=Foreground_map)\n",
    "unique_labels = np.unique(Labeling_map)[1:]"
   ]
  },
  {
   "cell_type": "code",
   "execution_count": 31,
   "metadata": {},
   "outputs": [],
   "source": [
    "def extract_xylwh_by_frame(Labeling_map,Td_map,Thred_map):\n",
    "    \n",
    "    XYZ,Labels = convert_point_cloud(Td_map,Labeling_map,Thred_map)\n",
    "    if -1 in Labels:\n",
    "        unique_id = np.unique(Labels)[1:]\n",
    "    else:\n",
    "        unique_id = np.unique(Labels)\n",
    "    \n",
    "    xylwh_set = []  \n",
    "    for l in unique_id:\n",
    "        xylwh = get_params_from_detection_points(Td_map,Labeling_map,l,Thred_map)\n",
    "        xylwh_set.append(xylwh)\n",
    "    \n",
    "    return np.array(xylwh_set),unique_id"
   ]
  },
  {
   "cell_type": "code",
   "execution_count": 32,
   "metadata": {},
   "outputs": [],
   "source": [
    "def get_params_from_detection_points(Td_map,Labeling_map,Label,Thred_map):\n",
    "    \n",
    "    XYZ,Labels = convert_point_cloud(Td_map,Labeling_map,Thred_map)\n",
    "    pcd = op3.geometry.PointCloud()\n",
    "    pcd.points = op3.utility.Vector3dVector(XYZ[Labels == Label])\n",
    "    bbox = pcd.get_axis_aligned_bounding_box()\n",
    "    # x,y,length,width,height \n",
    "    xylwh = np.concatenate([bbox.get_center()[:2],bbox.get_max_bound() - bbox.get_min_bound()])\n",
    "    return xylwh"
   ]
  },
  {
   "cell_type": "code",
   "execution_count": 146,
   "metadata": {},
   "outputs": [],
   "source": [
    "def convert_point_cloud(Td_map, Labeling_map, Thred_map): \n",
    "    td_freq_map = Td_map\n",
    "    Xs = []\n",
    "    Ys = []\n",
    "    Zs = []\n",
    "    Labels = []\n",
    "    for i in range(td_freq_map.shape[0]):\n",
    "\n",
    "        longitudes = theta[i]*np.pi / 180\n",
    "        latitudes = azimuths * np.pi / 180 \n",
    "        hypotenuses = td_freq_map[i] * np.cos(longitudes)\n",
    "        X = hypotenuses * np.sin(latitudes)\n",
    "        Y = hypotenuses * np.cos(latitudes)\n",
    "        Z = td_freq_map[i] * np.sin(longitudes)\n",
    "        Valid_ind =  (td_freq_map[i] != 0)&(td_freq_map[i]<Thred_map[i])\n",
    "\n",
    "        # None zero index\n",
    "        Xs.append(X[Valid_ind])\n",
    "        Ys.append(Y[Valid_ind])\n",
    "        Zs.append(Z[Valid_ind])\n",
    "\n",
    "        Labels.append(Labeling_map[i][Valid_ind])\n",
    "\n",
    "    Xs = np.concatenate(Xs)\n",
    "    Ys = np.concatenate(Ys)\n",
    "    Zs = np.concatenate(Zs)\n",
    "    Labels = np.concatenate(Labels).astype('int')\n",
    "    XYZ = np.concatenate([Xs.reshape(-1,1),Ys.reshape(-1,1),Zs.reshape(-1,1)],axis = 1)\n",
    "    return XYZ, Labels"
   ]
  },
  {
   "cell_type": "code",
   "execution_count": 199,
   "metadata": {},
   "outputs": [],
   "source": [
    "def cal_single_point_coord(row,col,Td_map):\n",
    "    longitudes = theta[row]*np.pi / 180\n",
    "    latitudes = azimuths[col] * np.pi / 180 \n",
    "    hypotenuses = Td_map[row,col] * np.cos(longitudes)\n",
    "    X = hypotenuses * np.sin(latitudes)\n",
    "    Y = hypotenuses * np.cos(latitudes)\n",
    "    return X,Y"
   ]
  },
  {
   "cell_type": "code",
   "execution_count": 617,
   "metadata": {},
   "outputs": [],
   "source": [
    "def cal_angle(v1,v2):\n",
    "    dot = np.sum(v1*v2)\n",
    "    det = v1[0]*v2[1] - v1[1]*v2[0]\n",
    "    return np.arctan2(det,dot)\n",
    "\n",
    "def get_line_param(p1,p2):\n",
    "    a = p2[:,1] - p1[1]\n",
    "    b = p1[0] - p2[:,0]\n",
    "    c = p2[:,0]*p1[1] - p1[0]*p2[:,1]\n",
    "    return np.array([a,b,c]).T\n",
    "\n",
    "def get_line_param_single(p1,p2):\n",
    "    a = p2[1] - p1[1]\n",
    "    b = p1[0] - p2[0]\n",
    "    c = p2[0]*p1[1] - p1[0]*p2[1]\n",
    "    return a,b,c\n",
    "\n",
    "def perpendicular_dis(x,y,a,b,c):\n",
    "    # x,y should be array\n",
    "    d = np.abs(a * x + b * y + c)/np.sqrt(a**2 + b**2)\n",
    "    return d "
   ]
  },
  {
   "cell_type": "code",
   "execution_count": 732,
   "metadata": {},
   "outputs": [],
   "source": [
    "resolution = np.pi*2/180 # rad\n",
    "grinds = np.arange(0.1,np.pi,resolution)\n",
    "deltathred = 0.1\n",
    "vec_x = np.array([radius,0])\n",
    "l = 0"
   ]
  },
  {
   "cell_type": "code",
   "execution_count": 614,
   "metadata": {},
   "outputs": [],
   "source": [
    "XYZ,Labels = convert_point_cloud(Td_map,Labeling_map,thred_map)\n",
    "Ground_truth_coord = XYZ[Labels == l][:,:2]"
   ]
  },
  {
   "cell_type": "code",
   "execution_count": 615,
   "metadata": {},
   "outputs": [],
   "source": [
    "rows,cols = np.where(Labeling_map == l)\n",
    "unique_cols = np.unique(cols)\n",
    "if (unique_cols[0] == 0)&(unique_cols[-1] == 1799):# roll over\n",
    "    unique_cols[unique_cols < 899] += 1800\n",
    "    unique_cols = np.sort(unique_cols)\n",
    "    candi_col_a,candi_col_b = unique_cols[0],unique_cols[-1]-1800\n",
    "else:\n",
    "    candi_col_a,candi_col_b = unique_cols[0],unique_cols[-1]\n",
    "\n",
    "candi_rows_a,candi_rows_b = rows[cols == candi_col_a],rows[cols == candi_col_b]\n",
    "candi_row_a = candi_rows_a[np.argmax(Td_map[candi_rows_a,candi_col_a])]\n",
    "candi_row_b = candi_rows_b[np.argmax(Td_map[candi_rows_b,candi_col_b])]\n",
    "point_a = np.array(cal_single_point_coord(candi_row_a,candi_col_a,Td_map))\n",
    "point_b = np.array(cal_single_point_coord(candi_row_b,candi_col_b,Td_map))\n",
    "# ab_center = (point_a + point_b)/2\n",
    "radius = np.sqrt(np.sum((point_a - point_b)**2))/2\n",
    "# vec_target = point_a - ab_center\n",
    "\n",
    "# x_cir,y_cir = radius*np.cos(grinds) ,radius*np.sin(grinds) \n",
    "# vec_cir = np.array([x_cir,y_cir])\n",
    "# phi = cal_angle(vec_target,vec_x)\n",
    "# A_clock = np.array([[np.cos(phi),np.sin(phi)],[-np.sin(phi),np.cos(phi)]])\n",
    "# rotated_cir = A_clock.dot(vec_cir)\n",
    "# rotated_cir = rotated_cir.T\n",
    "# rotated_cir[:,0] += ab_center[0]\n",
    "# rotated_cir[:,1] += ab_center[1]\n",
    "\n",
    "# e1,e2 refer to params of two perpendicular lines\n",
    "\n",
    "# e1_num,e2_num = [],[]\n",
    "# e1,e2 = get_line_param(point_a,rotated_cir),get_line_param(point_b,rotated_cir)\n",
    "# for i in range(e1.shape[0]):\n",
    "#     dises_e1 = perpendicular_dis(XYZ[:,0],XYZ[:,1],e1[i,0],e1[i,1],e1[i,2])\n",
    "#     dises_e2 = perpendicular_dis(XYZ[:,0],XYZ[:,1],e2[i,0],e2[i,1],e2[i,2])\n",
    "#     e1_num.append((dises_e1 < deltathred).sum())\n",
    "#     e2_num.append((dises_e2 < deltathred).sum())\n",
    "# e1_num,e2_num = np.array(e1_num),np.array(e2_num)\n",
    "# total_num = e1_num + e2_num\n",
    "# ind = np.argmax(total_num)\n"
   ]
  },
  {
   "cell_type": "code",
   "execution_count": 734,
   "metadata": {},
   "outputs": [],
   "source": [
    "Td_map = next(frame_gen)\n",
    "Foreground_map = (Td_map < thred_map)&(Td_map != 0)\n",
    "Labeling_map = db.fit_predict(Td_map= Td_map,Foreground_map=Foreground_map)\n",
    "unique_labels = np.unique(Labeling_map)[1:]"
   ]
  },
  {
   "cell_type": "code",
   "execution_count": 753,
   "metadata": {},
   "outputs": [],
   "source": [
    "resolution = np.pi*2/180 # rad\n",
    "grinds = np.arange(0.1,np.pi,resolution)\n",
    "deltathred = 0.1\n",
    "vec_x = np.array([radius,0])\n",
    "l = 0\n",
    "XYZ,Labels = convert_point_cloud(Td_map,Labeling_map,thred_map)\n",
    "Ground_truth_coord = XYZ[Labels == l][:,:2]"
   ]
  },
  {
   "cell_type": "code",
   "execution_count": 759,
   "metadata": {},
   "outputs": [
    {
     "data": {
      "text/plain": [
       "array([4, 5, 6])"
      ]
     },
     "execution_count": 759,
     "metadata": {},
     "output_type": "execute_result"
    }
   ],
   "source": [
    "np.array([1,2,3,4,5,6,7])[-4:-1]"
   ]
  },
  {
   "cell_type": "code",
   "execution_count": 754,
   "metadata": {},
   "outputs": [],
   "source": [
    "rows,cols = np.where(Labeling_map == l)\n",
    "unique_cols = np.unique(cols)\n",
    "if (unique_cols[0] == 0)&(unique_cols[-1] == 1799):# roll over\n",
    "    unique_cols[unique_cols < 899] += 1800\n",
    "    unique_cols = np.sort(unique_cols)\n",
    "    candi_col_a,candi_col_b = unique_cols[0],unique_cols[-1]-1800\n",
    "else:\n",
    "    candi_col_a,candi_col_b = unique_cols[0],unique_cols[-1]\n",
    "\n",
    "candi_rows_a,candi_rows_b = rows[cols == candi_col_a],rows[cols == candi_col_b]\n",
    "candi_row_a = candi_rows_a[np.argmax(Td_map[candi_rows_a,candi_col_a])]\n",
    "candi_row_b = candi_rows_b[np.argmax(Td_map[candi_rows_b,candi_col_b])]\n",
    "point_a = np.array(cal_single_point_coord(candi_row_a,candi_col_a,Td_map))\n",
    "point_b = np.array(cal_single_point_coord(candi_row_b,candi_col_b,Td_map))\n",
    "ab_center = (point_a + point_b)/2\n",
    "radius = np.sqrt(np.sum((point_a - point_b)**2))/2\n",
    "\n",
    "\n",
    "a,b,c = get_line_param_single(point_a,point_b)\n",
    "p_dis = perpendicular_dis(Ground_truth_coord[:,0],Ground_truth_coord[:,1],a,b,c)\n",
    "point_c = Ground_truth_coord[np.argmax(p_dis)]\n",
    "co_vec = point_c - ab_center\n",
    "point_p = co_vec*radius/np.sqrt(np.sum(co_vec**2)) + ab_center"
   ]
  },
  {
   "cell_type": "code",
   "execution_count": 755,
   "metadata": {},
   "outputs": [
    {
     "data": {
      "image/png": "[encoded data removed]",
      "text/plain": [
       "<Figure size 720x720 with 1 Axes>"
      ]
     },
     "metadata": {
      "needs_background": "light"
     },
     "output_type": "display_data"
    }
   ],
   "source": [
    "plt.figure(figsize=(10,10))\n",
    "plt.scatter(Ground_truth_coord[:,0],Ground_truth_coord[:,1],s = 3)\n",
    "plt.scatter(point_a[0],point_a[1],c = 'r')\n",
    "plt.scatter(point_b[0],point_b[1],c = 'r')\n",
    "plt.scatter(ab_center[0],ab_center[1],c = 'r')\n",
    "# plt.scatter(rotated_cir[:,0],rotated_cir[:,1],c = 'g',s = 2)\n",
    "plt.scatter(Ground_truth_coord[np.argmax(p_dis),0],Ground_truth_coord[np.argmax(p_dis),1])\n",
    "plt.scatter(point_p[0],point_p[1],c = 'g')\n",
    "x_min,x_max = Ground_truth_coord[:,0].min(),Ground_truth_coord[:,0].max()\n",
    "y_min,y_max = Ground_truth_coord[:,1].min(),Ground_truth_coord[:,1].max()\n",
    "scale = x_max - x_min\n",
    "if (y_max - y_min) > scale:\n",
    "    scale = y_max - y_min\n",
    "plt.xlim(x_min-2 , x_min + scale + 2)\n",
    "plt.ylim(y_min-2, y_min + scale +2)\n",
    "plt.show()"
   ]
  },
  {
   "cell_type": "code",
   "execution_count": null,
   "metadata": {},
   "outputs": [],
   "source": [
    "Ground_truth_coord[:,0],Ground_truth_coord[:,1]"
   ]
  },
  {
   "cell_type": "code",
   "execution_count": 756,
   "metadata": {},
   "outputs": [
    {
     "data": {
      "image/png": "[encoded data removed]",
      "text/plain": [
       "<Figure size 720x720 with 1 Axes>"
      ]
     },
     "metadata": {
      "needs_background": "light"
     },
     "output_type": "display_data"
    }
   ],
   "source": [
    "plt.figure(figsize=(10,10))\n",
    "plt.scatter(Ground_truth_coord[:,0],Ground_truth_coord[:,1],s = 3)\n",
    "x_min,x_max = Ground_truth_coord[:,0].min(),Ground_truth_coord[:,0].max()\n",
    "y_min,y_max = Ground_truth_coord[:,1].min(),Ground_truth_coord[:,1].max()\n",
    "scale = x_max - x_min\n",
    "if (y_max - y_min) > scale:\n",
    "    scale = y_max - y_min\n",
    "plt.xlim(x_min-2 , x_min + scale + 2)\n",
    "plt.ylim(y_min-2, y_min + scale +2)\n",
    "plt.show()"
   ]
  },
  {
   "cell_type": "code",
   "execution_count": null,
   "metadata": {},
   "outputs": [],
   "source": []
  },
  {
   "cell_type": "code",
   "execution_count": null,
   "metadata": {},
   "outputs": [],
   "source": []
  },
  {
   "cell_type": "code",
   "execution_count": null,
   "metadata": {},
   "outputs": [],
   "source": []
  },
  {
   "cell_type": "code",
   "execution_count": 191,
   "metadata": {},
   "outputs": [
    {
     "name": "stdout",
     "output_type": "stream",
     "text": [
      "36 ms ± 716 µs per loop (mean ± std. dev. of 7 runs, 10 loops each)\n"
     ]
    }
   ],
   "source": [
    "%%timeit\n",
    "rect = _rectangle_search(XY)"
   ]
  },
  {
   "cell_type": "code",
   "execution_count": 188,
   "metadata": {},
   "outputs": [],
   "source": [
    "Ground_truth_coord = XYZ[Labels == 0][:,:2]\n",
    "rect = _rectangle_search(XY)"
   ]
  },
  {
   "cell_type": "code",
   "execution_count": 189,
   "metadata": {},
   "outputs": [],
   "source": [
    "rect.calc_rect_contour()"
   ]
  },
  {
   "cell_type": "code",
   "execution_count": 192,
   "metadata": {},
   "outputs": [
    {
     "data": {
      "image/png": "[encoded data removed]",
      "text/plain": [
       "<Figure size 720x720 with 1 Axes>"
      ]
     },
     "metadata": {
      "needs_background": "light"
     },
     "output_type": "display_data"
    }
   ],
   "source": [
    "plt.figure(figsize=(10,10))\n",
    "plt.scatter(Ground_truth_coord[:,0],Ground_truth_coord[:,1],s = 3)\n",
    "plt.plot(rect.rect_c_x,rect.rect_c_y,c = 'r')\n",
    "plt.xlim(0,10)\n",
    "plt.ylim(-4,6)\n",
    "plt.show()"
   ]
  },
  {
   "cell_type": "code",
   "execution_count": null,
   "metadata": {},
   "outputs": [],
   "source": []
  },
  {
   "cell_type": "code",
   "execution_count": null,
   "metadata": {},
   "outputs": [],
   "source": []
  }
 ],
 "metadata": {
  "kernelspec": {
   "display_name": "Python 3",
   "language": "python",
   "name": "python3"
  },
  "language_info": {
   "codemirror_mode": {
    "name": "ipython",
    "version": 3
   },
   "file_extension": ".py",
   "mimetype": "text/x-python",
   "name": "python",
   "nbconvert_exporter": "python",
   "pygments_lexer": "ipython3",
   "version": "3.8.11"
  }
 },
 "nbformat": 4,
 "nbformat_minor": 4
}
