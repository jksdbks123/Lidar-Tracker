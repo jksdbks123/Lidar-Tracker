{
 "cells": [
  {
   "cell_type": "code",
   "execution_count": 1,
   "metadata": {},
   "outputs": [
    {
     "name": "stdout",
     "output_type": "stream",
     "text": [
      "Jupyter environment detected. Enabling Open3D WebVisualizer.\n",
      "[Open3D INFO] WebRTC GUI backend enabled.\n",
      "[Open3D INFO] WebRTCWindowSystem: HTTP handshake server disabled.\n",
      "[Open3D INFO] Resetting default logger to print to terminal.\n"
     ]
    }
   ],
   "source": [
    "from MOT import MOT\n",
    "import numpy as np\n",
    "import matplotlib.pyplot as plt\n",
    "import os\n",
    "from BfTableGenerator import RansacCollector\n",
    "from BfTableGenerator import TDmapLoader\n",
    "from tqdm import tqdm\n",
    "from Utils import *\n",
    "from DDBSCAN import Raster_DBSCAN\n",
    "import open3d as op3\n",
    "# op3.visualization.webrtc_server.enable_webrtc()\n",
    "from open3d.web_visualizer import draw\n",
    "from VisulizerTools import *\n",
    "\n"
   ]
  },
  {
   "cell_type": "code",
   "execution_count": 45,
   "metadata": {},
   "outputs": [],
   "source": [
    "def get_representative_point(ref_rows,ref_cols,Td_map): \n",
    "    td_freq_map = Td_map\n",
    "    longitudes = theta[ref_rows]*np.pi / 180\n",
    "    latitudes = azimuths[ref_cols] * np.pi / 180 \n",
    "    hypotenuses = td_freq_map[ref_rows,ref_cols] * np.cos(longitudes)\n",
    "    X = hypotenuses * np.sin(latitudes)\n",
    "    Y = hypotenuses * np.cos(latitudes)\n",
    "    Z = td_freq_map[ref_rows,ref_cols] * np.sin(longitudes)\n",
    "    return np.array([\n",
    "        [X[0],Y[0]],\n",
    "        [X[1],Y[1]]\n",
    "    ]).reshape(-1,2,2,1)\n",
    "\n",
    "def get_point(rows,cols,Td_map): \n",
    "    td_freq_map = Td_map\n",
    "    longitudes = theta[rows]*np.pi / 180\n",
    "    latitudes = azimuths[cols] * np.pi / 180 \n",
    "    hypotenuses = td_freq_map[rows,cols] * np.cos(longitudes)\n",
    "    X = hypotenuses * np.sin(latitudes)\n",
    "    Y = hypotenuses * np.cos(latitudes)\n",
    "    Z = td_freq_map[rows,cols] * np.sin(longitudes)\n",
    "    \n",
    "    return np.array([X,Y]).T # n_repr x xy_dim x 1 \n",
    "\n",
    "def extract_xy_interval_merging_TR(Labeling_map,Td_map,Background_map):\n",
    "        \n",
    "    unique_label = np.unique(Labeling_map)\n",
    "    if len(unique_label) == 1:\n",
    "        return np.array([]),[],Labeling_map\n",
    "    if -1 in unique_label:\n",
    "        unique_label = unique_label[1:]\n",
    "    \n",
    "    boundary_cols = []\n",
    "    boundary_rows = []\n",
    "    for l in unique_label:\n",
    "        rows,cols = np.where(Labeling_map == l)\n",
    "        sorted_cols_ind = np.argsort(cols)\n",
    "        sorted_cols = cols[sorted_cols_ind]\n",
    "        sorted_rows = rows[sorted_cols_ind]\n",
    "        left_col,right_col = sorted_cols[0],sorted_cols[-1]\n",
    "        \n",
    "        if (right_col - left_col) >  900:\n",
    "            left_col += 1800 \n",
    "        boundary_cols.append([left_col,right_col])\n",
    "        boundary_rows.append([rows[sorted_cols_ind[0]],rows[sorted_cols_ind[-1]]])\n",
    "\n",
    "    boundary_cols,boundary_rows = np.array(boundary_cols),np.array(boundary_rows)\n",
    "    \n",
    "    sorted_label = np.argsort(boundary_cols[:,0])\n",
    "\n",
    "    adjacent_label_pairs = []\n",
    "    for sl in range(len(sorted_label) - 1):\n",
    "        if boundary_cols[sorted_label[sl],1] < boundary_cols[sorted_label[sl+1],0]:\n",
    "            adjacent_label_pairs.append([sorted_label[sl],sorted_label[sl+1]])\n",
    "            \n",
    "    if boundary_cols[sorted_label[-1],1] > 1800:\n",
    "        if (boundary_cols[sorted_label[-1],1] - 1800) < boundary_cols[sorted_label[0],0]:\n",
    "            adjacent_label_pairs.append([sorted_label[-1],sorted_label[0]])\n",
    "    else:\n",
    "        if boundary_cols[sorted_label[-1],1] < boundary_cols[sorted_label[0],0]:\n",
    "            adjacent_label_pairs.append([sorted_label[-1],sorted_label[0]])\n",
    "    Merge_cobs = []\n",
    "    for adjacent in adjacent_label_pairs:\n",
    "        pair_a,pair_b = adjacent[0],adjacent[1]\n",
    "        interval_left_col,interval_right_col = boundary_cols[pair_a][1],boundary_cols[pair_b][0]\n",
    "        interval_left_row,interval_right_row = boundary_rows[pair_a][1],boundary_rows[pair_b][0]\n",
    "    #     print(interval_left_col,interval_right_col)\n",
    "        if (interval_right_col - interval_left_col) > 80:\n",
    "            continue\n",
    "        high = interval_left_row\n",
    "        low = interval_right_row\n",
    "        if high < low: \n",
    "            high,low = low,high\n",
    "        \n",
    "        interval_map = Td_map[low:high+1,interval_left_col:interval_right_col+1][Background_map[low:high+1,interval_left_col:interval_right_col+1]]\n",
    "        if len(interval_map) == 0 :\n",
    "            continue\n",
    "        min_dis_int = interval_map.min()\n",
    "        min_dis_a = Td_map[Labeling_map == pair_a].min()\n",
    "        min_dis_b = Td_map[Labeling_map == pair_b].min()\n",
    "        if (min_dis_int  < min_dis_a)&(min_dis_int  <min_dis_b)&(np.abs(min_dis_a - min_dis_b) < 1.2):\n",
    "            Merge_cobs.append([pair_a,pair_b])\n",
    "    \n",
    "\n",
    "    for cob in Merge_cobs:\n",
    "        for i in range(1,len(cob)):\n",
    "            Labeling_map[Labeling_map == cob[i]] = cob[0]\n",
    "            unique_label[unique_label == cob[i]] = cob[0]\n",
    "            # Labels[Labels == cob[i]] =cob[0]\n",
    "            \n",
    "    new_uni_labels = np.unique(unique_label)\n",
    "    xy_set = []\n",
    "    for label in new_uni_labels:\n",
    "        rows,cols = np.where(Labeling_map == label)\n",
    "        sort_ind = np.argsort(cols)\n",
    "        refer_cols = cols[sort_ind[[0,-1]]]\n",
    "        refer_rows = rows[sort_ind[[0,-1]]]\n",
    "        if np.abs(refer_cols[0] - refer_cols[1]) > 900:\n",
    "            cols[cols < 900] += 1800\n",
    "            sort_ind = np.argsort(cols)\n",
    "            refer_cols = cols[sort_ind[[0,-1]]]\n",
    "            refer_cols[refer_cols > 1800] -= 1800\n",
    "            refer_rows = rows[sort_ind[[0,-1]]]\n",
    "        xy_set.append(get_representative_point(refer_rows,refer_cols,Td_map))\n",
    "    \n",
    "    return np.array(xy_set),new_uni_labels,Labeling_map\n"
   ]
  },
  {
   "cell_type": "code",
   "execution_count": 2,
   "metadata": {},
   "outputs": [
    {
     "name": "stdout",
     "output_type": "stream",
     "text": [
      "Loading pcap...\n"
     ]
    },
    {
     "name": "stderr",
     "output_type": "stream",
     "text": [
      "100%|███████████████████████████████████████| 2000/2000 [01:32<00:00, 21.61it/s]\n"
     ]
    },
    {
     "name": "stdout",
     "output_type": "stream",
     "text": [
      "Generating Threshold Map\n"
     ]
    }
   ],
   "source": [
    "collector = RansacCollector(pcap_path=r'../RawLidarData/Veteran/Veteran.pcap',output_file_path='../RawLidarData/Veteran/',update_frame_num=2000)\n",
    "collector.gen_tdmap()\n",
    "collector.gen_thredmap(d = 1.1,thred_s = 0.2,N = 20,delta_thred = 1e-3,step = 0.1)"
   ]
  },
  {
   "cell_type": "code",
   "execution_count": 4,
   "metadata": {},
   "outputs": [],
   "source": [
    "db = Raster_DBSCAN(window_size=(5,13),eps = 1.7, min_samples= 17,Td_map_szie=collector.thred_map.shape)   "
   ]
  },
  {
   "cell_type": "code",
   "execution_count": 43,
   "metadata": {},
   "outputs": [],
   "source": [
    "Td_map = collector.aggregated_map[577]\n",
    "Foreground_map = (Td_map < collector.thred_map)&(Td_map != 0)\n",
    "Labeling_map = db.fit_predict(Td_map= Td_map,Foreground_map=Foreground_map)\n",
    "Background_map = (Td_map >= collector.thred_map)&(Td_map != 0)\n",
    "xy_set,uni_label,Labeling_map_new = extract_xy_interval_merging_TR(Labeling_map,Td_map,Background_map)\n",
    "pcd = get_pcd_colored(Td_map,Labeling_map_new)\n",
    "xy = np.asarray(pcd.points)[:,[0,1]]"
   ]
  },
  {
   "cell_type": "code",
   "execution_count": 46,
   "metadata": {},
   "outputs": [
    {
     "data": {
      "text/plain": [
       "(10, 2, 2)"
      ]
     },
     "execution_count": 46,
     "metadata": {},
     "output_type": "execute_result"
    }
   ],
   "source": [
    "xy_set.shape"
   ]
  },
  {
   "cell_type": "code",
   "execution_count": 49,
   "metadata": {
    "scrolled": true
   },
   "outputs": [
    {
     "data": {
      "text/plain": [
       "array([[[  4.51459054,   2.5024784 ],\n",
       "        [  3.45298182,  -1.75938212]],\n",
       "\n",
       "       [[  8.28260819,   1.19354207],\n",
       "        [  7.50983023,  -2.26735142]],\n",
       "\n",
       "       [[ 10.89498651,  11.36118689],\n",
       "        [ 11.10160364,   6.67051643]],\n",
       "\n",
       "       [[ 12.67349313,  -0.26547184],\n",
       "        [ 10.66982867,  -3.34372162]],\n",
       "\n",
       "       [[ 14.58685206,  11.31472227],\n",
       "        [ 14.53348586,   6.83893933]],\n",
       "\n",
       "       [[  6.35330857,  22.75499433],\n",
       "        [  9.34016469,  25.11494599]],\n",
       "\n",
       "       [[ 18.70078569,  36.07747288],\n",
       "        [ 19.33098432,  32.68690938]],\n",
       "\n",
       "       [[ 22.05429016,  36.13072734],\n",
       "        [ 22.56211364,  31.51442686]],\n",
       "\n",
       "       [[ 36.95249177, -25.68265083],\n",
       "        [ 34.74186972, -27.14332345]],\n",
       "\n",
       "       [[ 46.60168472, -28.00111713],\n",
       "        [ 44.86927516, -29.5858358 ]]])"
      ]
     },
     "execution_count": 49,
     "metadata": {},
     "output_type": "execute_result"
    }
   ],
   "source": [
    "xy_set"
   ]
  },
  {
   "cell_type": "code",
   "execution_count": 48,
   "metadata": {},
   "outputs": [
    {
     "data": {
      "text/plain": [
       "array([[[[  4.51459054],\n",
       "         [  2.5024784 ]],\n",
       "\n",
       "        [[  3.45298182],\n",
       "         [ -1.75938212]]],\n",
       "\n",
       "\n",
       "       [[[  8.28260819],\n",
       "         [  1.19354207]],\n",
       "\n",
       "        [[  7.50983023],\n",
       "         [ -2.26735142]]],\n",
       "\n",
       "\n",
       "       [[[ 10.89498651],\n",
       "         [ 11.36118689]],\n",
       "\n",
       "        [[ 11.10160364],\n",
       "         [  6.67051643]]],\n",
       "\n",
       "\n",
       "       [[[ 12.67349313],\n",
       "         [ -0.26547184]],\n",
       "\n",
       "        [[ 10.66982867],\n",
       "         [ -3.34372162]]],\n",
       "\n",
       "\n",
       "       [[[ 14.58685206],\n",
       "         [ 11.31472227]],\n",
       "\n",
       "        [[ 14.53348586],\n",
       "         [  6.83893933]]],\n",
       "\n",
       "\n",
       "       [[[  6.35330857],\n",
       "         [ 22.75499433]],\n",
       "\n",
       "        [[  9.34016469],\n",
       "         [ 25.11494599]]],\n",
       "\n",
       "\n",
       "       [[[ 18.70078569],\n",
       "         [ 36.07747288]],\n",
       "\n",
       "        [[ 19.33098432],\n",
       "         [ 32.68690938]]],\n",
       "\n",
       "\n",
       "       [[[ 22.05429016],\n",
       "         [ 36.13072734]],\n",
       "\n",
       "        [[ 22.56211364],\n",
       "         [ 31.51442686]]],\n",
       "\n",
       "\n",
       "       [[[ 36.95249177],\n",
       "         [-25.68265083]],\n",
       "\n",
       "        [[ 34.74186972],\n",
       "         [-27.14332345]]],\n",
       "\n",
       "\n",
       "       [[[ 46.60168472],\n",
       "         [-28.00111713]],\n",
       "\n",
       "        [[ 44.86927516],\n",
       "         [-29.5858358 ]]]])"
      ]
     },
     "execution_count": 48,
     "metadata": {},
     "output_type": "execute_result"
    }
   ],
   "source": [
    "xy_set.reshape(-1,2,2,1)"
   ]
  },
  {
   "cell_type": "code",
   "execution_count": 44,
   "metadata": {},
   "outputs": [
    {
     "data": {
      "image/png": "[encoded data removed]",
      "text/plain": [
       "<Figure size 720x720 with 1 Axes>"
      ]
     },
     "metadata": {
      "needs_background": "light"
     },
     "output_type": "display_data"
    }
   ],
   "source": [
    "plt.figure(figsize=(10,10))\n",
    "plt.scatter(xy[:,0],xy[:,1])\n",
    "plt.scatter(xy_set[:,0,0],xy_set[:,0,1])\n",
    "plt.scatter(xy_set[:,1,0],xy_set[:,1,1])\n",
    "plt.ylim(-50,50)\n",
    "plt.xlim(-50,50)\n",
    "\n",
    "plt.show()"
   ]
  },
  {
   "cell_type": "code",
   "execution_count": null,
   "metadata": {},
   "outputs": [],
   "source": []
  }
 ],
 "metadata": {
  "interpreter": {
   "hash": "42302c28e5085b919aea458e627b8255e1e792dac20b85945e8189f2b9f9260e"
  },
  "kernelspec": {
   "display_name": "Python 3 (ipykernel)",
   "language": "python",
   "name": "python3"
  },
  "language_info": {
   "codemirror_mode": {
    "name": "ipython",
    "version": 3
   },
   "file_extension": ".py",
   "mimetype": "text/x-python",
   "name": "python",
   "nbconvert_exporter": "python",
   "pygments_lexer": "ipython3",
   "version": "3.7.11"
  }
 },
 "nbformat": 4,
 "nbformat_minor": 2
}
