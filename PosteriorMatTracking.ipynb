{
 "cells": [
  {
   "cell_type": "code",
   "execution_count": 1,
   "source": [
    "from MOT import MOT\r\n",
    "import numpy as np\r\n",
    "import os\r\n",
    "from BfTableGenerator import RansacCollector\r\n",
    "from BfTableGenerator import TDmapLoader\r\n",
    "from tqdm import tqdm\r\n",
    "import open3d as op3\r\n",
    "# from open3d.web_visualizer import draw\r\n",
    "from Utils import *\r\n",
    "import pandas as pd\r\n",
    "from scipy.sparse import csr_matrix\r\n",
    "import json"
   ],
   "outputs": [
    {
     "output_type": "stream",
     "name": "stdout",
     "text": [
      "Jupyter environment detected. Enabling Open3D WebVisualizer.\n",
      "[Open3D INFO] WebRTC GUI backend enabled.\n",
      "[Open3D INFO] WebRTCWindowSystem: HTTP handshake server disabled.\n"
     ]
    }
   ],
   "metadata": {}
  },
  {
   "cell_type": "code",
   "execution_count": 6,
   "source": [
    "RawTrajs = pd.read_csv('../RawLidarData/Veteran/OutputFile/OutputTrajs/Trajctories.csv')\r\n",
    "print(RawTrajs.columns)\r\n",
    "TrajGroups = RawTrajs.groupby('ObjectID')\r\n",
    "Trajs = [traj[1].loc[:,['Coord_X_est','Coord_Y_est','Coord_Lon_est','Coord_Lat_est','Speed_x','Speed_y']].reset_index(drop = True) for traj in TrajGroups]\r\n",
    "Lens = [len(traj) for traj in Trajs]"
   ],
   "outputs": [],
   "metadata": {}
  },
  {
   "cell_type": "code",
   "execution_count": 27,
   "source": [
    "Label,Attribute = [],[]\r\n",
    "for ind,traj in tqdm(enumerate(Trajs)):\r\n",
    "    if Lens[ind] > 2:\r\n",
    "        for i in range(1,len(traj)):\r\n",
    "            labels = traj.iloc[i,[0,1,4,5]]\r\n",
    "            attributes = traj.iloc[i-1,[0,1,4,5]]\r\n",
    "            Label.append(labels)\r\n",
    "            Attribute.append(attributes)\r\n",
    "    else:\r\n",
    "        continue "
   ],
   "outputs": [
    {
     "output_type": "stream",
     "name": "stderr",
     "text": [
      "2658it [00:55, 47.61it/s]\n"
     ]
    }
   ],
   "metadata": {}
  },
  {
   "cell_type": "code",
   "execution_count": 28,
   "source": [
    "Label = pd.concat(Label,axis = 1).T\r\n",
    "Attribute = pd.concat(Attribute,axis = 1).T"
   ],
   "outputs": [],
   "metadata": {}
  },
  {
   "cell_type": "code",
   "execution_count": 56,
   "source": [
    "Label.to_csv('../PosteriorData/Label.csv',index = False)\r\n",
    "Attribute.to_csv('../PosteriorData/Attribute.csv',index = False)"
   ],
   "outputs": [],
   "metadata": {}
  },
  {
   "cell_type": "code",
   "execution_count": 2,
   "source": [
    "os.getcwd()"
   ],
   "outputs": [
    {
     "output_type": "execute_result",
     "data": {
      "text/plain": [
       "'e:\\\\Lidar-Tracker\\\\Lidar-Tracker'"
      ]
     },
     "metadata": {},
     "execution_count": 2
    }
   ],
   "metadata": {}
  },
  {
   "cell_type": "code",
   "execution_count": null,
   "source": [],
   "outputs": [],
   "metadata": {}
  }
 ],
 "metadata": {
  "interpreter": {
   "hash": "264d4b06b82b4c8c92382c50b2f975f908ac6aaca074b0595d11a5094b145580"
  },
  "kernelspec": {
   "name": "python3",
   "display_name": "Python 3.8.11 64-bit ('tracking': conda)"
  },
  "language_info": {
   "codemirror_mode": {
    "name": "ipython",
    "version": 3
   },
   "file_extension": ".py",
   "mimetype": "text/x-python",
   "name": "python",
   "nbconvert_exporter": "python",
   "pygments_lexer": "ipython3",
   "version": "3.8.11"
  }
 },
 "nbformat": 4,
 "nbformat_minor": 5
}