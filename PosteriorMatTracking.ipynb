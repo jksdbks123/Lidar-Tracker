{
 "cells": [
  {
   "cell_type": "code",
   "execution_count": 2,
   "id": "6014f6db",
   "metadata": {},
   "outputs": [
    {
     "name": "stdout",
     "output_type": "stream",
     "text": [
      "Jupyter environment detected. Enabling Open3D WebVisualizer.\n",
      "[Open3D INFO] WebRTC GUI backend enabled.\n",
      "[Open3D INFO] WebRTCWindowSystem: HTTP handshake server disabled.\n"
     ]
    }
   ],
   "source": [
    "from MOT import MOT\n",
    "import numpy as np\n",
    "import os\n",
    "from BfTableGenerator import RansacCollector\n",
    "from BfTableGenerator import TDmapLoader\n",
    "from tqdm import tqdm\n",
    "import open3d as op3\n",
    "# from open3d.web_visualizer import draw\n",
    "from Utils import *\n",
    "import pandas as pd\n",
    "from scipy.sparse import csr_matrix\n",
    "import json\n",
    "from scipy.optimize import linear_sum_assignment\n",
    "import pandas as pd"
   ]
  },
  {
   "cell_type": "code",
   "execution_count": 5,
   "id": "b02c5d1f",
   "metadata": {},
   "outputs": [],
   "source": [
    "RawTrajs_0 = pd.read_csv('../RawLidarData/McCarranEvans_Train/OutputFile/OutputTrajs/Trajctories_0.csv')\n",
    "RawTrajs_1 = pd.read_csv('../RawLidarData/McCarranEvans_Train/OutputFile/OutputTrajs/Trajctories_1.csv')\n",
    "TrajGroups_0 = RawTrajs_0.groupby('ObjectID')\n",
    "TrajGroups_1 = RawTrajs_1.groupby('ObjectID')\n",
    "TrajGroups_0 = [g[1] for g in TrajGroups_0]\n",
    "TrajGroups_1 = [g[1] for g in TrajGroups_1]"
   ]
  },
  {
   "cell_type": "code",
   "execution_count": 43,
   "id": "d203eb32",
   "metadata": {},
   "outputs": [],
   "source": [
    "X_cur,Y_cur,X_next,Y_next,X_speed_cur,Y_speed_cur,X_speed_next,Y_speed_next = [],[],[],[],[],[],[],[]\n"
   ]
  },
  {
   "cell_type": "code",
   "execution_count": 44,
   "id": "c4fa06c0",
   "metadata": {},
   "outputs": [
    {
     "name": "stderr",
     "output_type": "stream",
     "text": [
      "100%|████████████████████████████████████████████████████████████████████████████████| 530/530 [01:11<00:00,  7.38it/s]\n",
      "100%|████████████████████████████████████████████████████████████████████████████████| 530/530 [01:11<00:00,  7.36it/s]\n"
     ]
    }
   ],
   "source": [
    "for ind in tqdm(range(len(TrajGroups_0))):\n",
    "    temp_group = TrajGroups_0[ind]\n",
    "    for i in range(1,len(temp_group)):\n",
    "        if np.isnan(temp_group.iloc[i,2])|(np.isnan(temp_group.iloc[i-1,2])):\n",
    "            continue\n",
    "        X_next.append(temp_group.iloc[i].Coord_X_Mea)\n",
    "        X_cur.append(temp_group.iloc[i-1].Coord_X_Mea)\n",
    "        Y_next.append(temp_group.iloc[i].Coord_Y_Mea)\n",
    "        Y_cur.append(temp_group.iloc[i-1].Coord_Y_Mea)\n",
    "        X_speed_next.append(temp_group.iloc[i].Speed_X)\n",
    "        X_speed_cur.append(temp_group.iloc[i-1].Speed_X)\n",
    "        Y_speed_next.append(temp_group.iloc[i].Speed_Y)\n",
    "        Y_speed_cur.append(temp_group.iloc[i-1].Speed_Y)\n",
    "            \n",
    "for ind in tqdm(range(len(TrajGroups_1))):\n",
    "    temp_group = TrajGroups_1[ind]\n",
    "    for i in range(1,len(temp_group)):\n",
    "        if np.isnan(temp_group.iloc[i,2])|(np.isnan(temp_group.iloc[i-1,2])):\n",
    "            continue\n",
    "        X_next.append(temp_group.iloc[i].Coord_X_Mea)\n",
    "        X_cur.append(temp_group.iloc[i-1].Coord_X_Mea)\n",
    "        Y_next.append(temp_group.iloc[i].Coord_Y_Mea)\n",
    "        Y_cur.append(temp_group.iloc[i-1].Coord_Y_Mea)\n",
    "        X_speed_next.append(temp_group.iloc[i].Speed_X)\n",
    "        X_speed_cur.append(temp_group.iloc[i-1].Speed_X)\n",
    "        Y_speed_next.append(temp_group.iloc[i].Speed_Y)\n",
    "        Y_speed_cur.append(temp_group.iloc[i-1].Speed_Y)"
   ]
  },
  {
   "cell_type": "code",
   "execution_count": 45,
   "id": "41751ec6",
   "metadata": {},
   "outputs": [],
   "source": [
    "result = pd.DataFrame({\n",
    "    'X_cur':X_cur,\n",
    "    'Y_cur':Y_cur,\n",
    "    'X_speed_cur':X_speed_cur,\n",
    "    'Y_speed_cur':Y_speed_cur,\n",
    "    'X_next':X_next,\n",
    "    'Y_next':Y_next,\n",
    "    'X_speed_next':X_speed_next,\n",
    "    'Y_speed_next':Y_speed_next,\n",
    "})"
   ]
  },
  {
   "cell_type": "code",
   "execution_count": 51,
   "id": "db2c396e",
   "metadata": {},
   "outputs": [],
   "source": [
    "result.to_csv('./PosteriorModel/Train.csv',index = False)"
   ]
  },
  {
   "cell_type": "code",
   "execution_count": null,
   "id": "adce1d98",
   "metadata": {},
   "outputs": [],
   "source": []
  },
  {
   "cell_type": "code",
   "execution_count": null,
   "id": "3410562b",
   "metadata": {},
   "outputs": [],
   "source": []
  },
  {
   "cell_type": "code",
   "execution_count": 27,
   "id": "cf16d21d",
   "metadata": {},
   "outputs": [
    {
     "name": "stderr",
     "output_type": "stream",
     "text": [
      "2658it [00:55, 47.61it/s]\n"
     ]
    }
   ],
   "source": [
    "Label,Attribute = [],[]\n",
    "for ind,traj in tqdm(enumerate(Trajs)):\n",
    "    if Lens[ind] > 2:\n",
    "        for i in range(1,len(traj)):\n",
    "            labels = traj.iloc[i,[0,1,4,5]]\n",
    "            attributes = traj.iloc[i-1,[0,1,4,5]]\n",
    "            Label.append(labels)\n",
    "            Attribute.append(attributes)\n",
    "    else:\n",
    "        continue "
   ]
  },
  {
   "cell_type": "code",
   "execution_count": 28,
   "id": "f4aac110",
   "metadata": {},
   "outputs": [],
   "source": [
    "Label = pd.concat(Label,axis = 1).T\n",
    "Attribute = pd.concat(Attribute,axis = 1).T"
   ]
  },
  {
   "cell_type": "code",
   "execution_count": 56,
   "id": "512623bc",
   "metadata": {},
   "outputs": [],
   "source": [
    "Label.to_csv('../PosteriorData/Label.csv',index = False)\n",
    "Attribute.to_csv('../PosteriorData/Attribute.csv',index = False)"
   ]
  },
  {
   "cell_type": "code",
   "execution_count": 2,
   "id": "01858a30",
   "metadata": {},
   "outputs": [
    {
     "data": {
      "text/plain": [
       "'e:\\\\Lidar-Tracker\\\\Lidar-Tracker'"
      ]
     },
     "execution_count": 2,
     "metadata": {},
     "output_type": "execute_result"
    }
   ],
   "source": [
    "os.getcwd()"
   ]
  },
  {
   "cell_type": "code",
   "execution_count": null,
   "id": "33bed961",
   "metadata": {},
   "outputs": [],
   "source": []
  },
  {
   "cell_type": "code",
   "execution_count": 4,
   "id": "edaf7e3f",
   "metadata": {},
   "outputs": [],
   "source": [
    "params = {\n",
    "    'd':1.2,\n",
    "    'thred_s':0.3,\n",
    "    'N':20,\n",
    "    'delta_thred' : 1e-3,\n",
    "    'step':0.1,\n",
    "    'win_size':(5,11),\n",
    "    'eps': 1.8,\n",
    "    'min_samples':15,\n",
    "    'missing_thred':7,\n",
    "    'ending_frame' : 17950,\n",
    "    'background_update_frame':2000,\n",
    "    'save_pcd' : True,\n",
    "    'save_Azimuth_Laser_info' : False,\n",
    "    'result_type':'merged'\n",
    "}"
   ]
  },
  {
   "cell_type": "code",
   "execution_count": 2,
   "id": "2f9a4788",
   "metadata": {},
   "outputs": [
    {
     "name": "stdout",
     "output_type": "stream",
     "text": [
      "tensor([[-11.8579, -24.2041]], grad_fn=<AddmmBackward>)\n"
     ]
    }
   ],
   "source": [
    "from MOT_NN import MOT_NN"
   ]
  },
  {
   "cell_type": "code",
   "execution_count": 5,
   "id": "8234266f",
   "metadata": {
    "scrolled": true
   },
   "outputs": [
    {
     "name": "stderr",
     "output_type": "stream",
     "text": [
      "  0%|          | 2/2000 [00:00<01:40, 19.84it/s]"
     ]
    },
    {
     "name": "stdout",
     "output_type": "stream",
     "text": [
      "Frame update frame:2000 Initialization...\n"
     ]
    },
    {
     "name": "stderr",
     "output_type": "stream",
     "text": [
      "100%|██████████| 2000/2000 [01:30<00:00, 22.18it/s]\n"
     ]
    },
    {
     "name": "stdout",
     "output_type": "stream",
     "text": [
      "Generating Threshold Map\n"
     ]
    },
    {
     "name": "stderr",
     "output_type": "stream",
     "text": [
      "Tracking 2000 frame:  11%|█         | 1999/17949 [03:51<34:29,  7.71it/s]"
     ]
    },
    {
     "name": "stdout",
     "output_type": "stream",
     "text": [
      "Generating Threshold Map\n"
     ]
    },
    {
     "name": "stderr",
     "output_type": "stream",
     "text": [
      "Tracking 4000 frame:  22%|██▏       | 3999/17949 [08:10<23:57,  9.70it/s]  "
     ]
    },
    {
     "name": "stdout",
     "output_type": "stream",
     "text": [
      "Generating Threshold Map\n"
     ]
    },
    {
     "name": "stderr",
     "output_type": "stream",
     "text": [
      "Tracking 6000 frame:  33%|███▎      | 5999/17949 [12:06<19:56,  9.99it/s]  "
     ]
    },
    {
     "name": "stdout",
     "output_type": "stream",
     "text": [
      "Generating Threshold Map\n"
     ]
    },
    {
     "name": "stderr",
     "output_type": "stream",
     "text": [
      "Tracking 8000 frame:  45%|████▍     | 7999/17949 [16:14<17:23,  9.53it/s]  "
     ]
    },
    {
     "name": "stdout",
     "output_type": "stream",
     "text": [
      "Generating Threshold Map\n"
     ]
    },
    {
     "name": "stderr",
     "output_type": "stream",
     "text": [
      "Tracking 10000 frame:  56%|█████▌    | 9999/17949 [20:35<18:10,  7.29it/s] "
     ]
    },
    {
     "name": "stdout",
     "output_type": "stream",
     "text": [
      "Generating Threshold Map\n"
     ]
    },
    {
     "name": "stderr",
     "output_type": "stream",
     "text": [
      "Tracking 12000 frame:  67%|██████▋   | 11999/17949 [25:36<13:15,  7.48it/s]  "
     ]
    },
    {
     "name": "stdout",
     "output_type": "stream",
     "text": [
      "Generating Threshold Map\n"
     ]
    },
    {
     "name": "stderr",
     "output_type": "stream",
     "text": [
      "Tracking 14000 frame:  78%|███████▊  | 13999/17949 [29:46<09:29,  6.93it/s]  "
     ]
    },
    {
     "name": "stdout",
     "output_type": "stream",
     "text": [
      "Generating Threshold Map\n"
     ]
    },
    {
     "name": "stderr",
     "output_type": "stream",
     "text": [
      "Tracking 16000 frame:  89%|████████▉ | 15999/17949 [33:54<03:33,  9.13it/s]  "
     ]
    },
    {
     "name": "stdout",
     "output_type": "stream",
     "text": [
      "Generating Threshold Map\n"
     ]
    },
    {
     "name": "stderr",
     "output_type": "stream",
     "text": [
      "Tracking 17949 frame: 100%|██████████| 17949/17949 [37:34<00:00,  7.96it/s]\n",
      "  2%|▏         | 61/2532 [00:00<00:04, 602.12it/s]"
     ]
    },
    {
     "name": "stdout",
     "output_type": "stream",
     "text": [
      "Generating Traj Files...\n"
     ]
    },
    {
     "name": "stderr",
     "output_type": "stream",
     "text": [
      "100%|██████████| 2532/2532 [00:04<00:00, 620.38it/s]\n"
     ]
    }
   ],
   "source": [
    "input_path = '../RawLidarData/Veteran'\n",
    "dir_lis = os.listdir(input_path)\n",
    "pcap_path = 'None'\n",
    "for f in dir_lis:\n",
    "    if 'pcap' in f.split('.'):\n",
    "        pcap_path = os.path.join(input_path,f)\n",
    "if pcap_path == 'None':\n",
    "    print('Pcap file is not detected')\n",
    "output_file_path = '../RawLidarData/Veteran'\n",
    "config_path = os.path.join(input_path,'config.json')\n",
    "ref_LLH_path,ref_xyz_path = os.path.join(input_path,'LLE_ref.csv'),os.path.join(input_path,'xyz_ref.csv')\n",
    "ref_LLH,ref_xyz = np.array(pd.read_csv(ref_LLH_path)),np.array(pd.read_csv(ref_xyz_path))\n",
    "ref_LLH[:,[0,1]] = ref_LLH[:,[0,1]] * np.pi/180\n",
    "ref_LLH[:,2] = ref_LLH[:,2]/3.2808\n",
    "\n",
    "# TrackingModel Path\n",
    "model_path = './PosteriorModel/saved_model.pth' \n",
    "\n",
    "# with open(config_path) as f:\n",
    "#     params = json.load(f)\n",
    "mot = MOT_NN(pcap_path,output_file_path,model_path,**params)\n",
    "mot.initialization()\n",
    "mot.mot_tracking()\n",
    "mot.save_result(ref_LLH,ref_xyz)"
   ]
  },
  {
   "cell_type": "code",
   "execution_count": null,
   "id": "cebc07b1",
   "metadata": {},
   "outputs": [],
   "source": []
  },
  {
   "cell_type": "code",
   "execution_count": null,
   "id": "fd1b4537",
   "metadata": {},
   "outputs": [],
   "source": []
  }
 ],
 "metadata": {
  "interpreter": {
   "hash": "1e5f7bb8ccf0c05ceb6f1a2a367df183186574b25661c58bd0281a0958a9efbd"
  },
  "kernelspec": {
   "display_name": "Python 3 (ipykernel)",
   "language": "python",
   "name": "python3"
  },
  "language_info": {
   "codemirror_mode": {
    "name": "ipython",
    "version": 3
   },
   "file_extension": ".py",
   "mimetype": "text/x-python",
   "name": "python",
   "nbconvert_exporter": "python",
   "pygments_lexer": "ipython3",
   "version": "3.8.11"
  }
 },
 "nbformat": 4,
 "nbformat_minor": 5
}
