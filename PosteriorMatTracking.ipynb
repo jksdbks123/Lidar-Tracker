{
 "cells": [
  {
   "cell_type": "code",
   "execution_count": 1,
   "source": [
    "from MOT import MOT\n",
    "import numpy as np\n",
    "import os\n",
    "from BfTableGenerator import RansacCollector\n",
    "from BfTableGenerator import TDmapLoader\n",
    "from tqdm import tqdm\n",
    "import open3d as op3\n",
    "# from open3d.web_visualizer import draw\n",
    "from Utils import *\n",
    "import pandas as pd\n",
    "from scipy.sparse import csr_matrix"
   ],
   "outputs": [],
   "metadata": {}
  },
  {
   "cell_type": "code",
   "execution_count": 131,
   "source": [
    "a = 6378137\n",
    "b = 6356752.31414\n",
    "e1=(a**2-b**2)/(a**2) #First eccentricity of the ellipsoid\n",
    "e2=(a**2-b**2)/(b**2) #second eccentricity of the ellipsoid"
   ],
   "outputs": [],
   "metadata": {}
  },
  {
   "cell_type": "code",
   "execution_count": 132,
   "source": [
    "A = np.concatenate([np.array([\n",
    "    [-19.09431575,-25.32061849,5.78213465],\n",
    "    [-9.88950927,-0.2624204,-0.92349226],\n",
    "    [21.52768583,17.57006876,-2.26844151],\n",
    "    [23.43061836,-1.17874425,-1.36626699]\n",
    "]),np.ones(4).reshape(-1,1)],axis = 1)\n",
    "\n",
    "temp = np.array([\n",
    "    [36.01755845,\t-115.0832427,\t686.1517033],\n",
    "    [36.01752893,\t-115.0829601,\t686.1517033],\n",
    "    [36.01725356,\t-115.0827685,\t686.1517033],\n",
    "    [36.01722806,\t-115.0829583,\t686.1517033]\n",
    "])\n",
    "temp[:,[0,1]] = temp[:,[0,1]]*np.pi/180\n",
    "temp[:,2] = temp[:,2]/3.2808"
   ],
   "outputs": [],
   "metadata": {}
  },
  {
   "cell_type": "code",
   "execution_count": 142,
   "source": [
    "N = a/np.sqrt((1 - e1 * np.sin(temp[:,0])**2)) \n",
    "B = np.concatenate([\n",
    "    ((N + temp[:,2]) * np.cos(temp[:,0]) * np.cos(temp[:,1])).reshape(-1,1),\n",
    "  ((N + temp[:,2]) * np.cos(temp[:,0]) * np.sin(temp[:,1])).reshape(-1,1),\n",
    "  ((N*(1 - e1) + temp[:,2]) * np.sin(temp[:,0])).reshape(-1,1)\n",
    " ],axis = 1)\n",
    "B = np.concatenate([B,np.ones(4).reshape(-1,1)],axis = 1)\n",
    "T = np.linalg.inv((A.T).dot(A)).dot(A.T.dot(B))"
   ],
   "outputs": [],
   "metadata": {}
  },
  {
   "cell_type": "code",
   "execution_count": 143,
   "source": [
    "test_traj = pd.read_csv('../2020-3-1-0-0-0-BF1-CL1-Traj(0-18000frames).csv')\n",
    "xyz  = np.array(test_traj.loc[:,['Coord_x','Coord_y','Coord_z']])\n",
    "xyz1 = np.concatenate([xyz,np.ones(len(xyz)).reshape(-1,1)],axis = 1)\n",
    "XYZ1 = xyz1.dot(T)\n"
   ],
   "outputs": [],
   "metadata": {}
  },
  {
   "cell_type": "code",
   "execution_count": 163,
   "source": [
    "lon = (np.arctan(XYZ1[:,1]/XYZ1[:,0])-np.pi)*180/np.pi\n",
    "theta = np.arctan(a * XYZ1[:,2]/(b * np.sqrt(XYZ1[:,0]**2 + XYZ1[:,1]**2)))\n",
    "lat = np.arctan((XYZ1[:,2] + e2*b*np.sin(theta)**3)/(np.sqrt(XYZ1[:,0]**2 + XYZ1[:,1]**2) - e1*a*np.cos(theta)**3))\n",
    "evel = XYZ1[:,2]/np.sin(lat) - (a/np.sqrt((1 - e1 * np.sin(lat)**2)))*(1 - e1)\n",
    "# XYZ1[:,2]/np.sin(lat) - a/np.sqrt((1 - e1 * np.sin(lat*np.pi/180)**2)) \n",
    "lat = lat*180/np.pi"
   ],
   "outputs": [],
   "metadata": {}
  },
  {
   "cell_type": "code",
   "execution_count": 175,
   "source": [
    "pd.DataFrame({\n",
    "    'Lat':lat,\n",
    "    'Lon':lon,\n",
    "    'Evel':evel\n",
    "}).to_csv(r'./result.csv',index=False)"
   ],
   "outputs": [],
   "metadata": {}
  },
  {
   "cell_type": "code",
   "execution_count": 165,
   "source": [
    "val = pd.read_csv('../test.csv')\n"
   ],
   "outputs": [],
   "metadata": {}
  },
  {
   "cell_type": "code",
   "execution_count": 166,
   "source": [
    "re = pd.DataFrame({\n",
    "    'Lat':lat,\n",
    "    'Lon':lon,\n",
    "    'Evel':evel\n",
    "})"
   ],
   "outputs": [],
   "metadata": {}
  },
  {
   "cell_type": "code",
   "execution_count": 3,
   "source": [
    "TrajPath = r'.\\OutputFile\\OutputTrajs'\n",
    "TrajLis = os.listdir(TrajPath)"
   ],
   "outputs": [
    {
     "output_type": "error",
     "ename": "FileNotFoundError",
     "evalue": "[Errno 2] No such file or directory: '.\\\\OutputFile\\\\OutputTrajs'",
     "traceback": [
      "\u001b[0;31m---------------------------------------------------------------------------\u001b[0m",
      "\u001b[0;31mFileNotFoundError\u001b[0m                         Traceback (most recent call last)",
      "\u001b[0;32m<ipython-input-3-1ff553da2b55>\u001b[0m in \u001b[0;36m<module>\u001b[0;34m\u001b[0m\n\u001b[1;32m      1\u001b[0m \u001b[0mTrajPath\u001b[0m \u001b[0;34m=\u001b[0m \u001b[0;34mr'.\\OutputFile\\OutputTrajs'\u001b[0m\u001b[0;34m\u001b[0m\u001b[0;34m\u001b[0m\u001b[0m\n\u001b[0;32m----> 2\u001b[0;31m \u001b[0mTrajLis\u001b[0m \u001b[0;34m=\u001b[0m \u001b[0mos\u001b[0m\u001b[0;34m.\u001b[0m\u001b[0mlistdir\u001b[0m\u001b[0;34m(\u001b[0m\u001b[0mTrajPath\u001b[0m\u001b[0;34m)\u001b[0m\u001b[0;34m\u001b[0m\u001b[0;34m\u001b[0m\u001b[0m\n\u001b[0m",
      "\u001b[0;31mFileNotFoundError\u001b[0m: [Errno 2] No such file or directory: '.\\\\OutputFile\\\\OutputTrajs'"
     ]
    }
   ],
   "metadata": {
    "scrolled": true
   }
  },
  {
   "cell_type": "code",
   "execution_count": null,
   "source": [
    "TPM = np.zeros((400,400))"
   ],
   "outputs": [],
   "metadata": {}
  },
  {
   "cell_type": "code",
   "execution_count": 37,
   "source": [
    "TPMs = [np.zeros((400*400,400*400)) for i in range(7)]"
   ],
   "outputs": [
    {
     "output_type": "error",
     "ename": "MemoryError",
     "evalue": "Unable to allocate 191. GiB for an array with shape (160000, 160000) and data type float64",
     "traceback": [
      "\u001b[1;31m---------------------------------------------------------------------------\u001b[0m",
      "\u001b[1;31mMemoryError\u001b[0m                               Traceback (most recent call last)",
      "\u001b[1;32m~\\AppData\\Local\\Temp/ipykernel_14428/1804508784.py\u001b[0m in \u001b[0;36m<module>\u001b[1;34m\u001b[0m\n\u001b[1;32m----> 1\u001b[1;33m \u001b[0mTPMs\u001b[0m \u001b[1;33m=\u001b[0m \u001b[1;33m[\u001b[0m\u001b[0mnp\u001b[0m\u001b[1;33m.\u001b[0m\u001b[0mzeros\u001b[0m\u001b[1;33m(\u001b[0m\u001b[1;33m(\u001b[0m\u001b[1;36m400\u001b[0m\u001b[1;33m*\u001b[0m\u001b[1;36m400\u001b[0m\u001b[1;33m,\u001b[0m\u001b[1;36m400\u001b[0m\u001b[1;33m*\u001b[0m\u001b[1;36m400\u001b[0m\u001b[1;33m)\u001b[0m\u001b[1;33m)\u001b[0m \u001b[1;32mfor\u001b[0m \u001b[0mi\u001b[0m \u001b[1;32min\u001b[0m \u001b[0mrange\u001b[0m\u001b[1;33m(\u001b[0m\u001b[1;36m7\u001b[0m\u001b[1;33m)\u001b[0m\u001b[1;33m]\u001b[0m\u001b[1;33m\u001b[0m\u001b[1;33m\u001b[0m\u001b[0m\n\u001b[0m",
      "\u001b[1;32m~\\AppData\\Local\\Temp/ipykernel_14428/1804508784.py\u001b[0m in \u001b[0;36m<listcomp>\u001b[1;34m(.0)\u001b[0m\n\u001b[1;32m----> 1\u001b[1;33m \u001b[0mTPMs\u001b[0m \u001b[1;33m=\u001b[0m \u001b[1;33m[\u001b[0m\u001b[0mnp\u001b[0m\u001b[1;33m.\u001b[0m\u001b[0mzeros\u001b[0m\u001b[1;33m(\u001b[0m\u001b[1;33m(\u001b[0m\u001b[1;36m400\u001b[0m\u001b[1;33m*\u001b[0m\u001b[1;36m400\u001b[0m\u001b[1;33m,\u001b[0m\u001b[1;36m400\u001b[0m\u001b[1;33m*\u001b[0m\u001b[1;36m400\u001b[0m\u001b[1;33m)\u001b[0m\u001b[1;33m)\u001b[0m \u001b[1;32mfor\u001b[0m \u001b[0mi\u001b[0m \u001b[1;32min\u001b[0m \u001b[0mrange\u001b[0m\u001b[1;33m(\u001b[0m\u001b[1;36m7\u001b[0m\u001b[1;33m)\u001b[0m\u001b[1;33m]\u001b[0m\u001b[1;33m\u001b[0m\u001b[1;33m\u001b[0m\u001b[0m\n\u001b[0m",
      "\u001b[1;31mMemoryError\u001b[0m: Unable to allocate 191. GiB for an array with shape (160000, 160000) and data type float64"
     ]
    }
   ],
   "metadata": {}
  },
  {
   "cell_type": "code",
   "execution_count": 30,
   "source": [
    "# rule out the estimated values by KF\n",
    "TestTraj = np.array(pd.read_csv(os.path.join(TrajPath,TrajLis[0])))[:,[0,1]][:-8]\n",
    "BinX,BinY = np.arange(-200,201),np.arange(-200,201)\n",
    "XIndex,YIndex = np.digitize(TestTraj[:,0],BinX),np.digitize(TestTraj[:,1],BinY)\n",
    "for tpm in TPMs:\n",
    "    "
   ],
   "outputs": [],
   "metadata": {}
  },
  {
   "cell_type": "code",
   "execution_count": null,
   "source": [
    "np.zeros((200,200,))"
   ],
   "outputs": [],
   "metadata": {}
  },
  {
   "cell_type": "code",
   "execution_count": 20,
   "source": [
    "TestTraj.iloc[:-8]"
   ],
   "outputs": [
    {
     "output_type": "execute_result",
     "data": {
      "text/html": [
       "<div>\n",
       "<style scoped>\n",
       "    .dataframe tbody tr th:only-of-type {\n",
       "        vertical-align: middle;\n",
       "    }\n",
       "\n",
       "    .dataframe tbody tr th {\n",
       "        vertical-align: top;\n",
       "    }\n",
       "\n",
       "    .dataframe thead th {\n",
       "        text-align: right;\n",
       "    }\n",
       "</style>\n",
       "<table border=\"1\" class=\"dataframe\">\n",
       "  <thead>\n",
       "    <tr style=\"text-align: right;\">\n",
       "      <th></th>\n",
       "      <th>X_Coord_mea</th>\n",
       "      <th>Y_Coord_mea</th>\n",
       "      <th>X_Len_mea</th>\n",
       "      <th>Y_Len_mea</th>\n",
       "      <th>Z_Len_mea</th>\n",
       "      <th>X_Coord_est</th>\n",
       "      <th>Y_Coord_est</th>\n",
       "      <th>X_Len_est</th>\n",
       "      <th>Y_Len_est</th>\n",
       "      <th>Z_Len_est</th>\n",
       "      <th>X_Vel_est</th>\n",
       "      <th>Y_Vel_est</th>\n",
       "      <th>X_Acc_est</th>\n",
       "      <th>Y_Acc_est</th>\n",
       "    </tr>\n",
       "  </thead>\n",
       "  <tbody>\n",
       "    <tr>\n",
       "      <th>0</th>\n",
       "      <td>-11.880474</td>\n",
       "      <td>-24.119835</td>\n",
       "      <td>5.745061</td>\n",
       "      <td>3.441625</td>\n",
       "      <td>1.998897</td>\n",
       "      <td>-11.880474</td>\n",
       "      <td>-24.119835</td>\n",
       "      <td>5.745061</td>\n",
       "      <td>3.441625</td>\n",
       "      <td>1.998897</td>\n",
       "      <td>0.000000</td>\n",
       "      <td>0.000000</td>\n",
       "      <td>0.000000</td>\n",
       "      <td>0.000000</td>\n",
       "    </tr>\n",
       "    <tr>\n",
       "      <th>1</th>\n",
       "      <td>-11.368456</td>\n",
       "      <td>-24.197860</td>\n",
       "      <td>5.664705</td>\n",
       "      <td>3.208388</td>\n",
       "      <td>1.987152</td>\n",
       "      <td>-11.786089</td>\n",
       "      <td>-24.134218</td>\n",
       "      <td>5.668514</td>\n",
       "      <td>3.219442</td>\n",
       "      <td>1.987708</td>\n",
       "      <td>0.062645</td>\n",
       "      <td>-0.009546</td>\n",
       "      <td>0.020882</td>\n",
       "      <td>-0.003182</td>\n",
       "    </tr>\n",
       "    <tr>\n",
       "      <th>2</th>\n",
       "      <td>-11.024649</td>\n",
       "      <td>-24.375524</td>\n",
       "      <td>5.496608</td>\n",
       "      <td>3.371619</td>\n",
       "      <td>2.002513</td>\n",
       "      <td>-11.413091</td>\n",
       "      <td>-24.245639</td>\n",
       "      <td>5.512613</td>\n",
       "      <td>3.340198</td>\n",
       "      <td>2.000077</td>\n",
       "      <td>0.291764</td>\n",
       "      <td>-0.082358</td>\n",
       "      <td>0.092412</td>\n",
       "      <td>-0.027100</td>\n",
       "    </tr>\n",
       "    <tr>\n",
       "      <th>3</th>\n",
       "      <td>-10.769361</td>\n",
       "      <td>-24.353723</td>\n",
       "      <td>4.778183</td>\n",
       "      <td>2.999653</td>\n",
       "      <td>1.992186</td>\n",
       "      <td>-10.886457</td>\n",
       "      <td>-24.349060</td>\n",
       "      <td>4.904718</td>\n",
       "      <td>3.086393</td>\n",
       "      <td>1.995657</td>\n",
       "      <td>0.496676</td>\n",
       "      <td>-0.113938</td>\n",
       "      <td>0.125370</td>\n",
       "      <td>-0.028413</td>\n",
       "    </tr>\n",
       "    <tr>\n",
       "      <th>4</th>\n",
       "      <td>-10.471005</td>\n",
       "      <td>-24.214727</td>\n",
       "      <td>4.444730</td>\n",
       "      <td>2.422467</td>\n",
       "      <td>2.000417</td>\n",
       "      <td>-10.421378</td>\n",
       "      <td>-24.305243</td>\n",
       "      <td>4.464018</td>\n",
       "      <td>2.588782</td>\n",
       "      <td>1.999413</td>\n",
       "      <td>0.573218</td>\n",
       "      <td>-0.053293</td>\n",
       "      <td>0.113066</td>\n",
       "      <td>-0.005970</td>\n",
       "    </tr>\n",
       "    <tr>\n",
       "      <th>5</th>\n",
       "      <td>-10.226033</td>\n",
       "      <td>-24.236790</td>\n",
       "      <td>3.776464</td>\n",
       "      <td>2.431757</td>\n",
       "      <td>1.967476</td>\n",
       "      <td>-10.069100</td>\n",
       "      <td>-24.281851</td>\n",
       "      <td>3.874649</td>\n",
       "      <td>2.388622</td>\n",
       "      <td>1.979858</td>\n",
       "      <td>0.557386</td>\n",
       "      <td>-0.022253</td>\n",
       "      <td>0.084361</td>\n",
       "      <td>0.002272</td>\n",
       "    </tr>\n",
       "    <tr>\n",
       "      <th>6</th>\n",
       "      <td>-9.911183</td>\n",
       "      <td>-24.461892</td>\n",
       "      <td>3.335502</td>\n",
       "      <td>2.340459</td>\n",
       "      <td>1.958870</td>\n",
       "      <td>-9.739566</td>\n",
       "      <td>-24.400137</td>\n",
       "      <td>3.358502</td>\n",
       "      <td>2.261529</td>\n",
       "      <td>1.964841</td>\n",
       "      <td>0.526517</td>\n",
       "      <td>-0.061446</td>\n",
       "      <td>0.061200</td>\n",
       "      <td>-0.006062</td>\n",
       "    </tr>\n",
       "    <tr>\n",
       "      <th>7</th>\n",
       "      <td>-9.634861</td>\n",
       "      <td>-24.415833</td>\n",
       "      <td>2.605300</td>\n",
       "      <td>2.102447</td>\n",
       "      <td>1.946846</td>\n",
       "      <td>-9.446976</td>\n",
       "      <td>-24.436091</td>\n",
       "      <td>2.712378</td>\n",
       "      <td>2.083689</td>\n",
       "      <td>1.950491</td>\n",
       "      <td>0.482500</td>\n",
       "      <td>-0.056163</td>\n",
       "      <td>0.041797</td>\n",
       "      <td>-0.003970</td>\n",
       "    </tr>\n",
       "    <tr>\n",
       "      <th>8</th>\n",
       "      <td>-9.321026</td>\n",
       "      <td>-24.570280</td>\n",
       "      <td>1.969080</td>\n",
       "      <td>1.984450</td>\n",
       "      <td>2.114373</td>\n",
       "      <td>-9.155233</td>\n",
       "      <td>-24.536879</td>\n",
       "      <td>2.051161</td>\n",
       "      <td>1.944257</td>\n",
       "      <td>2.041065</td>\n",
       "      <td>0.445053</td>\n",
       "      <td>-0.076098</td>\n",
       "      <td>0.028184</td>\n",
       "      <td>-0.006713</td>\n",
       "    </tr>\n",
       "    <tr>\n",
       "      <th>9</th>\n",
       "      <td>-8.997133</td>\n",
       "      <td>-24.676813</td>\n",
       "      <td>1.517818</td>\n",
       "      <td>1.815612</td>\n",
       "      <td>1.647589</td>\n",
       "      <td>-8.858574</td>\n",
       "      <td>-24.648977</td>\n",
       "      <td>1.494903</td>\n",
       "      <td>1.795908</td>\n",
       "      <td>1.823872</td>\n",
       "      <td>0.415482</td>\n",
       "      <td>-0.094414</td>\n",
       "      <td>0.018795</td>\n",
       "      <td>-0.008599</td>\n",
       "    </tr>\n",
       "    <tr>\n",
       "      <th>10</th>\n",
       "      <td>-8.566189</td>\n",
       "      <td>-24.302387</td>\n",
       "      <td>0.460063</td>\n",
       "      <td>0.789918</td>\n",
       "      <td>1.346841</td>\n",
       "      <td>-8.502809</td>\n",
       "      <td>-24.515403</td>\n",
       "      <td>0.653344</td>\n",
       "      <td>1.144270</td>\n",
       "      <td>1.522325</td>\n",
       "      <td>0.410743</td>\n",
       "      <td>-0.023916</td>\n",
       "      <td>0.015115</td>\n",
       "      <td>0.003769</td>\n",
       "    </tr>\n",
       "  </tbody>\n",
       "</table>\n",
       "</div>"
      ],
      "text/plain": [
       "    X_Coord_mea  Y_Coord_mea  X_Len_mea  Y_Len_mea  Z_Len_mea  X_Coord_est  \\\n",
       "0    -11.880474   -24.119835   5.745061   3.441625   1.998897   -11.880474   \n",
       "1    -11.368456   -24.197860   5.664705   3.208388   1.987152   -11.786089   \n",
       "2    -11.024649   -24.375524   5.496608   3.371619   2.002513   -11.413091   \n",
       "3    -10.769361   -24.353723   4.778183   2.999653   1.992186   -10.886457   \n",
       "4    -10.471005   -24.214727   4.444730   2.422467   2.000417   -10.421378   \n",
       "5    -10.226033   -24.236790   3.776464   2.431757   1.967476   -10.069100   \n",
       "6     -9.911183   -24.461892   3.335502   2.340459   1.958870    -9.739566   \n",
       "7     -9.634861   -24.415833   2.605300   2.102447   1.946846    -9.446976   \n",
       "8     -9.321026   -24.570280   1.969080   1.984450   2.114373    -9.155233   \n",
       "9     -8.997133   -24.676813   1.517818   1.815612   1.647589    -8.858574   \n",
       "10    -8.566189   -24.302387   0.460063   0.789918   1.346841    -8.502809   \n",
       "\n",
       "    Y_Coord_est  X_Len_est  Y_Len_est  Z_Len_est  X_Vel_est  Y_Vel_est  \\\n",
       "0    -24.119835   5.745061   3.441625   1.998897   0.000000   0.000000   \n",
       "1    -24.134218   5.668514   3.219442   1.987708   0.062645  -0.009546   \n",
       "2    -24.245639   5.512613   3.340198   2.000077   0.291764  -0.082358   \n",
       "3    -24.349060   4.904718   3.086393   1.995657   0.496676  -0.113938   \n",
       "4    -24.305243   4.464018   2.588782   1.999413   0.573218  -0.053293   \n",
       "5    -24.281851   3.874649   2.388622   1.979858   0.557386  -0.022253   \n",
       "6    -24.400137   3.358502   2.261529   1.964841   0.526517  -0.061446   \n",
       "7    -24.436091   2.712378   2.083689   1.950491   0.482500  -0.056163   \n",
       "8    -24.536879   2.051161   1.944257   2.041065   0.445053  -0.076098   \n",
       "9    -24.648977   1.494903   1.795908   1.823872   0.415482  -0.094414   \n",
       "10   -24.515403   0.653344   1.144270   1.522325   0.410743  -0.023916   \n",
       "\n",
       "    X_Acc_est  Y_Acc_est  \n",
       "0    0.000000   0.000000  \n",
       "1    0.020882  -0.003182  \n",
       "2    0.092412  -0.027100  \n",
       "3    0.125370  -0.028413  \n",
       "4    0.113066  -0.005970  \n",
       "5    0.084361   0.002272  \n",
       "6    0.061200  -0.006062  \n",
       "7    0.041797  -0.003970  \n",
       "8    0.028184  -0.006713  \n",
       "9    0.018795  -0.008599  \n",
       "10   0.015115   0.003769  "
      ]
     },
     "metadata": {},
     "execution_count": 20
    }
   ],
   "metadata": {
    "scrolled": false
   }
  },
  {
   "cell_type": "code",
   "execution_count": null,
   "source": [
    "TPM = np.zeros((200,200))"
   ],
   "outputs": [],
   "metadata": {}
  },
  {
   "cell_type": "code",
   "execution_count": null,
   "source": [
    "np.digitize()"
   ],
   "outputs": [],
   "metadata": {}
  },
  {
   "cell_type": "code",
   "execution_count": null,
   "source": [],
   "outputs": [],
   "metadata": {}
  }
 ],
 "metadata": {
  "interpreter": {
   "hash": "1e5f7bb8ccf0c05ceb6f1a2a367df183186574b25661c58bd0281a0958a9efbd"
  },
  "kernelspec": {
   "name": "python3",
   "display_name": "Python 3.8.11 64-bit ('tracking': conda)"
  },
  "language_info": {
   "codemirror_mode": {
    "name": "ipython",
    "version": 3
   },
   "file_extension": ".py",
   "mimetype": "text/x-python",
   "name": "python",
   "nbconvert_exporter": "python",
   "pygments_lexer": "ipython3",
   "version": "3.8.11"
  }
 },
 "nbformat": 4,
 "nbformat_minor": 5
}