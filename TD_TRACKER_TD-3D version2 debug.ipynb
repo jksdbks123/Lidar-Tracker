{
 "cells": [
  {
   "cell_type": "code",
   "execution_count": 1,
   "metadata": {},
   "outputs": [],
   "source": [
    "from scipy.spatial import distance\n",
    "from tqdm.notebook import tqdm\n",
    "import datetime\n",
    "import dpkt\n",
    "import numpy as np\n",
    "import matplotlib.pyplot as plt\n",
    "import os\n",
    "import open3d as op3 \n",
    "import pandas as pd\n",
    "import time\n",
    "from scipy.sparse.csgraph import connected_components\n",
    "from open3d import JVisualizer\n",
    "from BfTableGenerator import RansacCollector\n",
    "from matplotlib import cm\n",
    "from sklearn.cluster._dbscan_inner import dbscan_inner\n",
    "from numpy.lib.stride_tricks import sliding_window_view\n",
    "from DDBSCAN import Raster_DBSCAN\n",
    "from scipy import ndimage \n",
    "import cv2\n",
    "from scipy.optimize import linear_sum_assignment\n",
    "\n",
    "theta_raw = np.array([[-25,1.4],[-1,-4.2],[-1.667,1.4],[-15.639,-1.4],\n",
    "                            [-11.31,1.4],[0,-1.4],[-0.667,4.2],[-8.843,-1.4],\n",
    "                            [-7.254,1.4],[0.333,-4.2],[-0.333,1.4],[-6.148,-1.4],\n",
    "                            [-5.333,4.2],[1.333,-1.4],[0.667,4.2],[-4,-1.4],\n",
    "                            [-4.667,1.4],[1.667,-4.2],[1,1.4],[-3.667,-4.2],\n",
    "                            [-3.333,4.2],[3.333,-1.4],[2.333,1.4],[-2.667,-1.4],\n",
    "                            [-3,1.4],[7,-1.4],[4.667,1.4],[-2.333,-4.2],\n",
    "                            [-2,4.2],[15,-1.4],[10.333,1.4],[-1.333,-1.4]\n",
    "                            ])[:,0]\n",
    "theta = np.sort(theta_raw)\n",
    "azimuths = np.arange(0,360,0.2)"
   ]
  },
  {
   "cell_type": "code",
   "execution_count": 2,
   "metadata": {},
   "outputs": [],
   "source": [
    "np.set_printoptions(suppress=True)"
   ]
  },
  {
   "cell_type": "code",
   "execution_count": 312,
   "metadata": {
    "scrolled": false
   },
   "outputs": [
    {
     "name": "stderr",
     "output_type": "stream",
     "text": [
      "  0%|          | 2/5000 [00:00<04:29, 18.58it/s]"
     ]
    },
    {
     "name": "stdout",
     "output_type": "stream",
     "text": [
      "Loading pcap...\n"
     ]
    },
    {
     "name": "stderr",
     "output_type": "stream",
     "text": [
      "100%|██████████| 5000/5000 [03:50<00:00, 21.69it/s]\n",
      "  0%|          | 0/32 [00:00<?, ?it/s]"
     ]
    },
    {
     "name": "stdout",
     "output_type": "stream",
     "text": [
      "Generating Threshold Map\n"
     ]
    },
    {
     "name": "stderr",
     "output_type": "stream",
     "text": [
      "100%|██████████| 32/32 [00:19<00:00,  1.61it/s]\n"
     ]
    }
   ],
   "source": [
    "# os.chdir(r'/Users/czhui960/Documents/Lidar/RawLidarData/FrameSamplingTest/')\n",
    "# frame_set = np.arange(0,5000,1).astype('int')\n",
    "# collector = RansacCollector(pcap_path=r'./2020-7-27-10-30-0.pcap',frames_set = frame_set)\n",
    "os.chdir(r'/Users/czhui960/Documents/Lidar/RawLidarData/US395/')\n",
    "frame_set = np.arange(0,5000,1).astype('int')\n",
    "collector = RansacCollector(pcap_path=r'./US395.pcap',frames_set = frame_set)\n",
    "collector.gen_tdmap()\n",
    "collector.gen_thredmap(d = 1.2,thred_s = 0.3,N = 20,delta_thred = 1e-3,step = 0.1,inuse_frame = frame_set)\n",
    "# d = 1.2,thred_s = 0.3,N = 20,delta_thred = 1e-3,step = 0.1 FrameSampling\n"
   ]
  },
  {
   "cell_type": "code",
   "execution_count": 318,
   "metadata": {},
   "outputs": [
    {
     "name": "stderr",
     "output_type": "stream",
     "text": [
      "  0%|          | 2/5000 [00:00<06:09, 13.54it/s]"
     ]
    },
    {
     "name": "stdout",
     "output_type": "stream",
     "text": [
      "Loading pcap...\n"
     ]
    },
    {
     "name": "stderr",
     "output_type": "stream",
     "text": [
      "100%|██████████| 5000/5000 [03:40<00:00, 22.65it/s]\n"
     ]
    }
   ],
   "source": [
    "collector.gen_tdmap()"
   ]
  },
  {
   "cell_type": "code",
   "execution_count": 313,
   "metadata": {},
   "outputs": [],
   "source": [
    "Thred_map = collector.thred_map\n",
    "db = Raster_DBSCAN(window_size=(5,13),eps = 1.5, min_samples= 16,Td_map_szie=Thred_map.shape)"
   ]
  },
  {
   "cell_type": "code",
   "execution_count": 314,
   "metadata": {},
   "outputs": [
    {
     "data": {
      "application/vnd.jupyter.widget-view+json": {
       "model_id": "df91cbb54a4e4ec0984e90ac67db9197",
       "version_major": 2,
       "version_minor": 0
      },
      "text/plain": [
       "HBox(children=(HTML(value=''), FloatProgress(value=0.0, max=2000.0), HTML(value='')))"
      ]
     },
     "metadata": {},
     "output_type": "display_data"
    },
    {
     "name": "stdout",
     "output_type": "stream",
     "text": [
      "\n"
     ]
    }
   ],
   "source": [
    "Td_maps = []\n",
    "Labeling_maps = []\n",
    "Time_consumings = []\n",
    "for i in tqdm(range(2000)):\n",
    "    ti = time.time()\n",
    "    Td_map = collector.td_maps[i].copy()\n",
    "    Foreground_map = (Td_map < Thred_map)&(Td_map != 0)\n",
    "    Labeling_map = db.fit_predict(Td_map= Td_map,Foreground_map=Foreground_map)\n",
    "    Td_maps.append(Td_map)\n",
    "    Labeling_maps.append(Labeling_map)\n",
    "    Time_consumings.append((time.time() - ti)*1000)"
   ]
  },
  {
   "cell_type": "markdown",
   "metadata": {},
   "source": [
    "# Kalman Filter "
   ]
  },
  {
   "cell_type": "code",
   "execution_count": 6,
   "metadata": {},
   "outputs": [],
   "source": [
    "def convert_point_cloud(Td_map, Labeling_map): \n",
    "    td_freq_map = Td_map\n",
    "    Xs = []\n",
    "    Ys = []\n",
    "    Zs = []\n",
    "    Labels = []\n",
    "    for i in range(td_freq_map.shape[0]):\n",
    "\n",
    "        longitudes = theta[i]*np.pi / 180\n",
    "        latitudes = azimuths * np.pi / 180 \n",
    "        hypotenuses = td_freq_map[i] * np.cos(longitudes)\n",
    "        X = hypotenuses * np.sin(latitudes)\n",
    "        Y = hypotenuses * np.cos(latitudes)\n",
    "        Z = td_freq_map[i] * np.sin(longitudes)\n",
    "        Valid_ind =  (td_freq_map[i] != 0)&(td_freq_map[i]<collector.thred_map[i])\n",
    "\n",
    "        # None zero index\n",
    "        Xs.append(X[Valid_ind])\n",
    "        Ys.append(Y[Valid_ind])\n",
    "        Zs.append(Z[Valid_ind])\n",
    "\n",
    "        Labels.append(Labeling_map[i][Valid_ind])\n",
    "\n",
    "    Xs = np.concatenate(Xs)\n",
    "    Ys = np.concatenate(Ys)\n",
    "    Zs = np.concatenate(Zs)\n",
    "    Labels = np.concatenate(Labels).astype('int')\n",
    "    XYZ = np.concatenate([Xs.reshape(-1,1),Ys.reshape(-1,1),Zs.reshape(-1,1)],axis = 1)\n",
    "    return XYZ, Labels"
   ]
  },
  {
   "cell_type": "code",
   "execution_count": 7,
   "metadata": {},
   "outputs": [],
   "source": [
    "def get_params_from_detection_points(Td_map,Labeling_map,Label):\n",
    "    \n",
    "    XYZ,Labels = convert_point_cloud(Td_map,Labeling_map)\n",
    "    pcd = op3.geometry.PointCloud()\n",
    "    pcd.points = op3.utility.Vector3dVector(XYZ[Labels == Label])\n",
    "    bbox = pcd.get_axis_aligned_bounding_box()\n",
    "    # x,y,length,width,height \n",
    "    xylwh = np.concatenate([bbox.get_center()[:2],bbox.get_max_bound() - bbox.get_min_bound()])\n",
    "    return xylwh\n",
    "\n"
   ]
  },
  {
   "cell_type": "code",
   "execution_count": 8,
   "metadata": {},
   "outputs": [],
   "source": [
    "def extract_xylwh_by_frame(Labeling_map,Td_map):\n",
    "    \n",
    "    XYZ,Labels = convert_point_cloud(Td_map,Labeling_map)\n",
    "    if -1 in Labels:\n",
    "        unique_id = np.unique(Labels)[1:]\n",
    "    else:\n",
    "        unique_id = np.unique(Labels)\n",
    "    xylwh_set = []  \n",
    "    for l in unique_id:\n",
    "        xylwh = get_params_from_detection_points(Td_map,Labeling_map,l)\n",
    "        xylwh_set.append(xylwh)\n",
    "    \n",
    "    return np.array(xylwh_set),unique_id"
   ]
  },
  {
   "cell_type": "code",
   "execution_count": 9,
   "metadata": {},
   "outputs": [],
   "source": [
    "def extract_mea_state_vec(xylwh_set):\n",
    "    return xylwh_set.reshape((-1,xylwh_set.shape[1],1))"
   ]
  },
  {
   "cell_type": "code",
   "execution_count": 10,
   "metadata": {},
   "outputs": [],
   "source": [
    "def state_predict(A,Q,state,P):\n",
    "    \"\"\"\n",
    "    state: s_k-1, (n x 10 x 1)\n",
    "    Cov: P_k-1 (n x 10 x 10)\n",
    "    \"\"\"\n",
    "    state_ = np.matmul(A,state)\n",
    "    P_ = np.matmul(np.matmul(A,P),A.transpose()) + Q\n",
    "    return state_,P_\n",
    "\n",
    "def state_update(A,H,state_,P_,R,mea):\n",
    "    \"\"\"\n",
    "    mea: m_k (m x 5 x 1)\n",
    "    \n",
    "    \"\"\"\n",
    "    K = np.matmul(np.matmul(P_,H.transpose()),np.linalg.inv(np.matmul(np.matmul(H,P_),H.transpose()) + R))\n",
    "    P = np.matmul((np.eye(A.shape[0]) - np.matmul(K,H)),P_)\n",
    "    residual = mea - np.matmul(H,state_) # n x 5 x 1\n",
    "    state = state_ + np.matmul(K,residual)\n",
    "    \n",
    "    return state, P "
   ]
  },
  {
   "cell_type": "code",
   "execution_count": 11,
   "metadata": {},
   "outputs": [],
   "source": [
    "def cal_IOU(s_,m):\n",
    "    \n",
    "    sx1,sy1,sx2,sy2 = s_[0] - s_[2]/2, s_[1] - s_[3]/2, s_[0] + s_[2]/2, s_[1] + s_[3]/2\n",
    "    mx1,my1,mx2,my2 = m[0] - m[2]/2, m[1] - m[3]/2, m[0] + m[2]/2, m[1] + m[3]/2\n",
    "\n",
    "    area1 = (sx2-sx1)*(sy2-sy1)\n",
    "    area2 = (mx2-mx1)*(my2-my1)\n",
    "    x1 = max(sx1, mx1)\n",
    "    x2 = min(sx2, mx2)\n",
    "    y1 = max(sy1, my1)\n",
    "    y2 = min(sy2, my2)\n",
    "\n",
    "    if x1 >= x2 or y1 >= y2:\n",
    "        return 0\n",
    "    else:\n",
    "        inter_area = (x2-x1)*(y2-y1)\n",
    "        IOU = inter_area/(area1 + area2 - inter_area)\n",
    "        return IOU"
   ]
  },
  {
   "cell_type": "code",
   "execution_count": 297,
   "metadata": {},
   "outputs": [],
   "source": [
    "def get_affinity_mat(state,state_,P_,mea,R):\n",
    "    State_affinity = np.zeros((state_.shape[0],mea.shape[0]))\n",
    "    for i,s_ in enumerate(state_):\n",
    "        v_ = s_.copy().flatten()\n",
    "        v = state[i].copy().flatten()\n",
    "        VI_spatial = P_[i][:2,:2].copy()\n",
    "        VI_embed = P_[i][2:5,2:5].copy()\n",
    "        v_sptial = v[:2]\n",
    "        v_embed = v[2:5]\n",
    "        \n",
    "        for j,m in enumerate(mea):\n",
    "            u = m.copy().flatten()\n",
    "            d = np.sqrt(np.sum((v[:2] - u[:2])**2))\n",
    "#             State_affinity[i][j] = multivariate_normal.pdf(u.flatten(),v_.flatten(),VI)\n",
    "#             State_affinity[i][j] = distance.mahalanobis(u.flatten(),v_.flatten(),np.linalg.inv(VI))\n",
    "            if d < 7 :\n",
    "                simi_spatial = distance.mahalanobis(u[:2],v_sptial,VI_spatial)\n",
    "                simi_embed = distance.mahalanobis(u[2:],v_embed,VI_embed)\n",
    "                State_affinity[i][j] = 0.9*simi_spatial + 0.1*simi_embed\n",
    "            else:\n",
    "                State_affinity[i][j] = 1e3\n",
    "            \n",
    "    return State_affinity"
   ]
  },
  {
   "cell_type": "code",
   "execution_count": 13,
   "metadata": {},
   "outputs": [],
   "source": [
    "def create_new_detection(Tracking_pool,Global_id,P_init,state_init,label_init,mea_init,start_frame):\n",
    "    \n",
    "    new_detection = detected_obj()\n",
    "    new_detection.glb_id = Global_id\n",
    "    new_detection.P = P_init\n",
    "    new_detection.state = state_init\n",
    "    new_detection.label_seq.append(label_init)\n",
    "    new_detection.start_frame = start_frame\n",
    "    new_detection.mea_seq.append(mea_init)\n",
    "    new_detection.post_seq.append(state_init)\n",
    "    Tracking_pool[Global_id] = new_detection\n",
    "    \n"
   ]
  },
  {
   "cell_type": "code",
   "execution_count": 14,
   "metadata": {},
   "outputs": [],
   "source": [
    "def process_fails(Tracking_pool,Off_tracking_pool,glb_id,state_cur_,P_cur_):\n",
    "    if Tracking_pool[glb_id].missing_count > missing_thred:\n",
    "        Off_tracking_pool[glb_id] = Tracking_pool.pop(glb_id)\n",
    "    else:\n",
    "        Tracking_pool[glb_id].missing_count += 1\n",
    "        Tracking_pool[glb_id].state = state_cur_\n",
    "        Tracking_pool[glb_id].P = P_cur_\n",
    "        Tracking_pool[glb_id].label_seq.append(-1)\n",
    "        Tracking_pool[glb_id].mea_seq.append(-1)\n",
    "        Tracking_pool[glb_id].post_seq.append(-1)"
   ]
  },
  {
   "cell_type": "code",
   "execution_count": 15,
   "metadata": {},
   "outputs": [],
   "source": [
    "def associate_detections(Tracking_pool,glb_id,state,P,next_label,mea_next):\n",
    "    \n",
    "    Tracking_pool[glb_id].state = state\n",
    "    Tracking_pool[glb_id].P = P\n",
    "    Tracking_pool[glb_id].label_seq.append(next_label)\n",
    "    Tracking_pool[glb_id].mea_seq.append(mea_next)\n",
    "    Tracking_pool[glb_id].post_seq.append(state)\n",
    "    Tracking_pool[glb_id].missing_count = 0"
   ]
  },
  {
   "cell_type": "code",
   "execution_count": 16,
   "metadata": {},
   "outputs": [],
   "source": [
    "class detected_obj():\n",
    "    def __init__(self):\n",
    "        self.glb_id = None\n",
    "        self.start_frame = None\n",
    "        self.missing_count = 0 # frame count of out of detection\n",
    "        self.P = None\n",
    "        self.state = None \n",
    "        self.label_seq = [] # represented labels at each frame \n",
    "        self.mea_seq = []\n",
    "        self.post_seq = []\n",
    "\n",
    "        "
   ]
  },
  {
   "cell_type": "code",
   "execution_count": 228,
   "metadata": {},
   "outputs": [],
   "source": [
    "def tracking(Q,A,H,R,P_em,missing_thred):\n",
    "    afs = []\n",
    "    # Initialization \n",
    "\n",
    "    \"\"\" \n",
    "    Temp for Tracking\n",
    "    state_num: dim of presumed state space \n",
    "    \"\"\"\n",
    "    Frame_ind = 0\n",
    "    Tracking_pool = {}\n",
    "    Off_tracking_pool = {}\n",
    "    Global_id = 0 \n",
    "    missing_thred = missing_thred\n",
    "    \n",
    "\n",
    "    xylwh_init,unique_label_init = extract_xylwh_by_frame(Labeling_maps[Frame_ind],Td_maps[Frame_ind])\n",
    "    \n",
    "    mea_init = extract_mea_state_vec(xylwh_init)\n",
    "    # m: n x 5 x 1\n",
    "    \n",
    "    state_init = np.concatenate([mea_init,np.zeros((mea_init.shape[0],7)).reshape(mea_init.shape[0],7,-1)],axis = 1)\n",
    "    \n",
    "    P_init = np.full((xylwh_init.shape[0],A.shape[0],A.shape[0]),P_em)\n",
    "\n",
    "    for i,label in enumerate(unique_label_init):\n",
    "        create_new_detection(Tracking_pool,Global_id,P_init[i],state_init[i],label,mea_init[i],Frame_ind)\n",
    "        Global_id += 1\n",
    "        \n",
    "    Frame_ind += 1 \n",
    "    \"\"\" Loop Start\"\"\"\n",
    "\n",
    "\n",
    "    state_cur,P_cur,glb_id_cur = state_init,P_init,unique_label_init \n",
    "\n",
    "    # MOT start, given the prediction from last frame, set up cost func to associate IDs between current and next frame \n",
    "    while Frame_ind < 2000:\n",
    "        \"\"\"\n",
    "        Extract Matrix P and State of each tracklet in Current Tracking Pool\n",
    "        \"\"\"\n",
    "        glb_ids,P_cur,state_cur = [],[],[]\n",
    "        for glb_id in Tracking_pool.keys():\n",
    "            glb_ids.append(glb_id)\n",
    "            P_cur.append(Tracking_pool[glb_id].P)\n",
    "            state_cur.append(Tracking_pool[glb_id].state)\n",
    "            \n",
    "        glb_ids,P_cur,state_cur = np.array(glb_ids),np.array(P_cur),np.array(state_cur)\n",
    "\n",
    "        state_cur_,P_cur_ = state_predict(A,Q,state_cur,P_cur) # predict next state \n",
    "\n",
    "        xylwh_next,unique_lebel_next = extract_xylwh_by_frame(Labeling_maps[Frame_ind],Td_maps[Frame_ind]) # read observation at next frame \n",
    "        mea_next = extract_mea_state_vec(xylwh_next)\n",
    "        State_affinity = get_affinity_mat(state_cur,state_cur_,P_cur_,mea_next,R)\n",
    "        \n",
    "        afs.append(State_affinity)\n",
    "        associated_ind_glb,associated_ind_label = linear_sum_assignment(State_affinity)\n",
    "        associated_ind_glb_,associated_ind_label_ = [],[]\n",
    "        for i,ass_id in enumerate(associated_ind_glb):\n",
    "            if State_affinity[ass_id,associated_ind_label[i]] < 1:\n",
    "                associated_ind_glb_.append(ass_id)\n",
    "                associated_ind_label_.append(associated_ind_label[i])\n",
    "        associated_ind_glb,associated_ind_label = np.array(associated_ind_glb_),np.array(associated_ind_label_)\n",
    "        \n",
    "        \"\"\"\n",
    "        Failed tracking and new detections\n",
    "        \"\"\"\n",
    "        # in a but not in b\n",
    "        failed_tracked_ind = np.setdiff1d(np.arange(len(glb_ids)),associated_ind_glb) \n",
    "        \n",
    "        if len(failed_tracked_ind) > 0:\n",
    "            for fid in failed_tracked_ind:\n",
    "                process_fails(Tracking_pool,Off_tracking_pool,glb_ids[fid],state_cur_[fid],P_cur_[fid])\n",
    "\n",
    "        new_detection_ind = np.setdiff1d(np.arange(len(unique_lebel_next)),associated_ind_label)\n",
    "        if len(new_detection_ind) > 0:\n",
    "            for n_id in new_detection_ind:\n",
    "                state_init = np.concatenate([mea_next[n_id], np.zeros((7,1))])\n",
    "                create_new_detection(Tracking_pool,Global_id,P_em,state_init,unique_lebel_next[n_id],mea_next[n_id],Frame_ind)\n",
    "                Global_id += 1\n",
    "            \n",
    "        if len(associated_ind_glb) != 0:\n",
    "            state,P = state_update(A,H,state_cur_[associated_ind_glb],P_cur_[associated_ind_glb],R,mea_next[associated_ind_label])\n",
    "            glb_ids = glb_ids[associated_ind_glb]\n",
    "            mea_next = mea_next[associated_ind_label]\n",
    "            unique_lebel_next = unique_lebel_next[associated_ind_label]\n",
    "            \n",
    "            \"\"\"\n",
    "            Associate detections \n",
    "            \"\"\"\n",
    "            for i,glb_id in enumerate(glb_ids):\n",
    "\n",
    "                associate_detections(Tracking_pool,glb_id,state[i],P[i],\n",
    "                                     unique_lebel_next[i],\n",
    "                                     mea_next[i])\n",
    "            \n",
    "        Frame_ind += 1 \n",
    "    \"\"\"\n",
    "    Release all tracking obj into off tracking pool\n",
    "    \"\"\"\n",
    "    release_ids = [glb_id for glb_id in Tracking_pool.keys()]\n",
    "    for r_id in release_ids:\n",
    "        Off_tracking_pool[r_id] = Tracking_pool.pop(r_id)\n",
    "    return Off_tracking_pool,afs"
   ]
  },
  {
   "cell_type": "code",
   "execution_count": 315,
   "metadata": {
    "scrolled": true
   },
   "outputs": [
    {
     "name": "stdout",
     "output_type": "stream",
     "text": [
      "979 [978 977 150 579 583 584 589 603 610 617 620 633 640 127 659 117 114 113\n",
      " 815 806 804 800 795 757 566 755 750  94 743  96 704 694  90 557 535 522\n",
      " 272 288 290 296 321 228 331 340 352 354 355 211 378 207 818 206 202 412\n",
      " 421 450 455 456 457 459 460 462 482 485 490 492 381 819 653 943 860  28\n",
      "  24 920 927 911 931  19 859 938  16 853  14  68  34 861  11 947 846   9\n",
      "   4 896   7  67 876 151 916 892 598 594 486 499 907 147 509  32 528 467\n",
      "  33  31 841 452 464 976 278 293 312 315 342 216 215 365 466 376 403 941\n",
      " 413 432 447 139 453 182  26  13 891 548 109  59 752  50 855 135 868 658\n",
      "  51 656 793 852 681 682 673 698 753 708 738 611 836 734 729 858 622  45\n",
      " 105 824  93 422 431 415  56 742 136 213 945 262 277 282 975 974 292 834\n",
      " 311  60  66 952 337  64 844 799 781 364 780 322 194 445 443 904 558 652\n",
      " 156 741 899 872 654 534 894 143 878 494 642 651 167 863 913 677 615 484\n",
      " 473 733 722 469 922 713 830 606 137 260 881 253 502 919 341 361 399 362\n",
      " 363 524  65 662 372 410 760 570 898 973 950 835 254   0  40   1 198   3\n",
      "   5 244 204 877 441 316 498 309 695 597 122 173 267 489 347 329   2 956\n",
      " 972 348 336 511  86 960 821 134  44 604 909  18  47 426 577 547 971 970\n",
      "  12 334 320 440  30 375 474 814 442 393 538 660 344 123 969 294 926 299\n",
      "  85 710 104 958 951 936 727 627 338 568 345 369   6  55 304 384 388 724\n",
      "   8 119 146  76 439  54 670 699  95 177 874 205 187 967 968 472 248 302\n",
      " 102 585 132 297 435 608 196 201 169  53 234 218 665 111 326 101 965 954\n",
      " 601 103  10 774 129 188 966  80 661 357 740 180 549 284 674  38 247 339\n",
      " 924  46 121 769 623 179 454 256 767 193 805 663 289 676 650 849 554 370\n",
      " 544 823 903 319 479 718  71 831 935 612 921 505 276  57 241 964 360 428\n",
      " 232 366  89  39 221 458 889 784 507 313 798 189 356 236 397 264 226  49\n",
      " 696 470 328 630 725 120 349 912 664 371 827 240 574 314 161 957 732 186\n",
      " 631 882  72 937 730 130 829 318 368 197 955 790 168 837 513  74 613 946\n",
      " 928 949 850  79 540 736 265 419 124 862  23 231 438 672 468 715 392 501\n",
      " 530  70 374 115 644 833  15  78 719 271 242  21 803 185 166 377 477 233\n",
      " 497 816 306 789  98 759 807 108 693 512 203 175 871 274 930 379 572 864\n",
      " 593 118  41 792 636 785 409 671 255  63  62 647 714 918  35 532 581 518\n",
      " 176 414 925 897 749 434 940 820 250 483 508 959 533 358 701 772 586 383\n",
      " 629 758 851 387 811 327 717 728 632  37  52 746 219 107 229 285 902  84\n",
      " 163 810 883 291  17 908 170 771 667 765 144 697 488 539 840 619 786 407\n",
      " 141 238 529 301 687 880 689 503 963 449 521 281 480 582 396 128 126 350\n",
      " 854 906 525 596 756 496 648 404 707 394 382 870 343 575 481  20 430 915\n",
      " 451 476 801 551 380 624 140 607 471 266 842 580 162 223 782  29 159 626\n",
      " 308 158 813 157 866 351 391 657  36 705 773 588 395 887 592 243  22 770\n",
      " 165 195 768 257 838 576 621 895 307 690 962 944 711 330  99 239 716  25\n",
      " 224 303 571 517  43 174 901 563 706 520 933 433 564 645 826  73 153 220\n",
      " 171 797 385 857 222 504 812 905  27 210 542 560 843 225  42 847 402 839\n",
      " 523 914 424 500 279 721 649  69 562 100 373 929 886 125 133 417 401 635\n",
      " 553 893 737 556 763 275 637 444 295 932 848 739 287 280 934 261 587 437\n",
      " 778 514 155 425 602 420  88 942 747 668 634 145 493 446 679 900 775 761\n",
      " 599 411 666 178 726 510 208 298 389 686 270 475 569 251 703 359 531 953\n",
      " 199 923 448 116 418 702 614 917 400 618 390 605 367 386 406 427 675 112\n",
      " 491 184 791 269 546 745 268 461 685 787 783  92 300 106 888 536 246 628\n",
      " 154 152 939  48 700 138 609 263  97 643 181 578 478 249 961 590  75 519\n",
      " 545 832 683 655 527 353 436 884 748 796 744 325 148 828  87 794 867 890\n",
      " 776 160 552 333 600 183 310 910 764 845 825 678 543 565 429 573 865 639\n",
      " 762  83 317 779 625 273 885 110 692 416 809 191 561 802 526 616 641 332\n",
      " 209 495 286 516 550 948 669 735 808 817 591 875 873 408 856 423 559 258\n",
      " 335 684 190 192 712 567 766 230 346 515  58 869  77 324 200 788 465 720\n",
      "  61 731 164 754 259  81 646 305 245 879 217 252 537 709 822 235 723 688\n",
      " 405 541 149 131 283 463 506 777 212 142 323 398 638  82 751 237 595 227\n",
      " 487  91 214 691 555 680 172]\n"
     ]
    }
   ],
   "source": [
    "# two-order dynamic model\n",
    "A = np.array( # x,y,l,w,h,,x',y',l',w',h',x'',y''\n",
    "    [[1,0,0,0,0,1,0,0,0,0,.5, 0],\n",
    "     [0,1,0,0,0,0,1,0,0,0, 0,.5],\n",
    "     [0,0,1,0,0,0,0,1,0,0, 0, 0],\n",
    "     [0,0,0,1,0,0,0,0,1,0, 0, 0],\n",
    "     [0,0,0,0,1,0,0,0,0,1, 0, 0],\n",
    "     [0,0,0,0,0,1,0,0,0,0, 1, 0],\n",
    "     [0,0,0,0,0,0,1,0,0,0, 0, 1],\n",
    "     [0,0,0,0,0,0,0,1,0,0, 0, 0],\n",
    "     [0,0,0,0,0,0,0,0,1,0, 0, 0],\n",
    "     [0,0,0,0,0,0,0,0,0,1, 0, 0],\n",
    "     [0,0,0,0,0,0,0,0,0,0, 1, 0],\n",
    "     [0,0,0,0,0,0,0,0,0,0, 0, 1]]\n",
    ")\n",
    "Q = np.diag([1,1,1,1,1,1,1,1,1,1,1,1])*0.01\n",
    "H = np.array([[1,0,0,0,0,0,0,0,0,0,0,0],\n",
    "              [0,1,0,0,0,0,0,0,0,0,0,0],\n",
    "              [0,0,1,0,0,0,0,0,0,0,0,0],\n",
    "              [0,0,0,1,0,0,0,0,0,0,0,0],\n",
    "              [0,0,0,0,1,0,0,0,0,0,0,0]])\n",
    "R = np.diag([10,10,0.1,0.1,0.1])\n",
    "P = np.diag([1,1,1,1,1,1,1,1,1,1,1,1])\n",
    "missing_thred = 7\n",
    "Off_tracking_pool,af = tracking(Q,A,H,R,P,missing_thred)\n",
    "keys = [key for key in Off_tracking_pool.keys()]\n",
    "lengths = [len(Off_tracking_pool[key].mea_seq) for key in Off_tracking_pool.keys()]\n",
    "mea_list = [Off_tracking_pool[key].mea_seq for key in Off_tracking_pool.keys() ]\n",
    "mea_list = [[m for m in mea if type(m) != int] for mea in mea_list]\n",
    "post_list = [Off_tracking_pool[key].post_seq for key in Off_tracking_pool.keys() ]\n",
    "post_list = [[p for p in pos if type(p) != int] for pos in post_list]\n",
    "print(len(lengths),np.argsort(lengths))"
   ]
  },
  {
   "cell_type": "code",
   "execution_count": null,
   "metadata": {},
   "outputs": [],
   "source": []
  },
  {
   "cell_type": "code",
   "execution_count": null,
   "metadata": {},
   "outputs": [],
   "source": []
  },
  {
   "cell_type": "code",
   "execution_count": 284,
   "metadata": {
    "scrolled": true
   },
   "outputs": [
    {
     "name": "stdout",
     "output_type": "stream",
     "text": [
      "283 params: 10 1 0.01\n",
      "285 params: 10 1 0.1\n",
      "290 params: 10 1 1\n",
      "283 params: 10 5 0.01\n",
      "285 params: 10 5 0.1\n",
      "290 params: 10 5 1\n",
      "283 params: 10 10 0.01\n",
      "285 params: 10 10 0.1\n",
      "290 params: 10 10 1\n",
      "283 params: 10 20 0.01\n",
      "285 params: 10 20 0.1\n",
      "290 params: 10 20 1\n",
      "283 params: 10 50 0.01\n",
      "285 params: 10 50 0.1\n",
      "290 params: 10 50 1\n",
      "285 params: 15 1 0.01\n",
      "287 params: 15 1 0.1\n",
      "290 params: 15 1 1\n",
      "285 params: 15 5 0.01\n",
      "287 params: 15 5 0.1\n",
      "290 params: 15 5 1\n",
      "285 params: 15 10 0.01\n",
      "287 params: 15 10 0.1\n",
      "290 params: 15 10 1\n",
      "285 params: 15 20 0.01\n",
      "287 params: 15 20 0.1\n",
      "290 params: 15 20 1\n",
      "285 params: 15 50 0.01\n",
      "287 params: 15 50 0.1\n",
      "290 params: 15 50 1\n",
      "285 params: 20 1 0.01\n",
      "287 params: 20 1 0.1\n",
      "291 params: 20 1 1\n",
      "285 params: 20 5 0.01\n",
      "287 params: 20 5 0.1\n",
      "291 params: 20 5 1\n",
      "285 params: 20 10 0.01\n",
      "287 params: 20 10 0.1\n",
      "291 params: 20 10 1\n",
      "285 params: 20 20 0.01\n",
      "287 params: 20 20 0.1\n",
      "291 params: 20 20 1\n",
      "285 params: 20 50 0.01\n",
      "287 params: 20 50 0.1\n",
      "291 params: 20 50 1\n",
      "287 params: 25 1 0.01\n",
      "289 params: 25 1 0.1\n",
      "291 params: 25 1 1\n",
      "287 params: 25 5 0.01\n",
      "289 params: 25 5 0.1\n",
      "291 params: 25 5 1\n",
      "287 params: 25 10 0.01\n",
      "289 params: 25 10 0.1\n",
      "291 params: 25 10 1\n",
      "287 params: 25 20 0.01\n",
      "289 params: 25 20 0.1\n",
      "291 params: 25 20 1\n",
      "287 params: 25 50 0.01\n",
      "289 params: 25 50 0.1\n",
      "291 params: 25 50 1\n",
      "287 params: 30 1 0.01\n",
      "289 params: 30 1 0.1\n",
      "292 params: 30 1 1\n",
      "287 params: 30 5 0.01\n",
      "289 params: 30 5 0.1\n",
      "292 params: 30 5 1\n",
      "287 params: 30 10 0.01\n",
      "289 params: 30 10 0.1\n",
      "292 params: 30 10 1\n",
      "287 params: 30 20 0.01\n",
      "289 params: 30 20 0.1\n",
      "292 params: 30 20 1\n",
      "287 params: 30 50 0.01\n",
      "289 params: 30 50 0.1\n",
      "292 params: 30 50 1\n",
      "287 params: 50 1 0.01\n",
      "290 params: 50 1 0.1\n",
      "292 params: 50 1 1\n",
      "287 params: 50 5 0.01\n",
      "290 params: 50 5 0.1\n",
      "292 params: 50 5 1\n",
      "287 params: 50 10 0.01\n",
      "290 params: 50 10 0.1\n",
      "292 params: 50 10 1\n",
      "287 params: 50 20 0.01\n",
      "290 params: 50 20 0.1\n",
      "292 params: 50 20 1\n",
      "287 params: 50 50 0.01\n",
      "290 params: 50 50 0.1\n",
      "292 params: 50 50 1\n",
      "322 params: 70 1 0.01\n",
      "323 params: 70 1 0.1\n",
      "307 params: 70 1 1\n",
      "322 params: 70 5 0.01\n",
      "323 params: 70 5 0.1\n",
      "307 params: 70 5 1\n",
      "322 params: 70 10 0.01\n",
      "323 params: 70 10 0.1\n",
      "307 params: 70 10 1\n",
      "322 params: 70 20 0.01\n",
      "323 params: 70 20 0.1\n",
      "307 params: 70 20 1\n",
      "322 params: 70 50 0.01\n",
      "323 params: 70 50 0.1\n",
      "307 params: 70 50 1\n",
      "367 params: 100 1 0.01\n",
      "361 params: 100 1 0.1\n",
      "322 params: 100 1 1\n",
      "367 params: 100 5 0.01\n",
      "361 params: 100 5 0.1\n",
      "322 params: 100 5 1\n",
      "367 params: 100 10 0.01\n",
      "361 params: 100 10 0.1\n",
      "322 params: 100 10 1\n",
      "367 params: 100 20 0.01\n",
      "361 params: 100 20 0.1\n",
      "322 params: 100 20 1\n",
      "367 params: 100 50 0.01\n",
      "361 params: 100 50 0.1\n",
      "322 params: 100 50 1\n"
     ]
    }
   ],
   "source": [
    "# two-order dynamic model\n",
    "A = np.array( # x,y,l,w,h,,x',y',l',w',h',x'',y''\n",
    "    [[1,0,0,0,0,1,0,0,0,0,.5, 0],\n",
    "     [0,1,0,0,0,0,1,0,0,0, 0,.5],\n",
    "     [0,0,1,0,0,0,0,1,0,0, 0, 0],\n",
    "     [0,0,0,1,0,0,0,0,1,0, 0, 0],\n",
    "     [0,0,0,0,1,0,0,0,0,1, 0, 0],\n",
    "     [0,0,0,0,0,1,0,0,0,0, 1, 0],\n",
    "     [0,0,0,0,0,0,1,0,0,0, 0, 1],\n",
    "     [0,0,0,0,0,0,0,1,0,0, 0, 0],\n",
    "     [0,0,0,0,0,0,0,0,1,0, 0, 0],\n",
    "     [0,0,0,0,0,0,0,0,0,1, 0, 0],\n",
    "     [0,0,0,0,0,0,0,0,0,0, 1, 0],\n",
    "     [0,0,0,0,0,0,0,0,0,0, 0, 1]]\n",
    ")\n",
    "\n",
    "H = np.array([[1,0,0,0,0,0,0,0,0,0,0,0],\n",
    "              [0,1,0,0,0,0,0,0,0,0,0,0],\n",
    "              [0,0,1,0,0,0,0,0,0,0,0,0],\n",
    "              [0,0,0,1,0,0,0,0,0,0,0,0],\n",
    "              [0,0,0,0,1,0,0,0,0,0,0,0]])\n",
    "\n",
    "R = np.diag([11,11,0.1,0.1,0.1])\n",
    "P = np.diag([1,1,1,1,1,1,1,1,1,1,1,1])\n",
    "missing_thred = 5\n",
    "\n",
    "R_variables = [10,15,20,25,30,50,70,100]\n",
    "P_variables = [1,5,10,20,50]\n",
    "Q_variables = [0.01,0.1,1]\n",
    "for r in R_variables:\n",
    "    for p in P_variables:\n",
    "        for q in Q_variables:\n",
    "            Q = np.diag([1,1,1,1,1,1,1,1,1,1,1,1])*q\n",
    "            R = np.diag([r,r,0.1,0.1,0.1])\n",
    "            P = np.diag([1,1,1,1,1,1,1,1,1,1,1,1])*P\n",
    "            Off_tracking_pool,af = tracking(Q,A,H,R,P,missing_thred)\n",
    "            print(len(Off_tracking_pool),'params:',r,p,q)"
   ]
  },
  {
   "cell_type": "code",
   "execution_count": 298,
   "metadata": {},
   "outputs": [],
   "source": [
    "# two-order dynamic model\n",
    "A = np.array( # x,y,l,w,h,,x',y',l',w',h',x'',y''\n",
    "    [[1,0,0,0,0,1,0,0,0,0,.5, 0],\n",
    "     [0,1,0,0,0,0,1,0,0,0, 0,.5],\n",
    "     [0,0,1,0,0,0,0,1,0,0, 0, 0],\n",
    "     [0,0,0,1,0,0,0,0,1,0, 0, 0],\n",
    "     [0,0,0,0,1,0,0,0,0,1, 0, 0],\n",
    "     [0,0,0,0,0,1,0,0,0,0, 1, 0],\n",
    "     [0,0,0,0,0,0,1,0,0,0, 0, 1],\n",
    "     [0,0,0,0,0,0,0,1,0,0, 0, 0],\n",
    "     [0,0,0,0,0,0,0,0,1,0, 0, 0],\n",
    "     [0,0,0,0,0,0,0,0,0,1, 0, 0],\n",
    "     [0,0,0,0,0,0,0,0,0,0, 1, 0],\n",
    "     [0,0,0,0,0,0,0,0,0,0, 0, 1]]\n",
    ")\n",
    "Q = np.diag([1,1,1,1,1,1,1,1,1,1,1,1])*0.01\n",
    "H = np.array([[1,0,0,0,0,0,0,0,0,0,0,0],\n",
    "              [0,1,0,0,0,0,0,0,0,0,0,0],\n",
    "              [0,0,1,0,0,0,0,0,0,0,0,0],\n",
    "              [0,0,0,1,0,0,0,0,0,0,0,0],\n",
    "              [0,0,0,0,1,0,0,0,0,0,0,0]])\n",
    "R = np.diag([10,10,0.1,0.1,0.1])\n",
    "P = np.diag([1,1,1,1,1,1,1,1,1,1,1,1])\n",
    "missing_thred = 7\n",
    "Off_tracking_pool,af = tracking(Q,A,H,R,P,missing_thred)\n",
    "keys = [key for key in Off_tracking_pool.keys()]\n",
    "lengths = [len(Off_tracking_pool[key].mea_seq) for key in Off_tracking_pool.keys()]\n",
    "mea_list = [Off_tracking_pool[key].mea_seq for key in Off_tracking_pool.keys() ]\n",
    "mea_list = [[m for m in mea if type(m) != int] for mea in mea_list]\n",
    "post_list = [Off_tracking_pool[key].post_seq for key in Off_tracking_pool.keys() ]\n",
    "post_list = [[p for p in pos if type(p) != int] for pos in post_list]\n",
    "print(len(lengths),np.argsort(lengths))"
   ]
  },
  {
   "cell_type": "code",
   "execution_count": 299,
   "metadata": {},
   "outputs": [
    {
     "name": "stdout",
     "output_type": "stream",
     "text": [
      "252 [101 145  25 181 123  30 171 126 132  69 134 164  57  39  41  96 157 154\n",
      "  97 165 192 121 196   2 232 230 105 226 195 107 211 106 141  15 200  18\n",
      "  73 237 117  44 110  26 223 222 108  56  66 104  60 159 187 184 179 103\n",
      " 219  33 163  50 146 135 136  55 166 119 113  10  52 206 168 205 234 227\n",
      "  17 122 182  32 140 124 131 251 197 111 158  84  54  91   0 167 153 207\n",
      " 229  34  85 209 250 151 174 249 138  47 149 170 215  64 143 217  36 235\n",
      "   7 190 156  49 180 100 208   1 213  81 210  20 199 248   9  63  68  78\n",
      "  80 127 231  94  87  93 212 247 246 204 148  62 109  51  74 233 178 220\n",
      " 202 130 175 114 216  22 218  19 129  71 120  28 150  59  13 115  12  21\n",
      " 128 161 225 125 144 236 142 162  92  14  65  67  53 118 176 183 189  31\n",
      "  58 173 245 169  75 102   3 244 224  89  37  45  90 203  46 155 243 133\n",
      "  27 185  43   5  35  88  82 112  79 214   4  98 242  61  99 152 241  72\n",
      " 160  23 240  40 116  29 193  42  70   6  11  76 201 239  48  24 191 137\n",
      "  16 228 177  38 172 194 221   8  77 198 188 147  95 186 238 139  83  86]\n"
     ]
    }
   ],
   "source": [
    "Off_tracking_pool,af = tracking(Q,A,H,R,P,missing_thred)\n",
    "keys = [key for key in Off_tracking_pool.keys()]\n",
    "lengths = [len(Off_tracking_pool[key].mea_seq) for key in Off_tracking_pool.keys()]\n",
    "mea_list = [Off_tracking_pool[key].mea_seq for key in Off_tracking_pool.keys() ]\n",
    "mea_list = [[m for m in mea if type(m) != int] for mea in mea_list]\n",
    "post_list = [Off_tracking_pool[key].post_seq for key in Off_tracking_pool.keys() ]\n",
    "post_list = [[p for p in pos if type(p) != int] for pos in post_list]\n",
    "print(len(lengths),np.argsort(lengths))"
   ]
  },
  {
   "cell_type": "code",
   "execution_count": 316,
   "metadata": {},
   "outputs": [
    {
     "data": {
      "image/png": "[encoded data removed]",
      "text/plain": [
       "<Figure size 720x720 with 1 Axes>"
      ]
     },
     "metadata": {
      "needs_background": "light"
     },
     "output_type": "display_data"
    }
   ],
   "source": [
    "key = 172\n",
    "mea_sub = np.array(mea_list[key]).reshape(-1,5)\n",
    "post_sub = np.array(post_list[key]).reshape(-1,12)\n",
    "plt.figure(figsize=(10,10))\n",
    "plt.plot(mea_sub[:,0],mea_sub[:,1],label = 'mea',marker = 'o')\n",
    "plt.plot(post_sub[:,0],post_sub[:,1],label = 'post', marker = 'x',markersize = 10)\n",
    "plt.legend(fontsize = 15)\n",
    "plt.show()"
   ]
  },
  {
   "cell_type": "code",
   "execution_count": null,
   "metadata": {},
   "outputs": [],
   "source": []
  },
  {
   "cell_type": "code",
   "execution_count": 105,
   "metadata": {},
   "outputs": [],
   "source": [
    "from pykalman import KalmanFilter"
   ]
  },
  {
   "cell_type": "code",
   "execution_count": 268,
   "metadata": {},
   "outputs": [],
   "source": [
    "kf = KalmanFilter(\n",
    "    A,\n",
    "    H,\n",
    "    Q,\n",
    "    R,\n",
    "    np.zeros(A.shape[0]),\n",
    "    np.zeros(R.shape[0]),\n",
    "    post_list[279][0].flatten(),\n",
    "    P,\n",
    "    em_vars=[\n",
    "      'transition_matrices', 'observation_matrices',\n",
    "      'transition_covariance', 'observation_covariance',\n",
    "      'observation_offsets', 'initial_state_mean',\n",
    "      'initial_state_covariance'\n",
    "    ]\n",
    ")\n",
    "kf = kf.em(X=np.array(mea_list[279]).reshape(-1,5), n_iter=20)"
   ]
  },
  {
   "cell_type": "code",
   "execution_count": 269,
   "metadata": {},
   "outputs": [],
   "source": [
    "P = kf.initial_state_covariance\n",
    "R = kf.observation_covariance\n",
    "Q = kf.transition_covariance"
   ]
  },
  {
   "cell_type": "code",
   "execution_count": 272,
   "metadata": {},
   "outputs": [
    {
     "name": "stdout",
     "output_type": "stream",
     "text": [
      "37.4 s ± 437 ms per loop (mean ± std. dev. of 7 runs, 1 loop each)\n"
     ]
    }
   ],
   "source": [
    "Off_tracking_pool,af = tracking(Q,A,H,R,P,missing_thred)\n"
   ]
  },
  {
   "cell_type": "code",
   "execution_count": 275,
   "metadata": {},
   "outputs": [
    {
     "data": {
      "text/plain": [
       "array([100, 211, 109, 113, 203, 191,  44, 189,  48, 102, 119, 180,  32,\n",
       "       177, 172,  64, 169, 167, 161, 156, 148,  76, 140,  80, 137, 122,\n",
       "       215, 192, 231, 232, 104,  20,  27, 249,  17, 228, 236, 222, 268,\n",
       "       270,   4, 260, 261, 125, 123, 152, 121, 184,  63,  28, 132,  46,\n",
       "       274, 219, 213, 186,  34, 223, 118, 248,  59, 190,  62,  36, 257,\n",
       "        57, 151, 153, 128, 242, 193, 134, 199,  19, 216, 273, 241, 136,\n",
       "        25, 265, 160, 147, 138, 278, 126, 291, 179, 197, 207, 146, 176,\n",
       "       183,  35,  13,  61, 174,  93,  84, 187, 157,   0,  54,  51, 267,\n",
       "       244, 178, 195,  38, 290, 202,  95, 154, 206,  89, 135,  87, 233,\n",
       "       163, 246,   3,  71,   1, 253, 289, 168, 198, 173, 150, 201,  74,\n",
       "       120, 288,  56,  67,  70, 255, 164, 275, 204,  40,   9, 226, 185,\n",
       "       114, 245,   2, 251,  90, 240, 247, 158,  22, 235,  69,  11,  75,\n",
       "        37, 277,  86, 101, 143, 269, 162, 106, 287, 141,  97, 105, 250,\n",
       "       286, 285, 124,  58,  82, 272, 107, 117, 212,  94, 258, 238, 208,\n",
       "       129, 254, 271,  73,  24, 256,  21,  78, 115, 209,  30, 175,  66,\n",
       "        15, 130,  14,  23, 145, 133, 188, 103, 165, 264, 139,  60, 276,\n",
       "       182, 266,  16,  72, 229, 111, 205, 217, 225,  33, 194, 218,  65,\n",
       "        83, 116, 262,   5,  99,  68,  41, 284,  52, 239,  53, 181, 283,\n",
       "       149,  29, 220,  50,   7, 144,  98, 110, 166, 252,  91, 170, 127,\n",
       "       171,  88,   6, 282, 214, 142,  79, 281, 263, 243, 200,  47, 131,\n",
       "       280,  81,  31,  77,  49,   8,  12, 112, 234, 237,  55,  26, 227,\n",
       "       155, 196, 224,  10,  18, 210,  42, 230,  39, 259,  92,  96,  85,\n",
       "        45, 159, 221,  43, 108, 279])"
      ]
     },
     "execution_count": 275,
     "metadata": {},
     "output_type": "execute_result"
    }
   ],
   "source": [
    "\n",
    "# Off_tracking_pool,af = tracking(Q,A,H,R,P,missing_thred)\n",
    "keys = [key for key in Off_tracking_pool.keys()]\n",
    "lengths = [len(Off_tracking_pool[key].mea_seq) for key in Off_tracking_pool.keys()]\n",
    "mea_list = [Off_tracking_pool[key].mea_seq for key in Off_tracking_pool.keys() ]\n",
    "mea_list = [[m for m in mea if type(m) != int] for mea in mea_list]\n",
    "post_list = [Off_tracking_pool[key].post_seq for key in Off_tracking_pool.keys() ]\n",
    "post_list = [[p for p in pos if type(p) != int] for pos in post_list]\n",
    "np.argsort(lengths)"
   ]
  },
  {
   "cell_type": "code",
   "execution_count": null,
   "metadata": {},
   "outputs": [],
   "source": []
  },
  {
   "cell_type": "code",
   "execution_count": 1049,
   "metadata": {},
   "outputs": [],
   "source": [
    "test_obj = Off_tracking_pool[127]\n",
    "np.random.seed(150)\n",
    "color_map = np.random.random((100,3))\n",
    "for ind,f in enumerate(range(test_obj.start_frame, test_obj.start_frame + len(test_obj.label_seq))):\n",
    "    Td_map = Td_maps[f]\n",
    "    Labeling_map = Labeling_maps[f].copy()\n",
    "    td_freq_map = Td_map\n",
    "    Xs = []\n",
    "    Ys = []\n",
    "    Zs = []\n",
    "    Labels = []\n",
    "    for i in range(td_freq_map.shape[0]):\n",
    "        longitudes = theta[i]*np.pi / 180\n",
    "        latitudes = azimuths * np.pi / 180 \n",
    "        hypotenuses = td_freq_map[i] * np.cos(longitudes)\n",
    "        X = hypotenuses * np.sin(latitudes)\n",
    "        Y = hypotenuses * np.cos(latitudes)\n",
    "        Z = td_freq_map[i] * np.sin(longitudes)\n",
    "        Valid_ind =  (td_freq_map[i] != 0)&(td_freq_map[i]<collector.thred_map[i]) # None zero index\n",
    "        Xs.append(X[Valid_ind])\n",
    "        Ys.append(Y[Valid_ind])\n",
    "        Zs.append(Z[Valid_ind])\n",
    "        Labels.append(Labeling_map[i][Valid_ind])\n",
    "    Xs = np.concatenate(Xs)\n",
    "    Ys = np.concatenate(Ys)\n",
    "    Zs = np.concatenate(Zs)\n",
    "    Labels = np.concatenate(Labels).astype('int')\n",
    "    Colors = np.zeros((len(Labels),3))\n",
    "    if test_obj.label_seq[ind] != -1:\n",
    "        Colors[Labels == test_obj.label_seq[ind]] = color_map[1]\n",
    "        \n",
    "    pcd = op3.geometry.PointCloud()\n",
    "    XYZ = np.concatenate([Xs.reshape(-1,1),Ys.reshape(-1,1),Zs.reshape(-1,1)],axis = 1)\n",
    "    pcd.points = op3.utility.Vector3dVector(XYZ)\n",
    "    pcd.colors = op3.utility.Vector3dVector(Colors)\n",
    "    op3.io.write_point_cloud(r'./Output File/PcdSequence'+\"/{}.pcd\".format(ind), pcd)\n",
    "#     print(i)"
   ]
  },
  {
   "cell_type": "code",
   "execution_count": 317,
   "metadata": {},
   "outputs": [],
   "source": [
    "np.random.seed(150)\n",
    "color_map = np.random.random((100,3))\n",
    "# color_map = np.concatenate([color_map,np.array([[1,1,1]])])\n",
    "\n",
    "for f in range(2000):\n",
    "    Td_map = Td_maps[f]\n",
    "    Labeling_map = Labeling_maps[f].copy()\n",
    "    td_freq_map = Td_map\n",
    "    Xs = []\n",
    "    Ys = []\n",
    "    Zs = []\n",
    "    \n",
    "    Labels = []\n",
    "    for i in range(td_freq_map.shape[0]):\n",
    "        longitudes = theta[i]*np.pi / 180\n",
    "        latitudes = azimuths * np.pi / 180 \n",
    "        hypotenuses = td_freq_map[i] * np.cos(longitudes)\n",
    "        X = hypotenuses * np.sin(latitudes)\n",
    "        Y = hypotenuses * np.cos(latitudes)\n",
    "        Z = td_freq_map[i] * np.sin(longitudes)\n",
    "        Valid_ind =  (td_freq_map[i] != 0)&(td_freq_map[i]<collector.thred_map[i]) # None zero index\n",
    "        Xs.append(X[Valid_ind])\n",
    "        Ys.append(Y[Valid_ind])\n",
    "        Zs.append(Z[Valid_ind])\n",
    "        Labels.append(Labeling_map[i][Valid_ind])\n",
    "    Xs = np.concatenate(Xs)\n",
    "    Ys = np.concatenate(Ys)\n",
    "    Zs = np.concatenate(Zs)\n",
    "    Labels = np.concatenate(Labels).astype('int')\n",
    "    Colors = np.zeros((len(Labels),3))\n",
    "    for key in Off_tracking_pool:\n",
    "        n = f - Off_tracking_pool[key].start_frame\n",
    "        if (n >= 0) & (n < len(Off_tracking_pool[key].label_seq)):\n",
    "            label_cur_frame = Off_tracking_pool[key].label_seq[n]\n",
    "            if label_cur_frame != -1:\n",
    "                Colors[Labels == label_cur_frame] = color_map[key%len(color_map)]\n",
    "                \n",
    "    pcd = op3.geometry.PointCloud()\n",
    "    XYZ = np.concatenate([Xs.reshape(-1,1),Ys.reshape(-1,1),Zs.reshape(-1,1)],axis = 1)\n",
    "    pcd.points = op3.utility.Vector3dVector(XYZ)\n",
    "    pcd.colors = op3.utility.Vector3dVector(Colors)\n",
    "    op3.io.write_point_cloud(r'./Output File/PcdSequence'+\"/{}.pcd\".format(f), pcd)\n",
    "        \n",
    "            "
   ]
  },
  {
   "cell_type": "code",
   "execution_count": null,
   "metadata": {},
   "outputs": [],
   "source": []
  },
  {
   "cell_type": "code",
   "execution_count": 1154,
   "metadata": {},
   "outputs": [],
   "source": [
    "def visualize(Td_map,Labeling_map):\n",
    "    np.random.seed(250)\n",
    "    color_map = np.random.random((100,3))\n",
    "    color_map = np.concatenate([color_map,np.array([[1,1,1]])])\n",
    "    td_freq_map = Td_map\n",
    "    Xs = []\n",
    "    Ys = []\n",
    "    Zs = []\n",
    "    Labels = []\n",
    "    for i in range(td_freq_map.shape[0]):\n",
    "        longitudes = theta[i]*np.pi / 180\n",
    "        latitudes = azimuths * np.pi / 180 \n",
    "        hypotenuses = td_freq_map[i] * np.cos(longitudes)\n",
    "        X = hypotenuses * np.sin(latitudes)\n",
    "        Y = hypotenuses * np.cos(latitudes)\n",
    "        Z = td_freq_map[i] * np.sin(longitudes)\n",
    "        Valid_ind =  (td_freq_map[i] != 0)&(td_freq_map[i]<collector.thred_map[i]) # None zero index\n",
    "        Xs.append(X[Valid_ind])\n",
    "        Ys.append(Y[Valid_ind])\n",
    "        Zs.append(Z[Valid_ind])\n",
    "        Labels.append(Labeling_map[i][Valid_ind])\n",
    "\n",
    "\n",
    "    Xs = np.concatenate(Xs)\n",
    "    Ys = np.concatenate(Ys)\n",
    "    Zs = np.concatenate(Zs)\n",
    "    Labels = np.concatenate(Labels).astype('int')\n",
    "    Colors = []\n",
    "    for i in range(len(Labels)):\n",
    "        Colors.append(color_map[Labels[i]])\n",
    "    Colors = np.array(Colors)\n",
    "    pcd = op3.geometry.PointCloud()\n",
    "    XYZ = np.concatenate([Xs.reshape(-1,1),Ys.reshape(-1,1),Zs.reshape(-1,1)],axis = 1)\n",
    "    pcd.points = op3.utility.Vector3dVector(XYZ)\n",
    "    pcd.colors = op3.utility.Vector3dVector(Colors)\n",
    "    visualizer = JVisualizer()\n",
    "    visualizer.add_geometry(pcd)\n",
    "    visualizer.show()"
   ]
  },
  {
   "cell_type": "code",
   "execution_count": 1155,
   "metadata": {},
   "outputs": [
    {
     "data": {
      "application/vnd.jupyter.widget-view+json": {
       "model_id": "cc3c92ec908f447c88968df2a212beb1",
       "version_major": 2,
       "version_minor": 0
      },
      "text/plain": [
       "JVisualizer with 1 geometries"
      ]
     },
     "metadata": {},
     "output_type": "display_data"
    }
   ],
   "source": [
    "visualize(Td_maps[1900],Labeling_maps[1900])"
   ]
  },
  {
   "cell_type": "code",
   "execution_count": null,
   "metadata": {},
   "outputs": [],
   "source": []
  }
 ],
 "metadata": {
  "kernelspec": {
   "display_name": "Python 3",
   "language": "python",
   "name": "python3"
  },
  "language_info": {
   "codemirror_mode": {
    "name": "ipython",
    "version": 3
   },
   "file_extension": ".py",
   "mimetype": "text/x-python",
   "name": "python",
   "nbconvert_exporter": "python",
   "pygments_lexer": "ipython3",
   "version": "3.8.5"
  }
 },
 "nbformat": 4,
 "nbformat_minor": 2
}
