{
 "cells": [
  {
   "cell_type": "code",
   "execution_count": 1,
   "metadata": {},
   "outputs": [],
   "source": [
    "from tqdm.notebook import tqdm\n",
    "import datetime\n",
    "import dpkt\n",
    "import numpy as np\n",
    "import matplotlib.pyplot as plt\n",
    "import os\n",
    "import open3d as op3 \n",
    "import seaborn as sns\n",
    "import pandas as pd\n",
    "import time\n",
    "from scipy.sparse.csgraph import connected_components\n",
    "import seaborn as sns\n",
    "from open3d import JVisualizer\n",
    "from BfTableGenerator import RansacCollector\n",
    "from matplotlib import cm\n",
    "from sklearn.cluster._dbscan_inner import dbscan_inner\n",
    "from numpy.lib.stride_tricks import sliding_window_view\n",
    "\n",
    "\n",
    "theta_raw = np.array([[-25,1.4],[-1,-4.2],[-1.667,1.4],[-15.639,-1.4],\n",
    "                            [-11.31,1.4],[0,-1.4],[-0.667,4.2],[-8.843,-1.4],\n",
    "                            [-7.254,1.4],[0.333,-4.2],[-0.333,1.4],[-6.148,-1.4],\n",
    "                            [-5.333,4.2],[1.333,-1.4],[0.667,4.2],[-4,-1.4],\n",
    "                            [-4.667,1.4],[1.667,-4.2],[1,1.4],[-3.667,-4.2],\n",
    "                            [-3.333,4.2],[3.333,-1.4],[2.333,1.4],[-2.667,-1.4],\n",
    "                            [-3,1.4],[7,-1.4],[4.667,1.4],[-2.333,-4.2],\n",
    "                            [-2,4.2],[15,-1.4],[10.333,1.4],[-1.333,-1.4]\n",
    "                            ])[:,0]\n",
    "theta = np.sort(theta_raw)\n",
    "azimuths = np.arange(0,360,0.2)"
   ]
  },
  {
   "cell_type": "code",
   "execution_count": 2,
   "metadata": {
    "scrolled": true
   },
   "outputs": [
    {
     "name": "stderr",
     "output_type": "stream",
     "text": [
      "  0%|          | 2/2000 [00:00<02:14, 14.89it/s]"
     ]
    },
    {
     "name": "stdout",
     "output_type": "stream",
     "text": [
      "Loading pcap...\n"
     ]
    },
    {
     "name": "stderr",
     "output_type": "stream",
     "text": [
      "100%|██████████| 2000/2000 [01:47<00:00, 18.58it/s]\n",
      "  3%|▎         | 1/32 [00:00<00:05,  5.52it/s]"
     ]
    },
    {
     "name": "stdout",
     "output_type": "stream",
     "text": [
      "Generating Threshold Map\n"
     ]
    },
    {
     "name": "stderr",
     "output_type": "stream",
     "text": [
      "100%|██████████| 32/32 [00:05<00:00,  6.39it/s]\n"
     ]
    }
   ],
   "source": [
    "os.chdir(r'/Users/czhui960/Documents/Lidar/RawLidarData/FrameSamplingTest')\n",
    "frame_set = np.arange(0,2000,1).astype('int')\n",
    "collector = RansacCollector(pcap_path=r'./2020-7-27-10-30-0.pcap',frames_set = frame_set)\n",
    "collector.gen_tdmap()\n",
    "collector.gen_thredmap(d = 1.2,thred_s = 0.3,N = 20,delta_thred = 1e-3,step = 0.1,inuse_frame = frame_set)\n",
    "# d = 1.2,thred_s = 0.3,N = 20,delta_thred = 1e-3,step = 0.1 FrameSampling\n"
   ]
  },
  {
   "cell_type": "code",
   "execution_count": 3,
   "metadata": {},
   "outputs": [],
   "source": [
    "from DDBSCAN import Raster_DBSCAN\n"
   ]
  },
  {
   "cell_type": "code",
   "execution_count": 10,
   "metadata": {},
   "outputs": [],
   "source": [
    "Thred_map = collector.thred_map\n",
    "db = Raster_DBSCAN(window_size=(7,7),eps = 1.5, min_samples= 10,Td_map_szie=Thred_map.shape)"
   ]
  },
  {
   "cell_type": "code",
   "execution_count": 20,
   "metadata": {},
   "outputs": [
    {
     "name": "stdout",
     "output_type": "stream",
     "text": [
      "42.5 ms ± 1.21 ms per loop (mean ± std. dev. of 7 runs, 10 loops each)\n"
     ]
    }
   ],
   "source": [
    "Td_map = collector.td_maps[693].copy()\n",
    "Foreground_map = (Td_map < Thred_map)&(Td_map != 0)\n",
    "Labeling_map = db.fit_predict(Td_map= Td_map,Foreground_map=Foreground_map)"
   ]
  },
  {
   "cell_type": "code",
   "execution_count": 19,
   "metadata": {},
   "outputs": [
    {
     "data": {
      "application/vnd.jupyter.widget-view+json": {
       "model_id": "773a9d542e314fa1a105aa9b6bad8c1f",
       "version_major": 2,
       "version_minor": 0
      },
      "text/plain": [
       "JVisualizer with 1 geometries"
      ]
     },
     "metadata": {},
     "output_type": "display_data"
    }
   ],
   "source": [
    "td_freq_map = Td_map\n",
    "Xs = []\n",
    "Ys = []\n",
    "Zs = []\n",
    "Labels = []\n",
    "for i in range(td_freq_map.shape[0]):\n",
    "    longitudes = theta[i]*np.pi / 180\n",
    "    latitudes = azimuths * np.pi / 180 \n",
    "    hypotenuses = td_freq_map[i] * np.cos(longitudes)\n",
    "    X = hypotenuses * np.sin(latitudes)\n",
    "    Y = hypotenuses * np.cos(latitudes)\n",
    "    Z = td_freq_map[i] * np.sin(longitudes)\n",
    "    Valid_ind =  (td_freq_map[i] != 0)&(td_freq_map[i]<collector.thred_map[i]) # None zero index\n",
    "    Xs.append(X[Valid_ind])\n",
    "    Ys.append(Y[Valid_ind])\n",
    "    Zs.append(Z[Valid_ind])\n",
    "    Labels.append(Labeling_map[i][Valid_ind])\n",
    "\n",
    "    \n",
    "Xs = np.concatenate(Xs)\n",
    "Ys = np.concatenate(Ys)\n",
    "Zs = np.concatenate(Zs)\n",
    "Labels = np.concatenate(Labels).astype('int')\n",
    "Colors = []\n",
    "for i in range(len(Labels)):\n",
    "    Colors.append(cm.tab20(Labels[i]%20)[:3])\n",
    "Colors = np.array(Colors)\n",
    "pcd = op3.geometry.PointCloud()\n",
    "XYZ = np.concatenate([Xs.reshape(-1,1),Ys.reshape(-1,1),Zs.reshape(-1,1)],axis = 1)\n",
    "pcd.points = op3.utility.Vector3dVector(XYZ)\n",
    "pcd.colors = op3.utility.Vector3dVector(Colors)\n",
    "visualizer = JVisualizer()\n",
    "visualizer.add_geometry(pcd)\n",
    "visualizer.show()"
   ]
  },
  {
   "cell_type": "markdown",
   "metadata": {},
   "source": [
    "## Prototype"
   ]
  },
  {
   "cell_type": "code",
   "execution_count": 56,
   "metadata": {},
   "outputs": [],
   "source": [
    "\"\"\"\n",
    "This method applys the vectorization calculation, \n",
    "where the TD map is chunked as multiple parts and corresponding neighbors in each center of chunk are counted and recorded.\n",
    "The calculated neighbors are stored in the neighborhood list which is then treated as an input for the dbscan_inner() so as to\n",
    "utilize the core CPP API from the sklearn. \n",
    "\n",
    "*** \n",
    "Step.1 -> Chunking output Subchunks including Td_map, Index_map, Foreground_map\n",
    "Step.2 -> Neigborhoods calculation\n",
    "Step.3 -> dbscan_inner()\n",
    "\n",
    "\"\"\"\n",
    "\n",
    "window_size = (9,9) #(height,width)\n",
    "eps = 1.5\n",
    "min_samples = 15\n",
    "Thred_map = collector.thred_map\n",
    "Height_fringe,Width_fringe = int(window_size[0]/2),int(window_size[1]/2)\n",
    "\n",
    "Height_fringe_offset_fore = np.full((Height_fringe,Thred_map.shape[1] + 2 * Width_fringe),False)\n",
    "Height_fringe_offset_td = np.full((Height_fringe,Thred_map.shape[1] + 2 * Width_fringe),200)\n",
    "Heigh_fringe_offset_index = np.full((Height_fringe,Thred_map.shape[1] + 2 * Width_fringe),-1,dtype = np.int64)\n"
   ]
  },
  {
   "cell_type": "code",
   "execution_count": 106,
   "metadata": {},
   "outputs": [],
   "source": [
    "Td_map = collector.td_maps[602].copy()\n",
    "Foreground_map = (Td_map < Thred_map)&(Td_map != 0)\n",
    "# load Foreground and Td distance matrix \n",
    "rows,cols = np.where(Foreground_map)\n",
    "indices = np.arange(len(rows),dtype = np.int64)\n",
    "Index_map = -1*np.ones(shape = Foreground_map.shape,dtype=np.int64)\n",
    "Index_map[rows,cols] = indices \n",
    "\n",
    "# azimuth padding \n",
    "Foreground_map_offset = np.concatenate([Foreground_map[:,-Width_fringe:],\n",
    "                                        Foreground_map,\n",
    "                                        Foreground_map[:,:Width_fringe]],axis = 1)\n",
    "Index_map_offset = np.concatenate([Index_map[:,-Width_fringe:],\n",
    "                                   Index_map,\n",
    "                                   Index_map[:,:Width_fringe]],axis = 1)\n",
    "Td_map_offset = np.concatenate([Td_map[:,-Width_fringe:],\n",
    "                                Td_map,\n",
    "                                Td_map[:,:Width_fringe]],axis = 1)\n",
    "# laser padding \n",
    "Foreground_map_offset = np.concatenate([Height_fringe_offset_fore,\n",
    "                                        Foreground_map_offset,\n",
    "                                       Height_fringe_offset_fore])\n",
    "Index_map_offset = np.concatenate([Heigh_fringe_offset_index,\n",
    "                                  Index_map_offset,\n",
    "                                  Heigh_fringe_offset_index])\n",
    "Td_map_offset = np.concatenate([Height_fringe_offset_td,\n",
    "                              Td_map_offset,\n",
    "                              Height_fringe_offset_td])\n",
    "\n",
    "Sub_indmap = sliding_window_view(Index_map_offset,window_size).reshape(-1,window_size[0],window_size[1])\n",
    "Sub_tdmap = sliding_window_view(Td_map_offset,window_size).reshape(-1,window_size[0],window_size[1])\n",
    "Sub_foremap = sliding_window_view(Foreground_map_offset,window_size).reshape(-1,window_size[0],window_size[1])\n",
    "\n",
    "\n",
    "# Window inds that are valid as Foregound, and only \n",
    "valid_windows = Sub_foremap[:,Height_fringe,Width_fringe] \n",
    "Sub_indmap,Sub_foremap,Sub_tdmap = Sub_indmap[valid_windows],Sub_foremap[valid_windows],Sub_tdmap[valid_windows]\n",
    "\n",
    "# key step\n",
    "center_td_dist = Sub_tdmap[:,Height_fringe,Width_fringe]\n",
    "valid_index = Sub_indmap[:,Height_fringe,Width_fringe]\n",
    "temp = ((np.abs((Sub_tdmap - center_td_dist.reshape(-1,1,1))) < eps) & Sub_foremap)\n",
    "neighborhoods = np.array([Sub_indmap[i][temp[i]] for i in range(len(temp))],dtype = 'O')\n",
    "n_neighbors = np.array([len(neighbor) for neighbor in neighborhoods])\n",
    "Labels = np.full(len(n_neighbors), -1, dtype=np.intp)\n",
    "core_samples = np.asarray(n_neighbors >= min_samples,dtype=np.uint8)\n",
    "dbscan_inner(core_samples, neighborhoods, Labels)\n",
    "\n",
    "Labeling_map = -1*np.ones_like(Foreground_map)\n",
    "Labeling_map[rows,cols] = Labels"
   ]
  },
  {
   "cell_type": "code",
   "execution_count": 109,
   "metadata": {},
   "outputs": [
    {
     "data": {
      "text/plain": [
       "array([-1,  0,  1,  2,  3,  4,  5,  6,  7,  8,  9, 10])"
      ]
     },
     "execution_count": 109,
     "metadata": {},
     "output_type": "execute_result"
    }
   ],
   "source": [
    "np.unique(Labeling_map)"
   ]
  },
  {
   "cell_type": "code",
   "execution_count": 107,
   "metadata": {},
   "outputs": [
    {
     "data": {
      "application/vnd.jupyter.widget-view+json": {
       "model_id": "804fdd6ffad54f25bd1b736b2f3271e2",
       "version_major": 2,
       "version_minor": 0
      },
      "text/plain": [
       "JVisualizer with 1 geometries"
      ]
     },
     "metadata": {},
     "output_type": "display_data"
    }
   ],
   "source": [
    "td_freq_map = Td_map\n",
    "Xs = []\n",
    "Ys = []\n",
    "Zs = []\n",
    "Labels = []\n",
    "for i in range(td_freq_map.shape[0]):\n",
    "    longitudes = theta[i]*np.pi / 180\n",
    "    latitudes = azimuths * np.pi / 180 \n",
    "    hypotenuses = td_freq_map[i] * np.cos(longitudes)\n",
    "    X = hypotenuses * np.sin(latitudes)\n",
    "    Y = hypotenuses * np.cos(latitudes)\n",
    "    Z = td_freq_map[i] * np.sin(longitudes)\n",
    "    Valid_ind =  (td_freq_map[i] != 0)&(td_freq_map[i]<collector.thred_map[i]) # None zero index\n",
    "    Xs.append(X[Valid_ind])\n",
    "    Ys.append(Y[Valid_ind])\n",
    "    Zs.append(Z[Valid_ind])\n",
    "    Labels.append(Labeling_map[i][Valid_ind])\n",
    "\n",
    "    \n",
    "Xs = np.concatenate(Xs)\n",
    "Ys = np.concatenate(Ys)\n",
    "Zs = np.concatenate(Zs)\n",
    "Labels = np.concatenate(Labels).astype('int')\n",
    "Colors = []\n",
    "for i in range(len(Labels)):\n",
    "    Colors.append(cm.tab20(Labels[i]%20)[:3])\n",
    "Colors = np.array(Colors)\n",
    "pcd = op3.geometry.PointCloud()\n",
    "XYZ = np.concatenate([Xs.reshape(-1,1),Ys.reshape(-1,1),Zs.reshape(-1,1)],axis = 1)\n",
    "pcd.points = op3.utility.Vector3dVector(XYZ)\n",
    "pcd.colors = op3.utility.Vector3dVector(Colors)\n",
    "visualizer = JVisualizer()\n",
    "visualizer.add_geometry(pcd)\n",
    "visualizer.show()"
   ]
  },
  {
   "cell_type": "markdown",
   "metadata": {},
   "source": [
    "# Frame Association "
   ]
  },
  {
   "cell_type": "code",
   "execution_count": null,
   "metadata": {},
   "outputs": [],
   "source": [
    "Frame_0 = Labeling_map.copy()\n",
    "Frame_1 = Labeling_map.copy()\n",
    "combined_label_map = np.array([Frame_0,Frame_1])\n",
    "%%timeit\n",
    "unique_piars,unique_counts = np.unique(combined_label_map.reshape((-1,2)),axis = 0,return_counts = True)\n",
    "unique_piars,unique_counts = unique_piars[1:],unique_counts[1:]"
   ]
  },
  {
   "cell_type": "code",
   "execution_count": null,
   "metadata": {},
   "outputs": [],
   "source": []
  },
  {
   "cell_type": "code",
   "execution_count": 13,
   "metadata": {},
   "outputs": [
    {
     "data": {
      "application/vnd.jupyter.widget-view+json": {
       "model_id": "6aba6e8143be4644b1246d2ae49a4d61",
       "version_major": 2,
       "version_minor": 0
      },
      "text/plain": [
       "HBox(children=(FloatProgress(value=0.0, max=17000.0), HTML(value='')))"
      ]
     },
     "metadata": {},
     "output_type": "display_data"
    },
    {
     "name": "stdout",
     "output_type": "stream",
     "text": [
      "\n"
     ]
    }
   ],
   "source": [
    "t_con = []\n",
    "points_num = []\n",
    "for frame_id in tqdm(range(17000)):\n",
    "    ti = time.time()\n",
    "    Td_map = collector.td_maps[frame_id].copy()\n",
    "    Foreground_map = (Td_map < Thred_map)&(Td_map != 0)\n",
    "    # load Foreground and Td distance matrix \n",
    "    rows,cols = np.where(Foreground_map)\n",
    "    indices = np.arange(len(rows),dtype = np.int64)\n",
    "    Index_map = -1*np.ones(shape = Foreground_map.shape,dtype=np.int64)\n",
    "    Index_map[rows,cols] = indices \n",
    "\n",
    "    # azimuth padding \n",
    "    Foreground_map_offset = np.concatenate([Foreground_map[:,-Width_fringe:],\n",
    "                                            Foreground_map,\n",
    "                                            Foreground_map[:,:Width_fringe]],axis = 1)\n",
    "    Index_map_offset = np.concatenate([Index_map[:,-Width_fringe:],\n",
    "                                       Index_map,\n",
    "                                       Index_map[:,:Width_fringe]],axis = 1)\n",
    "    Td_map_offset = np.concatenate([Td_map[:,-Width_fringe:],\n",
    "                                    Td_map,\n",
    "                                    Td_map[:,:Width_fringe]],axis = 1)\n",
    "    # laser padding \n",
    "    Foreground_map_offset = np.concatenate([Height_fringe_offset_fore,\n",
    "                                            Foreground_map_offset,\n",
    "                                           Height_fringe_offset_fore])\n",
    "    Index_map_offset = np.concatenate([Heigh_fringe_offset_index,\n",
    "                                      Index_map_offset,\n",
    "                                      Heigh_fringe_offset_index])\n",
    "    Td_map_offset = np.concatenate([Height_fringe_offset_td,\n",
    "                                  Td_map_offset,\n",
    "                                  Height_fringe_offset_td])\n",
    "\n",
    "    Sub_indmap = sliding_window_view(Index_map_offset,window_size).reshape(-1,window_size[0],window_size[1])\n",
    "    Sub_tdmap = sliding_window_view(Td_map_offset,window_size).reshape(-1,window_size[0],window_size[1])\n",
    "    Sub_foremap = sliding_window_view(Foreground_map_offset,window_size).reshape(-1,window_size[0],window_size[1])\n",
    "\n",
    "\n",
    "    # Window inds that are valid as Foregound, and only \n",
    "    valid_windows = Sub_foremap[:,Height_fringe,Width_fringe] \n",
    "    Sub_indmap,Sub_foremap,Sub_tdmap = Sub_indmap[valid_windows],Sub_foremap[valid_windows],Sub_tdmap[valid_windows]\n",
    "\n",
    "\n",
    "    center_td_dist = Sub_tdmap[:,Height_fringe,Width_fringe]\n",
    "    valid_index = Sub_indmap[:,Height_fringe,Width_fringe]\n",
    "    temp = ((np.abs((Sub_tdmap - center_td_dist.reshape(-1,1,1))) < eps) & Sub_foremap)\n",
    "    neighborhoods = np.array([Sub_indmap[i][temp[i]] for i in range(len(temp))],dtype = 'O')\n",
    "    n_neighbors = np.array([len(neighbor) for neighbor in neighborhoods])\n",
    "    Labels = np.full(len(n_neighbors), -1, dtype=np.intp)\n",
    "    core_samples = np.asarray(n_neighbors >= min_samples,\n",
    "                              dtype=np.uint8)\n",
    "    dbscan_inner(core_samples, neighborhoods, Labels)\n",
    "\n",
    "    # rows,cols = rows[valid_index],cols[valid_index]\n",
    "    Labeling_map = -1*np.ones_like(Foreground_map)\n",
    "    Labeling_map[rows,cols] = Labels\n",
    "    t_con.append(1000*(time.time() - ti))\n",
    "    points_num.append(len(Labels))"
   ]
  },
  {
   "cell_type": "markdown",
   "metadata": {},
   "source": [
    "# DBSCAN"
   ]
  },
  {
   "cell_type": "code",
   "execution_count": 24,
   "metadata": {},
   "outputs": [],
   "source": [
    "from sklearn.cluster import DBSCAN"
   ]
  },
  {
   "cell_type": "code",
   "execution_count": 25,
   "metadata": {},
   "outputs": [],
   "source": [
    "db = DBSCAN(eps=1.5,min_samples=10)\n"
   ]
  },
  {
   "cell_type": "code",
   "execution_count": 27,
   "metadata": {
    "collapsed": true
   },
   "outputs": [
    {
     "data": {
      "application/vnd.jupyter.widget-view+json": {
       "model_id": "b44cde8ad6fc411c943ba9791cc584b0",
       "version_major": 2,
       "version_minor": 0
      },
      "text/plain": [
       "HBox(children=(FloatProgress(value=0.0, max=17000.0), HTML(value='')))"
      ]
     },
     "metadata": {},
     "output_type": "display_data"
    },
    {
     "ename": "KeyboardInterrupt",
     "evalue": "",
     "output_type": "error",
     "traceback": [
      "\u001b[0;31m---------------------------------------------------------------------------\u001b[0m",
      "\u001b[0;31mKeyboardInterrupt\u001b[0m                         Traceback (most recent call last)",
      "\u001b[0;32m<ipython-input-27-67ba53e5ab31>\u001b[0m in \u001b[0;36m<module>\u001b[0;34m\u001b[0m\n\u001b[1;32m     23\u001b[0m     \u001b[0mZs\u001b[0m \u001b[0;34m=\u001b[0m \u001b[0mnp\u001b[0m\u001b[0;34m.\u001b[0m\u001b[0mconcatenate\u001b[0m\u001b[0;34m(\u001b[0m\u001b[0mZs\u001b[0m\u001b[0;34m)\u001b[0m\u001b[0;34m\u001b[0m\u001b[0;34m\u001b[0m\u001b[0m\n\u001b[1;32m     24\u001b[0m     \u001b[0mXYZ\u001b[0m \u001b[0;34m=\u001b[0m \u001b[0mnp\u001b[0m\u001b[0;34m.\u001b[0m\u001b[0mconcatenate\u001b[0m\u001b[0;34m(\u001b[0m\u001b[0;34m[\u001b[0m\u001b[0mXs\u001b[0m\u001b[0;34m.\u001b[0m\u001b[0mreshape\u001b[0m\u001b[0;34m(\u001b[0m\u001b[0;34m-\u001b[0m\u001b[0;36m1\u001b[0m\u001b[0;34m,\u001b[0m\u001b[0;36m1\u001b[0m\u001b[0;34m)\u001b[0m\u001b[0;34m,\u001b[0m\u001b[0mYs\u001b[0m\u001b[0;34m.\u001b[0m\u001b[0mreshape\u001b[0m\u001b[0;34m(\u001b[0m\u001b[0;34m-\u001b[0m\u001b[0;36m1\u001b[0m\u001b[0;34m,\u001b[0m\u001b[0;36m1\u001b[0m\u001b[0;34m)\u001b[0m\u001b[0;34m,\u001b[0m\u001b[0mZs\u001b[0m\u001b[0;34m.\u001b[0m\u001b[0mreshape\u001b[0m\u001b[0;34m(\u001b[0m\u001b[0;34m-\u001b[0m\u001b[0;36m1\u001b[0m\u001b[0;34m,\u001b[0m\u001b[0;36m1\u001b[0m\u001b[0;34m)\u001b[0m\u001b[0;34m]\u001b[0m\u001b[0;34m,\u001b[0m\u001b[0maxis\u001b[0m \u001b[0;34m=\u001b[0m \u001b[0;36m1\u001b[0m\u001b[0;34m)\u001b[0m\u001b[0;34m\u001b[0m\u001b[0;34m\u001b[0m\u001b[0m\n\u001b[0;32m---> 25\u001b[0;31m     \u001b[0mLabels\u001b[0m \u001b[0;34m=\u001b[0m \u001b[0mdb\u001b[0m\u001b[0;34m.\u001b[0m\u001b[0mfit_predict\u001b[0m\u001b[0;34m(\u001b[0m\u001b[0mXYZ\u001b[0m\u001b[0;34m)\u001b[0m\u001b[0;34m\u001b[0m\u001b[0;34m\u001b[0m\u001b[0m\n\u001b[0m\u001b[1;32m     26\u001b[0m     \u001b[0mtime_consumption\u001b[0m\u001b[0;34m.\u001b[0m\u001b[0mappend\u001b[0m\u001b[0;34m(\u001b[0m\u001b[0;36m1000\u001b[0m\u001b[0;34m*\u001b[0m\u001b[0;34m(\u001b[0m\u001b[0mtime\u001b[0m\u001b[0;34m.\u001b[0m\u001b[0mtime\u001b[0m\u001b[0;34m(\u001b[0m\u001b[0;34m)\u001b[0m \u001b[0;34m-\u001b[0m \u001b[0mti\u001b[0m\u001b[0;34m)\u001b[0m\u001b[0;34m)\u001b[0m\u001b[0;34m\u001b[0m\u001b[0;34m\u001b[0m\u001b[0m\n",
      "\u001b[0;32m~/opt/anaconda3/envs/tf2/lib/python3.7/site-packages/sklearn/cluster/_dbscan.py\u001b[0m in \u001b[0;36mfit_predict\u001b[0;34m(self, X, y, sample_weight)\u001b[0m\n\u001b[1;32m    387\u001b[0m             \u001b[0mCluster\u001b[0m \u001b[0mlabels\u001b[0m\u001b[0;34m.\u001b[0m \u001b[0mNoisy\u001b[0m \u001b[0msamples\u001b[0m \u001b[0mare\u001b[0m \u001b[0mgiven\u001b[0m \u001b[0mthe\u001b[0m \u001b[0mlabel\u001b[0m \u001b[0;34m-\u001b[0m\u001b[0;36m1.\u001b[0m\u001b[0;34m\u001b[0m\u001b[0;34m\u001b[0m\u001b[0m\n\u001b[1;32m    388\u001b[0m         \"\"\"\n\u001b[0;32m--> 389\u001b[0;31m         \u001b[0mself\u001b[0m\u001b[0;34m.\u001b[0m\u001b[0mfit\u001b[0m\u001b[0;34m(\u001b[0m\u001b[0mX\u001b[0m\u001b[0;34m,\u001b[0m \u001b[0msample_weight\u001b[0m\u001b[0;34m=\u001b[0m\u001b[0msample_weight\u001b[0m\u001b[0;34m)\u001b[0m\u001b[0;34m\u001b[0m\u001b[0;34m\u001b[0m\u001b[0m\n\u001b[0m\u001b[1;32m    390\u001b[0m         \u001b[0;32mreturn\u001b[0m \u001b[0mself\u001b[0m\u001b[0;34m.\u001b[0m\u001b[0mlabels_\u001b[0m\u001b[0;34m\u001b[0m\u001b[0;34m\u001b[0m\u001b[0m\n",
      "\u001b[0;32m~/opt/anaconda3/envs/tf2/lib/python3.7/site-packages/sklearn/cluster/_dbscan.py\u001b[0m in \u001b[0;36mfit\u001b[0;34m(self, X, y, sample_weight)\u001b[0m\n\u001b[1;32m    348\u001b[0m         core_samples = np.asarray(n_neighbors >= self.min_samples,\n\u001b[1;32m    349\u001b[0m                                   dtype=np.uint8)\n\u001b[0;32m--> 350\u001b[0;31m         \u001b[0mdbscan_inner\u001b[0m\u001b[0;34m(\u001b[0m\u001b[0mcore_samples\u001b[0m\u001b[0;34m,\u001b[0m \u001b[0mneighborhoods\u001b[0m\u001b[0;34m,\u001b[0m \u001b[0mlabels\u001b[0m\u001b[0;34m)\u001b[0m\u001b[0;34m\u001b[0m\u001b[0;34m\u001b[0m\u001b[0m\n\u001b[0m\u001b[1;32m    351\u001b[0m \u001b[0;34m\u001b[0m\u001b[0m\n\u001b[1;32m    352\u001b[0m         \u001b[0mself\u001b[0m\u001b[0;34m.\u001b[0m\u001b[0mcore_sample_indices_\u001b[0m \u001b[0;34m=\u001b[0m \u001b[0mnp\u001b[0m\u001b[0;34m.\u001b[0m\u001b[0mwhere\u001b[0m\u001b[0;34m(\u001b[0m\u001b[0mcore_samples\u001b[0m\u001b[0;34m)\u001b[0m\u001b[0;34m[\u001b[0m\u001b[0;36m0\u001b[0m\u001b[0;34m]\u001b[0m\u001b[0;34m\u001b[0m\u001b[0;34m\u001b[0m\u001b[0m\n",
      "\u001b[0;31mKeyboardInterrupt\u001b[0m: "
     ]
    }
   ],
   "source": [
    "time_consumption = []\n",
    "for frame_ind in tqdm(range(17000)):\n",
    "    ti = time.time()\n",
    "    Td_map = collector.td_maps[frame_ind].copy()\n",
    "    td_freq_map = Td_map\n",
    "    Xs = []\n",
    "    Ys = []\n",
    "    Zs = []\n",
    "    for i in range(td_freq_map.shape[0]):\n",
    "        longitudes = theta[i]*np.pi / 180\n",
    "        latitudes = azimuths * np.pi / 180 \n",
    "        hypotenuses = td_freq_map[i] * np.cos(longitudes)\n",
    "        X = hypotenuses * np.sin(latitudes)\n",
    "        Y = hypotenuses * np.cos(latitudes)\n",
    "        Z = td_freq_map[i] * np.sin(longitudes)\n",
    "        Valid_ind =  (td_freq_map[i] != 0)&(td_freq_map[i]<collector.thred_map[i]) # None zero index\n",
    "        Xs.append(X[Valid_ind])\n",
    "        Ys.append(Y[Valid_ind])\n",
    "        Zs.append(Z[Valid_ind])\n",
    "\n",
    "    Xs = np.concatenate(Xs)\n",
    "    Ys = np.concatenate(Ys)\n",
    "    Zs = np.concatenate(Zs)\n",
    "    XYZ = np.concatenate([Xs.reshape(-1,1),Ys.reshape(-1,1),Zs.reshape(-1,1)],axis = 1)\n",
    "    Labels = db.fit_predict(XYZ)\n",
    "    time_consumption.append(1000*(time.time() - ti))"
   ]
  },
  {
   "cell_type": "code",
   "execution_count": 38,
   "metadata": {},
   "outputs": [],
   "source": [
    "points_num_db = points_num[:len(time_consumption)]"
   ]
  },
  {
   "cell_type": "code",
   "execution_count": 40,
   "metadata": {},
   "outputs": [],
   "source": [
    "points_num_db = np.array(points_num_db)"
   ]
  },
  {
   "cell_type": "code",
   "execution_count": 42,
   "metadata": {},
   "outputs": [],
   "source": [
    "time_consumption = np.array(time_consumption)\n",
    "t_con = np.array(t_con)\n",
    "points_num = np.array(points_num)"
   ]
  },
  {
   "cell_type": "code",
   "execution_count": 37,
   "metadata": {},
   "outputs": [
    {
     "data": {
      "image/png": "[encoded data removed]",
      "text/plain": [
       "<Figure size 720x720 with 1 Axes>"
      ]
     },
     "metadata": {
      "needs_background": "light"
     },
     "output_type": "display_data"
    }
   ],
   "source": [
    "plt.figure(figsize = (10,10))\n",
    "plt.scatter(points_num[:len(time_consumption)],time_consumption,s = 3,label = 'Sklearn DBSCAN')\n",
    "plt.scatter(points_num,t_con,s = 3,label = 'Proposed Method')\n",
    "plt.legend(fontsize = 15)\n",
    "plt.xlabel('Points Number in A Frame',fontsize = 15)\n",
    "plt.ylabel('Time Consumption(ms)',fontsize = 15)\n",
    "plt.show()"
   ]
  },
  {
   "cell_type": "code",
   "execution_count": 46,
   "metadata": {},
   "outputs": [
    {
     "data": {
      "image/png": "[encoded data removed]",
      "text/plain": [
       "<Figure size 720x720 with 1 Axes>"
      ]
     },
     "metadata": {
      "needs_background": "light"
     },
     "output_type": "display_data"
    }
   ],
   "source": [
    "plt.figure(figsize = (10,10))\n",
    "plt.scatter(points_num_db[points_num_db<8000],time_consumption[points_num_db<8000],s = 3,label = 'Sklearn DBSCAN')\n",
    "plt.scatter(points_num[points_num < 8000],t_con[points_num < 8000],s = 3,label = 'Proposed Method')\n",
    "plt.legend(fontsize = 15)\n",
    "plt.xlabel('Points Number in A Frame',fontsize = 15)\n",
    "plt.ylabel('Time Consumption(ms)',fontsize = 15)\n",
    "plt.show()"
   ]
  },
  {
   "cell_type": "code",
   "execution_count": null,
   "metadata": {},
   "outputs": [],
   "source": []
  },
  {
   "cell_type": "code",
   "execution_count": null,
   "metadata": {},
   "outputs": [],
   "source": []
  },
  {
   "cell_type": "code",
   "execution_count": null,
   "metadata": {},
   "outputs": [],
   "source": []
  },
  {
   "cell_type": "code",
   "execution_count": null,
   "metadata": {},
   "outputs": [],
   "source": []
  },
  {
   "cell_type": "markdown",
   "metadata": {},
   "source": [
    "## Test "
   ]
  },
  {
   "cell_type": "code",
   "execution_count": 38,
   "metadata": {},
   "outputs": [],
   "source": [
    "from DDBSCAN import Raster_DBSCAN\n",
    "import os \n",
    "import seaborn as sns\n",
    "import numpy as np\n",
    "from PIL import Image\n",
    "import matplotlib.pyplot as plt \n",
    "from matplotlib import cm\n",
    "TIF = Image.open(r'./seg/140WA_-_000140WA16900RGB_intCluster.tif')\n",
    "Tif_arr = np.array(TIF)\n",
    "db = Raster_DBSCAN(window_size=(7,7),eps = 10, min_samples= 20)\n",
    "Mask = Tif_arr > 0\n",
    "result = db.fit_predict(Td_map= Tif_arr,Foreground_map=Mask)\n",
    "plt.figure(figsize=(10,10))\n",
    "plt.imshow(result,cmap = cm.tab20)\n",
    "plt.show()"
   ]
  },
  {
   "cell_type": "code",
   "execution_count": 53,
   "metadata": {},
   "outputs": [
    {
     "name": "stdout",
     "output_type": "stream",
     "text": [
      "69.9 ms ± 2.44 ms per loop (mean ± std. dev. of 7 runs, 10 loops each)\n"
     ]
    },
    {
     "data": {
      "image/png": "[encoded data removed]",
      "text/plain": [
       "<Figure size 720x720 with 1 Axes>"
      ]
     },
     "metadata": {
      "needs_background": "light"
     },
     "output_type": "display_data"
    }
   ],
   "source": [
    "TIF = Image.open(r'./seg/140WA_-_000140WA16900RGB_intCluster.tif')\n",
    "Tif_arr = np.array(TIF)\n",
    "db = Raster_DBSCAN(window_size=(7,7),eps = 10, min_samples= 12)\n",
    "Mask = ((150 < Tif_arr) & ( Tif_arr < 190)) | ((210 < Tif_arr) & ( Tif_arr < 230))\n",
    "%timeit result = db.fit_predict(Td_map= Tif_arr,Foreground_map=Mask)\n",
    "plt.figure(figsize=(10,10))\n",
    "plt.imshow(result,cmap = cm.tab20)\n",
    "plt.show()"
   ]
  },
  {
   "cell_type": "code",
   "execution_count": 27,
   "metadata": {},
   "outputs": [
    {
     "data": {
      "image/png": "[encoded data removed]",
      "text/plain": [
       "<Figure size 432x288 with 1 Axes>"
      ]
     },
     "metadata": {
      "needs_background": "light"
     },
     "output_type": "display_data"
    }
   ],
   "source": [
    "plt.hist(Tif_arr.flatten())\n",
    "plt.show()"
   ]
  },
  {
   "cell_type": "code",
   "execution_count": 2,
   "metadata": {},
   "outputs": [],
   "source": [
    "db = Raster_DBSCAN(window_size=(7,7),eps = 10, min_samples= 20)"
   ]
  },
  {
   "cell_type": "code",
   "execution_count": 34,
   "metadata": {},
   "outputs": [],
   "source": [
    "Mask = Tif_arr > 0\n",
    "result = db.fit_predict(Td_map= Tif_arr,Foreground_map=Mask)"
   ]
  },
  {
   "cell_type": "code",
   "execution_count": 40,
   "metadata": {},
   "outputs": [
    {
     "data": {
      "image/png": "[encoded data removed]",
      "text/plain": [
       "<Figure size 720x720 with 1 Axes>"
      ]
     },
     "metadata": {
      "needs_background": "light"
     },
     "output_type": "display_data"
    }
   ],
   "source": [
    "plt.figure(figsize=(10,10))\n",
    "plt.imshow(result,cmap = cm.tab20)\n",
    "plt.show()"
   ]
  },
  {
   "cell_type": "code",
   "execution_count": null,
   "metadata": {},
   "outputs": [],
   "source": []
  }
 ],
 "metadata": {
  "kernelspec": {
   "display_name": "Python 3",
   "language": "python",
   "name": "python3"
  },
  "language_info": {
   "codemirror_mode": {
    "name": "ipython",
    "version": 3
   },
   "file_extension": ".py",
   "mimetype": "text/x-python",
   "name": "python",
   "nbconvert_exporter": "python",
   "pygments_lexer": "ipython3",
   "version": "3.7.6"
  }
 },
 "nbformat": 4,
 "nbformat_minor": 2
}
