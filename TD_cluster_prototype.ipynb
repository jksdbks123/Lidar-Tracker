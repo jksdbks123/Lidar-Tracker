{
 "cells": [
  {
   "cell_type": "code",
   "execution_count": 304,
   "metadata": {},
   "outputs": [],
   "source": [
    "from tqdm.notebook import tqdm\n",
    "import datetime\n",
    "import dpkt\n",
    "import numpy as np\n",
    "import matplotlib.pyplot as plt\n",
    "import os\n",
    "import open3d as op3 \n",
    "import pandas as pd\n",
    "import time\n",
    "from scipy.sparse.csgraph import connected_components\n",
    "from open3d import JVisualizer\n",
    "from BfTableGenerator import RansacCollector\n",
    "from matplotlib import cm\n",
    "from sklearn.cluster._dbscan_inner import dbscan_inner\n",
    "from numpy.lib.stride_tricks import sliding_window_view\n",
    "from DDBSCAN import Raster_DBSCAN\n",
    "from scipy import ndimage \n",
    "import cv2\n",
    "theta_raw = np.array([[-25,1.4],[-1,-4.2],[-1.667,1.4],[-15.639,-1.4],\n",
    "                            [-11.31,1.4],[0,-1.4],[-0.667,4.2],[-8.843,-1.4],\n",
    "                            [-7.254,1.4],[0.333,-4.2],[-0.333,1.4],[-6.148,-1.4],\n",
    "                            [-5.333,4.2],[1.333,-1.4],[0.667,4.2],[-4,-1.4],\n",
    "                            [-4.667,1.4],[1.667,-4.2],[1,1.4],[-3.667,-4.2],\n",
    "                            [-3.333,4.2],[3.333,-1.4],[2.333,1.4],[-2.667,-1.4],\n",
    "                            [-3,1.4],[7,-1.4],[4.667,1.4],[-2.333,-4.2],\n",
    "                            [-2,4.2],[15,-1.4],[10.333,1.4],[-1.333,-1.4]\n",
    "                            ])[:,0]\n",
    "theta = np.sort(theta_raw)\n",
    "azimuths = np.arange(0,360,0.2)"
   ]
  },
  {
   "cell_type": "code",
   "execution_count": 305,
   "metadata": {
    "scrolled": true
   },
   "outputs": [
    {
     "name": "stderr",
     "output_type": "stream",
     "text": [
      "  0%|          | 2/5000 [00:00<04:45, 17.52it/s]"
     ]
    },
    {
     "name": "stdout",
     "output_type": "stream",
     "text": [
      "Loading pcap...\n"
     ]
    },
    {
     "name": "stderr",
     "output_type": "stream",
     "text": [
      "100%|██████████| 5000/5000 [04:08<00:00, 20.13it/s]\n",
      "  0%|          | 0/32 [00:00<?, ?it/s]"
     ]
    },
    {
     "name": "stdout",
     "output_type": "stream",
     "text": [
      "Generating Threshold Map\n"
     ]
    },
    {
     "name": "stderr",
     "output_type": "stream",
     "text": [
      "100%|██████████| 32/32 [00:17<00:00,  1.87it/s]\n"
     ]
    }
   ],
   "source": [
    "os.chdir(r'/Users/czhui960/Documents/Lidar/RawLidarData/FrameSamplingTest')\n",
    "frame_set = np.arange(0,5000,1).astype('int')\n",
    "collector = RansacCollector(pcap_path=r'./2020-7-27-10-30-0.pcap',frames_set = frame_set)\n",
    "collector.gen_tdmap()\n",
    "collector.gen_thredmap(d = 1.2,thred_s = 0.3,N = 20,delta_thred = 1e-3,step = 0.1,inuse_frame = frame_set)\n",
    "# d = 1.2,thred_s = 0.3,N = 20,delta_thred = 1e-3,step = 0.1 FrameSampling\n"
   ]
  },
  {
   "cell_type": "code",
   "execution_count": 690,
   "metadata": {},
   "outputs": [],
   "source": [
    "Thred_map = collector.thred_map\n",
    "db = Raster_DBSCAN(window_size=(9,9),eps = 2, min_samples= 20,Td_map_szie=Thred_map.shape)"
   ]
  },
  {
   "cell_type": "code",
   "execution_count": 691,
   "metadata": {},
   "outputs": [
    {
     "data": {
      "application/vnd.jupyter.widget-view+json": {
       "model_id": "ea9c5ec123c046c7b627a6ac738d9409",
       "version_major": 2,
       "version_minor": 0
      },
      "text/plain": [
       "HBox(children=(HTML(value=''), FloatProgress(value=0.0, max=1000.0), HTML(value='')))"
      ]
     },
     "metadata": {},
     "output_type": "display_data"
    },
    {
     "name": "stdout",
     "output_type": "stream",
     "text": [
      "\n"
     ]
    }
   ],
   "source": [
    "Td_maps = []\n",
    "Labeling_maps = []\n",
    "Time_consumings = []\n",
    "for i in tqdm(range(1000)):\n",
    "    ti = time.time()\n",
    "    Td_map = collector.td_maps[i].copy()\n",
    "    Foreground_map = (Td_map < Thred_map)&(Td_map != 0)\n",
    "    Labeling_map = db.fit_predict(Td_map= Td_map,Foreground_map=Foreground_map)\n",
    "    Td_maps.append(Td_map)\n",
    "    Labeling_maps.append(Labeling_map)\n",
    "    Time_consumings.append((time.time() - ti)*1000)"
   ]
  },
  {
   "cell_type": "code",
   "execution_count": 611,
   "metadata": {},
   "outputs": [],
   "source": [
    "def get_tracking_points(Label_map,sparse_template):\n",
    "    \"\"\"\n",
    "    Get sparsed tracking points as input implement the KL algorithm \n",
    "    \n",
    "    \n",
    "    \"\"\"\n",
    "    Label_map_sparesed = Label_map.copy()\n",
    "    Label_map_sparesed[sparse_template] = 0\n",
    "    tracking_points = np.array(np.where(Label_map_sparesed != 0)).T.reshape((-1,1,2))  \n",
    "    represented_labels = Label_map_sparesed[tracking_points[:,:,0],tracking_points[:,:,1]]\n",
    "    tracking_points = tracking_points.astype(np.float32)\n",
    "    tracking_points = tracking_points[:,:,[1,0]]\n",
    "    \n",
    "    return tracking_points,represented_labels\n",
    "\n",
    "def read_Td_map(ind,Label_map,width_fringe):\n",
    "    \n",
    "    Td_map_cur = Td_maps[ind].copy()\n",
    "    Td_map_cur[Label_map == 0] = 0\n",
    "    Td_map_cur = (255*Td_map_cur/300).astype(np.uint8)\n",
    "    Td_map_cur_padded = np.concatenate([Td_map_cur[:,-width_fringe:],\n",
    "                                                    Td_map_cur,\n",
    "                                                    Td_map_cur[:,:width_fringe]],axis = 1)\n",
    "    return Td_map_cur,Td_map_cur_padded\n",
    "def read_Label_map(ind,width_fringe):\n",
    "    \"\"\"\n",
    "    Read Frame, the labels are started from 1, 0 refers to noise\n",
    "    Lavel_map_cur or next size is padded to 32 x (1800 + 2 x int(win_size))\n",
    "    Considering the roll over margin\n",
    "    \"\"\"\n",
    "    Label_map_cur = Labeling_maps[ind].copy()\n",
    "    Label_map_cur += 1\n",
    "    Label_map_cur_padded = np.concatenate([Label_map_cur[:,-width_fringe:],\n",
    "                                                Label_map_cur,\n",
    "                                                Label_map_cur[:,:width_fringe]],axis = 1)\n",
    "    return Label_map_cur,Label_map_cur_padded"
   ]
  },
  {
   "cell_type": "code",
   "execution_count": 612,
   "metadata": {},
   "outputs": [],
   "source": [
    "def read_Td_map(ind,Label_map,width_fringe):\n",
    "    \n",
    "    Td_map_cur = Td_maps[ind].copy()\n",
    "    Td_map_cur[Label_map == 0] = 0\n",
    "    Td_map_cur = (255*Td_map_cur/300).astype(np.uint8)\n",
    "    Td_map_cur_padded = np.concatenate([Td_map_cur[:,-width_fringe:],\n",
    "                                                    Td_map_cur,\n",
    "                                                    Td_map_cur[:,:width_fringe]],axis = 1)\n",
    "    return Td_map_cur,Td_map_cur_padded"
   ]
  },
  {
   "cell_type": "code",
   "execution_count": 613,
   "metadata": {},
   "outputs": [],
   "source": [
    "def read_Label_map(ind,width_fringe):\n",
    "    \"\"\"\n",
    "    Read Frame, the labels are started from 1, 0 refers to noise\n",
    "    Lavel_map_cur or next size is padded to 32 x (1800 + 2 x int(win_size))\n",
    "    Considering the roll over margin\n",
    "    \"\"\"\n",
    "    Label_map_cur = Labeling_maps[ind].copy()\n",
    "    Label_map_cur += 1\n",
    "    Label_map_cur_padded = np.concatenate([Label_map_cur[:,-width_fringe:],\n",
    "                                                Label_map_cur,\n",
    "                                                Label_map_cur[:,:width_fringe]],axis = 1)\n",
    "    return Label_map_cur,Label_map_cur_padded"
   ]
  },
  {
   "cell_type": "code",
   "execution_count": 914,
   "metadata": {},
   "outputs": [],
   "source": [
    "def get_associations(Label_map_next_padded,valid_represented_labels,valid_tracking_points_pred):\n",
    "    \n",
    "    associations = np.concatenate(\n",
    "    [valid_represented_labels.reshape((-1,1)), \n",
    "     #valid representative labels at current frame (transmitted to the pred position)\n",
    "    Label_map_next_padded[valid_tracking_points_pred[:,1].astype(np.int16),valid_tracking_points_pred[:,0].astype(np.int16)].reshape((-1,1))] \n",
    "    # overlapped labels at next frame given the transmission\n",
    "    ,axis = 1)\n",
    "\n",
    "    #occured associations at next frame, overlapped points counts \n",
    "    occured_associations,associations_counts = np.unique(associations,axis = 0,return_counts=True)\n",
    "    #exclude associations with background at next frame \n",
    "    occured_associations,associations_counts = occured_associations[occured_associations[:,1] != 0],associations_counts[occured_associations[:,1] != 0]\n",
    "\n",
    "    #unique_valid_labels refers to labels in current frame which are overlapped at next frame \n",
    "    unique_valid_labels,valid_labels_counts  = np.unique(valid_represented_labels,return_counts=True)\n",
    "    \n",
    "    return occured_associations,associations_counts,unique_valid_labels,valid_labels_counts"
   ]
  },
  {
   "cell_type": "code",
   "execution_count": 915,
   "metadata": {},
   "outputs": [],
   "source": [
    "class detected_object():\n",
    "    def __init__(self):\n",
    "        self.global_id = None\n",
    "        self.represented_label_at_each_frame = None\n",
    "        self.cur_motion = None\n",
    "        self.occlusion_indicator = None"
   ]
  },
  {
   "cell_type": "code",
   "execution_count": 1039,
   "metadata": {},
   "outputs": [],
   "source": [
    "\"\"\"\n",
    "Initial params\n",
    "\"\"\"\n",
    "window_size_lk = 5\n",
    "width_fringe = int(window_size_lk/2)\n",
    "sparse_interval = 3 # this param controls the sparese degree of LK implementation, smaller it is, the Label matrix is sparser\n",
    "sparse_ind = np.array(np.meshgrid(np.arange(Thred_map.shape[0]),np.arange(0,Thred_map.shape[1] + 2 * width_fringe,sparse_interval))).T.reshape(-1,2)\n",
    "sparse_template = np.full((Thred_map.shape[0],Thred_map.shape[1] + 2 * width_fringe),False)\n",
    "sparse_template[sparse_ind[:,0],sparse_ind[:,1]] = True\n",
    "\n",
    "overlapped_thred = 0.01 # overlapped ratio indicating successfully associated \n",
    "lk_params = dict(winSize = (window_size_lk,window_size_lk),\n",
    "                maxLevel = 2,\n",
    "                criteria = (cv2.TERM_CRITERIA_EPS | cv2.TERM_CRITERIA_COUNT,10,0.03))\n",
    "cur_frame = 0 #current frame number\n",
    "global_id = 0\n",
    "tracking_list = {}\n",
    "off_track_list = {}\n",
    "\"\"\"\n",
    "Initialization Code\n",
    "\"\"\"\n",
    "Label_map_initial,Label_map_initial_padded = read_Label_map(cur_frame,width_fringe)\n",
    "Td_map_initial,Td_map_initial_padded = read_Td_map(cur_frame,Label_map_initial,width_fringe)\n",
    "\n",
    "cur_frame += 1\n",
    "# Generate prerequisites Label maps(padded), Td maps(padded)\n",
    "Label_map_cur,Label_map_cur_padded = Label_map_initial,Label_map_initial_padded\n",
    "Td_map_cur,Td_map_cur_padded = Td_map_initial,Td_map_initial_padded\n",
    "Label_map_next,Label_map_next_padded = read_Label_map(cur_frame,width_fringe)\n",
    "Td_map_next,Td_map_next_padded = read_Td_map(cur_frame,Label_map_next,width_fringe)\n",
    "\n",
    "#represented_labels is the labels that tracking points representing at current frame \n",
    "tracking_points,represented_labels = get_tracking_points(Label_map_cur_padded,sparse_template) \n",
    "\"\"\"\n",
    "Using the tracking points to calculate the optical flow, \n",
    "the result represent the entire motion pattern of each cluster \n",
    "also, the Td_maps need to be padded in order to issue the roll over problem\n",
    "the motion estimated result is given in valid_tracking_points_pred,\n",
    "st is an indicator indicating  which tracking point is successfully tracked \n",
    "\n",
    "\"\"\"\n",
    "tracking_points_pred,st,err = cv2.calcOpticalFlowPyrLK(Td_map_cur_padded,Td_map_next_padded,tracking_points,\n",
    "                                                       None,**lk_params)\n",
    "# predicted tracking points \n",
    "valid_tracking_points_pred = tracking_points_pred[st == 1]\n",
    "valid_tracking_points_pred[:,1][valid_tracking_points_pred[:,1] > 31] = 31\n",
    "\n",
    "# the labels representing each predicted point \n",
    "valid_represented_labels = represented_labels[st == 1]\n",
    "total_represented_labels = np.unique(represented_labels)\n",
    "occured_associations,associations_counts,unique_valid_labels,valid_labels_counts = get_associations(Label_map_next_padded,\n",
    "                                                                                                    valid_represented_labels,\n",
    "                                                                                                    valid_tracking_points_pred)\n",
    "\n",
    "# iterate all detected objects\n",
    "for i,cur_id in enumerate(total_represented_labels):\n",
    "    temp_object = detected_object()\n",
    "    if cur_id in occured_associations[:,0]: #whether a detected object is associated at next frame  \n",
    "        tracking_contour_count = valid_labels_counts[np.where(unique_valid_labels == cur_id)[0]] # tracking pounts count of cur_id at current frame\n",
    "        overlapped_label_next = occured_associations[occured_associations[:,0] == cur_id][:,1] # labels associating to cur_id at next frame\n",
    "        overlapped_contour_count = associations_counts[occured_associations[:,0] == cur_id] \n",
    "        overlapped_ratios = overlapped_contour_count/tracking_contour_count\n",
    "        if overlapped_ratios.max() > overlapped_thred:\n",
    "            associated_label_next = overlapped_label_next[overlapped_ratios.argmax()] #associated label at next frame \n",
    "            temp_object.global_id = global_id\n",
    "            temp_object.represented_label_at_each_frame = [cur_id,associated_label_next]\n",
    "            tracking_list[global_id] = temp_object\n",
    "    \"\"\"\n",
    "    cur_id is not associated with any object at next frame, it has been totally occluded\n",
    "    else:\n",
    "    \"\"\"\n",
    "    global_id += 1\n"
   ]
  },
  {
   "cell_type": "code",
   "execution_count": 1040,
   "metadata": {},
   "outputs": [],
   "source": [
    "\n",
    "\"\"\"\n",
    "Iterative\n",
    "\"\"\"\n",
    "while cur_frame < 100:\n",
    "    Label_map_cur,Label_map_cur_padded = Label_map_next,Label_map_next_padded\n",
    "    Td_map_cur,Td_map_cur_padded = Td_map_next,Td_map_next_padded\n",
    "    cur_frame += 1\n",
    "    Label_map_next,Label_map_next_padded = read_Label_map(cur_frame,width_fringe)\n",
    "    Td_map_next,Td_map_next_padded = read_Td_map(cur_frame,Label_map_next,width_fringe)\n",
    "    tracking_points,represented_labels = get_tracking_points(Label_map_cur_padded,sparse_template) \n",
    "    tracking_points_pred,st,err = cv2.calcOpticalFlowPyrLK(Td_map_cur_padded,Td_map_next_padded,tracking_points,\n",
    "                                                           None,**lk_params)\n",
    "    # predicted tracking points \n",
    "    valid_tracking_points_pred = tracking_points_pred[st == 1]\n",
    "    valid_tracking_points_pred[:,1][valid_tracking_points_pred[:,1] > 31] = 31\n",
    "    # the labels representing each predicted point \n",
    "    valid_represented_labels = represented_labels[st == 1]\n",
    "    total_represented_labels = np.unique(represented_labels)\n",
    "\n",
    "    occured_associations,associations_counts,unique_valid_labels,valid_labels_counts = get_associations(Label_map_next_padded,\n",
    "                                                                                                        valid_represented_labels,\n",
    "                                                                                                        valid_tracking_points_pred)\n",
    "    #represented label at cur frame, global id\n",
    "    tracking_latest_label = np.array([tracking_list[key].represented_label_at_each_frame[-1] for key in tracking_list.keys()])\n",
    "    tracking_glbid = np.array([key for key in tracking_list.keys()])\n",
    "\n",
    "\n",
    "    for i,la in enumerate(tracking_latest_label):\n",
    "        if la in occured_associations[:,0]: \n",
    "             #associated or lose tracking \n",
    "            tracking_contour_count = valid_labels_counts[np.where(unique_valid_labels == la)[0]] # tracking pounts count of cur_id at current frame\n",
    "            overlapped_label_next = occured_associations[occured_associations[:,0] == la][:,1] # labels associating to cur_id at next frame\n",
    "            overlapped_contour_count = associations_counts[occured_associations[:,0] == la] \n",
    "            overlapped_ratios = overlapped_contour_count/tracking_contour_count\n",
    "            if overlapped_ratios.max() > overlapped_thred:\n",
    "                associated_label_next = overlapped_label_next[overlapped_ratios.argmax()] #associated label at next frame \n",
    "                tracking_list[tracking_glbid[i]].represented_label_at_each_frame.append(associated_label_next)\n",
    "            else:\n",
    "                off_track_list[tracking_glbid[i]] = tracking_list.pop(tracking_glbid[i])\n",
    "\n",
    "        else:\n",
    "            off_track_list[tracking_glbid[i]] = tracking_list.pop(tracking_glbid[i])\n",
    "\n",
    "    new_object_labels = [nl for nl in unique_valid_labels if (nl in occured_associations[:,0])&(nl not in tracking_latest_label) ]\n",
    "\n",
    "    if len(new_object_labels) != 0 :\n",
    "        for nl in new_object_labels:\n",
    "            tracking_contour_count = valid_labels_counts[np.where(unique_valid_labels == nl)[0]] # tracking pounts count of cur_id at current frame\n",
    "            overlapped_label_next = occured_associations[occured_associations[:,0] == nl][:,1] # labels associating to cur_id at next frame\n",
    "            overlapped_contour_count = associations_counts[occured_associations[:,0] == nl] \n",
    "            overlapped_ratios = overlapped_contour_count/tracking_contour_count\n",
    "            associated_label_next = overlapped_label_next[overlapped_ratios.argmax()] #associated label at next frame \n",
    "            if overlapped_ratios.max() > overlapped_thred:\n",
    "                temp_object.global_id = global_id\n",
    "                temp_object.represented_label_at_each_frame = [cur_id,associated_label_next]\n",
    "                tracking_list[global_id] = temp_object\n",
    "                global_id += 1\n",
    "\n"
   ]
  },
  {
   "cell_type": "code",
   "execution_count": null,
   "metadata": {},
   "outputs": [],
   "source": [
    "tracking_points_pred,st,err = cv2.calcOpticalFlowPyrLK(Td_map_cur_padded,Td_map_next_padded,tracking_points,\n",
    "                                                       None,**lk_params)"
   ]
  },
  {
   "cell_type": "code",
   "execution_count": null,
   "metadata": {},
   "outputs": [],
   "source": []
  },
  {
   "cell_type": "code",
   "execution_count": 1063,
   "metadata": {},
   "outputs": [],
   "source": [
    "cur_label,next_label = 1,2\n",
    "cur_frame,next_frame = 4,5\n",
    "Td_map_next,Td_map_next_padded = read_Label_map(next_frame,width_fringe)\n",
    "Td_map_next,Td_map_next_padded = read_Td_map(next_frame,Label_map_next,width_fringe)\n",
    "Td_map_cur,Td_map_cur_padded = read_Label_map(cur_frame,width_fringe)\n",
    "Td_map_cur,Td_map_cur_padded = read_Td_map(cur_frame,Label_map_cur,width_fringe)"
   ]
  },
  {
   "cell_type": "code",
   "execution_count": null,
   "metadata": {},
   "outputs": [],
   "source": []
  },
  {
   "cell_type": "code",
   "execution_count": null,
   "metadata": {},
   "outputs": [],
   "source": []
  },
  {
   "cell_type": "code",
   "execution_count": 1075,
   "metadata": {},
   "outputs": [
    {
     "data": {
      "application/vnd.jupyter.widget-view+json": {
       "model_id": "fec228ebfb2044e6bd85dcc50e626f61",
       "version_major": 2,
       "version_minor": 0
      },
      "text/plain": [
       "JVisualizer with 1 geometries"
      ]
     },
     "metadata": {},
     "output_type": "display_data"
    }
   ],
   "source": [
    "frame = 4\n",
    "Td_map = Td_maps[frame]\n",
    "Labeling_map = Labeling_maps[frame]\n",
    "label = 3\n",
    "visualize_label(Td_map,Labeling_map,label)"
   ]
  },
  {
   "cell_type": "code",
   "execution_count": 1073,
   "metadata": {},
   "outputs": [],
   "source": [
    "def visualize_label(Td_map,Labeling_map,label):\n",
    "    np.random.seed(250)\n",
    "    color_map = np.random.random((100,3))\n",
    "    color_map = np.concatenate([color_map,np.array([[1,1,1]])])\n",
    "    td_freq_map = Td_map\n",
    "    Xs = []\n",
    "    Ys = []\n",
    "    Zs = []\n",
    "    Labels = []\n",
    "    for i in range(td_freq_map.shape[0]):\n",
    "        longitudes = theta[i]*np.pi / 180\n",
    "        latitudes = azimuths * np.pi / 180 \n",
    "        hypotenuses = td_freq_map[i] * np.cos(longitudes)\n",
    "        X = hypotenuses * np.sin(latitudes)\n",
    "        Y = hypotenuses * np.cos(latitudes)\n",
    "        Z = td_freq_map[i] * np.sin(longitudes)\n",
    "        Valid_ind =  (td_freq_map[i] != 0)&(td_freq_map[i]<collector.thred_map[i]) # None zero index\n",
    "        Xs.append(X[Valid_ind])\n",
    "        Ys.append(Y[Valid_ind])\n",
    "        Zs.append(Z[Valid_ind])\n",
    "        Labels.append(Labeling_map[i][Valid_ind])\n",
    "\n",
    "    Xs = np.concatenate(Xs)\n",
    "    Ys = np.concatenate(Ys)\n",
    "    Zs = np.concatenate(Zs)\n",
    "    Labels = np.concatenate(Labels).astype('int')\n",
    "    Colors = []\n",
    "    for i in range(len(Labels)):\n",
    "        if Labels[i] == label:\n",
    "            Colors.append(color_map[0])\n",
    "        else:\n",
    "            Colors.append(color_map[-1])\n",
    "    Colors = np.array(Colors)\n",
    "    pcd = op3.geometry.PointCloud()\n",
    "    XYZ = np.concatenate([Xs.reshape(-1,1),Ys.reshape(-1,1),Zs.reshape(-1,1)],axis = 1)\n",
    "    pcd.points = op3.utility.Vector3dVector(XYZ)\n",
    "    pcd.colors = op3.utility.Vector3dVector(Colors)\n",
    "    visualizer = JVisualizer()\n",
    "\n",
    "    visualizer.add_geometry(pcd)\n",
    "    visualizer.show()"
   ]
  },
  {
   "cell_type": "code",
   "execution_count": 674,
   "metadata": {},
   "outputs": [],
   "source": [
    "def visualize(Td_map,Labeling_map):\n",
    "    np.random.seed(250)\n",
    "    color_map = np.random.random((100,3))\n",
    "    color_map = np.concatenate([color_map,np.array([[1,1,1]])])\n",
    "    td_freq_map = Td_map\n",
    "    Xs = []\n",
    "    Ys = []\n",
    "    Zs = []\n",
    "    Labels = []\n",
    "    for i in range(td_freq_map.shape[0]):\n",
    "        longitudes = theta[i]*np.pi / 180\n",
    "        latitudes = azimuths * np.pi / 180 \n",
    "        hypotenuses = td_freq_map[i] * np.cos(longitudes)\n",
    "        X = hypotenuses * np.sin(latitudes)\n",
    "        Y = hypotenuses * np.cos(latitudes)\n",
    "        Z = td_freq_map[i] * np.sin(longitudes)\n",
    "        Valid_ind =  (td_freq_map[i] != 0)&(td_freq_map[i]<collector.thred_map[i]) # None zero index\n",
    "        Xs.append(X[Valid_ind])\n",
    "        Ys.append(Y[Valid_ind])\n",
    "        Zs.append(Z[Valid_ind])\n",
    "        Labels.append(Labeling_map[i][Valid_ind])\n",
    "\n",
    "\n",
    "    Xs = np.concatenate(Xs)\n",
    "    Ys = np.concatenate(Ys)\n",
    "    Zs = np.concatenate(Zs)\n",
    "    Labels = np.concatenate(Labels).astype('int')\n",
    "    Colors = []\n",
    "    for i in range(len(Labels)):\n",
    "        Colors.append(color_map[Labels[i]])\n",
    "    Colors = np.array(Colors)\n",
    "    pcd = op3.geometry.PointCloud()\n",
    "    XYZ = np.concatenate([Xs.reshape(-1,1),Ys.reshape(-1,1),Zs.reshape(-1,1)],axis = 1)\n",
    "    pcd.points = op3.utility.Vector3dVector(XYZ)\n",
    "    pcd.colors = op3.utility.Vector3dVector(Colors)\n",
    "    visualizer = JVisualizer()\n",
    "    visualizer.add_geometry(pcd)\n",
    "    visualizer.show()"
   ]
  },
  {
   "cell_type": "code",
   "execution_count": 683,
   "metadata": {},
   "outputs": [],
   "source": [
    "np.random.seed(250)\n",
    "color_map = np.random.random((100,3))\n",
    "color_map = np.concatenate([color_map,np.array([[1,1,1]])])"
   ]
  },
  {
   "cell_type": "code",
   "execution_count": null,
   "metadata": {},
   "outputs": [],
   "source": [
    "i = 602\n",
    "Td_map = collector.td_maps[i].copy()\n",
    "Foreground_map = (Td_map < Thred_map)&(Td_map != 0)\n",
    "Thred_map = collector.thred_map\n",
    "db = Raster_DBSCAN(window_size=(9,9),eps = 2, min_samples= 20,Td_map_szie=Thred_map.shape)\n",
    "Labeling_map = db.fit_predict(Td_map= Td_map,Foreground_map=Foreground_map)\n",
    "visualize(Td_map,Labeling_map)"
   ]
  },
  {
   "cell_type": "code",
   "execution_count": null,
   "metadata": {},
   "outputs": [],
   "source": []
  },
  {
   "cell_type": "code",
   "execution_count": null,
   "metadata": {},
   "outputs": [],
   "source": []
  },
  {
   "cell_type": "code",
   "execution_count": null,
   "metadata": {},
   "outputs": [],
   "source": []
  },
  {
   "cell_type": "markdown",
   "metadata": {},
   "source": [
    "## DBSCAN efficiency test"
   ]
  },
  {
   "cell_type": "code",
   "execution_count": 24,
   "metadata": {},
   "outputs": [],
   "source": [
    "from sklearn.cluster import DBSCAN"
   ]
  },
  {
   "cell_type": "code",
   "execution_count": 25,
   "metadata": {},
   "outputs": [],
   "source": [
    "db = DBSCAN(eps=1.5,min_samples=10)\n"
   ]
  },
  {
   "cell_type": "code",
   "execution_count": 27,
   "metadata": {
    "collapsed": true
   },
   "outputs": [
    {
     "data": {
      "application/vnd.jupyter.widget-view+json": {
       "model_id": "b44cde8ad6fc411c943ba9791cc584b0",
       "version_major": 2,
       "version_minor": 0
      },
      "text/plain": [
       "HBox(children=(FloatProgress(value=0.0, max=17000.0), HTML(value='')))"
      ]
     },
     "metadata": {},
     "output_type": "display_data"
    },
    {
     "ename": "KeyboardInterrupt",
     "evalue": "",
     "output_type": "error",
     "traceback": [
      "\u001b[0;31m---------------------------------------------------------------------------\u001b[0m",
      "\u001b[0;31mKeyboardInterrupt\u001b[0m                         Traceback (most recent call last)",
      "\u001b[0;32m<ipython-input-27-67ba53e5ab31>\u001b[0m in \u001b[0;36m<module>\u001b[0;34m\u001b[0m\n\u001b[1;32m     23\u001b[0m     \u001b[0mZs\u001b[0m \u001b[0;34m=\u001b[0m \u001b[0mnp\u001b[0m\u001b[0;34m.\u001b[0m\u001b[0mconcatenate\u001b[0m\u001b[0;34m(\u001b[0m\u001b[0mZs\u001b[0m\u001b[0;34m)\u001b[0m\u001b[0;34m\u001b[0m\u001b[0;34m\u001b[0m\u001b[0m\n\u001b[1;32m     24\u001b[0m     \u001b[0mXYZ\u001b[0m \u001b[0;34m=\u001b[0m \u001b[0mnp\u001b[0m\u001b[0;34m.\u001b[0m\u001b[0mconcatenate\u001b[0m\u001b[0;34m(\u001b[0m\u001b[0;34m[\u001b[0m\u001b[0mXs\u001b[0m\u001b[0;34m.\u001b[0m\u001b[0mreshape\u001b[0m\u001b[0;34m(\u001b[0m\u001b[0;34m-\u001b[0m\u001b[0;36m1\u001b[0m\u001b[0;34m,\u001b[0m\u001b[0;36m1\u001b[0m\u001b[0;34m)\u001b[0m\u001b[0;34m,\u001b[0m\u001b[0mYs\u001b[0m\u001b[0;34m.\u001b[0m\u001b[0mreshape\u001b[0m\u001b[0;34m(\u001b[0m\u001b[0;34m-\u001b[0m\u001b[0;36m1\u001b[0m\u001b[0;34m,\u001b[0m\u001b[0;36m1\u001b[0m\u001b[0;34m)\u001b[0m\u001b[0;34m,\u001b[0m\u001b[0mZs\u001b[0m\u001b[0;34m.\u001b[0m\u001b[0mreshape\u001b[0m\u001b[0;34m(\u001b[0m\u001b[0;34m-\u001b[0m\u001b[0;36m1\u001b[0m\u001b[0;34m,\u001b[0m\u001b[0;36m1\u001b[0m\u001b[0;34m)\u001b[0m\u001b[0;34m]\u001b[0m\u001b[0;34m,\u001b[0m\u001b[0maxis\u001b[0m \u001b[0;34m=\u001b[0m \u001b[0;36m1\u001b[0m\u001b[0;34m)\u001b[0m\u001b[0;34m\u001b[0m\u001b[0;34m\u001b[0m\u001b[0m\n\u001b[0;32m---> 25\u001b[0;31m     \u001b[0mLabels\u001b[0m \u001b[0;34m=\u001b[0m \u001b[0mdb\u001b[0m\u001b[0;34m.\u001b[0m\u001b[0mfit_predict\u001b[0m\u001b[0;34m(\u001b[0m\u001b[0mXYZ\u001b[0m\u001b[0;34m)\u001b[0m\u001b[0;34m\u001b[0m\u001b[0;34m\u001b[0m\u001b[0m\n\u001b[0m\u001b[1;32m     26\u001b[0m     \u001b[0mtime_consumption\u001b[0m\u001b[0;34m.\u001b[0m\u001b[0mappend\u001b[0m\u001b[0;34m(\u001b[0m\u001b[0;36m1000\u001b[0m\u001b[0;34m*\u001b[0m\u001b[0;34m(\u001b[0m\u001b[0mtime\u001b[0m\u001b[0;34m.\u001b[0m\u001b[0mtime\u001b[0m\u001b[0;34m(\u001b[0m\u001b[0;34m)\u001b[0m \u001b[0;34m-\u001b[0m \u001b[0mti\u001b[0m\u001b[0;34m)\u001b[0m\u001b[0;34m)\u001b[0m\u001b[0;34m\u001b[0m\u001b[0;34m\u001b[0m\u001b[0m\n",
      "\u001b[0;32m~/opt/anaconda3/envs/tf2/lib/python3.7/site-packages/sklearn/cluster/_dbscan.py\u001b[0m in \u001b[0;36mfit_predict\u001b[0;34m(self, X, y, sample_weight)\u001b[0m\n\u001b[1;32m    387\u001b[0m             \u001b[0mCluster\u001b[0m \u001b[0mlabels\u001b[0m\u001b[0;34m.\u001b[0m \u001b[0mNoisy\u001b[0m \u001b[0msamples\u001b[0m \u001b[0mare\u001b[0m \u001b[0mgiven\u001b[0m \u001b[0mthe\u001b[0m \u001b[0mlabel\u001b[0m \u001b[0;34m-\u001b[0m\u001b[0;36m1.\u001b[0m\u001b[0;34m\u001b[0m\u001b[0;34m\u001b[0m\u001b[0m\n\u001b[1;32m    388\u001b[0m         \"\"\"\n\u001b[0;32m--> 389\u001b[0;31m         \u001b[0mself\u001b[0m\u001b[0;34m.\u001b[0m\u001b[0mfit\u001b[0m\u001b[0;34m(\u001b[0m\u001b[0mX\u001b[0m\u001b[0;34m,\u001b[0m \u001b[0msample_weight\u001b[0m\u001b[0;34m=\u001b[0m\u001b[0msample_weight\u001b[0m\u001b[0;34m)\u001b[0m\u001b[0;34m\u001b[0m\u001b[0;34m\u001b[0m\u001b[0m\n\u001b[0m\u001b[1;32m    390\u001b[0m         \u001b[0;32mreturn\u001b[0m \u001b[0mself\u001b[0m\u001b[0;34m.\u001b[0m\u001b[0mlabels_\u001b[0m\u001b[0;34m\u001b[0m\u001b[0;34m\u001b[0m\u001b[0m\n",
      "\u001b[0;32m~/opt/anaconda3/envs/tf2/lib/python3.7/site-packages/sklearn/cluster/_dbscan.py\u001b[0m in \u001b[0;36mfit\u001b[0;34m(self, X, y, sample_weight)\u001b[0m\n\u001b[1;32m    348\u001b[0m         core_samples = np.asarray(n_neighbors >= self.min_samples,\n\u001b[1;32m    349\u001b[0m                                   dtype=np.uint8)\n\u001b[0;32m--> 350\u001b[0;31m         \u001b[0mdbscan_inner\u001b[0m\u001b[0;34m(\u001b[0m\u001b[0mcore_samples\u001b[0m\u001b[0;34m,\u001b[0m \u001b[0mneighborhoods\u001b[0m\u001b[0;34m,\u001b[0m \u001b[0mlabels\u001b[0m\u001b[0;34m)\u001b[0m\u001b[0;34m\u001b[0m\u001b[0;34m\u001b[0m\u001b[0m\n\u001b[0m\u001b[1;32m    351\u001b[0m \u001b[0;34m\u001b[0m\u001b[0m\n\u001b[1;32m    352\u001b[0m         \u001b[0mself\u001b[0m\u001b[0;34m.\u001b[0m\u001b[0mcore_sample_indices_\u001b[0m \u001b[0;34m=\u001b[0m \u001b[0mnp\u001b[0m\u001b[0;34m.\u001b[0m\u001b[0mwhere\u001b[0m\u001b[0;34m(\u001b[0m\u001b[0mcore_samples\u001b[0m\u001b[0;34m)\u001b[0m\u001b[0;34m[\u001b[0m\u001b[0;36m0\u001b[0m\u001b[0;34m]\u001b[0m\u001b[0;34m\u001b[0m\u001b[0;34m\u001b[0m\u001b[0m\n",
      "\u001b[0;31mKeyboardInterrupt\u001b[0m: "
     ]
    }
   ],
   "source": [
    "time_consumption = []\n",
    "for frame_ind in tqdm(range(17000)):\n",
    "    ti = time.time()\n",
    "    Td_map = collector.td_maps[frame_ind].copy()\n",
    "    td_freq_map = Td_map\n",
    "    Xs = []\n",
    "    Ys = []\n",
    "    Zs = []\n",
    "    for i in range(td_freq_map.shape[0]):\n",
    "        longitudes = theta[i]*np.pi / 180\n",
    "        latitudes = azimuths * np.pi / 180 \n",
    "        hypotenuses = td_freq_map[i] * np.cos(longitudes)\n",
    "        X = hypotenuses * np.sin(latitudes)\n",
    "        Y = hypotenuses * np.cos(latitudes)\n",
    "        Z = td_freq_map[i] * np.sin(longitudes)\n",
    "        Valid_ind =  (td_freq_map[i] != 0)&(td_freq_map[i]<collector.thred_map[i]) # None zero index\n",
    "        Xs.append(X[Valid_ind])\n",
    "        Ys.append(Y[Valid_ind])\n",
    "        Zs.append(Z[Valid_ind])\n",
    "\n",
    "    Xs = np.concatenate(Xs)\n",
    "    Ys = np.concatenate(Ys)\n",
    "    Zs = np.concatenate(Zs)\n",
    "    XYZ = np.concatenate([Xs.reshape(-1,1),Ys.reshape(-1,1),Zs.reshape(-1,1)],axis = 1)\n",
    "    Labels = db.fit_predict(XYZ)\n",
    "    time_consumption.append(1000*(time.time() - ti))"
   ]
  },
  {
   "cell_type": "code",
   "execution_count": 46,
   "metadata": {},
   "outputs": [
    {
     "data": {
      "image/png": "[encoded data removed]",
      "text/plain": [
       "<Figure size 720x720 with 1 Axes>"
      ]
     },
     "metadata": {
      "needs_background": "light"
     },
     "output_type": "display_data"
    }
   ],
   "source": [
    "plt.figure(figsize = (10,10))\n",
    "plt.scatter(points_num_db[points_num_db<8000],time_consumption[points_num_db<8000],s = 3,label = 'Sklearn DBSCAN')\n",
    "plt.scatter(points_num[points_num < 8000],t_con[points_num < 8000],s = 3,label = 'Proposed Method')\n",
    "plt.legend(fontsize = 15)\n",
    "plt.xlabel('Points Number in A Frame',fontsize = 15)\n",
    "plt.ylabel('Time Consumption(ms)',fontsize = 15)\n",
    "plt.show()"
   ]
  },
  {
   "cell_type": "code",
   "execution_count": null,
   "metadata": {},
   "outputs": [],
   "source": []
  }
 ],
 "metadata": {
  "kernelspec": {
   "display_name": "Python 3",
   "language": "python",
   "name": "python3"
  },
  "language_info": {
   "codemirror_mode": {
    "name": "ipython",
    "version": 3
   },
   "file_extension": ".py",
   "mimetype": "text/x-python",
   "name": "python",
   "nbconvert_exporter": "python",
   "pygments_lexer": "ipython3",
   "version": "3.8.5"
  }
 },
 "nbformat": 4,
 "nbformat_minor": 2
}
