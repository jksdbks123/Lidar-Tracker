{
 "cells": [
  {
   "cell_type": "code",
   "execution_count": 234,
   "id": "492bd0dc-444f-457c-ad1a-c19e85cb928f",
   "metadata": {},
   "outputs": [],
   "source": [
    "import matplotlib.pyplot as plt\n",
    "import numpy as np\n",
    "from shapely.geometry import LineString\n",
    "from shapely.ops import unary_union\n"
   ]
  },
  {
   "cell_type": "code",
   "execution_count": 66,
   "id": "375217c8-10c6-40da-9dbc-41d9e72a7db9",
   "metadata": {},
   "outputs": [],
   "source": [
    "def calc_timing_offsets():\n",
    "    timing_offsets = np.zeros((32,12))  # Init matrix\n",
    "    # constants\n",
    "    full_firing_cycle = 55.296  # μs\n",
    "    single_firing = 2.304  # μs\n",
    "    # compute timing offsets\n",
    "    for x in range(12):\n",
    "        for y in range(32):\n",
    "            dataBlockIndex = (x * 2) + int((y / 16))\n",
    "            dataPointIndex = y % 16\n",
    "            timing_offsets[y][x] = (full_firing_cycle * dataBlockIndex) +(single_firing * dataPointIndex)\n",
    "\n",
    "    return np.array(timing_offsets).T"
   ]
  },
  {
   "cell_type": "code",
   "execution_count": 91,
   "id": "691b69a9-3250-4c7b-a3b2-83e46cb94960",
   "metadata": {},
   "outputs": [],
   "source": [
    "Data_order = np.array([[-25,1.4],[-1,-4.2],[-1.667,1.4],[-15.639,-1.4],\n",
    "                            [-11.31,1.4],[0,-1.4],[-0.667,4.2],[-8.843,-1.4],\n",
    "                            [-7.254,1.4],[0.333,-4.2],[-0.333,1.4],[-6.148,-1.4],\n",
    "                            [-5.333,4.2],[1.333,-1.4],[0.667,4.2],[-4,-1.4],\n",
    "                            [-4.667,1.4],[1.667,-4.2],[1,1.4],[-3.667,-4.2],\n",
    "                            [-3.333,4.2],[3.333,-1.4],[2.333,1.4],[-2.667,-1.4],\n",
    "                            [-3,1.4],[7,-1.4],[4.667,1.4],[-2.333,-4.2],\n",
    "                            [-2,4.2],[15,-1.4],[10.333,1.4],[-1.333,-1.4]\n",
    "                            ])\n",
    "laser_id = np.full((32,12),np.arange(32).reshape(-1,1).astype('int'))\n",
    "timing_offset = calc_timing_offsets()\n",
    "omega = Data_order[:,0]\n",
    "theta = np.sort(omega)\n",
    "azimuths = np.arange(0,360,0.2)\n",
    "arg_omega = np.argsort(omega)\n",
    "\n",
    "def get_pcd_colored(Td_map,Labeling_map,vertical_limits):\n",
    "\n",
    "    Xs = []\n",
    "    Ys = []\n",
    "    Labels = []\n",
    "    for i in range(vertical_limits[0],vertical_limits[1]):\n",
    "        longitudes = theta[i]*np.pi / 180\n",
    "        latitudes = azimuths * np.pi / 180 \n",
    "        hypotenuses = Td_map[i] * np.cos(longitudes)\n",
    "        X = hypotenuses * np.sin(latitudes)\n",
    "        Y = hypotenuses * np.cos(latitudes)\n",
    "        Xs.append(X)\n",
    "        Ys.append(Y)\n",
    "        Labels.append(Labeling_map[i])\n",
    "\n",
    "    Xs = np.concatenate(Xs)\n",
    "    Ys = np.concatenate(Ys)\n",
    "    Labels = np.concatenate(Labels)\n",
    "    XYZ = np.c_[Xs,Ys]\n",
    "    Valid_ind = (XYZ[:,0] != 0)&(XYZ[:,1] != 0)\n",
    "    Labels = Labels[Valid_ind]\n",
    "    XYZ = XYZ[Valid_ind]\n",
    "\n",
    "    return XYZ,Labels "
   ]
  },
  {
   "cell_type": "code",
   "execution_count": 90,
   "id": "0590c4f6-7314-4ef0-955e-c312e271bb69",
   "metadata": {},
   "outputs": [
    {
     "data": {
      "text/plain": [
       "(3, 32, 1800)"
      ]
     },
     "execution_count": 90,
     "metadata": {},
     "output_type": "execute_result"
    }
   ],
   "source": [
    "thred_map.shape"
   ]
  },
  {
   "cell_type": "code",
   "execution_count": 83,
   "id": "22dc7c40-49f5-4e2d-9bf2-cb0f6a3e262e",
   "metadata": {},
   "outputs": [],
   "source": [
    "thred_map = np.load(r'./thred_map.npy')"
   ]
  },
  {
   "cell_type": "code",
   "execution_count": 84,
   "id": "875d9d3d-d4c4-41d8-a0d4-373212de30cf",
   "metadata": {},
   "outputs": [],
   "source": [
    "vertical_limits = [0,31]"
   ]
  },
  {
   "cell_type": "code",
   "execution_count": 109,
   "id": "351ce081-f4c9-4490-aa6a-382f0c5ae35c",
   "metadata": {},
   "outputs": [],
   "source": [
    "bck_points_total = []\n",
    "for i in range(thred_map.shape[0]):\n",
    "    Labeling_map = thred_map[i] > 0\n",
    "    bck_points,Labels = get_pcd_colored(thred_map[i],Labeling_map,vertical_limits)\n",
    "    bck_points_total.append(bck_points[Labels])\n",
    "bck_points_total = np.concatenate(bck_points_total)"
   ]
  },
  {
   "cell_type": "code",
   "execution_count": 110,
   "id": "d7e83215-45fd-4cad-9619-0ec7417d6a0b",
   "metadata": {},
   "outputs": [],
   "source": [
    "bck_points_total = np.concatenate(bck_points_total)"
   ]
  },
  {
   "cell_type": "code",
   "execution_count": null,
   "id": "5f3c3268-dab9-4ed1-bc48-1d78d2aa18dc",
   "metadata": {},
   "outputs": [],
   "source": []
  },
  {
   "cell_type": "code",
   "execution_count": null,
   "id": "fef25e6a-e8ea-42a4-8a10-ffc1a6173f0d",
   "metadata": {},
   "outputs": [],
   "source": [
    "~(np.abs(Td_map - self.thred_map) <= self.bck_radius).any(axis = 0)"
   ]
  },
  {
   "cell_type": "code",
   "execution_count": 41,
   "id": "4855543f-7bc9-44f2-b556-97b8690a7365",
   "metadata": {},
   "outputs": [],
   "source": [
    "def create_buffer_zones_shapely(centerlines, widths):\n",
    "    lane_polygons = []\n",
    "    for centerline, width in zip(centerlines, widths):\n",
    "        line = LineString(centerline)\n",
    "        # Assuming uniform width for the whole line; divide by 2 for buffer on each side\n",
    "        buffer_zone = line.buffer(width[0] / 2, resolution=16, cap_style=2, join_style=2)\n",
    "        lane_polygons.append(buffer_zone)\n",
    "    return lane_polygons\n",
    "\n",
    "# Assuming the first width of each lane is the uniform width for simplicity\n",
    "lane_polygons_shapely = create_buffer_zones_shapely(centerlines, widths)\n",
    "\n",
    "# To visualize or extract polygon vertices for Pygame\n",
    "lane_polygons_vertices = [list(poly.exterior.coords) for poly in lane_polygons_shapely]"
   ]
  },
  {
   "cell_type": "code",
   "execution_count": 50,
   "id": "225a6b23-6460-429e-b1da-9966a6922d75",
   "metadata": {},
   "outputs": [],
   "source": [
    "buffer_zone = lane_polygons_shapely[0]"
   ]
  },
  {
   "cell_type": "code",
   "execution_count": 53,
   "id": "8840247a-346f-43b9-9db9-bfe375564f6c",
   "metadata": {},
   "outputs": [
    {
     "data": {
      "text/plain": [
       "[(150.0, 166.97056274847716),\n",
       " (208.48528137423858, 108.48528137423857),\n",
       " (191.51471862576142, 91.51471862576143),\n",
       " (150.0, 133.02943725152284),\n",
       " (108.48528137423857, 91.51471862576143),\n",
       " (91.51471862576143, 108.48528137423857),\n",
       " (150.0, 166.97056274847716)]"
      ]
     },
     "execution_count": 53,
     "metadata": {},
     "output_type": "execute_result"
    }
   ],
   "source": [
    "list(buffer_zone.exterior.coords)"
   ]
  },
  {
   "cell_type": "code",
   "execution_count": 44,
   "id": "27e91d10-c786-4d83-85cc-d79539145502",
   "metadata": {},
   "outputs": [
    {
     "data": {
      "text/plain": [
       "array([[150.        , 166.97056275],\n",
       "       [208.48528137, 108.48528137],\n",
       "       [191.51471863,  91.51471863],\n",
       "       [150.        , 133.02943725],\n",
       "       [108.48528137,  91.51471863],\n",
       "       [ 91.51471863, 108.48528137],\n",
       "       [150.        , 166.97056275]])"
      ]
     },
     "execution_count": 44,
     "metadata": {},
     "output_type": "execute_result"
    }
   ],
   "source": [
    "np.array(lane_polygons_vertices[0])"
   ]
  },
  {
   "cell_type": "code",
   "execution_count": 40,
   "id": "81efe27c-0579-42ce-95a7-08a2b4511719",
   "metadata": {},
   "outputs": [],
   "source": [
    "# Demo variables\n",
    "centerlines = [\n",
    "    [(100, 100), (150, 150), (200, 100)],  # Centerline 1\n",
    "    [(250, 100), (300, 150), (350, 100)]   # Centerline 2\n",
    "]\n",
    "widths = [\n",
    "    [24, 24],  # Widths for centerline 1 segments\n",
    "    [12, 12]   # Widths for centerline 2 segments\n",
    "]\n",
    "\n",
    "zoom = 1\n",
    "offset = (0, 0)"
   ]
  },
  {
   "cell_type": "code",
   "execution_count": 47,
   "id": "327063fb-018f-4c85-a34e-d1f9f3fd2a1a",
   "metadata": {},
   "outputs": [],
   "source": [
    "res_poly = np.array(lane_polygons_vertices[0])\n",
    "res_centerline = np.array(centerlines[0])"
   ]
  },
  {
   "cell_type": "code",
   "execution_count": 48,
   "id": "2f42a86c-7fa4-4e6f-a026-f6d56fa25f18",
   "metadata": {
    "scrolled": true
   },
   "outputs": [
    {
     "data": {
      "text/plain": [
       "<matplotlib.collections.PathCollection at 0x121322250>"
      ]
     },
     "execution_count": 48,
     "metadata": {},
     "output_type": "execute_result"
    },
    {
     "data": {
      "image/png": "[encoded data removed]",
      "text/plain": [
       "<Figure size 1000x1000 with 1 Axes>"
      ]
     },
     "metadata": {},
     "output_type": "display_data"
    }
   ],
   "source": [
    "plt.figure(figsize=(10,10))\n",
    "plt.plot(res_centerline[:,0],res_centerline[:,1])\n",
    "plt.scatter(res_poly[:,0],res_poly[:,1])"
   ]
  },
  {
   "cell_type": "code",
   "execution_count": 118,
   "id": "4a00cdd5-2054-484e-aef9-5f971b21e8ea",
   "metadata": {},
   "outputs": [],
   "source": [
    "def split_lane_into_subsections(centerline, subsection_length):\n",
    "    line = LineString(centerline)\n",
    "    total_length = line.length\n",
    "    subsections = []\n",
    "    \n",
    "    # Generate points along the line at intervals of `subsection_length`\n",
    "    distances = np.arange(0, total_length, subsection_length)\n",
    "    points = [line.interpolate(distance) for distance in distances]\n",
    "    \n",
    "    # Pair up the points to create subsections. Each subsection is defined by a start and end point\n",
    "    for i in range(len(points) - 1):\n",
    "        subsection_start = points[i]\n",
    "        subsection_end = points[i + 1]\n",
    "        subsection = LineString([subsection_start, subsection_end])\n",
    "        subsections.append(subsection)\n",
    "    \n",
    "    # Optionally, handle the last segment if there's a remainder\n",
    "    if distances[-1] < total_length:\n",
    "        last_point = line.interpolate(total_length)\n",
    "        last_subsection = LineString([points[-1], last_point])\n",
    "        subsections.append(last_subsection)\n",
    "    \n",
    "    return subsections"
   ]
  },
  {
   "cell_type": "code",
   "execution_count": 122,
   "id": "2cf51ae5-2ed0-4349-b780-c2af77f83a00",
   "metadata": {
    "scrolled": true
   },
   "outputs": [
    {
     "name": "stdout",
     "output_type": "stream",
     "text": [
      "[(0.0, 0.0), (1.414213562373095, 1.414213562373095)]\n",
      "[(1.414213562373095, 1.414213562373095), (2.82842712474619, 2.82842712474619)]\n",
      "[(2.82842712474619, 2.82842712474619), (4.242640687119285, 4.242640687119285)]\n",
      "[(4.242640687119285, 4.242640687119285), (5.65685424949238, 5.65685424949238)]\n",
      "[(5.65685424949238, 5.65685424949238), (7.071067811865475, 7.071067811865475)]\n",
      "[(7.071067811865475, 7.071067811865475), (8.48528137423857, 8.48528137423857)]\n",
      "[(8.48528137423857, 8.48528137423857), (9.899494936611665, 9.899494936611665)]\n",
      "[(9.899494936611665, 9.899494936611665), (11.661724415325136, 9.169137792337432)]\n",
      "[(11.661724415325136, 9.169137792337432), (13.450578797324969, 8.274710601337516)]\n",
      "[(13.450578797324969, 8.274710601337516), (15.239433179324799, 7.380283410337601)]\n",
      "[(15.239433179324799, 7.380283410337601), (17.028287561324632, 6.485856219337684)]\n",
      "[(17.028287561324632, 6.485856219337684), (18.81714194332446, 5.591429028337769)]\n",
      "[(18.81714194332446, 5.591429028337769), (20.605996325324295, 5.302998162662147)]\n",
      "[(20.605996325324295, 5.302998162662147), (22.394850707324125, 6.197425353662063)]\n",
      "[(22.394850707324125, 6.197425353662063), (24.183705089323958, 7.091852544661979)]\n",
      "[(24.183705089323958, 7.091852544661979), (25.97255947132379, 7.986279735661895)]\n",
      "[(25.97255947132379, 7.986279735661895), (27.76141385332362, 8.88070692666181)]\n",
      "[(27.76141385332362, 8.88070692666181), (29.55026823532345, 9.775134117661725)]\n",
      "[(29.55026823532345, 9.775134117661725), (30.0, 10.0)]\n"
     ]
    }
   ],
   "source": [
    "# Example centerline for a lane (as a list of (x, y) tuples)\n",
    "centerline = [(0, 0), (10, 10), (20, 5), (30, 10)]\n",
    "\n",
    "# Desired subsection length\n",
    "subsection_length = 2  # Adjust this value based on your needs\n",
    "\n",
    "# Generate subsections\n",
    "subsections = split_lane_into_subsections(centerline, subsection_length)\n",
    "\n",
    "# Print subsections for demonstration\n",
    "for subsection in subsections:\n",
    "    print(list(subsection.coords))\n"
   ]
  },
  {
   "cell_type": "code",
   "execution_count": 235,
   "id": "85512aeb-2a02-4a18-8455-1fe4f596c2db",
   "metadata": {},
   "outputs": [],
   "source": [
    "def calculate_segment_lengths_and_cumulative_lengths(centerline):\n",
    "    lengths = []\n",
    "    cumulative_lengths = [0]  # Start with 0 length at the first point\n",
    "    for i in range(len(centerline) - 1):\n",
    "        segment = LineString([centerline[i], centerline[i+1]])\n",
    "        length = segment.length\n",
    "        lengths.append(length)\n",
    "        cumulative_lengths.append(cumulative_lengths[-1] + length)\n",
    "    return lengths, cumulative_lengths\n",
    "def interpolate_width(cumulative_lengths, widths, position):\n",
    "    # Find the segment where the position belongs\n",
    "    for i in range(1, len(cumulative_lengths)):\n",
    "        if position <= cumulative_lengths[i]:\n",
    "            segment_start_length = cumulative_lengths[i-1]\n",
    "            segment_end_length = cumulative_lengths[i]\n",
    "            segment_relative_position = (position - segment_start_length) / (segment_end_length - segment_start_length)\n",
    "            \n",
    "            # Linearly interpolate the width based on the relative position within the segment\n",
    "            width_at_position = widths[i-1] + (widths[min(i, len(widths)-1)] - widths[i-1]) * segment_relative_position\n",
    "            return width_at_position\n",
    "    return widths[-1]  # Return the last width if position is beyond the last segment\n",
    "from shapely.geometry import LineString\n",
    "\n",
    "def create_subsection_polygons(centerline, widths, subsection_length):\n",
    "    lane_line = LineString(centerline)\n",
    "    total_length = lane_line.length\n",
    "    subsection_polygons = []\n",
    "    lengths, cumulative_lengths = calculate_segment_lengths_and_cumulative_lengths(centerline)\n",
    "    \n",
    "    distances = np.arange(0, total_length, subsection_length)\n",
    "    for start_dist in distances:\n",
    "        end_dist = min(start_dist + subsection_length, total_length)\n",
    "        \n",
    "        # Interpolate widths for start and end points of the subsection\n",
    "        start_width = interpolate_width(cumulative_lengths, widths, start_dist)\n",
    "        end_width = interpolate_width(cumulative_lengths, widths, end_dist)\n",
    "        avg_width = (start_width + end_width) / 2  # Use average width for the subsection\n",
    "        \n",
    "        start_point = lane_line.interpolate(start_dist)\n",
    "        end_point = lane_line.interpolate(end_dist)\n",
    "        subsection_line = LineString([start_point, end_point])\n",
    "        buffer_polygon = subsection_line.buffer(avg_width / 2, resolution=16, cap_style=2, join_style=2)\n",
    "        subsection_polygons.append(buffer_polygon)\n",
    "    \n",
    "    return unary_union(subsection_polygons)\n"
   ]
  },
  {
   "cell_type": "code",
   "execution_count": 243,
   "id": "733386ec-a5ff-4e32-86ff-d166f809e54b",
   "metadata": {
    "scrolled": true
   },
   "outputs": [],
   "source": [
    "# centerline = [(0, 0), (10, 10), (20, 5)]  # Example centerline\n",
    "# widths = [2, 10]  # Example varying widths for each segment\n",
    "centerline = [(0, 0), (10, 10),(3,5)]  # Example centerline\n",
    "widths = [2,3]  # Example varying widths for each segment\n",
    "subsection_length = 2  # Length of each subsection\n",
    "\n",
    "subsection_polygons = create_subsection_polygons(centerline, widths, subsection_length)\n"
   ]
  },
  {
   "cell_type": "code",
   "execution_count": 246,
   "id": "37f4a910-5f89-4a4f-8885-e4b46010319d",
   "metadata": {},
   "outputs": [
    {
     "data": {
      "image/svg+xml": [
       "<svg xmlns=\"http://www.w3.org/2000/svg\" xmlns:xlink=\"http://www.w3.org/1999/xlink\" width=\"100.0\" height=\"100.0\" viewBox=\"-1.206582152872834 -1.206582152872834 12.612659242357333 12.810835035529733\" preserveAspectRatio=\"xMinYMin meet\"><g transform=\"matrix(1,0,0,-1,0,10.397670729784066)\"><g><path fill-rule=\"evenodd\" fill=\"#66cc99\" stroke=\"#555555\" stroke-width=\"0.25621670071059466\" opacity=\"0.6\" d=\"M -0.7321067811865475,0.7321067811865475 L 0.6821067811865474,2.1463203435596423 L 2.1463203435596423,0.6821067811865474 L 0.7321067811865475,-0.7321067811865475 L -0.7321067811865475,0.7321067811865475 z\" /><path fill-rule=\"evenodd\" fill=\"#66cc99\" stroke=\"#555555\" stroke-width=\"0.25621670071059466\" opacity=\"0.6\" d=\"M 2.046320343559642,3.6105339059327375 L 3.6105339059327375,2.046320343559642 L 2.1963203435596426,0.6321067811865474 L 0.6321067811865474,2.1963203435596426 L 2.046320343559642,3.6105339059327375 z\" /><path fill-rule=\"evenodd\" fill=\"#66cc99\" stroke=\"#555555\" stroke-width=\"0.25621670071059466\" opacity=\"0.6\" d=\"M 3.139911015677877,4.804124578050972 L 2.1281427094213554,6.2206002068101025 L 2.7339354542481966,6.653309310257846 L 4.361402396661666,7.815785697696039 L 5.988869339075136,8.978262085134231 L 6.416027332277636,8.380240894650731 L 6.416027332277637,8.380240894650733 L 5.988869339075137,8.978262085134233 L 7.616336281488607,10.140738472572425 L 7.808081543451408,9.872295105824502 L 7.819518512107771,9.883732074480866 L 7.634452849852977,10.150420840121269 L 9.045754214397391,11.129777510970612 L 9.899494936611665,9.899494936611665 L 10.931601717798213,8.867388155425118 L 10.74512040559883,8.680906843225735 L 10.75323565882594,8.669212362252718 L 10.688510925970123,8.624297363597028 L 9.517388155425117,7.453174593052022 L 9.467388155425118,7.503174593052021 L 8.053174593052022,6.088961030678927 L 7.658203105556716,6.4839325181742336 L 8.003174593052021,6.138961030678927 L 6.588961030678927,4.724747468305832 L 6.538961030678927,4.774747468305832 L 5.1247474683058325,3.360533905932737 L 5.074747468305833,3.410533905932737 L 3.6605339059327378,1.9963203435596422 L 1.9963203435596422,3.6605339059327378 L 3.139911015677877,4.804124578050972 z\" /></g></g></svg>"
      ],
      "text/plain": [
       "<MULTIPOLYGON (((-0.732 0.732, 0.682 2.146, 2.146 0.682, 0.732 -0.732, -0.73...>"
      ]
     },
     "execution_count": 246,
     "metadata": {},
     "output_type": "execute_result"
    }
   ],
   "source": [
    "subsection_polygons"
   ]
  },
  {
   "cell_type": "code",
   "execution_count": null,
   "id": "5e5df1b5-31a9-4158-bc77-3a0cb72618f1",
   "metadata": {},
   "outputs": [],
   "source": []
  },
  {
   "cell_type": "code",
   "execution_count": 225,
   "id": "b34299d2-6741-4574-af53-5bcd5023c0e1",
   "metadata": {},
   "outputs": [],
   "source": [
    "temp = []\n",
    "for poly in subsection_polygons:\n",
    "    temp += list(poly.exterior.coords)"
   ]
  },
  {
   "cell_type": "code",
   "execution_count": 226,
   "id": "23536058-0ad2-4340-9097-97ebf53c22ba",
   "metadata": {
    "scrolled": true
   },
   "outputs": [
    {
     "data": {
      "text/plain": [
       "[(0.5071067811865474, 2.3213203435596426),\n",
       " (2.3213203435596426, 0.5071067811865474),\n",
       " (0.9071067811865475, -0.9071067811865475),\n",
       " (-0.9071067811865475, 0.9071067811865475),\n",
       " (0.5071067811865474, 2.3213203435596426),\n",
       " (1.521320343559642, 4.135533905932737),\n",
       " (4.135533905932737, 1.521320343559642),\n",
       " (2.7213203435596425, 0.10710678118654715),\n",
       " (0.10710678118654715, 2.7213203435596425),\n",
       " (1.521320343559642, 4.135533905932737),\n",
       " (2.5355339059327373, 5.949747468305832),\n",
       " (5.949747468305832, 2.5355339059327373),\n",
       " (4.535533905932738, 1.1213203435596424),\n",
       " (1.1213203435596424, 4.535533905932738),\n",
       " (2.5355339059327373, 5.949747468305832),\n",
       " (3.549747468305832, 7.763961030678928),\n",
       " (7.763961030678928, 3.549747468305832),\n",
       " (6.349747468305832, 2.135533905932737),\n",
       " (2.135533905932737, 6.349747468305832),\n",
       " (3.549747468305832, 7.763961030678928),\n",
       " (4.563961030678927, 9.578174593052022),\n",
       " (9.578174593052022, 4.563961030678927),\n",
       " (8.163961030678927, 3.149747468305832),\n",
       " (3.149747468305832, 8.163961030678927),\n",
       " (4.563961030678927, 9.578174593052022),\n",
       " (5.578174593052022, 11.392388155425117),\n",
       " (11.392388155425117, 5.578174593052022),\n",
       " (9.978174593052023, 4.1639610306789265),\n",
       " (4.1639610306789265, 9.978174593052023),\n",
       " (5.578174593052022, 11.392388155425117),\n",
       " (6.592388155425118, 13.206601717798213),\n",
       " (13.206601717798213, 6.592388155425118),\n",
       " (11.792388155425117, 5.178174593052022),\n",
       " (5.178174593052022, 11.792388155425117),\n",
       " (6.592388155425118, 13.206601717798213),\n",
       " (13.568380171597955, 13.769578831086404),\n",
       " (9.755068659052316, 4.56869675358846),\n",
       " (7.992839180338847, 5.299053897862693),\n",
       " (11.806150692884485, 14.499935975360637),\n",
       " (13.568380171597955, 13.769578831086404),\n",
       " (15.686646774824759, 12.746846556337095),\n",
       " (11.214510819825179, 3.802574646337936),\n",
       " (9.425656437825346, 4.697001837337853),\n",
       " (13.897792392824925, 13.641273747337012),\n",
       " (15.686646774824759, 12.746846556337095),\n",
       " (17.47550115682459, 11.85241936533718),\n",
       " (13.003365201825009, 2.908147455338021),\n",
       " (11.214510819825179, 3.802574646337936),\n",
       " (15.686646774824759, 12.746846556337095),\n",
       " (17.47550115682459, 11.85241936533718),\n",
       " (19.26435553882442, 10.957992174337264),\n",
       " (14.792219583824842, 2.0137202643381045),\n",
       " (13.003365201825009, 2.908147455338021),\n",
       " (17.47550115682459, 11.85241936533718),\n",
       " (19.26435553882442, 10.957992174337264),\n",
       " (21.05320992082425, 10.063564983337349),\n",
       " (16.58107396582467, 1.1192930733381896),\n",
       " (14.792219583824842, 2.0137202643381045),\n",
       " (19.26435553882442, 10.957992174337264),\n",
       " (21.05320992082425, 10.063564983337349),\n",
       " (22.23606797749979, 9.47213595499958),\n",
       " (17.76393202250021, 0.5278640450004204),\n",
       " (16.58107396582467, 1.1192930733381896),\n",
       " (21.05320992082425, 10.063564983337349),\n",
       " (22.23606797749979, 9.47213595499958)]"
      ]
     },
     "execution_count": 226,
     "metadata": {},
     "output_type": "execute_result"
    }
   ],
   "source": [
    "temp"
   ]
  },
  {
   "cell_type": "code",
   "execution_count": 228,
   "id": "9d066782-00c9-4f08-b9ec-f5f9136e79c8",
   "metadata": {},
   "outputs": [
    {
     "data": {
      "text/plain": [
       "<matplotlib.collections.PathCollection at 0x127e4bd60>"
      ]
     },
     "execution_count": 228,
     "metadata": {},
     "output_type": "execute_result"
    },
    {
     "data": {
      "image/png": "[encoded data removed]",
      "text/plain": [
       "<Figure size 640x480 with 1 Axes>"
      ]
     },
     "metadata": {},
     "output_type": "display_data"
    }
   ],
   "source": [
    "res_centerline = np.array(centerline)\n",
    "plt.plot(res_centerline[:,0],res_centerline[:,1])\n",
    "coords = np.array(temp)\n",
    "plt.scatter(coords[:,0],coords[:,1])"
   ]
  },
  {
   "cell_type": "code",
   "execution_count": null,
   "id": "f14665af-1669-4326-969e-cc8467267c6a",
   "metadata": {},
   "outputs": [],
   "source": []
  }
 ],
 "metadata": {
  "kernelspec": {
   "display_name": "Python 3 (ipykernel)",
   "language": "python",
   "name": "python3"
  },
  "language_info": {
   "codemirror_mode": {
    "name": "ipython",
    "version": 3
   },
   "file_extension": ".py",
   "mimetype": "text/x-python",
   "name": "python",
   "nbconvert_exporter": "python",
   "pygments_lexer": "ipython3",
   "version": "3.9.6"
  }
 },
 "nbformat": 4,
 "nbformat_minor": 5
}
