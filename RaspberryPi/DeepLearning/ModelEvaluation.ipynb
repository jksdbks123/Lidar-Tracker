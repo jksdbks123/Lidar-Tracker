{
 "cells": [
  {
   "cell_type": "code",
   "execution_count": 82,
   "metadata": {},
   "outputs": [],
   "source": [
    "import torch\n",
    "import torch.nn as nn\n",
    "import torch.optim as optim\n",
    "import numpy as np\n",
    "from torch.utils.data import Dataset,DataLoader\n",
    "import os\n",
    "import matplotlib.pyplot as plt\n",
    "import torch.nn.functional as F\n",
    "import seaborn as sns\n",
    "from tqdm import tqdm\n",
    "import matplotlib.pyplot as plt\n",
    "device = torch.device(\"cuda\" if torch.cuda.is_available() else \"cpu\")\n",
    "from Models import *\n",
    "from DDBSCAN import Raster_DBSCAN\n",
    "import matplotlib.colors as mcolors\n",
    "import cv2\n",
    "from collections import defaultdict\n",
    "import numpy as np\n",
    "from scipy.interpolate import interp1d\n",
    "import pandas as pd\n",
    "# times new roman font\n",
    "plt.rcParams[\"font.family\"] = \"Times New Roman\"\n",
    "seed = 414\n",
    "# np.random.seed(seed)\n",
    "colors = np.random.rand(600, 3)\n",
    "colors = np.concatenate([np.array([[0,0,0]]),colors],axis = 0)\n",
    "colormap = mcolors.ListedColormap(colors)"
   ]
  },
  {
   "cell_type": "code",
   "execution_count": 25,
   "metadata": {},
   "outputs": [],
   "source": [
    "patience = 5 \n",
    "device = torch.device('cuda' if torch.cuda.is_available() else 'cpu')\n",
    "batch_size = 4\n",
    "lane_unit = 200\n",
    "time_span = 100\n",
    "hidden_size = 256\n",
    "num_layers = 2\n",
    "input_size = lane_unit\n",
    "learning_rate = 0.001\n",
    "num_epochs = 50\n",
    "best_model = BidirectionalLSTMLaneReconstructor(input_size, hidden_size, num_layers).to(device)\n",
    "# best_model = UnidirectionalLSTMLaneReconstructor(input_size, hidden_size, num_layers).to(device)\n",
    "# criterion = RangeWeightedBCELoss()\n",
    "# criterion = FocalLoss()\n",
    "# criterion = sigmoid_focal_loss(reduction='mean')\n",
    "mocel_save_path = r\"D:\\TimeSpaceDiagramDataset\\EncoderDecoder_EvenlySampled_FreeflowAug_0914_5res_lanechange_signal\\models\\train_2\"\n",
    "if not os.path.exists(mocel_save_path):\n",
    "    os.makedirs(mocel_save_path)\n",
    "model_name = f'checkpoint_6.pth'\n",
    "best_model.load_state_dict(torch.load(os.path.join(mocel_save_path, model_name),weights_only=False))\n",
    "best_model.eval()\n",
    "db = Raster_DBSCAN(Td_map_szie=(lane_unit,time_span), window_size=[7,13],eps = 1,min_samples=3)"
   ]
  },
  {
   "cell_type": "code",
   "execution_count": 204,
   "metadata": {},
   "outputs": [],
   "source": [
    "def get_traj_labels(traj_dir,trajectory,time_space_diagram):\n",
    "    # read labels in txt file in keypoint format for yolov8 and extract the keypoint coordinates\n",
    "    lines = []\n",
    "    with open(os.path.join(traj_dir,trajectory),'r') as f:\n",
    "        for line in f:\n",
    "            line = line.strip().split()\n",
    "            line = [float(i) for i in line]\n",
    "            lines.append(line)\n",
    "    lines = np.array(lines)\n",
    "    trajs_label = []\n",
    "    # from index 8 of each row is the keypoint coordinates: something, x,y , something, x,y ...\n",
    "    for line in lines:\n",
    "        coords = []\n",
    "        for i in range(5,len(line),3):\n",
    "            coords.append((line[i],line[i+1]))\n",
    "        coords = np.array(coords)\n",
    "        coords[:,0] *= time_space_diagram.shape[1]\n",
    "        coords[:,1] *= time_space_diagram.shape[0]\n",
    "        traj = coords[coords[:,0].argsort()]\n",
    "        trajs_label.append(traj)\n",
    "    return trajs_label\n",
    "\n",
    "def get_trajctories_dict_from_Label_map(Labels,time_span,center = True):\n",
    "    trajectories_output = defaultdict(list)\n",
    "    for t in range(time_span):\n",
    "        Labels_t = Labels[:,t]\n",
    "        unique_id, xs, counts = np.unique(Labels_t,return_index=True,return_counts=True)\n",
    "        if center:\n",
    "            center_locations = xs + counts / 2\n",
    "        else:\n",
    "            center_locations = xs\n",
    "        if unique_id[0] == -1:\n",
    "            unique_id = unique_id[1:]\n",
    "            center_locations = center_locations[1:]\n",
    "        for i, label in enumerate(unique_id):\n",
    "            trajectories_output[label].append((t,center_locations[i]))\n",
    "    for key in trajectories_output.keys():\n",
    "        traj = trajectories_output[key]\n",
    "        trajectories_output[key] = np.array(traj)\n",
    "    return trajectories_output\n",
    "\n",
    "def get_trajs_from_LSTM_out(time_space_diagram,conf_thred = 0.35,time_span = 100, lane_unit = 200,center = True):\n",
    "    pred_trajectories = time_space_diagram > conf_thred\n",
    "    Labels = db.fit_predict(pred_trajectories, pred_trajectories)\n",
    "    num_lane_units, time_span = time_space_diagram.shape\n",
    "    trajectories_output = get_trajctories_dict_from_Label_map(Labels,time_span,center)\n",
    "\n",
    "    return trajectories_output\n",
    "\n",
    "# evaluate \n",
    "speed_eva_window = 5\n",
    "def get_traj_errors(trajs_label,trajs_pred,speed_eva_window = 5):\n",
    "    speed_errors = []\n",
    "    location_errors = []\n",
    "    for i, traj_label in enumerate(trajs_label):\n",
    "        for j, traj_pred in enumerate(trajs_pred.values()):\n",
    "            if len(traj_pred) < speed_eva_window:\n",
    "                continue\n",
    "            # Extract time and x values\n",
    "            t_pred, x_pred = traj_pred[:, 0], traj_pred[:, 1]\n",
    "            # drop duplicate time points\n",
    "            t_pred, indices = np.unique(t_pred, return_index=True)\n",
    "            x_pred = x_pred[indices]\n",
    "            t_label, x_label = traj_label[:, 0], traj_label[:, 1]\n",
    "            # drop duplicate time points\n",
    "            t_pred, indices = np.unique(t_label, return_index=True)\n",
    "            x_label = x_label[indices]\n",
    "            # Interpolate label trajectory to match pred trajectory time points\n",
    "            interp_func = interp1d(t_label, x_label, fill_value=\"extrapolate\")\n",
    "            x_label_interp = interp_func(t_pred)\n",
    "            \n",
    "            # get the overlapping time span\n",
    "            t_label_max,t_label_min = t_label[-1],t_label[0]\n",
    "            t_pred_max,t_pred_min = t_pred[-1],t_pred[0]\n",
    "            # if two trajectories have overlapping time span\n",
    "\n",
    "            if t_pred_max < t_label_min or t_pred_min > t_label_max:\n",
    "                continue\n",
    "            overlap_start = max(t_pred_min,t_label_min)\n",
    "            overlap_end = min(t_pred_max,t_label_max)\n",
    "            x_label_interp_overlap = x_label_interp[(t_pred >= overlap_start) & (t_pred <= overlap_end)]\n",
    "            x_pred_overlap = x_pred[(t_pred >= overlap_start) & (t_pred <= overlap_end)]\n",
    "            # Calculate residuals\n",
    "            residuals = x_pred_overlap - x_label_interp_overlap\n",
    "            if len(residuals) == 0:\n",
    "                continue\n",
    "            location_error = np.mean(np.abs(residuals)) * 0.5 # meters\n",
    "            \n",
    "            if location_error < 1: # they are the same trajectory\n",
    "      \n",
    "                location_errors.append(location_error)            \n",
    "\n",
    "                # calculate speed error\n",
    "                speed_pred_curve = []\n",
    "                speed_label_curve = []\n",
    "                for k in range(len(residuals)-speed_eva_window):\n",
    "                    speed_pred = (x_pred_overlap[k+speed_eva_window] - x_pred_overlap[k])*0.5 / (speed_eva_window/10)\n",
    "                    speed_label = (x_label_interp_overlap[k+speed_eva_window] - x_label_interp_overlap[k])*0.5 / (speed_eva_window/10)\n",
    "                    speed_pred_curve.append(speed_pred)\n",
    "                    speed_label_curve.append(speed_label)\n",
    "                speed_pred_curve = np.array(speed_pred_curve)\n",
    "                speed_label_curve = np.array(speed_label_curve)\n",
    "                if len(speed_pred_curve) == 0:\n",
    "                    continue\n",
    "                speed_error = np.mean(np.abs(speed_pred_curve - speed_label_curve)) # m/s\n",
    "                if speed_error > 4:\n",
    "                    print(location_error,speed_error, i,j)\n",
    "                    plt.plot(x_label_interp_overlap,'b')\n",
    "                    plt.plot(x_pred_overlap,'r')\n",
    "                    plt.show()\n",
    "                speed_errors.append(speed_error)\n",
    "    return location_errors, speed_errors\n",
    "\n",
    "def get_TrajIoU(trajs_label,trajs_pred,x_error_threshold = 4):\n",
    "    TrajIoUMatrix = np.zeros((len(trajs_label),len(trajs_pred)))\n",
    "    TrajPortionMatrix = np.zeros((len(trajs_label),len(trajs_pred)))\n",
    "    for i, traj_label in enumerate(trajs_label):\n",
    "        for j, traj_pred in enumerate(trajs_pred.values()):\n",
    "            # Extract time and x values\n",
    "            t_pred, x_pred = traj_pred[:, 0], traj_pred[:, 1]\n",
    "            # drop duplicate time points\n",
    "            t_pred, indices = np.unique(t_pred, return_index=True)\n",
    "            x_pred = x_pred[indices]\n",
    "            t_label, x_label = traj_label[:, 0], traj_label[:, 1]\n",
    "            # drop duplicate time points\n",
    "            t_label, indices = np.unique(t_label, return_index=True)\n",
    "            x_label = x_label[indices]\n",
    "            # get the overlapping time span\n",
    "            t_label_max,t_label_min = t_label[-1],t_label[0]\n",
    "            t_pred_max,t_pred_min = t_pred[-1],t_pred[0]\n",
    "            # if two trajectories have no overlapping time span, skip\n",
    "            if t_pred_max < t_label_min or t_pred_min > t_label_max:\n",
    "                continue\n",
    "            # Interpolate label trajectory to match pred trajectory time points\n",
    "            interp_func = interp1d(t_label, x_label, fill_value=\"extrapolate\")\n",
    "            t_label_interp = np.arange(int(t_label_min), int(t_label_max) + 1)\n",
    "            x_label_interp = interp_func(t_label_interp)\n",
    "            interp_func = interp1d(t_pred, x_pred, fill_value=\"extrapolate\")\n",
    "            t_pred_interp = np.arange(t_pred_min, t_pred_max + 1)\n",
    "            x_pred_interp = interp_func(t_pred_interp)\n",
    "            \n",
    "            overlap_start = int(max(t_pred_interp.min(),t_label_interp.min()))\n",
    "            overlap_end = int(min(t_pred_interp.max(),t_label_interp.max()))\n",
    "            union_start = int(min(t_pred_interp.min(),t_label_interp.min()))\n",
    "            union_end = int(max(t_pred_interp.max(),t_label_interp.max()))\n",
    "            num_union = union_end - union_start + 1\n",
    "            num_overlap = overlap_end - overlap_start + 1\n",
    "            true_positive_preds = 0\n",
    "            for k in range(overlap_start,overlap_end+1):\n",
    "                x_label_interp_k = x_label_interp[t_label_interp == k]\n",
    "                x_pred_interp_k = x_pred_interp[t_pred_interp == k]\n",
    "                residual = np.abs(x_label_interp_k - x_pred_interp_k)[0]\n",
    "                if residual <= x_error_threshold:\n",
    "                    true_positive_preds += 1\n",
    "            TrajIoUMatrix[i,j] = true_positive_preds / num_overlap\n",
    "            # how long the pred trajectory is in the label trajectory\n",
    "            TrajPortionMatrix[i,j] = true_positive_preds / (t_label_interp.max() - t_label_interp.min() + 1)\n",
    "    return TrajIoUMatrix,TrajPortionMatrix"
   ]
  },
  {
   "cell_type": "markdown",
   "metadata": {},
   "source": [
    "# Manual Dataset Evaluation"
   ]
  },
  {
   "cell_type": "code",
   "execution_count": 181,
   "metadata": {},
   "outputs": [
    {
     "name": "stderr",
     "output_type": "stream",
     "text": [
      "100%|██████████| 109/109 [00:04<00:00, 25.56it/s]\n",
      "100%|██████████| 109/109 [00:04<00:00, 26.69it/s]\n",
      "100%|██████████| 109/109 [00:04<00:00, 27.02it/s]\n",
      "100%|██████████| 109/109 [00:03<00:00, 27.59it/s]\n",
      "  3%|▎         | 3/109 [00:00<00:03, 27.52it/s]c:\\Users\\zhChe\\anaconda3\\envs\\pygame\\lib\\site-packages\\scipy\\interpolate\\_interpolate.py:698: RuntimeWarning: invalid value encountered in divide\n",
      "  slope = (y_hi - y_lo) / (x_hi - x_lo)[:, None]\n",
      "100%|██████████| 109/109 [00:03<00:00, 27.94it/s]\n",
      "100%|██████████| 109/109 [00:03<00:00, 27.75it/s]\n",
      "100%|██████████| 109/109 [00:04<00:00, 27.19it/s]\n",
      "100%|██████████| 109/109 [00:03<00:00, 27.81it/s]\n",
      "100%|██████████| 109/109 [00:03<00:00, 28.28it/s]\n",
      "100%|██████████| 109/109 [00:03<00:00, 29.05it/s]\n",
      "100%|██████████| 109/109 [00:03<00:00, 30.00it/s]\n",
      "100%|██████████| 109/109 [00:03<00:00, 31.79it/s]\n",
      "100%|██████████| 109/109 [00:03<00:00, 33.98it/s]\n",
      "100%|██████████| 109/109 [00:03<00:00, 33.93it/s]\n"
     ]
    }
   ],
   "source": [
    "dir_img = r'D:\\TimeSpaceDiagramDataset\\9th&VirTestDiagram_res5\\TimeSpace.v7i.yolov8\\train\\images'\n",
    "traj_dir = r'D:\\TimeSpaceDiagramDataset\\9th&VirTestDiagram_res5\\TimeSpace.v7i.yolov8\\train\\labels'\n",
    "raw_time_space_diagram = np.load(r'D:\\TimeSpaceDiagramDataset\\9th&VirTestDiagram_res5\\lane_2.npy')\n",
    "img_out_folder = r'D:\\TimeSpaceDiagramDataset\\9th&VirTestDiagram_res5\\TimeSpace.v7i.yolov8\\pred_out'\n",
    "time_span = 100\n",
    "lane_unit_num = 200\n",
    "x_error_threshold = 2\n",
    "time_space_diagram_list = os.listdir(dir_img)\n",
    "trajectory_list = os.listdir(traj_dir)\n",
    "Iou_threshold = 0.8\n",
    "total_tps, total_fps, total_fns = [], [], []\n",
    "for conf_thred in np.arange(0.2,0.9,0.05):\n",
    "    total_tp, total_fp, total_fn = 0, 0, 0\n",
    "    for frame_ind in tqdm(range(len(time_space_diagram_list))):\n",
    "        time_space_diagram_name = time_space_diagram_list[frame_ind]\n",
    "        trajectory_name = trajectory_list[frame_ind]\n",
    "        time_space_diagram_raw = cv2.imread(os.path.join(dir_img,time_space_diagram_name), cv2.IMREAD_GRAYSCALE)\n",
    "\n",
    "        trajs_label = get_traj_labels(traj_dir,trajectory_name,time_space_diagram_raw)\n",
    "\n",
    "\n",
    "        time_space_diagram_input = time_space_diagram_raw > 100\n",
    "        time_space_diagram_input = time_space_diagram_input.astype(np.uint8)\n",
    "        original_shape = time_space_diagram_input.shape\n",
    "        padding = np.zeros((lane_unit_num - time_space_diagram_input.shape[0], time_space_diagram_input.shape[1]))\n",
    "        time_space_diagram_input = np.concatenate((time_space_diagram_input,padding), axis=0)\n",
    "        with torch.no_grad():\n",
    "            input_snippet = torch.from_numpy(time_space_diagram_input).float().to(device)\n",
    "            input_snippet = input_snippet.unsqueeze(0)\n",
    "            output = best_model(input_snippet)\n",
    "            output = output.squeeze(0).cpu().numpy()\n",
    "        output = output[:original_shape[0]]\n",
    "        trajs_pred = get_trajs_from_LSTM_out(output,conf_thred = conf_thred,time_span = 100, lane_unit = 200)\n",
    "\n",
    "        # plt.figure(figsize=(10,5))\n",
    "        # plt.imshow(output,cmap='jet')\n",
    "        # plt.show()\n",
    "        # plt.figure(figsize=(10,5))\n",
    "        # plt.imshow(time_space_diagram_input,cmap='gray')\n",
    "        # for traj in trajs_label:\n",
    "        #     plt.plot(traj[:,0],traj[:,1],'r',label = 'label')\n",
    "        # for traj in trajs_pred.values():\n",
    "        #     t, x = zip(*traj)\n",
    "        #     if t[-1] - t[0] < 10:\n",
    "        #         continue\n",
    "        #     plt.plot(t,x,label = 'pred')\n",
    "        # plt.ylim(100)\n",
    "        # plt.show()\n",
    "        \n",
    "        TrajIoUMatrix,TrajPortionMatrix = get_TrajIoU(trajs_label,trajs_pred,x_error_threshold = x_error_threshold)\n",
    "        if TrajIoUMatrix.shape[1] == 0:\n",
    "            # no detection\n",
    "            total_fn += len(trajs_label)\n",
    "            continue\n",
    "        pred_index = TrajPortionMatrix.argmax(axis = 1)\n",
    "        pred_IoU = []\n",
    "        for i,j in enumerate(pred_index):\n",
    "            pred_IoU.append(TrajIoUMatrix[i,j])\n",
    "        pred_IoU = np.array(pred_IoU)\n",
    "        # want to figure out the number of true positive trajectories, false positive trajectories, and false negative trajectories\n",
    "        tp, fp, fn = 0, 0, 0\n",
    "        for i,j in enumerate(pred_index):\n",
    "            if pred_IoU[i] >= Iou_threshold:\n",
    "                tp += 1\n",
    "            else:\n",
    "                fn += 1\n",
    "\n",
    "        for j in trajs_pred.keys():\n",
    "            if trajs_pred[j][-1][0] - trajs_pred[j][0][0] < 10:\n",
    "                continue\n",
    "            if j not in pred_index:\n",
    "                fp += 1\n",
    "        # print(time_space_diagram_name)\n",
    "        # print(f\"TP: {tp}, FP: {fp}, FN: {fn}\")\n",
    "        total_tp += tp\n",
    "        total_fp += fp\n",
    "        total_fn += fn\n",
    "\n",
    "    total_tps.append(total_tp)\n",
    "    total_fps.append(total_fp)\n",
    "    total_fns.append(total_fn)\n",
    "df = pd.DataFrame({'ConfThred':np.arange(0.2,0.9,0.05),'TP':total_tps,'FP':total_fps,'FN':total_fns})\n",
    "df['precision'] = df['TP'] / (df['TP'] + df['FP'])\n",
    "df['recall'] = df['TP'] / (df['TP'] + df['FN'])\n",
    "df['F1'] = 2 * df['precision'] * df['recall'] / (df['precision'] + df['recall'])\n",
    "# df.to_csv(r'D:\\Onedrive\\OneDrive - University of Nevada, Reno\\Classes\\CEE762\\Figures\\accuracy_evaluation_manual.csv',index = False)"
   ]
  },
  {
   "cell_type": "code",
   "execution_count": 106,
   "metadata": {},
   "outputs": [],
   "source": [
    "acc_eva_df = pd.read_csv(r'D:\\Onedrive\\OneDrive - University of Nevada, Reno\\Classes\\CEE762\\Figures\\accuracy_evaluation_manual.csv')"
   ]
  },
  {
   "cell_type": "code",
   "execution_count": 179,
   "metadata": {},
   "outputs": [
    {
     "data": {
      "image/png": "[encoded data removed]",
      "text/plain": [
       "<Figure size 500x300 with 1 Axes>"
      ]
     },
     "metadata": {},
     "output_type": "display_data"
    }
   ],
   "source": [
    "# plot precision recall curve and F1 score curve with different confidence threshold in same canvas, please make it beautiful\n",
    "plt.figure(figsize=(5,3))\n",
    "plt.grid()\n",
    "plt.plot(acc_eva_df['ConfThred'],acc_eva_df['recall'],label = 'Recall', color = 'r', marker = 'o')\n",
    "plt.plot(acc_eva_df['ConfThred'],acc_eva_df['precision'],label = 'Precision', color = 'b', marker = 'o')\n",
    "plt.plot(acc_eva_df['ConfThred'],acc_eva_df['F1'],label = 'F1', color = 'g', marker = 'o')\n",
    "plt.xlabel('Confidence Threshold',fontsize = 13)\n",
    "plt.ylabel('Value',fontsize = 13)\n",
    "plt.legend()\n",
    "plt.tight_layout()\n",
    "# plt.savefig(r'D:\\Onedrive\\OneDrive - University of Nevada, Reno\\Classes\\CEE762\\Figures\\accuracy_evaluation_manual.png',dpi = 300)\n",
    "plt.show()"
   ]
  },
  {
   "cell_type": "markdown",
   "metadata": {},
   "source": [
    "## Kalman Filter"
   ]
  },
  {
   "cell_type": "code",
   "execution_count": 231,
   "metadata": {},
   "outputs": [
    {
     "name": "stderr",
     "output_type": "stream",
     "text": [
      "  0%|          | 0/109 [00:00<?, ?it/s]\n"
     ]
    }
   ],
   "source": [
    "total_tp, total_fp, total_fn = 0, 0, 0\n",
    "for frame_ind in tqdm(range(len(time_space_diagram_list))):\n",
    "    time_space_diagram_name = time_space_diagram_list[frame_ind]\n",
    "    trajectory_name = trajectory_list[frame_ind]\n",
    "    time_space_diagram_raw = cv2.imread(os.path.join(dir_img,time_space_diagram_name), cv2.IMREAD_GRAYSCALE)\n",
    "\n",
    "    trajs_label = get_traj_labels(traj_dir,trajectory_name,time_space_diagram_raw)\n",
    "\n",
    "\n",
    "    time_space_diagram_input = time_space_diagram_raw > 100\n",
    "    time_space_diagram_input = time_space_diagram_input.astype(np.uint8)\n",
    "    break\n",
    "    # trajs_pred = get_trajs_from_LSTM_out(output,conf_thred = conf_thred,time_span = 100, lane_unit = 200)"
   ]
  },
  {
   "cell_type": "code",
   "execution_count": 234,
   "metadata": {},
   "outputs": [
    {
     "data": {
      "text/plain": [
       "1"
      ]
     },
     "execution_count": 234,
     "metadata": {},
     "output_type": "execute_result"
    }
   ],
   "source": [
    "time_space_diagram_input.max()"
   ]
  },
  {
   "cell_type": "code",
   "execution_count": 232,
   "metadata": {},
   "outputs": [
    {
     "ename": "ValueError",
     "evalue": "shape mismatch: value array of shape (10000,) could not be broadcast to indexing result of shape (4431,)",
     "output_type": "error",
     "traceback": [
      "\u001b[1;31m---------------------------------------------------------------------------\u001b[0m",
      "\u001b[1;31mValueError\u001b[0m                                Traceback (most recent call last)",
      "Cell \u001b[1;32mIn[232], line 1\u001b[0m\n\u001b[1;32m----> 1\u001b[0m Labels \u001b[38;5;241m=\u001b[39m \u001b[43mdb\u001b[49m\u001b[38;5;241;43m.\u001b[39;49m\u001b[43mfit_predict\u001b[49m\u001b[43m(\u001b[49m\u001b[43mtime_space_diagram_input\u001b[49m\u001b[43m,\u001b[49m\u001b[43m \u001b[49m\u001b[43mtime_space_diagram_input\u001b[49m\u001b[43m)\u001b[49m\n",
      "File \u001b[1;32md:\\CodeRepos\\Lidar-Tracker\\RaspberryPi\\DeepLearning\\DDBSCAN.py:92\u001b[0m, in \u001b[0;36mRaster_DBSCAN.fit_predict\u001b[1;34m(self, Td_map, Foreground_map)\u001b[0m\n\u001b[0;32m     88\u001b[0m     \u001b[38;5;28;01mpass\u001b[39;00m\n\u001b[0;32m     90\u001b[0m Labeling_map \u001b[38;5;241m=\u001b[39m \u001b[38;5;28mself\u001b[39m\u001b[38;5;241m.\u001b[39mLabeling_map_template\u001b[38;5;241m.\u001b[39mcopy()\n\u001b[1;32m---> 92\u001b[0m \u001b[43mLabeling_map\u001b[49m\u001b[43m[\u001b[49m\u001b[43mrows\u001b[49m\u001b[43m,\u001b[49m\u001b[43mcols\u001b[49m\u001b[43m]\u001b[49m \u001b[38;5;241m=\u001b[39m Labels\n\u001b[0;32m     93\u001b[0m \u001b[38;5;66;03m# self.Labeling_map = Labeling_map\u001b[39;00m\n\u001b[0;32m     95\u001b[0m \u001b[38;5;28;01mreturn\u001b[39;00m Labeling_map\n",
      "\u001b[1;31mValueError\u001b[0m: shape mismatch: value array of shape (10000,) could not be broadcast to indexing result of shape (4431,)"
     ]
    }
   ],
   "source": [
    "Labels = db.fit_predict(time_space_diagram_input, time_space_diagram_input)"
   ]
  },
  {
   "cell_type": "code",
   "execution_count": null,
   "metadata": {},
   "outputs": [],
   "source": [
    "trajectories_output = defaultdict(list)\n",
    "for t in range(time_span):\n",
    "    Labels_t = Labels[:,t]\n",
    "    unique_id, xs, counts = np.unique(Labels_t,return_index=True,return_counts=True)\n",
    "    if center:\n",
    "        center_locations = xs + counts / 2\n",
    "    else:\n",
    "        center_locations = xs\n",
    "    if unique_id[0] == -1:\n",
    "        unique_id = unique_id[1:]\n",
    "        center_locations = center_locations[1:]\n",
    "    for i, label in enumerate(unique_id):\n",
    "        trajectories_output[label].append((t,center_locations[i]))\n",
    "for key in trajectories_output.keys():\n",
    "    traj = trajectories_output[key]\n",
    "    trajectories_output[key] = np.array(traj)"
   ]
  },
  {
   "cell_type": "code",
   "execution_count": 229,
   "metadata": {},
   "outputs": [
    {
     "data": {
      "text/plain": [
       "array([0, 0, 0, 0, 0, 0, 0, 0, 1, 1, 1, 1, 1, 1, 1, 1, 1, 1, 1, 1, 0, 0,\n",
       "       0, 0, 0, 0, 0, 0, 0, 0, 0, 1, 1, 1, 1, 1, 1, 1, 0, 0, 0, 0, 0, 0,\n",
       "       0, 1, 1, 1, 1, 1, 1, 1, 1, 1, 1, 1, 1, 0, 0, 0, 0, 0, 0, 0, 0, 0,\n",
       "       0, 0, 0, 1, 1, 1, 1, 1, 1, 1, 1, 0, 0, 0, 0, 0, 0, 0, 0, 0, 0, 0,\n",
       "       0, 0, 0, 0, 0, 0, 0, 0, 0, 0, 0, 0], dtype=uint8)"
      ]
     },
     "execution_count": 229,
     "metadata": {},
     "output_type": "execute_result"
    }
   ],
   "source": [
    "time_space_diagram_input[:,t]"
   ]
  },
  {
   "cell_type": "code",
   "execution_count": 103,
   "metadata": {},
   "outputs": [
    {
     "name": "stderr",
     "output_type": "stream",
     "text": [
      "100%|██████████| 109/109 [00:01<00:00, 72.66it/s]\n"
     ]
    }
   ],
   "source": [
    "# get vehicle number and speed in time_space_diagram_list\n",
    "dir_img = r'D:\\TimeSpaceDiagramDataset\\9th&VirTestDiagram_res5\\TimeSpace.v7i.yolov8\\train\\images'\n",
    "traj_dir = r'D:\\TimeSpaceDiagramDataset\\9th&VirTestDiagram_res5\\TimeSpace.v7i.yolov8\\train\\labels'\n",
    "raw_time_space_diagram = np.load(r'D:\\TimeSpaceDiagramDataset\\9th&VirTestDiagram_res5\\lane_2.npy')\n",
    "img_out_folder = r'D:\\TimeSpaceDiagramDataset\\9th&VirTestDiagram_res5\\TimeSpace.v7i.yolov8\\pred_out'\n",
    "time_span = 100\n",
    "lane_unit_num = 200\n",
    "x_error_threshold = 2\n",
    "time_space_diagram_list = os.listdir(dir_img)\n",
    "trajectory_list = os.listdir(traj_dir)\n",
    "vehivle_num_eva = []\n",
    "speed_eva = []\n",
    "speed_eva_window = 5\n",
    "for frame_ind in tqdm(range(len(time_space_diagram_list))):\n",
    "    time_space_diagram_name = time_space_diagram_list[frame_ind]\n",
    "    trajectory_name = trajectory_list[frame_ind]\n",
    "    time_space_diagram_raw = cv2.imread(os.path.join(dir_img,time_space_diagram_name), cv2.IMREAD_GRAYSCALE)\n",
    "    trajs_label = get_traj_labels(traj_dir,trajectory_name,time_space_diagram_raw)\n",
    "    vehivle_num_eva.append(len(trajs_label))\n",
    "    for traj_label in trajs_label:\n",
    "        if len(trajs_label) < speed_eva_window:\n",
    "            continue\n",
    "        t_label, x_label = traj_label[:, 0], traj_label[:, 1]\n",
    "        # drop duplicate time points\n",
    "        t_label, indices = np.unique(t_label, return_index=True)\n",
    "        x_label = x_label[indices]\n",
    "    \n",
    "        t_label_max,t_label_min = t_label[-1],t_label[0]\n",
    "        t_label_interp = np.arange(t_label_min,t_label_max+1)\n",
    "        \n",
    "        # Interpolate label trajectory to match pred trajectory time points\n",
    "        interp_func = interp1d(t_label, x_label, fill_value=\"extrapolate\", kind = 'linear')\n",
    "        x_label_interp = interp_func(t_label_interp)\n",
    "        \n",
    "        for k in range(len(x_label_interp)-speed_eva_window):\n",
    "            speed_label = -(x_label_interp[k+speed_eva_window] - x_label_interp[k]) * 0.5 / (speed_eva_window/10)\n",
    "            speed_eva.append(speed_label)\n",
    "speed_eva = np.array(speed_eva)\n",
    "speed_eva[speed_eva < 0] = 0"
   ]
  },
  {
   "cell_type": "markdown",
   "metadata": {},
   "source": [
    "# Sim Dataset"
   ]
  },
  {
   "cell_type": "code",
   "execution_count": 5,
   "metadata": {},
   "outputs": [],
   "source": [
    "val_dataset = TrajDataset(r\"D:\\TimeSpaceDiagramDataset\\EncoderDecoder_EvenlySampled_FreeflowAug_0914_5res_lanechange_signal\\100_frame\\val\",time_span)\n",
    "val_loader = DataLoader(val_dataset, batch_size=batch_size, shuffle=True, num_workers=1)\n",
    "train_dataset = TrajDataset(r\"D:\\TimeSpaceDiagramDataset\\EncoderDecoder_EvenlySampled_FreeflowAug_0914_5res_lanechange_signal\\100_frame\\train\",time_span)\n",
    "train_loader = DataLoader(train_dataset, batch_size=batch_size, shuffle=True, num_workers=1)"
   ]
  },
  {
   "cell_type": "code",
   "execution_count": 12,
   "metadata": {},
   "outputs": [
    {
     "name": "stderr",
     "output_type": "stream",
     "text": [
      "  8%|▊         | 5001/61500 [11:12<2:06:39,  7.43it/s]\n"
     ]
    }
   ],
   "source": [
    "vehicle_nums_val = []\n",
    "vehicle_speed_val = []\n",
    "batch_count = 0\n",
    "for batch in tqdm(val_loader):\n",
    "    post_occ_X = batch['post_occ_X'].to(device)\n",
    "    target = batch['target'].to(device)\n",
    "    speed = batch['speed_target'].to(device)\n",
    "    traj_id = batch['traj_id']\n",
    "    vehicle_nums_val.append(len(np.unique(traj_id))-1)\n",
    "    # find mask where target is 1 and speed is not 0 and target is 1 and speed is 0\n",
    "    mask = (target == 1) & (speed != 0)\n",
    "    speeds = speed[mask].cpu().numpy()\n",
    "    vehicle_speed_val.append(speeds)\n",
    "    if batch_count >  5000:\n",
    "        break\n",
    "    batch_count += 1 \n",
    "    # find the number of elements in mask"
   ]
  },
  {
   "cell_type": "code",
   "execution_count": 15,
   "metadata": {},
   "outputs": [],
   "source": [
    "vehicle_nums_val = np.array(vehicle_nums_val) / batch_size\n",
    "vehicle_speed_val = np.concatenate(vehicle_speed_val)\n"
   ]
  },
  {
   "cell_type": "code",
   "execution_count": 13,
   "metadata": {},
   "outputs": [
    {
     "name": "stderr",
     "output_type": "stream",
     "text": [
      "  8%|▊         | 5001/61500 [12:46<2:24:18,  6.52it/s]\n"
     ]
    }
   ],
   "source": [
    "vehicle_nums_train = []\n",
    "vehicle_speed_train = []\n",
    "batch_count = 0\n",
    "for batch in tqdm(val_loader):\n",
    "    post_occ_X = batch['post_occ_X'].to(device)\n",
    "    target = batch['target'].to(device)\n",
    "    speed = batch['speed_target'].to(device)\n",
    "    traj_id = batch['traj_id']\n",
    "    vehicle_nums_train.append(len(np.unique(traj_id))-1)\n",
    "    # find mask where target is 1 and speed is not 0 and target is 1 and speed is 0\n",
    "    mask = (target == 1) & (speed != 0)\n",
    "    speeds = speed[mask].cpu().numpy()\n",
    "    vehicle_speed_train.append(speeds)\n",
    "    if batch_count >  5000:\n",
    "        break\n",
    "    batch_count += 1 \n",
    "    # find the number of elements"
   ]
  },
  {
   "cell_type": "code",
   "execution_count": 16,
   "metadata": {},
   "outputs": [],
   "source": [
    "vehicle_nums_train = np.array(vehicle_nums_train) / batch_size\n",
    "vehicle_speed_train = np.concatenate(vehicle_speed_train)\n"
   ]
  },
  {
   "cell_type": "code",
   "execution_count": 104,
   "metadata": {},
   "outputs": [
    {
     "data": {
      "image/png": "[encoded data removed]",
      "text/plain": [
       "<Figure size 500x300 with 1 Axes>"
      ]
     },
     "metadata": {},
     "output_type": "display_data"
    }
   ],
   "source": [
    "\n",
    "# box plot for speed distribution for vehicle_speed_train, vehicle_speed_val, speed_eva\n",
    "# make it very bueatiful\n",
    "plt.figure(figsize=(5,3))\n",
    "plt.grid(axis = 'y')\n",
    "sns.boxplot(data = [speed_eva,vehicle_speed_train,vehicle_speed_val],palette = 'Set2',showfliers = False)\n",
    "plt.xticks([0,1,2],['Manual Annotation','Training','Validation'],fontsize = 12)\n",
    "plt.ylabel('Speed (m/s)',fontsize = 13)\n",
    "plt.xlabel('Data Source',fontsize = 13)\n",
    "plt.title('Speed Distribution Comparison',fontsize = 13)\n",
    "plt.tight_layout()\n",
    "\n",
    "plt.savefig(r'D:\\Onedrive\\OneDrive - University of Nevada, Reno\\Classes\\CEE762\\Figures\\dataset_speed_distribution_comparison.png',dpi = 300)\n",
    "plt.show()"
   ]
  },
  {
   "cell_type": "code",
   "execution_count": 102,
   "metadata": {},
   "outputs": [
    {
     "data": {
      "image/png": "[encoded data removed]",
      "text/plain": [
       "<Figure size 500x300 with 1 Axes>"
      ]
     },
     "metadata": {},
     "output_type": "display_data"
    }
   ],
   "source": [
    "\n",
    "# box plot for speed distribution for vehicle_speed_train, vehicle_speed_val, speed_eva\n",
    "# make it very bueatiful\n",
    "plt.figure(figsize=(5,3))\n",
    "plt.grid(axis = 'y')\n",
    "sns.boxplot(data = [vehivle_num_eva,vehicle_nums_train,vehicle_nums_val],palette = 'Set2',showfliers = False)\n",
    "plt.xticks([0,1,2],['Manual Annotation','Training','Validation'],fontsize = 12)\n",
    "plt.ylabel('Vehicle Number In Lane',fontsize = 13)\n",
    "plt.xlabel('Data Source',fontsize = 13)\n",
    "plt.title('Vehicle Number Comparison',fontsize = 13)\n",
    "plt.tight_layout()\n",
    "plt.savefig(r'D:\\Onedrive\\OneDrive - University of Nevada, Reno\\Classes\\CEE762\\Figures\\dataset_veh_distribution_comparison.png',dpi = 300)\n",
    "plt.show()"
   ]
  },
  {
   "cell_type": "code",
   "execution_count": 172,
   "metadata": {},
   "outputs": [
    {
     "name": "stderr",
     "output_type": "stream",
     "text": [
      "  1%|          | 2001/246000 [03:41<7:30:29,  9.03it/s] \n",
      "  1%|          | 2001/246000 [03:25<6:57:46,  9.73it/s] \n",
      "  1%|          | 2026/246000 [03:23<6:49:15,  9.94it/s] \n",
      "  1%|          | 2045/246000 [03:36<7:11:12,  9.43it/s] \n",
      "  1%|          | 2053/246000 [04:04<8:03:35,  8.41it/s] \n",
      "  1%|          | 2057/246000 [04:07<8:09:21,  8.31it/s] \n",
      "  1%|          | 2075/246000 [02:42<5:17:53, 12.79it/s] \n",
      "  1%|          | 2097/246000 [01:58<3:49:29, 17.71it/s] \n",
      "  1%|          | 2118/246000 [01:28<2:50:26, 23.85it/s]\n",
      "  1%|          | 2156/246000 [01:35<2:59:26, 22.65it/s]\n",
      "  1%|          | 2218/246000 [01:36<2:57:07, 22.94it/s] \n",
      "  1%|          | 2411/246000 [01:44<2:55:36, 23.12it/s]\n",
      "  1%|          | 2813/246000 [02:06<3:01:54, 22.28it/s] \n",
      "  1%|▏         | 3660/246000 [02:44<3:01:43, 22.23it/s]\n"
     ]
    }
   ],
   "source": [
    "batch_size = 1\n",
    "total_tps, total_fps, total_fns = [], [], []\n",
    "Iou_threshold = 0.8\n",
    "for conf_thred in np.arange(0.2,0.9,0.05):\n",
    "    val_dataset = TrajDataset(r\"D:\\TimeSpaceDiagramDataset\\EncoderDecoder_EvenlySampled_FreeflowAug_0914_5res_lanechange_signal\\100_frame\\val\",time_span)\n",
    "    count = 0\n",
    "    total_tp, total_fp, total_fn = 0, 0, 0\n",
    "\n",
    "    for val_ind in tqdm(range(len(val_dataset))):\n",
    "        batch = val_dataset[val_ind]\n",
    "\n",
    "        if count > 2000:\n",
    "            break\n",
    "        post_occ_X = batch['post_occ_X'].to(device)\n",
    "        target = batch['target'].to(device)\n",
    "        speed = batch['speed_target'].to(device)\n",
    "        traj_id = batch['traj_id']\n",
    "        time_space_diagram_input = post_occ_X.unsqueeze(0)\n",
    "        traj_id = traj_id.cpu().numpy()\n",
    "        with torch.no_grad():\n",
    "            input_snippet = time_space_diagram_input\n",
    "            output = best_model(input_snippet)\n",
    "            output = output.squeeze(0).cpu().numpy()\n",
    "        trajs_pred = get_trajs_from_LSTM_out(output,conf_thred = conf_thred,time_span = 100, lane_unit = 200)\n",
    "        trajs_label = get_trajctories_dict_from_Label_map(traj_id,time_span)\n",
    "        # convert trajs_label to list\n",
    "        trajs_label = [trajs_label[i] for i in trajs_label.keys()]\n",
    "        TrajIoUMatrix,TrajPortionMatrix = get_TrajIoU(trajs_label,trajs_pred,x_error_threshold = x_error_threshold)\n",
    "        if TrajIoUMatrix.shape[1] == 0:\n",
    "            # no detection\n",
    "            total_fn += len(trajs_label)\n",
    "            continue\n",
    "        pred_index = TrajPortionMatrix.argmax(axis = 1)\n",
    "        pred_IoU = []\n",
    "        for i,j in enumerate(pred_index):\n",
    "            pred_IoU.append(TrajIoUMatrix[i,j])\n",
    "        pred_IoU = np.array(pred_IoU)\n",
    "        # want to figure out the number of true positive trajectories, false positive trajectories, and false negative trajectories\n",
    "        tp, fp, fn = 0, 0, 0\n",
    "        for i,j in enumerate(pred_index):\n",
    "            if pred_IoU[i] >= Iou_threshold:\n",
    "                tp += 1\n",
    "            else:\n",
    "                fn += 1\n",
    "\n",
    "        for j in trajs_pred.keys():\n",
    "            if trajs_pred[j][-1][1] > 100:\n",
    "                continue\n",
    "            if trajs_pred[j][-1][0] - trajs_pred[j][0][0] < 10:\n",
    "                continue\n",
    "            if j not in pred_index:\n",
    "                fp += 1\n",
    "        # print(time_space_diagram_name)\n",
    "        # print(f\"TP: {tp}, FP: {fp}, FN: {fn}\")\n",
    "        total_tp += tp\n",
    "        total_fp += fp\n",
    "        total_fn += fn\n",
    "        count += 1\n",
    "    total_tps.append(total_tp)\n",
    "    total_fps.append(total_fp)\n",
    "    total_fns.append(total_fn)\n",
    "\n",
    "df = pd.DataFrame({'ConfThred':np.arange(0.2,0.9,0.05),'TP':total_tps,'FP':total_fps,'FN':total_fns})\n",
    "df['precision'] = df['TP'] / (df['TP'] + df['FP'])\n",
    "df['recall'] = df['TP'] / (df['TP'] + df['FN'])\n",
    "df['F1'] = 2 * df['precision'] * df['recall'] / (df['precision'] + df['recall'])\n",
    "df.to_csv(r'D:\\Onedrive\\OneDrive - University of Nevada, Reno\\Classes\\CEE762\\Figures\\accuracy_evaluation_val.csv',index = False)\n",
    "    "
   ]
  },
  {
   "cell_type": "code",
   "execution_count": 211,
   "metadata": {},
   "outputs": [
    {
     "data": {
      "image/png": "[encoded data removed]",
      "text/plain": [
       "<Figure size 500x300 with 1 Axes>"
      ]
     },
     "metadata": {},
     "output_type": "display_data"
    }
   ],
   "source": [
    "# plot precision recall curve and F1 score curve with different confidence threshold in same canvas, please make it beautiful\n",
    "df_val = pd.read_csv(r'D:\\Onedrive\\OneDrive - University of Nevada, Reno\\Classes\\CEE762\\Figures\\accuracy_evaluation_val.csv')\n",
    "plt.figure(figsize=(5,3))\n",
    "plt.grid()\n",
    "plt.plot(df_val['ConfThred'],df_val['recall'],label = 'Recall', color = 'r', marker = 'o')\n",
    "plt.plot(df_val['ConfThred'],df_val['precision'],label = 'Precision', color = 'b', marker = 'o')\n",
    "plt.plot(df_val['ConfThred'],df_val['F1'],label = 'F1', color = 'g', marker = 'o')\n",
    "plt.xlabel('Confidence Threshold',fontsize = 13)\n",
    "plt.ylabel('Value',fontsize = 13)\n",
    "plt.legend()\n",
    "plt.tight_layout()\n",
    "plt.savefig(r'D:\\Onedrive\\OneDrive - University of Nevada, Reno\\Classes\\CEE762\\Figures\\accuracy_evaluation_val.png',dpi = 300)\n",
    "plt.show()"
   ]
  },
  {
   "cell_type": "markdown",
   "metadata": {},
   "source": [
    "# Baseline Pure DBSCAN"
   ]
  },
  {
   "cell_type": "code",
   "execution_count": 217,
   "metadata": {},
   "outputs": [
    {
     "name": "stderr",
     "output_type": "stream",
     "text": [
      "100%|██████████| 109/109 [00:06<00:00, 17.11it/s]\n"
     ]
    }
   ],
   "source": [
    "total_tp, total_fp, total_fn = 0, 0, 0\n",
    "for frame_ind in tqdm(range(len(time_space_diagram_list))):\n",
    "    time_space_diagram_name = time_space_diagram_list[frame_ind]\n",
    "    trajectory_name = trajectory_list[frame_ind]\n",
    "    time_space_diagram_raw = cv2.imread(os.path.join(dir_img,time_space_diagram_name), cv2.IMREAD_GRAYSCALE)\n",
    "\n",
    "    trajs_label = get_traj_labels(traj_dir,trajectory_name,time_space_diagram_raw)\n",
    "\n",
    "\n",
    "    time_space_diagram_input = time_space_diagram_raw > 100\n",
    "    time_space_diagram_input = time_space_diagram_input.astype(np.uint8)\n",
    "    \n",
    "    trajs_pred = get_trajs_from_LSTM_out(time_space_diagram_input,conf_thred = conf_thred,time_span = 100, lane_unit = 200,center=False)\n",
    "    TrajIoUMatrix,TrajPortionMatrix = get_TrajIoU(trajs_label,trajs_pred,x_error_threshold = x_error_threshold)\n",
    "    if TrajIoUMatrix.shape[1] == 0:\n",
    "        # no detection\n",
    "        total_fn += len(trajs_label)\n",
    "        continue\n",
    "    pred_index = TrajPortionMatrix.argmax(axis = 1)\n",
    "    pred_IoU = []\n",
    "    for i,j in enumerate(pred_index):\n",
    "        pred_IoU.append(TrajIoUMatrix[i,j])\n",
    "    pred_IoU = np.array(pred_IoU)\n",
    "    # want to figure out the number of true positive trajectories, false positive trajectories, and false negative trajectories\n",
    "    tp, fp, fn = 0, 0, 0\n",
    "    for i,j in enumerate(pred_index):\n",
    "        if pred_IoU[i] >= Iou_threshold:\n",
    "            tp += 1\n",
    "        else:\n",
    "            fn += 1\n",
    "\n",
    "    for j in trajs_pred.keys():\n",
    "        if trajs_pred[j][-1][0] - trajs_pred[j][0][0] < 10:\n",
    "            continue\n",
    "        if j not in pred_index:\n",
    "            fp += 1\n",
    "    # print(time_space_diagram_name)\n",
    "    # print(f\"TP: {tp}, FP: {fp}, FN: {fn}\")\n",
    "    total_tp += tp\n",
    "    total_fp += fp\n",
    "    total_fn += fn"
   ]
  },
  {
   "cell_type": "code",
   "execution_count": 218,
   "metadata": {},
   "outputs": [],
   "source": [
    "precision = total_tp / (total_tp + total_fp)\n",
    "recall = total_tp / (total_tp + total_fn)\n",
    "F1 = 2 * precision * recall / (precision + recall)"
   ]
  },
  {
   "cell_type": "code",
   "execution_count": 219,
   "metadata": {},
   "outputs": [
    {
     "data": {
      "text/plain": [
       "(0.9327731092436975, 0.8795562599049128, 0.9053833605220228)"
      ]
     },
     "execution_count": 219,
     "metadata": {},
     "output_type": "execute_result"
    }
   ],
   "source": [
    "recall,precision,F1"
   ]
  },
  {
   "cell_type": "code",
   "execution_count": 220,
   "metadata": {},
   "outputs": [
    {
     "name": "stderr",
     "output_type": "stream",
     "text": [
      "  0%|          | 28/246000 [00:02<4:50:52, 14.09it/s]c:\\Users\\zhChe\\anaconda3\\envs\\pygame\\lib\\site-packages\\scipy\\interpolate\\_interpolate.py:698: RuntimeWarning: invalid value encountered in divide\n",
      "  slope = (y_hi - y_lo) / (x_hi - x_lo)[:, None]\n",
      "  1%|          | 2001/246000 [02:38<5:22:47, 12.60it/s] \n"
     ]
    }
   ],
   "source": [
    "val_dataset = TrajDataset(r\"D:\\TimeSpaceDiagramDataset\\EncoderDecoder_EvenlySampled_FreeflowAug_0914_5res_lanechange_signal\\100_frame\\val\",time_span)\n",
    "count = 0\n",
    "total_tp, total_fp, total_fn = 0, 0, 0\n",
    "\n",
    "for val_ind in tqdm(range(len(val_dataset))):\n",
    "    batch = val_dataset[val_ind]\n",
    "\n",
    "    if count > 2000:\n",
    "        break\n",
    "    post_occ_X = batch['post_occ_X'].to(device)\n",
    "    target = batch['target'].to(device)\n",
    "    speed = batch['speed_target'].to(device)\n",
    "    traj_id = batch['traj_id']\n",
    "    time_space_diagram_input = post_occ_X.cpu().numpy()\n",
    "    traj_id = traj_id.cpu().numpy()\n",
    "    \n",
    "    trajs_pred = get_trajs_from_LSTM_out(time_space_diagram_input,conf_thred = conf_thred,time_span = 100, lane_unit = 200,center=False)\n",
    "    trajs_label = get_trajctories_dict_from_Label_map(traj_id,time_span)\n",
    "    # convert trajs_label to list\n",
    "    trajs_label = [trajs_label[i] for i in trajs_label.keys()]\n",
    "    TrajIoUMatrix,TrajPortionMatrix = get_TrajIoU(trajs_label,trajs_pred,x_error_threshold = x_error_threshold)\n",
    "    if TrajIoUMatrix.shape[1] == 0:\n",
    "        # no detection\n",
    "        total_fn += len(trajs_label)\n",
    "        continue\n",
    "    pred_index = TrajPortionMatrix.argmax(axis = 1)\n",
    "    pred_IoU = []\n",
    "    for i,j in enumerate(pred_index):\n",
    "        pred_IoU.append(TrajIoUMatrix[i,j])\n",
    "    pred_IoU = np.array(pred_IoU)\n",
    "    # want to figure out the number of true positive trajectories, false positive trajectories, and false negative trajectories\n",
    "    tp, fp, fn = 0, 0, 0\n",
    "    for i,j in enumerate(pred_index):\n",
    "        if pred_IoU[i] >= Iou_threshold:\n",
    "            tp += 1\n",
    "        else:\n",
    "            fn += 1\n",
    "\n",
    "    for j in trajs_pred.keys():\n",
    "        if trajs_pred[j][-1][1] > 100:\n",
    "            continue\n",
    "        if trajs_pred[j][-1][0] - trajs_pred[j][0][0] < 10:\n",
    "            continue\n",
    "        if j not in pred_index:\n",
    "            fp += 1\n",
    "    # print(time_space_diagram_name)\n",
    "    # print(f\"TP: {tp}, FP: {fp}, FN: {fn}\")\n",
    "    total_tp += tp\n",
    "    total_fp += fp\n",
    "    total_fn += fn\n",
    "    count += 1"
   ]
  },
  {
   "cell_type": "code",
   "execution_count": 223,
   "metadata": {},
   "outputs": [],
   "source": [
    "precision = total_tp / (total_tp + total_fp)\n",
    "recall = total_tp / (total_tp + total_fn)\n",
    "F1 = 2 * precision * recall / (precision + recall)"
   ]
  },
  {
   "cell_type": "code",
   "execution_count": 224,
   "metadata": {},
   "outputs": [
    {
     "data": {
      "text/plain": [
       "(0.6641569982720316, 0.6659653465346534, 0.6650599431467061)"
      ]
     },
     "execution_count": 224,
     "metadata": {},
     "output_type": "execute_result"
    }
   ],
   "source": [
    "precision,recall,F1"
   ]
  }
 ],
 "metadata": {
  "kernelspec": {
   "display_name": "pygame",
   "language": "python",
   "name": "python3"
  },
  "language_info": {
   "codemirror_mode": {
    "name": "ipython",
    "version": 3
   },
   "file_extension": ".py",
   "mimetype": "text/x-python",
   "name": "python",
   "nbconvert_exporter": "python",
   "pygments_lexer": "ipython3",
   "version": "3.8.19"
  }
 },
 "nbformat": 4,
 "nbformat_minor": 2
}
