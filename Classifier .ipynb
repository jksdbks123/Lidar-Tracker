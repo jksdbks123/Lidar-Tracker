{
 "cells": [
  {
   "cell_type": "code",
   "execution_count": 95,
   "id": "9c68d4a9",
   "metadata": {},
   "outputs": [],
   "source": [
    "from scipy.io import loadmat\n",
    "import os\n",
    "import numpy as np\n",
    "import pandas as pd\n",
    "from imblearn.ensemble import RUSBoostClassifier\n",
    "from sklearn.model_selection import train_test_split\n",
    "from sklearn.metrics import balanced_accuracy_score\n",
    "from sklearn.metrics import confusion_matrix\n",
    "import pickle"
   ]
  },
  {
   "cell_type": "code",
   "execution_count": 2,
   "id": "d45d01fa",
   "metadata": {},
   "outputs": [],
   "source": [
    "Data_path = 'D:\\Classifier\\Calssification2022_JZ\\Code&Dataset\\Week13_Classification_Final\\Preprocessing'\n",
    "Data_name = os.listdir(Data_path)\n",
    "Data_name = [p for p in Data_name if 'mat' in p.split('.')]\n",
    "Data_name = [p for p in Data_name if ('Site1' not in p.split('_'))&('Site2' not in p.split('_'))]"
   ]
  },
  {
   "cell_type": "markdown",
   "id": "deff5196",
   "metadata": {},
   "source": [
    "## 0: veh, 1:ped, 2:bike, 3:wheelchair "
   ]
  },
  {
   "cell_type": "code",
   "execution_count": 42,
   "id": "fd725634",
   "metadata": {},
   "outputs": [],
   "source": [
    "Indicators = {\n",
    "    'VehData':0,\n",
    "    'PedData':1,\n",
    "    'BikeData':2,\n",
    "    'WheelchairData':3\n",
    "}\n",
    "column_names = ['TrajID','Mean_dis','Point_count','Dir','Height','Var_height','Len','Area','Label']\n",
    "Train_Data = []\n",
    "for i in range(len(Data_name)):\n",
    "    data = loadmat(os.path.join(Data_path,Data_name[i]))\n",
    "    class_name = list(data.keys())[3]\n",
    "    data = data[class_name]\n",
    "    class_ind = Indicators[class_name]\n",
    "    class_col = (np.ones(len(data))*class_ind).reshape(-1,1).astype('int')\n",
    "    try:\n",
    "        data = np.concatenate([data[:,-3].reshape(-1,1).astype(int),data[:,:7],class_col],axis = 1)\n",
    "        data = pd.DataFrame(data,columns=column_names)\n",
    "    except:\n",
    "        continue\n",
    "    Train_Data.append(data)"
   ]
  },
  {
   "cell_type": "code",
   "execution_count": 52,
   "id": "3c92be8f",
   "metadata": {},
   "outputs": [],
   "source": [
    "Valid_train_data = []\n",
    "for Trajs in Train_Data:\n",
    "    for ind,traj in Trajs.groupby('TrajID'):\n",
    "        if ind == -1:\n",
    "            continue\n",
    "        if len(traj) > 20:\n",
    "            traj.Len = traj.Len.max()\n",
    "            Valid_train_data.append(traj)"
   ]
  },
  {
   "cell_type": "code",
   "execution_count": 53,
   "id": "299e9f34",
   "metadata": {},
   "outputs": [],
   "source": [
    "Valid_train_data = pd.concat(Valid_train_data)"
   ]
  },
  {
   "cell_type": "code",
   "execution_count": 54,
   "id": "8c3bdc59",
   "metadata": {},
   "outputs": [],
   "source": [
    "X,y = np.array(Valid_train_data.iloc[:,1:-1]),np.array(Valid_train_data.iloc[:,-1])"
   ]
  },
  {
   "cell_type": "code",
   "execution_count": 55,
   "id": "86b32692",
   "metadata": {},
   "outputs": [],
   "source": [
    "X_train, X_test, y_train, y_test = train_test_split(X, y, test_size=0.3, random_state=42)"
   ]
  },
  {
   "cell_type": "code",
   "execution_count": 56,
   "id": "fb55bf3f",
   "metadata": {},
   "outputs": [
    {
     "data": {
      "text/plain": [
       "RUSBoostClassifier(n_estimators=200, random_state=0)"
      ]
     },
     "execution_count": 56,
     "metadata": {},
     "output_type": "execute_result"
    }
   ],
   "source": [
    "rusboost = RUSBoostClassifier(n_estimators=200, algorithm='SAMME.R',\n",
    "                              random_state=0)\n",
    "rusboost.fit(X_train, y_train) "
   ]
  },
  {
   "cell_type": "code",
   "execution_count": 57,
   "id": "5687b21a",
   "metadata": {},
   "outputs": [],
   "source": [
    "y_pred = rusboost.predict(X_test)"
   ]
  },
  {
   "cell_type": "code",
   "execution_count": 58,
   "id": "3f58915f",
   "metadata": {
    "scrolled": true
   },
   "outputs": [
    {
     "data": {
      "text/plain": [
       "array([[9.98806376e-01, 0.00000000e+00, 1.15308563e-03, 4.05381667e-05],\n",
       "       [2.40905806e-04, 8.38593110e-01, 1.27439171e-01, 3.37268128e-02],\n",
       "       [8.33614808e-02, 1.24974667e-01, 6.87090455e-01, 1.04573397e-01],\n",
       "       [6.83060109e-03, 3.63387978e-01, 3.14207650e-01, 3.15573770e-01]])"
      ]
     },
     "execution_count": 58,
     "metadata": {},
     "output_type": "execute_result"
    }
   ],
   "source": [
    "confusion_matrix(y_test, y_pred,normalize = 'true')"
   ]
  },
  {
   "cell_type": "code",
   "execution_count": 59,
   "id": "c8dfaf33",
   "metadata": {
    "scrolled": true
   },
   "outputs": [
    {
     "data": {
      "text/plain": [
       "0.7100159278566314"
      ]
     },
     "execution_count": 59,
     "metadata": {},
     "output_type": "execute_result"
    }
   ],
   "source": [
    "balanced_accuracy_score(y_test, y_pred)  "
   ]
  },
  {
   "cell_type": "markdown",
   "id": "ca102250",
   "metadata": {},
   "source": [
    "# Train Model and save"
   ]
  },
  {
   "cell_type": "code",
   "execution_count": 61,
   "id": "7bdf1e47",
   "metadata": {},
   "outputs": [],
   "source": [
    "path = 'E:\\Data\\Calssification2022_JZ\\Code&Dataset\\ThreeCasesinPaper\\Case 1_TrajectoryGreaterThan10Frames\\ClassificationConsideringHistoricalTrajectory\\RUSBoost'"
   ]
  },
  {
   "cell_type": "code",
   "execution_count": 62,
   "id": "72d5e354",
   "metadata": {},
   "outputs": [],
   "source": [
    "X_train = loadmat(os.path.join(path,'Train_Data.mat'))['Train_Data']\n",
    "y_train = loadmat(os.path.join(path,'Train_Target.mat'))['Train_Target']\n",
    "y_train = y_train.flatten()\n",
    "X_test = loadmat(os.path.join(path,'Test_Data.mat'))['Test_Data']\n",
    "y_test = loadmat(os.path.join(path,'Test_Target.mat'))['Test_Target']\n",
    "y_test = y_test.flatten()\n",
    "ind = [i for i in range(7) if i!= 4]\n",
    "X_train = X_train[:,ind] \n",
    "X_test = X_test[:,ind] "
   ]
  },
  {
   "cell_type": "code",
   "execution_count": 63,
   "id": "dde29524",
   "metadata": {},
   "outputs": [],
   "source": [
    "X_test[:,2] = np.zeros(len(X_test))"
   ]
  },
  {
   "cell_type": "code",
   "execution_count": 111,
   "id": "f8681fc8",
   "metadata": {},
   "outputs": [
    {
     "data": {
      "text/plain": [
       "(6672, 6)"
      ]
     },
     "execution_count": 111,
     "metadata": {},
     "output_type": "execute_result"
    }
   ],
   "source": [
    "X_test.shape"
   ]
  },
  {
   "cell_type": "code",
   "execution_count": 94,
   "id": "b9cec963",
   "metadata": {},
   "outputs": [
    {
     "data": {
      "text/plain": [
       "RUSBoostClassifier(n_estimators=2400, random_state=0)"
      ]
     },
     "execution_count": 94,
     "metadata": {},
     "output_type": "execute_result"
    }
   ],
   "source": [
    "rusboost = RUSBoostClassifier(n_estimators=2390, algorithm='SAMME.R',\n",
    "                          random_state=0)\n",
    "rusboost.fit(X_train, y_train) "
   ]
  },
  {
   "cell_type": "code",
   "execution_count": 98,
   "id": "48a202df",
   "metadata": {},
   "outputs": [],
   "source": [
    "y_pred = rusboost.predict(X_test)"
   ]
  },
  {
   "cell_type": "code",
   "execution_count": 99,
   "id": "c8c07c14",
   "metadata": {},
   "outputs": [
    {
     "data": {
      "text/plain": [
       "array([[2904,    0,    0,    0],\n",
       "       [   0, 2659,    0,    3],\n",
       "       [   1,  157,  188,   44],\n",
       "       [   0,  111,   68,  537]], dtype=int64)"
      ]
     },
     "execution_count": 99,
     "metadata": {},
     "output_type": "execute_result"
    }
   ],
   "source": [
    "confusion_matrix(y_test, y_pred)"
   ]
  },
  {
   "cell_type": "code",
   "execution_count": 100,
   "id": "792ba2e9",
   "metadata": {},
   "outputs": [
    {
     "data": {
      "text/plain": [
       "0.8077310774624824"
      ]
     },
     "execution_count": 100,
     "metadata": {},
     "output_type": "execute_result"
    }
   ],
   "source": [
    "balanced_accuracy_score(y_test, y_pred)  "
   ]
  },
  {
   "cell_type": "code",
   "execution_count": 101,
   "id": "298ca731",
   "metadata": {},
   "outputs": [],
   "source": [
    "filename = 'E:\\Data\\Veteran\\TEST_model.sav'\n",
    "pickle.dump(rusboost, open(filename, 'wb'))"
   ]
  },
  {
   "cell_type": "code",
   "execution_count": 102,
   "id": "512e4aa8",
   "metadata": {},
   "outputs": [],
   "source": [
    "model = pickle.load(open(filename, 'rb'))"
   ]
  },
  {
   "cell_type": "code",
   "execution_count": 103,
   "id": "2f1ba8fd",
   "metadata": {},
   "outputs": [],
   "source": [
    "y_pred = model.predict(X_test)"
   ]
  },
  {
   "cell_type": "code",
   "execution_count": 104,
   "id": "18e9d75d",
   "metadata": {},
   "outputs": [
    {
     "data": {
      "text/plain": [
       "array([[2904,    0,    0,    0],\n",
       "       [   0, 2659,    0,    3],\n",
       "       [   1,  157,  188,   44],\n",
       "       [   0,  111,   68,  537]], dtype=int64)"
      ]
     },
     "execution_count": 104,
     "metadata": {},
     "output_type": "execute_result"
    }
   ],
   "source": [
    "confusion_matrix(y_test, y_pred)"
   ]
  },
  {
   "cell_type": "code",
   "execution_count": 107,
   "id": "24d57b7a",
   "metadata": {},
   "outputs": [],
   "source": [
    "data = pd.read_csv(r'E:/Data/Veteran/OutputFile/OutputTrajs/Trajctories_0.csv')"
   ]
  },
  {
   "cell_type": "code",
   "execution_count": 145,
   "id": "2ca385a1",
   "metadata": {},
   "outputs": [],
   "source": [
    "data_test = data.loc[:,['ObjectID','Distance_Mea','Point_Cnt','Dir_X_Bbox','Height','Length','Area']]\n",
    "data_temp = []\n",
    "for i,df in data_test.groupby('ObjectID'):\n",
    "    df.Length = df.Length.max()\n",
    "    data_temp.append(df)\n",
    "data_temp = pd.concat(data_temp)\n",
    "data_temp = data_temp.fillna(method = 'pad')"
   ]
  },
  {
   "cell_type": "code",
   "execution_count": 146,
   "id": "a3df0af0",
   "metadata": {},
   "outputs": [],
   "source": [
    "X_test = np.array(data_temp.iloc[:,1:])"
   ]
  },
  {
   "cell_type": "code",
   "execution_count": 147,
   "id": "4b6dda13",
   "metadata": {
    "scrolled": true
   },
   "outputs": [],
   "source": [
    "y_pred = model.predict(X_test)"
   ]
  },
  {
   "cell_type": "code",
   "execution_count": 151,
   "id": "9009e2a0",
   "metadata": {},
   "outputs": [
    {
     "data": {
      "text/html": [
       "<div>\n",
       "<style scoped>\n",
       "    .dataframe tbody tr th:only-of-type {\n",
       "        vertical-align: middle;\n",
       "    }\n",
       "\n",
       "    .dataframe tbody tr th {\n",
       "        vertical-align: top;\n",
       "    }\n",
       "\n",
       "    .dataframe thead th {\n",
       "        text-align: right;\n",
       "    }\n",
       "</style>\n",
       "<table border=\"1\" class=\"dataframe\">\n",
       "  <thead>\n",
       "    <tr style=\"text-align: right;\">\n",
       "      <th></th>\n",
       "      <th>ObjectID</th>\n",
       "      <th>FrameIndex</th>\n",
       "      <th>Coord_X_Mea</th>\n",
       "      <th>Coord_Y_Mea</th>\n",
       "      <th>Coord_Z_Mea</th>\n",
       "      <th>Distance_Mea</th>\n",
       "      <th>Longitude_Mea</th>\n",
       "      <th>Latitude_Mea</th>\n",
       "      <th>Elevation_Mea</th>\n",
       "      <th>Coord_X_Est</th>\n",
       "      <th>...</th>\n",
       "      <th>Latitude_Est</th>\n",
       "      <th>Elevation_Est</th>\n",
       "      <th>Point_Cnt</th>\n",
       "      <th>Dir_X_Bbox</th>\n",
       "      <th>Dir_Y_Bbox</th>\n",
       "      <th>Height</th>\n",
       "      <th>Length</th>\n",
       "      <th>Width</th>\n",
       "      <th>Area</th>\n",
       "      <th>Class</th>\n",
       "    </tr>\n",
       "  </thead>\n",
       "  <tbody>\n",
       "    <tr>\n",
       "      <th>0</th>\n",
       "      <td>2</td>\n",
       "      <td>2</td>\n",
       "      <td>39.217675</td>\n",
       "      <td>-30.201676</td>\n",
       "      <td>0.0</td>\n",
       "      <td>49.499164</td>\n",
       "      <td>-119.736285</td>\n",
       "      <td>39.484605</td>\n",
       "      <td>1316.037503</td>\n",
       "      <td>39.217675</td>\n",
       "      <td>...</td>\n",
       "      <td>39.484605</td>\n",
       "      <td>1316.037503</td>\n",
       "      <td>102.0</td>\n",
       "      <td>0.841271</td>\n",
       "      <td>-0.540614</td>\n",
       "      <td>1.693463</td>\n",
       "      <td>5.433165</td>\n",
       "      <td>3.386867</td>\n",
       "      <td>18.401407</td>\n",
       "      <td>1</td>\n",
       "    </tr>\n",
       "    <tr>\n",
       "      <th>1</th>\n",
       "      <td>2</td>\n",
       "      <td>3</td>\n",
       "      <td>38.131678</td>\n",
       "      <td>-26.305282</td>\n",
       "      <td>0.0</td>\n",
       "      <td>46.324861</td>\n",
       "      <td>-119.736300</td>\n",
       "      <td>39.484640</td>\n",
       "      <td>1316.062044</td>\n",
       "      <td>38.132721</td>\n",
       "      <td>...</td>\n",
       "      <td>39.484640</td>\n",
       "      <td>1316.062020</td>\n",
       "      <td>135.0</td>\n",
       "      <td>0.998495</td>\n",
       "      <td>-0.054851</td>\n",
       "      <td>1.684646</td>\n",
       "      <td>4.966858</td>\n",
       "      <td>4.893590</td>\n",
       "      <td>24.305769</td>\n",
       "      <td>1</td>\n",
       "    </tr>\n",
       "    <tr>\n",
       "      <th>2</th>\n",
       "      <td>2</td>\n",
       "      <td>4</td>\n",
       "      <td>38.095683</td>\n",
       "      <td>-29.978346</td>\n",
       "      <td>0.0</td>\n",
       "      <td>48.476616</td>\n",
       "      <td>-119.736298</td>\n",
       "      <td>39.484607</td>\n",
       "      <td>1316.099255</td>\n",
       "      <td>38.095687</td>\n",
       "      <td>...</td>\n",
       "      <td>39.484607</td>\n",
       "      <td>1316.099220</td>\n",
       "      <td>115.0</td>\n",
       "      <td>0.989753</td>\n",
       "      <td>-0.142788</td>\n",
       "      <td>1.669520</td>\n",
       "      <td>4.980577</td>\n",
       "      <td>1.715877</td>\n",
       "      <td>8.546059</td>\n",
       "      <td>1</td>\n",
       "    </tr>\n",
       "    <tr>\n",
       "      <th>3</th>\n",
       "      <td>2</td>\n",
       "      <td>5</td>\n",
       "      <td>38.115216</td>\n",
       "      <td>-26.293926</td>\n",
       "      <td>0.0</td>\n",
       "      <td>46.304862</td>\n",
       "      <td>-119.736300</td>\n",
       "      <td>39.484640</td>\n",
       "      <td>1316.062872</td>\n",
       "      <td>38.115167</td>\n",
       "      <td>...</td>\n",
       "      <td>39.484640</td>\n",
       "      <td>1316.062909</td>\n",
       "      <td>142.0</td>\n",
       "      <td>0.140813</td>\n",
       "      <td>0.990036</td>\n",
       "      <td>1.679414</td>\n",
       "      <td>5.237076</td>\n",
       "      <td>4.974253</td>\n",
       "      <td>26.050539</td>\n",
       "      <td>1</td>\n",
       "    </tr>\n",
       "    <tr>\n",
       "      <th>4</th>\n",
       "      <td>2</td>\n",
       "      <td>6</td>\n",
       "      <td>36.958699</td>\n",
       "      <td>-29.715557</td>\n",
       "      <td>0.0</td>\n",
       "      <td>47.423199</td>\n",
       "      <td>-119.736312</td>\n",
       "      <td>39.484609</td>\n",
       "      <td>1316.161484</td>\n",
       "      <td>36.959752</td>\n",
       "      <td>...</td>\n",
       "      <td>39.484609</td>\n",
       "      <td>1316.161392</td>\n",
       "      <td>120.0</td>\n",
       "      <td>0.984801</td>\n",
       "      <td>-0.173689</td>\n",
       "      <td>1.636131</td>\n",
       "      <td>4.940226</td>\n",
       "      <td>1.739250</td>\n",
       "      <td>8.592288</td>\n",
       "      <td>1</td>\n",
       "    </tr>\n",
       "    <tr>\n",
       "      <th>...</th>\n",
       "      <td>...</td>\n",
       "      <td>...</td>\n",
       "      <td>...</td>\n",
       "      <td>...</td>\n",
       "      <td>...</td>\n",
       "      <td>...</td>\n",
       "      <td>...</td>\n",
       "      <td>...</td>\n",
       "      <td>...</td>\n",
       "      <td>...</td>\n",
       "      <td>...</td>\n",
       "      <td>...</td>\n",
       "      <td>...</td>\n",
       "      <td>...</td>\n",
       "      <td>...</td>\n",
       "      <td>...</td>\n",
       "      <td>...</td>\n",
       "      <td>...</td>\n",
       "      <td>...</td>\n",
       "      <td>...</td>\n",
       "      <td>...</td>\n",
       "    </tr>\n",
       "    <tr>\n",
       "      <th>27565</th>\n",
       "      <td>299</td>\n",
       "      <td>1976</td>\n",
       "      <td>33.745075</td>\n",
       "      <td>92.713833</td>\n",
       "      <td>0.0</td>\n",
       "      <td>98.664000</td>\n",
       "      <td>-119.736427</td>\n",
       "      <td>39.485712</td>\n",
       "      <td>1315.173629</td>\n",
       "      <td>33.746004</td>\n",
       "      <td>...</td>\n",
       "      <td>39.485712</td>\n",
       "      <td>1315.173552</td>\n",
       "      <td>47.0</td>\n",
       "      <td>0.342020</td>\n",
       "      <td>0.939693</td>\n",
       "      <td>3.286137</td>\n",
       "      <td>6.436378</td>\n",
       "      <td>2.449080</td>\n",
       "      <td>15.763207</td>\n",
       "      <td>1</td>\n",
       "    </tr>\n",
       "    <tr>\n",
       "      <th>27566</th>\n",
       "      <td>299</td>\n",
       "      <td>1977</td>\n",
       "      <td>33.239692</td>\n",
       "      <td>91.325304</td>\n",
       "      <td>0.0</td>\n",
       "      <td>97.186359</td>\n",
       "      <td>-119.736432</td>\n",
       "      <td>39.485699</td>\n",
       "      <td>1315.215674</td>\n",
       "      <td>33.240150</td>\n",
       "      <td>...</td>\n",
       "      <td>39.485699</td>\n",
       "      <td>1315.215636</td>\n",
       "      <td>49.0</td>\n",
       "      <td>0.342021</td>\n",
       "      <td>0.939692</td>\n",
       "      <td>3.238534</td>\n",
       "      <td>5.008243</td>\n",
       "      <td>2.670043</td>\n",
       "      <td>13.372225</td>\n",
       "      <td>1</td>\n",
       "    </tr>\n",
       "    <tr>\n",
       "      <th>27567</th>\n",
       "      <td>299</td>\n",
       "      <td>1978</td>\n",
       "      <td>33.275824</td>\n",
       "      <td>91.424574</td>\n",
       "      <td>0.0</td>\n",
       "      <td>97.292000</td>\n",
       "      <td>-119.736431</td>\n",
       "      <td>39.485700</td>\n",
       "      <td>1315.212668</td>\n",
       "      <td>33.275744</td>\n",
       "      <td>...</td>\n",
       "      <td>39.485700</td>\n",
       "      <td>1315.212675</td>\n",
       "      <td>49.0</td>\n",
       "      <td>0.244420</td>\n",
       "      <td>0.969669</td>\n",
       "      <td>3.188976</td>\n",
       "      <td>6.458226</td>\n",
       "      <td>2.362188</td>\n",
       "      <td>15.255545</td>\n",
       "      <td>1</td>\n",
       "    </tr>\n",
       "    <tr>\n",
       "      <th>27568</th>\n",
       "      <td>299</td>\n",
       "      <td>1979</td>\n",
       "      <td>32.309959</td>\n",
       "      <td>88.770883</td>\n",
       "      <td>0.0</td>\n",
       "      <td>94.468000</td>\n",
       "      <td>-119.736441</td>\n",
       "      <td>39.485675</td>\n",
       "      <td>1315.293023</td>\n",
       "      <td>32.310820</td>\n",
       "      <td>...</td>\n",
       "      <td>39.485675</td>\n",
       "      <td>1315.292951</td>\n",
       "      <td>49.0</td>\n",
       "      <td>0.342020</td>\n",
       "      <td>0.939692</td>\n",
       "      <td>3.137046</td>\n",
       "      <td>6.463741</td>\n",
       "      <td>2.563366</td>\n",
       "      <td>16.568932</td>\n",
       "      <td>1</td>\n",
       "    </tr>\n",
       "    <tr>\n",
       "      <th>27569</th>\n",
       "      <td>299</td>\n",
       "      <td>1980</td>\n",
       "      <td>32.304487</td>\n",
       "      <td>88.755847</td>\n",
       "      <td>0.0</td>\n",
       "      <td>94.452000</td>\n",
       "      <td>-119.736441</td>\n",
       "      <td>39.485675</td>\n",
       "      <td>1315.293478</td>\n",
       "      <td>32.304393</td>\n",
       "      <td>...</td>\n",
       "      <td>39.485675</td>\n",
       "      <td>1315.293486</td>\n",
       "      <td>48.0</td>\n",
       "      <td>0.275527</td>\n",
       "      <td>0.961293</td>\n",
       "      <td>3.089862</td>\n",
       "      <td>6.600310</td>\n",
       "      <td>2.277019</td>\n",
       "      <td>15.029030</td>\n",
       "      <td>1</td>\n",
       "    </tr>\n",
       "  </tbody>\n",
       "</table>\n",
       "<p>27570 rows × 29 columns</p>\n",
       "</div>"
      ],
      "text/plain": [
       "       ObjectID  FrameIndex  Coord_X_Mea  Coord_Y_Mea  Coord_Z_Mea  \\\n",
       "0             2           2    39.217675   -30.201676          0.0   \n",
       "1             2           3    38.131678   -26.305282          0.0   \n",
       "2             2           4    38.095683   -29.978346          0.0   \n",
       "3             2           5    38.115216   -26.293926          0.0   \n",
       "4             2           6    36.958699   -29.715557          0.0   \n",
       "...         ...         ...          ...          ...          ...   \n",
       "27565       299        1976    33.745075    92.713833          0.0   \n",
       "27566       299        1977    33.239692    91.325304          0.0   \n",
       "27567       299        1978    33.275824    91.424574          0.0   \n",
       "27568       299        1979    32.309959    88.770883          0.0   \n",
       "27569       299        1980    32.304487    88.755847          0.0   \n",
       "\n",
       "       Distance_Mea  Longitude_Mea  Latitude_Mea  Elevation_Mea  Coord_X_Est  \\\n",
       "0         49.499164    -119.736285     39.484605    1316.037503    39.217675   \n",
       "1         46.324861    -119.736300     39.484640    1316.062044    38.132721   \n",
       "2         48.476616    -119.736298     39.484607    1316.099255    38.095687   \n",
       "3         46.304862    -119.736300     39.484640    1316.062872    38.115167   \n",
       "4         47.423199    -119.736312     39.484609    1316.161484    36.959752   \n",
       "...             ...            ...           ...            ...          ...   \n",
       "27565     98.664000    -119.736427     39.485712    1315.173629    33.746004   \n",
       "27566     97.186359    -119.736432     39.485699    1315.215674    33.240150   \n",
       "27567     97.292000    -119.736431     39.485700    1315.212668    33.275744   \n",
       "27568     94.468000    -119.736441     39.485675    1315.293023    32.310820   \n",
       "27569     94.452000    -119.736441     39.485675    1315.293478    32.304393   \n",
       "\n",
       "       ...  Latitude_Est  Elevation_Est  Point_Cnt  Dir_X_Bbox  Dir_Y_Bbox  \\\n",
       "0      ...     39.484605    1316.037503      102.0    0.841271   -0.540614   \n",
       "1      ...     39.484640    1316.062020      135.0    0.998495   -0.054851   \n",
       "2      ...     39.484607    1316.099220      115.0    0.989753   -0.142788   \n",
       "3      ...     39.484640    1316.062909      142.0    0.140813    0.990036   \n",
       "4      ...     39.484609    1316.161392      120.0    0.984801   -0.173689   \n",
       "...    ...           ...            ...        ...         ...         ...   \n",
       "27565  ...     39.485712    1315.173552       47.0    0.342020    0.939693   \n",
       "27566  ...     39.485699    1315.215636       49.0    0.342021    0.939692   \n",
       "27567  ...     39.485700    1315.212675       49.0    0.244420    0.969669   \n",
       "27568  ...     39.485675    1315.292951       49.0    0.342020    0.939692   \n",
       "27569  ...     39.485675    1315.293486       48.0    0.275527    0.961293   \n",
       "\n",
       "         Height    Length     Width       Area  Class  \n",
       "0      1.693463  5.433165  3.386867  18.401407      1  \n",
       "1      1.684646  4.966858  4.893590  24.305769      1  \n",
       "2      1.669520  4.980577  1.715877   8.546059      1  \n",
       "3      1.679414  5.237076  4.974253  26.050539      1  \n",
       "4      1.636131  4.940226  1.739250   8.592288      1  \n",
       "...         ...       ...       ...        ...    ...  \n",
       "27565  3.286137  6.436378  2.449080  15.763207      1  \n",
       "27566  3.238534  5.008243  2.670043  13.372225      1  \n",
       "27567  3.188976  6.458226  2.362188  15.255545      1  \n",
       "27568  3.137046  6.463741  2.563366  16.568932      1  \n",
       "27569  3.089862  6.600310  2.277019  15.029030      1  \n",
       "\n",
       "[27570 rows x 29 columns]"
      ]
     },
     "execution_count": 151,
     "metadata": {},
     "output_type": "execute_result"
    }
   ],
   "source": [
    "pd.concat([data,pd.DataFrame(y_pred.reshape(-1,1),columns=['Class'])],axis = 1)"
   ]
  },
  {
   "cell_type": "code",
   "execution_count": 152,
   "id": "5129fe34",
   "metadata": {},
   "outputs": [],
   "source": [
    "def process_traj_data(data):\n",
    "    data_test = data.loc[:,['ObjectID','Distance_Mea','Point_Cnt','Dir_X_Bbox','Height','Length','Area']]\n",
    "    data_temp = []\n",
    "    for i,df in data_test.groupby('ObjectID'):\n",
    "        df.Length = df.Length.max()\n",
    "        data_temp.append(df)\n",
    "    data_temp = pd.concat(data_temp)\n",
    "    return data_temp"
   ]
  },
  {
   "cell_type": "code",
   "execution_count": null,
   "id": "608d4f4f",
   "metadata": {},
   "outputs": [],
   "source": [
    "def get_classified_traj(processed_data):\n",
    "    "
   ]
  }
 ],
 "metadata": {
  "kernelspec": {
   "display_name": "Python 3 (ipykernel)",
   "language": "python",
   "name": "python3"
  },
  "language_info": {
   "codemirror_mode": {
    "name": "ipython",
    "version": 3
   },
   "file_extension": ".py",
   "mimetype": "text/x-python",
   "name": "python",
   "nbconvert_exporter": "python",
   "pygments_lexer": "ipython3",
   "version": "3.8.11"
  }
 },
 "nbformat": 4,
 "nbformat_minor": 5
}
